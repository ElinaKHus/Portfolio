{
 "cells": [
  {
   "cell_type": "markdown",
   "metadata": {
    "id": "E0vqbgi9ay0H"
   },
   "source": [
    "# Яндекс.Музыка"
   ]
  },
  {
   "cell_type": "markdown",
   "metadata": {
    "id": "VUC88oWjTJw2"
   },
   "source": [
    "Сравнение Москвы и Петербурга окружено мифами. Например:\n",
    " * Москва — мегаполис, подчинённый жёсткому ритму рабочей недели;\n",
    " * Петербург — культурная столица, со своими вкусами.\n",
    "\n",
    "На данных Яндекс.Музыки вы сравните поведение пользователей двух столиц.\n",
    "\n",
    "**Цель исследования** — проверить три гипотезы:\n",
    "1. Активность пользователей зависит от дня недели. Причём в Москве и Петербурге это проявляется по-разному.\n",
    "2. В понедельник утром в Москве преобладают одни жанры, а в Петербурге — другие. Так же и вечером пятницы преобладают разные жанры — в зависимости от города. \n",
    "3. Москва и Петербург предпочитают разные жанры музыки. В Москве чаще слушают поп-музыку, в Петербурге — русский рэп.\n",
    "\n",
    "**Ход исследования**\n",
    "\n",
    "Данные о поведении пользователей мы получим из файла `yandex_music_project.csv`. О качестве данных ничего не известно. Поэтому перед проверкой гипотез понадобится обзор данных. \n",
    "\n",
    "Проверим данные на ошибки и оценим их влияние на исследование. Затем, на этапе предобработки найдем возможность исправить самые критичные ошибки данных.\n",
    " \n",
    "Таким образом, исследование пройдёт в три этапа:\n",
    " 1. Обзор данных.\n",
    " 2. Предобработка данных.\n",
    " 3. Проверка гипотез.\n",
    "\n"
   ]
  },
  {
   "cell_type": "markdown",
   "metadata": {
    "id": "Ml1hmfXC_Zcs"
   },
   "source": [
    "## Обзор данных\n",
    "\n",
    "Составим первое представление о данных Яндекс.Музыки.\n",
    "\n",
    "\n"
   ]
  },
  {
   "cell_type": "markdown",
   "metadata": {
    "id": "57eAOGIz_Zcs"
   },
   "source": [
    "Основной инструмент аналитика — `pandas`. Импортируем эту библиотеку."
   ]
  },
  {
   "cell_type": "code",
   "execution_count": 1,
   "metadata": {
    "id": "AXN7PHPN_Zcs"
   },
   "outputs": [],
   "source": [
    "import pandas as pd # импорт библиотеки pandas"
   ]
  },
  {
   "cell_type": "markdown",
   "metadata": {
    "id": "SG23P8tt_Zcs"
   },
   "source": [
    "Прочитаем файл `yandex_music_project.csv` из папки `/datasets` и сохраним его в переменной `df`:"
   ]
  },
  {
   "cell_type": "code",
   "execution_count": 2,
   "metadata": {
    "id": "fFVu7vqh_Zct"
   },
   "outputs": [],
   "source": [
    "df = pd.read_csv('/datasets/yandex_music_project.csv') # чтение файла с данными и сохранение в df"
   ]
  },
  {
   "cell_type": "markdown",
   "metadata": {
    "id": "rDoOMd3uTqnZ"
   },
   "source": [
    "Выведем на экран первые десять строк таблицы:"
   ]
  },
  {
   "cell_type": "code",
   "execution_count": 3,
   "metadata": {
    "id": "oWTVX3gW_Zct",
    "scrolled": false
   },
   "outputs": [
    {
     "data": {
      "text/html": [
       "<div>\n",
       "<style scoped>\n",
       "    .dataframe tbody tr th:only-of-type {\n",
       "        vertical-align: middle;\n",
       "    }\n",
       "\n",
       "    .dataframe tbody tr th {\n",
       "        vertical-align: top;\n",
       "    }\n",
       "\n",
       "    .dataframe thead th {\n",
       "        text-align: right;\n",
       "    }\n",
       "</style>\n",
       "<table border=\"1\" class=\"dataframe\">\n",
       "  <thead>\n",
       "    <tr style=\"text-align: right;\">\n",
       "      <th></th>\n",
       "      <th>userID</th>\n",
       "      <th>Track</th>\n",
       "      <th>artist</th>\n",
       "      <th>genre</th>\n",
       "      <th>City</th>\n",
       "      <th>time</th>\n",
       "      <th>Day</th>\n",
       "    </tr>\n",
       "  </thead>\n",
       "  <tbody>\n",
       "    <tr>\n",
       "      <th>0</th>\n",
       "      <td>FFB692EC</td>\n",
       "      <td>Kamigata To Boots</td>\n",
       "      <td>The Mass Missile</td>\n",
       "      <td>rock</td>\n",
       "      <td>Saint-Petersburg</td>\n",
       "      <td>20:28:33</td>\n",
       "      <td>Wednesday</td>\n",
       "    </tr>\n",
       "    <tr>\n",
       "      <th>1</th>\n",
       "      <td>55204538</td>\n",
       "      <td>Delayed Because of Accident</td>\n",
       "      <td>Andreas Rönnberg</td>\n",
       "      <td>rock</td>\n",
       "      <td>Moscow</td>\n",
       "      <td>14:07:09</td>\n",
       "      <td>Friday</td>\n",
       "    </tr>\n",
       "    <tr>\n",
       "      <th>2</th>\n",
       "      <td>20EC38</td>\n",
       "      <td>Funiculì funiculà</td>\n",
       "      <td>Mario Lanza</td>\n",
       "      <td>pop</td>\n",
       "      <td>Saint-Petersburg</td>\n",
       "      <td>20:58:07</td>\n",
       "      <td>Wednesday</td>\n",
       "    </tr>\n",
       "    <tr>\n",
       "      <th>3</th>\n",
       "      <td>A3DD03C9</td>\n",
       "      <td>Dragons in the Sunset</td>\n",
       "      <td>Fire + Ice</td>\n",
       "      <td>folk</td>\n",
       "      <td>Saint-Petersburg</td>\n",
       "      <td>08:37:09</td>\n",
       "      <td>Monday</td>\n",
       "    </tr>\n",
       "    <tr>\n",
       "      <th>4</th>\n",
       "      <td>E2DC1FAE</td>\n",
       "      <td>Soul People</td>\n",
       "      <td>Space Echo</td>\n",
       "      <td>dance</td>\n",
       "      <td>Moscow</td>\n",
       "      <td>08:34:34</td>\n",
       "      <td>Monday</td>\n",
       "    </tr>\n",
       "    <tr>\n",
       "      <th>5</th>\n",
       "      <td>842029A1</td>\n",
       "      <td>Преданная</td>\n",
       "      <td>IMPERVTOR</td>\n",
       "      <td>rusrap</td>\n",
       "      <td>Saint-Petersburg</td>\n",
       "      <td>13:09:41</td>\n",
       "      <td>Friday</td>\n",
       "    </tr>\n",
       "    <tr>\n",
       "      <th>6</th>\n",
       "      <td>4CB90AA5</td>\n",
       "      <td>True</td>\n",
       "      <td>Roman Messer</td>\n",
       "      <td>dance</td>\n",
       "      <td>Moscow</td>\n",
       "      <td>13:00:07</td>\n",
       "      <td>Wednesday</td>\n",
       "    </tr>\n",
       "    <tr>\n",
       "      <th>7</th>\n",
       "      <td>F03E1C1F</td>\n",
       "      <td>Feeling This Way</td>\n",
       "      <td>Polina Griffith</td>\n",
       "      <td>dance</td>\n",
       "      <td>Moscow</td>\n",
       "      <td>20:47:49</td>\n",
       "      <td>Wednesday</td>\n",
       "    </tr>\n",
       "    <tr>\n",
       "      <th>8</th>\n",
       "      <td>8FA1D3BE</td>\n",
       "      <td>И вновь продолжается бой</td>\n",
       "      <td>NaN</td>\n",
       "      <td>ruspop</td>\n",
       "      <td>Moscow</td>\n",
       "      <td>09:17:40</td>\n",
       "      <td>Friday</td>\n",
       "    </tr>\n",
       "    <tr>\n",
       "      <th>9</th>\n",
       "      <td>E772D5C0</td>\n",
       "      <td>Pessimist</td>\n",
       "      <td>NaN</td>\n",
       "      <td>dance</td>\n",
       "      <td>Saint-Petersburg</td>\n",
       "      <td>21:20:49</td>\n",
       "      <td>Wednesday</td>\n",
       "    </tr>\n",
       "  </tbody>\n",
       "</table>\n",
       "</div>"
      ],
      "text/plain": [
       "     userID                        Track            artist   genre  \\\n",
       "0  FFB692EC            Kamigata To Boots  The Mass Missile    rock   \n",
       "1  55204538  Delayed Because of Accident  Andreas Rönnberg    rock   \n",
       "2    20EC38            Funiculì funiculà       Mario Lanza     pop   \n",
       "3  A3DD03C9        Dragons in the Sunset        Fire + Ice    folk   \n",
       "4  E2DC1FAE                  Soul People        Space Echo   dance   \n",
       "5  842029A1                    Преданная         IMPERVTOR  rusrap   \n",
       "6  4CB90AA5                         True      Roman Messer   dance   \n",
       "7  F03E1C1F             Feeling This Way   Polina Griffith   dance   \n",
       "8  8FA1D3BE     И вновь продолжается бой               NaN  ruspop   \n",
       "9  E772D5C0                    Pessimist               NaN   dance   \n",
       "\n",
       "             City        time        Day  \n",
       "0  Saint-Petersburg  20:28:33  Wednesday  \n",
       "1            Moscow  14:07:09     Friday  \n",
       "2  Saint-Petersburg  20:58:07  Wednesday  \n",
       "3  Saint-Petersburg  08:37:09     Monday  \n",
       "4            Moscow  08:34:34     Monday  \n",
       "5  Saint-Petersburg  13:09:41     Friday  \n",
       "6            Moscow  13:00:07  Wednesday  \n",
       "7            Moscow  20:47:49  Wednesday  \n",
       "8            Moscow  09:17:40     Friday  \n",
       "9  Saint-Petersburg  21:20:49  Wednesday  "
      ]
     },
     "metadata": {},
     "output_type": "display_data"
    }
   ],
   "source": [
    "display(df.head(10)) # получение первых 10 строк таблицы df"
   ]
  },
  {
   "cell_type": "markdown",
   "metadata": {
    "id": "EO73Kwic_Zct"
   },
   "source": [
    "Одной командой получим общую информацию о таблице:"
   ]
  },
  {
   "cell_type": "code",
   "execution_count": 4,
   "metadata": {
    "id": "DSf2kIb-_Zct",
    "scrolled": false
   },
   "outputs": [
    {
     "name": "stdout",
     "output_type": "stream",
     "text": [
      "<class 'pandas.core.frame.DataFrame'>\n",
      "RangeIndex: 65079 entries, 0 to 65078\n",
      "Data columns (total 7 columns):\n",
      " #   Column    Non-Null Count  Dtype \n",
      "---  ------    --------------  ----- \n",
      " 0     userID  65079 non-null  object\n",
      " 1   Track     63848 non-null  object\n",
      " 2   artist    57876 non-null  object\n",
      " 3   genre     63881 non-null  object\n",
      " 4     City    65079 non-null  object\n",
      " 5   time      65079 non-null  object\n",
      " 6   Day       65079 non-null  object\n",
      "dtypes: object(7)\n",
      "memory usage: 3.5+ MB\n"
     ]
    }
   ],
   "source": [
    "df.info() # получение общей информации о данных в таблице df"
   ]
  },
  {
   "cell_type": "markdown",
   "metadata": {
    "id": "TaQ2Iwbr_Zct"
   },
   "source": [
    "Итак, в таблице семь столбцов. Тип данных во всех столбцах — `object`.\n",
    "\n",
    "Согласно документации к данным:\n",
    "* `userID` — идентификатор пользователя;\n",
    "* `Track` — название трека;  \n",
    "* `artist` — имя исполнителя;\n",
    "* `genre` — название жанра;\n",
    "* `City` — город пользователя;\n",
    "* `time` — время начала прослушивания;\n",
    "* `Day` — день недели.\n",
    "\n",
    "В названиях колонок видны три нарушения стиля:\n",
    "1. Строчные буквы сочетаются с прописными.\n",
    "2. Встречаются пробелы.\n",
    "3. Найдите ещё одну проблему в названии колонок и опишите её в этом пункте. \n",
    "   Если имя состоит из нескольких слов, из пишут через _. 'user_id'\n",
    "\n",
    "\n",
    "\n",
    "Количество значений в столбцах различается. Значит, в данных есть пропущенные значения.\n"
   ]
  },
  {
   "cell_type": "markdown",
   "metadata": {
    "id": "MCB6-dXG_Zct"
   },
   "source": [
    "**Выводы**\n",
    "\n",
    "В каждой строке таблицы — данные о прослушанном треке. Часть колонок описывает саму композицию: название, исполнителя и жанр. Остальные данные рассказывают о пользователе: из какого он города, когда он слушал музыку. \n",
    "\n",
    "Предварительно можно утверждать, что, данных достаточно для проверки гипотез. Но встречаются пропуски в данных, а в названиях колонок — расхождения с хорошим стилем.\n",
    "\n",
    "Чтобы двигаться дальше, нужно устранить проблемы в данных."
   ]
  },
  {
   "cell_type": "markdown",
   "metadata": {
    "id": "SjYF6Ub9_Zct"
   },
   "source": [
    "## Предобработка данных\n",
    "Исправим стиль в заголовках столбцов, исключим пропуски. Затем проверим данные на дубликаты."
   ]
  },
  {
   "cell_type": "markdown",
   "metadata": {
    "id": "dIaKXr29_Zct"
   },
   "source": [
    "### Стиль заголовков\n",
    "Посмотрим на экране названия столбцов:"
   ]
  },
  {
   "cell_type": "code",
   "execution_count": 5,
   "metadata": {
    "id": "oKOTdF_Q_Zct",
    "scrolled": false
   },
   "outputs": [
    {
     "name": "stdout",
     "output_type": "stream",
     "text": [
      "Index(['  userID', 'Track', 'artist', 'genre', '  City  ', 'time', 'Day'], dtype='object')\n"
     ]
    }
   ],
   "source": [
    "print(df.columns) # перечень названий столбцов таблицы df"
   ]
  },
  {
   "cell_type": "markdown",
   "metadata": {
    "id": "zj5534cv_Zct"
   },
   "source": [
    "Приведем названия в соответствие с хорошим стилем:\n",
    "* несколько слов в названии запишем в «змеином_регистре»,\n",
    "* все символы сделаем строчными,\n",
    "* устраним пробелы.\n",
    "\n",
    "Для этого переименуем колонки так:\n",
    "* `'  userID'` → `'user_id'`;\n",
    "* `'Track'` → `'track'`;\n",
    "* `'  City  '` → `'city'`;\n",
    "* `'Day'` → `'day'`."
   ]
  },
  {
   "cell_type": "code",
   "execution_count": 6,
   "metadata": {
    "id": "ISlFqs5y_Zct"
   },
   "outputs": [],
   "source": [
    "df = df.rename(columns={'  userID':'user_id', 'Track':'track', '  City  ':'city', 'Day':'day'})         # переименование столбцов"
   ]
  },
  {
   "cell_type": "markdown",
   "metadata": {
    "id": "1dqbh00J_Zct"
   },
   "source": [
    "Проверим результат. Для этого ещё раз посмотрим на экране названия столбцов:"
   ]
  },
  {
   "cell_type": "code",
   "execution_count": 7,
   "metadata": {
    "id": "d4NOAmTW_Zct"
   },
   "outputs": [
    {
     "name": "stdout",
     "output_type": "stream",
     "text": [
      "Index(['user_id', 'track', 'artist', 'genre', 'city', 'time', 'day'], dtype='object')\n"
     ]
    }
   ],
   "source": [
    "print(df.columns) # проверка результатов - перечень названий столбцов"
   ]
  },
  {
   "cell_type": "markdown",
   "metadata": {
    "id": "5ISfbcfY_Zct"
   },
   "source": [
    "### Пропуски значений\n",
    "Сначала посчитаем, сколько в таблице пропущенных значений. Для этого достаточно двух методов `pandas`:"
   ]
  },
  {
   "cell_type": "code",
   "execution_count": 8,
   "metadata": {
    "id": "RskX29qr_Zct",
    "scrolled": false
   },
   "outputs": [
    {
     "name": "stdout",
     "output_type": "stream",
     "text": [
      "user_id       0\n",
      "track      1231\n",
      "artist     7203\n",
      "genre      1198\n",
      "city          0\n",
      "time          0\n",
      "day           0\n",
      "dtype: int64\n"
     ]
    }
   ],
   "source": [
    "print(df.isna().sum()) # подсчёт пропусков"
   ]
  },
  {
   "cell_type": "markdown",
   "metadata": {
    "id": "qubhgnlO_Zct"
   },
   "source": [
    "Не все пропущенные значения влияют на исследование. Так в `track` и `artist` пропуски не важны для нашей работы. Достаточно заменить их явными обозначениями.\n",
    "\n",
    "Но пропуски в `genre` могут помешать сравнению музыкальных вкусов в Москве и Санкт-Петербурге. На практике было бы правильно установить причину пропусков и восстановить данные. Такой возможности нет в учебном проекте. Придётся:\n",
    "* заполнить и эти пропуски явными обозначениями,\n",
    "* оценить, насколько они повредят расчётам. "
   ]
  },
  {
   "cell_type": "markdown",
   "metadata": {
    "id": "fSv2laPA_Zct"
   },
   "source": [
    "Заменим пропущенные значения в столбцах `track`, `artist` и `genre` на строку `'unknown'`. Для этого создадим список `columns_to_replace`, переберем его элементы циклом `for` и для каждого столбца выполним замену пропущенных значений:"
   ]
  },
  {
   "cell_type": "code",
   "execution_count": 9,
   "metadata": {
    "id": "KplB5qWs_Zct"
   },
   "outputs": [],
   "source": [
    "columns_to_replace = ['track', 'artist', 'genre']\n",
    "for column in columns_to_replace:\n",
    "    df[columns_to_replace] = df[columns_to_replace].fillna('unknown') # перебор названий столбцов в цикле и замена пропущенных значений на 'unknown'"
   ]
  },
  {
   "cell_type": "markdown",
   "metadata": {
    "id": "Ilsm-MZo_Zct"
   },
   "source": [
    "Убедимся, что в таблице не осталось пропусков. Для этого ещё раз посчитаем пропущенные значения."
   ]
  },
  {
   "cell_type": "code",
   "execution_count": 10,
   "metadata": {
    "id": "Tq4nYRX4_Zct",
    "scrolled": false
   },
   "outputs": [
    {
     "name": "stdout",
     "output_type": "stream",
     "text": [
      "user_id    0\n",
      "track      0\n",
      "artist     0\n",
      "genre      0\n",
      "city       0\n",
      "time       0\n",
      "day        0\n",
      "dtype: int64\n"
     ]
    }
   ],
   "source": [
    "print(df.isna().sum()) # подсчёт пропусков"
   ]
  },
  {
   "cell_type": "markdown",
   "metadata": {
    "id": "BWKRtBJ3_Zct"
   },
   "source": [
    "### Дубликаты\n",
    "Посчитаем явные дубликаты в таблице одной командой:"
   ]
  },
  {
   "cell_type": "code",
   "execution_count": 11,
   "metadata": {
    "id": "36eES_S0_Zct"
   },
   "outputs": [
    {
     "data": {
      "text/plain": [
       "3826"
      ]
     },
     "execution_count": 11,
     "metadata": {},
     "output_type": "execute_result"
    }
   ],
   "source": [
    "df.duplicated().sum() # подсчёт явных дубликатов"
   ]
  },
  {
   "cell_type": "markdown",
   "metadata": {
    "id": "Ot25h6XR_Zct"
   },
   "source": [
    "Вызовим специальный метод `pandas`, чтобы удалить явные дубликаты:"
   ]
  },
  {
   "cell_type": "code",
   "execution_count": 12,
   "metadata": {
    "id": "exFHq6tt_Zct"
   },
   "outputs": [],
   "source": [
    "df = df.drop_duplicates() # удаление явных дубликатов (с удалением старых индексов и формированием новых)"
   ]
  },
  {
   "cell_type": "markdown",
   "metadata": {
    "id": "Im2YwBEG_Zct"
   },
   "source": [
    "Ещё раз посчитаем явные дубликаты в таблице — убедимся, что полностью от них избавились:"
   ]
  },
  {
   "cell_type": "code",
   "execution_count": 13,
   "metadata": {
    "id": "-8PuNWQ0_Zct",
    "scrolled": true
   },
   "outputs": [
    {
     "data": {
      "text/plain": [
       "0"
      ]
     },
     "execution_count": 13,
     "metadata": {},
     "output_type": "execute_result"
    }
   ],
   "source": [
    "df.duplicated().sum() # проверка на отсутствие дубликатов"
   ]
  },
  {
   "cell_type": "markdown",
   "metadata": {
    "id": "QlFBsxAr_Zct"
   },
   "source": [
    "Теперь избавимся от неявных дубликатов в колонке `genre`. Например, название одного и того же жанра может быть записано немного по-разному. Такие ошибки тоже повлияют на результат исследования."
   ]
  },
  {
   "cell_type": "markdown",
   "metadata": {
    "id": "eSjWwsOh_Zct"
   },
   "source": [
    "Выведем на экран список уникальных названий жанров, отсортированный в алфавитном порядке. Для этого:\n",
    "* извлечем нужный столбец датафрейма, \n",
    "* применим к нему метод сортировки,\n",
    "* для отсортированного столбца вызовем метод, который вернёт уникальные значения из столбца."
   ]
  },
  {
   "cell_type": "code",
   "execution_count": 14,
   "metadata": {
    "id": "JIUcqzZN_Zct",
    "scrolled": false
   },
   "outputs": [
    {
     "data": {
      "text/plain": [
       "array(['acid', 'acoustic', 'action', 'adult', 'africa', 'afrikaans',\n",
       "       'alternative', 'alternativepunk', 'ambient', 'americana',\n",
       "       'animated', 'anime', 'arabesk', 'arabic', 'arena',\n",
       "       'argentinetango', 'art', 'audiobook', 'author', 'avantgarde',\n",
       "       'axé', 'baile', 'balkan', 'beats', 'bigroom', 'black', 'bluegrass',\n",
       "       'blues', 'bollywood', 'bossa', 'brazilian', 'breakbeat', 'breaks',\n",
       "       'broadway', 'cantautori', 'cantopop', 'canzone', 'caribbean',\n",
       "       'caucasian', 'celtic', 'chamber', 'chanson', 'children', 'chill',\n",
       "       'chinese', 'choral', 'christian', 'christmas', 'classical',\n",
       "       'classicmetal', 'club', 'colombian', 'comedy', 'conjazz',\n",
       "       'contemporary', 'country', 'cuban', 'dance', 'dancehall',\n",
       "       'dancepop', 'dark', 'death', 'deep', 'deutschrock', 'deutschspr',\n",
       "       'dirty', 'disco', 'dnb', 'documentary', 'downbeat', 'downtempo',\n",
       "       'drum', 'dub', 'dubstep', 'eastern', 'easy', 'electronic',\n",
       "       'electropop', 'emo', 'entehno', 'epicmetal', 'estrada', 'ethnic',\n",
       "       'eurofolk', 'european', 'experimental', 'extrememetal', 'fado',\n",
       "       'fairytail', 'film', 'fitness', 'flamenco', 'folk', 'folklore',\n",
       "       'folkmetal', 'folkrock', 'folktronica', 'forró', 'frankreich',\n",
       "       'französisch', 'french', 'funk', 'future', 'gangsta', 'garage',\n",
       "       'german', 'ghazal', 'gitarre', 'glitch', 'gospel', 'gothic',\n",
       "       'grime', 'grunge', 'gypsy', 'handsup', \"hard'n'heavy\", 'hardcore',\n",
       "       'hardstyle', 'hardtechno', 'hip', 'hip-hop', 'hiphop',\n",
       "       'historisch', 'holiday', 'hop', 'horror', 'house', 'hymn', 'idm',\n",
       "       'independent', 'indian', 'indie', 'indipop', 'industrial',\n",
       "       'inspirational', 'instrumental', 'international', 'irish', 'jam',\n",
       "       'japanese', 'jazz', 'jewish', 'jpop', 'jungle', 'k-pop',\n",
       "       'karadeniz', 'karaoke', 'kayokyoku', 'korean', 'laiko', 'latin',\n",
       "       'latino', 'leftfield', 'local', 'lounge', 'loungeelectronic',\n",
       "       'lovers', 'malaysian', 'mandopop', 'marschmusik', 'meditative',\n",
       "       'mediterranean', 'melodic', 'metal', 'metalcore', 'mexican',\n",
       "       'middle', 'minimal', 'miscellaneous', 'modern', 'mood', 'mpb',\n",
       "       'muslim', 'native', 'neoklassik', 'neue', 'new', 'newage',\n",
       "       'newwave', 'nu', 'nujazz', 'numetal', 'oceania', 'old', 'opera',\n",
       "       'orchestral', 'other', 'piano', 'podcasts', 'pop', 'popdance',\n",
       "       'popelectronic', 'popeurodance', 'poprussian', 'post',\n",
       "       'posthardcore', 'postrock', 'power', 'progmetal', 'progressive',\n",
       "       'psychedelic', 'punjabi', 'punk', 'quebecois', 'ragga', 'ram',\n",
       "       'rancheras', 'rap', 'rave', 'reggae', 'reggaeton', 'regional',\n",
       "       'relax', 'religious', 'retro', 'rhythm', 'rnb', 'rnr', 'rock',\n",
       "       'rockabilly', 'rockalternative', 'rockindie', 'rockother',\n",
       "       'romance', 'roots', 'ruspop', 'rusrap', 'rusrock', 'russian',\n",
       "       'salsa', 'samba', 'scenic', 'schlager', 'self', 'sertanejo',\n",
       "       'shanson', 'shoegazing', 'showtunes', 'singer', 'ska', 'skarock',\n",
       "       'slow', 'smooth', 'soft', 'soul', 'soulful', 'sound', 'soundtrack',\n",
       "       'southern', 'specialty', 'speech', 'spiritual', 'sport',\n",
       "       'stonerrock', 'surf', 'swing', 'synthpop', 'synthrock',\n",
       "       'sängerportrait', 'tango', 'tanzorchester', 'taraftar', 'tatar',\n",
       "       'tech', 'techno', 'teen', 'thrash', 'top', 'traditional',\n",
       "       'tradjazz', 'trance', 'tribal', 'trip', 'triphop', 'tropical',\n",
       "       'türk', 'türkçe', 'ukrrock', 'unknown', 'urban', 'uzbek',\n",
       "       'variété', 'vi', 'videogame', 'vocal', 'western', 'world',\n",
       "       'worldbeat', 'ïîï', 'электроника'], dtype=object)"
      ]
     },
     "metadata": {},
     "output_type": "display_data"
    }
   ],
   "source": [
    "display(df['genre'].sort_values().unique())\n",
    "\n",
    "# Просмотр уникальных названий жанров"
   ]
  },
  {
   "cell_type": "markdown",
   "metadata": {
    "id": "qej-Qmuo_Zct"
   },
   "source": [
    "Просмотрим список и найдем неявные дубликаты названия `hiphop`. Это могут быть названия с ошибками или альтернативные названия того же жанра.\n",
    "\n",
    "Увидим следующие неявные дубликаты:\n",
    "* *hip*,\n",
    "* *hop*,\n",
    "* *hip-hop*.\n",
    "\n",
    "Чтобы очистить от них таблицу, напишем функцию `replace_wrong_genres()` с двумя параметрами: \n",
    "* `wrong_genres` — список дубликатов,\n",
    "* `correct_genre` — строка с правильным значением.\n",
    "\n",
    "Функция должна исправить колонку `genre` в таблице `df`: заменить каждое значение из списка `wrong_genres` на значение из `correct_genre`."
   ]
  },
  {
   "cell_type": "code",
   "execution_count": 15,
   "metadata": {
    "id": "ErNDkmns_Zct"
   },
   "outputs": [],
   "source": [
    "def replace_wrong_genres(wrong_genres, correct_genre):\n",
    "    for wrong_genre in wrong_genres:\n",
    "        df['genre'] = df['genre'].replace(wrong_genre, correct_genre) \n",
    " # Функция для замены неявных дубликатов"
   ]
  },
  {
   "cell_type": "markdown",
   "metadata": {
    "id": "aDoBJxbA_Zct"
   },
   "source": [
    "Вызовим `replace_wrong_genres()` и передадим ей такие аргументы, чтобы она устранила неявные дубликаты: вместо `hip`, `hop` и `hip-hop` в таблице должно быть значение `hiphop`:"
   ]
  },
  {
   "cell_type": "code",
   "execution_count": 16,
   "metadata": {
    "id": "YN5i2hpmSo09"
   },
   "outputs": [],
   "source": [
    "wrong_genres = ['hip', 'hop', 'hip-hop'] \n",
    "correct_genre = 'hiphop'\n",
    "replace_wrong_genres(wrong_genres, correct_genre)# Устранение неявных дубликатов"
   ]
  },
  {
   "cell_type": "markdown",
   "metadata": {
    "id": "zQKF16_RG15m"
   },
   "source": [
    "Проверим, что заменили неправильные названия:\n",
    "\n",
    "*   hip\n",
    "*   hop\n",
    "*   hip-hop\n",
    "\n",
    "Выведим отсортированный список уникальных значений столбца `genre`:"
   ]
  },
  {
   "cell_type": "code",
   "execution_count": 17,
   "metadata": {
    "id": "wvixALnFG15m",
    "scrolled": false
   },
   "outputs": [
    {
     "data": {
      "text/plain": [
       "array(['acid', 'acoustic', 'action', 'adult', 'africa', 'afrikaans',\n",
       "       'alternative', 'alternativepunk', 'ambient', 'americana',\n",
       "       'animated', 'anime', 'arabesk', 'arabic', 'arena',\n",
       "       'argentinetango', 'art', 'audiobook', 'author', 'avantgarde',\n",
       "       'axé', 'baile', 'balkan', 'beats', 'bigroom', 'black', 'bluegrass',\n",
       "       'blues', 'bollywood', 'bossa', 'brazilian', 'breakbeat', 'breaks',\n",
       "       'broadway', 'cantautori', 'cantopop', 'canzone', 'caribbean',\n",
       "       'caucasian', 'celtic', 'chamber', 'chanson', 'children', 'chill',\n",
       "       'chinese', 'choral', 'christian', 'christmas', 'classical',\n",
       "       'classicmetal', 'club', 'colombian', 'comedy', 'conjazz',\n",
       "       'contemporary', 'country', 'cuban', 'dance', 'dancehall',\n",
       "       'dancepop', 'dark', 'death', 'deep', 'deutschrock', 'deutschspr',\n",
       "       'dirty', 'disco', 'dnb', 'documentary', 'downbeat', 'downtempo',\n",
       "       'drum', 'dub', 'dubstep', 'eastern', 'easy', 'electronic',\n",
       "       'electropop', 'emo', 'entehno', 'epicmetal', 'estrada', 'ethnic',\n",
       "       'eurofolk', 'european', 'experimental', 'extrememetal', 'fado',\n",
       "       'fairytail', 'film', 'fitness', 'flamenco', 'folk', 'folklore',\n",
       "       'folkmetal', 'folkrock', 'folktronica', 'forró', 'frankreich',\n",
       "       'französisch', 'french', 'funk', 'future', 'gangsta', 'garage',\n",
       "       'german', 'ghazal', 'gitarre', 'glitch', 'gospel', 'gothic',\n",
       "       'grime', 'grunge', 'gypsy', 'handsup', \"hard'n'heavy\", 'hardcore',\n",
       "       'hardstyle', 'hardtechno', 'hiphop', 'historisch', 'holiday',\n",
       "       'horror', 'house', 'hymn', 'idm', 'independent', 'indian', 'indie',\n",
       "       'indipop', 'industrial', 'inspirational', 'instrumental',\n",
       "       'international', 'irish', 'jam', 'japanese', 'jazz', 'jewish',\n",
       "       'jpop', 'jungle', 'k-pop', 'karadeniz', 'karaoke', 'kayokyoku',\n",
       "       'korean', 'laiko', 'latin', 'latino', 'leftfield', 'local',\n",
       "       'lounge', 'loungeelectronic', 'lovers', 'malaysian', 'mandopop',\n",
       "       'marschmusik', 'meditative', 'mediterranean', 'melodic', 'metal',\n",
       "       'metalcore', 'mexican', 'middle', 'minimal', 'miscellaneous',\n",
       "       'modern', 'mood', 'mpb', 'muslim', 'native', 'neoklassik', 'neue',\n",
       "       'new', 'newage', 'newwave', 'nu', 'nujazz', 'numetal', 'oceania',\n",
       "       'old', 'opera', 'orchestral', 'other', 'piano', 'podcasts', 'pop',\n",
       "       'popdance', 'popelectronic', 'popeurodance', 'poprussian', 'post',\n",
       "       'posthardcore', 'postrock', 'power', 'progmetal', 'progressive',\n",
       "       'psychedelic', 'punjabi', 'punk', 'quebecois', 'ragga', 'ram',\n",
       "       'rancheras', 'rap', 'rave', 'reggae', 'reggaeton', 'regional',\n",
       "       'relax', 'religious', 'retro', 'rhythm', 'rnb', 'rnr', 'rock',\n",
       "       'rockabilly', 'rockalternative', 'rockindie', 'rockother',\n",
       "       'romance', 'roots', 'ruspop', 'rusrap', 'rusrock', 'russian',\n",
       "       'salsa', 'samba', 'scenic', 'schlager', 'self', 'sertanejo',\n",
       "       'shanson', 'shoegazing', 'showtunes', 'singer', 'ska', 'skarock',\n",
       "       'slow', 'smooth', 'soft', 'soul', 'soulful', 'sound', 'soundtrack',\n",
       "       'southern', 'specialty', 'speech', 'spiritual', 'sport',\n",
       "       'stonerrock', 'surf', 'swing', 'synthpop', 'synthrock',\n",
       "       'sängerportrait', 'tango', 'tanzorchester', 'taraftar', 'tatar',\n",
       "       'tech', 'techno', 'teen', 'thrash', 'top', 'traditional',\n",
       "       'tradjazz', 'trance', 'tribal', 'trip', 'triphop', 'tropical',\n",
       "       'türk', 'türkçe', 'ukrrock', 'unknown', 'urban', 'uzbek',\n",
       "       'variété', 'vi', 'videogame', 'vocal', 'western', 'world',\n",
       "       'worldbeat', 'ïîï', 'электроника'], dtype=object)"
      ]
     },
     "metadata": {},
     "output_type": "display_data"
    }
   ],
   "source": [
    "display(df['genre'].sort_values().unique()) # Проверка на неявные дубликаты"
   ]
  },
  {
   "cell_type": "markdown",
   "metadata": {
    "id": "jz6a9-7HQUDd"
   },
   "source": [
    "**Выводы**\n",
    "\n",
    "Предобработка обнаружила три проблемы в данных:\n",
    "\n",
    "- нарушения в стиле заголовков,\n",
    "- пропущенные значения,\n",
    "- дубликаты — явные и неявные.\n",
    "\n",
    "Мы исправили заголовки, чтобы упростить работу с таблицей. Без дубликатов исследование станет более точным.\n",
    "\n",
    "Пропущенные значения мы заменили на `'unknown'`. Ещё предстоит увидеть, не повредят ли исследованию пропуски в колонке `genre`.\n",
    "\n",
    "Теперь можно перейти к проверке гипотез. "
   ]
  },
  {
   "cell_type": "markdown",
   "metadata": {
    "id": "WttZHXH0SqKk"
   },
   "source": [
    "## Проверка гипотез"
   ]
  },
  {
   "cell_type": "markdown",
   "metadata": {
    "id": "Im936VVi_Zcu"
   },
   "source": [
    "### Сравнение поведения пользователей двух столиц"
   ]
  },
  {
   "cell_type": "markdown",
   "metadata": {
    "id": "nwt_MuaL_Zcu"
   },
   "source": [
    "Первая гипотеза утверждает, что пользователи по-разному слушают музыку в Москве и Санкт-Петербурге. Проверим это предположение по данным о трёх днях недели — понедельнике, среде и пятнице. Для этого:\n",
    "\n",
    "* Разделим пользователей Москвы и Санкт-Петербурга\n",
    "* Сравним, сколько треков послушала каждая группа пользователей в понедельник, среду и пятницу.\n"
   ]
  },
  {
   "cell_type": "markdown",
   "metadata": {
    "id": "8Dw_YMmT_Zcu"
   },
   "source": [
    "Для тренировки сначала выполним каждый из расчётов по отдельности. \n",
    "\n",
    "Оценим активность пользователей в каждом городе. Сгруппируем данные по городу и посчитаем прослушивания в каждой группе.\n",
    "\n"
   ]
  },
  {
   "cell_type": "code",
   "execution_count": 18,
   "metadata": {
    "id": "0_Qs96oh_Zcu",
    "scrolled": true
   },
   "outputs": [
    {
     "name": "stdout",
     "output_type": "stream",
     "text": [
      "city\n",
      "Moscow              42741\n",
      "Saint-Petersburg    18512\n",
      "Name: user_id, dtype: int64\n"
     ]
    }
   ],
   "source": [
    "city_grouping = df.groupby('city')['user_id']\n",
    "city_counting = city_grouping.count() # Подсчёт прослушиваний в каждом городе\n",
    "print(city_counting)"
   ]
  },
  {
   "cell_type": "markdown",
   "metadata": {
    "id": "dzli3w8o_Zcu"
   },
   "source": [
    "В Москве прослушиваний больше, чем в Петербурге. Из этого не следует, что московские пользователи чаще слушают музыку. Просто самих пользователей в Москве больше.\n",
    "\n",
    "Теперь сгруппируйте данные по дню недели и подсчитаем прослушивания в понедельник, среду и пятницу. Необходимо учесть, что в данных есть информация только о прослушиваниях только за эти дни.\n"
   ]
  },
  {
   "cell_type": "code",
   "execution_count": 19,
   "metadata": {
    "id": "uZMKjiJz_Zcu",
    "scrolled": true
   },
   "outputs": [
    {
     "name": "stdout",
     "output_type": "stream",
     "text": [
      "day\n",
      "Friday       21840\n",
      "Monday       21354\n",
      "Wednesday    18059\n",
      "Name: day, dtype: int64\n"
     ]
    }
   ],
   "source": [
    "day_grouping = df.groupby('day')['day']\n",
    "day_counting = day_grouping.count() \n",
    "print(day_counting) # Подсчёт прослушиваний в каждый из трёх дней"
   ]
  },
  {
   "cell_type": "markdown",
   "metadata": {
    "id": "cC2tNrlL_Zcu"
   },
   "source": [
    "Таким образом, в среднем пользователи из двух городов менее активны по средам. Но картина может измениться, если рассмотреть каждый город в отдельности."
   ]
  },
  {
   "cell_type": "markdown",
   "metadata": {
    "id": "POzs8bGa_Zcu"
   },
   "source": [
    "Мы видели, как работает группировка по городу и по дням недели. Теперь напишем функцию, которая объединит два эти расчёта.\n",
    "\n",
    "Создадим функцию `number_tracks()`, которая посчитает прослушивания для заданного дня и города. Ей понадобятся два параметра:\n",
    "* день недели,\n",
    "* название города.\n",
    "\n",
    "В функции сохраним в переменную строки исходной таблицы, у которых значение:\n",
    "  * в колонке `day` равно параметру `day`,\n",
    "  * в колонке `city` равно параметру `city`.\n",
    "\n",
    "Для этого применим последовательную фильтрацию с логической индексацией.\n",
    "\n",
    "Затем посчитаем значения в столбце `user_id` получившейся таблицы. Результат сохраним в новую переменную. Вернем эту переменную из функции."
   ]
  },
  {
   "cell_type": "code",
   "execution_count": 20,
   "metadata": {
    "id": "Nz3GdQB1_Zcu"
   },
   "outputs": [],
   "source": [
    "def number_tracks(day, city): # <создание функции number_tracks()># Объявляется функция с двумя параметрами: day, city.\n",
    "    track_list = df[df['day']==day] \n",
    "    track_list = track_list[track_list['city']==city]# В переменной track_list сохраняются те строки таблицы df, для которых \n",
    "# значение в столбце 'day' равно параметру day и одновременно значение\n",
    "# в столбце 'city' равно параметру city (используйте последовательную фильтрацию\n",
    "# с помощью логической индексации).\n",
    "    track_list_count = track_list['user_id'].count() # В переменной track_list_count сохраняется число значений столбца 'user_id',\n",
    "# рассчитанное методом count() для таблицы track_list.\n",
    "    return track_list_count # Функция возвращает число - значение track_list_count.\n",
    "\n",
    "# Функция для подсчёта прослушиваний для конкретного города и дня.\n",
    "# С помощью последовательной фильтрации с логической индексацией она \n",
    "# сначала получит из исходной таблицы строки с нужным днём,\n",
    "# затем из результата отфильтрует строки с нужным городом,\n",
    "# методом count() посчитает количество значений в колонке user_id. \n",
    "# Это количество функция вернёт в качестве результата"
   ]
  },
  {
   "cell_type": "markdown",
   "metadata": {
    "id": "ytf7xFrFJQ2r"
   },
   "source": [
    "Вызовим `number_tracks()` шесть раз, меняя значение параметров — так, чтобы получить данные для каждого города в каждый из трёх дней."
   ]
  },
  {
   "cell_type": "code",
   "execution_count": 21,
   "metadata": {
    "id": "rJcRATNQ_Zcu"
   },
   "outputs": [
    {
     "data": {
      "text/plain": [
       "15740"
      ]
     },
     "execution_count": 21,
     "metadata": {},
     "output_type": "execute_result"
    }
   ],
   "source": [
    "number_tracks('Monday', 'Moscow') # количество прослушиваний в Москве по понедельникам"
   ]
  },
  {
   "cell_type": "code",
   "execution_count": 22,
   "metadata": {
    "id": "hq_ncZ5T_Zcu",
    "scrolled": false
   },
   "outputs": [
    {
     "data": {
      "text/plain": [
       "5614"
      ]
     },
     "execution_count": 22,
     "metadata": {},
     "output_type": "execute_result"
    }
   ],
   "source": [
    "number_tracks('Monday', 'Saint-Petersburg')# количество прослушиваний в Санкт-Петербурге по понедельникам"
   ]
  },
  {
   "cell_type": "code",
   "execution_count": 23,
   "metadata": {
    "id": "_NTy2VPU_Zcu",
    "scrolled": false
   },
   "outputs": [
    {
     "data": {
      "text/plain": [
       "11056"
      ]
     },
     "execution_count": 23,
     "metadata": {},
     "output_type": "execute_result"
    }
   ],
   "source": [
    "number_tracks('Wednesday', 'Moscow')# количество прослушиваний в Москве по средам"
   ]
  },
  {
   "cell_type": "code",
   "execution_count": 24,
   "metadata": {
    "id": "j2y3TAwo_Zcu",
    "scrolled": true
   },
   "outputs": [
    {
     "data": {
      "text/plain": [
       "7003"
      ]
     },
     "execution_count": 24,
     "metadata": {},
     "output_type": "execute_result"
    }
   ],
   "source": [
    "number_tracks('Wednesday', 'Saint-Petersburg')# количество прослушиваний в Санкт-Петербурге по средам"
   ]
  },
  {
   "cell_type": "code",
   "execution_count": 25,
   "metadata": {
    "id": "vYDw5u_K_Zcu",
    "scrolled": false
   },
   "outputs": [
    {
     "data": {
      "text/plain": [
       "15945"
      ]
     },
     "execution_count": 25,
     "metadata": {},
     "output_type": "execute_result"
    }
   ],
   "source": [
    "number_tracks('Friday', 'Moscow')# количество прослушиваний в Москве по пятницам"
   ]
  },
  {
   "cell_type": "code",
   "execution_count": 26,
   "metadata": {
    "id": "8_yzFtW3_Zcu",
    "scrolled": true
   },
   "outputs": [
    {
     "data": {
      "text/plain": [
       "5895"
      ]
     },
     "execution_count": 26,
     "metadata": {},
     "output_type": "execute_result"
    }
   ],
   "source": [
    "number_tracks('Friday', 'Saint-Petersburg')# количество прослушиваний в Санкт-Петербурге по пятницам"
   ]
  },
  {
   "cell_type": "markdown",
   "metadata": {
    "id": "7QXffbO-_Zcu"
   },
   "source": [
    "Создадим c помощью конструктора `pd.DataFrame` таблицу, где\n",
    "* названия колонок — `['city', 'monday', 'wednesday', 'friday']`;\n",
    "* данные — результаты, которые вы получили с помощью `number_tracks`."
   ]
  },
  {
   "cell_type": "code",
   "execution_count": 27,
   "metadata": {
    "id": "APAcLpOr_Zcu"
   },
   "outputs": [
    {
     "data": {
      "text/html": [
       "<div>\n",
       "<style scoped>\n",
       "    .dataframe tbody tr th:only-of-type {\n",
       "        vertical-align: middle;\n",
       "    }\n",
       "\n",
       "    .dataframe tbody tr th {\n",
       "        vertical-align: top;\n",
       "    }\n",
       "\n",
       "    .dataframe thead th {\n",
       "        text-align: right;\n",
       "    }\n",
       "</style>\n",
       "<table border=\"1\" class=\"dataframe\">\n",
       "  <thead>\n",
       "    <tr style=\"text-align: right;\">\n",
       "      <th></th>\n",
       "      <th>city</th>\n",
       "      <th>monday</th>\n",
       "      <th>wednesday</th>\n",
       "      <th>friday</th>\n",
       "    </tr>\n",
       "  </thead>\n",
       "  <tbody>\n",
       "    <tr>\n",
       "      <th>0</th>\n",
       "      <td>Moscow</td>\n",
       "      <td>15740</td>\n",
       "      <td>11056</td>\n",
       "      <td>15945</td>\n",
       "    </tr>\n",
       "    <tr>\n",
       "      <th>1</th>\n",
       "      <td>Saint-Petersburg</td>\n",
       "      <td>5614</td>\n",
       "      <td>7003</td>\n",
       "      <td>5895</td>\n",
       "    </tr>\n",
       "  </tbody>\n",
       "</table>\n",
       "</div>"
      ],
      "text/plain": [
       "               city  monday  wednesday  friday\n",
       "0            Moscow   15740      11056   15945\n",
       "1  Saint-Petersburg    5614       7003    5895"
      ]
     },
     "metadata": {},
     "output_type": "display_data"
    }
   ],
   "source": [
    "data = [\n",
    "    ['Moscow', 15740, 11056, 15945],\n",
    "    ['Saint-Petersburg', 5614, 7003, 5895]\n",
    "]\n",
    "columns = ['city', 'monday', 'wednesday', 'friday']\n",
    "playlist = pd.DataFrame(data=data, columns=columns)\n",
    "display(playlist) # Таблица с результатами"
   ]
  },
  {
   "cell_type": "markdown",
   "metadata": {
    "id": "-EgPIHYu_Zcu"
   },
   "source": [
    "**Выводы**\n",
    "\n",
    "Данные показывают разницу поведения пользователей:\n",
    "\n",
    "- В Москве пик прослушиваний приходится на понедельник и пятницу, а в среду заметен спад.\n",
    "- В Петербурге, наоборот, больше слушают музыку по средам. Активность в понедельник и пятницу здесь почти в равной мере уступает среде.\n",
    "\n",
    "Значит, данные говорят в пользу первой гипотезы."
   ]
  },
  {
   "cell_type": "markdown",
   "metadata": {
    "id": "atZAxtq4_Zcu"
   },
   "source": [
    "### Музыка в начале и в конце недели"
   ]
  },
  {
   "cell_type": "markdown",
   "metadata": {
    "id": "eXrQqXFH_Zcu"
   },
   "source": [
    "Согласно второй гипотезе, утром в понедельник в Москве преобладают одни жанры, а в Петербурге — другие. Так же и вечером пятницы преобладают разные жанры — в зависимости от города."
   ]
  },
  {
   "cell_type": "markdown",
   "metadata": {
    "id": "S8UcW6Hw_Zcu"
   },
   "source": [
    "Сохраним таблицы с данными в две переменные:\n",
    "* по Москве — в `moscow_general`;\n",
    "* по Санкт-Петербургу — в `spb_general`."
   ]
  },
  {
   "cell_type": "code",
   "execution_count": 28,
   "metadata": {
    "id": "qeaFfM_P_Zcu"
   },
   "outputs": [],
   "source": [
    "moscow_general = df[df['city'] == 'Moscow']# получение таблицы moscow_general из тех строк таблицы df, \n",
    "# для которых значение в столбце 'city' равно 'Moscow'\n"
   ]
  },
  {
   "cell_type": "code",
   "execution_count": 29,
   "metadata": {
    "id": "ORaVRKto_Zcu"
   },
   "outputs": [],
   "source": [
    "spb_general = df[df['city'] == 'Saint-Petersburg']# получение таблицы spb_general из тех строк таблицы df,\n",
    "# для которых значение в столбце 'city' равно 'Saint-Petersburg'\n"
   ]
  },
  {
   "cell_type": "markdown",
   "metadata": {
    "id": "MEJV-CX2_Zcu"
   },
   "source": [
    "Создадим функцию `genre_weekday()` с четырьмя параметрами:\n",
    "* таблица (датафрейм) с данными,\n",
    "* день недели,\n",
    "* начальная временная метка в формате 'hh:mm', \n",
    "* последняя временная метка в формате 'hh:mm'.\n",
    "\n",
    "Функция должна вернуть информацию о топ-10 жанров тех треков, которые прослушивали в указанный день, в промежутке между двумя отметками времени."
   ]
  },
  {
   "cell_type": "code",
   "execution_count": 30,
   "metadata": {
    "id": "laJT9BYl_Zcu"
   },
   "outputs": [],
   "source": [
    "def genre_weekday(table, day, time1, time2):\n",
    "# Объявление функции genre_weekday() с параметрами table, day, time1, time2,\n",
    "# которая возвращает информацию о самых популярных жанрах в указанный день в\n",
    "# заданное время:\n",
    "    genre_df = table[table['day'] == day]\n",
    "    genre_df = genre_df[genre_df['time'] > time1]\n",
    "    genre_df = genre_df[genre_df['time'] < time2]\n",
    "    # 1) в переменную genre_df сохраняются те строки переданного датафрейма table, для\n",
    "#    которых одновременно:\n",
    "#    - значение в столбце day равно значению аргумента day\n",
    "#    - значение в столбце time больше значения аргумента time1\n",
    "#    - значение в столбце time меньше значения аргумента time2\n",
    "#    Используйте последовательную фильтрацию с помощью логической индексации.\n",
    "    genre_df_count = genre_df.groupby('genre')['genre'].count() # 2) сгруппировать датафрейм genre_df по столбцу genre, взять один из его\n",
    "#    столбцов и посчитать методом count() количество записей для каждого из\n",
    "#    присутствующих жанров, получившийся Series записать в переменную\n",
    "#    genre_df_count\n",
    "    genre_df_sorted = genre_df_count.sort_values(ascending=False)# 3) отсортировать genre_df_count по убыванию встречаемости и сохранить\n",
    "#    в переменную genre_df_sorted\n",
    "    return genre_df_sorted.head(10)# 4) вернуть Series из 10 первых значений genre_df_sorted, это будут топ-10\n",
    "#    популярных жанров (в указанный день, в заданное время)"
   ]
  },
  {
   "cell_type": "markdown",
   "metadata": {
    "id": "la2s2_PF_Zcu"
   },
   "source": [
    "Cравним результаты функции `genre_weekday()` для Москвы и Санкт-Петербурга в понедельник утром (с 7:00 до 11:00) и в пятницу вечером (с 17:00 до 23:00):"
   ]
  },
  {
   "cell_type": "code",
   "execution_count": 31,
   "metadata": {
    "id": "yz7itPUQ_Zcu",
    "scrolled": true
   },
   "outputs": [
    {
     "data": {
      "text/plain": [
       "genre\n",
       "pop            781\n",
       "dance          549\n",
       "electronic     480\n",
       "rock           474\n",
       "hiphop         286\n",
       "ruspop         186\n",
       "world          181\n",
       "rusrap         175\n",
       "alternative    164\n",
       "unknown        161\n",
       "Name: genre, dtype: int64"
      ]
     },
     "execution_count": 31,
     "metadata": {},
     "output_type": "execute_result"
    }
   ],
   "source": [
    "genre_weekday(moscow_general, 'Monday', '07:00:00', '11:00:00') # вызов функции для утра понедельника в Москве (вместо df — таблица moscow_general)\n",
    "# объекты, хранящие время, являются строками и сравниваются как строки\n",
    "# пример вызова: genre_weekday(moscow_general, 'Monday', '07:00', '11:00')"
   ]
  },
  {
   "cell_type": "code",
   "execution_count": 32,
   "metadata": {
    "id": "kwUcHPdy_Zcu",
    "scrolled": false
   },
   "outputs": [
    {
     "data": {
      "text/plain": [
       "genre\n",
       "pop            218\n",
       "dance          182\n",
       "rock           162\n",
       "electronic     147\n",
       "hiphop          80\n",
       "ruspop          64\n",
       "alternative     58\n",
       "rusrap          55\n",
       "jazz            44\n",
       "classical       40\n",
       "Name: genre, dtype: int64"
      ]
     },
     "execution_count": 32,
     "metadata": {},
     "output_type": "execute_result"
    }
   ],
   "source": [
    "genre_weekday(spb_general, 'Monday', '07:00:00', '11:00:00')# вызов функции для утра понедельника в Петербурге (вместо df — таблица spb_general)"
   ]
  },
  {
   "cell_type": "code",
   "execution_count": 33,
   "metadata": {
    "id": "EzXVRE1o_Zcu",
    "scrolled": true
   },
   "outputs": [
    {
     "data": {
      "text/plain": [
       "genre\n",
       "pop            717\n",
       "dance          524\n",
       "rock           518\n",
       "electronic     485\n",
       "hiphop         238\n",
       "alternative    182\n",
       "classical      172\n",
       "world          172\n",
       "ruspop         149\n",
       "rusrap         133\n",
       "Name: genre, dtype: int64"
      ]
     },
     "execution_count": 33,
     "metadata": {},
     "output_type": "execute_result"
    }
   ],
   "source": [
    "genre_weekday(moscow_general, 'Monday', '17:00:00', '23:00:00')# вызов функции для вечера пятницы в Москве"
   ]
  },
  {
   "cell_type": "code",
   "execution_count": 34,
   "metadata": {
    "id": "JZaEKu5v_Zcu",
    "scrolled": true
   },
   "outputs": [
    {
     "data": {
      "text/plain": [
       "genre\n",
       "pop            263\n",
       "rock           208\n",
       "electronic     192\n",
       "dance          191\n",
       "hiphop         104\n",
       "alternative     72\n",
       "classical       71\n",
       "jazz            57\n",
       "rusrap          54\n",
       "ruspop          53\n",
       "Name: genre, dtype: int64"
      ]
     },
     "execution_count": 34,
     "metadata": {},
     "output_type": "execute_result"
    }
   ],
   "source": [
    "genre_weekday(spb_general, 'Monday', '17:00:00', '23:00:00')# вызов функции для вечера пятницы в Петербурге"
   ]
  },
  {
   "cell_type": "markdown",
   "metadata": {
    "id": "wrCe4MNX_Zcu"
   },
   "source": [
    "**Выводы**\n",
    "\n",
    "Если сравнить топ-10 жанров в понедельник утром, можно сделать такие выводы:\n",
    "\n",
    "1. В Москве и Петербурге слушают похожую музыку. Единственное отличие — в московский рейтинг вошёл жанр “world”, а в петербургский — джаз и классика.\n",
    "\n",
    "2. В Москве пропущенных значений оказалось так много, что значение `'unknown'` заняло десятое место среди самых популярных жанров. Значит, пропущенные значения занимают существенную долю в данных и угрожают достоверности исследования.\n",
    "\n",
    "Вечер пятницы не меняет эту картину. Некоторые жанры поднимаются немного выше, другие спускаются, но в целом топ-10 остаётся тем же самым.\n",
    "\n",
    "Таким образом, вторая гипотеза подтвердилась лишь частично:\n",
    "* Пользователи слушают похожую музыку в начале недели и в конце.\n",
    "* Разница между Москвой и Петербургом не слишком выражена. В Москве чаще слушают русскую популярную музыку, в Петербурге — джаз.\n",
    "\n",
    "Однако пропуски в данных ставят под сомнение этот результат. В Москве их так много, что рейтинг топ-10 мог бы выглядеть иначе, если бы не утерянные  данные о жанрах."
   ]
  },
  {
   "cell_type": "markdown",
   "metadata": {
    "id": "JolODAqr_Zcu"
   },
   "source": [
    "### Жанровые предпочтения в Москве и Петербурге\n",
    "\n",
    "Гипотеза: Петербург — столица рэпа, музыку этого жанра там слушают чаще, чем в Москве.  А Москва — город контрастов, в котором, тем не менее, преобладает поп-музыка."
   ]
  },
  {
   "cell_type": "markdown",
   "metadata": {
    "id": "DlegSvaT_Zcu"
   },
   "source": [
    "Сгруппируем таблицу `moscow_general` по жанру и посчитаем прослушивания треков каждого жанра методом `count()`. Затем отсортируем результат в порядке убывания и сохраним его в таблице `moscow_genres`."
   ]
  },
  {
   "cell_type": "code",
   "execution_count": 35,
   "metadata": {
    "id": "r19lIPke_Zcu"
   },
   "outputs": [],
   "source": [
    "moscow_genres = moscow_general.groupby('genre')['genre'].count().sort_values(ascending=False)# одной строкой: группировка таблицы moscow_general по столбцу 'genre', \n",
    "# подсчёт числа значений 'genre' в этой группировке методом count(), \n",
    "# сортировка получившегося Series в порядке убывания и сохранение в moscow_genres"
   ]
  },
  {
   "cell_type": "markdown",
   "metadata": {
    "id": "6kMuomxTiIr8"
   },
   "source": [
    "Выведем на экран первые десять строк `moscow_genres`:"
   ]
  },
  {
   "cell_type": "code",
   "execution_count": 36,
   "metadata": {
    "id": "WhCSooF8_Zcv"
   },
   "outputs": [
    {
     "data": {
      "text/plain": [
       "genre\n",
       "pop            5892\n",
       "dance          4435\n",
       "rock           3965\n",
       "electronic     3786\n",
       "hiphop         2096\n",
       "classical      1616\n",
       "world          1432\n",
       "alternative    1379\n",
       "ruspop         1372\n",
       "rusrap         1161\n",
       "Name: genre, dtype: int64"
      ]
     },
     "metadata": {},
     "output_type": "display_data"
    }
   ],
   "source": [
    "display(moscow_genres.head(10))# просмотр первых 10 строк moscow_genres"
   ]
  },
  {
   "cell_type": "markdown",
   "metadata": {
    "id": "cnPG2vnN_Zcv"
   },
   "source": [
    "Теперь повторим то же и для Петербурга.\n",
    "\n",
    "Сгруппируем таблицу `spb_general` по жанру. Посчитаем прослушивания треков каждого жанра. Результат отсортируем в порядке убывания и сохраним в таблице `spb_genres`:\n"
   ]
  },
  {
   "cell_type": "code",
   "execution_count": 37,
   "metadata": {
    "id": "gluLIpE7_Zcv"
   },
   "outputs": [],
   "source": [
    "spb_genres = spb_general.groupby('genre')['genre'].count().sort_values(ascending=False)# одной строкой: группировка таблицы spb_general по столбцу 'genre', \n",
    "# подсчёт числа значений 'genre' в этой группировке методом count(), \n",
    "# сортировка получившегося Series в порядке убывания и сохранение в spb_genres"
   ]
  },
  {
   "cell_type": "markdown",
   "metadata": {
    "id": "5Doha_ODgyQ8"
   },
   "source": [
    "Выведем на экран первые десять строк `spb_genres`:"
   ]
  },
  {
   "cell_type": "code",
   "execution_count": 38,
   "metadata": {
    "id": "uaGJHjVU_Zcv",
    "scrolled": true
   },
   "outputs": [
    {
     "data": {
      "text/plain": [
       "genre\n",
       "pop            2431\n",
       "dance          1932\n",
       "rock           1879\n",
       "electronic     1736\n",
       "hiphop          960\n",
       "alternative     649\n",
       "classical       646\n",
       "rusrap          564\n",
       "ruspop          538\n",
       "world           515\n",
       "Name: genre, dtype: int64"
      ]
     },
     "metadata": {},
     "output_type": "display_data"
    }
   ],
   "source": [
    "display(spb_genres.head(10))# просмотр первых 10 строк spb_genres"
   ]
  },
  {
   "cell_type": "markdown",
   "metadata": {
    "id": "RY51YJYu_Zcv"
   },
   "source": [
    "**Выводы**"
   ]
  },
  {
   "cell_type": "markdown",
   "metadata": {
    "id": "nVhnJEm__Zcv"
   },
   "source": [
    "Гипотеза частично подтвердилась:\n",
    "* Поп-музыка — самый популярный жанр в Москве, как и предполагала гипотеза. Более того, в топ-10 жанров встречается близкий жанр — русская популярная музыка.\n",
    "* Вопреки ожиданиям, рэп одинаково популярен в Москве и Петербурге. \n"
   ]
  },
  {
   "cell_type": "markdown",
   "metadata": {
    "id": "ykKQ0N65_Zcv"
   },
   "source": [
    "## Итоги исследования"
   ]
  },
  {
   "cell_type": "markdown",
   "metadata": {
    "id": "tjUwbHb3_Zcv"
   },
   "source": [
    "Мы проверили три гипотезы и установили:\n",
    "\n",
    "1. День недели по-разному влияет на активность пользователей в Москве и Петербурге. \n",
    "\n",
    "Первая гипотеза полностью подтвердилась.\n",
    "\n",
    "2. Музыкальные предпочтения не сильно меняются в течение недели — будь то Москва или Петербург. Небольшие различия заметны в начале недели, по понедельникам:\n",
    "* в Москве слушают музыку жанра “world”,\n",
    "* в Петербурге — джаз и классику.\n",
    "\n",
    "Таким образом, вторая гипотеза подтвердилась лишь отчасти. Этот результат мог оказаться иным, если бы не пропуски в данных.\n",
    "\n",
    "3. Во вкусах пользователей Москвы и Петербурга больше общего чем различий. Вопреки ожиданиям, предпочтения жанров в Петербурге напоминают московские.\n",
    "\n",
    "Третья гипотеза не подтвердилась. Если различия в предпочтениях и существуют, на основной массе пользователей они незаметны.\n",
    "\n"
   ]
  },
  {
   "cell_type": "code",
   "execution_count": null,
   "metadata": {},
   "outputs": [],
   "source": []
  }
 ],
 "metadata": {
  "ExecuteTimeLog": [
   {
    "duration": 567,
    "start_time": "2022-01-11T12:58:47.888Z"
   },
   {
    "duration": 123,
    "start_time": "2022-01-11T12:58:51.500Z"
   },
   {
    "duration": 118,
    "start_time": "2022-01-11T12:58:54.323Z"
   },
   {
    "duration": 115,
    "start_time": "2022-01-11T12:59:22.395Z"
   },
   {
    "duration": 16,
    "start_time": "2022-01-11T13:01:36.799Z"
   },
   {
    "duration": 4,
    "start_time": "2022-01-11T13:05:30.716Z"
   },
   {
    "duration": 20,
    "start_time": "2022-01-11T13:10:49.306Z"
   },
   {
    "duration": 3,
    "start_time": "2022-01-11T13:11:14.560Z"
   },
   {
    "duration": 36,
    "start_time": "2022-01-11T13:14:59.406Z"
   },
   {
    "duration": 109,
    "start_time": "2022-01-11T13:44:03.433Z"
   },
   {
    "duration": 48,
    "start_time": "2022-01-11T13:44:16.318Z"
   },
   {
    "duration": 20,
    "start_time": "2022-01-11T13:44:37.765Z"
   },
   {
    "duration": 10167,
    "start_time": "2022-01-11T13:45:21.437Z"
   },
   {
    "duration": -181035,
    "start_time": "2022-01-11T13:48:32.642Z"
   },
   {
    "duration": 482,
    "start_time": "2022-01-11T13:46:01.731Z"
   },
   {
    "duration": 52,
    "start_time": "2022-01-11T13:48:01.985Z"
   },
   {
    "duration": 20,
    "start_time": "2022-01-11T13:48:06.151Z"
   },
   {
    "duration": 51,
    "start_time": "2022-01-11T13:49:20.878Z"
   },
   {
    "duration": 56,
    "start_time": "2022-01-11T13:50:10.677Z"
   },
   {
    "duration": 64,
    "start_time": "2022-01-11T13:50:27.164Z"
   },
   {
    "duration": 375,
    "start_time": "2022-01-11T14:01:15.980Z"
   },
   {
    "duration": 37,
    "start_time": "2022-01-11T14:02:35.259Z"
   },
   {
    "duration": 39,
    "start_time": "2022-01-11T14:02:55.082Z"
   },
   {
    "duration": 3,
    "start_time": "2022-01-11T14:18:34.938Z"
   },
   {
    "duration": 401,
    "start_time": "2022-01-11T14:18:44.281Z"
   },
   {
    "duration": 14,
    "start_time": "2022-01-11T14:19:09.490Z"
   },
   {
    "duration": 5,
    "start_time": "2022-01-11T14:20:10.552Z"
   },
   {
    "duration": 3,
    "start_time": "2022-01-11T14:22:41.499Z"
   },
   {
    "duration": 650,
    "start_time": "2022-01-11T14:22:44.499Z"
   },
   {
    "duration": 895,
    "start_time": "2022-01-11T14:22:59.228Z"
   },
   {
    "duration": 4,
    "start_time": "2022-01-11T20:37:37.067Z"
   },
   {
    "duration": 420,
    "start_time": "2022-01-11T20:38:46.118Z"
   },
   {
    "duration": 3,
    "start_time": "2022-01-11T20:42:10.232Z"
   },
   {
    "duration": 375,
    "start_time": "2022-01-11T20:42:19.071Z"
   },
   {
    "duration": 2,
    "start_time": "2022-01-11T20:50:33.805Z"
   },
   {
    "duration": 344,
    "start_time": "2022-01-11T20:57:19.417Z"
   },
   {
    "duration": 349,
    "start_time": "2022-01-11T20:57:40.582Z"
   },
   {
    "duration": 339,
    "start_time": "2022-01-11T20:58:56.775Z"
   },
   {
    "duration": 408,
    "start_time": "2022-01-11T20:59:17.253Z"
   },
   {
    "duration": 382,
    "start_time": "2022-01-11T20:59:48.159Z"
   },
   {
    "duration": 640,
    "start_time": "2022-01-11T21:00:09.420Z"
   },
   {
    "duration": 143,
    "start_time": "2022-01-11T21:00:19.242Z"
   },
   {
    "duration": 19,
    "start_time": "2022-01-11T21:00:26.073Z"
   },
   {
    "duration": 24,
    "start_time": "2022-01-11T21:00:37.280Z"
   },
   {
    "duration": 3,
    "start_time": "2022-01-11T21:00:50.116Z"
   },
   {
    "duration": 26,
    "start_time": "2022-01-11T21:01:01.534Z"
   },
   {
    "duration": 3,
    "start_time": "2022-01-11T21:01:08.209Z"
   },
   {
    "duration": 21,
    "start_time": "2022-01-11T21:01:16.459Z"
   },
   {
    "duration": 70,
    "start_time": "2022-01-11T21:01:34.818Z"
   },
   {
    "duration": 20,
    "start_time": "2022-01-11T21:01:52.506Z"
   },
   {
    "duration": 80,
    "start_time": "2022-01-11T21:02:00.323Z"
   },
   {
    "duration": 53,
    "start_time": "2022-01-11T21:02:07.753Z"
   },
   {
    "duration": 53,
    "start_time": "2022-01-11T21:02:13.184Z"
   },
   {
    "duration": 37,
    "start_time": "2022-01-11T21:02:19.543Z"
   },
   {
    "duration": 3,
    "start_time": "2022-01-11T21:02:34.067Z"
   },
   {
    "duration": 9,
    "start_time": "2022-01-11T21:02:40.729Z"
   },
   {
    "duration": 6,
    "start_time": "2022-01-11T21:07:50.689Z"
   },
   {
    "duration": 49,
    "start_time": "2022-01-11T21:08:46.216Z"
   },
   {
    "duration": 43,
    "start_time": "2022-01-11T21:11:36.397Z"
   },
   {
    "duration": 73,
    "start_time": "2022-01-11T21:12:01.330Z"
   },
   {
    "duration": 45,
    "start_time": "2022-01-11T21:21:10.621Z"
   },
   {
    "duration": 9,
    "start_time": "2022-01-11T21:21:53.547Z"
   },
   {
    "duration": 76,
    "start_time": "2022-01-11T21:25:17.204Z"
   },
   {
    "duration": 3,
    "start_time": "2022-01-11T21:34:01.363Z"
   },
   {
    "duration": 40,
    "start_time": "2022-01-11T21:34:44.283Z"
   },
   {
    "duration": 4,
    "start_time": "2022-01-12T08:41:38.171Z"
   },
   {
    "duration": 424,
    "start_time": "2022-01-12T08:41:52.058Z"
   },
   {
    "duration": 207,
    "start_time": "2022-01-12T08:45:02.949Z"
   },
   {
    "duration": 573,
    "start_time": "2022-01-12T08:45:10.055Z"
   },
   {
    "duration": 137,
    "start_time": "2022-01-12T08:45:13.984Z"
   },
   {
    "duration": 16,
    "start_time": "2022-01-12T08:45:17.893Z"
   },
   {
    "duration": 25,
    "start_time": "2022-01-12T08:45:22.333Z"
   },
   {
    "duration": 3,
    "start_time": "2022-01-12T08:45:27.844Z"
   },
   {
    "duration": 23,
    "start_time": "2022-01-12T08:59:18.824Z"
   },
   {
    "duration": 21,
    "start_time": "2022-01-12T09:02:42.314Z"
   },
   {
    "duration": 3,
    "start_time": "2022-01-12T09:02:50.483Z"
   },
   {
    "duration": 21,
    "start_time": "2022-01-12T09:02:54.882Z"
   },
   {
    "duration": 52,
    "start_time": "2022-01-12T09:02:59.121Z"
   },
   {
    "duration": 23,
    "start_time": "2022-01-12T09:03:07.433Z"
   },
   {
    "duration": 55,
    "start_time": "2022-01-12T09:03:11.617Z"
   },
   {
    "duration": 62,
    "start_time": "2022-01-12T09:03:15.299Z"
   },
   {
    "duration": 49,
    "start_time": "2022-01-12T09:03:19.035Z"
   },
   {
    "duration": 45,
    "start_time": "2022-01-12T09:03:30.008Z"
   },
   {
    "duration": 3,
    "start_time": "2022-01-12T09:03:34.056Z"
   },
   {
    "duration": 13,
    "start_time": "2022-01-12T09:03:38.169Z"
   },
   {
    "duration": 41,
    "start_time": "2022-01-12T09:03:42.144Z"
   },
   {
    "duration": 10,
    "start_time": "2022-01-12T11:32:53.744Z"
   },
   {
    "duration": 9,
    "start_time": "2022-01-12T11:33:22.615Z"
   },
   {
    "duration": 10,
    "start_time": "2022-01-12T11:35:18.580Z"
   },
   {
    "duration": 11,
    "start_time": "2022-01-12T11:41:20.731Z"
   },
   {
    "duration": 639,
    "start_time": "2022-01-12T11:53:23.113Z"
   },
   {
    "duration": 183,
    "start_time": "2022-01-12T11:53:41.050Z"
   },
   {
    "duration": 185,
    "start_time": "2022-01-12T11:54:11.439Z"
   },
   {
    "duration": 15,
    "start_time": "2022-01-12T12:05:18.278Z"
   },
   {
    "duration": 9,
    "start_time": "2022-01-12T12:06:51.489Z"
   },
   {
    "duration": 11,
    "start_time": "2022-01-12T12:10:43.250Z"
   },
   {
    "duration": 187,
    "start_time": "2022-01-12T12:12:09.256Z"
   },
   {
    "duration": 173,
    "start_time": "2022-01-12T12:12:47.248Z"
   },
   {
    "duration": 4,
    "start_time": "2022-01-12T12:17:30.424Z"
   },
   {
    "duration": 4,
    "start_time": "2022-01-12T12:17:50.263Z"
   },
   {
    "duration": 11,
    "start_time": "2022-01-12T12:19:41.060Z"
   },
   {
    "duration": 3,
    "start_time": "2022-01-12T12:20:20.931Z"
   },
   {
    "duration": 4,
    "start_time": "2022-01-12T12:21:05.434Z"
   },
   {
    "duration": 10,
    "start_time": "2022-01-12T12:22:19.423Z"
   },
   {
    "duration": 4,
    "start_time": "2022-01-12T13:03:49.856Z"
   },
   {
    "duration": 5,
    "start_time": "2022-01-12T13:04:15.895Z"
   },
   {
    "duration": 182,
    "start_time": "2022-01-12T13:10:23.235Z"
   },
   {
    "duration": 205,
    "start_time": "2022-01-12T13:10:50.291Z"
   },
   {
    "duration": 17,
    "start_time": "2022-01-12T13:11:52.170Z"
   },
   {
    "duration": 17,
    "start_time": "2022-01-12T13:11:57.700Z"
   },
   {
    "duration": 15,
    "start_time": "2022-01-12T13:12:07.968Z"
   },
   {
    "duration": 14,
    "start_time": "2022-01-12T13:12:11.161Z"
   },
   {
    "duration": 19,
    "start_time": "2022-01-12T13:12:13.377Z"
   },
   {
    "duration": 17,
    "start_time": "2022-01-12T13:12:15.673Z"
   },
   {
    "duration": 245,
    "start_time": "2022-01-12T13:36:48.638Z"
   },
   {
    "duration": 516,
    "start_time": "2022-01-12T13:43:14.664Z"
   },
   {
    "duration": 141,
    "start_time": "2022-01-12T13:43:21.416Z"
   },
   {
    "duration": 20,
    "start_time": "2022-01-12T13:43:40.906Z"
   },
   {
    "duration": 210,
    "start_time": "2022-01-12T13:47:18.336Z"
   },
   {
    "duration": 191,
    "start_time": "2022-01-12T13:49:45.536Z"
   },
   {
    "duration": 31,
    "start_time": "2022-01-12T13:49:54.605Z"
   },
   {
    "duration": 3,
    "start_time": "2022-01-12T13:50:00.199Z"
   },
   {
    "duration": 19,
    "start_time": "2022-01-12T13:50:05.279Z"
   },
   {
    "duration": 3,
    "start_time": "2022-01-12T13:50:08.338Z"
   },
   {
    "duration": 21,
    "start_time": "2022-01-12T13:50:12.687Z"
   },
   {
    "duration": 64,
    "start_time": "2022-01-12T13:50:16.695Z"
   },
   {
    "duration": 21,
    "start_time": "2022-01-12T13:50:20.366Z"
   },
   {
    "duration": 48,
    "start_time": "2022-01-12T13:50:24.759Z"
   },
   {
    "duration": 60,
    "start_time": "2022-01-12T13:50:31.111Z"
   },
   {
    "duration": 44,
    "start_time": "2022-01-12T13:50:34.246Z"
   },
   {
    "duration": 38,
    "start_time": "2022-01-12T13:50:37.974Z"
   },
   {
    "duration": 4,
    "start_time": "2022-01-12T13:50:42.810Z"
   },
   {
    "duration": 9,
    "start_time": "2022-01-12T13:50:45.334Z"
   },
   {
    "duration": 37,
    "start_time": "2022-01-12T13:50:48.870Z"
   },
   {
    "duration": 9,
    "start_time": "2022-01-12T13:51:01.391Z"
   },
   {
    "duration": 9,
    "start_time": "2022-01-12T13:51:05.989Z"
   },
   {
    "duration": 3,
    "start_time": "2022-01-12T13:51:11.246Z"
   },
   {
    "duration": 14,
    "start_time": "2022-01-12T13:51:17.347Z"
   },
   {
    "duration": 15,
    "start_time": "2022-01-12T13:51:22.788Z"
   },
   {
    "duration": 14,
    "start_time": "2022-01-12T13:51:39.092Z"
   },
   {
    "duration": 13,
    "start_time": "2022-01-12T13:51:59.231Z"
   },
   {
    "duration": 17,
    "start_time": "2022-01-12T13:52:09.986Z"
   },
   {
    "duration": 13,
    "start_time": "2022-01-12T13:52:12.755Z"
   },
   {
    "duration": 12,
    "start_time": "2022-01-12T13:52:15.739Z"
   },
   {
    "duration": 17,
    "start_time": "2022-01-12T13:52:24.817Z"
   },
   {
    "duration": 249,
    "start_time": "2022-01-12T13:53:23.913Z"
   },
   {
    "duration": 8,
    "start_time": "2022-01-12T13:54:37.854Z"
   },
   {
    "duration": 9,
    "start_time": "2022-01-12T14:11:15.568Z"
   },
   {
    "duration": 8,
    "start_time": "2022-01-12T14:11:55.070Z"
   },
   {
    "duration": 7,
    "start_time": "2022-01-12T14:26:23.052Z"
   },
   {
    "duration": 12,
    "start_time": "2022-01-12T14:26:27.132Z"
   },
   {
    "duration": 9,
    "start_time": "2022-01-12T14:26:28.691Z"
   },
   {
    "duration": 7,
    "start_time": "2022-01-12T14:31:06.118Z"
   },
   {
    "duration": 4,
    "start_time": "2022-01-12T14:48:47.209Z"
   },
   {
    "duration": 4,
    "start_time": "2022-01-12T14:48:58.708Z"
   },
   {
    "duration": 238,
    "start_time": "2022-01-12T15:01:04.362Z"
   },
   {
    "duration": 12,
    "start_time": "2022-01-12T15:01:31.761Z"
   },
   {
    "duration": 9,
    "start_time": "2022-01-12T15:01:33.993Z"
   },
   {
    "duration": 4,
    "start_time": "2022-01-12T15:01:39.337Z"
   },
   {
    "duration": 186,
    "start_time": "2022-01-12T15:01:43.864Z"
   },
   {
    "duration": 22,
    "start_time": "2022-01-12T15:03:02.054Z"
   },
   {
    "duration": 16,
    "start_time": "2022-01-12T15:03:45.564Z"
   },
   {
    "duration": 24,
    "start_time": "2022-01-12T15:04:24.274Z"
   },
   {
    "duration": 15,
    "start_time": "2022-01-12T15:04:52.305Z"
   },
   {
    "duration": 48,
    "start_time": "2022-01-12T15:07:32.581Z"
   },
   {
    "duration": 18,
    "start_time": "2022-01-12T15:07:34.805Z"
   },
   {
    "duration": 45,
    "start_time": "2022-01-12T15:07:39.596Z"
   },
   {
    "duration": 47,
    "start_time": "2022-01-12T15:07:43.340Z"
   },
   {
    "duration": 44,
    "start_time": "2022-01-12T15:07:59.547Z"
   },
   {
    "duration": 2,
    "start_time": "2022-01-12T15:08:10.379Z"
   },
   {
    "duration": 114,
    "start_time": "2022-01-12T15:08:13.619Z"
   },
   {
    "duration": 9,
    "start_time": "2022-01-12T15:08:17.132Z"
   },
   {
    "duration": 20,
    "start_time": "2022-01-12T15:08:21.987Z"
   },
   {
    "duration": 2,
    "start_time": "2022-01-12T15:08:27.651Z"
   },
   {
    "duration": 19,
    "start_time": "2022-01-12T15:08:30.763Z"
   },
   {
    "duration": 3,
    "start_time": "2022-01-12T15:08:33.635Z"
   },
   {
    "duration": 20,
    "start_time": "2022-01-12T15:08:36.891Z"
   },
   {
    "duration": 50,
    "start_time": "2022-01-12T15:08:40.563Z"
   },
   {
    "duration": 19,
    "start_time": "2022-01-12T15:08:43.586Z"
   },
   {
    "duration": 47,
    "start_time": "2022-01-12T15:08:47.553Z"
   },
   {
    "duration": 55,
    "start_time": "2022-01-12T15:08:53.209Z"
   },
   {
    "duration": 49,
    "start_time": "2022-01-12T15:08:55.993Z"
   },
   {
    "duration": 36,
    "start_time": "2022-01-12T15:09:00.075Z"
   },
   {
    "duration": 2,
    "start_time": "2022-01-12T15:09:03.922Z"
   },
   {
    "duration": 8,
    "start_time": "2022-01-12T15:09:06.226Z"
   },
   {
    "duration": 37,
    "start_time": "2022-01-12T15:09:08.985Z"
   },
   {
    "duration": 9,
    "start_time": "2022-01-12T15:09:19.209Z"
   },
   {
    "duration": 10,
    "start_time": "2022-01-12T15:09:22.338Z"
   },
   {
    "duration": 3,
    "start_time": "2022-01-12T15:09:26.282Z"
   },
   {
    "duration": 15,
    "start_time": "2022-01-12T15:09:30.409Z"
   },
   {
    "duration": 14,
    "start_time": "2022-01-12T15:09:32.689Z"
   },
   {
    "duration": 13,
    "start_time": "2022-01-12T15:09:35.042Z"
   },
   {
    "duration": 12,
    "start_time": "2022-01-12T15:09:37.689Z"
   },
   {
    "duration": 15,
    "start_time": "2022-01-12T15:09:42.209Z"
   },
   {
    "duration": 14,
    "start_time": "2022-01-12T15:09:44.434Z"
   },
   {
    "duration": 13,
    "start_time": "2022-01-12T15:09:49.328Z"
   },
   {
    "duration": 10,
    "start_time": "2022-01-12T15:09:51.753Z"
   },
   {
    "duration": 4,
    "start_time": "2022-01-12T15:09:55.038Z"
   },
   {
    "duration": 22,
    "start_time": "2022-01-12T15:09:59.304Z"
   },
   {
    "duration": 15,
    "start_time": "2022-01-12T15:10:06.840Z"
   },
   {
    "duration": 24,
    "start_time": "2022-01-12T15:10:09.809Z"
   },
   {
    "duration": 17,
    "start_time": "2022-01-12T15:10:12.224Z"
   },
   {
    "duration": 7,
    "start_time": "2022-01-12T15:21:59.097Z"
   },
   {
    "duration": 4,
    "start_time": "2022-01-12T15:22:50.304Z"
   },
   {
    "duration": 6,
    "start_time": "2022-01-12T15:23:57.484Z"
   },
   {
    "duration": 4,
    "start_time": "2022-01-12T15:23:59.996Z"
   },
   {
    "duration": 7,
    "start_time": "2022-01-14T07:13:02.817Z"
   },
   {
    "duration": 6,
    "start_time": "2022-01-14T07:13:10.271Z"
   },
   {
    "duration": 452,
    "start_time": "2022-01-14T07:13:16.799Z"
   },
   {
    "duration": 384,
    "start_time": "2022-01-14T07:13:20.215Z"
   },
   {
    "duration": 829,
    "start_time": "2022-01-14T07:13:30.990Z"
   },
   {
    "duration": 210,
    "start_time": "2022-01-14T07:13:32.830Z"
   },
   {
    "duration": 28,
    "start_time": "2022-01-14T07:13:37.879Z"
   },
   {
    "duration": 33,
    "start_time": "2022-01-14T07:13:42.582Z"
   },
   {
    "duration": 5,
    "start_time": "2022-01-14T07:13:51.469Z"
   },
   {
    "duration": 29,
    "start_time": "2022-01-14T07:13:54.446Z"
   },
   {
    "duration": 5,
    "start_time": "2022-01-14T07:13:56.631Z"
   },
   {
    "duration": 29,
    "start_time": "2022-01-14T07:14:00.310Z"
   },
   {
    "duration": 93,
    "start_time": "2022-01-14T07:14:05.741Z"
   },
   {
    "duration": 29,
    "start_time": "2022-01-14T07:14:08.188Z"
   },
   {
    "duration": 86,
    "start_time": "2022-01-14T07:14:11.413Z"
   },
   {
    "duration": 97,
    "start_time": "2022-01-14T07:14:17.918Z"
   },
   {
    "duration": 83,
    "start_time": "2022-01-14T07:14:21.086Z"
   },
   {
    "duration": 59,
    "start_time": "2022-01-14T07:14:32.365Z"
   },
   {
    "duration": 5,
    "start_time": "2022-01-14T07:14:39.091Z"
   },
   {
    "duration": 15,
    "start_time": "2022-01-14T07:14:43.068Z"
   },
   {
    "duration": 59,
    "start_time": "2022-01-14T07:14:45.808Z"
   },
   {
    "duration": 15,
    "start_time": "2022-01-14T07:14:50.204Z"
   },
   {
    "duration": 15,
    "start_time": "2022-01-14T07:14:53.380Z"
   },
   {
    "duration": 5,
    "start_time": "2022-01-14T07:14:57.718Z"
   },
   {
    "duration": 22,
    "start_time": "2022-01-14T07:15:05.451Z"
   },
   {
    "duration": 21,
    "start_time": "2022-01-14T07:15:09.116Z"
   },
   {
    "duration": 21,
    "start_time": "2022-01-14T07:15:11.331Z"
   },
   {
    "duration": 28,
    "start_time": "2022-01-14T07:15:13.619Z"
   },
   {
    "duration": 22,
    "start_time": "2022-01-14T07:15:15.251Z"
   },
   {
    "duration": 22,
    "start_time": "2022-01-14T07:15:17.450Z"
   },
   {
    "duration": 13,
    "start_time": "2022-01-14T07:15:49.826Z"
   },
   {
    "duration": 16,
    "start_time": "2022-01-14T07:15:55.322Z"
   },
   {
    "duration": 12,
    "start_time": "2022-01-14T07:15:56.975Z"
   },
   {
    "duration": 6,
    "start_time": "2022-01-14T07:15:59.651Z"
   },
   {
    "duration": 27,
    "start_time": "2022-01-14T07:16:04.186Z"
   },
   {
    "duration": 19,
    "start_time": "2022-01-14T07:16:09.955Z"
   },
   {
    "duration": 24,
    "start_time": "2022-01-14T07:16:15.098Z"
   },
   {
    "duration": 18,
    "start_time": "2022-01-14T07:16:23.107Z"
   },
   {
    "duration": 13,
    "start_time": "2022-01-14T07:16:59.289Z"
   },
   {
    "duration": 7,
    "start_time": "2022-01-14T07:17:02.166Z"
   },
   {
    "duration": 8,
    "start_time": "2022-01-14T07:17:08.577Z"
   },
   {
    "duration": 7,
    "start_time": "2022-01-14T07:17:12.376Z"
   },
   {
    "duration": 396,
    "start_time": "2022-12-22T09:37:36.448Z"
   },
   {
    "duration": 517,
    "start_time": "2022-12-22T09:37:36.846Z"
   },
   {
    "duration": 17,
    "start_time": "2022-12-22T09:37:37.365Z"
   },
   {
    "duration": 29,
    "start_time": "2022-12-22T09:37:37.384Z"
   },
   {
    "duration": 14,
    "start_time": "2022-12-22T09:37:37.415Z"
   },
   {
    "duration": 31,
    "start_time": "2022-12-22T09:37:37.430Z"
   },
   {
    "duration": 6,
    "start_time": "2022-12-22T09:37:37.463Z"
   },
   {
    "duration": 28,
    "start_time": "2022-12-22T09:37:37.471Z"
   },
   {
    "duration": 78,
    "start_time": "2022-12-22T09:37:37.501Z"
   },
   {
    "duration": 0,
    "start_time": "2022-12-22T09:37:37.582Z"
   },
   {
    "duration": 0,
    "start_time": "2022-12-22T09:37:37.584Z"
   },
   {
    "duration": 0,
    "start_time": "2022-12-22T09:37:37.585Z"
   },
   {
    "duration": 0,
    "start_time": "2022-12-22T09:37:37.586Z"
   },
   {
    "duration": 0,
    "start_time": "2022-12-22T09:37:37.587Z"
   },
   {
    "duration": 0,
    "start_time": "2022-12-22T09:37:37.588Z"
   },
   {
    "duration": 0,
    "start_time": "2022-12-22T09:37:37.589Z"
   },
   {
    "duration": 0,
    "start_time": "2022-12-22T09:37:37.590Z"
   },
   {
    "duration": 0,
    "start_time": "2022-12-22T09:37:37.591Z"
   },
   {
    "duration": 0,
    "start_time": "2022-12-22T09:37:37.592Z"
   },
   {
    "duration": 0,
    "start_time": "2022-12-22T09:37:37.593Z"
   },
   {
    "duration": 0,
    "start_time": "2022-12-22T09:37:37.594Z"
   },
   {
    "duration": 0,
    "start_time": "2022-12-22T09:37:37.595Z"
   },
   {
    "duration": 0,
    "start_time": "2022-12-22T09:37:37.596Z"
   },
   {
    "duration": 0,
    "start_time": "2022-12-22T09:37:37.597Z"
   },
   {
    "duration": 0,
    "start_time": "2022-12-22T09:37:37.598Z"
   },
   {
    "duration": 0,
    "start_time": "2022-12-22T09:37:37.599Z"
   },
   {
    "duration": 0,
    "start_time": "2022-12-22T09:37:37.600Z"
   },
   {
    "duration": 0,
    "start_time": "2022-12-22T09:37:37.601Z"
   },
   {
    "duration": 0,
    "start_time": "2022-12-22T09:37:37.602Z"
   },
   {
    "duration": 0,
    "start_time": "2022-12-22T09:37:37.604Z"
   },
   {
    "duration": 0,
    "start_time": "2022-12-22T09:37:37.604Z"
   },
   {
    "duration": 0,
    "start_time": "2022-12-22T09:37:37.605Z"
   },
   {
    "duration": 0,
    "start_time": "2022-12-22T09:37:37.606Z"
   },
   {
    "duration": 0,
    "start_time": "2022-12-22T09:37:37.607Z"
   },
   {
    "duration": 0,
    "start_time": "2022-12-22T09:37:37.608Z"
   },
   {
    "duration": 0,
    "start_time": "2022-12-22T09:37:37.609Z"
   },
   {
    "duration": 0,
    "start_time": "2022-12-22T09:37:37.611Z"
   },
   {
    "duration": 0,
    "start_time": "2022-12-22T09:37:37.612Z"
   },
   {
    "duration": 0,
    "start_time": "2022-12-22T09:37:37.612Z"
   },
   {
    "duration": 410,
    "start_time": "2022-12-22T09:38:26.148Z"
   },
   {
    "duration": 180,
    "start_time": "2022-12-22T09:38:26.561Z"
   },
   {
    "duration": 19,
    "start_time": "2022-12-22T09:38:26.744Z"
   },
   {
    "duration": 29,
    "start_time": "2022-12-22T09:38:26.766Z"
   },
   {
    "duration": 39,
    "start_time": "2022-12-22T09:38:26.797Z"
   },
   {
    "duration": 19,
    "start_time": "2022-12-22T09:38:26.838Z"
   },
   {
    "duration": 8,
    "start_time": "2022-12-22T09:38:26.859Z"
   },
   {
    "duration": 24,
    "start_time": "2022-12-22T09:38:26.869Z"
   },
   {
    "duration": 64,
    "start_time": "2022-12-22T09:38:26.895Z"
   },
   {
    "duration": 22,
    "start_time": "2022-12-22T09:38:26.961Z"
   },
   {
    "duration": 92,
    "start_time": "2022-12-22T09:38:26.984Z"
   },
   {
    "duration": 89,
    "start_time": "2022-12-22T09:38:27.077Z"
   },
   {
    "duration": 77,
    "start_time": "2022-12-22T09:38:27.167Z"
   },
   {
    "duration": 36,
    "start_time": "2022-12-22T09:38:27.245Z"
   },
   {
    "duration": 3,
    "start_time": "2022-12-22T09:38:27.283Z"
   },
   {
    "duration": 43,
    "start_time": "2022-12-22T09:38:27.287Z"
   },
   {
    "duration": 53,
    "start_time": "2022-12-22T09:38:27.339Z"
   },
   {
    "duration": 15,
    "start_time": "2022-12-22T09:38:27.394Z"
   },
   {
    "duration": 28,
    "start_time": "2022-12-22T09:38:27.411Z"
   },
   {
    "duration": 30,
    "start_time": "2022-12-22T09:38:27.440Z"
   },
   {
    "duration": 40,
    "start_time": "2022-12-22T09:38:27.471Z"
   },
   {
    "duration": 52,
    "start_time": "2022-12-22T09:38:27.513Z"
   },
   {
    "duration": 28,
    "start_time": "2022-12-22T09:38:27.567Z"
   },
   {
    "duration": 15,
    "start_time": "2022-12-22T09:38:27.597Z"
   },
   {
    "duration": 42,
    "start_time": "2022-12-22T09:38:27.614Z"
   },
   {
    "duration": 20,
    "start_time": "2022-12-22T09:38:27.658Z"
   },
   {
    "duration": 11,
    "start_time": "2022-12-22T09:38:27.680Z"
   },
   {
    "duration": 25,
    "start_time": "2022-12-22T09:38:27.695Z"
   },
   {
    "duration": 40,
    "start_time": "2022-12-22T09:38:27.723Z"
   },
   {
    "duration": 6,
    "start_time": "2022-12-22T09:38:27.766Z"
   },
   {
    "duration": 36,
    "start_time": "2022-12-22T09:38:27.774Z"
   },
   {
    "duration": 43,
    "start_time": "2022-12-22T09:38:27.812Z"
   },
   {
    "duration": 19,
    "start_time": "2022-12-22T09:38:27.857Z"
   },
   {
    "duration": 13,
    "start_time": "2022-12-22T09:38:27.879Z"
   },
   {
    "duration": 23,
    "start_time": "2022-12-22T09:38:27.894Z"
   },
   {
    "duration": 23,
    "start_time": "2022-12-22T09:38:27.920Z"
   },
   {
    "duration": 20,
    "start_time": "2022-12-22T09:38:27.945Z"
   },
   {
    "duration": 10,
    "start_time": "2022-12-22T09:38:27.966Z"
   }
  ],
  "colab": {
   "collapsed_sections": [
    "E0vqbgi9ay0H",
    "VUC88oWjTJw2"
   ],
   "name": "yandex_music_project_2021.2.ipynb",
   "provenance": []
  },
  "kernelspec": {
   "display_name": "Python 3 (ipykernel)",
   "language": "python",
   "name": "python3"
  },
  "language_info": {
   "codemirror_mode": {
    "name": "ipython",
    "version": 3
   },
   "file_extension": ".py",
   "mimetype": "text/x-python",
   "name": "python",
   "nbconvert_exporter": "python",
   "pygments_lexer": "ipython3",
   "version": "3.9.5"
  },
  "toc": {
   "base_numbering": 1,
   "nav_menu": {},
   "number_sections": true,
   "sideBar": true,
   "skip_h1_title": true,
   "title_cell": "Table of Contents",
   "title_sidebar": "Contents",
   "toc_cell": false,
   "toc_position": {
    "height": "calc(100% - 180px)",
    "left": "10px",
    "top": "150px",
    "width": "255.594px"
   },
   "toc_section_display": true,
   "toc_window_display": true
  }
 },
 "nbformat": 4,
 "nbformat_minor": 1
}
