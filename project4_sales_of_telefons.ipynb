{
 "cells": [
  {
   "cell_type": "markdown",
   "metadata": {},
   "source": [
    "## Изучение данных из файлов"
   ]
  },
  {
   "cell_type": "markdown",
   "metadata": {},
   "source": [
    "Нам предстоит сделать предварительный анализ двух тарифов \"Смарт\" и Ультра\" на небольшой выборке клиентов компании \"Мегалайн\". В нашем распоряжении данные 500 пользователей «Мегалайна»: кто они, откуда, каким тарифом пользуются, сколько звонков и сообщений каждый отправил за 2018 год. Проанализируем поведение клиентов и сделаем вывод — какой тариф приносит больше денег\n"
   ]
  },
  {
   "cell_type": "code",
   "execution_count": 1,
   "metadata": {},
   "outputs": [],
   "source": [
    "#импортируем все библиотеки\n",
    "import pandas as pd\n",
    "import numpy as np\n",
    "import matplotlib.pyplot as plt\n",
    "from scipy import stats as st"
   ]
  },
  {
   "cell_type": "code",
   "execution_count": 2,
   "metadata": {},
   "outputs": [
    {
     "data": {
      "text/html": [
       "<div>\n",
       "<style scoped>\n",
       "    .dataframe tbody tr th:only-of-type {\n",
       "        vertical-align: middle;\n",
       "    }\n",
       "\n",
       "    .dataframe tbody tr th {\n",
       "        vertical-align: top;\n",
       "    }\n",
       "\n",
       "    .dataframe thead th {\n",
       "        text-align: right;\n",
       "    }\n",
       "</style>\n",
       "<table border=\"1\" class=\"dataframe\">\n",
       "  <thead>\n",
       "    <tr style=\"text-align: right;\">\n",
       "      <th></th>\n",
       "      <th>id</th>\n",
       "      <th>call_date</th>\n",
       "      <th>duration</th>\n",
       "      <th>user_id</th>\n",
       "    </tr>\n",
       "  </thead>\n",
       "  <tbody>\n",
       "    <tr>\n",
       "      <th>0</th>\n",
       "      <td>1000_0</td>\n",
       "      <td>2018-07-25</td>\n",
       "      <td>0.00</td>\n",
       "      <td>1000</td>\n",
       "    </tr>\n",
       "    <tr>\n",
       "      <th>1</th>\n",
       "      <td>1000_1</td>\n",
       "      <td>2018-08-17</td>\n",
       "      <td>0.00</td>\n",
       "      <td>1000</td>\n",
       "    </tr>\n",
       "    <tr>\n",
       "      <th>2</th>\n",
       "      <td>1000_2</td>\n",
       "      <td>2018-06-11</td>\n",
       "      <td>2.85</td>\n",
       "      <td>1000</td>\n",
       "    </tr>\n",
       "    <tr>\n",
       "      <th>3</th>\n",
       "      <td>1000_3</td>\n",
       "      <td>2018-09-21</td>\n",
       "      <td>13.80</td>\n",
       "      <td>1000</td>\n",
       "    </tr>\n",
       "    <tr>\n",
       "      <th>4</th>\n",
       "      <td>1000_4</td>\n",
       "      <td>2018-12-15</td>\n",
       "      <td>5.18</td>\n",
       "      <td>1000</td>\n",
       "    </tr>\n",
       "    <tr>\n",
       "      <th>5</th>\n",
       "      <td>1000_5</td>\n",
       "      <td>2018-11-02</td>\n",
       "      <td>0.00</td>\n",
       "      <td>1000</td>\n",
       "    </tr>\n",
       "    <tr>\n",
       "      <th>6</th>\n",
       "      <td>1000_6</td>\n",
       "      <td>2018-10-18</td>\n",
       "      <td>0.00</td>\n",
       "      <td>1000</td>\n",
       "    </tr>\n",
       "    <tr>\n",
       "      <th>7</th>\n",
       "      <td>1000_7</td>\n",
       "      <td>2018-08-22</td>\n",
       "      <td>18.31</td>\n",
       "      <td>1000</td>\n",
       "    </tr>\n",
       "    <tr>\n",
       "      <th>8</th>\n",
       "      <td>1000_8</td>\n",
       "      <td>2018-09-15</td>\n",
       "      <td>18.44</td>\n",
       "      <td>1000</td>\n",
       "    </tr>\n",
       "    <tr>\n",
       "      <th>9</th>\n",
       "      <td>1000_9</td>\n",
       "      <td>2018-08-15</td>\n",
       "      <td>0.00</td>\n",
       "      <td>1000</td>\n",
       "    </tr>\n",
       "  </tbody>\n",
       "</table>\n",
       "</div>"
      ],
      "text/plain": [
       "       id   call_date  duration  user_id\n",
       "0  1000_0  2018-07-25      0.00     1000\n",
       "1  1000_1  2018-08-17      0.00     1000\n",
       "2  1000_2  2018-06-11      2.85     1000\n",
       "3  1000_3  2018-09-21     13.80     1000\n",
       "4  1000_4  2018-12-15      5.18     1000\n",
       "5  1000_5  2018-11-02      0.00     1000\n",
       "6  1000_6  2018-10-18      0.00     1000\n",
       "7  1000_7  2018-08-22     18.31     1000\n",
       "8  1000_8  2018-09-15     18.44     1000\n",
       "9  1000_9  2018-08-15      0.00     1000"
      ]
     },
     "metadata": {},
     "output_type": "display_data"
    },
    {
     "name": "stdout",
     "output_type": "stream",
     "text": [
      "<class 'pandas.core.frame.DataFrame'>\n",
      "RangeIndex: 202607 entries, 0 to 202606\n",
      "Data columns (total 4 columns):\n",
      " #   Column     Non-Null Count   Dtype  \n",
      "---  ------     --------------   -----  \n",
      " 0   id         202607 non-null  object \n",
      " 1   call_date  202607 non-null  object \n",
      " 2   duration   202607 non-null  float64\n",
      " 3   user_id    202607 non-null  int64  \n",
      "dtypes: float64(1), int64(1), object(2)\n",
      "memory usage: 6.2+ MB\n",
      "None\n"
     ]
    }
   ],
   "source": [
    "# читаем файл и сохраняем его в переменной df\n",
    "df_calls = pd.read_csv('/datasets/calls.csv')\n",
    "# выведем на экран первые 20 строк таблицы\n",
    "display(df_calls.head(10))\n",
    "print(df_calls.info())"
   ]
  },
  {
   "cell_type": "code",
   "execution_count": 3,
   "metadata": {},
   "outputs": [
    {
     "data": {
      "text/html": [
       "<div>\n",
       "<style scoped>\n",
       "    .dataframe tbody tr th:only-of-type {\n",
       "        vertical-align: middle;\n",
       "    }\n",
       "\n",
       "    .dataframe tbody tr th {\n",
       "        vertical-align: top;\n",
       "    }\n",
       "\n",
       "    .dataframe thead th {\n",
       "        text-align: right;\n",
       "    }\n",
       "</style>\n",
       "<table border=\"1\" class=\"dataframe\">\n",
       "  <thead>\n",
       "    <tr style=\"text-align: right;\">\n",
       "      <th></th>\n",
       "      <th>id</th>\n",
       "      <th>mb_used</th>\n",
       "      <th>session_date</th>\n",
       "      <th>user_id</th>\n",
       "    </tr>\n",
       "  </thead>\n",
       "  <tbody>\n",
       "    <tr>\n",
       "      <th>0</th>\n",
       "      <td>1000_0</td>\n",
       "      <td>112.95</td>\n",
       "      <td>2018-11-25</td>\n",
       "      <td>1000</td>\n",
       "    </tr>\n",
       "    <tr>\n",
       "      <th>1</th>\n",
       "      <td>1000_1</td>\n",
       "      <td>1052.81</td>\n",
       "      <td>2018-09-07</td>\n",
       "      <td>1000</td>\n",
       "    </tr>\n",
       "    <tr>\n",
       "      <th>2</th>\n",
       "      <td>1000_2</td>\n",
       "      <td>1197.26</td>\n",
       "      <td>2018-06-25</td>\n",
       "      <td>1000</td>\n",
       "    </tr>\n",
       "    <tr>\n",
       "      <th>3</th>\n",
       "      <td>1000_3</td>\n",
       "      <td>550.27</td>\n",
       "      <td>2018-08-22</td>\n",
       "      <td>1000</td>\n",
       "    </tr>\n",
       "    <tr>\n",
       "      <th>4</th>\n",
       "      <td>1000_4</td>\n",
       "      <td>302.56</td>\n",
       "      <td>2018-09-24</td>\n",
       "      <td>1000</td>\n",
       "    </tr>\n",
       "    <tr>\n",
       "      <th>5</th>\n",
       "      <td>1000_5</td>\n",
       "      <td>399.97</td>\n",
       "      <td>2018-10-02</td>\n",
       "      <td>1000</td>\n",
       "    </tr>\n",
       "    <tr>\n",
       "      <th>6</th>\n",
       "      <td>1000_6</td>\n",
       "      <td>540.08</td>\n",
       "      <td>2018-09-07</td>\n",
       "      <td>1000</td>\n",
       "    </tr>\n",
       "    <tr>\n",
       "      <th>7</th>\n",
       "      <td>1000_7</td>\n",
       "      <td>415.70</td>\n",
       "      <td>2018-07-11</td>\n",
       "      <td>1000</td>\n",
       "    </tr>\n",
       "    <tr>\n",
       "      <th>8</th>\n",
       "      <td>1000_8</td>\n",
       "      <td>505.40</td>\n",
       "      <td>2018-10-08</td>\n",
       "      <td>1000</td>\n",
       "    </tr>\n",
       "    <tr>\n",
       "      <th>9</th>\n",
       "      <td>1000_9</td>\n",
       "      <td>345.54</td>\n",
       "      <td>2018-09-03</td>\n",
       "      <td>1000</td>\n",
       "    </tr>\n",
       "  </tbody>\n",
       "</table>\n",
       "</div>"
      ],
      "text/plain": [
       "       id  mb_used session_date  user_id\n",
       "0  1000_0   112.95   2018-11-25     1000\n",
       "1  1000_1  1052.81   2018-09-07     1000\n",
       "2  1000_2  1197.26   2018-06-25     1000\n",
       "3  1000_3   550.27   2018-08-22     1000\n",
       "4  1000_4   302.56   2018-09-24     1000\n",
       "5  1000_5   399.97   2018-10-02     1000\n",
       "6  1000_6   540.08   2018-09-07     1000\n",
       "7  1000_7   415.70   2018-07-11     1000\n",
       "8  1000_8   505.40   2018-10-08     1000\n",
       "9  1000_9   345.54   2018-09-03     1000"
      ]
     },
     "metadata": {},
     "output_type": "display_data"
    },
    {
     "name": "stdout",
     "output_type": "stream",
     "text": [
      "<class 'pandas.core.frame.DataFrame'>\n",
      "Int64Index: 149396 entries, 0 to 149395\n",
      "Data columns (total 4 columns):\n",
      " #   Column        Non-Null Count   Dtype  \n",
      "---  ------        --------------   -----  \n",
      " 0   id            149396 non-null  object \n",
      " 1   mb_used       149396 non-null  float64\n",
      " 2   session_date  149396 non-null  object \n",
      " 3   user_id       149396 non-null  int64  \n",
      "dtypes: float64(1), int64(1), object(2)\n",
      "memory usage: 5.7+ MB\n",
      "None\n"
     ]
    }
   ],
   "source": [
    "df_internet = pd.read_csv('/datasets/internet.csv', index_col=0)\n",
    "display(df_internet.head(10))\n",
    "print(df_internet.info())"
   ]
  },
  {
   "cell_type": "code",
   "execution_count": 4,
   "metadata": {},
   "outputs": [
    {
     "data": {
      "text/html": [
       "<div>\n",
       "<style scoped>\n",
       "    .dataframe tbody tr th:only-of-type {\n",
       "        vertical-align: middle;\n",
       "    }\n",
       "\n",
       "    .dataframe tbody tr th {\n",
       "        vertical-align: top;\n",
       "    }\n",
       "\n",
       "    .dataframe thead th {\n",
       "        text-align: right;\n",
       "    }\n",
       "</style>\n",
       "<table border=\"1\" class=\"dataframe\">\n",
       "  <thead>\n",
       "    <tr style=\"text-align: right;\">\n",
       "      <th></th>\n",
       "      <th>id</th>\n",
       "      <th>message_date</th>\n",
       "      <th>user_id</th>\n",
       "    </tr>\n",
       "  </thead>\n",
       "  <tbody>\n",
       "    <tr>\n",
       "      <th>0</th>\n",
       "      <td>1000_0</td>\n",
       "      <td>2018-06-27</td>\n",
       "      <td>1000</td>\n",
       "    </tr>\n",
       "    <tr>\n",
       "      <th>1</th>\n",
       "      <td>1000_1</td>\n",
       "      <td>2018-10-08</td>\n",
       "      <td>1000</td>\n",
       "    </tr>\n",
       "    <tr>\n",
       "      <th>2</th>\n",
       "      <td>1000_2</td>\n",
       "      <td>2018-08-04</td>\n",
       "      <td>1000</td>\n",
       "    </tr>\n",
       "    <tr>\n",
       "      <th>3</th>\n",
       "      <td>1000_3</td>\n",
       "      <td>2018-06-16</td>\n",
       "      <td>1000</td>\n",
       "    </tr>\n",
       "    <tr>\n",
       "      <th>4</th>\n",
       "      <td>1000_4</td>\n",
       "      <td>2018-12-05</td>\n",
       "      <td>1000</td>\n",
       "    </tr>\n",
       "    <tr>\n",
       "      <th>5</th>\n",
       "      <td>1000_5</td>\n",
       "      <td>2018-06-20</td>\n",
       "      <td>1000</td>\n",
       "    </tr>\n",
       "    <tr>\n",
       "      <th>6</th>\n",
       "      <td>1000_6</td>\n",
       "      <td>2018-11-19</td>\n",
       "      <td>1000</td>\n",
       "    </tr>\n",
       "    <tr>\n",
       "      <th>7</th>\n",
       "      <td>1000_7</td>\n",
       "      <td>2018-10-29</td>\n",
       "      <td>1000</td>\n",
       "    </tr>\n",
       "    <tr>\n",
       "      <th>8</th>\n",
       "      <td>1000_8</td>\n",
       "      <td>2018-06-25</td>\n",
       "      <td>1000</td>\n",
       "    </tr>\n",
       "    <tr>\n",
       "      <th>9</th>\n",
       "      <td>1000_9</td>\n",
       "      <td>2018-12-18</td>\n",
       "      <td>1000</td>\n",
       "    </tr>\n",
       "  </tbody>\n",
       "</table>\n",
       "</div>"
      ],
      "text/plain": [
       "       id message_date  user_id\n",
       "0  1000_0   2018-06-27     1000\n",
       "1  1000_1   2018-10-08     1000\n",
       "2  1000_2   2018-08-04     1000\n",
       "3  1000_3   2018-06-16     1000\n",
       "4  1000_4   2018-12-05     1000\n",
       "5  1000_5   2018-06-20     1000\n",
       "6  1000_6   2018-11-19     1000\n",
       "7  1000_7   2018-10-29     1000\n",
       "8  1000_8   2018-06-25     1000\n",
       "9  1000_9   2018-12-18     1000"
      ]
     },
     "metadata": {},
     "output_type": "display_data"
    },
    {
     "name": "stdout",
     "output_type": "stream",
     "text": [
      "<class 'pandas.core.frame.DataFrame'>\n",
      "RangeIndex: 123036 entries, 0 to 123035\n",
      "Data columns (total 3 columns):\n",
      " #   Column        Non-Null Count   Dtype \n",
      "---  ------        --------------   ----- \n",
      " 0   id            123036 non-null  object\n",
      " 1   message_date  123036 non-null  object\n",
      " 2   user_id       123036 non-null  int64 \n",
      "dtypes: int64(1), object(2)\n",
      "memory usage: 2.8+ MB\n",
      "None\n"
     ]
    }
   ],
   "source": [
    "df_messages = pd.read_csv('/datasets/messages.csv')\n",
    "display(df_messages.head(10))\n",
    "print(df_messages.info())"
   ]
  },
  {
   "cell_type": "code",
   "execution_count": 5,
   "metadata": {},
   "outputs": [
    {
     "data": {
      "text/html": [
       "<div>\n",
       "<style scoped>\n",
       "    .dataframe tbody tr th:only-of-type {\n",
       "        vertical-align: middle;\n",
       "    }\n",
       "\n",
       "    .dataframe tbody tr th {\n",
       "        vertical-align: top;\n",
       "    }\n",
       "\n",
       "    .dataframe thead th {\n",
       "        text-align: right;\n",
       "    }\n",
       "</style>\n",
       "<table border=\"1\" class=\"dataframe\">\n",
       "  <thead>\n",
       "    <tr style=\"text-align: right;\">\n",
       "      <th></th>\n",
       "      <th>messages_included</th>\n",
       "      <th>mb_per_month_included</th>\n",
       "      <th>minutes_included</th>\n",
       "      <th>rub_monthly_fee</th>\n",
       "      <th>rub_per_gb</th>\n",
       "      <th>rub_per_message</th>\n",
       "      <th>rub_per_minute</th>\n",
       "      <th>tariff_name</th>\n",
       "    </tr>\n",
       "  </thead>\n",
       "  <tbody>\n",
       "    <tr>\n",
       "      <th>0</th>\n",
       "      <td>50</td>\n",
       "      <td>15360</td>\n",
       "      <td>500</td>\n",
       "      <td>550</td>\n",
       "      <td>200</td>\n",
       "      <td>3</td>\n",
       "      <td>3</td>\n",
       "      <td>smart</td>\n",
       "    </tr>\n",
       "    <tr>\n",
       "      <th>1</th>\n",
       "      <td>1000</td>\n",
       "      <td>30720</td>\n",
       "      <td>3000</td>\n",
       "      <td>1950</td>\n",
       "      <td>150</td>\n",
       "      <td>1</td>\n",
       "      <td>1</td>\n",
       "      <td>ultra</td>\n",
       "    </tr>\n",
       "  </tbody>\n",
       "</table>\n",
       "</div>"
      ],
      "text/plain": [
       "   messages_included  mb_per_month_included  minutes_included  \\\n",
       "0                 50                  15360               500   \n",
       "1               1000                  30720              3000   \n",
       "\n",
       "   rub_monthly_fee  rub_per_gb  rub_per_message  rub_per_minute tariff_name  \n",
       "0              550         200                3               3       smart  \n",
       "1             1950         150                1               1       ultra  "
      ]
     },
     "metadata": {},
     "output_type": "display_data"
    },
    {
     "name": "stdout",
     "output_type": "stream",
     "text": [
      "<class 'pandas.core.frame.DataFrame'>\n",
      "RangeIndex: 2 entries, 0 to 1\n",
      "Data columns (total 8 columns):\n",
      " #   Column                 Non-Null Count  Dtype \n",
      "---  ------                 --------------  ----- \n",
      " 0   messages_included      2 non-null      int64 \n",
      " 1   mb_per_month_included  2 non-null      int64 \n",
      " 2   minutes_included       2 non-null      int64 \n",
      " 3   rub_monthly_fee        2 non-null      int64 \n",
      " 4   rub_per_gb             2 non-null      int64 \n",
      " 5   rub_per_message        2 non-null      int64 \n",
      " 6   rub_per_minute         2 non-null      int64 \n",
      " 7   tariff_name            2 non-null      object\n",
      "dtypes: int64(7), object(1)\n",
      "memory usage: 256.0+ bytes\n",
      "None\n"
     ]
    }
   ],
   "source": [
    "df_tariffs = pd.read_csv('/datasets/tariffs.csv')\n",
    "display(df_tariffs.head())\n",
    "print(df_tariffs.info())"
   ]
  },
  {
   "cell_type": "code",
   "execution_count": 6,
   "metadata": {
    "scrolled": true
   },
   "outputs": [
    {
     "data": {
      "text/html": [
       "<div>\n",
       "<style scoped>\n",
       "    .dataframe tbody tr th:only-of-type {\n",
       "        vertical-align: middle;\n",
       "    }\n",
       "\n",
       "    .dataframe tbody tr th {\n",
       "        vertical-align: top;\n",
       "    }\n",
       "\n",
       "    .dataframe thead th {\n",
       "        text-align: right;\n",
       "    }\n",
       "</style>\n",
       "<table border=\"1\" class=\"dataframe\">\n",
       "  <thead>\n",
       "    <tr style=\"text-align: right;\">\n",
       "      <th></th>\n",
       "      <th>user_id</th>\n",
       "      <th>age</th>\n",
       "      <th>churn_date</th>\n",
       "      <th>city</th>\n",
       "      <th>first_name</th>\n",
       "      <th>last_name</th>\n",
       "      <th>reg_date</th>\n",
       "      <th>tariff</th>\n",
       "    </tr>\n",
       "  </thead>\n",
       "  <tbody>\n",
       "    <tr>\n",
       "      <th>0</th>\n",
       "      <td>1000</td>\n",
       "      <td>52</td>\n",
       "      <td>NaN</td>\n",
       "      <td>Краснодар</td>\n",
       "      <td>Рафаил</td>\n",
       "      <td>Верещагин</td>\n",
       "      <td>2018-05-25</td>\n",
       "      <td>ultra</td>\n",
       "    </tr>\n",
       "    <tr>\n",
       "      <th>1</th>\n",
       "      <td>1001</td>\n",
       "      <td>41</td>\n",
       "      <td>NaN</td>\n",
       "      <td>Москва</td>\n",
       "      <td>Иван</td>\n",
       "      <td>Ежов</td>\n",
       "      <td>2018-11-01</td>\n",
       "      <td>smart</td>\n",
       "    </tr>\n",
       "    <tr>\n",
       "      <th>2</th>\n",
       "      <td>1002</td>\n",
       "      <td>59</td>\n",
       "      <td>NaN</td>\n",
       "      <td>Стерлитамак</td>\n",
       "      <td>Евгений</td>\n",
       "      <td>Абрамович</td>\n",
       "      <td>2018-06-17</td>\n",
       "      <td>smart</td>\n",
       "    </tr>\n",
       "    <tr>\n",
       "      <th>3</th>\n",
       "      <td>1003</td>\n",
       "      <td>23</td>\n",
       "      <td>NaN</td>\n",
       "      <td>Москва</td>\n",
       "      <td>Белла</td>\n",
       "      <td>Белякова</td>\n",
       "      <td>2018-08-17</td>\n",
       "      <td>ultra</td>\n",
       "    </tr>\n",
       "    <tr>\n",
       "      <th>4</th>\n",
       "      <td>1004</td>\n",
       "      <td>68</td>\n",
       "      <td>NaN</td>\n",
       "      <td>Новокузнецк</td>\n",
       "      <td>Татьяна</td>\n",
       "      <td>Авдеенко</td>\n",
       "      <td>2018-05-14</td>\n",
       "      <td>ultra</td>\n",
       "    </tr>\n",
       "    <tr>\n",
       "      <th>5</th>\n",
       "      <td>1005</td>\n",
       "      <td>67</td>\n",
       "      <td>NaN</td>\n",
       "      <td>Набережные Челны</td>\n",
       "      <td>Афанасий</td>\n",
       "      <td>Горлов</td>\n",
       "      <td>2018-01-25</td>\n",
       "      <td>smart</td>\n",
       "    </tr>\n",
       "    <tr>\n",
       "      <th>6</th>\n",
       "      <td>1006</td>\n",
       "      <td>21</td>\n",
       "      <td>NaN</td>\n",
       "      <td>Ульяновск</td>\n",
       "      <td>Леонид</td>\n",
       "      <td>Ермолаев</td>\n",
       "      <td>2018-02-26</td>\n",
       "      <td>smart</td>\n",
       "    </tr>\n",
       "    <tr>\n",
       "      <th>7</th>\n",
       "      <td>1007</td>\n",
       "      <td>65</td>\n",
       "      <td>NaN</td>\n",
       "      <td>Москва</td>\n",
       "      <td>Юна</td>\n",
       "      <td>Березина</td>\n",
       "      <td>2018-04-19</td>\n",
       "      <td>smart</td>\n",
       "    </tr>\n",
       "    <tr>\n",
       "      <th>8</th>\n",
       "      <td>1008</td>\n",
       "      <td>63</td>\n",
       "      <td>NaN</td>\n",
       "      <td>Челябинск</td>\n",
       "      <td>Рустэм</td>\n",
       "      <td>Пономарёв</td>\n",
       "      <td>2018-12-19</td>\n",
       "      <td>smart</td>\n",
       "    </tr>\n",
       "    <tr>\n",
       "      <th>9</th>\n",
       "      <td>1009</td>\n",
       "      <td>24</td>\n",
       "      <td>NaN</td>\n",
       "      <td>Пермь</td>\n",
       "      <td>Василиса</td>\n",
       "      <td>Блинова</td>\n",
       "      <td>2018-03-22</td>\n",
       "      <td>smart</td>\n",
       "    </tr>\n",
       "  </tbody>\n",
       "</table>\n",
       "</div>"
      ],
      "text/plain": [
       "   user_id  age churn_date              city first_name  last_name  \\\n",
       "0     1000   52        NaN         Краснодар     Рафаил  Верещагин   \n",
       "1     1001   41        NaN            Москва       Иван       Ежов   \n",
       "2     1002   59        NaN       Стерлитамак    Евгений  Абрамович   \n",
       "3     1003   23        NaN            Москва      Белла   Белякова   \n",
       "4     1004   68        NaN       Новокузнецк    Татьяна   Авдеенко   \n",
       "5     1005   67        NaN  Набережные Челны   Афанасий     Горлов   \n",
       "6     1006   21        NaN         Ульяновск     Леонид   Ермолаев   \n",
       "7     1007   65        NaN            Москва        Юна   Березина   \n",
       "8     1008   63        NaN         Челябинск     Рустэм  Пономарёв   \n",
       "9     1009   24        NaN             Пермь   Василиса    Блинова   \n",
       "\n",
       "     reg_date tariff  \n",
       "0  2018-05-25  ultra  \n",
       "1  2018-11-01  smart  \n",
       "2  2018-06-17  smart  \n",
       "3  2018-08-17  ultra  \n",
       "4  2018-05-14  ultra  \n",
       "5  2018-01-25  smart  \n",
       "6  2018-02-26  smart  \n",
       "7  2018-04-19  smart  \n",
       "8  2018-12-19  smart  \n",
       "9  2018-03-22  smart  "
      ]
     },
     "metadata": {},
     "output_type": "display_data"
    },
    {
     "name": "stdout",
     "output_type": "stream",
     "text": [
      "<class 'pandas.core.frame.DataFrame'>\n",
      "RangeIndex: 500 entries, 0 to 499\n",
      "Data columns (total 8 columns):\n",
      " #   Column      Non-Null Count  Dtype \n",
      "---  ------      --------------  ----- \n",
      " 0   user_id     500 non-null    int64 \n",
      " 1   age         500 non-null    int64 \n",
      " 2   churn_date  38 non-null     object\n",
      " 3   city        500 non-null    object\n",
      " 4   first_name  500 non-null    object\n",
      " 5   last_name   500 non-null    object\n",
      " 6   reg_date    500 non-null    object\n",
      " 7   tariff      500 non-null    object\n",
      "dtypes: int64(2), object(6)\n",
      "memory usage: 31.4+ KB\n",
      "None\n"
     ]
    }
   ],
   "source": [
    "df_users = pd.read_csv('/datasets/users.csv')\n",
    "display(df_users.head(10))\n",
    "print(df_users.info())"
   ]
  },
  {
   "cell_type": "markdown",
   "metadata": {},
   "source": [
    "Изучив данные из всех пяти файлов, видим, что пропусков очень мало. Пропуски замечены только в последней таблице в столбце churn_date. Но не будем его заполнять, т.к. скорее всего пользователи еще пользуются тарифом на дату анализа.В столбцах, в которых отражены даты, имеют неверный тип, надо будет изменить на datetime, столбцы user_id  передевем в тип object. Т.к. компания округляет секунды до минут, мегабайты - до гигабайт, необходимо будет столбцы с этими данными округлить в большую сторону."
   ]
  },
  {
   "cell_type": "markdown",
   "metadata": {},
   "source": [
    "## Подготовка данных"
   ]
  },
  {
   "cell_type": "markdown",
   "metadata": {},
   "source": [
    "### Приведение данных к нужному типу"
   ]
  },
  {
   "cell_type": "code",
   "execution_count": 7,
   "metadata": {},
   "outputs": [],
   "source": [
    "df_calls['user_id'] = df_calls['user_id'].astype('object')\n",
    "df_internet['user_id'] = df_internet['user_id'].astype('object')\n",
    "df_messages['user_id'] = df_messages['user_id'].astype('object')\n",
    "df_users['user_id'] = df_users['user_id'].astype('object')\n",
    "df_calls['call_date'] = df_calls['call_date'].astype('datetime64')\n",
    "df_internet['session_date'] = df_internet['session_date'].astype('datetime64')\n",
    "df_messages['message_date'] = df_messages['message_date'].astype('datetime64')\n",
    "df_users['churn_date'] = df_users['churn_date'].astype('datetime64')\n",
    "df_users['reg_date'] = df_users['reg_date'].astype('datetime64')"
   ]
  },
  {
   "cell_type": "markdown",
   "metadata": {},
   "source": [
    "Проверим изменение типов данных"
   ]
  },
  {
   "cell_type": "code",
   "execution_count": 8,
   "metadata": {},
   "outputs": [
    {
     "name": "stdout",
     "output_type": "stream",
     "text": [
      "<class 'pandas.core.frame.DataFrame'>\n",
      "RangeIndex: 202607 entries, 0 to 202606\n",
      "Data columns (total 4 columns):\n",
      " #   Column     Non-Null Count   Dtype         \n",
      "---  ------     --------------   -----         \n",
      " 0   id         202607 non-null  object        \n",
      " 1   call_date  202607 non-null  datetime64[ns]\n",
      " 2   duration   202607 non-null  float64       \n",
      " 3   user_id    202607 non-null  object        \n",
      "dtypes: datetime64[ns](1), float64(1), object(2)\n",
      "memory usage: 6.2+ MB\n",
      "None\n",
      "<class 'pandas.core.frame.DataFrame'>\n",
      "Int64Index: 149396 entries, 0 to 149395\n",
      "Data columns (total 4 columns):\n",
      " #   Column        Non-Null Count   Dtype         \n",
      "---  ------        --------------   -----         \n",
      " 0   id            149396 non-null  object        \n",
      " 1   mb_used       149396 non-null  float64       \n",
      " 2   session_date  149396 non-null  datetime64[ns]\n",
      " 3   user_id       149396 non-null  object        \n",
      "dtypes: datetime64[ns](1), float64(1), object(2)\n",
      "memory usage: 5.7+ MB\n",
      "None\n",
      "<class 'pandas.core.frame.DataFrame'>\n",
      "RangeIndex: 123036 entries, 0 to 123035\n",
      "Data columns (total 3 columns):\n",
      " #   Column        Non-Null Count   Dtype         \n",
      "---  ------        --------------   -----         \n",
      " 0   id            123036 non-null  object        \n",
      " 1   message_date  123036 non-null  datetime64[ns]\n",
      " 2   user_id       123036 non-null  object        \n",
      "dtypes: datetime64[ns](1), object(2)\n",
      "memory usage: 2.8+ MB\n",
      "None\n",
      "<class 'pandas.core.frame.DataFrame'>\n",
      "RangeIndex: 500 entries, 0 to 499\n",
      "Data columns (total 8 columns):\n",
      " #   Column      Non-Null Count  Dtype         \n",
      "---  ------      --------------  -----         \n",
      " 0   user_id     500 non-null    object        \n",
      " 1   age         500 non-null    int64         \n",
      " 2   churn_date  38 non-null     datetime64[ns]\n",
      " 3   city        500 non-null    object        \n",
      " 4   first_name  500 non-null    object        \n",
      " 5   last_name   500 non-null    object        \n",
      " 6   reg_date    500 non-null    datetime64[ns]\n",
      " 7   tariff      500 non-null    object        \n",
      "dtypes: datetime64[ns](2), int64(1), object(5)\n",
      "memory usage: 31.4+ KB\n",
      "None\n"
     ]
    }
   ],
   "source": [
    "print(df_calls.info())\n",
    "print(df_internet.info())\n",
    "print(df_messages.info())\n",
    "print(df_users.info())"
   ]
  },
  {
   "cell_type": "markdown",
   "metadata": {},
   "source": [
    "Да ,все данные теперь верного типа. Перейдем к округлению столбцов duration в df_calls и mb_used в df_internet в бОльшую сторону."
   ]
  },
  {
   "cell_type": "code",
   "execution_count": 9,
   "metadata": {},
   "outputs": [
    {
     "data": {
      "text/html": [
       "<div>\n",
       "<style scoped>\n",
       "    .dataframe tbody tr th:only-of-type {\n",
       "        vertical-align: middle;\n",
       "    }\n",
       "\n",
       "    .dataframe tbody tr th {\n",
       "        vertical-align: top;\n",
       "    }\n",
       "\n",
       "    .dataframe thead th {\n",
       "        text-align: right;\n",
       "    }\n",
       "</style>\n",
       "<table border=\"1\" class=\"dataframe\">\n",
       "  <thead>\n",
       "    <tr style=\"text-align: right;\">\n",
       "      <th></th>\n",
       "      <th>id</th>\n",
       "      <th>call_date</th>\n",
       "      <th>duration</th>\n",
       "      <th>user_id</th>\n",
       "    </tr>\n",
       "  </thead>\n",
       "  <tbody>\n",
       "    <tr>\n",
       "      <th>0</th>\n",
       "      <td>1000_0</td>\n",
       "      <td>2018-07-25</td>\n",
       "      <td>0.0</td>\n",
       "      <td>1000</td>\n",
       "    </tr>\n",
       "    <tr>\n",
       "      <th>1</th>\n",
       "      <td>1000_1</td>\n",
       "      <td>2018-08-17</td>\n",
       "      <td>0.0</td>\n",
       "      <td>1000</td>\n",
       "    </tr>\n",
       "    <tr>\n",
       "      <th>2</th>\n",
       "      <td>1000_2</td>\n",
       "      <td>2018-06-11</td>\n",
       "      <td>3.0</td>\n",
       "      <td>1000</td>\n",
       "    </tr>\n",
       "    <tr>\n",
       "      <th>3</th>\n",
       "      <td>1000_3</td>\n",
       "      <td>2018-09-21</td>\n",
       "      <td>14.0</td>\n",
       "      <td>1000</td>\n",
       "    </tr>\n",
       "    <tr>\n",
       "      <th>4</th>\n",
       "      <td>1000_4</td>\n",
       "      <td>2018-12-15</td>\n",
       "      <td>6.0</td>\n",
       "      <td>1000</td>\n",
       "    </tr>\n",
       "    <tr>\n",
       "      <th>5</th>\n",
       "      <td>1000_5</td>\n",
       "      <td>2018-11-02</td>\n",
       "      <td>0.0</td>\n",
       "      <td>1000</td>\n",
       "    </tr>\n",
       "    <tr>\n",
       "      <th>6</th>\n",
       "      <td>1000_6</td>\n",
       "      <td>2018-10-18</td>\n",
       "      <td>0.0</td>\n",
       "      <td>1000</td>\n",
       "    </tr>\n",
       "    <tr>\n",
       "      <th>7</th>\n",
       "      <td>1000_7</td>\n",
       "      <td>2018-08-22</td>\n",
       "      <td>19.0</td>\n",
       "      <td>1000</td>\n",
       "    </tr>\n",
       "    <tr>\n",
       "      <th>8</th>\n",
       "      <td>1000_8</td>\n",
       "      <td>2018-09-15</td>\n",
       "      <td>19.0</td>\n",
       "      <td>1000</td>\n",
       "    </tr>\n",
       "    <tr>\n",
       "      <th>9</th>\n",
       "      <td>1000_9</td>\n",
       "      <td>2018-08-15</td>\n",
       "      <td>0.0</td>\n",
       "      <td>1000</td>\n",
       "    </tr>\n",
       "  </tbody>\n",
       "</table>\n",
       "</div>"
      ],
      "text/plain": [
       "       id  call_date  duration user_id\n",
       "0  1000_0 2018-07-25       0.0    1000\n",
       "1  1000_1 2018-08-17       0.0    1000\n",
       "2  1000_2 2018-06-11       3.0    1000\n",
       "3  1000_3 2018-09-21      14.0    1000\n",
       "4  1000_4 2018-12-15       6.0    1000\n",
       "5  1000_5 2018-11-02       0.0    1000\n",
       "6  1000_6 2018-10-18       0.0    1000\n",
       "7  1000_7 2018-08-22      19.0    1000\n",
       "8  1000_8 2018-09-15      19.0    1000\n",
       "9  1000_9 2018-08-15       0.0    1000"
      ]
     },
     "metadata": {},
     "output_type": "display_data"
    },
    {
     "data": {
      "text/html": [
       "<div>\n",
       "<style scoped>\n",
       "    .dataframe tbody tr th:only-of-type {\n",
       "        vertical-align: middle;\n",
       "    }\n",
       "\n",
       "    .dataframe tbody tr th {\n",
       "        vertical-align: top;\n",
       "    }\n",
       "\n",
       "    .dataframe thead th {\n",
       "        text-align: right;\n",
       "    }\n",
       "</style>\n",
       "<table border=\"1\" class=\"dataframe\">\n",
       "  <thead>\n",
       "    <tr style=\"text-align: right;\">\n",
       "      <th></th>\n",
       "      <th>id</th>\n",
       "      <th>mb_used</th>\n",
       "      <th>session_date</th>\n",
       "      <th>user_id</th>\n",
       "    </tr>\n",
       "  </thead>\n",
       "  <tbody>\n",
       "    <tr>\n",
       "      <th>0</th>\n",
       "      <td>1000_0</td>\n",
       "      <td>113.0</td>\n",
       "      <td>2018-11-25</td>\n",
       "      <td>1000</td>\n",
       "    </tr>\n",
       "    <tr>\n",
       "      <th>1</th>\n",
       "      <td>1000_1</td>\n",
       "      <td>1053.0</td>\n",
       "      <td>2018-09-07</td>\n",
       "      <td>1000</td>\n",
       "    </tr>\n",
       "    <tr>\n",
       "      <th>2</th>\n",
       "      <td>1000_2</td>\n",
       "      <td>1198.0</td>\n",
       "      <td>2018-06-25</td>\n",
       "      <td>1000</td>\n",
       "    </tr>\n",
       "    <tr>\n",
       "      <th>3</th>\n",
       "      <td>1000_3</td>\n",
       "      <td>551.0</td>\n",
       "      <td>2018-08-22</td>\n",
       "      <td>1000</td>\n",
       "    </tr>\n",
       "    <tr>\n",
       "      <th>4</th>\n",
       "      <td>1000_4</td>\n",
       "      <td>303.0</td>\n",
       "      <td>2018-09-24</td>\n",
       "      <td>1000</td>\n",
       "    </tr>\n",
       "    <tr>\n",
       "      <th>5</th>\n",
       "      <td>1000_5</td>\n",
       "      <td>400.0</td>\n",
       "      <td>2018-10-02</td>\n",
       "      <td>1000</td>\n",
       "    </tr>\n",
       "    <tr>\n",
       "      <th>6</th>\n",
       "      <td>1000_6</td>\n",
       "      <td>541.0</td>\n",
       "      <td>2018-09-07</td>\n",
       "      <td>1000</td>\n",
       "    </tr>\n",
       "    <tr>\n",
       "      <th>7</th>\n",
       "      <td>1000_7</td>\n",
       "      <td>416.0</td>\n",
       "      <td>2018-07-11</td>\n",
       "      <td>1000</td>\n",
       "    </tr>\n",
       "    <tr>\n",
       "      <th>8</th>\n",
       "      <td>1000_8</td>\n",
       "      <td>506.0</td>\n",
       "      <td>2018-10-08</td>\n",
       "      <td>1000</td>\n",
       "    </tr>\n",
       "    <tr>\n",
       "      <th>9</th>\n",
       "      <td>1000_9</td>\n",
       "      <td>346.0</td>\n",
       "      <td>2018-09-03</td>\n",
       "      <td>1000</td>\n",
       "    </tr>\n",
       "  </tbody>\n",
       "</table>\n",
       "</div>"
      ],
      "text/plain": [
       "       id  mb_used session_date user_id\n",
       "0  1000_0    113.0   2018-11-25    1000\n",
       "1  1000_1   1053.0   2018-09-07    1000\n",
       "2  1000_2   1198.0   2018-06-25    1000\n",
       "3  1000_3    551.0   2018-08-22    1000\n",
       "4  1000_4    303.0   2018-09-24    1000\n",
       "5  1000_5    400.0   2018-10-02    1000\n",
       "6  1000_6    541.0   2018-09-07    1000\n",
       "7  1000_7    416.0   2018-07-11    1000\n",
       "8  1000_8    506.0   2018-10-08    1000\n",
       "9  1000_9    346.0   2018-09-03    1000"
      ]
     },
     "metadata": {},
     "output_type": "display_data"
    }
   ],
   "source": [
    "df_calls['duration'] = np.ceil(df_calls['duration'])\n",
    "df_internet['mb_used'] = np.ceil(df_internet['mb_used'])\n",
    "display(df_calls.head(10))\n",
    "display(df_internet.head(10))"
   ]
  },
  {
   "cell_type": "markdown",
   "metadata": {},
   "source": [
    "Да, теперь все хорошо. Теперь объединим таблицы для удобства анализа. Все таблицы услуг сгруппируем по пользователям и месяцам до объединения. И соединим по этим же столбцам. Соответственно дабавим столбец  month (месяц пользования услугой)во все таблицы услуг."
   ]
  },
  {
   "cell_type": "markdown",
   "metadata": {},
   "source": [
    "В столбцах duration в df_calls и mb_used в df_internet присутствуют нули. Не будем ничего с ними делать. Скорее всего, пользователи просто не звонили либо не пользовались интернетом в данный период времени\n"
   ]
  },
  {
   "cell_type": "markdown",
   "metadata": {},
   "source": [
    "### Объединение таблиц"
   ]
  },
  {
   "cell_type": "markdown",
   "metadata": {},
   "source": [
    "Все таблицы услуг сгруппируем по пользователям и месяцам до объединения. И соединим по этим же столбцам. Соответственно дабавим столбец  month (месяц пользования услугой)во все таблицы услуг."
   ]
  },
  {
   "cell_type": "code",
   "execution_count": 10,
   "metadata": {},
   "outputs": [
    {
     "data": {
      "text/html": [
       "<div>\n",
       "<style scoped>\n",
       "    .dataframe tbody tr th:only-of-type {\n",
       "        vertical-align: middle;\n",
       "    }\n",
       "\n",
       "    .dataframe tbody tr th {\n",
       "        vertical-align: top;\n",
       "    }\n",
       "\n",
       "    .dataframe thead th {\n",
       "        text-align: right;\n",
       "    }\n",
       "</style>\n",
       "<table border=\"1\" class=\"dataframe\">\n",
       "  <thead>\n",
       "    <tr style=\"text-align: right;\">\n",
       "      <th></th>\n",
       "      <th>id</th>\n",
       "      <th>call_date</th>\n",
       "      <th>duration</th>\n",
       "      <th>user_id</th>\n",
       "      <th>month</th>\n",
       "    </tr>\n",
       "  </thead>\n",
       "  <tbody>\n",
       "    <tr>\n",
       "      <th>0</th>\n",
       "      <td>1000_0</td>\n",
       "      <td>2018-07-25</td>\n",
       "      <td>0.0</td>\n",
       "      <td>1000</td>\n",
       "      <td>7</td>\n",
       "    </tr>\n",
       "    <tr>\n",
       "      <th>1</th>\n",
       "      <td>1000_1</td>\n",
       "      <td>2018-08-17</td>\n",
       "      <td>0.0</td>\n",
       "      <td>1000</td>\n",
       "      <td>8</td>\n",
       "    </tr>\n",
       "    <tr>\n",
       "      <th>2</th>\n",
       "      <td>1000_2</td>\n",
       "      <td>2018-06-11</td>\n",
       "      <td>3.0</td>\n",
       "      <td>1000</td>\n",
       "      <td>6</td>\n",
       "    </tr>\n",
       "    <tr>\n",
       "      <th>3</th>\n",
       "      <td>1000_3</td>\n",
       "      <td>2018-09-21</td>\n",
       "      <td>14.0</td>\n",
       "      <td>1000</td>\n",
       "      <td>9</td>\n",
       "    </tr>\n",
       "    <tr>\n",
       "      <th>4</th>\n",
       "      <td>1000_4</td>\n",
       "      <td>2018-12-15</td>\n",
       "      <td>6.0</td>\n",
       "      <td>1000</td>\n",
       "      <td>12</td>\n",
       "    </tr>\n",
       "    <tr>\n",
       "      <th>5</th>\n",
       "      <td>1000_5</td>\n",
       "      <td>2018-11-02</td>\n",
       "      <td>0.0</td>\n",
       "      <td>1000</td>\n",
       "      <td>11</td>\n",
       "    </tr>\n",
       "    <tr>\n",
       "      <th>6</th>\n",
       "      <td>1000_6</td>\n",
       "      <td>2018-10-18</td>\n",
       "      <td>0.0</td>\n",
       "      <td>1000</td>\n",
       "      <td>10</td>\n",
       "    </tr>\n",
       "    <tr>\n",
       "      <th>7</th>\n",
       "      <td>1000_7</td>\n",
       "      <td>2018-08-22</td>\n",
       "      <td>19.0</td>\n",
       "      <td>1000</td>\n",
       "      <td>8</td>\n",
       "    </tr>\n",
       "    <tr>\n",
       "      <th>8</th>\n",
       "      <td>1000_8</td>\n",
       "      <td>2018-09-15</td>\n",
       "      <td>19.0</td>\n",
       "      <td>1000</td>\n",
       "      <td>9</td>\n",
       "    </tr>\n",
       "    <tr>\n",
       "      <th>9</th>\n",
       "      <td>1000_9</td>\n",
       "      <td>2018-08-15</td>\n",
       "      <td>0.0</td>\n",
       "      <td>1000</td>\n",
       "      <td>8</td>\n",
       "    </tr>\n",
       "  </tbody>\n",
       "</table>\n",
       "</div>"
      ],
      "text/plain": [
       "       id  call_date  duration user_id  month\n",
       "0  1000_0 2018-07-25       0.0    1000      7\n",
       "1  1000_1 2018-08-17       0.0    1000      8\n",
       "2  1000_2 2018-06-11       3.0    1000      6\n",
       "3  1000_3 2018-09-21      14.0    1000      9\n",
       "4  1000_4 2018-12-15       6.0    1000     12\n",
       "5  1000_5 2018-11-02       0.0    1000     11\n",
       "6  1000_6 2018-10-18       0.0    1000     10\n",
       "7  1000_7 2018-08-22      19.0    1000      8\n",
       "8  1000_8 2018-09-15      19.0    1000      9\n",
       "9  1000_9 2018-08-15       0.0    1000      8"
      ]
     },
     "metadata": {},
     "output_type": "display_data"
    },
    {
     "data": {
      "text/html": [
       "<div>\n",
       "<style scoped>\n",
       "    .dataframe tbody tr th:only-of-type {\n",
       "        vertical-align: middle;\n",
       "    }\n",
       "\n",
       "    .dataframe tbody tr th {\n",
       "        vertical-align: top;\n",
       "    }\n",
       "\n",
       "    .dataframe thead th {\n",
       "        text-align: right;\n",
       "    }\n",
       "</style>\n",
       "<table border=\"1\" class=\"dataframe\">\n",
       "  <thead>\n",
       "    <tr style=\"text-align: right;\">\n",
       "      <th></th>\n",
       "      <th>id</th>\n",
       "      <th>mb_used</th>\n",
       "      <th>session_date</th>\n",
       "      <th>user_id</th>\n",
       "      <th>month</th>\n",
       "    </tr>\n",
       "  </thead>\n",
       "  <tbody>\n",
       "    <tr>\n",
       "      <th>0</th>\n",
       "      <td>1000_0</td>\n",
       "      <td>113.0</td>\n",
       "      <td>2018-11-25</td>\n",
       "      <td>1000</td>\n",
       "      <td>11</td>\n",
       "    </tr>\n",
       "    <tr>\n",
       "      <th>1</th>\n",
       "      <td>1000_1</td>\n",
       "      <td>1053.0</td>\n",
       "      <td>2018-09-07</td>\n",
       "      <td>1000</td>\n",
       "      <td>9</td>\n",
       "    </tr>\n",
       "    <tr>\n",
       "      <th>2</th>\n",
       "      <td>1000_2</td>\n",
       "      <td>1198.0</td>\n",
       "      <td>2018-06-25</td>\n",
       "      <td>1000</td>\n",
       "      <td>6</td>\n",
       "    </tr>\n",
       "    <tr>\n",
       "      <th>3</th>\n",
       "      <td>1000_3</td>\n",
       "      <td>551.0</td>\n",
       "      <td>2018-08-22</td>\n",
       "      <td>1000</td>\n",
       "      <td>8</td>\n",
       "    </tr>\n",
       "    <tr>\n",
       "      <th>4</th>\n",
       "      <td>1000_4</td>\n",
       "      <td>303.0</td>\n",
       "      <td>2018-09-24</td>\n",
       "      <td>1000</td>\n",
       "      <td>9</td>\n",
       "    </tr>\n",
       "    <tr>\n",
       "      <th>5</th>\n",
       "      <td>1000_5</td>\n",
       "      <td>400.0</td>\n",
       "      <td>2018-10-02</td>\n",
       "      <td>1000</td>\n",
       "      <td>10</td>\n",
       "    </tr>\n",
       "    <tr>\n",
       "      <th>6</th>\n",
       "      <td>1000_6</td>\n",
       "      <td>541.0</td>\n",
       "      <td>2018-09-07</td>\n",
       "      <td>1000</td>\n",
       "      <td>9</td>\n",
       "    </tr>\n",
       "    <tr>\n",
       "      <th>7</th>\n",
       "      <td>1000_7</td>\n",
       "      <td>416.0</td>\n",
       "      <td>2018-07-11</td>\n",
       "      <td>1000</td>\n",
       "      <td>7</td>\n",
       "    </tr>\n",
       "    <tr>\n",
       "      <th>8</th>\n",
       "      <td>1000_8</td>\n",
       "      <td>506.0</td>\n",
       "      <td>2018-10-08</td>\n",
       "      <td>1000</td>\n",
       "      <td>10</td>\n",
       "    </tr>\n",
       "    <tr>\n",
       "      <th>9</th>\n",
       "      <td>1000_9</td>\n",
       "      <td>346.0</td>\n",
       "      <td>2018-09-03</td>\n",
       "      <td>1000</td>\n",
       "      <td>9</td>\n",
       "    </tr>\n",
       "  </tbody>\n",
       "</table>\n",
       "</div>"
      ],
      "text/plain": [
       "       id  mb_used session_date user_id  month\n",
       "0  1000_0    113.0   2018-11-25    1000     11\n",
       "1  1000_1   1053.0   2018-09-07    1000      9\n",
       "2  1000_2   1198.0   2018-06-25    1000      6\n",
       "3  1000_3    551.0   2018-08-22    1000      8\n",
       "4  1000_4    303.0   2018-09-24    1000      9\n",
       "5  1000_5    400.0   2018-10-02    1000     10\n",
       "6  1000_6    541.0   2018-09-07    1000      9\n",
       "7  1000_7    416.0   2018-07-11    1000      7\n",
       "8  1000_8    506.0   2018-10-08    1000     10\n",
       "9  1000_9    346.0   2018-09-03    1000      9"
      ]
     },
     "metadata": {},
     "output_type": "display_data"
    },
    {
     "data": {
      "text/html": [
       "<div>\n",
       "<style scoped>\n",
       "    .dataframe tbody tr th:only-of-type {\n",
       "        vertical-align: middle;\n",
       "    }\n",
       "\n",
       "    .dataframe tbody tr th {\n",
       "        vertical-align: top;\n",
       "    }\n",
       "\n",
       "    .dataframe thead th {\n",
       "        text-align: right;\n",
       "    }\n",
       "</style>\n",
       "<table border=\"1\" class=\"dataframe\">\n",
       "  <thead>\n",
       "    <tr style=\"text-align: right;\">\n",
       "      <th></th>\n",
       "      <th>id</th>\n",
       "      <th>message_date</th>\n",
       "      <th>user_id</th>\n",
       "      <th>month</th>\n",
       "    </tr>\n",
       "  </thead>\n",
       "  <tbody>\n",
       "    <tr>\n",
       "      <th>0</th>\n",
       "      <td>1000_0</td>\n",
       "      <td>2018-06-27</td>\n",
       "      <td>1000</td>\n",
       "      <td>6</td>\n",
       "    </tr>\n",
       "    <tr>\n",
       "      <th>1</th>\n",
       "      <td>1000_1</td>\n",
       "      <td>2018-10-08</td>\n",
       "      <td>1000</td>\n",
       "      <td>10</td>\n",
       "    </tr>\n",
       "    <tr>\n",
       "      <th>2</th>\n",
       "      <td>1000_2</td>\n",
       "      <td>2018-08-04</td>\n",
       "      <td>1000</td>\n",
       "      <td>8</td>\n",
       "    </tr>\n",
       "    <tr>\n",
       "      <th>3</th>\n",
       "      <td>1000_3</td>\n",
       "      <td>2018-06-16</td>\n",
       "      <td>1000</td>\n",
       "      <td>6</td>\n",
       "    </tr>\n",
       "    <tr>\n",
       "      <th>4</th>\n",
       "      <td>1000_4</td>\n",
       "      <td>2018-12-05</td>\n",
       "      <td>1000</td>\n",
       "      <td>12</td>\n",
       "    </tr>\n",
       "    <tr>\n",
       "      <th>5</th>\n",
       "      <td>1000_5</td>\n",
       "      <td>2018-06-20</td>\n",
       "      <td>1000</td>\n",
       "      <td>6</td>\n",
       "    </tr>\n",
       "    <tr>\n",
       "      <th>6</th>\n",
       "      <td>1000_6</td>\n",
       "      <td>2018-11-19</td>\n",
       "      <td>1000</td>\n",
       "      <td>11</td>\n",
       "    </tr>\n",
       "    <tr>\n",
       "      <th>7</th>\n",
       "      <td>1000_7</td>\n",
       "      <td>2018-10-29</td>\n",
       "      <td>1000</td>\n",
       "      <td>10</td>\n",
       "    </tr>\n",
       "    <tr>\n",
       "      <th>8</th>\n",
       "      <td>1000_8</td>\n",
       "      <td>2018-06-25</td>\n",
       "      <td>1000</td>\n",
       "      <td>6</td>\n",
       "    </tr>\n",
       "    <tr>\n",
       "      <th>9</th>\n",
       "      <td>1000_9</td>\n",
       "      <td>2018-12-18</td>\n",
       "      <td>1000</td>\n",
       "      <td>12</td>\n",
       "    </tr>\n",
       "  </tbody>\n",
       "</table>\n",
       "</div>"
      ],
      "text/plain": [
       "       id message_date user_id  month\n",
       "0  1000_0   2018-06-27    1000      6\n",
       "1  1000_1   2018-10-08    1000     10\n",
       "2  1000_2   2018-08-04    1000      8\n",
       "3  1000_3   2018-06-16    1000      6\n",
       "4  1000_4   2018-12-05    1000     12\n",
       "5  1000_5   2018-06-20    1000      6\n",
       "6  1000_6   2018-11-19    1000     11\n",
       "7  1000_7   2018-10-29    1000     10\n",
       "8  1000_8   2018-06-25    1000      6\n",
       "9  1000_9   2018-12-18    1000     12"
      ]
     },
     "metadata": {},
     "output_type": "display_data"
    }
   ],
   "source": [
    "df_calls['month'] = pd.DatetimeIndex(df_calls['call_date']).month\n",
    "df_internet['month'] = pd.DatetimeIndex(df_internet['session_date']).month\n",
    "df_messages['month'] = pd.DatetimeIndex(df_messages['message_date']).month\n",
    "display(df_calls.head(10))\n",
    "display(df_internet.head(10))\n",
    "display(df_messages.head(10))"
   ]
  },
  {
   "cell_type": "code",
   "execution_count": 11,
   "metadata": {},
   "outputs": [
    {
     "data": {
      "text/html": [
       "<div>\n",
       "<style scoped>\n",
       "    .dataframe tbody tr th:only-of-type {\n",
       "        vertical-align: middle;\n",
       "    }\n",
       "\n",
       "    .dataframe tbody tr th {\n",
       "        vertical-align: top;\n",
       "    }\n",
       "\n",
       "    .dataframe thead th {\n",
       "        text-align: right;\n",
       "    }\n",
       "</style>\n",
       "<table border=\"1\" class=\"dataframe\">\n",
       "  <thead>\n",
       "    <tr style=\"text-align: right;\">\n",
       "      <th></th>\n",
       "      <th>user_id</th>\n",
       "      <th>month</th>\n",
       "      <th>mb_used</th>\n",
       "    </tr>\n",
       "  </thead>\n",
       "  <tbody>\n",
       "    <tr>\n",
       "      <th>0</th>\n",
       "      <td>1000</td>\n",
       "      <td>5</td>\n",
       "      <td>2256.0</td>\n",
       "    </tr>\n",
       "    <tr>\n",
       "      <th>1</th>\n",
       "      <td>1000</td>\n",
       "      <td>6</td>\n",
       "      <td>23257.0</td>\n",
       "    </tr>\n",
       "    <tr>\n",
       "      <th>2</th>\n",
       "      <td>1000</td>\n",
       "      <td>7</td>\n",
       "      <td>14016.0</td>\n",
       "    </tr>\n",
       "    <tr>\n",
       "      <th>3</th>\n",
       "      <td>1000</td>\n",
       "      <td>8</td>\n",
       "      <td>14070.0</td>\n",
       "    </tr>\n",
       "    <tr>\n",
       "      <th>4</th>\n",
       "      <td>1000</td>\n",
       "      <td>9</td>\n",
       "      <td>14581.0</td>\n",
       "    </tr>\n",
       "    <tr>\n",
       "      <th>5</th>\n",
       "      <td>1000</td>\n",
       "      <td>10</td>\n",
       "      <td>14717.0</td>\n",
       "    </tr>\n",
       "    <tr>\n",
       "      <th>6</th>\n",
       "      <td>1000</td>\n",
       "      <td>11</td>\n",
       "      <td>14768.0</td>\n",
       "    </tr>\n",
       "    <tr>\n",
       "      <th>7</th>\n",
       "      <td>1000</td>\n",
       "      <td>12</td>\n",
       "      <td>9827.0</td>\n",
       "    </tr>\n",
       "    <tr>\n",
       "      <th>8</th>\n",
       "      <td>1001</td>\n",
       "      <td>11</td>\n",
       "      <td>18452.0</td>\n",
       "    </tr>\n",
       "    <tr>\n",
       "      <th>9</th>\n",
       "      <td>1001</td>\n",
       "      <td>12</td>\n",
       "      <td>14053.0</td>\n",
       "    </tr>\n",
       "  </tbody>\n",
       "</table>\n",
       "</div>"
      ],
      "text/plain": [
       "   user_id  month  mb_used\n",
       "0     1000      5   2256.0\n",
       "1     1000      6  23257.0\n",
       "2     1000      7  14016.0\n",
       "3     1000      8  14070.0\n",
       "4     1000      9  14581.0\n",
       "5     1000     10  14717.0\n",
       "6     1000     11  14768.0\n",
       "7     1000     12   9827.0\n",
       "8     1001     11  18452.0\n",
       "9     1001     12  14053.0"
      ]
     },
     "metadata": {},
     "output_type": "display_data"
    },
    {
     "name": "stdout",
     "output_type": "stream",
     "text": [
      "<class 'pandas.core.frame.DataFrame'>\n",
      "RangeIndex: 3203 entries, 0 to 3202\n",
      "Data columns (total 3 columns):\n",
      " #   Column   Non-Null Count  Dtype  \n",
      "---  ------   --------------  -----  \n",
      " 0   user_id  3203 non-null   int64  \n",
      " 1   month    3203 non-null   int64  \n",
      " 2   mb_used  3203 non-null   float64\n",
      "dtypes: float64(1), int64(2)\n",
      "memory usage: 75.2 KB\n",
      "None\n"
     ]
    }
   ],
   "source": [
    "df_internet = df_internet.pivot_table(index=['user_id', 'month'], values='mb_used', aggfunc='sum').reset_index()\n",
    "display(df_internet.head(10))\n",
    "print(df_internet.info())"
   ]
  },
  {
   "cell_type": "code",
   "execution_count": 12,
   "metadata": {},
   "outputs": [
    {
     "data": {
      "text/html": [
       "<div>\n",
       "<style scoped>\n",
       "    .dataframe tbody tr th:only-of-type {\n",
       "        vertical-align: middle;\n",
       "    }\n",
       "\n",
       "    .dataframe tbody tr th {\n",
       "        vertical-align: top;\n",
       "    }\n",
       "\n",
       "    .dataframe thead th {\n",
       "        text-align: right;\n",
       "    }\n",
       "</style>\n",
       "<table border=\"1\" class=\"dataframe\">\n",
       "  <thead>\n",
       "    <tr style=\"text-align: right;\">\n",
       "      <th></th>\n",
       "      <th>user_id</th>\n",
       "      <th>month</th>\n",
       "      <th>duration</th>\n",
       "    </tr>\n",
       "  </thead>\n",
       "  <tbody>\n",
       "    <tr>\n",
       "      <th>0</th>\n",
       "      <td>1000</td>\n",
       "      <td>5</td>\n",
       "      <td>159.0</td>\n",
       "    </tr>\n",
       "    <tr>\n",
       "      <th>1</th>\n",
       "      <td>1000</td>\n",
       "      <td>6</td>\n",
       "      <td>172.0</td>\n",
       "    </tr>\n",
       "    <tr>\n",
       "      <th>2</th>\n",
       "      <td>1000</td>\n",
       "      <td>7</td>\n",
       "      <td>340.0</td>\n",
       "    </tr>\n",
       "    <tr>\n",
       "      <th>3</th>\n",
       "      <td>1000</td>\n",
       "      <td>8</td>\n",
       "      <td>408.0</td>\n",
       "    </tr>\n",
       "    <tr>\n",
       "      <th>4</th>\n",
       "      <td>1000</td>\n",
       "      <td>9</td>\n",
       "      <td>466.0</td>\n",
       "    </tr>\n",
       "    <tr>\n",
       "      <th>5</th>\n",
       "      <td>1000</td>\n",
       "      <td>10</td>\n",
       "      <td>350.0</td>\n",
       "    </tr>\n",
       "    <tr>\n",
       "      <th>6</th>\n",
       "      <td>1000</td>\n",
       "      <td>11</td>\n",
       "      <td>338.0</td>\n",
       "    </tr>\n",
       "    <tr>\n",
       "      <th>7</th>\n",
       "      <td>1000</td>\n",
       "      <td>12</td>\n",
       "      <td>333.0</td>\n",
       "    </tr>\n",
       "    <tr>\n",
       "      <th>8</th>\n",
       "      <td>1001</td>\n",
       "      <td>11</td>\n",
       "      <td>430.0</td>\n",
       "    </tr>\n",
       "    <tr>\n",
       "      <th>9</th>\n",
       "      <td>1001</td>\n",
       "      <td>12</td>\n",
       "      <td>414.0</td>\n",
       "    </tr>\n",
       "  </tbody>\n",
       "</table>\n",
       "</div>"
      ],
      "text/plain": [
       "   user_id  month  duration\n",
       "0     1000      5     159.0\n",
       "1     1000      6     172.0\n",
       "2     1000      7     340.0\n",
       "3     1000      8     408.0\n",
       "4     1000      9     466.0\n",
       "5     1000     10     350.0\n",
       "6     1000     11     338.0\n",
       "7     1000     12     333.0\n",
       "8     1001     11     430.0\n",
       "9     1001     12     414.0"
      ]
     },
     "metadata": {},
     "output_type": "display_data"
    },
    {
     "name": "stdout",
     "output_type": "stream",
     "text": [
      "<class 'pandas.core.frame.DataFrame'>\n",
      "RangeIndex: 3174 entries, 0 to 3173\n",
      "Data columns (total 3 columns):\n",
      " #   Column    Non-Null Count  Dtype  \n",
      "---  ------    --------------  -----  \n",
      " 0   user_id   3174 non-null   int64  \n",
      " 1   month     3174 non-null   int64  \n",
      " 2   duration  3174 non-null   float64\n",
      "dtypes: float64(1), int64(2)\n",
      "memory usage: 74.5 KB\n",
      "None\n"
     ]
    }
   ],
   "source": [
    "df_calls = df_calls.pivot_table(index=['user_id', 'month'], values='duration', aggfunc='sum').reset_index()\n",
    "display(df_calls.head(10))\n",
    "print(df_calls.info())"
   ]
  },
  {
   "cell_type": "code",
   "execution_count": 13,
   "metadata": {},
   "outputs": [
    {
     "data": {
      "text/html": [
       "<div>\n",
       "<style scoped>\n",
       "    .dataframe tbody tr th:only-of-type {\n",
       "        vertical-align: middle;\n",
       "    }\n",
       "\n",
       "    .dataframe tbody tr th {\n",
       "        vertical-align: top;\n",
       "    }\n",
       "\n",
       "    .dataframe thead th {\n",
       "        text-align: right;\n",
       "    }\n",
       "</style>\n",
       "<table border=\"1\" class=\"dataframe\">\n",
       "  <thead>\n",
       "    <tr style=\"text-align: right;\">\n",
       "      <th></th>\n",
       "      <th>user_id</th>\n",
       "      <th>month</th>\n",
       "      <th>id</th>\n",
       "      <th>message_date</th>\n",
       "    </tr>\n",
       "  </thead>\n",
       "  <tbody>\n",
       "    <tr>\n",
       "      <th>0</th>\n",
       "      <td>1000</td>\n",
       "      <td>5</td>\n",
       "      <td>22</td>\n",
       "      <td>22</td>\n",
       "    </tr>\n",
       "    <tr>\n",
       "      <th>1</th>\n",
       "      <td>1000</td>\n",
       "      <td>6</td>\n",
       "      <td>60</td>\n",
       "      <td>60</td>\n",
       "    </tr>\n",
       "    <tr>\n",
       "      <th>2</th>\n",
       "      <td>1000</td>\n",
       "      <td>7</td>\n",
       "      <td>75</td>\n",
       "      <td>75</td>\n",
       "    </tr>\n",
       "    <tr>\n",
       "      <th>3</th>\n",
       "      <td>1000</td>\n",
       "      <td>8</td>\n",
       "      <td>81</td>\n",
       "      <td>81</td>\n",
       "    </tr>\n",
       "    <tr>\n",
       "      <th>4</th>\n",
       "      <td>1000</td>\n",
       "      <td>9</td>\n",
       "      <td>57</td>\n",
       "      <td>57</td>\n",
       "    </tr>\n",
       "    <tr>\n",
       "      <th>5</th>\n",
       "      <td>1000</td>\n",
       "      <td>10</td>\n",
       "      <td>73</td>\n",
       "      <td>73</td>\n",
       "    </tr>\n",
       "    <tr>\n",
       "      <th>6</th>\n",
       "      <td>1000</td>\n",
       "      <td>11</td>\n",
       "      <td>58</td>\n",
       "      <td>58</td>\n",
       "    </tr>\n",
       "    <tr>\n",
       "      <th>7</th>\n",
       "      <td>1000</td>\n",
       "      <td>12</td>\n",
       "      <td>70</td>\n",
       "      <td>70</td>\n",
       "    </tr>\n",
       "    <tr>\n",
       "      <th>8</th>\n",
       "      <td>1002</td>\n",
       "      <td>6</td>\n",
       "      <td>4</td>\n",
       "      <td>4</td>\n",
       "    </tr>\n",
       "    <tr>\n",
       "      <th>9</th>\n",
       "      <td>1002</td>\n",
       "      <td>7</td>\n",
       "      <td>11</td>\n",
       "      <td>11</td>\n",
       "    </tr>\n",
       "  </tbody>\n",
       "</table>\n",
       "</div>"
      ],
      "text/plain": [
       "   user_id  month  id  message_date\n",
       "0     1000      5  22            22\n",
       "1     1000      6  60            60\n",
       "2     1000      7  75            75\n",
       "3     1000      8  81            81\n",
       "4     1000      9  57            57\n",
       "5     1000     10  73            73\n",
       "6     1000     11  58            58\n",
       "7     1000     12  70            70\n",
       "8     1002      6   4             4\n",
       "9     1002      7  11            11"
      ]
     },
     "metadata": {},
     "output_type": "display_data"
    },
    {
     "name": "stdout",
     "output_type": "stream",
     "text": [
      "<class 'pandas.core.frame.DataFrame'>\n",
      "RangeIndex: 2717 entries, 0 to 2716\n",
      "Data columns (total 4 columns):\n",
      " #   Column        Non-Null Count  Dtype\n",
      "---  ------        --------------  -----\n",
      " 0   user_id       2717 non-null   int64\n",
      " 1   month         2717 non-null   int64\n",
      " 2   id            2717 non-null   int64\n",
      " 3   message_date  2717 non-null   int64\n",
      "dtypes: int64(4)\n",
      "memory usage: 85.0 KB\n",
      "None\n"
     ]
    }
   ],
   "source": [
    "#df_messages = df_messages.groupby(['user_id', 'month']).agg({'month':'count'}).reset_index()\n",
    "df_messages = df_messages.pivot_table(index=['user_id', 'month'], aggfunc='count').reset_index()\n",
    "display(df_messages.head(10))\n",
    "print(df_messages.info())"
   ]
  },
  {
   "cell_type": "markdown",
   "metadata": {},
   "source": [
    "Теперь объединим все таблицы по услугам"
   ]
  },
  {
   "cell_type": "code",
   "execution_count": 14,
   "metadata": {},
   "outputs": [
    {
     "data": {
      "text/html": [
       "<div>\n",
       "<style scoped>\n",
       "    .dataframe tbody tr th:only-of-type {\n",
       "        vertical-align: middle;\n",
       "    }\n",
       "\n",
       "    .dataframe tbody tr th {\n",
       "        vertical-align: top;\n",
       "    }\n",
       "\n",
       "    .dataframe thead th {\n",
       "        text-align: right;\n",
       "    }\n",
       "</style>\n",
       "<table border=\"1\" class=\"dataframe\">\n",
       "  <thead>\n",
       "    <tr style=\"text-align: right;\">\n",
       "      <th></th>\n",
       "      <th>user_id</th>\n",
       "      <th>month</th>\n",
       "      <th>duration</th>\n",
       "      <th>mb_used</th>\n",
       "      <th>id</th>\n",
       "      <th>message_date</th>\n",
       "    </tr>\n",
       "  </thead>\n",
       "  <tbody>\n",
       "    <tr>\n",
       "      <th>0</th>\n",
       "      <td>1000</td>\n",
       "      <td>5</td>\n",
       "      <td>159.0</td>\n",
       "      <td>2256.0</td>\n",
       "      <td>22.0</td>\n",
       "      <td>22.0</td>\n",
       "    </tr>\n",
       "    <tr>\n",
       "      <th>1</th>\n",
       "      <td>1000</td>\n",
       "      <td>6</td>\n",
       "      <td>172.0</td>\n",
       "      <td>23257.0</td>\n",
       "      <td>60.0</td>\n",
       "      <td>60.0</td>\n",
       "    </tr>\n",
       "    <tr>\n",
       "      <th>2</th>\n",
       "      <td>1000</td>\n",
       "      <td>7</td>\n",
       "      <td>340.0</td>\n",
       "      <td>14016.0</td>\n",
       "      <td>75.0</td>\n",
       "      <td>75.0</td>\n",
       "    </tr>\n",
       "    <tr>\n",
       "      <th>3</th>\n",
       "      <td>1000</td>\n",
       "      <td>8</td>\n",
       "      <td>408.0</td>\n",
       "      <td>14070.0</td>\n",
       "      <td>81.0</td>\n",
       "      <td>81.0</td>\n",
       "    </tr>\n",
       "    <tr>\n",
       "      <th>4</th>\n",
       "      <td>1000</td>\n",
       "      <td>9</td>\n",
       "      <td>466.0</td>\n",
       "      <td>14581.0</td>\n",
       "      <td>57.0</td>\n",
       "      <td>57.0</td>\n",
       "    </tr>\n",
       "    <tr>\n",
       "      <th>5</th>\n",
       "      <td>1000</td>\n",
       "      <td>10</td>\n",
       "      <td>350.0</td>\n",
       "      <td>14717.0</td>\n",
       "      <td>73.0</td>\n",
       "      <td>73.0</td>\n",
       "    </tr>\n",
       "    <tr>\n",
       "      <th>6</th>\n",
       "      <td>1000</td>\n",
       "      <td>11</td>\n",
       "      <td>338.0</td>\n",
       "      <td>14768.0</td>\n",
       "      <td>58.0</td>\n",
       "      <td>58.0</td>\n",
       "    </tr>\n",
       "    <tr>\n",
       "      <th>7</th>\n",
       "      <td>1000</td>\n",
       "      <td>12</td>\n",
       "      <td>333.0</td>\n",
       "      <td>9827.0</td>\n",
       "      <td>70.0</td>\n",
       "      <td>70.0</td>\n",
       "    </tr>\n",
       "    <tr>\n",
       "      <th>8</th>\n",
       "      <td>1001</td>\n",
       "      <td>11</td>\n",
       "      <td>430.0</td>\n",
       "      <td>18452.0</td>\n",
       "      <td>NaN</td>\n",
       "      <td>NaN</td>\n",
       "    </tr>\n",
       "    <tr>\n",
       "      <th>9</th>\n",
       "      <td>1001</td>\n",
       "      <td>12</td>\n",
       "      <td>414.0</td>\n",
       "      <td>14053.0</td>\n",
       "      <td>NaN</td>\n",
       "      <td>NaN</td>\n",
       "    </tr>\n",
       "  </tbody>\n",
       "</table>\n",
       "</div>"
      ],
      "text/plain": [
       "   user_id  month  duration  mb_used    id  message_date\n",
       "0     1000      5     159.0   2256.0  22.0          22.0\n",
       "1     1000      6     172.0  23257.0  60.0          60.0\n",
       "2     1000      7     340.0  14016.0  75.0          75.0\n",
       "3     1000      8     408.0  14070.0  81.0          81.0\n",
       "4     1000      9     466.0  14581.0  57.0          57.0\n",
       "5     1000     10     350.0  14717.0  73.0          73.0\n",
       "6     1000     11     338.0  14768.0  58.0          58.0\n",
       "7     1000     12     333.0   9827.0  70.0          70.0\n",
       "8     1001     11     430.0  18452.0   NaN           NaN\n",
       "9     1001     12     414.0  14053.0   NaN           NaN"
      ]
     },
     "metadata": {},
     "output_type": "display_data"
    },
    {
     "name": "stdout",
     "output_type": "stream",
     "text": [
      "<class 'pandas.core.frame.DataFrame'>\n",
      "Int64Index: 3214 entries, 0 to 3213\n",
      "Data columns (total 6 columns):\n",
      " #   Column        Non-Null Count  Dtype  \n",
      "---  ------        --------------  -----  \n",
      " 0   user_id       3214 non-null   int64  \n",
      " 1   month         3214 non-null   int64  \n",
      " 2   duration      3174 non-null   float64\n",
      " 3   mb_used       3203 non-null   float64\n",
      " 4   id            2717 non-null   float64\n",
      " 5   message_date  2717 non-null   float64\n",
      "dtypes: float64(4), int64(2)\n",
      "memory usage: 175.8 KB\n",
      "None\n"
     ]
    }
   ],
   "source": [
    "df_service = df_calls.merge(df_internet, on=['user_id', 'month'], how='outer')\n",
    "df_service = df_service.merge(df_messages, on=['user_id', 'month'], how='outer')\n",
    "display(df_service.head(10))\n",
    "print(df_service.info())"
   ]
  },
  {
   "cell_type": "markdown",
   "metadata": {},
   "source": [
    "Теперь объединим таблицу по услугам с таблицей по пользователям."
   ]
  },
  {
   "cell_type": "code",
   "execution_count": 15,
   "metadata": {},
   "outputs": [
    {
     "data": {
      "text/html": [
       "<div>\n",
       "<style scoped>\n",
       "    .dataframe tbody tr th:only-of-type {\n",
       "        vertical-align: middle;\n",
       "    }\n",
       "\n",
       "    .dataframe tbody tr th {\n",
       "        vertical-align: top;\n",
       "    }\n",
       "\n",
       "    .dataframe thead th {\n",
       "        text-align: right;\n",
       "    }\n",
       "</style>\n",
       "<table border=\"1\" class=\"dataframe\">\n",
       "  <thead>\n",
       "    <tr style=\"text-align: right;\">\n",
       "      <th></th>\n",
       "      <th>user_id</th>\n",
       "      <th>age</th>\n",
       "      <th>churn_date</th>\n",
       "      <th>city</th>\n",
       "      <th>first_name</th>\n",
       "      <th>last_name</th>\n",
       "      <th>reg_date</th>\n",
       "      <th>tariff</th>\n",
       "      <th>month</th>\n",
       "      <th>duration</th>\n",
       "      <th>mb_used</th>\n",
       "      <th>message</th>\n",
       "    </tr>\n",
       "  </thead>\n",
       "  <tbody>\n",
       "    <tr>\n",
       "      <th>0</th>\n",
       "      <td>1000</td>\n",
       "      <td>52</td>\n",
       "      <td>NaT</td>\n",
       "      <td>Краснодар</td>\n",
       "      <td>Рафаил</td>\n",
       "      <td>Верещагин</td>\n",
       "      <td>2018-05-25</td>\n",
       "      <td>ultra</td>\n",
       "      <td>5</td>\n",
       "      <td>159.0</td>\n",
       "      <td>2256.0</td>\n",
       "      <td>22.0</td>\n",
       "    </tr>\n",
       "    <tr>\n",
       "      <th>1</th>\n",
       "      <td>1000</td>\n",
       "      <td>52</td>\n",
       "      <td>NaT</td>\n",
       "      <td>Краснодар</td>\n",
       "      <td>Рафаил</td>\n",
       "      <td>Верещагин</td>\n",
       "      <td>2018-05-25</td>\n",
       "      <td>ultra</td>\n",
       "      <td>6</td>\n",
       "      <td>172.0</td>\n",
       "      <td>23257.0</td>\n",
       "      <td>60.0</td>\n",
       "    </tr>\n",
       "    <tr>\n",
       "      <th>2</th>\n",
       "      <td>1000</td>\n",
       "      <td>52</td>\n",
       "      <td>NaT</td>\n",
       "      <td>Краснодар</td>\n",
       "      <td>Рафаил</td>\n",
       "      <td>Верещагин</td>\n",
       "      <td>2018-05-25</td>\n",
       "      <td>ultra</td>\n",
       "      <td>7</td>\n",
       "      <td>340.0</td>\n",
       "      <td>14016.0</td>\n",
       "      <td>75.0</td>\n",
       "    </tr>\n",
       "    <tr>\n",
       "      <th>3</th>\n",
       "      <td>1000</td>\n",
       "      <td>52</td>\n",
       "      <td>NaT</td>\n",
       "      <td>Краснодар</td>\n",
       "      <td>Рафаил</td>\n",
       "      <td>Верещагин</td>\n",
       "      <td>2018-05-25</td>\n",
       "      <td>ultra</td>\n",
       "      <td>8</td>\n",
       "      <td>408.0</td>\n",
       "      <td>14070.0</td>\n",
       "      <td>81.0</td>\n",
       "    </tr>\n",
       "    <tr>\n",
       "      <th>4</th>\n",
       "      <td>1000</td>\n",
       "      <td>52</td>\n",
       "      <td>NaT</td>\n",
       "      <td>Краснодар</td>\n",
       "      <td>Рафаил</td>\n",
       "      <td>Верещагин</td>\n",
       "      <td>2018-05-25</td>\n",
       "      <td>ultra</td>\n",
       "      <td>9</td>\n",
       "      <td>466.0</td>\n",
       "      <td>14581.0</td>\n",
       "      <td>57.0</td>\n",
       "    </tr>\n",
       "    <tr>\n",
       "      <th>5</th>\n",
       "      <td>1000</td>\n",
       "      <td>52</td>\n",
       "      <td>NaT</td>\n",
       "      <td>Краснодар</td>\n",
       "      <td>Рафаил</td>\n",
       "      <td>Верещагин</td>\n",
       "      <td>2018-05-25</td>\n",
       "      <td>ultra</td>\n",
       "      <td>10</td>\n",
       "      <td>350.0</td>\n",
       "      <td>14717.0</td>\n",
       "      <td>73.0</td>\n",
       "    </tr>\n",
       "    <tr>\n",
       "      <th>6</th>\n",
       "      <td>1000</td>\n",
       "      <td>52</td>\n",
       "      <td>NaT</td>\n",
       "      <td>Краснодар</td>\n",
       "      <td>Рафаил</td>\n",
       "      <td>Верещагин</td>\n",
       "      <td>2018-05-25</td>\n",
       "      <td>ultra</td>\n",
       "      <td>11</td>\n",
       "      <td>338.0</td>\n",
       "      <td>14768.0</td>\n",
       "      <td>58.0</td>\n",
       "    </tr>\n",
       "    <tr>\n",
       "      <th>7</th>\n",
       "      <td>1000</td>\n",
       "      <td>52</td>\n",
       "      <td>NaT</td>\n",
       "      <td>Краснодар</td>\n",
       "      <td>Рафаил</td>\n",
       "      <td>Верещагин</td>\n",
       "      <td>2018-05-25</td>\n",
       "      <td>ultra</td>\n",
       "      <td>12</td>\n",
       "      <td>333.0</td>\n",
       "      <td>9827.0</td>\n",
       "      <td>70.0</td>\n",
       "    </tr>\n",
       "    <tr>\n",
       "      <th>8</th>\n",
       "      <td>1001</td>\n",
       "      <td>41</td>\n",
       "      <td>NaT</td>\n",
       "      <td>Москва</td>\n",
       "      <td>Иван</td>\n",
       "      <td>Ежов</td>\n",
       "      <td>2018-11-01</td>\n",
       "      <td>smart</td>\n",
       "      <td>11</td>\n",
       "      <td>430.0</td>\n",
       "      <td>18452.0</td>\n",
       "      <td>NaN</td>\n",
       "    </tr>\n",
       "    <tr>\n",
       "      <th>9</th>\n",
       "      <td>1001</td>\n",
       "      <td>41</td>\n",
       "      <td>NaT</td>\n",
       "      <td>Москва</td>\n",
       "      <td>Иван</td>\n",
       "      <td>Ежов</td>\n",
       "      <td>2018-11-01</td>\n",
       "      <td>smart</td>\n",
       "      <td>12</td>\n",
       "      <td>414.0</td>\n",
       "      <td>14053.0</td>\n",
       "      <td>NaN</td>\n",
       "    </tr>\n",
       "  </tbody>\n",
       "</table>\n",
       "</div>"
      ],
      "text/plain": [
       "  user_id  age churn_date       city first_name  last_name   reg_date tariff  \\\n",
       "0    1000   52        NaT  Краснодар     Рафаил  Верещагин 2018-05-25  ultra   \n",
       "1    1000   52        NaT  Краснодар     Рафаил  Верещагин 2018-05-25  ultra   \n",
       "2    1000   52        NaT  Краснодар     Рафаил  Верещагин 2018-05-25  ultra   \n",
       "3    1000   52        NaT  Краснодар     Рафаил  Верещагин 2018-05-25  ultra   \n",
       "4    1000   52        NaT  Краснодар     Рафаил  Верещагин 2018-05-25  ultra   \n",
       "5    1000   52        NaT  Краснодар     Рафаил  Верещагин 2018-05-25  ultra   \n",
       "6    1000   52        NaT  Краснодар     Рафаил  Верещагин 2018-05-25  ultra   \n",
       "7    1000   52        NaT  Краснодар     Рафаил  Верещагин 2018-05-25  ultra   \n",
       "8    1001   41        NaT     Москва       Иван       Ежов 2018-11-01  smart   \n",
       "9    1001   41        NaT     Москва       Иван       Ежов 2018-11-01  smart   \n",
       "\n",
       "   month  duration  mb_used  message  \n",
       "0      5     159.0   2256.0     22.0  \n",
       "1      6     172.0  23257.0     60.0  \n",
       "2      7     340.0  14016.0     75.0  \n",
       "3      8     408.0  14070.0     81.0  \n",
       "4      9     466.0  14581.0     57.0  \n",
       "5     10     350.0  14717.0     73.0  \n",
       "6     11     338.0  14768.0     58.0  \n",
       "7     12     333.0   9827.0     70.0  \n",
       "8     11     430.0  18452.0      NaN  \n",
       "9     12     414.0  14053.0      NaN  "
      ]
     },
     "metadata": {},
     "output_type": "display_data"
    },
    {
     "name": "stdout",
     "output_type": "stream",
     "text": [
      "<class 'pandas.core.frame.DataFrame'>\n",
      "Int64Index: 3214 entries, 0 to 3213\n",
      "Data columns (total 12 columns):\n",
      " #   Column      Non-Null Count  Dtype         \n",
      "---  ------      --------------  -----         \n",
      " 0   user_id     3214 non-null   object        \n",
      " 1   age         3214 non-null   int64         \n",
      " 2   churn_date  187 non-null    datetime64[ns]\n",
      " 3   city        3214 non-null   object        \n",
      " 4   first_name  3214 non-null   object        \n",
      " 5   last_name   3214 non-null   object        \n",
      " 6   reg_date    3214 non-null   datetime64[ns]\n",
      " 7   tariff      3214 non-null   object        \n",
      " 8   month       3214 non-null   int64         \n",
      " 9   duration    3174 non-null   float64       \n",
      " 10  mb_used     3203 non-null   float64       \n",
      " 11  message     2717 non-null   float64       \n",
      "dtypes: datetime64[ns](2), float64(3), int64(2), object(5)\n",
      "memory usage: 326.4+ KB\n",
      "None\n"
     ]
    }
   ],
   "source": [
    "df = df_users.merge(df_service, on=['user_id'], how='inner')\n",
    "df =  df.rename(columns={'id': 'message'})\n",
    "df =  df.drop('message_date', axis=1)\n",
    "display(df.head(10))\n",
    "print(df.info())"
   ]
  },
  {
   "cell_type": "code",
   "execution_count": 16,
   "metadata": {},
   "outputs": [
    {
     "data": {
      "text/html": [
       "<div>\n",
       "<style scoped>\n",
       "    .dataframe tbody tr th:only-of-type {\n",
       "        vertical-align: middle;\n",
       "    }\n",
       "\n",
       "    .dataframe tbody tr th {\n",
       "        vertical-align: top;\n",
       "    }\n",
       "\n",
       "    .dataframe thead th {\n",
       "        text-align: right;\n",
       "    }\n",
       "</style>\n",
       "<table border=\"1\" class=\"dataframe\">\n",
       "  <thead>\n",
       "    <tr style=\"text-align: right;\">\n",
       "      <th></th>\n",
       "      <th>user_id</th>\n",
       "      <th>age</th>\n",
       "      <th>churn_date</th>\n",
       "      <th>city</th>\n",
       "      <th>first_name</th>\n",
       "      <th>last_name</th>\n",
       "      <th>reg_date</th>\n",
       "      <th>tariff</th>\n",
       "      <th>month</th>\n",
       "      <th>duration</th>\n",
       "      <th>mb_used</th>\n",
       "      <th>message</th>\n",
       "      <th>messages_included</th>\n",
       "      <th>mb_per_month_included</th>\n",
       "      <th>minutes_included</th>\n",
       "      <th>rub_monthly_fee</th>\n",
       "      <th>rub_per_gb</th>\n",
       "      <th>rub_per_message</th>\n",
       "      <th>rub_per_minute</th>\n",
       "    </tr>\n",
       "  </thead>\n",
       "  <tbody>\n",
       "    <tr>\n",
       "      <th>0</th>\n",
       "      <td>1000</td>\n",
       "      <td>52</td>\n",
       "      <td>NaT</td>\n",
       "      <td>Краснодар</td>\n",
       "      <td>Рафаил</td>\n",
       "      <td>Верещагин</td>\n",
       "      <td>2018-05-25</td>\n",
       "      <td>ultra</td>\n",
       "      <td>5</td>\n",
       "      <td>159.0</td>\n",
       "      <td>2256.0</td>\n",
       "      <td>22.0</td>\n",
       "      <td>1000</td>\n",
       "      <td>30720</td>\n",
       "      <td>3000</td>\n",
       "      <td>1950</td>\n",
       "      <td>150</td>\n",
       "      <td>1</td>\n",
       "      <td>1</td>\n",
       "    </tr>\n",
       "    <tr>\n",
       "      <th>1</th>\n",
       "      <td>1000</td>\n",
       "      <td>52</td>\n",
       "      <td>NaT</td>\n",
       "      <td>Краснодар</td>\n",
       "      <td>Рафаил</td>\n",
       "      <td>Верещагин</td>\n",
       "      <td>2018-05-25</td>\n",
       "      <td>ultra</td>\n",
       "      <td>6</td>\n",
       "      <td>172.0</td>\n",
       "      <td>23257.0</td>\n",
       "      <td>60.0</td>\n",
       "      <td>1000</td>\n",
       "      <td>30720</td>\n",
       "      <td>3000</td>\n",
       "      <td>1950</td>\n",
       "      <td>150</td>\n",
       "      <td>1</td>\n",
       "      <td>1</td>\n",
       "    </tr>\n",
       "    <tr>\n",
       "      <th>2</th>\n",
       "      <td>1000</td>\n",
       "      <td>52</td>\n",
       "      <td>NaT</td>\n",
       "      <td>Краснодар</td>\n",
       "      <td>Рафаил</td>\n",
       "      <td>Верещагин</td>\n",
       "      <td>2018-05-25</td>\n",
       "      <td>ultra</td>\n",
       "      <td>7</td>\n",
       "      <td>340.0</td>\n",
       "      <td>14016.0</td>\n",
       "      <td>75.0</td>\n",
       "      <td>1000</td>\n",
       "      <td>30720</td>\n",
       "      <td>3000</td>\n",
       "      <td>1950</td>\n",
       "      <td>150</td>\n",
       "      <td>1</td>\n",
       "      <td>1</td>\n",
       "    </tr>\n",
       "    <tr>\n",
       "      <th>3</th>\n",
       "      <td>1000</td>\n",
       "      <td>52</td>\n",
       "      <td>NaT</td>\n",
       "      <td>Краснодар</td>\n",
       "      <td>Рафаил</td>\n",
       "      <td>Верещагин</td>\n",
       "      <td>2018-05-25</td>\n",
       "      <td>ultra</td>\n",
       "      <td>8</td>\n",
       "      <td>408.0</td>\n",
       "      <td>14070.0</td>\n",
       "      <td>81.0</td>\n",
       "      <td>1000</td>\n",
       "      <td>30720</td>\n",
       "      <td>3000</td>\n",
       "      <td>1950</td>\n",
       "      <td>150</td>\n",
       "      <td>1</td>\n",
       "      <td>1</td>\n",
       "    </tr>\n",
       "    <tr>\n",
       "      <th>4</th>\n",
       "      <td>1000</td>\n",
       "      <td>52</td>\n",
       "      <td>NaT</td>\n",
       "      <td>Краснодар</td>\n",
       "      <td>Рафаил</td>\n",
       "      <td>Верещагин</td>\n",
       "      <td>2018-05-25</td>\n",
       "      <td>ultra</td>\n",
       "      <td>9</td>\n",
       "      <td>466.0</td>\n",
       "      <td>14581.0</td>\n",
       "      <td>57.0</td>\n",
       "      <td>1000</td>\n",
       "      <td>30720</td>\n",
       "      <td>3000</td>\n",
       "      <td>1950</td>\n",
       "      <td>150</td>\n",
       "      <td>1</td>\n",
       "      <td>1</td>\n",
       "    </tr>\n",
       "    <tr>\n",
       "      <th>5</th>\n",
       "      <td>1000</td>\n",
       "      <td>52</td>\n",
       "      <td>NaT</td>\n",
       "      <td>Краснодар</td>\n",
       "      <td>Рафаил</td>\n",
       "      <td>Верещагин</td>\n",
       "      <td>2018-05-25</td>\n",
       "      <td>ultra</td>\n",
       "      <td>10</td>\n",
       "      <td>350.0</td>\n",
       "      <td>14717.0</td>\n",
       "      <td>73.0</td>\n",
       "      <td>1000</td>\n",
       "      <td>30720</td>\n",
       "      <td>3000</td>\n",
       "      <td>1950</td>\n",
       "      <td>150</td>\n",
       "      <td>1</td>\n",
       "      <td>1</td>\n",
       "    </tr>\n",
       "    <tr>\n",
       "      <th>6</th>\n",
       "      <td>1000</td>\n",
       "      <td>52</td>\n",
       "      <td>NaT</td>\n",
       "      <td>Краснодар</td>\n",
       "      <td>Рафаил</td>\n",
       "      <td>Верещагин</td>\n",
       "      <td>2018-05-25</td>\n",
       "      <td>ultra</td>\n",
       "      <td>11</td>\n",
       "      <td>338.0</td>\n",
       "      <td>14768.0</td>\n",
       "      <td>58.0</td>\n",
       "      <td>1000</td>\n",
       "      <td>30720</td>\n",
       "      <td>3000</td>\n",
       "      <td>1950</td>\n",
       "      <td>150</td>\n",
       "      <td>1</td>\n",
       "      <td>1</td>\n",
       "    </tr>\n",
       "    <tr>\n",
       "      <th>7</th>\n",
       "      <td>1000</td>\n",
       "      <td>52</td>\n",
       "      <td>NaT</td>\n",
       "      <td>Краснодар</td>\n",
       "      <td>Рафаил</td>\n",
       "      <td>Верещагин</td>\n",
       "      <td>2018-05-25</td>\n",
       "      <td>ultra</td>\n",
       "      <td>12</td>\n",
       "      <td>333.0</td>\n",
       "      <td>9827.0</td>\n",
       "      <td>70.0</td>\n",
       "      <td>1000</td>\n",
       "      <td>30720</td>\n",
       "      <td>3000</td>\n",
       "      <td>1950</td>\n",
       "      <td>150</td>\n",
       "      <td>1</td>\n",
       "      <td>1</td>\n",
       "    </tr>\n",
       "    <tr>\n",
       "      <th>8</th>\n",
       "      <td>1003</td>\n",
       "      <td>23</td>\n",
       "      <td>NaT</td>\n",
       "      <td>Москва</td>\n",
       "      <td>Белла</td>\n",
       "      <td>Белякова</td>\n",
       "      <td>2018-08-17</td>\n",
       "      <td>ultra</td>\n",
       "      <td>8</td>\n",
       "      <td>380.0</td>\n",
       "      <td>8571.0</td>\n",
       "      <td>37.0</td>\n",
       "      <td>1000</td>\n",
       "      <td>30720</td>\n",
       "      <td>3000</td>\n",
       "      <td>1950</td>\n",
       "      <td>150</td>\n",
       "      <td>1</td>\n",
       "      <td>1</td>\n",
       "    </tr>\n",
       "    <tr>\n",
       "      <th>9</th>\n",
       "      <td>1003</td>\n",
       "      <td>23</td>\n",
       "      <td>NaT</td>\n",
       "      <td>Москва</td>\n",
       "      <td>Белла</td>\n",
       "      <td>Белякова</td>\n",
       "      <td>2018-08-17</td>\n",
       "      <td>ultra</td>\n",
       "      <td>9</td>\n",
       "      <td>961.0</td>\n",
       "      <td>12479.0</td>\n",
       "      <td>91.0</td>\n",
       "      <td>1000</td>\n",
       "      <td>30720</td>\n",
       "      <td>3000</td>\n",
       "      <td>1950</td>\n",
       "      <td>150</td>\n",
       "      <td>1</td>\n",
       "      <td>1</td>\n",
       "    </tr>\n",
       "  </tbody>\n",
       "</table>\n",
       "</div>"
      ],
      "text/plain": [
       "  user_id  age churn_date       city first_name  last_name   reg_date tariff  \\\n",
       "0    1000   52        NaT  Краснодар     Рафаил  Верещагин 2018-05-25  ultra   \n",
       "1    1000   52        NaT  Краснодар     Рафаил  Верещагин 2018-05-25  ultra   \n",
       "2    1000   52        NaT  Краснодар     Рафаил  Верещагин 2018-05-25  ultra   \n",
       "3    1000   52        NaT  Краснодар     Рафаил  Верещагин 2018-05-25  ultra   \n",
       "4    1000   52        NaT  Краснодар     Рафаил  Верещагин 2018-05-25  ultra   \n",
       "5    1000   52        NaT  Краснодар     Рафаил  Верещагин 2018-05-25  ultra   \n",
       "6    1000   52        NaT  Краснодар     Рафаил  Верещагин 2018-05-25  ultra   \n",
       "7    1000   52        NaT  Краснодар     Рафаил  Верещагин 2018-05-25  ultra   \n",
       "8    1003   23        NaT     Москва      Белла   Белякова 2018-08-17  ultra   \n",
       "9    1003   23        NaT     Москва      Белла   Белякова 2018-08-17  ultra   \n",
       "\n",
       "   month  duration  mb_used  message  messages_included  \\\n",
       "0      5     159.0   2256.0     22.0               1000   \n",
       "1      6     172.0  23257.0     60.0               1000   \n",
       "2      7     340.0  14016.0     75.0               1000   \n",
       "3      8     408.0  14070.0     81.0               1000   \n",
       "4      9     466.0  14581.0     57.0               1000   \n",
       "5     10     350.0  14717.0     73.0               1000   \n",
       "6     11     338.0  14768.0     58.0               1000   \n",
       "7     12     333.0   9827.0     70.0               1000   \n",
       "8      8     380.0   8571.0     37.0               1000   \n",
       "9      9     961.0  12479.0     91.0               1000   \n",
       "\n",
       "   mb_per_month_included  minutes_included  rub_monthly_fee  rub_per_gb  \\\n",
       "0                  30720              3000             1950         150   \n",
       "1                  30720              3000             1950         150   \n",
       "2                  30720              3000             1950         150   \n",
       "3                  30720              3000             1950         150   \n",
       "4                  30720              3000             1950         150   \n",
       "5                  30720              3000             1950         150   \n",
       "6                  30720              3000             1950         150   \n",
       "7                  30720              3000             1950         150   \n",
       "8                  30720              3000             1950         150   \n",
       "9                  30720              3000             1950         150   \n",
       "\n",
       "   rub_per_message  rub_per_minute  \n",
       "0                1               1  \n",
       "1                1               1  \n",
       "2                1               1  \n",
       "3                1               1  \n",
       "4                1               1  \n",
       "5                1               1  \n",
       "6                1               1  \n",
       "7                1               1  \n",
       "8                1               1  \n",
       "9                1               1  "
      ]
     },
     "metadata": {},
     "output_type": "display_data"
    },
    {
     "name": "stdout",
     "output_type": "stream",
     "text": [
      "<class 'pandas.core.frame.DataFrame'>\n",
      "Int64Index: 3214 entries, 0 to 3213\n",
      "Data columns (total 19 columns):\n",
      " #   Column                 Non-Null Count  Dtype         \n",
      "---  ------                 --------------  -----         \n",
      " 0   user_id                3214 non-null   object        \n",
      " 1   age                    3214 non-null   int64         \n",
      " 2   churn_date             187 non-null    datetime64[ns]\n",
      " 3   city                   3214 non-null   object        \n",
      " 4   first_name             3214 non-null   object        \n",
      " 5   last_name              3214 non-null   object        \n",
      " 6   reg_date               3214 non-null   datetime64[ns]\n",
      " 7   tariff                 3214 non-null   object        \n",
      " 8   month                  3214 non-null   int64         \n",
      " 9   duration               3174 non-null   float64       \n",
      " 10  mb_used                3203 non-null   float64       \n",
      " 11  message                2717 non-null   float64       \n",
      " 12  messages_included      3214 non-null   int64         \n",
      " 13  mb_per_month_included  3214 non-null   int64         \n",
      " 14  minutes_included       3214 non-null   int64         \n",
      " 15  rub_monthly_fee        3214 non-null   int64         \n",
      " 16  rub_per_gb             3214 non-null   int64         \n",
      " 17  rub_per_message        3214 non-null   int64         \n",
      " 18  rub_per_minute         3214 non-null   int64         \n",
      "dtypes: datetime64[ns](2), float64(3), int64(9), object(5)\n",
      "memory usage: 502.2+ KB\n",
      "None\n"
     ]
    }
   ],
   "source": [
    "df_tariffs = df_tariffs.rename(columns={'tariff_name': 'tariff'})\n",
    "df = df.merge(df_tariffs, on=['tariff'], how='inner')\n",
    "display(df.head(10))\n",
    "print(df.info())"
   ]
  },
  {
   "cell_type": "markdown",
   "metadata": {},
   "source": [
    "<div class=\"alert alert-info\">\n",
    "Оставим в рабочей таблице только ту информацию, которая нам будет необходима для дальнейшей работы\n",
    "</div>\n",
    "<font color='red'> </font>     "
   ]
  },
  {
   "cell_type": "code",
   "execution_count": 17,
   "metadata": {},
   "outputs": [
    {
     "data": {
      "text/html": [
       "<div>\n",
       "<style scoped>\n",
       "    .dataframe tbody tr th:only-of-type {\n",
       "        vertical-align: middle;\n",
       "    }\n",
       "\n",
       "    .dataframe tbody tr th {\n",
       "        vertical-align: top;\n",
       "    }\n",
       "\n",
       "    .dataframe thead th {\n",
       "        text-align: right;\n",
       "    }\n",
       "</style>\n",
       "<table border=\"1\" class=\"dataframe\">\n",
       "  <thead>\n",
       "    <tr style=\"text-align: right;\">\n",
       "      <th></th>\n",
       "      <th>user_id</th>\n",
       "      <th>city</th>\n",
       "      <th>tariff</th>\n",
       "      <th>month</th>\n",
       "      <th>duration</th>\n",
       "      <th>mb_used</th>\n",
       "      <th>message</th>\n",
       "      <th>messages_included</th>\n",
       "      <th>mb_per_month_included</th>\n",
       "      <th>minutes_included</th>\n",
       "      <th>rub_monthly_fee</th>\n",
       "      <th>rub_per_gb</th>\n",
       "      <th>rub_per_message</th>\n",
       "      <th>rub_per_minute</th>\n",
       "    </tr>\n",
       "  </thead>\n",
       "  <tbody>\n",
       "    <tr>\n",
       "      <th>0</th>\n",
       "      <td>1000</td>\n",
       "      <td>Краснодар</td>\n",
       "      <td>ultra</td>\n",
       "      <td>5</td>\n",
       "      <td>159.0</td>\n",
       "      <td>2256.0</td>\n",
       "      <td>22.0</td>\n",
       "      <td>1000</td>\n",
       "      <td>30720</td>\n",
       "      <td>3000</td>\n",
       "      <td>1950</td>\n",
       "      <td>150</td>\n",
       "      <td>1</td>\n",
       "      <td>1</td>\n",
       "    </tr>\n",
       "    <tr>\n",
       "      <th>1</th>\n",
       "      <td>1000</td>\n",
       "      <td>Краснодар</td>\n",
       "      <td>ultra</td>\n",
       "      <td>6</td>\n",
       "      <td>172.0</td>\n",
       "      <td>23257.0</td>\n",
       "      <td>60.0</td>\n",
       "      <td>1000</td>\n",
       "      <td>30720</td>\n",
       "      <td>3000</td>\n",
       "      <td>1950</td>\n",
       "      <td>150</td>\n",
       "      <td>1</td>\n",
       "      <td>1</td>\n",
       "    </tr>\n",
       "    <tr>\n",
       "      <th>2</th>\n",
       "      <td>1000</td>\n",
       "      <td>Краснодар</td>\n",
       "      <td>ultra</td>\n",
       "      <td>7</td>\n",
       "      <td>340.0</td>\n",
       "      <td>14016.0</td>\n",
       "      <td>75.0</td>\n",
       "      <td>1000</td>\n",
       "      <td>30720</td>\n",
       "      <td>3000</td>\n",
       "      <td>1950</td>\n",
       "      <td>150</td>\n",
       "      <td>1</td>\n",
       "      <td>1</td>\n",
       "    </tr>\n",
       "    <tr>\n",
       "      <th>3</th>\n",
       "      <td>1000</td>\n",
       "      <td>Краснодар</td>\n",
       "      <td>ultra</td>\n",
       "      <td>8</td>\n",
       "      <td>408.0</td>\n",
       "      <td>14070.0</td>\n",
       "      <td>81.0</td>\n",
       "      <td>1000</td>\n",
       "      <td>30720</td>\n",
       "      <td>3000</td>\n",
       "      <td>1950</td>\n",
       "      <td>150</td>\n",
       "      <td>1</td>\n",
       "      <td>1</td>\n",
       "    </tr>\n",
       "    <tr>\n",
       "      <th>4</th>\n",
       "      <td>1000</td>\n",
       "      <td>Краснодар</td>\n",
       "      <td>ultra</td>\n",
       "      <td>9</td>\n",
       "      <td>466.0</td>\n",
       "      <td>14581.0</td>\n",
       "      <td>57.0</td>\n",
       "      <td>1000</td>\n",
       "      <td>30720</td>\n",
       "      <td>3000</td>\n",
       "      <td>1950</td>\n",
       "      <td>150</td>\n",
       "      <td>1</td>\n",
       "      <td>1</td>\n",
       "    </tr>\n",
       "    <tr>\n",
       "      <th>5</th>\n",
       "      <td>1000</td>\n",
       "      <td>Краснодар</td>\n",
       "      <td>ultra</td>\n",
       "      <td>10</td>\n",
       "      <td>350.0</td>\n",
       "      <td>14717.0</td>\n",
       "      <td>73.0</td>\n",
       "      <td>1000</td>\n",
       "      <td>30720</td>\n",
       "      <td>3000</td>\n",
       "      <td>1950</td>\n",
       "      <td>150</td>\n",
       "      <td>1</td>\n",
       "      <td>1</td>\n",
       "    </tr>\n",
       "    <tr>\n",
       "      <th>6</th>\n",
       "      <td>1000</td>\n",
       "      <td>Краснодар</td>\n",
       "      <td>ultra</td>\n",
       "      <td>11</td>\n",
       "      <td>338.0</td>\n",
       "      <td>14768.0</td>\n",
       "      <td>58.0</td>\n",
       "      <td>1000</td>\n",
       "      <td>30720</td>\n",
       "      <td>3000</td>\n",
       "      <td>1950</td>\n",
       "      <td>150</td>\n",
       "      <td>1</td>\n",
       "      <td>1</td>\n",
       "    </tr>\n",
       "    <tr>\n",
       "      <th>7</th>\n",
       "      <td>1000</td>\n",
       "      <td>Краснодар</td>\n",
       "      <td>ultra</td>\n",
       "      <td>12</td>\n",
       "      <td>333.0</td>\n",
       "      <td>9827.0</td>\n",
       "      <td>70.0</td>\n",
       "      <td>1000</td>\n",
       "      <td>30720</td>\n",
       "      <td>3000</td>\n",
       "      <td>1950</td>\n",
       "      <td>150</td>\n",
       "      <td>1</td>\n",
       "      <td>1</td>\n",
       "    </tr>\n",
       "    <tr>\n",
       "      <th>8</th>\n",
       "      <td>1003</td>\n",
       "      <td>Москва</td>\n",
       "      <td>ultra</td>\n",
       "      <td>8</td>\n",
       "      <td>380.0</td>\n",
       "      <td>8571.0</td>\n",
       "      <td>37.0</td>\n",
       "      <td>1000</td>\n",
       "      <td>30720</td>\n",
       "      <td>3000</td>\n",
       "      <td>1950</td>\n",
       "      <td>150</td>\n",
       "      <td>1</td>\n",
       "      <td>1</td>\n",
       "    </tr>\n",
       "    <tr>\n",
       "      <th>9</th>\n",
       "      <td>1003</td>\n",
       "      <td>Москва</td>\n",
       "      <td>ultra</td>\n",
       "      <td>9</td>\n",
       "      <td>961.0</td>\n",
       "      <td>12479.0</td>\n",
       "      <td>91.0</td>\n",
       "      <td>1000</td>\n",
       "      <td>30720</td>\n",
       "      <td>3000</td>\n",
       "      <td>1950</td>\n",
       "      <td>150</td>\n",
       "      <td>1</td>\n",
       "      <td>1</td>\n",
       "    </tr>\n",
       "  </tbody>\n",
       "</table>\n",
       "</div>"
      ],
      "text/plain": [
       "  user_id       city tariff  month  duration  mb_used  message  \\\n",
       "0    1000  Краснодар  ultra      5     159.0   2256.0     22.0   \n",
       "1    1000  Краснодар  ultra      6     172.0  23257.0     60.0   \n",
       "2    1000  Краснодар  ultra      7     340.0  14016.0     75.0   \n",
       "3    1000  Краснодар  ultra      8     408.0  14070.0     81.0   \n",
       "4    1000  Краснодар  ultra      9     466.0  14581.0     57.0   \n",
       "5    1000  Краснодар  ultra     10     350.0  14717.0     73.0   \n",
       "6    1000  Краснодар  ultra     11     338.0  14768.0     58.0   \n",
       "7    1000  Краснодар  ultra     12     333.0   9827.0     70.0   \n",
       "8    1003     Москва  ultra      8     380.0   8571.0     37.0   \n",
       "9    1003     Москва  ultra      9     961.0  12479.0     91.0   \n",
       "\n",
       "   messages_included  mb_per_month_included  minutes_included  \\\n",
       "0               1000                  30720              3000   \n",
       "1               1000                  30720              3000   \n",
       "2               1000                  30720              3000   \n",
       "3               1000                  30720              3000   \n",
       "4               1000                  30720              3000   \n",
       "5               1000                  30720              3000   \n",
       "6               1000                  30720              3000   \n",
       "7               1000                  30720              3000   \n",
       "8               1000                  30720              3000   \n",
       "9               1000                  30720              3000   \n",
       "\n",
       "   rub_monthly_fee  rub_per_gb  rub_per_message  rub_per_minute  \n",
       "0             1950         150                1               1  \n",
       "1             1950         150                1               1  \n",
       "2             1950         150                1               1  \n",
       "3             1950         150                1               1  \n",
       "4             1950         150                1               1  \n",
       "5             1950         150                1               1  \n",
       "6             1950         150                1               1  \n",
       "7             1950         150                1               1  \n",
       "8             1950         150                1               1  \n",
       "9             1950         150                1               1  "
      ]
     },
     "metadata": {},
     "output_type": "display_data"
    },
    {
     "name": "stdout",
     "output_type": "stream",
     "text": [
      "<class 'pandas.core.frame.DataFrame'>\n",
      "Int64Index: 3214 entries, 0 to 3213\n",
      "Data columns (total 14 columns):\n",
      " #   Column                 Non-Null Count  Dtype  \n",
      "---  ------                 --------------  -----  \n",
      " 0   user_id                3214 non-null   object \n",
      " 1   city                   3214 non-null   object \n",
      " 2   tariff                 3214 non-null   object \n",
      " 3   month                  3214 non-null   int64  \n",
      " 4   duration               3174 non-null   float64\n",
      " 5   mb_used                3203 non-null   float64\n",
      " 6   message                2717 non-null   float64\n",
      " 7   messages_included      3214 non-null   int64  \n",
      " 8   mb_per_month_included  3214 non-null   int64  \n",
      " 9   minutes_included       3214 non-null   int64  \n",
      " 10  rub_monthly_fee        3214 non-null   int64  \n",
      " 11  rub_per_gb             3214 non-null   int64  \n",
      " 12  rub_per_message        3214 non-null   int64  \n",
      " 13  rub_per_minute         3214 non-null   int64  \n",
      "dtypes: float64(3), int64(8), object(3)\n",
      "memory usage: 376.6+ KB\n",
      "None\n"
     ]
    }
   ],
   "source": [
    "df = df[['user_id', 'city', 'tariff', 'month', 'duration', 'mb_used', 'message', 'messages_included', 'mb_per_month_included', 'minutes_included', 'rub_monthly_fee', 'rub_per_gb', 'rub_per_message', 'rub_per_minute']]\n",
    "display(df.head(10))\n",
    "print(df.info())"
   ]
  },
  {
   "cell_type": "markdown",
   "metadata": {},
   "source": [
    "<div class=\"alert alert-info\">\n",
    "Видим, что в столбцах duration, mb_used, message есть пропуски. \n",
    "Методом isna() найдём все строки с пропусками в этих столбцах и просмотрим первые пять    \n",
    " \n",
    "</div>\n",
    "<font color='blue'> </font>     \n"
   ]
  },
  {
   "cell_type": "code",
   "execution_count": 18,
   "metadata": {},
   "outputs": [
    {
     "data": {
      "text/html": [
       "<div>\n",
       "<style scoped>\n",
       "    .dataframe tbody tr th:only-of-type {\n",
       "        vertical-align: middle;\n",
       "    }\n",
       "\n",
       "    .dataframe tbody tr th {\n",
       "        vertical-align: top;\n",
       "    }\n",
       "\n",
       "    .dataframe thead th {\n",
       "        text-align: right;\n",
       "    }\n",
       "</style>\n",
       "<table border=\"1\" class=\"dataframe\">\n",
       "  <thead>\n",
       "    <tr style=\"text-align: right;\">\n",
       "      <th></th>\n",
       "      <th>user_id</th>\n",
       "      <th>city</th>\n",
       "      <th>tariff</th>\n",
       "      <th>month</th>\n",
       "      <th>duration</th>\n",
       "      <th>mb_used</th>\n",
       "      <th>message</th>\n",
       "      <th>messages_included</th>\n",
       "      <th>mb_per_month_included</th>\n",
       "      <th>minutes_included</th>\n",
       "      <th>rub_monthly_fee</th>\n",
       "      <th>rub_per_gb</th>\n",
       "      <th>rub_per_message</th>\n",
       "      <th>rub_per_minute</th>\n",
       "    </tr>\n",
       "  </thead>\n",
       "  <tbody>\n",
       "    <tr>\n",
       "      <th>151</th>\n",
       "      <td>1091</td>\n",
       "      <td>Набережные Челны</td>\n",
       "      <td>ultra</td>\n",
       "      <td>5</td>\n",
       "      <td>NaN</td>\n",
       "      <td>10714.0</td>\n",
       "      <td>30.0</td>\n",
       "      <td>1000</td>\n",
       "      <td>30720</td>\n",
       "      <td>3000</td>\n",
       "      <td>1950</td>\n",
       "      <td>150</td>\n",
       "      <td>1</td>\n",
       "      <td>1</td>\n",
       "    </tr>\n",
       "    <tr>\n",
       "      <th>152</th>\n",
       "      <td>1091</td>\n",
       "      <td>Набережные Челны</td>\n",
       "      <td>ultra</td>\n",
       "      <td>6</td>\n",
       "      <td>NaN</td>\n",
       "      <td>10245.0</td>\n",
       "      <td>30.0</td>\n",
       "      <td>1000</td>\n",
       "      <td>30720</td>\n",
       "      <td>3000</td>\n",
       "      <td>1950</td>\n",
       "      <td>150</td>\n",
       "      <td>1</td>\n",
       "      <td>1</td>\n",
       "    </tr>\n",
       "    <tr>\n",
       "      <th>153</th>\n",
       "      <td>1091</td>\n",
       "      <td>Набережные Челны</td>\n",
       "      <td>ultra</td>\n",
       "      <td>7</td>\n",
       "      <td>NaN</td>\n",
       "      <td>16460.0</td>\n",
       "      <td>35.0</td>\n",
       "      <td>1000</td>\n",
       "      <td>30720</td>\n",
       "      <td>3000</td>\n",
       "      <td>1950</td>\n",
       "      <td>150</td>\n",
       "      <td>1</td>\n",
       "      <td>1</td>\n",
       "    </tr>\n",
       "    <tr>\n",
       "      <th>154</th>\n",
       "      <td>1091</td>\n",
       "      <td>Набережные Челны</td>\n",
       "      <td>ultra</td>\n",
       "      <td>8</td>\n",
       "      <td>NaN</td>\n",
       "      <td>12644.0</td>\n",
       "      <td>31.0</td>\n",
       "      <td>1000</td>\n",
       "      <td>30720</td>\n",
       "      <td>3000</td>\n",
       "      <td>1950</td>\n",
       "      <td>150</td>\n",
       "      <td>1</td>\n",
       "      <td>1</td>\n",
       "    </tr>\n",
       "    <tr>\n",
       "      <th>155</th>\n",
       "      <td>1091</td>\n",
       "      <td>Набережные Челны</td>\n",
       "      <td>ultra</td>\n",
       "      <td>9</td>\n",
       "      <td>NaN</td>\n",
       "      <td>16611.0</td>\n",
       "      <td>32.0</td>\n",
       "      <td>1000</td>\n",
       "      <td>30720</td>\n",
       "      <td>3000</td>\n",
       "      <td>1950</td>\n",
       "      <td>150</td>\n",
       "      <td>1</td>\n",
       "      <td>1</td>\n",
       "    </tr>\n",
       "  </tbody>\n",
       "</table>\n",
       "</div>"
      ],
      "text/plain": [
       "    user_id              city tariff  month  duration  mb_used  message  \\\n",
       "151    1091  Набережные Челны  ultra      5       NaN  10714.0     30.0   \n",
       "152    1091  Набережные Челны  ultra      6       NaN  10245.0     30.0   \n",
       "153    1091  Набережные Челны  ultra      7       NaN  16460.0     35.0   \n",
       "154    1091  Набережные Челны  ultra      8       NaN  12644.0     31.0   \n",
       "155    1091  Набережные Челны  ultra      9       NaN  16611.0     32.0   \n",
       "\n",
       "     messages_included  mb_per_month_included  minutes_included  \\\n",
       "151               1000                  30720              3000   \n",
       "152               1000                  30720              3000   \n",
       "153               1000                  30720              3000   \n",
       "154               1000                  30720              3000   \n",
       "155               1000                  30720              3000   \n",
       "\n",
       "     rub_monthly_fee  rub_per_gb  rub_per_message  rub_per_minute  \n",
       "151             1950         150                1               1  \n",
       "152             1950         150                1               1  \n",
       "153             1950         150                1               1  \n",
       "154             1950         150                1               1  \n",
       "155             1950         150                1               1  "
      ]
     },
     "metadata": {},
     "output_type": "display_data"
    },
    {
     "data": {
      "text/html": [
       "<div>\n",
       "<style scoped>\n",
       "    .dataframe tbody tr th:only-of-type {\n",
       "        vertical-align: middle;\n",
       "    }\n",
       "\n",
       "    .dataframe tbody tr th {\n",
       "        vertical-align: top;\n",
       "    }\n",
       "\n",
       "    .dataframe thead th {\n",
       "        text-align: right;\n",
       "    }\n",
       "</style>\n",
       "<table border=\"1\" class=\"dataframe\">\n",
       "  <thead>\n",
       "    <tr style=\"text-align: right;\">\n",
       "      <th></th>\n",
       "      <th>user_id</th>\n",
       "      <th>city</th>\n",
       "      <th>tariff</th>\n",
       "      <th>month</th>\n",
       "      <th>duration</th>\n",
       "      <th>mb_used</th>\n",
       "      <th>message</th>\n",
       "      <th>messages_included</th>\n",
       "      <th>mb_per_month_included</th>\n",
       "      <th>minutes_included</th>\n",
       "      <th>rub_monthly_fee</th>\n",
       "      <th>rub_per_gb</th>\n",
       "      <th>rub_per_message</th>\n",
       "      <th>rub_per_minute</th>\n",
       "    </tr>\n",
       "  </thead>\n",
       "  <tbody>\n",
       "    <tr>\n",
       "      <th>476</th>\n",
       "      <td>1273</td>\n",
       "      <td>Курган</td>\n",
       "      <td>ultra</td>\n",
       "      <td>5</td>\n",
       "      <td>220.0</td>\n",
       "      <td>NaN</td>\n",
       "      <td>21.0</td>\n",
       "      <td>1000</td>\n",
       "      <td>30720</td>\n",
       "      <td>3000</td>\n",
       "      <td>1950</td>\n",
       "      <td>150</td>\n",
       "      <td>1</td>\n",
       "      <td>1</td>\n",
       "    </tr>\n",
       "    <tr>\n",
       "      <th>477</th>\n",
       "      <td>1273</td>\n",
       "      <td>Курган</td>\n",
       "      <td>ultra</td>\n",
       "      <td>6</td>\n",
       "      <td>230.0</td>\n",
       "      <td>NaN</td>\n",
       "      <td>38.0</td>\n",
       "      <td>1000</td>\n",
       "      <td>30720</td>\n",
       "      <td>3000</td>\n",
       "      <td>1950</td>\n",
       "      <td>150</td>\n",
       "      <td>1</td>\n",
       "      <td>1</td>\n",
       "    </tr>\n",
       "    <tr>\n",
       "      <th>478</th>\n",
       "      <td>1273</td>\n",
       "      <td>Курган</td>\n",
       "      <td>ultra</td>\n",
       "      <td>7</td>\n",
       "      <td>253.0</td>\n",
       "      <td>NaN</td>\n",
       "      <td>37.0</td>\n",
       "      <td>1000</td>\n",
       "      <td>30720</td>\n",
       "      <td>3000</td>\n",
       "      <td>1950</td>\n",
       "      <td>150</td>\n",
       "      <td>1</td>\n",
       "      <td>1</td>\n",
       "    </tr>\n",
       "    <tr>\n",
       "      <th>479</th>\n",
       "      <td>1273</td>\n",
       "      <td>Курган</td>\n",
       "      <td>ultra</td>\n",
       "      <td>8</td>\n",
       "      <td>253.0</td>\n",
       "      <td>NaN</td>\n",
       "      <td>41.0</td>\n",
       "      <td>1000</td>\n",
       "      <td>30720</td>\n",
       "      <td>3000</td>\n",
       "      <td>1950</td>\n",
       "      <td>150</td>\n",
       "      <td>1</td>\n",
       "      <td>1</td>\n",
       "    </tr>\n",
       "    <tr>\n",
       "      <th>480</th>\n",
       "      <td>1273</td>\n",
       "      <td>Курган</td>\n",
       "      <td>ultra</td>\n",
       "      <td>9</td>\n",
       "      <td>223.0</td>\n",
       "      <td>NaN</td>\n",
       "      <td>32.0</td>\n",
       "      <td>1000</td>\n",
       "      <td>30720</td>\n",
       "      <td>3000</td>\n",
       "      <td>1950</td>\n",
       "      <td>150</td>\n",
       "      <td>1</td>\n",
       "      <td>1</td>\n",
       "    </tr>\n",
       "  </tbody>\n",
       "</table>\n",
       "</div>"
      ],
      "text/plain": [
       "    user_id    city tariff  month  duration  mb_used  message  \\\n",
       "476    1273  Курган  ultra      5     220.0      NaN     21.0   \n",
       "477    1273  Курган  ultra      6     230.0      NaN     38.0   \n",
       "478    1273  Курган  ultra      7     253.0      NaN     37.0   \n",
       "479    1273  Курган  ultra      8     253.0      NaN     41.0   \n",
       "480    1273  Курган  ultra      9     223.0      NaN     32.0   \n",
       "\n",
       "     messages_included  mb_per_month_included  minutes_included  \\\n",
       "476               1000                  30720              3000   \n",
       "477               1000                  30720              3000   \n",
       "478               1000                  30720              3000   \n",
       "479               1000                  30720              3000   \n",
       "480               1000                  30720              3000   \n",
       "\n",
       "     rub_monthly_fee  rub_per_gb  rub_per_message  rub_per_minute  \n",
       "476             1950         150                1               1  \n",
       "477             1950         150                1               1  \n",
       "478             1950         150                1               1  \n",
       "479             1950         150                1               1  \n",
       "480             1950         150                1               1  "
      ]
     },
     "metadata": {},
     "output_type": "display_data"
    },
    {
     "data": {
      "text/html": [
       "<div>\n",
       "<style scoped>\n",
       "    .dataframe tbody tr th:only-of-type {\n",
       "        vertical-align: middle;\n",
       "    }\n",
       "\n",
       "    .dataframe tbody tr th {\n",
       "        vertical-align: top;\n",
       "    }\n",
       "\n",
       "    .dataframe thead th {\n",
       "        text-align: right;\n",
       "    }\n",
       "</style>\n",
       "<table border=\"1\" class=\"dataframe\">\n",
       "  <thead>\n",
       "    <tr style=\"text-align: right;\">\n",
       "      <th></th>\n",
       "      <th>user_id</th>\n",
       "      <th>city</th>\n",
       "      <th>tariff</th>\n",
       "      <th>month</th>\n",
       "      <th>duration</th>\n",
       "      <th>mb_used</th>\n",
       "      <th>message</th>\n",
       "      <th>messages_included</th>\n",
       "      <th>mb_per_month_included</th>\n",
       "      <th>minutes_included</th>\n",
       "      <th>rub_monthly_fee</th>\n",
       "      <th>rub_per_gb</th>\n",
       "      <th>rub_per_message</th>\n",
       "      <th>rub_per_minute</th>\n",
       "    </tr>\n",
       "  </thead>\n",
       "  <tbody>\n",
       "    <tr>\n",
       "      <th>49</th>\n",
       "      <td>1024</td>\n",
       "      <td>Санкт-Петербург</td>\n",
       "      <td>ultra</td>\n",
       "      <td>10</td>\n",
       "      <td>79.0</td>\n",
       "      <td>3313.0</td>\n",
       "      <td>NaN</td>\n",
       "      <td>1000</td>\n",
       "      <td>30720</td>\n",
       "      <td>3000</td>\n",
       "      <td>1950</td>\n",
       "      <td>150</td>\n",
       "      <td>1</td>\n",
       "      <td>1</td>\n",
       "    </tr>\n",
       "    <tr>\n",
       "      <th>50</th>\n",
       "      <td>1024</td>\n",
       "      <td>Санкт-Петербург</td>\n",
       "      <td>ultra</td>\n",
       "      <td>11</td>\n",
       "      <td>1146.0</td>\n",
       "      <td>43146.0</td>\n",
       "      <td>NaN</td>\n",
       "      <td>1000</td>\n",
       "      <td>30720</td>\n",
       "      <td>3000</td>\n",
       "      <td>1950</td>\n",
       "      <td>150</td>\n",
       "      <td>1</td>\n",
       "      <td>1</td>\n",
       "    </tr>\n",
       "    <tr>\n",
       "      <th>51</th>\n",
       "      <td>1024</td>\n",
       "      <td>Санкт-Петербург</td>\n",
       "      <td>ultra</td>\n",
       "      <td>12</td>\n",
       "      <td>949.0</td>\n",
       "      <td>35985.0</td>\n",
       "      <td>NaN</td>\n",
       "      <td>1000</td>\n",
       "      <td>30720</td>\n",
       "      <td>3000</td>\n",
       "      <td>1950</td>\n",
       "      <td>150</td>\n",
       "      <td>1</td>\n",
       "      <td>1</td>\n",
       "    </tr>\n",
       "    <tr>\n",
       "      <th>67</th>\n",
       "      <td>1049</td>\n",
       "      <td>Москва</td>\n",
       "      <td>ultra</td>\n",
       "      <td>3</td>\n",
       "      <td>403.0</td>\n",
       "      <td>6201.0</td>\n",
       "      <td>NaN</td>\n",
       "      <td>1000</td>\n",
       "      <td>30720</td>\n",
       "      <td>3000</td>\n",
       "      <td>1950</td>\n",
       "      <td>150</td>\n",
       "      <td>1</td>\n",
       "      <td>1</td>\n",
       "    </tr>\n",
       "    <tr>\n",
       "      <th>68</th>\n",
       "      <td>1049</td>\n",
       "      <td>Москва</td>\n",
       "      <td>ultra</td>\n",
       "      <td>4</td>\n",
       "      <td>528.0</td>\n",
       "      <td>5295.0</td>\n",
       "      <td>NaN</td>\n",
       "      <td>1000</td>\n",
       "      <td>30720</td>\n",
       "      <td>3000</td>\n",
       "      <td>1950</td>\n",
       "      <td>150</td>\n",
       "      <td>1</td>\n",
       "      <td>1</td>\n",
       "    </tr>\n",
       "  </tbody>\n",
       "</table>\n",
       "</div>"
      ],
      "text/plain": [
       "   user_id             city tariff  month  duration  mb_used  message  \\\n",
       "49    1024  Санкт-Петербург  ultra     10      79.0   3313.0      NaN   \n",
       "50    1024  Санкт-Петербург  ultra     11    1146.0  43146.0      NaN   \n",
       "51    1024  Санкт-Петербург  ultra     12     949.0  35985.0      NaN   \n",
       "67    1049           Москва  ultra      3     403.0   6201.0      NaN   \n",
       "68    1049           Москва  ultra      4     528.0   5295.0      NaN   \n",
       "\n",
       "    messages_included  mb_per_month_included  minutes_included  \\\n",
       "49               1000                  30720              3000   \n",
       "50               1000                  30720              3000   \n",
       "51               1000                  30720              3000   \n",
       "67               1000                  30720              3000   \n",
       "68               1000                  30720              3000   \n",
       "\n",
       "    rub_monthly_fee  rub_per_gb  rub_per_message  rub_per_minute  \n",
       "49             1950         150                1               1  \n",
       "50             1950         150                1               1  \n",
       "51             1950         150                1               1  \n",
       "67             1950         150                1               1  \n",
       "68             1950         150                1               1  "
      ]
     },
     "metadata": {},
     "output_type": "display_data"
    }
   ],
   "source": [
    "display(df[df['duration'].isna()].head(5))\n",
    "display(df[df['mb_used'].isna()].head(5))\n",
    "display(df[df['message'].isna()].head(5))"
   ]
  },
  {
   "cell_type": "markdown",
   "metadata": {},
   "source": [
    "<div class=\"alert alert-info\">\n",
    "Скорее всего, пропуски возникли из-за того, что пользователь в данном месяце не использовал соответствующие услуги. Поэтому заменим все пропуски в этих столбцах на нули\n",
    "</div>\n",
    "<font color='blue'> </font> "
   ]
  },
  {
   "cell_type": "code",
   "execution_count": 19,
   "metadata": {},
   "outputs": [
    {
     "name": "stdout",
     "output_type": "stream",
     "text": [
      "<class 'pandas.core.frame.DataFrame'>\n",
      "Int64Index: 3214 entries, 0 to 3213\n",
      "Data columns (total 14 columns):\n",
      " #   Column                 Non-Null Count  Dtype  \n",
      "---  ------                 --------------  -----  \n",
      " 0   user_id                3214 non-null   object \n",
      " 1   city                   3214 non-null   object \n",
      " 2   tariff                 3214 non-null   object \n",
      " 3   month                  3214 non-null   int64  \n",
      " 4   duration               3214 non-null   float64\n",
      " 5   mb_used                3214 non-null   float64\n",
      " 6   message                3214 non-null   float64\n",
      " 7   messages_included      3214 non-null   int64  \n",
      " 8   mb_per_month_included  3214 non-null   int64  \n",
      " 9   minutes_included       3214 non-null   int64  \n",
      " 10  rub_monthly_fee        3214 non-null   int64  \n",
      " 11  rub_per_gb             3214 non-null   int64  \n",
      " 12  rub_per_message        3214 non-null   int64  \n",
      " 13  rub_per_minute         3214 non-null   int64  \n",
      "dtypes: float64(3), int64(8), object(3)\n",
      "memory usage: 376.6+ KB\n",
      "None\n"
     ]
    }
   ],
   "source": [
    "df['duration'] = df['duration'].fillna(0)\n",
    "df['mb_used'] = df['mb_used'].fillna(0)\n",
    "df['message'] = df['message'].fillna(0)\n",
    "\n",
    "print(df.info())"
   ]
  },
  {
   "cell_type": "markdown",
   "metadata": {},
   "source": [
    "Все, теперь пропусков нет.\n",
    "Таким образом, из полученной таблицы мы извлекаем следующую информацию (по каждому пользователю в помесячной разбивке):\n",
    "1. Количество израсходованных минут разговоров (столбец duration),\n",
    "2. Количество отправленных сообщений (столбец message),\n",
    "3. Объем израсходованного интернет-трафика (столбец mb_used).\n",
    "Добавим столбец с помесячной выручкой от каждого пользователя.\n"
   ]
  },
  {
   "cell_type": "markdown",
   "metadata": {},
   "source": [
    "### Расчет помесячной выручки от каждого пользователя"
   ]
  },
  {
   "cell_type": "markdown",
   "metadata": {},
   "source": [
    "Выручку от каждого пользователя определим следующим образом: количество платных (сверх абон.платы) звонков, трафика, смс умножим на соответствующий тарим + абон.плата.\n",
    "Но для начала переведем слолбцы с мегабайтами в килобайты из расчета 1 ГБайт = 1024 МБайта\n"
   ]
  },
  {
   "cell_type": "code",
   "execution_count": 20,
   "metadata": {},
   "outputs": [
    {
     "data": {
      "text/html": [
       "<div>\n",
       "<style scoped>\n",
       "    .dataframe tbody tr th:only-of-type {\n",
       "        vertical-align: middle;\n",
       "    }\n",
       "\n",
       "    .dataframe tbody tr th {\n",
       "        vertical-align: top;\n",
       "    }\n",
       "\n",
       "    .dataframe thead th {\n",
       "        text-align: right;\n",
       "    }\n",
       "</style>\n",
       "<table border=\"1\" class=\"dataframe\">\n",
       "  <thead>\n",
       "    <tr style=\"text-align: right;\">\n",
       "      <th></th>\n",
       "      <th>user_id</th>\n",
       "      <th>city</th>\n",
       "      <th>tariff</th>\n",
       "      <th>month</th>\n",
       "      <th>duration</th>\n",
       "      <th>mb_used</th>\n",
       "      <th>message</th>\n",
       "      <th>messages_included</th>\n",
       "      <th>mb_per_month_included</th>\n",
       "      <th>minutes_included</th>\n",
       "      <th>rub_monthly_fee</th>\n",
       "      <th>rub_per_gb</th>\n",
       "      <th>rub_per_message</th>\n",
       "      <th>rub_per_minute</th>\n",
       "      <th>gb_used</th>\n",
       "      <th>gb_per_month_included</th>\n",
       "    </tr>\n",
       "  </thead>\n",
       "  <tbody>\n",
       "    <tr>\n",
       "      <th>0</th>\n",
       "      <td>1000</td>\n",
       "      <td>Краснодар</td>\n",
       "      <td>ultra</td>\n",
       "      <td>5</td>\n",
       "      <td>159.0</td>\n",
       "      <td>2256.0</td>\n",
       "      <td>22.0</td>\n",
       "      <td>1000</td>\n",
       "      <td>30720</td>\n",
       "      <td>3000</td>\n",
       "      <td>1950</td>\n",
       "      <td>150</td>\n",
       "      <td>1</td>\n",
       "      <td>1</td>\n",
       "      <td>3.0</td>\n",
       "      <td>30.0</td>\n",
       "    </tr>\n",
       "    <tr>\n",
       "      <th>1</th>\n",
       "      <td>1000</td>\n",
       "      <td>Краснодар</td>\n",
       "      <td>ultra</td>\n",
       "      <td>6</td>\n",
       "      <td>172.0</td>\n",
       "      <td>23257.0</td>\n",
       "      <td>60.0</td>\n",
       "      <td>1000</td>\n",
       "      <td>30720</td>\n",
       "      <td>3000</td>\n",
       "      <td>1950</td>\n",
       "      <td>150</td>\n",
       "      <td>1</td>\n",
       "      <td>1</td>\n",
       "      <td>23.0</td>\n",
       "      <td>30.0</td>\n",
       "    </tr>\n",
       "    <tr>\n",
       "      <th>2</th>\n",
       "      <td>1000</td>\n",
       "      <td>Краснодар</td>\n",
       "      <td>ultra</td>\n",
       "      <td>7</td>\n",
       "      <td>340.0</td>\n",
       "      <td>14016.0</td>\n",
       "      <td>75.0</td>\n",
       "      <td>1000</td>\n",
       "      <td>30720</td>\n",
       "      <td>3000</td>\n",
       "      <td>1950</td>\n",
       "      <td>150</td>\n",
       "      <td>1</td>\n",
       "      <td>1</td>\n",
       "      <td>14.0</td>\n",
       "      <td>30.0</td>\n",
       "    </tr>\n",
       "    <tr>\n",
       "      <th>3</th>\n",
       "      <td>1000</td>\n",
       "      <td>Краснодар</td>\n",
       "      <td>ultra</td>\n",
       "      <td>8</td>\n",
       "      <td>408.0</td>\n",
       "      <td>14070.0</td>\n",
       "      <td>81.0</td>\n",
       "      <td>1000</td>\n",
       "      <td>30720</td>\n",
       "      <td>3000</td>\n",
       "      <td>1950</td>\n",
       "      <td>150</td>\n",
       "      <td>1</td>\n",
       "      <td>1</td>\n",
       "      <td>14.0</td>\n",
       "      <td>30.0</td>\n",
       "    </tr>\n",
       "    <tr>\n",
       "      <th>4</th>\n",
       "      <td>1000</td>\n",
       "      <td>Краснодар</td>\n",
       "      <td>ultra</td>\n",
       "      <td>9</td>\n",
       "      <td>466.0</td>\n",
       "      <td>14581.0</td>\n",
       "      <td>57.0</td>\n",
       "      <td>1000</td>\n",
       "      <td>30720</td>\n",
       "      <td>3000</td>\n",
       "      <td>1950</td>\n",
       "      <td>150</td>\n",
       "      <td>1</td>\n",
       "      <td>1</td>\n",
       "      <td>15.0</td>\n",
       "      <td>30.0</td>\n",
       "    </tr>\n",
       "  </tbody>\n",
       "</table>\n",
       "</div>"
      ],
      "text/plain": [
       "  user_id       city tariff  month  duration  mb_used  message  \\\n",
       "0    1000  Краснодар  ultra      5     159.0   2256.0     22.0   \n",
       "1    1000  Краснодар  ultra      6     172.0  23257.0     60.0   \n",
       "2    1000  Краснодар  ultra      7     340.0  14016.0     75.0   \n",
       "3    1000  Краснодар  ultra      8     408.0  14070.0     81.0   \n",
       "4    1000  Краснодар  ultra      9     466.0  14581.0     57.0   \n",
       "\n",
       "   messages_included  mb_per_month_included  minutes_included  \\\n",
       "0               1000                  30720              3000   \n",
       "1               1000                  30720              3000   \n",
       "2               1000                  30720              3000   \n",
       "3               1000                  30720              3000   \n",
       "4               1000                  30720              3000   \n",
       "\n",
       "   rub_monthly_fee  rub_per_gb  rub_per_message  rub_per_minute  gb_used  \\\n",
       "0             1950         150                1               1      3.0   \n",
       "1             1950         150                1               1     23.0   \n",
       "2             1950         150                1               1     14.0   \n",
       "3             1950         150                1               1     14.0   \n",
       "4             1950         150                1               1     15.0   \n",
       "\n",
       "   gb_per_month_included  \n",
       "0                   30.0  \n",
       "1                   30.0  \n",
       "2                   30.0  \n",
       "3                   30.0  \n",
       "4                   30.0  "
      ]
     },
     "metadata": {},
     "output_type": "display_data"
    }
   ],
   "source": [
    "df['gb_used'] = np.ceil(df['mb_used']/1024)\n",
    "df['gb_per_month_included'] = df['mb_per_month_included']/1024\n",
    "display(df.head())"
   ]
  },
  {
   "cell_type": "markdown",
   "metadata": {},
   "source": [
    "Теперь добавим столбцы с перерасходом: минут, гигабайтов, количества сообщений. \n",
    "Для этого напишем функции для каждого перерасхода"
   ]
  },
  {
   "cell_type": "code",
   "execution_count": 21,
   "metadata": {},
   "outputs": [
    {
     "data": {
      "text/html": [
       "<div>\n",
       "<style scoped>\n",
       "    .dataframe tbody tr th:only-of-type {\n",
       "        vertical-align: middle;\n",
       "    }\n",
       "\n",
       "    .dataframe tbody tr th {\n",
       "        vertical-align: top;\n",
       "    }\n",
       "\n",
       "    .dataframe thead th {\n",
       "        text-align: right;\n",
       "    }\n",
       "</style>\n",
       "<table border=\"1\" class=\"dataframe\">\n",
       "  <thead>\n",
       "    <tr style=\"text-align: right;\">\n",
       "      <th></th>\n",
       "      <th>user_id</th>\n",
       "      <th>city</th>\n",
       "      <th>tariff</th>\n",
       "      <th>month</th>\n",
       "      <th>duration</th>\n",
       "      <th>mb_used</th>\n",
       "      <th>message</th>\n",
       "      <th>messages_included</th>\n",
       "      <th>mb_per_month_included</th>\n",
       "      <th>minutes_included</th>\n",
       "      <th>rub_monthly_fee</th>\n",
       "      <th>rub_per_gb</th>\n",
       "      <th>rub_per_message</th>\n",
       "      <th>rub_per_minute</th>\n",
       "      <th>gb_used</th>\n",
       "      <th>gb_per_month_included</th>\n",
       "      <th>over_minute</th>\n",
       "    </tr>\n",
       "  </thead>\n",
       "  <tbody>\n",
       "    <tr>\n",
       "      <th>0</th>\n",
       "      <td>1000</td>\n",
       "      <td>Краснодар</td>\n",
       "      <td>ultra</td>\n",
       "      <td>5</td>\n",
       "      <td>159.0</td>\n",
       "      <td>2256.0</td>\n",
       "      <td>22.0</td>\n",
       "      <td>1000</td>\n",
       "      <td>30720</td>\n",
       "      <td>3000</td>\n",
       "      <td>1950</td>\n",
       "      <td>150</td>\n",
       "      <td>1</td>\n",
       "      <td>1</td>\n",
       "      <td>3.0</td>\n",
       "      <td>30.0</td>\n",
       "      <td>0.0</td>\n",
       "    </tr>\n",
       "    <tr>\n",
       "      <th>1</th>\n",
       "      <td>1000</td>\n",
       "      <td>Краснодар</td>\n",
       "      <td>ultra</td>\n",
       "      <td>6</td>\n",
       "      <td>172.0</td>\n",
       "      <td>23257.0</td>\n",
       "      <td>60.0</td>\n",
       "      <td>1000</td>\n",
       "      <td>30720</td>\n",
       "      <td>3000</td>\n",
       "      <td>1950</td>\n",
       "      <td>150</td>\n",
       "      <td>1</td>\n",
       "      <td>1</td>\n",
       "      <td>23.0</td>\n",
       "      <td>30.0</td>\n",
       "      <td>0.0</td>\n",
       "    </tr>\n",
       "    <tr>\n",
       "      <th>2</th>\n",
       "      <td>1000</td>\n",
       "      <td>Краснодар</td>\n",
       "      <td>ultra</td>\n",
       "      <td>7</td>\n",
       "      <td>340.0</td>\n",
       "      <td>14016.0</td>\n",
       "      <td>75.0</td>\n",
       "      <td>1000</td>\n",
       "      <td>30720</td>\n",
       "      <td>3000</td>\n",
       "      <td>1950</td>\n",
       "      <td>150</td>\n",
       "      <td>1</td>\n",
       "      <td>1</td>\n",
       "      <td>14.0</td>\n",
       "      <td>30.0</td>\n",
       "      <td>0.0</td>\n",
       "    </tr>\n",
       "    <tr>\n",
       "      <th>3</th>\n",
       "      <td>1000</td>\n",
       "      <td>Краснодар</td>\n",
       "      <td>ultra</td>\n",
       "      <td>8</td>\n",
       "      <td>408.0</td>\n",
       "      <td>14070.0</td>\n",
       "      <td>81.0</td>\n",
       "      <td>1000</td>\n",
       "      <td>30720</td>\n",
       "      <td>3000</td>\n",
       "      <td>1950</td>\n",
       "      <td>150</td>\n",
       "      <td>1</td>\n",
       "      <td>1</td>\n",
       "      <td>14.0</td>\n",
       "      <td>30.0</td>\n",
       "      <td>0.0</td>\n",
       "    </tr>\n",
       "    <tr>\n",
       "      <th>4</th>\n",
       "      <td>1000</td>\n",
       "      <td>Краснодар</td>\n",
       "      <td>ultra</td>\n",
       "      <td>9</td>\n",
       "      <td>466.0</td>\n",
       "      <td>14581.0</td>\n",
       "      <td>57.0</td>\n",
       "      <td>1000</td>\n",
       "      <td>30720</td>\n",
       "      <td>3000</td>\n",
       "      <td>1950</td>\n",
       "      <td>150</td>\n",
       "      <td>1</td>\n",
       "      <td>1</td>\n",
       "      <td>15.0</td>\n",
       "      <td>30.0</td>\n",
       "      <td>0.0</td>\n",
       "    </tr>\n",
       "  </tbody>\n",
       "</table>\n",
       "</div>"
      ],
      "text/plain": [
       "  user_id       city tariff  month  duration  mb_used  message  \\\n",
       "0    1000  Краснодар  ultra      5     159.0   2256.0     22.0   \n",
       "1    1000  Краснодар  ultra      6     172.0  23257.0     60.0   \n",
       "2    1000  Краснодар  ultra      7     340.0  14016.0     75.0   \n",
       "3    1000  Краснодар  ultra      8     408.0  14070.0     81.0   \n",
       "4    1000  Краснодар  ultra      9     466.0  14581.0     57.0   \n",
       "\n",
       "   messages_included  mb_per_month_included  minutes_included  \\\n",
       "0               1000                  30720              3000   \n",
       "1               1000                  30720              3000   \n",
       "2               1000                  30720              3000   \n",
       "3               1000                  30720              3000   \n",
       "4               1000                  30720              3000   \n",
       "\n",
       "   rub_monthly_fee  rub_per_gb  rub_per_message  rub_per_minute  gb_used  \\\n",
       "0             1950         150                1               1      3.0   \n",
       "1             1950         150                1               1     23.0   \n",
       "2             1950         150                1               1     14.0   \n",
       "3             1950         150                1               1     14.0   \n",
       "4             1950         150                1               1     15.0   \n",
       "\n",
       "   gb_per_month_included  over_minute  \n",
       "0                   30.0          0.0  \n",
       "1                   30.0          0.0  \n",
       "2                   30.0          0.0  \n",
       "3                   30.0          0.0  \n",
       "4                   30.0          0.0  "
      ]
     },
     "metadata": {},
     "output_type": "display_data"
    }
   ],
   "source": [
    "def over_minute(row):\n",
    "    duration = row['duration']\n",
    "    minutes_included = row['minutes_included']\n",
    "    if duration>minutes_included:\n",
    "        return duration-minutes_included\n",
    "    return 0\n",
    "df['over_minute'] = df.apply(over_minute, axis=1)\n",
    "display(df.head())\n"
   ]
  },
  {
   "cell_type": "code",
   "execution_count": 22,
   "metadata": {},
   "outputs": [],
   "source": [
    "def over_gb(row):\n",
    "    gb_used = row['gb_used']\n",
    "    gb_per_month_included = row['gb_per_month_included']\n",
    "    if gb_used>gb_per_month_included:\n",
    "        return gb_used-gb_per_month_included\n",
    "    return 0\n",
    "df['over_gb'] = df.apply(over_gb, axis=1)\n"
   ]
  },
  {
   "cell_type": "code",
   "execution_count": 23,
   "metadata": {
    "scrolled": true
   },
   "outputs": [
    {
     "data": {
      "text/html": [
       "<div>\n",
       "<style scoped>\n",
       "    .dataframe tbody tr th:only-of-type {\n",
       "        vertical-align: middle;\n",
       "    }\n",
       "\n",
       "    .dataframe tbody tr th {\n",
       "        vertical-align: top;\n",
       "    }\n",
       "\n",
       "    .dataframe thead th {\n",
       "        text-align: right;\n",
       "    }\n",
       "</style>\n",
       "<table border=\"1\" class=\"dataframe\">\n",
       "  <thead>\n",
       "    <tr style=\"text-align: right;\">\n",
       "      <th></th>\n",
       "      <th>user_id</th>\n",
       "      <th>city</th>\n",
       "      <th>tariff</th>\n",
       "      <th>month</th>\n",
       "      <th>duration</th>\n",
       "      <th>mb_used</th>\n",
       "      <th>message</th>\n",
       "      <th>messages_included</th>\n",
       "      <th>mb_per_month_included</th>\n",
       "      <th>minutes_included</th>\n",
       "      <th>rub_monthly_fee</th>\n",
       "      <th>rub_per_gb</th>\n",
       "      <th>rub_per_message</th>\n",
       "      <th>rub_per_minute</th>\n",
       "      <th>gb_used</th>\n",
       "      <th>gb_per_month_included</th>\n",
       "      <th>over_minute</th>\n",
       "      <th>over_gb</th>\n",
       "      <th>over_message</th>\n",
       "    </tr>\n",
       "  </thead>\n",
       "  <tbody>\n",
       "    <tr>\n",
       "      <th>0</th>\n",
       "      <td>1000</td>\n",
       "      <td>Краснодар</td>\n",
       "      <td>ultra</td>\n",
       "      <td>5</td>\n",
       "      <td>159.0</td>\n",
       "      <td>2256.0</td>\n",
       "      <td>22.0</td>\n",
       "      <td>1000</td>\n",
       "      <td>30720</td>\n",
       "      <td>3000</td>\n",
       "      <td>1950</td>\n",
       "      <td>150</td>\n",
       "      <td>1</td>\n",
       "      <td>1</td>\n",
       "      <td>3.0</td>\n",
       "      <td>30.0</td>\n",
       "      <td>0.0</td>\n",
       "      <td>0.0</td>\n",
       "      <td>0.0</td>\n",
       "    </tr>\n",
       "    <tr>\n",
       "      <th>1</th>\n",
       "      <td>1000</td>\n",
       "      <td>Краснодар</td>\n",
       "      <td>ultra</td>\n",
       "      <td>6</td>\n",
       "      <td>172.0</td>\n",
       "      <td>23257.0</td>\n",
       "      <td>60.0</td>\n",
       "      <td>1000</td>\n",
       "      <td>30720</td>\n",
       "      <td>3000</td>\n",
       "      <td>1950</td>\n",
       "      <td>150</td>\n",
       "      <td>1</td>\n",
       "      <td>1</td>\n",
       "      <td>23.0</td>\n",
       "      <td>30.0</td>\n",
       "      <td>0.0</td>\n",
       "      <td>0.0</td>\n",
       "      <td>0.0</td>\n",
       "    </tr>\n",
       "    <tr>\n",
       "      <th>2</th>\n",
       "      <td>1000</td>\n",
       "      <td>Краснодар</td>\n",
       "      <td>ultra</td>\n",
       "      <td>7</td>\n",
       "      <td>340.0</td>\n",
       "      <td>14016.0</td>\n",
       "      <td>75.0</td>\n",
       "      <td>1000</td>\n",
       "      <td>30720</td>\n",
       "      <td>3000</td>\n",
       "      <td>1950</td>\n",
       "      <td>150</td>\n",
       "      <td>1</td>\n",
       "      <td>1</td>\n",
       "      <td>14.0</td>\n",
       "      <td>30.0</td>\n",
       "      <td>0.0</td>\n",
       "      <td>0.0</td>\n",
       "      <td>0.0</td>\n",
       "    </tr>\n",
       "    <tr>\n",
       "      <th>3</th>\n",
       "      <td>1000</td>\n",
       "      <td>Краснодар</td>\n",
       "      <td>ultra</td>\n",
       "      <td>8</td>\n",
       "      <td>408.0</td>\n",
       "      <td>14070.0</td>\n",
       "      <td>81.0</td>\n",
       "      <td>1000</td>\n",
       "      <td>30720</td>\n",
       "      <td>3000</td>\n",
       "      <td>1950</td>\n",
       "      <td>150</td>\n",
       "      <td>1</td>\n",
       "      <td>1</td>\n",
       "      <td>14.0</td>\n",
       "      <td>30.0</td>\n",
       "      <td>0.0</td>\n",
       "      <td>0.0</td>\n",
       "      <td>0.0</td>\n",
       "    </tr>\n",
       "    <tr>\n",
       "      <th>4</th>\n",
       "      <td>1000</td>\n",
       "      <td>Краснодар</td>\n",
       "      <td>ultra</td>\n",
       "      <td>9</td>\n",
       "      <td>466.0</td>\n",
       "      <td>14581.0</td>\n",
       "      <td>57.0</td>\n",
       "      <td>1000</td>\n",
       "      <td>30720</td>\n",
       "      <td>3000</td>\n",
       "      <td>1950</td>\n",
       "      <td>150</td>\n",
       "      <td>1</td>\n",
       "      <td>1</td>\n",
       "      <td>15.0</td>\n",
       "      <td>30.0</td>\n",
       "      <td>0.0</td>\n",
       "      <td>0.0</td>\n",
       "      <td>0.0</td>\n",
       "    </tr>\n",
       "  </tbody>\n",
       "</table>\n",
       "</div>"
      ],
      "text/plain": [
       "  user_id       city tariff  month  duration  mb_used  message  \\\n",
       "0    1000  Краснодар  ultra      5     159.0   2256.0     22.0   \n",
       "1    1000  Краснодар  ultra      6     172.0  23257.0     60.0   \n",
       "2    1000  Краснодар  ultra      7     340.0  14016.0     75.0   \n",
       "3    1000  Краснодар  ultra      8     408.0  14070.0     81.0   \n",
       "4    1000  Краснодар  ultra      9     466.0  14581.0     57.0   \n",
       "\n",
       "   messages_included  mb_per_month_included  minutes_included  \\\n",
       "0               1000                  30720              3000   \n",
       "1               1000                  30720              3000   \n",
       "2               1000                  30720              3000   \n",
       "3               1000                  30720              3000   \n",
       "4               1000                  30720              3000   \n",
       "\n",
       "   rub_monthly_fee  rub_per_gb  rub_per_message  rub_per_minute  gb_used  \\\n",
       "0             1950         150                1               1      3.0   \n",
       "1             1950         150                1               1     23.0   \n",
       "2             1950         150                1               1     14.0   \n",
       "3             1950         150                1               1     14.0   \n",
       "4             1950         150                1               1     15.0   \n",
       "\n",
       "   gb_per_month_included  over_minute  over_gb  over_message  \n",
       "0                   30.0          0.0      0.0           0.0  \n",
       "1                   30.0          0.0      0.0           0.0  \n",
       "2                   30.0          0.0      0.0           0.0  \n",
       "3                   30.0          0.0      0.0           0.0  \n",
       "4                   30.0          0.0      0.0           0.0  "
      ]
     },
     "metadata": {},
     "output_type": "display_data"
    },
    {
     "name": "stdout",
     "output_type": "stream",
     "text": [
      "<class 'pandas.core.frame.DataFrame'>\n",
      "Int64Index: 3214 entries, 0 to 3213\n",
      "Data columns (total 19 columns):\n",
      " #   Column                 Non-Null Count  Dtype  \n",
      "---  ------                 --------------  -----  \n",
      " 0   user_id                3214 non-null   object \n",
      " 1   city                   3214 non-null   object \n",
      " 2   tariff                 3214 non-null   object \n",
      " 3   month                  3214 non-null   int64  \n",
      " 4   duration               3214 non-null   float64\n",
      " 5   mb_used                3214 non-null   float64\n",
      " 6   message                3214 non-null   float64\n",
      " 7   messages_included      3214 non-null   int64  \n",
      " 8   mb_per_month_included  3214 non-null   int64  \n",
      " 9   minutes_included       3214 non-null   int64  \n",
      " 10  rub_monthly_fee        3214 non-null   int64  \n",
      " 11  rub_per_gb             3214 non-null   int64  \n",
      " 12  rub_per_message        3214 non-null   int64  \n",
      " 13  rub_per_minute         3214 non-null   int64  \n",
      " 14  gb_used                3214 non-null   float64\n",
      " 15  gb_per_month_included  3214 non-null   float64\n",
      " 16  over_minute            3214 non-null   float64\n",
      " 17  over_gb                3214 non-null   float64\n",
      " 18  over_message           3214 non-null   float64\n",
      "dtypes: float64(8), int64(8), object(3)\n",
      "memory usage: 502.2+ KB\n",
      "None\n"
     ]
    }
   ],
   "source": [
    "def over_message(row):\n",
    "    message = row['message']\n",
    "    messages_included = row['messages_included']\n",
    "    if message>messages_included:\n",
    "        return message-messages_included\n",
    "    return 0\n",
    "df['over_message'] = df.apply(over_message, axis=1)\n",
    "display(df.head())\n",
    "print(df.info())"
   ]
  },
  {
   "cell_type": "markdown",
   "metadata": {},
   "source": [
    "Проверим корректность рассчета"
   ]
  },
  {
   "cell_type": "code",
   "execution_count": 24,
   "metadata": {},
   "outputs": [
    {
     "data": {
      "text/html": [
       "<div>\n",
       "<style scoped>\n",
       "    .dataframe tbody tr th:only-of-type {\n",
       "        vertical-align: middle;\n",
       "    }\n",
       "\n",
       "    .dataframe tbody tr th {\n",
       "        vertical-align: top;\n",
       "    }\n",
       "\n",
       "    .dataframe thead th {\n",
       "        text-align: right;\n",
       "    }\n",
       "</style>\n",
       "<table border=\"1\" class=\"dataframe\">\n",
       "  <thead>\n",
       "    <tr style=\"text-align: right;\">\n",
       "      <th></th>\n",
       "      <th>user_id</th>\n",
       "      <th>city</th>\n",
       "      <th>tariff</th>\n",
       "      <th>month</th>\n",
       "      <th>duration</th>\n",
       "      <th>mb_used</th>\n",
       "      <th>message</th>\n",
       "      <th>messages_included</th>\n",
       "      <th>mb_per_month_included</th>\n",
       "      <th>minutes_included</th>\n",
       "      <th>rub_monthly_fee</th>\n",
       "      <th>rub_per_gb</th>\n",
       "      <th>rub_per_message</th>\n",
       "      <th>rub_per_minute</th>\n",
       "      <th>gb_used</th>\n",
       "      <th>gb_per_month_included</th>\n",
       "      <th>over_minute</th>\n",
       "      <th>over_gb</th>\n",
       "      <th>over_message</th>\n",
       "    </tr>\n",
       "  </thead>\n",
       "  <tbody>\n",
       "    <tr>\n",
       "      <th>996</th>\n",
       "      <td>1005</td>\n",
       "      <td>Набережные Челны</td>\n",
       "      <td>smart</td>\n",
       "      <td>3</td>\n",
       "      <td>606.0</td>\n",
       "      <td>11117.0</td>\n",
       "      <td>56.0</td>\n",
       "      <td>50</td>\n",
       "      <td>15360</td>\n",
       "      <td>500</td>\n",
       "      <td>550</td>\n",
       "      <td>200</td>\n",
       "      <td>3</td>\n",
       "      <td>3</td>\n",
       "      <td>11.0</td>\n",
       "      <td>15.0</td>\n",
       "      <td>106.0</td>\n",
       "      <td>0.0</td>\n",
       "      <td>6.0</td>\n",
       "    </tr>\n",
       "    <tr>\n",
       "      <th>1000</th>\n",
       "      <td>1005</td>\n",
       "      <td>Набережные Челны</td>\n",
       "      <td>smart</td>\n",
       "      <td>7</td>\n",
       "      <td>569.0</td>\n",
       "      <td>7703.0</td>\n",
       "      <td>56.0</td>\n",
       "      <td>50</td>\n",
       "      <td>15360</td>\n",
       "      <td>500</td>\n",
       "      <td>550</td>\n",
       "      <td>200</td>\n",
       "      <td>3</td>\n",
       "      <td>3</td>\n",
       "      <td>8.0</td>\n",
       "      <td>15.0</td>\n",
       "      <td>69.0</td>\n",
       "      <td>0.0</td>\n",
       "      <td>6.0</td>\n",
       "    </tr>\n",
       "    <tr>\n",
       "      <th>1001</th>\n",
       "      <td>1005</td>\n",
       "      <td>Набережные Челны</td>\n",
       "      <td>smart</td>\n",
       "      <td>8</td>\n",
       "      <td>619.0</td>\n",
       "      <td>7554.0</td>\n",
       "      <td>64.0</td>\n",
       "      <td>50</td>\n",
       "      <td>15360</td>\n",
       "      <td>500</td>\n",
       "      <td>550</td>\n",
       "      <td>200</td>\n",
       "      <td>3</td>\n",
       "      <td>3</td>\n",
       "      <td>8.0</td>\n",
       "      <td>15.0</td>\n",
       "      <td>119.0</td>\n",
       "      <td>0.0</td>\n",
       "      <td>14.0</td>\n",
       "    </tr>\n",
       "    <tr>\n",
       "      <th>1002</th>\n",
       "      <td>1005</td>\n",
       "      <td>Набережные Челны</td>\n",
       "      <td>smart</td>\n",
       "      <td>9</td>\n",
       "      <td>479.0</td>\n",
       "      <td>7027.0</td>\n",
       "      <td>52.0</td>\n",
       "      <td>50</td>\n",
       "      <td>15360</td>\n",
       "      <td>500</td>\n",
       "      <td>550</td>\n",
       "      <td>200</td>\n",
       "      <td>3</td>\n",
       "      <td>3</td>\n",
       "      <td>7.0</td>\n",
       "      <td>15.0</td>\n",
       "      <td>0.0</td>\n",
       "      <td>0.0</td>\n",
       "      <td>2.0</td>\n",
       "    </tr>\n",
       "    <tr>\n",
       "      <th>1004</th>\n",
       "      <td>1005</td>\n",
       "      <td>Набережные Челны</td>\n",
       "      <td>smart</td>\n",
       "      <td>11</td>\n",
       "      <td>547.0</td>\n",
       "      <td>12682.0</td>\n",
       "      <td>51.0</td>\n",
       "      <td>50</td>\n",
       "      <td>15360</td>\n",
       "      <td>500</td>\n",
       "      <td>550</td>\n",
       "      <td>200</td>\n",
       "      <td>3</td>\n",
       "      <td>3</td>\n",
       "      <td>13.0</td>\n",
       "      <td>15.0</td>\n",
       "      <td>47.0</td>\n",
       "      <td>0.0</td>\n",
       "      <td>1.0</td>\n",
       "    </tr>\n",
       "    <tr>\n",
       "      <th>...</th>\n",
       "      <td>...</td>\n",
       "      <td>...</td>\n",
       "      <td>...</td>\n",
       "      <td>...</td>\n",
       "      <td>...</td>\n",
       "      <td>...</td>\n",
       "      <td>...</td>\n",
       "      <td>...</td>\n",
       "      <td>...</td>\n",
       "      <td>...</td>\n",
       "      <td>...</td>\n",
       "      <td>...</td>\n",
       "      <td>...</td>\n",
       "      <td>...</td>\n",
       "      <td>...</td>\n",
       "      <td>...</td>\n",
       "      <td>...</td>\n",
       "      <td>...</td>\n",
       "      <td>...</td>\n",
       "    </tr>\n",
       "    <tr>\n",
       "      <th>3173</th>\n",
       "      <td>1490</td>\n",
       "      <td>Москва</td>\n",
       "      <td>smart</td>\n",
       "      <td>7</td>\n",
       "      <td>250.0</td>\n",
       "      <td>10811.0</td>\n",
       "      <td>62.0</td>\n",
       "      <td>50</td>\n",
       "      <td>15360</td>\n",
       "      <td>500</td>\n",
       "      <td>550</td>\n",
       "      <td>200</td>\n",
       "      <td>3</td>\n",
       "      <td>3</td>\n",
       "      <td>11.0</td>\n",
       "      <td>15.0</td>\n",
       "      <td>0.0</td>\n",
       "      <td>0.0</td>\n",
       "      <td>12.0</td>\n",
       "    </tr>\n",
       "    <tr>\n",
       "      <th>3202</th>\n",
       "      <td>1496</td>\n",
       "      <td>Вологда</td>\n",
       "      <td>smart</td>\n",
       "      <td>12</td>\n",
       "      <td>518.0</td>\n",
       "      <td>20757.0</td>\n",
       "      <td>51.0</td>\n",
       "      <td>50</td>\n",
       "      <td>15360</td>\n",
       "      <td>500</td>\n",
       "      <td>550</td>\n",
       "      <td>200</td>\n",
       "      <td>3</td>\n",
       "      <td>3</td>\n",
       "      <td>21.0</td>\n",
       "      <td>15.0</td>\n",
       "      <td>18.0</td>\n",
       "      <td>6.0</td>\n",
       "      <td>1.0</td>\n",
       "    </tr>\n",
       "    <tr>\n",
       "      <th>3207</th>\n",
       "      <td>1498</td>\n",
       "      <td>Владикавказ</td>\n",
       "      <td>smart</td>\n",
       "      <td>8</td>\n",
       "      <td>400.0</td>\n",
       "      <td>24270.0</td>\n",
       "      <td>62.0</td>\n",
       "      <td>50</td>\n",
       "      <td>15360</td>\n",
       "      <td>500</td>\n",
       "      <td>550</td>\n",
       "      <td>200</td>\n",
       "      <td>3</td>\n",
       "      <td>3</td>\n",
       "      <td>24.0</td>\n",
       "      <td>15.0</td>\n",
       "      <td>0.0</td>\n",
       "      <td>9.0</td>\n",
       "      <td>12.0</td>\n",
       "    </tr>\n",
       "    <tr>\n",
       "      <th>3212</th>\n",
       "      <td>1499</td>\n",
       "      <td>Пермь</td>\n",
       "      <td>smart</td>\n",
       "      <td>11</td>\n",
       "      <td>612.0</td>\n",
       "      <td>17984.0</td>\n",
       "      <td>59.0</td>\n",
       "      <td>50</td>\n",
       "      <td>15360</td>\n",
       "      <td>500</td>\n",
       "      <td>550</td>\n",
       "      <td>200</td>\n",
       "      <td>3</td>\n",
       "      <td>3</td>\n",
       "      <td>18.0</td>\n",
       "      <td>15.0</td>\n",
       "      <td>112.0</td>\n",
       "      <td>3.0</td>\n",
       "      <td>9.0</td>\n",
       "    </tr>\n",
       "    <tr>\n",
       "      <th>3213</th>\n",
       "      <td>1499</td>\n",
       "      <td>Пермь</td>\n",
       "      <td>smart</td>\n",
       "      <td>12</td>\n",
       "      <td>492.0</td>\n",
       "      <td>13077.0</td>\n",
       "      <td>66.0</td>\n",
       "      <td>50</td>\n",
       "      <td>15360</td>\n",
       "      <td>500</td>\n",
       "      <td>550</td>\n",
       "      <td>200</td>\n",
       "      <td>3</td>\n",
       "      <td>3</td>\n",
       "      <td>13.0</td>\n",
       "      <td>15.0</td>\n",
       "      <td>0.0</td>\n",
       "      <td>0.0</td>\n",
       "      <td>16.0</td>\n",
       "    </tr>\n",
       "  </tbody>\n",
       "</table>\n",
       "<p>564 rows × 19 columns</p>\n",
       "</div>"
      ],
      "text/plain": [
       "     user_id              city tariff  month  duration  mb_used  message  \\\n",
       "996     1005  Набережные Челны  smart      3     606.0  11117.0     56.0   \n",
       "1000    1005  Набережные Челны  smart      7     569.0   7703.0     56.0   \n",
       "1001    1005  Набережные Челны  smart      8     619.0   7554.0     64.0   \n",
       "1002    1005  Набережные Челны  smart      9     479.0   7027.0     52.0   \n",
       "1004    1005  Набережные Челны  smart     11     547.0  12682.0     51.0   \n",
       "...      ...               ...    ...    ...       ...      ...      ...   \n",
       "3173    1490            Москва  smart      7     250.0  10811.0     62.0   \n",
       "3202    1496           Вологда  smart     12     518.0  20757.0     51.0   \n",
       "3207    1498       Владикавказ  smart      8     400.0  24270.0     62.0   \n",
       "3212    1499             Пермь  smart     11     612.0  17984.0     59.0   \n",
       "3213    1499             Пермь  smart     12     492.0  13077.0     66.0   \n",
       "\n",
       "      messages_included  mb_per_month_included  minutes_included  \\\n",
       "996                  50                  15360               500   \n",
       "1000                 50                  15360               500   \n",
       "1001                 50                  15360               500   \n",
       "1002                 50                  15360               500   \n",
       "1004                 50                  15360               500   \n",
       "...                 ...                    ...               ...   \n",
       "3173                 50                  15360               500   \n",
       "3202                 50                  15360               500   \n",
       "3207                 50                  15360               500   \n",
       "3212                 50                  15360               500   \n",
       "3213                 50                  15360               500   \n",
       "\n",
       "      rub_monthly_fee  rub_per_gb  rub_per_message  rub_per_minute  gb_used  \\\n",
       "996               550         200                3               3     11.0   \n",
       "1000              550         200                3               3      8.0   \n",
       "1001              550         200                3               3      8.0   \n",
       "1002              550         200                3               3      7.0   \n",
       "1004              550         200                3               3     13.0   \n",
       "...               ...         ...              ...             ...      ...   \n",
       "3173              550         200                3               3     11.0   \n",
       "3202              550         200                3               3     21.0   \n",
       "3207              550         200                3               3     24.0   \n",
       "3212              550         200                3               3     18.0   \n",
       "3213              550         200                3               3     13.0   \n",
       "\n",
       "      gb_per_month_included  over_minute  over_gb  over_message  \n",
       "996                    15.0        106.0      0.0           6.0  \n",
       "1000                   15.0         69.0      0.0           6.0  \n",
       "1001                   15.0        119.0      0.0          14.0  \n",
       "1002                   15.0          0.0      0.0           2.0  \n",
       "1004                   15.0         47.0      0.0           1.0  \n",
       "...                     ...          ...      ...           ...  \n",
       "3173                   15.0          0.0      0.0          12.0  \n",
       "3202                   15.0         18.0      6.0           1.0  \n",
       "3207                   15.0          0.0      9.0          12.0  \n",
       "3212                   15.0        112.0      3.0           9.0  \n",
       "3213                   15.0          0.0      0.0          16.0  \n",
       "\n",
       "[564 rows x 19 columns]"
      ]
     },
     "metadata": {},
     "output_type": "display_data"
    }
   ],
   "source": [
    "display(df.query('over_minute>0' and 'over_gb>0' and 'over_message>0'))"
   ]
  },
  {
   "cell_type": "markdown",
   "metadata": {},
   "source": [
    "Да, все верно. Настало время добавить столбец с помесячной выручкой по каждому абоненту"
   ]
  },
  {
   "cell_type": "code",
   "execution_count": 25,
   "metadata": {},
   "outputs": [
    {
     "data": {
      "text/html": [
       "<div>\n",
       "<style scoped>\n",
       "    .dataframe tbody tr th:only-of-type {\n",
       "        vertical-align: middle;\n",
       "    }\n",
       "\n",
       "    .dataframe tbody tr th {\n",
       "        vertical-align: top;\n",
       "    }\n",
       "\n",
       "    .dataframe thead th {\n",
       "        text-align: right;\n",
       "    }\n",
       "</style>\n",
       "<table border=\"1\" class=\"dataframe\">\n",
       "  <thead>\n",
       "    <tr style=\"text-align: right;\">\n",
       "      <th></th>\n",
       "      <th>user_id</th>\n",
       "      <th>city</th>\n",
       "      <th>tariff</th>\n",
       "      <th>month</th>\n",
       "      <th>duration</th>\n",
       "      <th>mb_used</th>\n",
       "      <th>message</th>\n",
       "      <th>messages_included</th>\n",
       "      <th>mb_per_month_included</th>\n",
       "      <th>minutes_included</th>\n",
       "      <th>rub_monthly_fee</th>\n",
       "      <th>rub_per_gb</th>\n",
       "      <th>rub_per_message</th>\n",
       "      <th>rub_per_minute</th>\n",
       "      <th>gb_used</th>\n",
       "      <th>gb_per_month_included</th>\n",
       "      <th>over_minute</th>\n",
       "      <th>over_gb</th>\n",
       "      <th>over_message</th>\n",
       "      <th>revenue</th>\n",
       "    </tr>\n",
       "  </thead>\n",
       "  <tbody>\n",
       "    <tr>\n",
       "      <th>996</th>\n",
       "      <td>1005</td>\n",
       "      <td>Набережные Челны</td>\n",
       "      <td>smart</td>\n",
       "      <td>3</td>\n",
       "      <td>606.0</td>\n",
       "      <td>11117.0</td>\n",
       "      <td>56.0</td>\n",
       "      <td>50</td>\n",
       "      <td>15360</td>\n",
       "      <td>500</td>\n",
       "      <td>550</td>\n",
       "      <td>200</td>\n",
       "      <td>3</td>\n",
       "      <td>3</td>\n",
       "      <td>11.0</td>\n",
       "      <td>15.0</td>\n",
       "      <td>106.0</td>\n",
       "      <td>0.0</td>\n",
       "      <td>6.0</td>\n",
       "      <td>886.0</td>\n",
       "    </tr>\n",
       "    <tr>\n",
       "      <th>1000</th>\n",
       "      <td>1005</td>\n",
       "      <td>Набережные Челны</td>\n",
       "      <td>smart</td>\n",
       "      <td>7</td>\n",
       "      <td>569.0</td>\n",
       "      <td>7703.0</td>\n",
       "      <td>56.0</td>\n",
       "      <td>50</td>\n",
       "      <td>15360</td>\n",
       "      <td>500</td>\n",
       "      <td>550</td>\n",
       "      <td>200</td>\n",
       "      <td>3</td>\n",
       "      <td>3</td>\n",
       "      <td>8.0</td>\n",
       "      <td>15.0</td>\n",
       "      <td>69.0</td>\n",
       "      <td>0.0</td>\n",
       "      <td>6.0</td>\n",
       "      <td>775.0</td>\n",
       "    </tr>\n",
       "    <tr>\n",
       "      <th>1001</th>\n",
       "      <td>1005</td>\n",
       "      <td>Набережные Челны</td>\n",
       "      <td>smart</td>\n",
       "      <td>8</td>\n",
       "      <td>619.0</td>\n",
       "      <td>7554.0</td>\n",
       "      <td>64.0</td>\n",
       "      <td>50</td>\n",
       "      <td>15360</td>\n",
       "      <td>500</td>\n",
       "      <td>550</td>\n",
       "      <td>200</td>\n",
       "      <td>3</td>\n",
       "      <td>3</td>\n",
       "      <td>8.0</td>\n",
       "      <td>15.0</td>\n",
       "      <td>119.0</td>\n",
       "      <td>0.0</td>\n",
       "      <td>14.0</td>\n",
       "      <td>949.0</td>\n",
       "    </tr>\n",
       "    <tr>\n",
       "      <th>1002</th>\n",
       "      <td>1005</td>\n",
       "      <td>Набережные Челны</td>\n",
       "      <td>smart</td>\n",
       "      <td>9</td>\n",
       "      <td>479.0</td>\n",
       "      <td>7027.0</td>\n",
       "      <td>52.0</td>\n",
       "      <td>50</td>\n",
       "      <td>15360</td>\n",
       "      <td>500</td>\n",
       "      <td>550</td>\n",
       "      <td>200</td>\n",
       "      <td>3</td>\n",
       "      <td>3</td>\n",
       "      <td>7.0</td>\n",
       "      <td>15.0</td>\n",
       "      <td>0.0</td>\n",
       "      <td>0.0</td>\n",
       "      <td>2.0</td>\n",
       "      <td>556.0</td>\n",
       "    </tr>\n",
       "    <tr>\n",
       "      <th>1004</th>\n",
       "      <td>1005</td>\n",
       "      <td>Набережные Челны</td>\n",
       "      <td>smart</td>\n",
       "      <td>11</td>\n",
       "      <td>547.0</td>\n",
       "      <td>12682.0</td>\n",
       "      <td>51.0</td>\n",
       "      <td>50</td>\n",
       "      <td>15360</td>\n",
       "      <td>500</td>\n",
       "      <td>550</td>\n",
       "      <td>200</td>\n",
       "      <td>3</td>\n",
       "      <td>3</td>\n",
       "      <td>13.0</td>\n",
       "      <td>15.0</td>\n",
       "      <td>47.0</td>\n",
       "      <td>0.0</td>\n",
       "      <td>1.0</td>\n",
       "      <td>694.0</td>\n",
       "    </tr>\n",
       "    <tr>\n",
       "      <th>...</th>\n",
       "      <td>...</td>\n",
       "      <td>...</td>\n",
       "      <td>...</td>\n",
       "      <td>...</td>\n",
       "      <td>...</td>\n",
       "      <td>...</td>\n",
       "      <td>...</td>\n",
       "      <td>...</td>\n",
       "      <td>...</td>\n",
       "      <td>...</td>\n",
       "      <td>...</td>\n",
       "      <td>...</td>\n",
       "      <td>...</td>\n",
       "      <td>...</td>\n",
       "      <td>...</td>\n",
       "      <td>...</td>\n",
       "      <td>...</td>\n",
       "      <td>...</td>\n",
       "      <td>...</td>\n",
       "      <td>...</td>\n",
       "    </tr>\n",
       "    <tr>\n",
       "      <th>3173</th>\n",
       "      <td>1490</td>\n",
       "      <td>Москва</td>\n",
       "      <td>smart</td>\n",
       "      <td>7</td>\n",
       "      <td>250.0</td>\n",
       "      <td>10811.0</td>\n",
       "      <td>62.0</td>\n",
       "      <td>50</td>\n",
       "      <td>15360</td>\n",
       "      <td>500</td>\n",
       "      <td>550</td>\n",
       "      <td>200</td>\n",
       "      <td>3</td>\n",
       "      <td>3</td>\n",
       "      <td>11.0</td>\n",
       "      <td>15.0</td>\n",
       "      <td>0.0</td>\n",
       "      <td>0.0</td>\n",
       "      <td>12.0</td>\n",
       "      <td>586.0</td>\n",
       "    </tr>\n",
       "    <tr>\n",
       "      <th>3202</th>\n",
       "      <td>1496</td>\n",
       "      <td>Вологда</td>\n",
       "      <td>smart</td>\n",
       "      <td>12</td>\n",
       "      <td>518.0</td>\n",
       "      <td>20757.0</td>\n",
       "      <td>51.0</td>\n",
       "      <td>50</td>\n",
       "      <td>15360</td>\n",
       "      <td>500</td>\n",
       "      <td>550</td>\n",
       "      <td>200</td>\n",
       "      <td>3</td>\n",
       "      <td>3</td>\n",
       "      <td>21.0</td>\n",
       "      <td>15.0</td>\n",
       "      <td>18.0</td>\n",
       "      <td>6.0</td>\n",
       "      <td>1.0</td>\n",
       "      <td>1807.0</td>\n",
       "    </tr>\n",
       "    <tr>\n",
       "      <th>3207</th>\n",
       "      <td>1498</td>\n",
       "      <td>Владикавказ</td>\n",
       "      <td>smart</td>\n",
       "      <td>8</td>\n",
       "      <td>400.0</td>\n",
       "      <td>24270.0</td>\n",
       "      <td>62.0</td>\n",
       "      <td>50</td>\n",
       "      <td>15360</td>\n",
       "      <td>500</td>\n",
       "      <td>550</td>\n",
       "      <td>200</td>\n",
       "      <td>3</td>\n",
       "      <td>3</td>\n",
       "      <td>24.0</td>\n",
       "      <td>15.0</td>\n",
       "      <td>0.0</td>\n",
       "      <td>9.0</td>\n",
       "      <td>12.0</td>\n",
       "      <td>2386.0</td>\n",
       "    </tr>\n",
       "    <tr>\n",
       "      <th>3212</th>\n",
       "      <td>1499</td>\n",
       "      <td>Пермь</td>\n",
       "      <td>smart</td>\n",
       "      <td>11</td>\n",
       "      <td>612.0</td>\n",
       "      <td>17984.0</td>\n",
       "      <td>59.0</td>\n",
       "      <td>50</td>\n",
       "      <td>15360</td>\n",
       "      <td>500</td>\n",
       "      <td>550</td>\n",
       "      <td>200</td>\n",
       "      <td>3</td>\n",
       "      <td>3</td>\n",
       "      <td>18.0</td>\n",
       "      <td>15.0</td>\n",
       "      <td>112.0</td>\n",
       "      <td>3.0</td>\n",
       "      <td>9.0</td>\n",
       "      <td>1513.0</td>\n",
       "    </tr>\n",
       "    <tr>\n",
       "      <th>3213</th>\n",
       "      <td>1499</td>\n",
       "      <td>Пермь</td>\n",
       "      <td>smart</td>\n",
       "      <td>12</td>\n",
       "      <td>492.0</td>\n",
       "      <td>13077.0</td>\n",
       "      <td>66.0</td>\n",
       "      <td>50</td>\n",
       "      <td>15360</td>\n",
       "      <td>500</td>\n",
       "      <td>550</td>\n",
       "      <td>200</td>\n",
       "      <td>3</td>\n",
       "      <td>3</td>\n",
       "      <td>13.0</td>\n",
       "      <td>15.0</td>\n",
       "      <td>0.0</td>\n",
       "      <td>0.0</td>\n",
       "      <td>16.0</td>\n",
       "      <td>598.0</td>\n",
       "    </tr>\n",
       "  </tbody>\n",
       "</table>\n",
       "<p>564 rows × 20 columns</p>\n",
       "</div>"
      ],
      "text/plain": [
       "     user_id              city tariff  month  duration  mb_used  message  \\\n",
       "996     1005  Набережные Челны  smart      3     606.0  11117.0     56.0   \n",
       "1000    1005  Набережные Челны  smart      7     569.0   7703.0     56.0   \n",
       "1001    1005  Набережные Челны  smart      8     619.0   7554.0     64.0   \n",
       "1002    1005  Набережные Челны  smart      9     479.0   7027.0     52.0   \n",
       "1004    1005  Набережные Челны  smart     11     547.0  12682.0     51.0   \n",
       "...      ...               ...    ...    ...       ...      ...      ...   \n",
       "3173    1490            Москва  smart      7     250.0  10811.0     62.0   \n",
       "3202    1496           Вологда  smart     12     518.0  20757.0     51.0   \n",
       "3207    1498       Владикавказ  smart      8     400.0  24270.0     62.0   \n",
       "3212    1499             Пермь  smart     11     612.0  17984.0     59.0   \n",
       "3213    1499             Пермь  smart     12     492.0  13077.0     66.0   \n",
       "\n",
       "      messages_included  mb_per_month_included  minutes_included  \\\n",
       "996                  50                  15360               500   \n",
       "1000                 50                  15360               500   \n",
       "1001                 50                  15360               500   \n",
       "1002                 50                  15360               500   \n",
       "1004                 50                  15360               500   \n",
       "...                 ...                    ...               ...   \n",
       "3173                 50                  15360               500   \n",
       "3202                 50                  15360               500   \n",
       "3207                 50                  15360               500   \n",
       "3212                 50                  15360               500   \n",
       "3213                 50                  15360               500   \n",
       "\n",
       "      rub_monthly_fee  rub_per_gb  rub_per_message  rub_per_minute  gb_used  \\\n",
       "996               550         200                3               3     11.0   \n",
       "1000              550         200                3               3      8.0   \n",
       "1001              550         200                3               3      8.0   \n",
       "1002              550         200                3               3      7.0   \n",
       "1004              550         200                3               3     13.0   \n",
       "...               ...         ...              ...             ...      ...   \n",
       "3173              550         200                3               3     11.0   \n",
       "3202              550         200                3               3     21.0   \n",
       "3207              550         200                3               3     24.0   \n",
       "3212              550         200                3               3     18.0   \n",
       "3213              550         200                3               3     13.0   \n",
       "\n",
       "      gb_per_month_included  over_minute  over_gb  over_message  revenue  \n",
       "996                    15.0        106.0      0.0           6.0    886.0  \n",
       "1000                   15.0         69.0      0.0           6.0    775.0  \n",
       "1001                   15.0        119.0      0.0          14.0    949.0  \n",
       "1002                   15.0          0.0      0.0           2.0    556.0  \n",
       "1004                   15.0         47.0      0.0           1.0    694.0  \n",
       "...                     ...          ...      ...           ...      ...  \n",
       "3173                   15.0          0.0      0.0          12.0    586.0  \n",
       "3202                   15.0         18.0      6.0           1.0   1807.0  \n",
       "3207                   15.0          0.0      9.0          12.0   2386.0  \n",
       "3212                   15.0        112.0      3.0           9.0   1513.0  \n",
       "3213                   15.0          0.0      0.0          16.0    598.0  \n",
       "\n",
       "[564 rows x 20 columns]"
      ]
     },
     "metadata": {},
     "output_type": "display_data"
    }
   ],
   "source": [
    "df['revenue'] = df['rub_monthly_fee'] + df['over_minute']*df['rub_per_minute'] + df['over_gb']*df['rub_per_gb'] + df['over_message']*df['rub_per_message']\n",
    "display(df.query('over_minute>0' and 'over_gb>0' and 'over_message>0'))"
   ]
  },
  {
   "cell_type": "markdown",
   "metadata": {},
   "source": [
    "Все получилось, столбец добавлен. выручка рассчитана верно."
   ]
  },
  {
   "cell_type": "markdown",
   "metadata": {},
   "source": [
    "Напишем единую функцию, которая сразу будет возвращать выручку. Потом сравним полученный результат с первоначальным вариантом\n"
   ]
  },
  {
   "cell_type": "code",
   "execution_count": 26,
   "metadata": {
    "scrolled": true
   },
   "outputs": [
    {
     "data": {
      "text/html": [
       "<div>\n",
       "<style scoped>\n",
       "    .dataframe tbody tr th:only-of-type {\n",
       "        vertical-align: middle;\n",
       "    }\n",
       "\n",
       "    .dataframe tbody tr th {\n",
       "        vertical-align: top;\n",
       "    }\n",
       "\n",
       "    .dataframe thead th {\n",
       "        text-align: right;\n",
       "    }\n",
       "</style>\n",
       "<table border=\"1\" class=\"dataframe\">\n",
       "  <thead>\n",
       "    <tr style=\"text-align: right;\">\n",
       "      <th></th>\n",
       "      <th>user_id</th>\n",
       "      <th>city</th>\n",
       "      <th>tariff</th>\n",
       "      <th>month</th>\n",
       "      <th>duration</th>\n",
       "      <th>mb_used</th>\n",
       "      <th>message</th>\n",
       "      <th>messages_included</th>\n",
       "      <th>mb_per_month_included</th>\n",
       "      <th>minutes_included</th>\n",
       "      <th>...</th>\n",
       "      <th>rub_per_gb</th>\n",
       "      <th>rub_per_message</th>\n",
       "      <th>rub_per_minute</th>\n",
       "      <th>gb_used</th>\n",
       "      <th>gb_per_month_included</th>\n",
       "      <th>over_minute</th>\n",
       "      <th>over_gb</th>\n",
       "      <th>over_message</th>\n",
       "      <th>revenue</th>\n",
       "      <th>revenue2</th>\n",
       "    </tr>\n",
       "  </thead>\n",
       "  <tbody>\n",
       "    <tr>\n",
       "      <th>996</th>\n",
       "      <td>1005</td>\n",
       "      <td>Набережные Челны</td>\n",
       "      <td>smart</td>\n",
       "      <td>3</td>\n",
       "      <td>606.0</td>\n",
       "      <td>11117.0</td>\n",
       "      <td>56.0</td>\n",
       "      <td>50</td>\n",
       "      <td>15360</td>\n",
       "      <td>500</td>\n",
       "      <td>...</td>\n",
       "      <td>200</td>\n",
       "      <td>3</td>\n",
       "      <td>3</td>\n",
       "      <td>11.0</td>\n",
       "      <td>15.0</td>\n",
       "      <td>106.0</td>\n",
       "      <td>0.0</td>\n",
       "      <td>6.0</td>\n",
       "      <td>886.0</td>\n",
       "      <td>886.0</td>\n",
       "    </tr>\n",
       "    <tr>\n",
       "      <th>1000</th>\n",
       "      <td>1005</td>\n",
       "      <td>Набережные Челны</td>\n",
       "      <td>smart</td>\n",
       "      <td>7</td>\n",
       "      <td>569.0</td>\n",
       "      <td>7703.0</td>\n",
       "      <td>56.0</td>\n",
       "      <td>50</td>\n",
       "      <td>15360</td>\n",
       "      <td>500</td>\n",
       "      <td>...</td>\n",
       "      <td>200</td>\n",
       "      <td>3</td>\n",
       "      <td>3</td>\n",
       "      <td>8.0</td>\n",
       "      <td>15.0</td>\n",
       "      <td>69.0</td>\n",
       "      <td>0.0</td>\n",
       "      <td>6.0</td>\n",
       "      <td>775.0</td>\n",
       "      <td>775.0</td>\n",
       "    </tr>\n",
       "    <tr>\n",
       "      <th>1001</th>\n",
       "      <td>1005</td>\n",
       "      <td>Набережные Челны</td>\n",
       "      <td>smart</td>\n",
       "      <td>8</td>\n",
       "      <td>619.0</td>\n",
       "      <td>7554.0</td>\n",
       "      <td>64.0</td>\n",
       "      <td>50</td>\n",
       "      <td>15360</td>\n",
       "      <td>500</td>\n",
       "      <td>...</td>\n",
       "      <td>200</td>\n",
       "      <td>3</td>\n",
       "      <td>3</td>\n",
       "      <td>8.0</td>\n",
       "      <td>15.0</td>\n",
       "      <td>119.0</td>\n",
       "      <td>0.0</td>\n",
       "      <td>14.0</td>\n",
       "      <td>949.0</td>\n",
       "      <td>949.0</td>\n",
       "    </tr>\n",
       "    <tr>\n",
       "      <th>1002</th>\n",
       "      <td>1005</td>\n",
       "      <td>Набережные Челны</td>\n",
       "      <td>smart</td>\n",
       "      <td>9</td>\n",
       "      <td>479.0</td>\n",
       "      <td>7027.0</td>\n",
       "      <td>52.0</td>\n",
       "      <td>50</td>\n",
       "      <td>15360</td>\n",
       "      <td>500</td>\n",
       "      <td>...</td>\n",
       "      <td>200</td>\n",
       "      <td>3</td>\n",
       "      <td>3</td>\n",
       "      <td>7.0</td>\n",
       "      <td>15.0</td>\n",
       "      <td>0.0</td>\n",
       "      <td>0.0</td>\n",
       "      <td>2.0</td>\n",
       "      <td>556.0</td>\n",
       "      <td>556.0</td>\n",
       "    </tr>\n",
       "    <tr>\n",
       "      <th>1004</th>\n",
       "      <td>1005</td>\n",
       "      <td>Набережные Челны</td>\n",
       "      <td>smart</td>\n",
       "      <td>11</td>\n",
       "      <td>547.0</td>\n",
       "      <td>12682.0</td>\n",
       "      <td>51.0</td>\n",
       "      <td>50</td>\n",
       "      <td>15360</td>\n",
       "      <td>500</td>\n",
       "      <td>...</td>\n",
       "      <td>200</td>\n",
       "      <td>3</td>\n",
       "      <td>3</td>\n",
       "      <td>13.0</td>\n",
       "      <td>15.0</td>\n",
       "      <td>47.0</td>\n",
       "      <td>0.0</td>\n",
       "      <td>1.0</td>\n",
       "      <td>694.0</td>\n",
       "      <td>694.0</td>\n",
       "    </tr>\n",
       "    <tr>\n",
       "      <th>...</th>\n",
       "      <td>...</td>\n",
       "      <td>...</td>\n",
       "      <td>...</td>\n",
       "      <td>...</td>\n",
       "      <td>...</td>\n",
       "      <td>...</td>\n",
       "      <td>...</td>\n",
       "      <td>...</td>\n",
       "      <td>...</td>\n",
       "      <td>...</td>\n",
       "      <td>...</td>\n",
       "      <td>...</td>\n",
       "      <td>...</td>\n",
       "      <td>...</td>\n",
       "      <td>...</td>\n",
       "      <td>...</td>\n",
       "      <td>...</td>\n",
       "      <td>...</td>\n",
       "      <td>...</td>\n",
       "      <td>...</td>\n",
       "      <td>...</td>\n",
       "    </tr>\n",
       "    <tr>\n",
       "      <th>3173</th>\n",
       "      <td>1490</td>\n",
       "      <td>Москва</td>\n",
       "      <td>smart</td>\n",
       "      <td>7</td>\n",
       "      <td>250.0</td>\n",
       "      <td>10811.0</td>\n",
       "      <td>62.0</td>\n",
       "      <td>50</td>\n",
       "      <td>15360</td>\n",
       "      <td>500</td>\n",
       "      <td>...</td>\n",
       "      <td>200</td>\n",
       "      <td>3</td>\n",
       "      <td>3</td>\n",
       "      <td>11.0</td>\n",
       "      <td>15.0</td>\n",
       "      <td>0.0</td>\n",
       "      <td>0.0</td>\n",
       "      <td>12.0</td>\n",
       "      <td>586.0</td>\n",
       "      <td>586.0</td>\n",
       "    </tr>\n",
       "    <tr>\n",
       "      <th>3202</th>\n",
       "      <td>1496</td>\n",
       "      <td>Вологда</td>\n",
       "      <td>smart</td>\n",
       "      <td>12</td>\n",
       "      <td>518.0</td>\n",
       "      <td>20757.0</td>\n",
       "      <td>51.0</td>\n",
       "      <td>50</td>\n",
       "      <td>15360</td>\n",
       "      <td>500</td>\n",
       "      <td>...</td>\n",
       "      <td>200</td>\n",
       "      <td>3</td>\n",
       "      <td>3</td>\n",
       "      <td>21.0</td>\n",
       "      <td>15.0</td>\n",
       "      <td>18.0</td>\n",
       "      <td>6.0</td>\n",
       "      <td>1.0</td>\n",
       "      <td>1807.0</td>\n",
       "      <td>1807.0</td>\n",
       "    </tr>\n",
       "    <tr>\n",
       "      <th>3207</th>\n",
       "      <td>1498</td>\n",
       "      <td>Владикавказ</td>\n",
       "      <td>smart</td>\n",
       "      <td>8</td>\n",
       "      <td>400.0</td>\n",
       "      <td>24270.0</td>\n",
       "      <td>62.0</td>\n",
       "      <td>50</td>\n",
       "      <td>15360</td>\n",
       "      <td>500</td>\n",
       "      <td>...</td>\n",
       "      <td>200</td>\n",
       "      <td>3</td>\n",
       "      <td>3</td>\n",
       "      <td>24.0</td>\n",
       "      <td>15.0</td>\n",
       "      <td>0.0</td>\n",
       "      <td>9.0</td>\n",
       "      <td>12.0</td>\n",
       "      <td>2386.0</td>\n",
       "      <td>2386.0</td>\n",
       "    </tr>\n",
       "    <tr>\n",
       "      <th>3212</th>\n",
       "      <td>1499</td>\n",
       "      <td>Пермь</td>\n",
       "      <td>smart</td>\n",
       "      <td>11</td>\n",
       "      <td>612.0</td>\n",
       "      <td>17984.0</td>\n",
       "      <td>59.0</td>\n",
       "      <td>50</td>\n",
       "      <td>15360</td>\n",
       "      <td>500</td>\n",
       "      <td>...</td>\n",
       "      <td>200</td>\n",
       "      <td>3</td>\n",
       "      <td>3</td>\n",
       "      <td>18.0</td>\n",
       "      <td>15.0</td>\n",
       "      <td>112.0</td>\n",
       "      <td>3.0</td>\n",
       "      <td>9.0</td>\n",
       "      <td>1513.0</td>\n",
       "      <td>1513.0</td>\n",
       "    </tr>\n",
       "    <tr>\n",
       "      <th>3213</th>\n",
       "      <td>1499</td>\n",
       "      <td>Пермь</td>\n",
       "      <td>smart</td>\n",
       "      <td>12</td>\n",
       "      <td>492.0</td>\n",
       "      <td>13077.0</td>\n",
       "      <td>66.0</td>\n",
       "      <td>50</td>\n",
       "      <td>15360</td>\n",
       "      <td>500</td>\n",
       "      <td>...</td>\n",
       "      <td>200</td>\n",
       "      <td>3</td>\n",
       "      <td>3</td>\n",
       "      <td>13.0</td>\n",
       "      <td>15.0</td>\n",
       "      <td>0.0</td>\n",
       "      <td>0.0</td>\n",
       "      <td>16.0</td>\n",
       "      <td>598.0</td>\n",
       "      <td>598.0</td>\n",
       "    </tr>\n",
       "  </tbody>\n",
       "</table>\n",
       "<p>564 rows × 21 columns</p>\n",
       "</div>"
      ],
      "text/plain": [
       "     user_id              city tariff  month  duration  mb_used  message  \\\n",
       "996     1005  Набережные Челны  smart      3     606.0  11117.0     56.0   \n",
       "1000    1005  Набережные Челны  smart      7     569.0   7703.0     56.0   \n",
       "1001    1005  Набережные Челны  smart      8     619.0   7554.0     64.0   \n",
       "1002    1005  Набережные Челны  smart      9     479.0   7027.0     52.0   \n",
       "1004    1005  Набережные Челны  smart     11     547.0  12682.0     51.0   \n",
       "...      ...               ...    ...    ...       ...      ...      ...   \n",
       "3173    1490            Москва  smart      7     250.0  10811.0     62.0   \n",
       "3202    1496           Вологда  smart     12     518.0  20757.0     51.0   \n",
       "3207    1498       Владикавказ  smart      8     400.0  24270.0     62.0   \n",
       "3212    1499             Пермь  smart     11     612.0  17984.0     59.0   \n",
       "3213    1499             Пермь  smart     12     492.0  13077.0     66.0   \n",
       "\n",
       "      messages_included  mb_per_month_included  minutes_included  ...  \\\n",
       "996                  50                  15360               500  ...   \n",
       "1000                 50                  15360               500  ...   \n",
       "1001                 50                  15360               500  ...   \n",
       "1002                 50                  15360               500  ...   \n",
       "1004                 50                  15360               500  ...   \n",
       "...                 ...                    ...               ...  ...   \n",
       "3173                 50                  15360               500  ...   \n",
       "3202                 50                  15360               500  ...   \n",
       "3207                 50                  15360               500  ...   \n",
       "3212                 50                  15360               500  ...   \n",
       "3213                 50                  15360               500  ...   \n",
       "\n",
       "      rub_per_gb  rub_per_message  rub_per_minute  gb_used  \\\n",
       "996          200                3               3     11.0   \n",
       "1000         200                3               3      8.0   \n",
       "1001         200                3               3      8.0   \n",
       "1002         200                3               3      7.0   \n",
       "1004         200                3               3     13.0   \n",
       "...          ...              ...             ...      ...   \n",
       "3173         200                3               3     11.0   \n",
       "3202         200                3               3     21.0   \n",
       "3207         200                3               3     24.0   \n",
       "3212         200                3               3     18.0   \n",
       "3213         200                3               3     13.0   \n",
       "\n",
       "      gb_per_month_included  over_minute  over_gb  over_message  revenue  \\\n",
       "996                    15.0        106.0      0.0           6.0    886.0   \n",
       "1000                   15.0         69.0      0.0           6.0    775.0   \n",
       "1001                   15.0        119.0      0.0          14.0    949.0   \n",
       "1002                   15.0          0.0      0.0           2.0    556.0   \n",
       "1004                   15.0         47.0      0.0           1.0    694.0   \n",
       "...                     ...          ...      ...           ...      ...   \n",
       "3173                   15.0          0.0      0.0          12.0    586.0   \n",
       "3202                   15.0         18.0      6.0           1.0   1807.0   \n",
       "3207                   15.0          0.0      9.0          12.0   2386.0   \n",
       "3212                   15.0        112.0      3.0           9.0   1513.0   \n",
       "3213                   15.0          0.0      0.0          16.0    598.0   \n",
       "\n",
       "      revenue2  \n",
       "996      886.0  \n",
       "1000     775.0  \n",
       "1001     949.0  \n",
       "1002     556.0  \n",
       "1004     694.0  \n",
       "...        ...  \n",
       "3173     586.0  \n",
       "3202    1807.0  \n",
       "3207    2386.0  \n",
       "3212    1513.0  \n",
       "3213     598.0  \n",
       "\n",
       "[564 rows x 21 columns]"
      ]
     },
     "metadata": {},
     "output_type": "display_data"
    },
    {
     "data": {
      "text/html": [
       "<div>\n",
       "<style scoped>\n",
       "    .dataframe tbody tr th:only-of-type {\n",
       "        vertical-align: middle;\n",
       "    }\n",
       "\n",
       "    .dataframe tbody tr th {\n",
       "        vertical-align: top;\n",
       "    }\n",
       "\n",
       "    .dataframe thead th {\n",
       "        text-align: right;\n",
       "    }\n",
       "</style>\n",
       "<table border=\"1\" class=\"dataframe\">\n",
       "  <thead>\n",
       "    <tr style=\"text-align: right;\">\n",
       "      <th></th>\n",
       "      <th>user_id</th>\n",
       "      <th>city</th>\n",
       "      <th>tariff</th>\n",
       "      <th>month</th>\n",
       "      <th>duration</th>\n",
       "      <th>mb_used</th>\n",
       "      <th>message</th>\n",
       "      <th>messages_included</th>\n",
       "      <th>mb_per_month_included</th>\n",
       "      <th>minutes_included</th>\n",
       "      <th>...</th>\n",
       "      <th>rub_per_gb</th>\n",
       "      <th>rub_per_message</th>\n",
       "      <th>rub_per_minute</th>\n",
       "      <th>gb_used</th>\n",
       "      <th>gb_per_month_included</th>\n",
       "      <th>over_minute</th>\n",
       "      <th>over_gb</th>\n",
       "      <th>over_message</th>\n",
       "      <th>revenue</th>\n",
       "      <th>revenue2</th>\n",
       "    </tr>\n",
       "  </thead>\n",
       "  <tbody>\n",
       "    <tr>\n",
       "      <th>0</th>\n",
       "      <td>1000</td>\n",
       "      <td>Краснодар</td>\n",
       "      <td>ultra</td>\n",
       "      <td>5</td>\n",
       "      <td>159.0</td>\n",
       "      <td>2256.0</td>\n",
       "      <td>22.0</td>\n",
       "      <td>1000</td>\n",
       "      <td>30720</td>\n",
       "      <td>3000</td>\n",
       "      <td>...</td>\n",
       "      <td>150</td>\n",
       "      <td>1</td>\n",
       "      <td>1</td>\n",
       "      <td>3.0</td>\n",
       "      <td>30.0</td>\n",
       "      <td>0.0</td>\n",
       "      <td>0.0</td>\n",
       "      <td>0.0</td>\n",
       "      <td>1950.0</td>\n",
       "      <td>1950.0</td>\n",
       "    </tr>\n",
       "    <tr>\n",
       "      <th>1</th>\n",
       "      <td>1000</td>\n",
       "      <td>Краснодар</td>\n",
       "      <td>ultra</td>\n",
       "      <td>6</td>\n",
       "      <td>172.0</td>\n",
       "      <td>23257.0</td>\n",
       "      <td>60.0</td>\n",
       "      <td>1000</td>\n",
       "      <td>30720</td>\n",
       "      <td>3000</td>\n",
       "      <td>...</td>\n",
       "      <td>150</td>\n",
       "      <td>1</td>\n",
       "      <td>1</td>\n",
       "      <td>23.0</td>\n",
       "      <td>30.0</td>\n",
       "      <td>0.0</td>\n",
       "      <td>0.0</td>\n",
       "      <td>0.0</td>\n",
       "      <td>1950.0</td>\n",
       "      <td>1950.0</td>\n",
       "    </tr>\n",
       "    <tr>\n",
       "      <th>2</th>\n",
       "      <td>1000</td>\n",
       "      <td>Краснодар</td>\n",
       "      <td>ultra</td>\n",
       "      <td>7</td>\n",
       "      <td>340.0</td>\n",
       "      <td>14016.0</td>\n",
       "      <td>75.0</td>\n",
       "      <td>1000</td>\n",
       "      <td>30720</td>\n",
       "      <td>3000</td>\n",
       "      <td>...</td>\n",
       "      <td>150</td>\n",
       "      <td>1</td>\n",
       "      <td>1</td>\n",
       "      <td>14.0</td>\n",
       "      <td>30.0</td>\n",
       "      <td>0.0</td>\n",
       "      <td>0.0</td>\n",
       "      <td>0.0</td>\n",
       "      <td>1950.0</td>\n",
       "      <td>1950.0</td>\n",
       "    </tr>\n",
       "    <tr>\n",
       "      <th>3</th>\n",
       "      <td>1000</td>\n",
       "      <td>Краснодар</td>\n",
       "      <td>ultra</td>\n",
       "      <td>8</td>\n",
       "      <td>408.0</td>\n",
       "      <td>14070.0</td>\n",
       "      <td>81.0</td>\n",
       "      <td>1000</td>\n",
       "      <td>30720</td>\n",
       "      <td>3000</td>\n",
       "      <td>...</td>\n",
       "      <td>150</td>\n",
       "      <td>1</td>\n",
       "      <td>1</td>\n",
       "      <td>14.0</td>\n",
       "      <td>30.0</td>\n",
       "      <td>0.0</td>\n",
       "      <td>0.0</td>\n",
       "      <td>0.0</td>\n",
       "      <td>1950.0</td>\n",
       "      <td>1950.0</td>\n",
       "    </tr>\n",
       "    <tr>\n",
       "      <th>4</th>\n",
       "      <td>1000</td>\n",
       "      <td>Краснодар</td>\n",
       "      <td>ultra</td>\n",
       "      <td>9</td>\n",
       "      <td>466.0</td>\n",
       "      <td>14581.0</td>\n",
       "      <td>57.0</td>\n",
       "      <td>1000</td>\n",
       "      <td>30720</td>\n",
       "      <td>3000</td>\n",
       "      <td>...</td>\n",
       "      <td>150</td>\n",
       "      <td>1</td>\n",
       "      <td>1</td>\n",
       "      <td>15.0</td>\n",
       "      <td>30.0</td>\n",
       "      <td>0.0</td>\n",
       "      <td>0.0</td>\n",
       "      <td>0.0</td>\n",
       "      <td>1950.0</td>\n",
       "      <td>1950.0</td>\n",
       "    </tr>\n",
       "  </tbody>\n",
       "</table>\n",
       "<p>5 rows × 21 columns</p>\n",
       "</div>"
      ],
      "text/plain": [
       "  user_id       city tariff  month  duration  mb_used  message  \\\n",
       "0    1000  Краснодар  ultra      5     159.0   2256.0     22.0   \n",
       "1    1000  Краснодар  ultra      6     172.0  23257.0     60.0   \n",
       "2    1000  Краснодар  ultra      7     340.0  14016.0     75.0   \n",
       "3    1000  Краснодар  ultra      8     408.0  14070.0     81.0   \n",
       "4    1000  Краснодар  ultra      9     466.0  14581.0     57.0   \n",
       "\n",
       "   messages_included  mb_per_month_included  minutes_included  ...  \\\n",
       "0               1000                  30720              3000  ...   \n",
       "1               1000                  30720              3000  ...   \n",
       "2               1000                  30720              3000  ...   \n",
       "3               1000                  30720              3000  ...   \n",
       "4               1000                  30720              3000  ...   \n",
       "\n",
       "   rub_per_gb  rub_per_message  rub_per_minute  gb_used  \\\n",
       "0         150                1               1      3.0   \n",
       "1         150                1               1     23.0   \n",
       "2         150                1               1     14.0   \n",
       "3         150                1               1     14.0   \n",
       "4         150                1               1     15.0   \n",
       "\n",
       "   gb_per_month_included  over_minute  over_gb  over_message  revenue  \\\n",
       "0                   30.0          0.0      0.0           0.0   1950.0   \n",
       "1                   30.0          0.0      0.0           0.0   1950.0   \n",
       "2                   30.0          0.0      0.0           0.0   1950.0   \n",
       "3                   30.0          0.0      0.0           0.0   1950.0   \n",
       "4                   30.0          0.0      0.0           0.0   1950.0   \n",
       "\n",
       "   revenue2  \n",
       "0    1950.0  \n",
       "1    1950.0  \n",
       "2    1950.0  \n",
       "3    1950.0  \n",
       "4    1950.0  \n",
       "\n",
       "[5 rows x 21 columns]"
      ]
     },
     "metadata": {},
     "output_type": "display_data"
    }
   ],
   "source": [
    "def revenue2(row):\n",
    "    revenue2 = row['rub_monthly_fee']\n",
    "    gb_used = row['gb_used']\n",
    "    gb_per_month_included = row['gb_per_month_included']\n",
    "    duration = row['duration']\n",
    "    minutes_included = row['minutes_included']\n",
    "    message = row['message']\n",
    "    messages_included = row['messages_included']\n",
    "    rub_per_gb = row['rub_per_gb'] \n",
    "    rub_per_message = row['rub_per_message']\n",
    "    rub_per_minute = row['rub_per_minute']\n",
    "    if gb_used>gb_per_month_included:\n",
    "        revenue2+=((gb_used-gb_per_month_included)*rub_per_gb)\n",
    "    if duration>minutes_included:\n",
    "        revenue2+=((duration-minutes_included)*rub_per_minute)\n",
    "    if message>messages_included:\n",
    "        revenue2+=((message-messages_included)*rub_per_message)\n",
    "    return revenue2 \n",
    "df['revenue2'] = df.apply(revenue2, axis=1)\n",
    "display(df.query('over_minute>0' and 'over_gb>0' and 'over_message>0'))\n",
    "display(df.head())\n"
   ]
  },
  {
   "cell_type": "markdown",
   "metadata": {},
   "source": [
    "Да, выручка, рассчитанная вторым способом (одна функция) равна выручке по первому варианту. Значит функция написана верно. Теперь оставим в таблице только столбцы, которые будут нам нужны для дальнейшего анализа\n"
   ]
  },
  {
   "cell_type": "code",
   "execution_count": 27,
   "metadata": {},
   "outputs": [
    {
     "data": {
      "text/html": [
       "<div>\n",
       "<style scoped>\n",
       "    .dataframe tbody tr th:only-of-type {\n",
       "        vertical-align: middle;\n",
       "    }\n",
       "\n",
       "    .dataframe tbody tr th {\n",
       "        vertical-align: top;\n",
       "    }\n",
       "\n",
       "    .dataframe thead th {\n",
       "        text-align: right;\n",
       "    }\n",
       "</style>\n",
       "<table border=\"1\" class=\"dataframe\">\n",
       "  <thead>\n",
       "    <tr style=\"text-align: right;\">\n",
       "      <th></th>\n",
       "      <th>user_id</th>\n",
       "      <th>city</th>\n",
       "      <th>tariff</th>\n",
       "      <th>month</th>\n",
       "      <th>duration</th>\n",
       "      <th>gb_used</th>\n",
       "      <th>message</th>\n",
       "      <th>revenue</th>\n",
       "    </tr>\n",
       "  </thead>\n",
       "  <tbody>\n",
       "    <tr>\n",
       "      <th>0</th>\n",
       "      <td>1000</td>\n",
       "      <td>Краснодар</td>\n",
       "      <td>ultra</td>\n",
       "      <td>5</td>\n",
       "      <td>159.0</td>\n",
       "      <td>3.0</td>\n",
       "      <td>22.0</td>\n",
       "      <td>1950.0</td>\n",
       "    </tr>\n",
       "    <tr>\n",
       "      <th>1</th>\n",
       "      <td>1000</td>\n",
       "      <td>Краснодар</td>\n",
       "      <td>ultra</td>\n",
       "      <td>6</td>\n",
       "      <td>172.0</td>\n",
       "      <td>23.0</td>\n",
       "      <td>60.0</td>\n",
       "      <td>1950.0</td>\n",
       "    </tr>\n",
       "    <tr>\n",
       "      <th>2</th>\n",
       "      <td>1000</td>\n",
       "      <td>Краснодар</td>\n",
       "      <td>ultra</td>\n",
       "      <td>7</td>\n",
       "      <td>340.0</td>\n",
       "      <td>14.0</td>\n",
       "      <td>75.0</td>\n",
       "      <td>1950.0</td>\n",
       "    </tr>\n",
       "    <tr>\n",
       "      <th>3</th>\n",
       "      <td>1000</td>\n",
       "      <td>Краснодар</td>\n",
       "      <td>ultra</td>\n",
       "      <td>8</td>\n",
       "      <td>408.0</td>\n",
       "      <td>14.0</td>\n",
       "      <td>81.0</td>\n",
       "      <td>1950.0</td>\n",
       "    </tr>\n",
       "    <tr>\n",
       "      <th>4</th>\n",
       "      <td>1000</td>\n",
       "      <td>Краснодар</td>\n",
       "      <td>ultra</td>\n",
       "      <td>9</td>\n",
       "      <td>466.0</td>\n",
       "      <td>15.0</td>\n",
       "      <td>57.0</td>\n",
       "      <td>1950.0</td>\n",
       "    </tr>\n",
       "    <tr>\n",
       "      <th>5</th>\n",
       "      <td>1000</td>\n",
       "      <td>Краснодар</td>\n",
       "      <td>ultra</td>\n",
       "      <td>10</td>\n",
       "      <td>350.0</td>\n",
       "      <td>15.0</td>\n",
       "      <td>73.0</td>\n",
       "      <td>1950.0</td>\n",
       "    </tr>\n",
       "    <tr>\n",
       "      <th>6</th>\n",
       "      <td>1000</td>\n",
       "      <td>Краснодар</td>\n",
       "      <td>ultra</td>\n",
       "      <td>11</td>\n",
       "      <td>338.0</td>\n",
       "      <td>15.0</td>\n",
       "      <td>58.0</td>\n",
       "      <td>1950.0</td>\n",
       "    </tr>\n",
       "    <tr>\n",
       "      <th>7</th>\n",
       "      <td>1000</td>\n",
       "      <td>Краснодар</td>\n",
       "      <td>ultra</td>\n",
       "      <td>12</td>\n",
       "      <td>333.0</td>\n",
       "      <td>10.0</td>\n",
       "      <td>70.0</td>\n",
       "      <td>1950.0</td>\n",
       "    </tr>\n",
       "    <tr>\n",
       "      <th>8</th>\n",
       "      <td>1003</td>\n",
       "      <td>Москва</td>\n",
       "      <td>ultra</td>\n",
       "      <td>8</td>\n",
       "      <td>380.0</td>\n",
       "      <td>9.0</td>\n",
       "      <td>37.0</td>\n",
       "      <td>1950.0</td>\n",
       "    </tr>\n",
       "    <tr>\n",
       "      <th>9</th>\n",
       "      <td>1003</td>\n",
       "      <td>Москва</td>\n",
       "      <td>ultra</td>\n",
       "      <td>9</td>\n",
       "      <td>961.0</td>\n",
       "      <td>13.0</td>\n",
       "      <td>91.0</td>\n",
       "      <td>1950.0</td>\n",
       "    </tr>\n",
       "  </tbody>\n",
       "</table>\n",
       "</div>"
      ],
      "text/plain": [
       "  user_id       city tariff  month  duration  gb_used  message  revenue\n",
       "0    1000  Краснодар  ultra      5     159.0      3.0     22.0   1950.0\n",
       "1    1000  Краснодар  ultra      6     172.0     23.0     60.0   1950.0\n",
       "2    1000  Краснодар  ultra      7     340.0     14.0     75.0   1950.0\n",
       "3    1000  Краснодар  ultra      8     408.0     14.0     81.0   1950.0\n",
       "4    1000  Краснодар  ultra      9     466.0     15.0     57.0   1950.0\n",
       "5    1000  Краснодар  ultra     10     350.0     15.0     73.0   1950.0\n",
       "6    1000  Краснодар  ultra     11     338.0     15.0     58.0   1950.0\n",
       "7    1000  Краснодар  ultra     12     333.0     10.0     70.0   1950.0\n",
       "8    1003     Москва  ultra      8     380.0      9.0     37.0   1950.0\n",
       "9    1003     Москва  ultra      9     961.0     13.0     91.0   1950.0"
      ]
     },
     "metadata": {},
     "output_type": "display_data"
    },
    {
     "name": "stdout",
     "output_type": "stream",
     "text": [
      "<class 'pandas.core.frame.DataFrame'>\n",
      "Int64Index: 3214 entries, 0 to 3213\n",
      "Data columns (total 8 columns):\n",
      " #   Column    Non-Null Count  Dtype  \n",
      "---  ------    --------------  -----  \n",
      " 0   user_id   3214 non-null   object \n",
      " 1   city      3214 non-null   object \n",
      " 2   tariff    3214 non-null   object \n",
      " 3   month     3214 non-null   int64  \n",
      " 4   duration  3214 non-null   float64\n",
      " 5   gb_used   3214 non-null   float64\n",
      " 6   message   3214 non-null   float64\n",
      " 7   revenue   3214 non-null   float64\n",
      "dtypes: float64(4), int64(1), object(3)\n",
      "memory usage: 226.0+ KB\n",
      "None\n"
     ]
    }
   ],
   "source": [
    "df = df[['user_id', 'city', 'tariff', 'month', 'duration', 'gb_used', 'message', 'revenue']]\n",
    "display(df.head(10))\n",
    "print(df.info())"
   ]
  },
  {
   "cell_type": "markdown",
   "metadata": {},
   "source": [
    "## Анализ данных"
   ]
  },
  {
   "cell_type": "markdown",
   "metadata": {},
   "source": [
    "Подсчитаем среднее количество минут разговора, среднее количество отправленных сообщений, среднее количество интернет-трафика и среднюю выручку для каждого из тарифов"
   ]
  },
  {
   "cell_type": "code",
   "execution_count": 28,
   "metadata": {},
   "outputs": [
    {
     "name": "stderr",
     "output_type": "stream",
     "text": [
      "/tmp/ipykernel_90/3472202348.py:2: FutureWarning: Indexing with multiple keys (implicitly converted to a tuple of keys) will be deprecated, use a list instead.\n",
      "  df_mean = df.groupby('tariff')['duration','gb_used','message', 'revenue'].mean()\n"
     ]
    },
    {
     "data": {
      "text/html": [
       "<div>\n",
       "<style scoped>\n",
       "    .dataframe tbody tr th:only-of-type {\n",
       "        vertical-align: middle;\n",
       "    }\n",
       "\n",
       "    .dataframe tbody tr th {\n",
       "        vertical-align: top;\n",
       "    }\n",
       "\n",
       "    .dataframe thead th {\n",
       "        text-align: right;\n",
       "    }\n",
       "</style>\n",
       "<table border=\"1\" class=\"dataframe\">\n",
       "  <thead>\n",
       "    <tr style=\"text-align: right;\">\n",
       "      <th></th>\n",
       "      <th>duration</th>\n",
       "      <th>gb_used</th>\n",
       "      <th>message</th>\n",
       "      <th>revenue</th>\n",
       "    </tr>\n",
       "    <tr>\n",
       "      <th>tariff</th>\n",
       "      <th></th>\n",
       "      <th></th>\n",
       "      <th></th>\n",
       "      <th></th>\n",
       "    </tr>\n",
       "  </thead>\n",
       "  <tbody>\n",
       "    <tr>\n",
       "      <th>smart</th>\n",
       "      <td>417.934948</td>\n",
       "      <td>16.359354</td>\n",
       "      <td>33.384029</td>\n",
       "      <td>1294.63930</td>\n",
       "    </tr>\n",
       "    <tr>\n",
       "      <th>ultra</th>\n",
       "      <td>526.623350</td>\n",
       "      <td>19.525888</td>\n",
       "      <td>49.363452</td>\n",
       "      <td>2071.06599</td>\n",
       "    </tr>\n",
       "  </tbody>\n",
       "</table>\n",
       "</div>"
      ],
      "text/plain": [
       "          duration    gb_used    message     revenue\n",
       "tariff                                              \n",
       "smart   417.934948  16.359354  33.384029  1294.63930\n",
       "ultra   526.623350  19.525888  49.363452  2071.06599"
      ]
     },
     "metadata": {},
     "output_type": "display_data"
    }
   ],
   "source": [
    "\n",
    "#df_mean = df.groupby('tariff').agg({'duration': 'mean', 'gb_used':'mean', 'message': 'mean', 'revenue':'mean'})\n",
    "df_mean = df.groupby('tariff')['duration','gb_used','message', 'revenue'].mean()\n",
    "display(df_mean)"
   ]
  },
  {
   "cell_type": "markdown",
   "metadata": {},
   "source": [
    "Видим, что пользователи тарифом smart в среднем укладываются в предоставленные лимиты, кроме интернет-трафика (15,36 гБ лимит, средний расход 15,85 гБ).\n",
    "Пользователи тарифом ultra тратят намного меньше предоставленных лимитов.\n",
    "Теперь посчитаем дисперсию и стандартное отклонение каждого из параметров для каждого тарифа."
   ]
  },
  {
   "cell_type": "markdown",
   "metadata": {},
   "source": [
    "### Тариф ultra"
   ]
  },
  {
   "cell_type": "code",
   "execution_count": 29,
   "metadata": {},
   "outputs": [
    {
     "data": {
      "text/html": [
       "<div>\n",
       "<style scoped>\n",
       "    .dataframe tbody tr th:only-of-type {\n",
       "        vertical-align: middle;\n",
       "    }\n",
       "\n",
       "    .dataframe tbody tr th {\n",
       "        vertical-align: top;\n",
       "    }\n",
       "\n",
       "    .dataframe thead th {\n",
       "        text-align: right;\n",
       "    }\n",
       "</style>\n",
       "<table border=\"1\" class=\"dataframe\">\n",
       "  <thead>\n",
       "    <tr style=\"text-align: right;\">\n",
       "      <th></th>\n",
       "      <th>mean</th>\n",
       "      <th>std</th>\n",
       "      <th>var</th>\n",
       "    </tr>\n",
       "  </thead>\n",
       "  <tbody>\n",
       "    <tr>\n",
       "      <th>duration</th>\n",
       "      <td>526.623350</td>\n",
       "      <td>317.606098</td>\n",
       "      <td>100873.633397</td>\n",
       "    </tr>\n",
       "    <tr>\n",
       "      <th>gb_used</th>\n",
       "      <td>19.525888</td>\n",
       "      <td>9.865848</td>\n",
       "      <td>97.334949</td>\n",
       "    </tr>\n",
       "    <tr>\n",
       "      <th>message</th>\n",
       "      <td>49.363452</td>\n",
       "      <td>47.804457</td>\n",
       "      <td>2285.266143</td>\n",
       "    </tr>\n",
       "    <tr>\n",
       "      <th>revenue</th>\n",
       "      <td>2071.065990</td>\n",
       "      <td>378.802377</td>\n",
       "      <td>143491.240560</td>\n",
       "    </tr>\n",
       "  </tbody>\n",
       "</table>\n",
       "</div>"
      ],
      "text/plain": [
       "                 mean         std            var\n",
       "duration   526.623350  317.606098  100873.633397\n",
       "gb_used     19.525888    9.865848      97.334949\n",
       "message     49.363452   47.804457    2285.266143\n",
       "revenue   2071.065990  378.802377  143491.240560"
      ]
     },
     "metadata": {},
     "output_type": "display_data"
    }
   ],
   "source": [
    "df_ultra = df.query('tariff==\"ultra\"')\n",
    "ultra = df_ultra[['duration', 'gb_used', 'message', 'revenue']].describe().T\n",
    "ultra['var'] = df_ultra[['duration', 'gb_used', 'message', 'revenue']].var(ddof=1)\n",
    "ultra = ultra[['mean', 'std', 'var']]\n",
    "display(ultra)\n",
    "\n"
   ]
  },
  {
   "cell_type": "markdown",
   "metadata": {},
   "source": [
    "Таким образом, для тарифа ultra получили следующие характеристики:\n",
    "1. Средняя продолжительность разговоров в месяц 527 минут, среднее отклонение 317,6 минут, дисперсия 100874 мин.\n",
    "2. Среднемесячное количество гБайт, используемое одним пользователем, равно 19,5гБ, среднее отклонение 9,87 гБ, дисперсия 97,33 гБ.\n",
    "3. Среднее количество сообщений, отправленных одним пользователем, равно 49, среднее отклонение 47,8, дисперсия 2285.\n",
    "4. Среднемесячная выручка от одного абонента 2071 руб., среднее отклонение 378,8 руб., дисперсия 143491 руб."
   ]
  },
  {
   "cell_type": "markdown",
   "metadata": {},
   "source": [
    "### Тариф smart"
   ]
  },
  {
   "cell_type": "code",
   "execution_count": 30,
   "metadata": {},
   "outputs": [
    {
     "data": {
      "text/html": [
       "<div>\n",
       "<style scoped>\n",
       "    .dataframe tbody tr th:only-of-type {\n",
       "        vertical-align: middle;\n",
       "    }\n",
       "\n",
       "    .dataframe tbody tr th {\n",
       "        vertical-align: top;\n",
       "    }\n",
       "\n",
       "    .dataframe thead th {\n",
       "        text-align: right;\n",
       "    }\n",
       "</style>\n",
       "<table border=\"1\" class=\"dataframe\">\n",
       "  <thead>\n",
       "    <tr style=\"text-align: right;\">\n",
       "      <th></th>\n",
       "      <th>mean</th>\n",
       "      <th>std</th>\n",
       "      <th>var</th>\n",
       "    </tr>\n",
       "  </thead>\n",
       "  <tbody>\n",
       "    <tr>\n",
       "      <th>duration</th>\n",
       "      <td>417.934948</td>\n",
       "      <td>190.313730</td>\n",
       "      <td>36219.315784</td>\n",
       "    </tr>\n",
       "    <tr>\n",
       "      <th>gb_used</th>\n",
       "      <td>16.359354</td>\n",
       "      <td>5.758498</td>\n",
       "      <td>33.160304</td>\n",
       "    </tr>\n",
       "    <tr>\n",
       "      <th>message</th>\n",
       "      <td>33.384029</td>\n",
       "      <td>28.227876</td>\n",
       "      <td>796.812958</td>\n",
       "    </tr>\n",
       "    <tr>\n",
       "      <th>revenue</th>\n",
       "      <td>1294.639300</td>\n",
       "      <td>820.933202</td>\n",
       "      <td>673931.321363</td>\n",
       "    </tr>\n",
       "  </tbody>\n",
       "</table>\n",
       "</div>"
      ],
      "text/plain": [
       "                 mean         std            var\n",
       "duration   417.934948  190.313730   36219.315784\n",
       "gb_used     16.359354    5.758498      33.160304\n",
       "message     33.384029   28.227876     796.812958\n",
       "revenue   1294.639300  820.933202  673931.321363"
      ]
     },
     "metadata": {},
     "output_type": "display_data"
    }
   ],
   "source": [
    "df_smart = df.query('tariff==\"smart\"')\n",
    "smart = df_smart[['duration', 'gb_used', 'message', 'revenue']].describe().T\n",
    "smart['var'] = df_smart[['duration', 'gb_used', 'message', 'revenue']].var(ddof=1)\n",
    "smart = smart[['mean', 'std', 'var']]\n",
    "display(smart)"
   ]
  },
  {
   "cell_type": "markdown",
   "metadata": {},
   "source": [
    "Для тарифа smart получили следующие характеристики:\n",
    "1. Средняя продолжительность разговоров в месяц 418 минут, среднее отклонение 190 минут, дисперсия 36219 мин.\n",
    "2. Среднемесячное количество гБайт, используемое одним пользователем, равно 16,36, среднее отклонение 5,75 гБ, дисперсия 33,16 гБ.\n",
    "3. Среднее количество сообщений, отправленных одним пользователем, равно 33,3, среднее отклонение 28,2, дисперсия 796,8.\n",
    "4. Среднемесячная выручка от одного абонента 1294,63 руб., среднее отклонение 821 руб., дисперсия 673931 руб."
   ]
  },
  {
   "cell_type": "markdown",
   "metadata": {},
   "source": [
    "### Построение гистограмм"
   ]
  },
  {
   "cell_type": "code",
   "execution_count": 31,
   "metadata": {},
   "outputs": [
    {
     "data": {
      "image/png": "[encoded data removed]",
      "text/plain": [
       "<Figure size 432x288 with 1 Axes>"
      ]
     },
     "metadata": {
      "needs_background": "light"
     },
     "output_type": "display_data"
    }
   ],
   "source": [
    "ax=df_smart['duration'].plot(kind='hist', label = 'Минуты smart', title='Продолжительность разговоров', legend = True)\n",
    "df_ultra['duration'].plot(kind='hist', ax=ax, label = 'Минуты ultra', grid = True, legend = True) \n",
    "plt.xlabel('Минуты')\n",
    "plt.ylabel('Количество абонентов')\n",
    "plt.show()"
   ]
  },
  {
   "cell_type": "code",
   "execution_count": 32,
   "metadata": {},
   "outputs": [
    {
     "data": {
      "image/png": "[encoded data removed]",
      "text/plain": [
       "<Figure size 720x576 with 1 Axes>"
      ]
     },
     "metadata": {},
     "output_type": "display_data"
    }
   ],
   "source": [
    "plt.style.use('ggplot') # Добавлю стиль. Запустить достаточно лишь 1 раз.\n",
    "\n",
    "df.groupby('tariff')['duration'].plot.hist(alpha=0.5, legend=True, bins=25, figsize=(10,8))\n",
    "\n",
    "plt.legend(['Смарт', 'Ультра'])\n",
    "plt.title('Заголовок')\n",
    "plt.xlabel('Подпись')\n",
    "plt.ylabel('Подпись')\n",
    "\n",
    "plt.show()"
   ]
  },
  {
   "cell_type": "markdown",
   "metadata": {},
   "source": [
    "Из гистограммы видно, что пользователи тарифом smart разговаривают в месяц не более 800 минут, при этом наибольшее количество пользователей разговаривают от 450 до 550 минут. Пользователи ultra в месяц могут разговаривать до 1700 минут, но наибольшее количество разговаривают также от 500 до 650 минут. "
   ]
  },
  {
   "cell_type": "code",
   "execution_count": 33,
   "metadata": {},
   "outputs": [
    {
     "data": {
      "image/png": "[encoded data removed]",
      "text/plain": [
       "<Figure size 720x576 with 1 Axes>"
      ]
     },
     "metadata": {},
     "output_type": "display_data"
    }
   ],
   "source": [
    "#ax=df_smart['gb_used'].plot(kind='hist', label = 'Гигабайты smart', title='Интернет-трафик по тарифам', legend = True)\n",
    "#df_ultra['gb_used'].plot(kind='hist', ax=ax, label = 'Гигабайты ultra', grid = True, legend = True) \n",
    "#plt.xlabel('Гигабайты')\n",
    "#plt.ylabel('Количество абонентов')\n",
    "#plt.show()\n",
    "\n",
    "df.groupby('tariff')['gb_used'].plot.hist(alpha=0.5, legend=True, bins=25, figsize=(10,8))\n",
    "\n",
    "plt.legend(['Смарт', 'Ультра'])\n",
    "plt.title('Интернет-трафик по тарифам')\n",
    "plt.xlabel('Гигабайты')\n",
    "plt.ylabel('Количество абонентов')\n",
    "\n",
    "plt.show()"
   ]
  },
  {
   "cell_type": "markdown",
   "metadata": {},
   "source": [
    "Видим, что пользователи тарифом smart расходуют в месяц не более 26 гБайт, при этом наибольшее количество пользователей расходуют 15-18 гБайт. Пользователи ultra в месяц расходуют до 45 гБайт, но наибольшее количество расходуют как и пользователи smart 15-18 гБайт."
   ]
  },
  {
   "cell_type": "code",
   "execution_count": 34,
   "metadata": {},
   "outputs": [
    {
     "data": {
      "image/png": "[encoded data removed]",
      "text/plain": [
       "<Figure size 720x576 with 1 Axes>"
      ]
     },
     "metadata": {},
     "output_type": "display_data"
    }
   ],
   "source": [
    "#ax=df_smart['message'].plot(kind='hist', label = 'Сообщения smart', title='Количество сообщений по тарифам', legend = True)\n",
    "#df_ultra['message'].plot(kind='hist', ax=ax, label = 'Сообщения ultra', grid = True, legend = True) \n",
    "\n",
    "df.groupby('tariff')['message'].plot.hist(alpha=0.5, legend=True, bins=25, figsize=(10,8))\n",
    "\n",
    "plt.legend(['Смарт', 'Ультра'])\n",
    "plt.title('Количество сообщений по тарифам')\n",
    "plt.xlabel('Количество сообщений')\n",
    "plt.ylabel('Количество абонентов')\n",
    "plt.show()\n",
    "\n"
   ]
  },
  {
   "cell_type": "markdown",
   "metadata": {},
   "source": [
    "Пользователи тарифом smart отправляют ежемесячно не более 80 сообщений, при этом наибольшее количество пользователей отправляют около 25 sms-ок. Пользователи ultra в месяц отправляют до 250 сообщений, но наибольшее количество отправляют как и пользователи smart 25 до sms-ок."
   ]
  },
  {
   "cell_type": "code",
   "execution_count": 35,
   "metadata": {
    "scrolled": true
   },
   "outputs": [
    {
     "data": {
      "image/png": "[encoded data removed]",
      "text/plain": [
       "<Figure size 720x576 with 1 Axes>"
      ]
     },
     "metadata": {},
     "output_type": "display_data"
    }
   ],
   "source": [
    "df.groupby('tariff')['revenue'].plot.hist(alpha=0.5, legend=True, bins=25, figsize=(10,8))\n",
    "plt.legend(['Смарт', 'Ультра'])\n",
    "plt.title('Выручка')\n",
    "plt.xlabel('Выручка, руб.')\n",
    "plt.ylabel('Количество абонентов')\n",
    "plt.show()\n"
   ]
  },
  {
   "cell_type": "markdown",
   "metadata": {},
   "source": [
    "Видим, что несмотря на то, что средняя выручка на одного абонента по тарифу smart меньше выручки ultra, наибольшую выручку компании приносит именно smart. "
   ]
  },
  {
   "cell_type": "markdown",
   "metadata": {},
   "source": [
    "## Проверка гипотез"
   ]
  },
  {
   "cell_type": "markdown",
   "metadata": {},
   "source": [
    "### Средняя выручка пользователей двух тарифов различаются"
   ]
  },
  {
   "cell_type": "markdown",
   "metadata": {},
   "source": [
    "Нулевая гипотеза (Н0) - средняя выручка пользователей тарифов «Ультра» и «Смарт» одинакова.\n",
    "Альтернативная гипотеза (Н1) - средняя выручка пользователей тарифов «Ультра» и «Смарт» различаются.\n",
    "Для проверки Н0 используем ttest, alpha =5%, т.к. дисперсии разные параметру equal_var присвоим значение  False. "
   ]
  },
  {
   "cell_type": "code",
   "execution_count": 36,
   "metadata": {},
   "outputs": [
    {
     "name": "stdout",
     "output_type": "stream",
     "text": [
      "p-значение:  2.7240946993530856e-246\n",
      "Отвергаем нулевую гипотезу\n"
     ]
    }
   ],
   "source": [
    "smart_revenue = df_smart['revenue']\n",
    "ultra_revenue = df_ultra['revenue']\n",
    "alpha = 0.05\n",
    "results = st.ttest_ind(smart_revenue, ultra_revenue, equal_var = False)\n",
    "\n",
    "print('p-значение: ', results.pvalue)\n",
    "\n",
    "if results.pvalue < alpha:\n",
    "    print(\"Отвергаем нулевую гипотезу\")\n",
    "else:\n",
    "    print(\"Не получилось отвергнуть нулевую гипотезу\") \n"
   ]
  },
  {
   "cell_type": "markdown",
   "metadata": {},
   "source": [
    "Таким образом, ttest подтвердил наше заключение, полученное в предыдущем разделе, средняя выручка пользователей тарифов «Ультра» и «Смарт» различаются. Т.к. pvalue = 8,9 в минус 296 степени, опровергаем нулевую гипотезу."
   ]
  },
  {
   "cell_type": "markdown",
   "metadata": {},
   "source": [
    "### Cредняя выручка пользователей из Москвы отличается от выручки пользователей из других регионов"
   ]
  },
  {
   "cell_type": "markdown",
   "metadata": {},
   "source": [
    "Нулевая гипотеза (Н0) - средняя выручка абонентов-москвичей и абонентов из других регионов одинакова. Альтернативная гипотеза (Н1) - средняя выручка абонентов-москвичей и абонентов из других регионов различаются. alpha =5%.\n"
   ]
  },
  {
   "cell_type": "code",
   "execution_count": 37,
   "metadata": {},
   "outputs": [
    {
     "name": "stdout",
     "output_type": "stream",
     "text": [
      "p-значение:  0.531666503831252\n",
      "Не получилось отвергнуть нулевую гипотезу\n"
     ]
    }
   ],
   "source": [
    "moscow_revenue = df[df['city']=='Москва']['revenue']\n",
    "region_revenue = df[df['city']!='Москва']['revenue']\n",
    "alpha = 0.05\n",
    "results = st.ttest_ind(moscow_revenue, region_revenue)\n",
    "\n",
    "print('p-значение: ', results.pvalue)\n",
    "\n",
    "if results.pvalue < alpha:\n",
    "    print(\"Отвергаем нулевую гипотезу\")\n",
    "else:\n",
    "    print(\"Не получилось отвергнуть нулевую гипотезу\") \n"
   ]
  },
  {
   "cell_type": "markdown",
   "metadata": {},
   "source": [
    "Полученное значение p-value говорит о том, что вероятность получить такое или большее различие случайно более 47%. Это явно слишком большая вероятность, чтобы делать вывод о значимом различии между суммами выручки. Поэтому делаем вывод, что средняя выручка абонентов-москвичей не отличается от средней выручки абонентов из других регионов."
   ]
  },
  {
   "cell_type": "markdown",
   "metadata": {},
   "source": [
    "## Общий вывод"
   ]
  },
  {
   "cell_type": "code",
   "execution_count": 38,
   "metadata": {},
   "outputs": [
    {
     "name": "stdout",
     "output_type": "stream",
     "text": [
      "tariff\n",
      "smart    2885751.0\n",
      "ultra    2040000.0\n",
      "Name: revenue, dtype: float64\n"
     ]
    }
   ],
   "source": [
    "print(df.groupby('tariff')['revenue'].sum())"
   ]
  },
  {
   "cell_type": "markdown",
   "metadata": {},
   "source": [
    "Проанализировав два тарифа компании \"Мегалайн\" - \"Смарт\" и \"Ультра\" - делаем вывод, что \"Смарт\" приносит компании больше денег, чем \"Ультра\". Абонентов \"Смарта\" больше более чем в 2 раза, средняя выручка 1295 руб., максимальная 6711 руб. Средняя выручка абонентов \"Ультра\" 2071 руб, максимальная 4743 руб. Общая совокупная выручка, которую приносит \"Мегалайну\" тариф \"Смарт\" в месяц, составляет 2885751 рублей, тариф \"Ультра\" 2040000 рублей. Кроме того, абоненты \"Смарта\" в среднем платят сверх тарифной  платы 795 рублей в месяц, а абоненты \"Ультра\" только 121 руб."
   ]
  }
 ],
 "metadata": {
  "ExecuteTimeLog": [
   {
    "duration": 765,
    "start_time": "2022-02-21T13:55:30.825Z"
   },
   {
    "duration": 160,
    "start_time": "2022-02-21T13:55:55.166Z"
   },
   {
    "duration": 138,
    "start_time": "2022-02-21T13:57:01.416Z"
   },
   {
    "duration": 1621,
    "start_time": "2022-02-21T13:57:12.241Z"
   },
   {
    "duration": 126,
    "start_time": "2022-02-21T13:57:18.063Z"
   },
   {
    "duration": 81,
    "start_time": "2022-02-21T13:58:24.389Z"
   },
   {
    "duration": 16,
    "start_time": "2022-02-21T14:00:10.700Z"
   },
   {
    "duration": 18,
    "start_time": "2022-02-21T14:00:22.146Z"
   },
   {
    "duration": 32,
    "start_time": "2022-02-21T14:00:24.946Z"
   },
   {
    "duration": 157,
    "start_time": "2022-02-21T14:12:56.424Z"
   },
   {
    "duration": 153,
    "start_time": "2022-02-21T14:13:04.144Z"
   },
   {
    "duration": 154,
    "start_time": "2022-02-21T14:13:11.767Z"
   },
   {
    "duration": 170,
    "start_time": "2022-02-21T14:14:06.614Z"
   },
   {
    "duration": 147,
    "start_time": "2022-02-21T14:20:32.612Z"
   },
   {
    "duration": 97,
    "start_time": "2022-02-21T14:22:16.288Z"
   },
   {
    "duration": 17,
    "start_time": "2022-02-21T14:22:39.712Z"
   },
   {
    "duration": 36,
    "start_time": "2022-02-21T14:23:19.007Z"
   },
   {
    "duration": 31,
    "start_time": "2022-02-21T14:23:26.047Z"
   },
   {
    "duration": 138,
    "start_time": "2022-02-21T14:28:35.471Z"
   },
   {
    "duration": 1033,
    "start_time": "2022-02-22T08:12:32.684Z"
   },
   {
    "duration": 207,
    "start_time": "2022-02-22T08:12:33.720Z"
   },
   {
    "duration": 152,
    "start_time": "2022-02-22T08:12:33.930Z"
   },
   {
    "duration": 27,
    "start_time": "2022-02-22T08:12:34.085Z"
   },
   {
    "duration": 57,
    "start_time": "2022-02-22T08:12:34.116Z"
   },
   {
    "duration": 369,
    "start_time": "2022-02-22T08:21:43.581Z"
   },
   {
    "duration": 36,
    "start_time": "2022-02-22T08:22:27.525Z"
   },
   {
    "duration": 62,
    "start_time": "2022-02-22T08:24:12.961Z"
   },
   {
    "duration": 249,
    "start_time": "2022-02-22T08:24:47.786Z"
   },
   {
    "duration": 25,
    "start_time": "2022-02-22T08:24:59.463Z"
   },
   {
    "duration": 66,
    "start_time": "2022-02-22T08:25:12.121Z"
   },
   {
    "duration": 41,
    "start_time": "2022-02-22T08:25:28.992Z"
   },
   {
    "duration": 47,
    "start_time": "2022-02-22T08:25:55.992Z"
   },
   {
    "duration": 78,
    "start_time": "2022-02-22T08:30:25.153Z"
   },
   {
    "duration": 133,
    "start_time": "2022-02-22T08:32:02.150Z"
   },
   {
    "duration": 302,
    "start_time": "2022-02-22T08:37:48.222Z"
   },
   {
    "duration": 967,
    "start_time": "2022-02-22T08:47:51.175Z"
   },
   {
    "duration": 210,
    "start_time": "2022-02-22T08:47:52.149Z"
   },
   {
    "duration": 139,
    "start_time": "2022-02-22T08:47:52.362Z"
   },
   {
    "duration": 27,
    "start_time": "2022-02-22T08:47:52.504Z"
   },
   {
    "duration": 36,
    "start_time": "2022-02-22T08:47:52.550Z"
   },
   {
    "duration": 163,
    "start_time": "2022-02-22T08:47:52.589Z"
   },
   {
    "duration": 106,
    "start_time": "2022-02-22T08:47:52.755Z"
   },
   {
    "duration": 376,
    "start_time": "2022-02-22T08:47:52.864Z"
   },
   {
    "duration": 7,
    "start_time": "2022-02-22T08:50:33.014Z"
   },
   {
    "duration": 6,
    "start_time": "2022-02-22T08:50:37.597Z"
   },
   {
    "duration": 35,
    "start_time": "2022-02-22T08:51:17.036Z"
   },
   {
    "duration": 349,
    "start_time": "2022-02-22T10:38:47.516Z"
   },
   {
    "duration": 483,
    "start_time": "2022-02-22T10:46:37.216Z"
   },
   {
    "duration": 1037,
    "start_time": "2022-02-22T10:46:50.114Z"
   },
   {
    "duration": 210,
    "start_time": "2022-02-22T10:46:51.159Z"
   },
   {
    "duration": 153,
    "start_time": "2022-02-22T10:46:51.373Z"
   },
   {
    "duration": 27,
    "start_time": "2022-02-22T10:46:51.528Z"
   },
   {
    "duration": 36,
    "start_time": "2022-02-22T10:46:51.558Z"
   },
   {
    "duration": 156,
    "start_time": "2022-02-22T10:46:51.597Z"
   },
   {
    "duration": 110,
    "start_time": "2022-02-22T10:46:51.756Z"
   },
   {
    "duration": 25,
    "start_time": "2022-02-22T10:46:51.869Z"
   },
   {
    "duration": 662,
    "start_time": "2022-02-22T10:47:44.844Z"
   },
   {
    "duration": 983,
    "start_time": "2022-02-22T10:48:24.589Z"
   },
   {
    "duration": 197,
    "start_time": "2022-02-22T10:48:30.332Z"
   },
   {
    "duration": 132,
    "start_time": "2022-02-22T10:48:32.787Z"
   },
   {
    "duration": 29,
    "start_time": "2022-02-22T10:48:35.994Z"
   },
   {
    "duration": 36,
    "start_time": "2022-02-22T10:48:38.251Z"
   },
   {
    "duration": 145,
    "start_time": "2022-02-22T10:48:43.163Z"
   },
   {
    "duration": 106,
    "start_time": "2022-02-22T10:48:45.506Z"
   },
   {
    "duration": 28,
    "start_time": "2022-02-22T10:48:50.955Z"
   },
   {
    "duration": 431,
    "start_time": "2022-02-22T11:53:16.114Z"
   },
   {
    "duration": 1043,
    "start_time": "2022-02-22T11:53:25.764Z"
   },
   {
    "duration": 201,
    "start_time": "2022-02-22T11:53:26.810Z"
   },
   {
    "duration": 143,
    "start_time": "2022-02-22T11:53:27.014Z"
   },
   {
    "duration": 30,
    "start_time": "2022-02-22T11:53:27.160Z"
   },
   {
    "duration": 56,
    "start_time": "2022-02-22T11:53:27.193Z"
   },
   {
    "duration": 158,
    "start_time": "2022-02-22T11:53:27.252Z"
   },
   {
    "duration": 108,
    "start_time": "2022-02-22T11:53:27.413Z"
   },
   {
    "duration": 36,
    "start_time": "2022-02-22T11:53:27.524Z"
   },
   {
    "duration": 410,
    "start_time": "2022-02-22T11:53:27.563Z"
   },
   {
    "duration": 451,
    "start_time": "2022-02-22T11:55:17.460Z"
   },
   {
    "duration": 1009,
    "start_time": "2022-02-22T11:55:27.531Z"
   },
   {
    "duration": 204,
    "start_time": "2022-02-22T11:55:28.548Z"
   },
   {
    "duration": 139,
    "start_time": "2022-02-22T11:55:28.756Z"
   },
   {
    "duration": 27,
    "start_time": "2022-02-22T11:55:28.899Z"
   },
   {
    "duration": 54,
    "start_time": "2022-02-22T11:55:28.929Z"
   },
   {
    "duration": 146,
    "start_time": "2022-02-22T11:55:28.986Z"
   },
   {
    "duration": 114,
    "start_time": "2022-02-22T11:55:29.134Z"
   },
   {
    "duration": 30,
    "start_time": "2022-02-22T11:55:29.252Z"
   },
   {
    "duration": 686,
    "start_time": "2022-02-22T11:55:29.284Z"
   },
   {
    "duration": 503,
    "start_time": "2022-02-22T13:57:50.880Z"
   },
   {
    "duration": 1065,
    "start_time": "2022-02-22T13:58:06.640Z"
   },
   {
    "duration": 225,
    "start_time": "2022-02-22T13:58:07.709Z"
   },
   {
    "duration": 152,
    "start_time": "2022-02-22T13:58:07.936Z"
   },
   {
    "duration": 26,
    "start_time": "2022-02-22T13:58:08.091Z"
   },
   {
    "duration": 55,
    "start_time": "2022-02-22T13:58:08.120Z"
   },
   {
    "duration": 159,
    "start_time": "2022-02-22T13:58:08.177Z"
   },
   {
    "duration": 117,
    "start_time": "2022-02-22T13:58:08.338Z"
   },
   {
    "duration": 26,
    "start_time": "2022-02-22T13:58:08.459Z"
   },
   {
    "duration": 379,
    "start_time": "2022-02-22T13:58:08.488Z"
   },
   {
    "duration": -233736,
    "start_time": "2022-02-22T14:02:02.605Z"
   },
   {
    "duration": -233740,
    "start_time": "2022-02-22T14:02:02.610Z"
   },
   {
    "duration": 266,
    "start_time": "2022-02-22T13:58:27.382Z"
   },
   {
    "duration": 43,
    "start_time": "2022-02-22T13:58:44.116Z"
   },
   {
    "duration": 103,
    "start_time": "2022-02-22T14:01:28.650Z"
   },
   {
    "duration": 745,
    "start_time": "2022-02-23T20:15:06.174Z"
   },
   {
    "duration": 123,
    "start_time": "2022-02-23T20:15:06.921Z"
   },
   {
    "duration": 89,
    "start_time": "2022-02-23T20:15:07.045Z"
   },
   {
    "duration": 23,
    "start_time": "2022-02-23T20:15:07.135Z"
   },
   {
    "duration": 46,
    "start_time": "2022-02-23T20:15:07.160Z"
   },
   {
    "duration": 87,
    "start_time": "2022-02-23T20:15:07.208Z"
   },
   {
    "duration": 76,
    "start_time": "2022-02-23T20:15:07.297Z"
   },
   {
    "duration": 17,
    "start_time": "2022-02-23T20:15:07.375Z"
   },
   {
    "duration": 84,
    "start_time": "2022-02-23T20:15:07.393Z"
   },
   {
    "duration": 2,
    "start_time": "2022-02-23T20:15:07.479Z"
   },
   {
    "duration": 350,
    "start_time": "2022-02-23T20:15:07.482Z"
   },
   {
    "duration": 45,
    "start_time": "2022-02-23T20:26:18.051Z"
   },
   {
    "duration": 305,
    "start_time": "2022-02-23T20:26:38.467Z"
   },
   {
    "duration": 299,
    "start_time": "2022-02-23T20:28:24.488Z"
   },
   {
    "duration": 303,
    "start_time": "2022-02-23T20:28:52.035Z"
   },
   {
    "duration": 314,
    "start_time": "2022-02-23T20:29:08.762Z"
   },
   {
    "duration": 309,
    "start_time": "2022-02-23T20:30:28.670Z"
   },
   {
    "duration": 345,
    "start_time": "2022-02-23T20:33:11.929Z"
   },
   {
    "duration": 324,
    "start_time": "2022-02-23T20:34:24.185Z"
   },
   {
    "duration": 1709,
    "start_time": "2022-02-23T20:34:38.613Z"
   },
   {
    "duration": 975,
    "start_time": "2022-02-23T20:34:40.324Z"
   },
   {
    "duration": 403,
    "start_time": "2022-02-23T20:34:41.301Z"
   },
   {
    "duration": 54,
    "start_time": "2022-02-23T20:34:41.706Z"
   },
   {
    "duration": 55,
    "start_time": "2022-02-23T20:34:41.762Z"
   },
   {
    "duration": 96,
    "start_time": "2022-02-23T20:34:41.819Z"
   },
   {
    "duration": 78,
    "start_time": "2022-02-23T20:34:41.917Z"
   },
   {
    "duration": 16,
    "start_time": "2022-02-23T20:34:41.997Z"
   },
   {
    "duration": 64,
    "start_time": "2022-02-23T20:34:42.031Z"
   },
   {
    "duration": 391,
    "start_time": "2022-02-23T20:34:42.096Z"
   },
   {
    "duration": 329,
    "start_time": "2022-02-23T20:34:49.890Z"
   },
   {
    "duration": 1687,
    "start_time": "2022-02-23T20:35:08.383Z"
   },
   {
    "duration": 40,
    "start_time": "2022-02-23T20:35:38.800Z"
   },
   {
    "duration": 15,
    "start_time": "2022-02-23T20:36:29.579Z"
   },
   {
    "duration": 18,
    "start_time": "2022-02-23T20:36:58.554Z"
   },
   {
    "duration": 66,
    "start_time": "2022-02-23T20:38:30.358Z"
   },
   {
    "duration": 13,
    "start_time": "2022-02-23T20:38:46.548Z"
   },
   {
    "duration": 1111,
    "start_time": "2022-02-24T08:40:02.792Z"
   },
   {
    "duration": 195,
    "start_time": "2022-02-24T08:40:03.905Z"
   },
   {
    "duration": 133,
    "start_time": "2022-02-24T08:40:04.102Z"
   },
   {
    "duration": 28,
    "start_time": "2022-02-24T08:40:04.237Z"
   },
   {
    "duration": 53,
    "start_time": "2022-02-24T08:40:04.267Z"
   },
   {
    "duration": 93,
    "start_time": "2022-02-24T08:40:04.322Z"
   },
   {
    "duration": 77,
    "start_time": "2022-02-24T08:40:04.417Z"
   },
   {
    "duration": 16,
    "start_time": "2022-02-24T08:40:04.496Z"
   },
   {
    "duration": 81,
    "start_time": "2022-02-24T08:40:04.515Z"
   },
   {
    "duration": 48,
    "start_time": "2022-02-24T08:40:04.598Z"
   },
   {
    "duration": 41,
    "start_time": "2022-02-24T08:40:04.647Z"
   },
   {
    "duration": 839,
    "start_time": "2022-02-24T08:40:04.690Z"
   },
   {
    "duration": 14,
    "start_time": "2022-02-24T08:40:31.967Z"
   },
   {
    "duration": 14,
    "start_time": "2022-02-24T08:40:48.844Z"
   },
   {
    "duration": 281,
    "start_time": "2022-02-24T08:42:49.720Z"
   },
   {
    "duration": 640,
    "start_time": "2022-02-24T08:43:35.185Z"
   },
   {
    "duration": 252,
    "start_time": "2022-02-24T08:44:58.741Z"
   },
   {
    "duration": 395,
    "start_time": "2022-02-24T08:45:50.437Z"
   },
   {
    "duration": 11,
    "start_time": "2022-02-24T08:46:01.189Z"
   },
   {
    "duration": 377,
    "start_time": "2022-02-24T08:47:20.242Z"
   },
   {
    "duration": 362,
    "start_time": "2022-02-24T08:47:33.858Z"
   },
   {
    "duration": 356,
    "start_time": "2022-02-24T08:47:39.713Z"
   },
   {
    "duration": 391,
    "start_time": "2022-02-24T08:53:15.313Z"
   },
   {
    "duration": 762,
    "start_time": "2022-02-24T08:53:23.409Z"
   },
   {
    "duration": 140,
    "start_time": "2022-02-24T08:53:24.173Z"
   },
   {
    "duration": 95,
    "start_time": "2022-02-24T08:53:24.315Z"
   },
   {
    "duration": 28,
    "start_time": "2022-02-24T08:53:24.411Z"
   },
   {
    "duration": 42,
    "start_time": "2022-02-24T08:53:24.441Z"
   },
   {
    "duration": 91,
    "start_time": "2022-02-24T08:53:24.484Z"
   },
   {
    "duration": 83,
    "start_time": "2022-02-24T08:53:24.577Z"
   },
   {
    "duration": 24,
    "start_time": "2022-02-24T08:53:24.662Z"
   },
   {
    "duration": 102,
    "start_time": "2022-02-24T08:53:24.689Z"
   },
   {
    "duration": 76,
    "start_time": "2022-02-24T08:53:24.793Z"
   },
   {
    "duration": 84,
    "start_time": "2022-02-24T08:53:24.871Z"
   },
   {
    "duration": 25,
    "start_time": "2022-02-24T08:53:24.957Z"
   },
   {
    "duration": 19,
    "start_time": "2022-02-24T08:54:18.776Z"
   },
   {
    "duration": 19,
    "start_time": "2022-02-24T08:54:38.944Z"
   },
   {
    "duration": 113,
    "start_time": "2022-02-24T08:55:01.750Z"
   },
   {
    "duration": 122,
    "start_time": "2022-02-24T08:55:21.246Z"
   },
   {
    "duration": 19,
    "start_time": "2022-02-24T08:55:31.367Z"
   },
   {
    "duration": 12,
    "start_time": "2022-02-24T08:59:45.695Z"
   },
   {
    "duration": 15,
    "start_time": "2022-02-24T09:00:11.377Z"
   },
   {
    "duration": 18,
    "start_time": "2022-02-24T09:00:48.686Z"
   },
   {
    "duration": 14,
    "start_time": "2022-02-24T09:01:56.932Z"
   },
   {
    "duration": 14,
    "start_time": "2022-02-24T09:02:37.492Z"
   },
   {
    "duration": 407,
    "start_time": "2022-02-24T09:09:15.068Z"
   },
   {
    "duration": 9,
    "start_time": "2022-02-24T09:10:42.999Z"
   },
   {
    "duration": 26,
    "start_time": "2022-02-24T09:11:08.429Z"
   },
   {
    "duration": 361,
    "start_time": "2022-02-24T09:23:11.413Z"
   },
   {
    "duration": 761,
    "start_time": "2022-02-24T09:23:20.360Z"
   },
   {
    "duration": 137,
    "start_time": "2022-02-24T09:23:21.123Z"
   },
   {
    "duration": 96,
    "start_time": "2022-02-24T09:23:21.262Z"
   },
   {
    "duration": 23,
    "start_time": "2022-02-24T09:23:21.359Z"
   },
   {
    "duration": 59,
    "start_time": "2022-02-24T09:23:21.384Z"
   },
   {
    "duration": 96,
    "start_time": "2022-02-24T09:23:21.444Z"
   },
   {
    "duration": 70,
    "start_time": "2022-02-24T09:23:21.541Z"
   },
   {
    "duration": 15,
    "start_time": "2022-02-24T09:23:21.613Z"
   },
   {
    "duration": 73,
    "start_time": "2022-02-24T09:23:21.630Z"
   },
   {
    "duration": 63,
    "start_time": "2022-02-24T09:23:21.705Z"
   },
   {
    "duration": 44,
    "start_time": "2022-02-24T09:23:21.769Z"
   },
   {
    "duration": 425,
    "start_time": "2022-02-24T09:23:21.815Z"
   },
   {
    "duration": -236231,
    "start_time": "2022-02-24T09:27:18.473Z"
   },
   {
    "duration": -236234,
    "start_time": "2022-02-24T09:27:18.477Z"
   },
   {
    "duration": 37,
    "start_time": "2022-02-24T09:25:20.758Z"
   },
   {
    "duration": 19,
    "start_time": "2022-02-24T09:25:58.416Z"
   },
   {
    "duration": 25,
    "start_time": "2022-02-24T09:26:17.470Z"
   },
   {
    "duration": 30,
    "start_time": "2022-02-24T09:28:36.558Z"
   },
   {
    "duration": 23,
    "start_time": "2022-02-24T09:29:05.670Z"
   },
   {
    "duration": 26,
    "start_time": "2022-02-24T09:29:08.478Z"
   },
   {
    "duration": 422,
    "start_time": "2022-02-24T09:42:33.304Z"
   },
   {
    "duration": 804,
    "start_time": "2022-02-24T09:50:43.752Z"
   },
   {
    "duration": 142,
    "start_time": "2022-02-24T09:50:44.558Z"
   },
   {
    "duration": 104,
    "start_time": "2022-02-24T09:50:44.702Z"
   },
   {
    "duration": 24,
    "start_time": "2022-02-24T09:50:44.808Z"
   },
   {
    "duration": 42,
    "start_time": "2022-02-24T09:50:44.834Z"
   },
   {
    "duration": 95,
    "start_time": "2022-02-24T09:50:44.878Z"
   },
   {
    "duration": 84,
    "start_time": "2022-02-24T09:50:44.974Z"
   },
   {
    "duration": 16,
    "start_time": "2022-02-24T09:50:45.060Z"
   },
   {
    "duration": 77,
    "start_time": "2022-02-24T09:50:45.078Z"
   },
   {
    "duration": 42,
    "start_time": "2022-02-24T09:50:45.157Z"
   },
   {
    "duration": 64,
    "start_time": "2022-02-24T09:50:45.201Z"
   },
   {
    "duration": 36,
    "start_time": "2022-02-24T09:50:45.266Z"
   },
   {
    "duration": 19,
    "start_time": "2022-02-24T09:50:45.303Z"
   },
   {
    "duration": 45,
    "start_time": "2022-02-24T09:50:45.323Z"
   },
   {
    "duration": 127,
    "start_time": "2022-02-24T09:50:45.370Z"
   },
   {
    "duration": 120,
    "start_time": "2022-02-24T09:50:57.281Z"
   },
   {
    "duration": 474,
    "start_time": "2022-02-24T09:51:05.025Z"
   },
   {
    "duration": 355,
    "start_time": "2022-02-24T09:53:38.110Z"
   },
   {
    "duration": 772,
    "start_time": "2022-02-24T09:53:51.964Z"
   },
   {
    "duration": 141,
    "start_time": "2022-02-24T09:53:52.737Z"
   },
   {
    "duration": 98,
    "start_time": "2022-02-24T09:53:52.880Z"
   },
   {
    "duration": 24,
    "start_time": "2022-02-24T09:53:52.979Z"
   },
   {
    "duration": 43,
    "start_time": "2022-02-24T09:53:53.004Z"
   },
   {
    "duration": 109,
    "start_time": "2022-02-24T09:53:53.049Z"
   },
   {
    "duration": 71,
    "start_time": "2022-02-24T09:53:53.160Z"
   },
   {
    "duration": 27,
    "start_time": "2022-02-24T09:53:53.233Z"
   },
   {
    "duration": 61,
    "start_time": "2022-02-24T09:53:53.263Z"
   },
   {
    "duration": 61,
    "start_time": "2022-02-24T09:53:53.326Z"
   },
   {
    "duration": 71,
    "start_time": "2022-02-24T09:53:53.389Z"
   },
   {
    "duration": 43,
    "start_time": "2022-02-24T09:53:53.461Z"
   },
   {
    "duration": 41,
    "start_time": "2022-02-24T09:53:53.506Z"
   },
   {
    "duration": 23,
    "start_time": "2022-02-24T09:53:53.549Z"
   },
   {
    "duration": 394,
    "start_time": "2022-02-24T09:53:53.573Z"
   },
   {
    "duration": 413,
    "start_time": "2022-02-24T09:54:21.386Z"
   },
   {
    "duration": 117,
    "start_time": "2022-02-24T09:54:37.259Z"
   },
   {
    "duration": 125,
    "start_time": "2022-02-24T09:54:57.951Z"
   },
   {
    "duration": 367,
    "start_time": "2022-02-24T09:55:10.128Z"
   },
   {
    "duration": 765,
    "start_time": "2022-02-24T09:55:26.869Z"
   },
   {
    "duration": 135,
    "start_time": "2022-02-24T09:55:27.635Z"
   },
   {
    "duration": 96,
    "start_time": "2022-02-24T09:55:27.773Z"
   },
   {
    "duration": 25,
    "start_time": "2022-02-24T09:55:27.871Z"
   },
   {
    "duration": 42,
    "start_time": "2022-02-24T09:55:27.898Z"
   },
   {
    "duration": 91,
    "start_time": "2022-02-24T09:55:27.942Z"
   },
   {
    "duration": 78,
    "start_time": "2022-02-24T09:55:28.035Z"
   },
   {
    "duration": 15,
    "start_time": "2022-02-24T09:55:28.115Z"
   },
   {
    "duration": 74,
    "start_time": "2022-02-24T09:55:28.132Z"
   },
   {
    "duration": 60,
    "start_time": "2022-02-24T09:55:28.207Z"
   },
   {
    "duration": 46,
    "start_time": "2022-02-24T09:55:28.268Z"
   },
   {
    "duration": 52,
    "start_time": "2022-02-24T09:55:28.315Z"
   },
   {
    "duration": 21,
    "start_time": "2022-02-24T09:55:28.368Z"
   },
   {
    "duration": 23,
    "start_time": "2022-02-24T09:55:28.390Z"
   },
   {
    "duration": 436,
    "start_time": "2022-02-24T09:55:28.415Z"
   },
   {
    "duration": 365,
    "start_time": "2022-02-24T09:55:42.494Z"
   },
   {
    "duration": 378,
    "start_time": "2022-02-24T09:57:11.268Z"
   },
   {
    "duration": 353,
    "start_time": "2022-02-24T09:58:48.418Z"
   },
   {
    "duration": 815,
    "start_time": "2022-02-24T09:58:57.757Z"
   },
   {
    "duration": 208,
    "start_time": "2022-02-24T09:58:58.574Z"
   },
   {
    "duration": 133,
    "start_time": "2022-02-24T09:58:58.785Z"
   },
   {
    "duration": 28,
    "start_time": "2022-02-24T09:58:58.920Z"
   },
   {
    "duration": 44,
    "start_time": "2022-02-24T09:58:58.950Z"
   },
   {
    "duration": 136,
    "start_time": "2022-02-24T09:58:58.996Z"
   },
   {
    "duration": 87,
    "start_time": "2022-02-24T09:58:59.134Z"
   },
   {
    "duration": 24,
    "start_time": "2022-02-24T09:58:59.223Z"
   },
   {
    "duration": 61,
    "start_time": "2022-02-24T09:58:59.249Z"
   },
   {
    "duration": 58,
    "start_time": "2022-02-24T09:58:59.311Z"
   },
   {
    "duration": 49,
    "start_time": "2022-02-24T09:58:59.370Z"
   },
   {
    "duration": 52,
    "start_time": "2022-02-24T09:58:59.420Z"
   },
   {
    "duration": 18,
    "start_time": "2022-02-24T09:58:59.474Z"
   },
   {
    "duration": 22,
    "start_time": "2022-02-24T09:58:59.494Z"
   },
   {
    "duration": 396,
    "start_time": "2022-02-24T09:58:59.518Z"
   },
   {
    "duration": 371,
    "start_time": "2022-02-24T09:59:07.782Z"
   },
   {
    "duration": 365,
    "start_time": "2022-02-24T09:59:48.613Z"
   },
   {
    "duration": 351,
    "start_time": "2022-02-24T10:01:53.738Z"
   },
   {
    "duration": 351,
    "start_time": "2022-02-24T10:02:07.257Z"
   },
   {
    "duration": 357,
    "start_time": "2022-02-24T10:08:48.965Z"
   },
   {
    "duration": 351,
    "start_time": "2022-02-24T10:09:24.974Z"
   },
   {
    "duration": 4,
    "start_time": "2022-02-24T10:09:44.503Z"
   },
   {
    "duration": 556,
    "start_time": "2022-02-24T10:09:47.805Z"
   },
   {
    "duration": 788,
    "start_time": "2022-02-24T10:13:25.782Z"
   },
   {
    "duration": 131,
    "start_time": "2022-02-24T10:13:26.572Z"
   },
   {
    "duration": 97,
    "start_time": "2022-02-24T10:13:26.706Z"
   },
   {
    "duration": 25,
    "start_time": "2022-02-24T10:13:26.805Z"
   },
   {
    "duration": 45,
    "start_time": "2022-02-24T10:13:26.831Z"
   },
   {
    "duration": 93,
    "start_time": "2022-02-24T10:13:26.877Z"
   },
   {
    "duration": 78,
    "start_time": "2022-02-24T10:13:26.971Z"
   },
   {
    "duration": 17,
    "start_time": "2022-02-24T10:13:27.052Z"
   },
   {
    "duration": 80,
    "start_time": "2022-02-24T10:13:27.072Z"
   },
   {
    "duration": 43,
    "start_time": "2022-02-24T10:13:27.154Z"
   },
   {
    "duration": 60,
    "start_time": "2022-02-24T10:13:27.198Z"
   },
   {
    "duration": 34,
    "start_time": "2022-02-24T10:13:27.260Z"
   },
   {
    "duration": 18,
    "start_time": "2022-02-24T10:13:27.296Z"
   },
   {
    "duration": 47,
    "start_time": "2022-02-24T10:13:27.316Z"
   },
   {
    "duration": 4,
    "start_time": "2022-02-24T10:13:27.364Z"
   },
   {
    "duration": 14,
    "start_time": "2022-02-24T10:13:27.369Z"
   },
   {
    "duration": 3,
    "start_time": "2022-02-24T10:14:12.348Z"
   },
   {
    "duration": 115,
    "start_time": "2022-02-24T10:15:18.115Z"
   },
   {
    "duration": 11,
    "start_time": "2022-02-24T10:15:30.865Z"
   },
   {
    "duration": 33,
    "start_time": "2022-02-24T10:15:43.419Z"
   },
   {
    "duration": 6,
    "start_time": "2022-02-24T10:17:39.862Z"
   },
   {
    "duration": 820,
    "start_time": "2022-02-24T11:36:35.239Z"
   },
   {
    "duration": 137,
    "start_time": "2022-02-24T11:36:36.061Z"
   },
   {
    "duration": 91,
    "start_time": "2022-02-24T11:36:36.201Z"
   },
   {
    "duration": 24,
    "start_time": "2022-02-24T11:36:36.295Z"
   },
   {
    "duration": 49,
    "start_time": "2022-02-24T11:36:36.321Z"
   },
   {
    "duration": 102,
    "start_time": "2022-02-24T11:36:36.372Z"
   },
   {
    "duration": 77,
    "start_time": "2022-02-24T11:36:36.476Z"
   },
   {
    "duration": 16,
    "start_time": "2022-02-24T11:36:36.556Z"
   },
   {
    "duration": 78,
    "start_time": "2022-02-24T11:36:36.574Z"
   },
   {
    "duration": 40,
    "start_time": "2022-02-24T11:36:36.653Z"
   },
   {
    "duration": 66,
    "start_time": "2022-02-24T11:36:36.695Z"
   },
   {
    "duration": 37,
    "start_time": "2022-02-24T11:36:36.762Z"
   },
   {
    "duration": 48,
    "start_time": "2022-02-24T11:36:36.800Z"
   },
   {
    "duration": 22,
    "start_time": "2022-02-24T11:36:36.850Z"
   },
   {
    "duration": 26,
    "start_time": "2022-02-24T11:36:36.874Z"
   },
   {
    "duration": 31,
    "start_time": "2022-02-24T11:40:24.894Z"
   },
   {
    "duration": 25,
    "start_time": "2022-02-24T11:41:06.466Z"
   },
   {
    "duration": 25,
    "start_time": "2022-02-24T11:42:12.153Z"
   },
   {
    "duration": 25,
    "start_time": "2022-02-24T11:42:21.721Z"
   },
   {
    "duration": 419,
    "start_time": "2022-02-24T12:13:27.867Z"
   },
   {
    "duration": 525,
    "start_time": "2022-02-24T12:14:25.636Z"
   },
   {
    "duration": 289,
    "start_time": "2022-02-24T14:59:41.511Z"
   },
   {
    "duration": 1255,
    "start_time": "2022-02-24T14:59:58.916Z"
   },
   {
    "duration": 254,
    "start_time": "2022-02-24T15:00:00.174Z"
   },
   {
    "duration": 288,
    "start_time": "2022-02-24T15:00:00.434Z"
   },
   {
    "duration": 40,
    "start_time": "2022-02-24T15:00:00.724Z"
   },
   {
    "duration": 42,
    "start_time": "2022-02-24T15:00:00.766Z"
   },
   {
    "duration": 145,
    "start_time": "2022-02-24T15:00:00.810Z"
   },
   {
    "duration": 113,
    "start_time": "2022-02-24T15:00:00.959Z"
   },
   {
    "duration": 39,
    "start_time": "2022-02-24T15:00:01.074Z"
   },
   {
    "duration": 121,
    "start_time": "2022-02-24T15:00:01.116Z"
   },
   {
    "duration": 83,
    "start_time": "2022-02-24T15:00:01.240Z"
   },
   {
    "duration": 79,
    "start_time": "2022-02-24T15:00:01.325Z"
   },
   {
    "duration": 55,
    "start_time": "2022-02-24T15:00:01.407Z"
   },
   {
    "duration": 61,
    "start_time": "2022-02-24T15:00:01.465Z"
   },
   {
    "duration": 93,
    "start_time": "2022-02-24T15:00:01.528Z"
   },
   {
    "duration": 46,
    "start_time": "2022-02-24T15:00:01.624Z"
   },
   {
    "duration": 10,
    "start_time": "2022-02-24T15:04:05.829Z"
   },
   {
    "duration": 35,
    "start_time": "2022-02-24T15:04:45.550Z"
   },
   {
    "duration": 147,
    "start_time": "2022-02-24T15:18:06.248Z"
   },
   {
    "duration": 172,
    "start_time": "2022-02-24T15:18:25.488Z"
   },
   {
    "duration": 163,
    "start_time": "2022-02-24T15:19:15.017Z"
   },
   {
    "duration": 7,
    "start_time": "2022-02-24T15:21:06.979Z"
   },
   {
    "duration": 707,
    "start_time": "2022-02-24T15:22:00.557Z"
   },
   {
    "duration": 155,
    "start_time": "2022-02-24T15:22:33.826Z"
   },
   {
    "duration": 9,
    "start_time": "2022-02-24T15:22:38.113Z"
   },
   {
    "duration": 486,
    "start_time": "2022-02-24T15:25:06.854Z"
   },
   {
    "duration": 154,
    "start_time": "2022-02-24T15:25:36.477Z"
   },
   {
    "duration": 161,
    "start_time": "2022-02-24T15:25:47.069Z"
   },
   {
    "duration": 114,
    "start_time": "2022-02-24T15:27:22.347Z"
   },
   {
    "duration": 158,
    "start_time": "2022-02-24T15:29:27.368Z"
   },
   {
    "duration": 1022,
    "start_time": "2022-02-24T15:33:24.377Z"
   },
   {
    "duration": 97,
    "start_time": "2022-02-24T15:35:27.400Z"
   },
   {
    "duration": 116,
    "start_time": "2022-02-24T15:35:41.998Z"
   },
   {
    "duration": 149,
    "start_time": "2022-02-24T15:35:52.926Z"
   },
   {
    "duration": 153,
    "start_time": "2022-02-24T15:36:08.901Z"
   },
   {
    "duration": 155,
    "start_time": "2022-02-24T15:36:21.260Z"
   },
   {
    "duration": 124,
    "start_time": "2022-02-24T15:36:28.467Z"
   },
   {
    "duration": 60,
    "start_time": "2022-02-24T15:36:41.804Z"
   },
   {
    "duration": 56,
    "start_time": "2022-02-24T15:40:18.791Z"
   },
   {
    "duration": 150,
    "start_time": "2022-02-24T15:42:10.572Z"
   },
   {
    "duration": 7,
    "start_time": "2022-02-24T15:45:38.300Z"
   },
   {
    "duration": 61,
    "start_time": "2022-02-24T15:45:58.326Z"
   },
   {
    "duration": 683,
    "start_time": "2022-02-26T19:31:21.958Z"
   },
   {
    "duration": 124,
    "start_time": "2022-02-26T19:31:22.642Z"
   },
   {
    "duration": 90,
    "start_time": "2022-02-26T19:31:22.768Z"
   },
   {
    "duration": 22,
    "start_time": "2022-02-26T19:31:22.860Z"
   },
   {
    "duration": 34,
    "start_time": "2022-02-26T19:31:22.883Z"
   },
   {
    "duration": 91,
    "start_time": "2022-02-26T19:31:22.918Z"
   },
   {
    "duration": 66,
    "start_time": "2022-02-26T19:31:23.011Z"
   },
   {
    "duration": 32,
    "start_time": "2022-02-26T19:31:23.078Z"
   },
   {
    "duration": 60,
    "start_time": "2022-02-26T19:31:23.112Z"
   },
   {
    "duration": 53,
    "start_time": "2022-02-26T19:31:23.174Z"
   },
   {
    "duration": 42,
    "start_time": "2022-02-26T19:31:23.229Z"
   },
   {
    "duration": 47,
    "start_time": "2022-02-26T19:31:23.272Z"
   },
   {
    "duration": 18,
    "start_time": "2022-02-26T19:31:23.320Z"
   },
   {
    "duration": 21,
    "start_time": "2022-02-26T19:31:23.340Z"
   },
   {
    "duration": 51,
    "start_time": "2022-02-26T19:31:23.363Z"
   },
   {
    "duration": 20,
    "start_time": "2022-02-26T19:31:23.415Z"
   },
   {
    "duration": 87,
    "start_time": "2022-02-26T19:31:23.436Z"
   },
   {
    "duration": 62,
    "start_time": "2022-02-26T19:31:23.525Z"
   },
   {
    "duration": 89,
    "start_time": "2022-02-26T19:31:23.588Z"
   },
   {
    "duration": 43,
    "start_time": "2022-02-26T19:31:23.678Z"
   },
   {
    "duration": 30,
    "start_time": "2022-02-26T19:31:23.723Z"
   },
   {
    "duration": 5,
    "start_time": "2022-02-26T20:09:40.921Z"
   },
   {
    "duration": 6,
    "start_time": "2022-02-26T20:10:16.480Z"
   },
   {
    "duration": 8,
    "start_time": "2022-02-26T20:10:51.071Z"
   },
   {
    "duration": 8,
    "start_time": "2022-02-26T20:12:00.909Z"
   },
   {
    "duration": 736,
    "start_time": "2022-02-27T16:30:57.377Z"
   },
   {
    "duration": 125,
    "start_time": "2022-02-27T16:30:58.115Z"
   },
   {
    "duration": 87,
    "start_time": "2022-02-27T16:30:58.241Z"
   },
   {
    "duration": 22,
    "start_time": "2022-02-27T16:30:58.329Z"
   },
   {
    "duration": 46,
    "start_time": "2022-02-27T16:30:58.352Z"
   },
   {
    "duration": 85,
    "start_time": "2022-02-27T16:30:58.400Z"
   },
   {
    "duration": 66,
    "start_time": "2022-02-27T16:30:58.486Z"
   },
   {
    "duration": 14,
    "start_time": "2022-02-27T16:30:58.554Z"
   },
   {
    "duration": 74,
    "start_time": "2022-02-27T16:30:58.570Z"
   },
   {
    "duration": 36,
    "start_time": "2022-02-27T16:30:58.646Z"
   },
   {
    "duration": 55,
    "start_time": "2022-02-27T16:30:58.683Z"
   },
   {
    "duration": 33,
    "start_time": "2022-02-27T16:30:58.740Z"
   },
   {
    "duration": 34,
    "start_time": "2022-02-27T16:30:58.775Z"
   },
   {
    "duration": 22,
    "start_time": "2022-02-27T16:30:58.810Z"
   },
   {
    "duration": 23,
    "start_time": "2022-02-27T16:30:58.833Z"
   },
   {
    "duration": 20,
    "start_time": "2022-02-27T16:30:58.858Z"
   },
   {
    "duration": 79,
    "start_time": "2022-02-27T16:30:58.904Z"
   },
   {
    "duration": 71,
    "start_time": "2022-02-27T16:30:58.984Z"
   },
   {
    "duration": 86,
    "start_time": "2022-02-27T16:30:59.057Z"
   },
   {
    "duration": 27,
    "start_time": "2022-02-27T16:30:59.144Z"
   },
   {
    "duration": 42,
    "start_time": "2022-02-27T16:30:59.172Z"
   },
   {
    "duration": 7,
    "start_time": "2022-02-27T16:30:59.215Z"
   },
   {
    "duration": 8,
    "start_time": "2022-02-27T16:49:58.675Z"
   },
   {
    "duration": 391,
    "start_time": "2022-02-27T16:53:48.253Z"
   },
   {
    "duration": 296,
    "start_time": "2022-02-27T16:54:01.767Z"
   },
   {
    "duration": 28,
    "start_time": "2022-02-27T16:56:04.365Z"
   },
   {
    "duration": 6,
    "start_time": "2022-02-27T16:57:42.031Z"
   },
   {
    "duration": 21,
    "start_time": "2022-02-27T17:04:06.525Z"
   },
   {
    "duration": 23,
    "start_time": "2022-02-27T17:04:28.212Z"
   },
   {
    "duration": 22,
    "start_time": "2022-02-27T17:08:46.239Z"
   },
   {
    "duration": 22,
    "start_time": "2022-02-27T17:09:51.500Z"
   },
   {
    "duration": 21,
    "start_time": "2022-02-27T17:10:07.633Z"
   },
   {
    "duration": 693,
    "start_time": "2022-02-27T17:10:27.669Z"
   },
   {
    "duration": 125,
    "start_time": "2022-02-27T17:10:28.364Z"
   },
   {
    "duration": 87,
    "start_time": "2022-02-27T17:10:28.491Z"
   },
   {
    "duration": 22,
    "start_time": "2022-02-27T17:10:28.579Z"
   },
   {
    "duration": 35,
    "start_time": "2022-02-27T17:10:28.602Z"
   },
   {
    "duration": 86,
    "start_time": "2022-02-27T17:10:28.639Z"
   },
   {
    "duration": 79,
    "start_time": "2022-02-27T17:10:28.727Z"
   },
   {
    "duration": 15,
    "start_time": "2022-02-27T17:10:28.808Z"
   },
   {
    "duration": 60,
    "start_time": "2022-02-27T17:10:28.825Z"
   },
   {
    "duration": 54,
    "start_time": "2022-02-27T17:10:28.886Z"
   },
   {
    "duration": 40,
    "start_time": "2022-02-27T17:10:28.942Z"
   },
   {
    "duration": 50,
    "start_time": "2022-02-27T17:10:28.984Z"
   },
   {
    "duration": 18,
    "start_time": "2022-02-27T17:10:29.035Z"
   },
   {
    "duration": 22,
    "start_time": "2022-02-27T17:10:29.054Z"
   },
   {
    "duration": 48,
    "start_time": "2022-02-27T17:10:29.077Z"
   },
   {
    "duration": 19,
    "start_time": "2022-02-27T17:10:29.126Z"
   },
   {
    "duration": 87,
    "start_time": "2022-02-27T17:10:29.147Z"
   },
   {
    "duration": 73,
    "start_time": "2022-02-27T17:10:29.235Z"
   },
   {
    "duration": 83,
    "start_time": "2022-02-27T17:10:29.309Z"
   },
   {
    "duration": 36,
    "start_time": "2022-02-27T17:10:29.394Z"
   },
   {
    "duration": 29,
    "start_time": "2022-02-27T17:10:29.431Z"
   },
   {
    "duration": 7,
    "start_time": "2022-02-27T17:10:29.462Z"
   },
   {
    "duration": 47,
    "start_time": "2022-02-27T17:10:29.471Z"
   },
   {
    "duration": 4,
    "start_time": "2022-02-27T17:10:29.519Z"
   },
   {
    "duration": 342,
    "start_time": "2022-02-27T17:12:48.753Z"
   },
   {
    "duration": 301,
    "start_time": "2022-02-27T17:14:23.229Z"
   },
   {
    "duration": 26,
    "start_time": "2022-02-27T17:14:35.641Z"
   },
   {
    "duration": 25,
    "start_time": "2022-02-27T17:15:26.834Z"
   },
   {
    "duration": 290,
    "start_time": "2022-02-27T17:16:05.141Z"
   },
   {
    "duration": 279,
    "start_time": "2022-02-27T17:18:00.087Z"
   },
   {
    "duration": 274,
    "start_time": "2022-02-27T17:18:23.303Z"
   },
   {
    "duration": 358,
    "start_time": "2022-02-27T17:19:49.798Z"
   },
   {
    "duration": 38,
    "start_time": "2022-02-27T17:20:20.493Z"
   },
   {
    "duration": 22,
    "start_time": "2022-02-27T17:20:29.504Z"
   },
   {
    "duration": 22,
    "start_time": "2022-02-27T17:22:55.206Z"
   },
   {
    "duration": 476,
    "start_time": "2022-02-27T17:50:18.880Z"
   },
   {
    "duration": 571,
    "start_time": "2022-02-27T17:50:39.048Z"
   },
   {
    "duration": 411,
    "start_time": "2022-02-27T17:54:48.036Z"
   },
   {
    "duration": 485,
    "start_time": "2022-02-27T18:27:55.501Z"
   },
   {
    "duration": 413,
    "start_time": "2022-02-27T18:28:46.355Z"
   },
   {
    "duration": 426,
    "start_time": "2022-02-27T18:32:57.919Z"
   },
   {
    "duration": 436,
    "start_time": "2022-02-27T18:33:39.740Z"
   },
   {
    "duration": 268,
    "start_time": "2022-02-27T18:34:31.437Z"
   },
   {
    "duration": 173,
    "start_time": "2022-02-27T18:34:47.993Z"
   },
   {
    "duration": 418,
    "start_time": "2022-02-27T18:35:16.731Z"
   },
   {
    "duration": 225,
    "start_time": "2022-02-27T18:35:27.572Z"
   },
   {
    "duration": 161,
    "start_time": "2022-02-27T18:35:38.734Z"
   },
   {
    "duration": 162,
    "start_time": "2022-02-27T18:39:45.996Z"
   },
   {
    "duration": 181,
    "start_time": "2022-02-27T18:41:20.212Z"
   },
   {
    "duration": 183,
    "start_time": "2022-02-27T18:41:38.080Z"
   },
   {
    "duration": 103,
    "start_time": "2022-02-27T18:42:19.056Z"
   },
   {
    "duration": 448,
    "start_time": "2022-02-27T18:42:37.200Z"
   },
   {
    "duration": 453,
    "start_time": "2022-02-27T18:43:35.517Z"
   },
   {
    "duration": 467,
    "start_time": "2022-02-27T18:48:33.479Z"
   },
   {
    "duration": 459,
    "start_time": "2022-02-27T18:51:20.417Z"
   },
   {
    "duration": 482,
    "start_time": "2022-02-27T18:53:28.552Z"
   },
   {
    "duration": 660,
    "start_time": "2022-02-27T18:54:55.548Z"
   },
   {
    "duration": 124,
    "start_time": "2022-02-27T18:54:56.210Z"
   },
   {
    "duration": 87,
    "start_time": "2022-02-27T18:54:56.335Z"
   },
   {
    "duration": 22,
    "start_time": "2022-02-27T18:54:56.423Z"
   },
   {
    "duration": 34,
    "start_time": "2022-02-27T18:54:56.446Z"
   },
   {
    "duration": 84,
    "start_time": "2022-02-27T18:54:56.482Z"
   },
   {
    "duration": 70,
    "start_time": "2022-02-27T18:54:56.568Z"
   },
   {
    "duration": 14,
    "start_time": "2022-02-27T18:54:56.640Z"
   },
   {
    "duration": 74,
    "start_time": "2022-02-27T18:54:56.656Z"
   },
   {
    "duration": 38,
    "start_time": "2022-02-27T18:54:56.732Z"
   },
   {
    "duration": 58,
    "start_time": "2022-02-27T18:54:56.771Z"
   },
   {
    "duration": 35,
    "start_time": "2022-02-27T18:54:56.831Z"
   },
   {
    "duration": 18,
    "start_time": "2022-02-27T18:54:56.867Z"
   },
   {
    "duration": 39,
    "start_time": "2022-02-27T18:54:56.886Z"
   },
   {
    "duration": 24,
    "start_time": "2022-02-27T18:54:56.926Z"
   },
   {
    "duration": 20,
    "start_time": "2022-02-27T18:54:56.951Z"
   },
   {
    "duration": 103,
    "start_time": "2022-02-27T18:54:56.972Z"
   },
   {
    "duration": 72,
    "start_time": "2022-02-27T18:54:57.076Z"
   },
   {
    "duration": 86,
    "start_time": "2022-02-27T18:54:57.150Z"
   },
   {
    "duration": 28,
    "start_time": "2022-02-27T18:54:57.237Z"
   },
   {
    "duration": 46,
    "start_time": "2022-02-27T18:54:57.266Z"
   },
   {
    "duration": 6,
    "start_time": "2022-02-27T18:54:57.313Z"
   },
   {
    "duration": 22,
    "start_time": "2022-02-27T18:54:57.321Z"
   },
   {
    "duration": 21,
    "start_time": "2022-02-27T18:54:57.344Z"
   },
   {
    "duration": 279,
    "start_time": "2022-02-27T18:54:57.366Z"
   },
   {
    "duration": 763,
    "start_time": "2022-02-27T19:01:09.171Z"
   },
   {
    "duration": 129,
    "start_time": "2022-02-27T19:01:09.936Z"
   },
   {
    "duration": 90,
    "start_time": "2022-02-27T19:01:10.067Z"
   },
   {
    "duration": 23,
    "start_time": "2022-02-27T19:01:10.159Z"
   },
   {
    "duration": 36,
    "start_time": "2022-02-27T19:01:10.183Z"
   },
   {
    "duration": 91,
    "start_time": "2022-02-27T19:01:10.220Z"
   },
   {
    "duration": 67,
    "start_time": "2022-02-27T19:01:10.313Z"
   },
   {
    "duration": 29,
    "start_time": "2022-02-27T19:01:10.383Z"
   },
   {
    "duration": 59,
    "start_time": "2022-02-27T19:01:10.414Z"
   },
   {
    "duration": 56,
    "start_time": "2022-02-27T19:01:10.474Z"
   },
   {
    "duration": 42,
    "start_time": "2022-02-27T19:01:10.532Z"
   },
   {
    "duration": 49,
    "start_time": "2022-02-27T19:01:10.576Z"
   },
   {
    "duration": 20,
    "start_time": "2022-02-27T19:01:10.626Z"
   },
   {
    "duration": 23,
    "start_time": "2022-02-27T19:01:10.648Z"
   },
   {
    "duration": 48,
    "start_time": "2022-02-27T19:01:10.672Z"
   },
   {
    "duration": 19,
    "start_time": "2022-02-27T19:01:10.722Z"
   },
   {
    "duration": 91,
    "start_time": "2022-02-27T19:01:10.743Z"
   },
   {
    "duration": 69,
    "start_time": "2022-02-27T19:01:10.836Z"
   },
   {
    "duration": 82,
    "start_time": "2022-02-27T19:01:10.906Z"
   },
   {
    "duration": 39,
    "start_time": "2022-02-27T19:01:10.989Z"
   },
   {
    "duration": 30,
    "start_time": "2022-02-27T19:01:11.030Z"
   },
   {
    "duration": 8,
    "start_time": "2022-02-27T19:01:11.061Z"
   },
   {
    "duration": 44,
    "start_time": "2022-02-27T19:01:11.071Z"
   },
   {
    "duration": 23,
    "start_time": "2022-02-27T19:01:11.117Z"
   },
   {
    "duration": 283,
    "start_time": "2022-02-27T19:01:11.142Z"
   },
   {
    "duration": 210,
    "start_time": "2022-02-27T19:03:22.788Z"
   },
   {
    "duration": 244,
    "start_time": "2022-02-27T19:05:08.621Z"
   },
   {
    "duration": 209,
    "start_time": "2022-02-27T19:07:06.660Z"
   },
   {
    "duration": 2,
    "start_time": "2022-02-27T19:09:28.499Z"
   },
   {
    "duration": 144,
    "start_time": "2022-02-27T19:09:31.053Z"
   },
   {
    "duration": 568,
    "start_time": "2022-02-27T19:10:28.350Z"
   },
   {
    "duration": 154,
    "start_time": "2022-02-27T19:10:28.920Z"
   },
   {
    "duration": 125,
    "start_time": "2022-02-27T19:10:29.076Z"
   },
   {
    "duration": 87,
    "start_time": "2022-02-27T19:10:29.202Z"
   },
   {
    "duration": 23,
    "start_time": "2022-02-27T19:10:29.290Z"
   },
   {
    "duration": 36,
    "start_time": "2022-02-27T19:10:29.314Z"
   },
   {
    "duration": 83,
    "start_time": "2022-02-27T19:10:29.351Z"
   },
   {
    "duration": 72,
    "start_time": "2022-02-27T19:10:29.437Z"
   },
   {
    "duration": 15,
    "start_time": "2022-02-27T19:10:29.511Z"
   },
   {
    "duration": 58,
    "start_time": "2022-02-27T19:10:29.527Z"
   },
   {
    "duration": 53,
    "start_time": "2022-02-27T19:10:29.587Z"
   },
   {
    "duration": 41,
    "start_time": "2022-02-27T19:10:29.642Z"
   },
   {
    "duration": 50,
    "start_time": "2022-02-27T19:10:29.684Z"
   },
   {
    "duration": 18,
    "start_time": "2022-02-27T19:10:29.735Z"
   },
   {
    "duration": 24,
    "start_time": "2022-02-27T19:10:29.754Z"
   },
   {
    "duration": 48,
    "start_time": "2022-02-27T19:10:29.779Z"
   },
   {
    "duration": 20,
    "start_time": "2022-02-27T19:10:29.828Z"
   },
   {
    "duration": 94,
    "start_time": "2022-02-27T19:10:29.850Z"
   },
   {
    "duration": 72,
    "start_time": "2022-02-27T19:10:29.945Z"
   },
   {
    "duration": 89,
    "start_time": "2022-02-27T19:10:30.019Z"
   },
   {
    "duration": 29,
    "start_time": "2022-02-27T19:10:30.110Z"
   },
   {
    "duration": 31,
    "start_time": "2022-02-27T19:10:30.141Z"
   },
   {
    "duration": 30,
    "start_time": "2022-02-27T19:10:30.175Z"
   },
   {
    "duration": 22,
    "start_time": "2022-02-27T19:10:30.207Z"
   },
   {
    "duration": 22,
    "start_time": "2022-02-27T19:10:30.231Z"
   },
   {
    "duration": 225,
    "start_time": "2022-02-27T19:10:30.254Z"
   },
   {
    "duration": 207,
    "start_time": "2022-02-27T19:10:30.481Z"
   },
   {
    "duration": 255,
    "start_time": "2022-02-27T19:10:30.690Z"
   },
   {
    "duration": 314,
    "start_time": "2022-02-27T19:10:30.946Z"
   },
   {
    "duration": 978,
    "start_time": "2022-02-27T19:59:32.498Z"
   },
   {
    "duration": 174,
    "start_time": "2022-02-27T19:59:33.478Z"
   },
   {
    "duration": 130,
    "start_time": "2022-02-27T19:59:33.654Z"
   },
   {
    "duration": 92,
    "start_time": "2022-02-27T19:59:33.786Z"
   },
   {
    "duration": 22,
    "start_time": "2022-02-27T19:59:33.879Z"
   },
   {
    "duration": 35,
    "start_time": "2022-02-27T19:59:33.903Z"
   },
   {
    "duration": 85,
    "start_time": "2022-02-27T19:59:33.940Z"
   },
   {
    "duration": 64,
    "start_time": "2022-02-27T19:59:34.027Z"
   },
   {
    "duration": 24,
    "start_time": "2022-02-27T19:59:34.093Z"
   },
   {
    "duration": 60,
    "start_time": "2022-02-27T19:59:34.118Z"
   },
   {
    "duration": 58,
    "start_time": "2022-02-27T19:59:34.180Z"
   },
   {
    "duration": 43,
    "start_time": "2022-02-27T19:59:34.240Z"
   },
   {
    "duration": 61,
    "start_time": "2022-02-27T19:59:34.284Z"
   },
   {
    "duration": 27,
    "start_time": "2022-02-27T19:59:34.347Z"
   },
   {
    "duration": 48,
    "start_time": "2022-02-27T19:59:34.376Z"
   },
   {
    "duration": 38,
    "start_time": "2022-02-27T19:59:34.426Z"
   },
   {
    "duration": 42,
    "start_time": "2022-02-27T19:59:34.466Z"
   },
   {
    "duration": 82,
    "start_time": "2022-02-27T19:59:34.510Z"
   },
   {
    "duration": 75,
    "start_time": "2022-02-27T19:59:34.593Z"
   },
   {
    "duration": 126,
    "start_time": "2022-02-27T19:59:34.670Z"
   },
   {
    "duration": 51,
    "start_time": "2022-02-27T19:59:34.797Z"
   },
   {
    "duration": 33,
    "start_time": "2022-02-27T19:59:34.850Z"
   },
   {
    "duration": 24,
    "start_time": "2022-02-27T19:59:34.886Z"
   },
   {
    "duration": 24,
    "start_time": "2022-02-27T19:59:34.912Z"
   },
   {
    "duration": 23,
    "start_time": "2022-02-27T19:59:34.938Z"
   },
   {
    "duration": 238,
    "start_time": "2022-02-27T19:59:34.963Z"
   },
   {
    "duration": 212,
    "start_time": "2022-02-27T19:59:35.205Z"
   },
   {
    "duration": 220,
    "start_time": "2022-02-27T19:59:35.418Z"
   },
   {
    "duration": 225,
    "start_time": "2022-02-27T19:59:35.640Z"
   },
   {
    "duration": 5,
    "start_time": "2022-02-27T20:15:24.406Z"
   },
   {
    "duration": 5,
    "start_time": "2022-02-27T20:22:33.185Z"
   },
   {
    "duration": 5,
    "start_time": "2022-02-27T20:28:51.872Z"
   },
   {
    "duration": 10,
    "start_time": "2022-02-27T20:43:35.075Z"
   },
   {
    "duration": 31,
    "start_time": "2022-02-27T20:43:47.096Z"
   },
   {
    "duration": 31,
    "start_time": "2022-02-27T20:44:09.230Z"
   },
   {
    "duration": 9,
    "start_time": "2022-02-27T20:44:38.206Z"
   },
   {
    "duration": 365,
    "start_time": "2022-02-27T20:50:20.662Z"
   },
   {
    "duration": 925,
    "start_time": "2022-02-27T20:51:46.633Z"
   },
   {
    "duration": 159,
    "start_time": "2022-02-27T20:51:47.560Z"
   },
   {
    "duration": 131,
    "start_time": "2022-02-27T20:51:47.721Z"
   },
   {
    "duration": 92,
    "start_time": "2022-02-27T20:51:47.854Z"
   },
   {
    "duration": 23,
    "start_time": "2022-02-27T20:51:47.948Z"
   },
   {
    "duration": 35,
    "start_time": "2022-02-27T20:51:47.972Z"
   },
   {
    "duration": 87,
    "start_time": "2022-02-27T20:51:48.009Z"
   },
   {
    "duration": 68,
    "start_time": "2022-02-27T20:51:48.106Z"
   },
   {
    "duration": 33,
    "start_time": "2022-02-27T20:51:48.176Z"
   },
   {
    "duration": 59,
    "start_time": "2022-02-27T20:51:48.211Z"
   },
   {
    "duration": 55,
    "start_time": "2022-02-27T20:51:48.272Z"
   },
   {
    "duration": 46,
    "start_time": "2022-02-27T20:51:48.329Z"
   },
   {
    "duration": 56,
    "start_time": "2022-02-27T20:51:48.377Z"
   },
   {
    "duration": 20,
    "start_time": "2022-02-27T20:51:48.434Z"
   },
   {
    "duration": 23,
    "start_time": "2022-02-27T20:51:48.456Z"
   },
   {
    "duration": 24,
    "start_time": "2022-02-27T20:51:48.505Z"
   },
   {
    "duration": 20,
    "start_time": "2022-02-27T20:51:48.530Z"
   },
   {
    "duration": 93,
    "start_time": "2022-02-27T20:51:48.551Z"
   },
   {
    "duration": 70,
    "start_time": "2022-02-27T20:51:48.646Z"
   },
   {
    "duration": 90,
    "start_time": "2022-02-27T20:51:48.717Z"
   },
   {
    "duration": 29,
    "start_time": "2022-02-27T20:51:48.809Z"
   },
   {
    "duration": 30,
    "start_time": "2022-02-27T20:51:48.840Z"
   },
   {
    "duration": 7,
    "start_time": "2022-02-27T20:51:48.874Z"
   },
   {
    "duration": 23,
    "start_time": "2022-02-27T20:51:48.906Z"
   },
   {
    "duration": 23,
    "start_time": "2022-02-27T20:51:48.931Z"
   },
   {
    "duration": 227,
    "start_time": "2022-02-27T20:51:48.955Z"
   },
   {
    "duration": 210,
    "start_time": "2022-02-27T20:51:49.183Z"
   },
   {
    "duration": 218,
    "start_time": "2022-02-27T20:51:49.395Z"
   },
   {
    "duration": 210,
    "start_time": "2022-02-27T20:51:49.614Z"
   },
   {
    "duration": 4,
    "start_time": "2022-02-27T20:51:49.825Z"
   },
   {
    "duration": 350,
    "start_time": "2022-02-27T20:51:49.831Z"
   },
   {
    "duration": 936,
    "start_time": "2022-02-27T20:52:59.058Z"
   },
   {
    "duration": 281,
    "start_time": "2022-02-27T20:54:19.619Z"
   },
   {
    "duration": 8,
    "start_time": "2022-02-27T20:58:46.014Z"
   },
   {
    "duration": 1006,
    "start_time": "2022-02-27T21:14:45.864Z"
   },
   {
    "duration": 169,
    "start_time": "2022-02-27T21:14:46.871Z"
   },
   {
    "duration": 125,
    "start_time": "2022-02-27T21:14:47.043Z"
   },
   {
    "duration": 89,
    "start_time": "2022-02-27T21:14:47.169Z"
   },
   {
    "duration": 23,
    "start_time": "2022-02-27T21:14:47.259Z"
   },
   {
    "duration": 37,
    "start_time": "2022-02-27T21:14:47.283Z"
   },
   {
    "duration": 85,
    "start_time": "2022-02-27T21:14:47.322Z"
   },
   {
    "duration": 62,
    "start_time": "2022-02-27T21:14:47.409Z"
   },
   {
    "duration": 15,
    "start_time": "2022-02-27T21:14:47.473Z"
   },
   {
    "duration": 67,
    "start_time": "2022-02-27T21:14:47.489Z"
   },
   {
    "duration": 39,
    "start_time": "2022-02-27T21:14:47.557Z"
   },
   {
    "duration": 46,
    "start_time": "2022-02-27T21:14:47.598Z"
   },
   {
    "duration": 33,
    "start_time": "2022-02-27T21:14:47.645Z"
   },
   {
    "duration": 19,
    "start_time": "2022-02-27T21:14:47.679Z"
   },
   {
    "duration": 26,
    "start_time": "2022-02-27T21:14:47.699Z"
   },
   {
    "duration": 23,
    "start_time": "2022-02-27T21:14:47.727Z"
   },
   {
    "duration": 18,
    "start_time": "2022-02-27T21:14:47.752Z"
   },
   {
    "duration": 89,
    "start_time": "2022-02-27T21:14:47.772Z"
   },
   {
    "duration": 106,
    "start_time": "2022-02-27T21:14:47.906Z"
   },
   {
    "duration": 101,
    "start_time": "2022-02-27T21:14:48.013Z"
   },
   {
    "duration": 33,
    "start_time": "2022-02-27T21:14:48.115Z"
   },
   {
    "duration": 83,
    "start_time": "2022-02-27T21:14:48.150Z"
   },
   {
    "duration": 8,
    "start_time": "2022-02-27T21:14:48.234Z"
   },
   {
    "duration": 76,
    "start_time": "2022-02-27T21:14:48.243Z"
   },
   {
    "duration": 22,
    "start_time": "2022-02-27T21:14:48.320Z"
   },
   {
    "duration": 217,
    "start_time": "2022-02-27T21:14:48.343Z"
   },
   {
    "duration": 203,
    "start_time": "2022-02-27T21:14:48.561Z"
   },
   {
    "duration": 215,
    "start_time": "2022-02-27T21:14:48.766Z"
   },
   {
    "duration": 210,
    "start_time": "2022-02-27T21:14:48.983Z"
   },
   {
    "duration": 10,
    "start_time": "2022-02-27T21:14:49.194Z"
   },
   {
    "duration": 9,
    "start_time": "2022-02-27T21:14:49.206Z"
   },
   {
    "duration": 290,
    "start_time": "2022-03-07T19:30:54.417Z"
   },
   {
    "duration": 1522,
    "start_time": "2022-03-07T19:31:01.766Z"
   },
   {
    "duration": 340,
    "start_time": "2022-03-07T19:31:03.290Z"
   },
   {
    "duration": 195,
    "start_time": "2022-03-07T19:31:03.633Z"
   },
   {
    "duration": 138,
    "start_time": "2022-03-07T19:31:03.832Z"
   },
   {
    "duration": 28,
    "start_time": "2022-03-07T19:31:03.981Z"
   },
   {
    "duration": 37,
    "start_time": "2022-03-07T19:31:04.011Z"
   },
   {
    "duration": 157,
    "start_time": "2022-03-07T19:31:04.050Z"
   },
   {
    "duration": 107,
    "start_time": "2022-03-07T19:31:04.209Z"
   },
   {
    "duration": 24,
    "start_time": "2022-03-07T19:31:04.320Z"
   },
   {
    "duration": 124,
    "start_time": "2022-03-07T19:31:04.347Z"
   },
   {
    "duration": 71,
    "start_time": "2022-03-07T19:31:04.482Z"
   },
   {
    "duration": 99,
    "start_time": "2022-03-07T19:31:04.556Z"
   },
   {
    "duration": 74,
    "start_time": "2022-03-07T19:31:04.658Z"
   },
   {
    "duration": 55,
    "start_time": "2022-03-07T19:31:04.735Z"
   },
   {
    "duration": 40,
    "start_time": "2022-03-07T19:31:04.792Z"
   },
   {
    "duration": 80,
    "start_time": "2022-03-07T19:31:04.834Z"
   },
   {
    "duration": 41,
    "start_time": "2022-03-07T19:31:04.916Z"
   },
   {
    "duration": 183,
    "start_time": "2022-03-07T19:31:04.959Z"
   },
   {
    "duration": 134,
    "start_time": "2022-03-07T19:31:05.144Z"
   },
   {
    "duration": 173,
    "start_time": "2022-03-07T19:31:05.281Z"
   },
   {
    "duration": 68,
    "start_time": "2022-03-07T19:31:05.456Z"
   },
   {
    "duration": 75,
    "start_time": "2022-03-07T19:31:05.527Z"
   },
   {
    "duration": 14,
    "start_time": "2022-03-07T19:31:05.604Z"
   },
   {
    "duration": 64,
    "start_time": "2022-03-07T19:31:05.620Z"
   },
   {
    "duration": 40,
    "start_time": "2022-03-07T19:31:05.687Z"
   },
   {
    "duration": 419,
    "start_time": "2022-03-07T19:31:05.729Z"
   },
   {
    "duration": 594,
    "start_time": "2022-03-07T19:31:06.153Z"
   },
   {
    "duration": 394,
    "start_time": "2022-03-07T19:31:06.750Z"
   },
   {
    "duration": 389,
    "start_time": "2022-03-07T19:31:07.147Z"
   },
   {
    "duration": 378,
    "start_time": "2022-03-07T19:31:07.538Z"
   },
   {
    "duration": 8,
    "start_time": "2022-03-07T19:31:07.918Z"
   },
   {
    "duration": 12,
    "start_time": "2022-03-07T19:31:07.928Z"
   },
   {
    "duration": 1270,
    "start_time": "2022-03-07T19:31:17.569Z"
   },
   {
    "duration": 247,
    "start_time": "2022-03-07T19:31:18.842Z"
   },
   {
    "duration": 190,
    "start_time": "2022-03-07T19:31:19.092Z"
   },
   {
    "duration": 137,
    "start_time": "2022-03-07T19:31:19.285Z"
   },
   {
    "duration": 25,
    "start_time": "2022-03-07T19:31:19.424Z"
   },
   {
    "duration": 48,
    "start_time": "2022-03-07T19:31:19.451Z"
   },
   {
    "duration": 134,
    "start_time": "2022-03-07T19:31:19.501Z"
   },
   {
    "duration": 102,
    "start_time": "2022-03-07T19:31:19.638Z"
   },
   {
    "duration": 40,
    "start_time": "2022-03-07T19:31:19.744Z"
   },
   {
    "duration": 107,
    "start_time": "2022-03-07T19:31:19.787Z"
   },
   {
    "duration": 61,
    "start_time": "2022-03-07T19:31:19.896Z"
   },
   {
    "duration": 70,
    "start_time": "2022-03-07T19:31:19.983Z"
   },
   {
    "duration": 74,
    "start_time": "2022-03-07T19:31:20.055Z"
   },
   {
    "duration": 54,
    "start_time": "2022-03-07T19:31:20.132Z"
   },
   {
    "duration": 40,
    "start_time": "2022-03-07T19:31:20.188Z"
   },
   {
    "duration": 72,
    "start_time": "2022-03-07T19:31:20.231Z"
   },
   {
    "duration": 39,
    "start_time": "2022-03-07T19:31:20.305Z"
   },
   {
    "duration": 178,
    "start_time": "2022-03-07T19:31:20.348Z"
   },
   {
    "duration": 130,
    "start_time": "2022-03-07T19:31:20.529Z"
   },
   {
    "duration": 175,
    "start_time": "2022-03-07T19:31:20.662Z"
   },
   {
    "duration": 78,
    "start_time": "2022-03-07T19:31:20.840Z"
   },
   {
    "duration": 64,
    "start_time": "2022-03-07T19:31:20.920Z"
   },
   {
    "duration": 16,
    "start_time": "2022-03-07T19:31:20.987Z"
   },
   {
    "duration": 43,
    "start_time": "2022-03-07T19:31:21.005Z"
   },
   {
    "duration": 75,
    "start_time": "2022-03-07T19:31:21.050Z"
   },
   {
    "duration": 428,
    "start_time": "2022-03-07T19:31:21.127Z"
   },
   {
    "duration": 531,
    "start_time": "2022-03-07T19:31:21.559Z"
   },
   {
    "duration": 628,
    "start_time": "2022-03-07T19:31:22.093Z"
   },
   {
    "duration": 376,
    "start_time": "2022-03-07T19:31:22.723Z"
   },
   {
    "duration": 9,
    "start_time": "2022-03-07T19:31:23.101Z"
   },
   {
    "duration": 43,
    "start_time": "2022-03-07T19:31:23.112Z"
   },
   {
    "duration": 571,
    "start_time": "2022-03-07T19:31:24.422Z"
   },
   {
    "duration": 216,
    "start_time": "2022-03-08T10:35:18.362Z"
   },
   {
    "duration": 172,
    "start_time": "2022-03-08T10:36:54.184Z"
   },
   {
    "duration": 955,
    "start_time": "2022-03-08T10:36:59.071Z"
   },
   {
    "duration": 211,
    "start_time": "2022-03-08T10:37:01.371Z"
   },
   {
    "duration": 149,
    "start_time": "2022-03-08T10:37:09.976Z"
   },
   {
    "duration": 150,
    "start_time": "2022-03-08T10:37:22.753Z"
   },
   {
    "duration": 945,
    "start_time": "2022-03-08T10:37:39.778Z"
   },
   {
    "duration": 198,
    "start_time": "2022-03-08T10:37:40.724Z"
   },
   {
    "duration": 145,
    "start_time": "2022-03-08T10:37:40.924Z"
   },
   {
    "duration": 99,
    "start_time": "2022-03-08T10:37:41.070Z"
   },
   {
    "duration": 18,
    "start_time": "2022-03-08T10:37:41.171Z"
   },
   {
    "duration": 27,
    "start_time": "2022-03-08T10:37:41.191Z"
   },
   {
    "duration": 89,
    "start_time": "2022-03-08T10:37:41.219Z"
   },
   {
    "duration": 63,
    "start_time": "2022-03-08T10:37:41.310Z"
   },
   {
    "duration": 16,
    "start_time": "2022-03-08T10:37:41.375Z"
   },
   {
    "duration": 85,
    "start_time": "2022-03-08T10:37:41.392Z"
   },
   {
    "duration": 39,
    "start_time": "2022-03-08T10:37:41.478Z"
   },
   {
    "duration": 41,
    "start_time": "2022-03-08T10:37:41.533Z"
   },
   {
    "duration": 35,
    "start_time": "2022-03-08T10:37:41.576Z"
   },
   {
    "duration": 20,
    "start_time": "2022-03-08T10:37:41.632Z"
   },
   {
    "duration": 24,
    "start_time": "2022-03-08T10:37:41.654Z"
   },
   {
    "duration": 26,
    "start_time": "2022-03-08T10:37:41.679Z"
   },
   {
    "duration": 22,
    "start_time": "2022-03-08T10:37:41.732Z"
   },
   {
    "duration": 94,
    "start_time": "2022-03-08T10:37:41.756Z"
   },
   {
    "duration": 67,
    "start_time": "2022-03-08T10:37:41.851Z"
   },
   {
    "duration": 97,
    "start_time": "2022-03-08T10:37:41.920Z"
   },
   {
    "duration": 40,
    "start_time": "2022-03-08T10:37:42.019Z"
   },
   {
    "duration": 34,
    "start_time": "2022-03-08T10:37:42.060Z"
   },
   {
    "duration": 8,
    "start_time": "2022-03-08T10:37:42.096Z"
   },
   {
    "duration": 50,
    "start_time": "2022-03-08T10:37:42.105Z"
   },
   {
    "duration": 25,
    "start_time": "2022-03-08T10:37:42.156Z"
   },
   {
    "duration": 257,
    "start_time": "2022-03-08T10:37:42.183Z"
   },
   {
    "duration": 349,
    "start_time": "2022-03-08T10:37:42.441Z"
   },
   {
    "duration": 225,
    "start_time": "2022-03-08T10:37:42.792Z"
   },
   {
    "duration": 231,
    "start_time": "2022-03-08T10:37:43.018Z"
   },
   {
    "duration": 225,
    "start_time": "2022-03-08T10:37:43.250Z"
   },
   {
    "duration": 5,
    "start_time": "2022-03-08T10:37:43.476Z"
   },
   {
    "duration": 14,
    "start_time": "2022-03-08T10:37:43.482Z"
   },
   {
    "duration": 150,
    "start_time": "2022-03-08T10:38:08.754Z"
   },
   {
    "duration": 146,
    "start_time": "2022-03-08T10:38:12.702Z"
   },
   {
    "duration": 1029,
    "start_time": "2022-03-08T10:40:20.568Z"
   },
   {
    "duration": 175,
    "start_time": "2022-03-08T10:40:21.599Z"
   },
   {
    "duration": 178,
    "start_time": "2022-03-08T10:40:21.777Z"
   },
   {
    "duration": 105,
    "start_time": "2022-03-08T10:40:21.957Z"
   },
   {
    "duration": 21,
    "start_time": "2022-03-08T10:40:22.063Z"
   },
   {
    "duration": 25,
    "start_time": "2022-03-08T10:40:22.086Z"
   },
   {
    "duration": 104,
    "start_time": "2022-03-08T10:40:22.113Z"
   },
   {
    "duration": 84,
    "start_time": "2022-03-08T10:40:22.219Z"
   },
   {
    "duration": 32,
    "start_time": "2022-03-08T10:40:22.304Z"
   },
   {
    "duration": 67,
    "start_time": "2022-03-08T10:40:22.337Z"
   },
   {
    "duration": 68,
    "start_time": "2022-03-08T10:40:22.405Z"
   },
   {
    "duration": 47,
    "start_time": "2022-03-08T10:40:22.474Z"
   },
   {
    "duration": 38,
    "start_time": "2022-03-08T10:40:22.540Z"
   },
   {
    "duration": 23,
    "start_time": "2022-03-08T10:40:22.580Z"
   },
   {
    "duration": 53,
    "start_time": "2022-03-08T10:40:22.605Z"
   },
   {
    "duration": 27,
    "start_time": "2022-03-08T10:40:22.660Z"
   },
   {
    "duration": 45,
    "start_time": "2022-03-08T10:40:22.689Z"
   },
   {
    "duration": 86,
    "start_time": "2022-03-08T10:40:22.736Z"
   },
   {
    "duration": 79,
    "start_time": "2022-03-08T10:40:22.823Z"
   },
   {
    "duration": 108,
    "start_time": "2022-03-08T10:40:22.904Z"
   },
   {
    "duration": 45,
    "start_time": "2022-03-08T10:40:23.013Z"
   },
   {
    "duration": 34,
    "start_time": "2022-03-08T10:40:23.059Z"
   },
   {
    "duration": 8,
    "start_time": "2022-03-08T10:40:23.095Z"
   },
   {
    "duration": 50,
    "start_time": "2022-03-08T10:40:23.105Z"
   },
   {
    "duration": 23,
    "start_time": "2022-03-08T10:40:23.157Z"
   },
   {
    "duration": 247,
    "start_time": "2022-03-08T10:40:23.181Z"
   },
   {
    "duration": 351,
    "start_time": "2022-03-08T10:40:23.429Z"
   },
   {
    "duration": 229,
    "start_time": "2022-03-08T10:40:23.781Z"
   },
   {
    "duration": 238,
    "start_time": "2022-03-08T10:40:24.012Z"
   },
   {
    "duration": 233,
    "start_time": "2022-03-08T10:40:24.252Z"
   },
   {
    "duration": 5,
    "start_time": "2022-03-08T10:40:24.486Z"
   },
   {
    "duration": 11,
    "start_time": "2022-03-08T10:40:24.493Z"
   },
   {
    "duration": 227,
    "start_time": "2022-03-08T20:45:07.805Z"
   },
   {
    "duration": 1098,
    "start_time": "2022-03-08T20:45:15.251Z"
   },
   {
    "duration": 179,
    "start_time": "2022-03-08T20:45:16.351Z"
   },
   {
    "duration": 162,
    "start_time": "2022-03-08T20:45:16.532Z"
   },
   {
    "duration": 111,
    "start_time": "2022-03-08T20:45:16.696Z"
   },
   {
    "duration": 20,
    "start_time": "2022-03-08T20:45:16.809Z"
   },
   {
    "duration": 33,
    "start_time": "2022-03-08T20:45:16.831Z"
   },
   {
    "duration": 112,
    "start_time": "2022-03-08T20:45:16.866Z"
   },
   {
    "duration": 89,
    "start_time": "2022-03-08T20:45:16.981Z"
   },
   {
    "duration": 17,
    "start_time": "2022-03-08T20:45:17.072Z"
   },
   {
    "duration": 86,
    "start_time": "2022-03-08T20:45:17.090Z"
   },
   {
    "duration": 45,
    "start_time": "2022-03-08T20:45:17.178Z"
   },
   {
    "duration": 72,
    "start_time": "2022-03-08T20:45:17.224Z"
   },
   {
    "duration": 38,
    "start_time": "2022-03-08T20:45:17.298Z"
   },
   {
    "duration": 42,
    "start_time": "2022-03-08T20:45:17.337Z"
   },
   {
    "duration": 27,
    "start_time": "2022-03-08T20:45:17.381Z"
   },
   {
    "duration": 56,
    "start_time": "2022-03-08T20:45:17.409Z"
   },
   {
    "duration": 4617,
    "start_time": "2022-03-08T20:45:17.467Z"
   },
   {
    "duration": -1723,
    "start_time": "2022-03-08T20:45:23.810Z"
   },
   {
    "duration": -1738,
    "start_time": "2022-03-08T20:45:23.826Z"
   },
   {
    "duration": -1767,
    "start_time": "2022-03-08T20:45:23.856Z"
   },
   {
    "duration": -1785,
    "start_time": "2022-03-08T20:45:23.875Z"
   },
   {
    "duration": -1817,
    "start_time": "2022-03-08T20:45:23.908Z"
   },
   {
    "duration": -1838,
    "start_time": "2022-03-08T20:45:23.929Z"
   },
   {
    "duration": -1842,
    "start_time": "2022-03-08T20:45:23.935Z"
   },
   {
    "duration": -1846,
    "start_time": "2022-03-08T20:45:23.940Z"
   },
   {
    "duration": -1850,
    "start_time": "2022-03-08T20:45:23.945Z"
   },
   {
    "duration": -1856,
    "start_time": "2022-03-08T20:45:23.952Z"
   },
   {
    "duration": -1863,
    "start_time": "2022-03-08T20:45:23.960Z"
   },
   {
    "duration": -1869,
    "start_time": "2022-03-08T20:45:23.967Z"
   },
   {
    "duration": -1872,
    "start_time": "2022-03-08T20:45:23.971Z"
   },
   {
    "duration": -1877,
    "start_time": "2022-03-08T20:45:23.977Z"
   },
   {
    "duration": -1881,
    "start_time": "2022-03-08T20:45:23.982Z"
   },
   {
    "duration": -1884,
    "start_time": "2022-03-08T20:45:23.986Z"
   },
   {
    "duration": 4584,
    "start_time": "2022-03-08T20:46:06.716Z"
   },
   {
    "duration": 1287,
    "start_time": "2022-03-08T20:46:55.012Z"
   },
   {
    "duration": 184,
    "start_time": "2022-03-08T20:47:19.602Z"
   },
   {
    "duration": 13,
    "start_time": "2022-03-08T20:49:08.765Z"
   },
   {
    "duration": 190,
    "start_time": "2022-03-08T20:53:41.923Z"
   },
   {
    "duration": 200,
    "start_time": "2022-03-08T20:54:36.028Z"
   },
   {
    "duration": 956,
    "start_time": "2022-03-08T20:54:46.195Z"
   },
   {
    "duration": 170,
    "start_time": "2022-03-08T20:54:47.153Z"
   },
   {
    "duration": 152,
    "start_time": "2022-03-08T20:54:47.325Z"
   },
   {
    "duration": 106,
    "start_time": "2022-03-08T20:54:47.479Z"
   },
   {
    "duration": 18,
    "start_time": "2022-03-08T20:54:47.587Z"
   },
   {
    "duration": 25,
    "start_time": "2022-03-08T20:54:47.607Z"
   },
   {
    "duration": 106,
    "start_time": "2022-03-08T20:54:47.634Z"
   },
   {
    "duration": 83,
    "start_time": "2022-03-08T20:54:47.743Z"
   },
   {
    "duration": 32,
    "start_time": "2022-03-08T20:54:47.828Z"
   },
   {
    "duration": 72,
    "start_time": "2022-03-08T20:54:47.861Z"
   },
   {
    "duration": 56,
    "start_time": "2022-03-08T20:54:47.935Z"
   },
   {
    "duration": 71,
    "start_time": "2022-03-08T20:54:47.993Z"
   },
   {
    "duration": 39,
    "start_time": "2022-03-08T20:54:48.065Z"
   },
   {
    "duration": 22,
    "start_time": "2022-03-08T20:54:48.106Z"
   },
   {
    "duration": 59,
    "start_time": "2022-03-08T20:54:48.129Z"
   },
   {
    "duration": 29,
    "start_time": "2022-03-08T20:54:48.189Z"
   },
   {
    "duration": 39,
    "start_time": "2022-03-08T20:54:48.220Z"
   },
   {
    "duration": 16,
    "start_time": "2022-03-08T20:54:48.261Z"
   },
   {
    "duration": 86,
    "start_time": "2022-03-08T20:54:48.279Z"
   },
   {
    "duration": 56,
    "start_time": "2022-03-08T20:54:48.366Z"
   },
   {
    "duration": 89,
    "start_time": "2022-03-08T20:54:48.424Z"
   },
   {
    "duration": 23,
    "start_time": "2022-03-08T20:54:48.515Z"
   },
   {
    "duration": 38,
    "start_time": "2022-03-08T20:54:48.541Z"
   },
   {
    "duration": 9,
    "start_time": "2022-03-08T20:54:48.581Z"
   },
   {
    "duration": 27,
    "start_time": "2022-03-08T20:54:48.592Z"
   },
   {
    "duration": 52,
    "start_time": "2022-03-08T20:54:48.620Z"
   },
   {
    "duration": 275,
    "start_time": "2022-03-08T20:54:48.673Z"
   },
   {
    "duration": 391,
    "start_time": "2022-03-08T20:54:48.951Z"
   },
   {
    "duration": 251,
    "start_time": "2022-03-08T20:54:49.344Z"
   },
   {
    "duration": 264,
    "start_time": "2022-03-08T20:54:49.597Z"
   },
   {
    "duration": 266,
    "start_time": "2022-03-08T20:54:49.863Z"
   },
   {
    "duration": 5,
    "start_time": "2022-03-08T20:54:50.131Z"
   },
   {
    "duration": 22,
    "start_time": "2022-03-08T20:54:50.138Z"
   },
   {
    "duration": 47,
    "start_time": "2022-03-08T21:05:11.496Z"
   },
   {
    "duration": 11,
    "start_time": "2022-03-08T21:09:50.921Z"
   },
   {
    "duration": 18,
    "start_time": "2022-03-08T21:13:57.963Z"
   },
   {
    "duration": 249,
    "start_time": "2022-03-08T21:37:41.595Z"
   },
   {
    "duration": 1220,
    "start_time": "2022-03-08T21:38:14.804Z"
   },
   {
    "duration": 192,
    "start_time": "2022-03-08T21:39:38.860Z"
   },
   {
    "duration": 185,
    "start_time": "2022-03-08T21:42:40.588Z"
   },
   {
    "duration": 192,
    "start_time": "2022-03-08T21:44:20.652Z"
   },
   {
    "duration": 222,
    "start_time": "2022-03-08T21:47:40.285Z"
   },
   {
    "duration": 4481,
    "start_time": "2022-03-08T21:47:51.105Z"
   },
   {
    "duration": 196,
    "start_time": "2022-03-08T21:48:09.202Z"
   },
   {
    "duration": 79,
    "start_time": "2022-03-08T21:49:23.533Z"
   },
   {
    "duration": 4617,
    "start_time": "2022-03-08T21:49:50.443Z"
   },
   {
    "duration": 64,
    "start_time": "2022-03-08T21:50:21.545Z"
   },
   {
    "duration": 58,
    "start_time": "2022-03-08T21:54:33.951Z"
   },
   {
    "duration": 1070,
    "start_time": "2022-03-09T14:03:42.361Z"
   },
   {
    "duration": 1035,
    "start_time": "2022-03-09T14:03:43.433Z"
   },
   {
    "duration": 167,
    "start_time": "2022-03-09T14:03:44.470Z"
   },
   {
    "duration": 109,
    "start_time": "2022-03-09T14:03:44.640Z"
   },
   {
    "duration": 22,
    "start_time": "2022-03-09T14:03:44.751Z"
   },
   {
    "duration": 42,
    "start_time": "2022-03-09T14:03:44.775Z"
   },
   {
    "duration": 102,
    "start_time": "2022-03-09T14:03:44.819Z"
   },
   {
    "duration": 96,
    "start_time": "2022-03-09T14:03:44.922Z"
   },
   {
    "duration": 31,
    "start_time": "2022-03-09T14:03:45.021Z"
   },
   {
    "duration": 100,
    "start_time": "2022-03-09T14:03:45.055Z"
   },
   {
    "duration": 52,
    "start_time": "2022-03-09T14:03:45.157Z"
   },
   {
    "duration": 79,
    "start_time": "2022-03-09T14:03:45.211Z"
   },
   {
    "duration": 71,
    "start_time": "2022-03-09T14:03:45.292Z"
   },
   {
    "duration": 24,
    "start_time": "2022-03-09T14:03:45.365Z"
   },
   {
    "duration": 55,
    "start_time": "2022-03-09T14:03:45.391Z"
   },
   {
    "duration": 32,
    "start_time": "2022-03-09T14:03:45.448Z"
   },
   {
    "duration": 22,
    "start_time": "2022-03-09T14:03:45.482Z"
   },
   {
    "duration": 34,
    "start_time": "2022-03-09T14:03:45.538Z"
   },
   {
    "duration": 10,
    "start_time": "2022-03-09T14:03:45.574Z"
   },
   {
    "duration": 18,
    "start_time": "2022-03-09T14:03:45.586Z"
   },
   {
    "duration": 98,
    "start_time": "2022-03-09T14:03:45.607Z"
   },
   {
    "duration": 71,
    "start_time": "2022-03-09T14:03:45.707Z"
   },
   {
    "duration": 78,
    "start_time": "2022-03-09T14:03:45.780Z"
   },
   {
    "duration": 24,
    "start_time": "2022-03-09T14:03:45.860Z"
   },
   {
    "duration": 26,
    "start_time": "2022-03-09T14:03:45.886Z"
   },
   {
    "duration": 283,
    "start_time": "2022-03-09T14:03:45.913Z"
   },
   {
    "duration": -251809,
    "start_time": "2022-03-09T14:07:58.007Z"
   },
   {
    "duration": -251825,
    "start_time": "2022-03-09T14:07:58.024Z"
   },
   {
    "duration": -251829,
    "start_time": "2022-03-09T14:07:58.029Z"
   },
   {
    "duration": -251832,
    "start_time": "2022-03-09T14:07:58.033Z"
   },
   {
    "duration": -251837,
    "start_time": "2022-03-09T14:07:58.039Z"
   },
   {
    "duration": -251841,
    "start_time": "2022-03-09T14:07:58.044Z"
   },
   {
    "duration": -251844,
    "start_time": "2022-03-09T14:07:58.048Z"
   },
   {
    "duration": -251850,
    "start_time": "2022-03-09T14:07:58.055Z"
   },
   {
    "duration": -251854,
    "start_time": "2022-03-09T14:07:58.060Z"
   },
   {
    "duration": -251859,
    "start_time": "2022-03-09T14:07:58.066Z"
   },
   {
    "duration": 5921,
    "start_time": "2022-03-09T14:41:17.798Z"
   },
   {
    "duration": 2202,
    "start_time": "2022-03-09T14:45:37.797Z"
   },
   {
    "duration": 3808,
    "start_time": "2022-03-09T14:47:55.621Z"
   },
   {
    "duration": 626,
    "start_time": "2022-03-09T14:49:59.802Z"
   },
   {
    "duration": 1371,
    "start_time": "2022-03-09T14:50:48.747Z"
   },
   {
    "duration": 1183,
    "start_time": "2022-03-09T14:51:24.952Z"
   },
   {
    "duration": 1258,
    "start_time": "2022-03-09T14:52:04.066Z"
   },
   {
    "duration": 182,
    "start_time": "2022-03-09T14:53:09.695Z"
   },
   {
    "duration": 1263,
    "start_time": "2022-03-09T14:53:53.116Z"
   },
   {
    "duration": 248,
    "start_time": "2022-03-09T14:56:30.498Z"
   },
   {
    "duration": 239,
    "start_time": "2022-03-09T14:58:30.393Z"
   },
   {
    "duration": 20,
    "start_time": "2022-03-09T15:04:14.927Z"
   },
   {
    "duration": 65,
    "start_time": "2022-03-09T15:05:45.964Z"
   },
   {
    "duration": 96,
    "start_time": "2022-03-09T15:06:13.906Z"
   },
   {
    "duration": 61,
    "start_time": "2022-03-09T15:06:37.666Z"
   },
   {
    "duration": 62,
    "start_time": "2022-03-09T15:07:18.277Z"
   },
   {
    "duration": 61,
    "start_time": "2022-03-09T15:08:22.769Z"
   },
   {
    "duration": 171,
    "start_time": "2022-03-09T15:11:22.333Z"
   },
   {
    "duration": 67,
    "start_time": "2022-03-09T15:21:42.393Z"
   },
   {
    "duration": 60,
    "start_time": "2022-03-09T15:22:14.111Z"
   },
   {
    "duration": 180,
    "start_time": "2022-03-09T15:22:27.192Z"
   },
   {
    "duration": 4325,
    "start_time": "2022-03-09T15:33:57.160Z"
   },
   {
    "duration": 14,
    "start_time": "2022-03-09T15:34:34.551Z"
   },
   {
    "duration": 197,
    "start_time": "2022-03-09T15:35:24.062Z"
   },
   {
    "duration": 1044,
    "start_time": "2022-03-09T15:35:32.679Z"
   },
   {
    "duration": 180,
    "start_time": "2022-03-09T15:35:33.725Z"
   },
   {
    "duration": 167,
    "start_time": "2022-03-09T15:35:33.909Z"
   },
   {
    "duration": 110,
    "start_time": "2022-03-09T15:35:34.078Z"
   },
   {
    "duration": 21,
    "start_time": "2022-03-09T15:35:34.190Z"
   },
   {
    "duration": 34,
    "start_time": "2022-03-09T15:35:34.213Z"
   },
   {
    "duration": 110,
    "start_time": "2022-03-09T15:35:34.250Z"
   },
   {
    "duration": 90,
    "start_time": "2022-03-09T15:35:34.362Z"
   },
   {
    "duration": 19,
    "start_time": "2022-03-09T15:35:34.453Z"
   },
   {
    "duration": 91,
    "start_time": "2022-03-09T15:35:34.474Z"
   },
   {
    "duration": 48,
    "start_time": "2022-03-09T15:35:34.567Z"
   },
   {
    "duration": 69,
    "start_time": "2022-03-09T15:35:34.617Z"
   },
   {
    "duration": 56,
    "start_time": "2022-03-09T15:35:34.688Z"
   },
   {
    "duration": 21,
    "start_time": "2022-03-09T15:35:34.745Z"
   },
   {
    "duration": 27,
    "start_time": "2022-03-09T15:35:34.767Z"
   },
   {
    "duration": 58,
    "start_time": "2022-03-09T15:35:34.795Z"
   },
   {
    "duration": 18,
    "start_time": "2022-03-09T15:35:34.855Z"
   },
   {
    "duration": 30,
    "start_time": "2022-03-09T15:35:34.875Z"
   },
   {
    "duration": 33,
    "start_time": "2022-03-09T15:35:34.907Z"
   },
   {
    "duration": 16,
    "start_time": "2022-03-09T15:35:34.942Z"
   },
   {
    "duration": 88,
    "start_time": "2022-03-09T15:35:34.960Z"
   },
   {
    "duration": 58,
    "start_time": "2022-03-09T15:35:35.051Z"
   },
   {
    "duration": 89,
    "start_time": "2022-03-09T15:35:35.111Z"
   },
   {
    "duration": 43,
    "start_time": "2022-03-09T15:35:35.202Z"
   },
   {
    "duration": 26,
    "start_time": "2022-03-09T15:35:35.247Z"
   },
   {
    "duration": 277,
    "start_time": "2022-03-09T15:35:35.275Z"
   },
   {
    "duration": 16,
    "start_time": "2022-03-09T15:35:35.553Z"
   },
   {
    "duration": 13,
    "start_time": "2022-03-09T15:35:35.571Z"
   },
   {
    "duration": 26,
    "start_time": "2022-03-09T15:35:35.586Z"
   },
   {
    "duration": 31,
    "start_time": "2022-03-09T15:35:35.613Z"
   },
   {
    "duration": 261,
    "start_time": "2022-03-09T15:35:35.646Z"
   },
   {
    "duration": 432,
    "start_time": "2022-03-09T15:35:35.909Z"
   },
   {
    "duration": 306,
    "start_time": "2022-03-09T15:35:36.343Z"
   },
   {
    "duration": 249,
    "start_time": "2022-03-09T15:35:36.651Z"
   },
   {
    "duration": 259,
    "start_time": "2022-03-09T15:35:36.902Z"
   },
   {
    "duration": 6,
    "start_time": "2022-03-09T15:35:37.162Z"
   },
   {
    "duration": 10,
    "start_time": "2022-03-09T15:35:37.170Z"
   },
   {
    "duration": 7,
    "start_time": "2022-03-09T15:35:37.181Z"
   },
   {
    "duration": 268,
    "start_time": "2022-03-09T15:38:04.540Z"
   },
   {
    "duration": 179,
    "start_time": "2022-03-09T15:38:16.507Z"
   },
   {
    "duration": 4660,
    "start_time": "2022-03-09T15:38:28.131Z"
   },
   {
    "duration": 176,
    "start_time": "2022-03-09T15:39:11.762Z"
   },
   {
    "duration": 82,
    "start_time": "2022-03-09T15:42:57.310Z"
   },
   {
    "duration": 18,
    "start_time": "2022-03-09T15:43:30.013Z"
   },
   {
    "duration": 13,
    "start_time": "2022-03-09T15:44:01.092Z"
   },
   {
    "duration": 12,
    "start_time": "2022-03-09T15:44:18.323Z"
   },
   {
    "duration": 29,
    "start_time": "2022-03-09T15:44:33.107Z"
   },
   {
    "duration": 17,
    "start_time": "2022-03-09T15:46:33.801Z"
   },
   {
    "duration": 4596,
    "start_time": "2022-03-09T15:51:06.763Z"
   },
   {
    "duration": 4714,
    "start_time": "2022-03-09T15:53:06.193Z"
   },
   {
    "duration": 6,
    "start_time": "2022-03-09T15:53:46.871Z"
   },
   {
    "duration": 7,
    "start_time": "2022-03-09T15:54:27.495Z"
   },
   {
    "duration": 35,
    "start_time": "2022-03-09T15:56:13.508Z"
   },
   {
    "duration": 29,
    "start_time": "2022-03-09T15:58:20.354Z"
   },
   {
    "duration": 4614,
    "start_time": "2022-03-09T15:59:47.910Z"
   },
   {
    "duration": 29,
    "start_time": "2022-03-09T16:00:10.942Z"
   },
   {
    "duration": 42,
    "start_time": "2022-03-09T16:01:42.324Z"
   },
   {
    "duration": 25,
    "start_time": "2022-03-09T16:04:22.761Z"
   },
   {
    "duration": 244,
    "start_time": "2022-03-09T16:06:29.542Z"
   },
   {
    "duration": 378,
    "start_time": "2022-03-09T16:08:14.331Z"
   },
   {
    "duration": 456,
    "start_time": "2022-03-09T16:10:03.216Z"
   },
   {
    "duration": 382,
    "start_time": "2022-03-09T16:11:51.358Z"
   },
   {
    "duration": 356,
    "start_time": "2022-03-09T16:12:05.533Z"
   },
   {
    "duration": 358,
    "start_time": "2022-03-09T16:13:14.314Z"
   },
   {
    "duration": 29,
    "start_time": "2022-03-09T16:16:28.902Z"
   },
   {
    "duration": 27,
    "start_time": "2022-03-09T16:16:46.966Z"
   },
   {
    "duration": 7,
    "start_time": "2022-03-09T16:18:22.413Z"
   },
   {
    "duration": 1055,
    "start_time": "2022-03-09T16:25:59.769Z"
   },
   {
    "duration": 184,
    "start_time": "2022-03-09T16:26:00.826Z"
   },
   {
    "duration": 168,
    "start_time": "2022-03-09T16:26:01.012Z"
   },
   {
    "duration": 116,
    "start_time": "2022-03-09T16:26:01.182Z"
   },
   {
    "duration": 23,
    "start_time": "2022-03-09T16:26:01.300Z"
   },
   {
    "duration": 31,
    "start_time": "2022-03-09T16:26:01.337Z"
   },
   {
    "duration": 117,
    "start_time": "2022-03-09T16:26:01.369Z"
   },
   {
    "duration": 89,
    "start_time": "2022-03-09T16:26:01.488Z"
   },
   {
    "duration": 20,
    "start_time": "2022-03-09T16:26:01.580Z"
   },
   {
    "duration": 92,
    "start_time": "2022-03-09T16:26:01.602Z"
   },
   {
    "duration": 62,
    "start_time": "2022-03-09T16:26:01.696Z"
   },
   {
    "duration": 55,
    "start_time": "2022-03-09T16:26:01.760Z"
   },
   {
    "duration": 61,
    "start_time": "2022-03-09T16:26:01.817Z"
   },
   {
    "duration": 74,
    "start_time": "2022-03-09T16:26:01.880Z"
   },
   {
    "duration": 27,
    "start_time": "2022-03-09T16:26:01.956Z"
   },
   {
    "duration": 32,
    "start_time": "2022-03-09T16:26:01.985Z"
   },
   {
    "duration": 21,
    "start_time": "2022-03-09T16:26:02.039Z"
   },
   {
    "duration": 49,
    "start_time": "2022-03-09T16:26:02.062Z"
   },
   {
    "duration": 27,
    "start_time": "2022-03-09T16:26:02.113Z"
   },
   {
    "duration": 17,
    "start_time": "2022-03-09T16:26:02.142Z"
   },
   {
    "duration": 93,
    "start_time": "2022-03-09T16:26:02.161Z"
   },
   {
    "duration": 59,
    "start_time": "2022-03-09T16:26:02.256Z"
   },
   {
    "duration": 105,
    "start_time": "2022-03-09T16:26:02.318Z"
   },
   {
    "duration": 29,
    "start_time": "2022-03-09T16:26:02.438Z"
   },
   {
    "duration": 45,
    "start_time": "2022-03-09T16:26:02.470Z"
   },
   {
    "duration": 298,
    "start_time": "2022-03-09T16:26:02.517Z"
   },
   {
    "duration": 36,
    "start_time": "2022-03-09T16:26:02.817Z"
   },
   {
    "duration": 13,
    "start_time": "2022-03-09T16:26:02.855Z"
   },
   {
    "duration": 34,
    "start_time": "2022-03-09T16:26:02.870Z"
   },
   {
    "duration": 54,
    "start_time": "2022-03-09T16:26:02.906Z"
   },
   {
    "duration": 291,
    "start_time": "2022-03-09T16:26:02.962Z"
   },
   {
    "duration": 386,
    "start_time": "2022-03-09T16:26:03.254Z"
   },
   {
    "duration": 379,
    "start_time": "2022-03-09T16:26:03.642Z"
   },
   {
    "duration": 367,
    "start_time": "2022-03-09T16:26:04.023Z"
   },
   {
    "duration": 380,
    "start_time": "2022-03-09T16:26:04.392Z"
   },
   {
    "duration": 6,
    "start_time": "2022-03-09T16:26:04.773Z"
   },
   {
    "duration": 12,
    "start_time": "2022-03-09T16:26:04.781Z"
   },
   {
    "duration": 7,
    "start_time": "2022-03-09T16:26:04.794Z"
   },
   {
    "duration": 1123,
    "start_time": "2022-12-22T11:54:54.854Z"
   },
   {
    "duration": 564,
    "start_time": "2022-12-22T11:54:55.979Z"
   },
   {
    "duration": 1126,
    "start_time": "2022-12-22T11:54:56.546Z"
   },
   {
    "duration": 175,
    "start_time": "2022-12-22T11:54:57.673Z"
   },
   {
    "duration": 59,
    "start_time": "2022-12-22T11:54:57.851Z"
   },
   {
    "duration": 85,
    "start_time": "2022-12-22T11:54:57.912Z"
   },
   {
    "duration": 121,
    "start_time": "2022-12-22T11:54:57.999Z"
   },
   {
    "duration": 85,
    "start_time": "2022-12-22T11:54:58.121Z"
   },
   {
    "duration": 23,
    "start_time": "2022-12-22T11:54:58.208Z"
   },
   {
    "duration": 95,
    "start_time": "2022-12-22T11:54:58.233Z"
   },
   {
    "duration": 60,
    "start_time": "2022-12-22T11:54:58.329Z"
   },
   {
    "duration": 79,
    "start_time": "2022-12-22T11:54:58.406Z"
   },
   {
    "duration": 49,
    "start_time": "2022-12-22T11:54:58.504Z"
   },
   {
    "duration": 25,
    "start_time": "2022-12-22T11:54:58.556Z"
   },
   {
    "duration": 49,
    "start_time": "2022-12-22T11:54:58.583Z"
   },
   {
    "duration": 38,
    "start_time": "2022-12-22T11:54:58.633Z"
   },
   {
    "duration": 48,
    "start_time": "2022-12-22T11:54:58.672Z"
   },
   {
    "duration": 33,
    "start_time": "2022-12-22T11:54:58.721Z"
   },
   {
    "duration": 12,
    "start_time": "2022-12-22T11:54:58.755Z"
   },
   {
    "duration": 40,
    "start_time": "2022-12-22T11:54:58.769Z"
   },
   {
    "duration": 68,
    "start_time": "2022-12-22T11:54:58.811Z"
   },
   {
    "duration": 40,
    "start_time": "2022-12-22T11:54:58.881Z"
   },
   {
    "duration": 59,
    "start_time": "2022-12-22T11:54:58.922Z"
   },
   {
    "duration": 41,
    "start_time": "2022-12-22T11:54:58.983Z"
   },
   {
    "duration": 36,
    "start_time": "2022-12-22T11:54:59.026Z"
   },
   {
    "duration": 170,
    "start_time": "2022-12-22T11:54:59.064Z"
   },
   {
    "duration": 25,
    "start_time": "2022-12-22T11:54:59.236Z"
   },
   {
    "duration": 37,
    "start_time": "2022-12-22T11:54:59.263Z"
   },
   {
    "duration": 42,
    "start_time": "2022-12-22T11:54:59.301Z"
   },
   {
    "duration": 29,
    "start_time": "2022-12-22T11:54:59.345Z"
   },
   {
    "duration": 217,
    "start_time": "2022-12-22T11:54:59.375Z"
   },
   {
    "duration": 273,
    "start_time": "2022-12-22T11:54:59.593Z"
   },
   {
    "duration": 277,
    "start_time": "2022-12-22T11:54:59.868Z"
   },
   {
    "duration": 259,
    "start_time": "2022-12-22T11:55:00.148Z"
   },
   {
    "duration": 269,
    "start_time": "2022-12-22T11:55:00.409Z"
   },
   {
    "duration": 6,
    "start_time": "2022-12-22T11:55:00.680Z"
   },
   {
    "duration": 36,
    "start_time": "2022-12-22T11:55:00.688Z"
   },
   {
    "duration": 23,
    "start_time": "2022-12-22T11:55:00.726Z"
   }
  ],
  "kernelspec": {
   "display_name": "Python 3 (ipykernel)",
   "language": "python",
   "name": "python3"
  },
  "language_info": {
   "codemirror_mode": {
    "name": "ipython",
    "version": 3
   },
   "file_extension": ".py",
   "mimetype": "text/x-python",
   "name": "python",
   "nbconvert_exporter": "python",
   "pygments_lexer": "ipython3",
   "version": "3.9.5"
  },
  "toc": {
   "base_numbering": 1,
   "nav_menu": {},
   "number_sections": true,
   "sideBar": true,
   "skip_h1_title": true,
   "title_cell": "Table of Contents",
   "title_sidebar": "Contents",
   "toc_cell": false,
   "toc_position": {
    "height": "calc(100% - 180px)",
    "left": "10px",
    "top": "150px",
    "width": "291.81px"
   },
   "toc_section_display": true,
   "toc_window_display": true
  }
 },
 "nbformat": 4,
 "nbformat_minor": 2
}
