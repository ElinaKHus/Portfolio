{
 "cells": [
  {
   "cell_type": "markdown",
   "metadata": {},
   "source": [
    "## Описание проекта"
   ]
  },
  {
   "cell_type": "markdown",
   "metadata": {},
   "source": [
    "Основная цель нашего проекта - выявить потенциально популярный продукт для дальнейшего планирования рекламной кампании. \n",
    "В нашем распоряжении данные интернет-магазине «Стримчик», который продаёт по всему миру компьютерные игры: о продажах игр, оценки пользователей и экспертов, жанры и платформы (например, Xbox или PlayStation). Для выявления потенциально успешного продукта нам необходимо выявить определяющие успешность игры закономерности. \n",
    "План работы:\n",
    "- изучение данных, предобработка для дальнейшего анализа,\n",
    "- изучение динамики количества игр по годам выпуска, динамики продаж по платформам,\n",
    "- изучение взаимосвязи между продажами и отзывами,\n",
    "- изучение продаж игр по жанрам,\n",
    "- изучение портрета пользователей,\n",
    "- проверка гипотез,\n",
    "- общий вывод.\n",
    "\n"
   ]
  },
  {
   "cell_type": "markdown",
   "metadata": {},
   "source": [
    "## Изучение данных"
   ]
  },
  {
   "cell_type": "code",
   "execution_count": 1,
   "metadata": {},
   "outputs": [],
   "source": [
    "#импортируем все библиотеки\n",
    "import pandas as pd\n",
    "import numpy as np\n",
    "import matplotlib.pyplot as plt\n",
    "import seaborn as sns\n",
    "from scipy import stats as st"
   ]
  },
  {
   "cell_type": "code",
   "execution_count": 2,
   "metadata": {},
   "outputs": [
    {
     "data": {
      "text/html": [
       "<div>\n",
       "<style scoped>\n",
       "    .dataframe tbody tr th:only-of-type {\n",
       "        vertical-align: middle;\n",
       "    }\n",
       "\n",
       "    .dataframe tbody tr th {\n",
       "        vertical-align: top;\n",
       "    }\n",
       "\n",
       "    .dataframe thead th {\n",
       "        text-align: right;\n",
       "    }\n",
       "</style>\n",
       "<table border=\"1\" class=\"dataframe\">\n",
       "  <thead>\n",
       "    <tr style=\"text-align: right;\">\n",
       "      <th></th>\n",
       "      <th>Name</th>\n",
       "      <th>Platform</th>\n",
       "      <th>Year_of_Release</th>\n",
       "      <th>Genre</th>\n",
       "      <th>NA_sales</th>\n",
       "      <th>EU_sales</th>\n",
       "      <th>JP_sales</th>\n",
       "      <th>Other_sales</th>\n",
       "      <th>Critic_Score</th>\n",
       "      <th>User_Score</th>\n",
       "      <th>Rating</th>\n",
       "    </tr>\n",
       "  </thead>\n",
       "  <tbody>\n",
       "    <tr>\n",
       "      <th>0</th>\n",
       "      <td>Wii Sports</td>\n",
       "      <td>Wii</td>\n",
       "      <td>2006.0</td>\n",
       "      <td>Sports</td>\n",
       "      <td>41.36</td>\n",
       "      <td>28.96</td>\n",
       "      <td>3.77</td>\n",
       "      <td>8.45</td>\n",
       "      <td>76.0</td>\n",
       "      <td>8</td>\n",
       "      <td>E</td>\n",
       "    </tr>\n",
       "    <tr>\n",
       "      <th>1</th>\n",
       "      <td>Super Mario Bros.</td>\n",
       "      <td>NES</td>\n",
       "      <td>1985.0</td>\n",
       "      <td>Platform</td>\n",
       "      <td>29.08</td>\n",
       "      <td>3.58</td>\n",
       "      <td>6.81</td>\n",
       "      <td>0.77</td>\n",
       "      <td>NaN</td>\n",
       "      <td>NaN</td>\n",
       "      <td>NaN</td>\n",
       "    </tr>\n",
       "    <tr>\n",
       "      <th>2</th>\n",
       "      <td>Mario Kart Wii</td>\n",
       "      <td>Wii</td>\n",
       "      <td>2008.0</td>\n",
       "      <td>Racing</td>\n",
       "      <td>15.68</td>\n",
       "      <td>12.76</td>\n",
       "      <td>3.79</td>\n",
       "      <td>3.29</td>\n",
       "      <td>82.0</td>\n",
       "      <td>8.3</td>\n",
       "      <td>E</td>\n",
       "    </tr>\n",
       "    <tr>\n",
       "      <th>3</th>\n",
       "      <td>Wii Sports Resort</td>\n",
       "      <td>Wii</td>\n",
       "      <td>2009.0</td>\n",
       "      <td>Sports</td>\n",
       "      <td>15.61</td>\n",
       "      <td>10.93</td>\n",
       "      <td>3.28</td>\n",
       "      <td>2.95</td>\n",
       "      <td>80.0</td>\n",
       "      <td>8</td>\n",
       "      <td>E</td>\n",
       "    </tr>\n",
       "    <tr>\n",
       "      <th>4</th>\n",
       "      <td>Pokemon Red/Pokemon Blue</td>\n",
       "      <td>GB</td>\n",
       "      <td>1996.0</td>\n",
       "      <td>Role-Playing</td>\n",
       "      <td>11.27</td>\n",
       "      <td>8.89</td>\n",
       "      <td>10.22</td>\n",
       "      <td>1.00</td>\n",
       "      <td>NaN</td>\n",
       "      <td>NaN</td>\n",
       "      <td>NaN</td>\n",
       "    </tr>\n",
       "    <tr>\n",
       "      <th>5</th>\n",
       "      <td>Tetris</td>\n",
       "      <td>GB</td>\n",
       "      <td>1989.0</td>\n",
       "      <td>Puzzle</td>\n",
       "      <td>23.20</td>\n",
       "      <td>2.26</td>\n",
       "      <td>4.22</td>\n",
       "      <td>0.58</td>\n",
       "      <td>NaN</td>\n",
       "      <td>NaN</td>\n",
       "      <td>NaN</td>\n",
       "    </tr>\n",
       "    <tr>\n",
       "      <th>6</th>\n",
       "      <td>New Super Mario Bros.</td>\n",
       "      <td>DS</td>\n",
       "      <td>2006.0</td>\n",
       "      <td>Platform</td>\n",
       "      <td>11.28</td>\n",
       "      <td>9.14</td>\n",
       "      <td>6.50</td>\n",
       "      <td>2.88</td>\n",
       "      <td>89.0</td>\n",
       "      <td>8.5</td>\n",
       "      <td>E</td>\n",
       "    </tr>\n",
       "    <tr>\n",
       "      <th>7</th>\n",
       "      <td>Wii Play</td>\n",
       "      <td>Wii</td>\n",
       "      <td>2006.0</td>\n",
       "      <td>Misc</td>\n",
       "      <td>13.96</td>\n",
       "      <td>9.18</td>\n",
       "      <td>2.93</td>\n",
       "      <td>2.84</td>\n",
       "      <td>58.0</td>\n",
       "      <td>6.6</td>\n",
       "      <td>E</td>\n",
       "    </tr>\n",
       "    <tr>\n",
       "      <th>8</th>\n",
       "      <td>New Super Mario Bros. Wii</td>\n",
       "      <td>Wii</td>\n",
       "      <td>2009.0</td>\n",
       "      <td>Platform</td>\n",
       "      <td>14.44</td>\n",
       "      <td>6.94</td>\n",
       "      <td>4.70</td>\n",
       "      <td>2.24</td>\n",
       "      <td>87.0</td>\n",
       "      <td>8.4</td>\n",
       "      <td>E</td>\n",
       "    </tr>\n",
       "    <tr>\n",
       "      <th>9</th>\n",
       "      <td>Duck Hunt</td>\n",
       "      <td>NES</td>\n",
       "      <td>1984.0</td>\n",
       "      <td>Shooter</td>\n",
       "      <td>26.93</td>\n",
       "      <td>0.63</td>\n",
       "      <td>0.28</td>\n",
       "      <td>0.47</td>\n",
       "      <td>NaN</td>\n",
       "      <td>NaN</td>\n",
       "      <td>NaN</td>\n",
       "    </tr>\n",
       "  </tbody>\n",
       "</table>\n",
       "</div>"
      ],
      "text/plain": [
       "                        Name Platform  Year_of_Release         Genre  \\\n",
       "0                 Wii Sports      Wii           2006.0        Sports   \n",
       "1          Super Mario Bros.      NES           1985.0      Platform   \n",
       "2             Mario Kart Wii      Wii           2008.0        Racing   \n",
       "3          Wii Sports Resort      Wii           2009.0        Sports   \n",
       "4   Pokemon Red/Pokemon Blue       GB           1996.0  Role-Playing   \n",
       "5                     Tetris       GB           1989.0        Puzzle   \n",
       "6      New Super Mario Bros.       DS           2006.0      Platform   \n",
       "7                   Wii Play      Wii           2006.0          Misc   \n",
       "8  New Super Mario Bros. Wii      Wii           2009.0      Platform   \n",
       "9                  Duck Hunt      NES           1984.0       Shooter   \n",
       "\n",
       "   NA_sales  EU_sales  JP_sales  Other_sales  Critic_Score User_Score Rating  \n",
       "0     41.36     28.96      3.77         8.45          76.0          8      E  \n",
       "1     29.08      3.58      6.81         0.77           NaN        NaN    NaN  \n",
       "2     15.68     12.76      3.79         3.29          82.0        8.3      E  \n",
       "3     15.61     10.93      3.28         2.95          80.0          8      E  \n",
       "4     11.27      8.89     10.22         1.00           NaN        NaN    NaN  \n",
       "5     23.20      2.26      4.22         0.58           NaN        NaN    NaN  \n",
       "6     11.28      9.14      6.50         2.88          89.0        8.5      E  \n",
       "7     13.96      9.18      2.93         2.84          58.0        6.6      E  \n",
       "8     14.44      6.94      4.70         2.24          87.0        8.4      E  \n",
       "9     26.93      0.63      0.28         0.47           NaN        NaN    NaN  "
      ]
     },
     "metadata": {},
     "output_type": "display_data"
    },
    {
     "name": "stdout",
     "output_type": "stream",
     "text": [
      "<class 'pandas.core.frame.DataFrame'>\n",
      "RangeIndex: 16715 entries, 0 to 16714\n",
      "Data columns (total 11 columns):\n",
      " #   Column           Non-Null Count  Dtype  \n",
      "---  ------           --------------  -----  \n",
      " 0   Name             16713 non-null  object \n",
      " 1   Platform         16715 non-null  object \n",
      " 2   Year_of_Release  16446 non-null  float64\n",
      " 3   Genre            16713 non-null  object \n",
      " 4   NA_sales         16715 non-null  float64\n",
      " 5   EU_sales         16715 non-null  float64\n",
      " 6   JP_sales         16715 non-null  float64\n",
      " 7   Other_sales      16715 non-null  float64\n",
      " 8   Critic_Score     8137 non-null   float64\n",
      " 9   User_Score       10014 non-null  object \n",
      " 10  Rating           9949 non-null   object \n",
      "dtypes: float64(6), object(5)\n",
      "memory usage: 1.4+ MB\n",
      "None\n"
     ]
    }
   ],
   "source": [
    "# читаем файл и сохраняем его в переменной df\n",
    "df = pd.read_csv('/datasets/games.csv')\n",
    "# выведем на экран первые 20 строк таблицы\n",
    "display(df.head(10))\n",
    "print(df.info())\n"
   ]
  },
  {
   "cell_type": "markdown",
   "metadata": {},
   "source": [
    "Видим, что всего строк в таблице 16715, есть пропуски в столбцах: Name и Genre (по 2 пропуска), Year_of_Release (269 пропусков), Critic_Score (8578 пропусков), User_Score (6701 пропусков), Rating (6766 пропусков). Некоторые столбцы имеют неверный тип данных, необходимо будет изменить"
   ]
  },
  {
   "cell_type": "markdown",
   "metadata": {},
   "source": [
    "## Подготовка данных"
   ]
  },
  {
   "cell_type": "markdown",
   "metadata": {},
   "source": [
    "### Замена наименований столбцов"
   ]
  },
  {
   "cell_type": "markdown",
   "metadata": {},
   "source": [
    "Приведем все названия столбцов к нижнему регистру"
   ]
  },
  {
   "cell_type": "code",
   "execution_count": 3,
   "metadata": {},
   "outputs": [
    {
     "data": {
      "text/html": [
       "<div>\n",
       "<style scoped>\n",
       "    .dataframe tbody tr th:only-of-type {\n",
       "        vertical-align: middle;\n",
       "    }\n",
       "\n",
       "    .dataframe tbody tr th {\n",
       "        vertical-align: top;\n",
       "    }\n",
       "\n",
       "    .dataframe thead th {\n",
       "        text-align: right;\n",
       "    }\n",
       "</style>\n",
       "<table border=\"1\" class=\"dataframe\">\n",
       "  <thead>\n",
       "    <tr style=\"text-align: right;\">\n",
       "      <th></th>\n",
       "      <th>name</th>\n",
       "      <th>platform</th>\n",
       "      <th>year_of_release</th>\n",
       "      <th>genre</th>\n",
       "      <th>na_sales</th>\n",
       "      <th>eu_sales</th>\n",
       "      <th>jp_sales</th>\n",
       "      <th>other_sales</th>\n",
       "      <th>critic_score</th>\n",
       "      <th>user_score</th>\n",
       "      <th>rating</th>\n",
       "    </tr>\n",
       "  </thead>\n",
       "  <tbody>\n",
       "    <tr>\n",
       "      <th>0</th>\n",
       "      <td>Wii Sports</td>\n",
       "      <td>Wii</td>\n",
       "      <td>2006.0</td>\n",
       "      <td>Sports</td>\n",
       "      <td>41.36</td>\n",
       "      <td>28.96</td>\n",
       "      <td>3.77</td>\n",
       "      <td>8.45</td>\n",
       "      <td>76.0</td>\n",
       "      <td>8</td>\n",
       "      <td>E</td>\n",
       "    </tr>\n",
       "    <tr>\n",
       "      <th>1</th>\n",
       "      <td>Super Mario Bros.</td>\n",
       "      <td>NES</td>\n",
       "      <td>1985.0</td>\n",
       "      <td>Platform</td>\n",
       "      <td>29.08</td>\n",
       "      <td>3.58</td>\n",
       "      <td>6.81</td>\n",
       "      <td>0.77</td>\n",
       "      <td>NaN</td>\n",
       "      <td>NaN</td>\n",
       "      <td>NaN</td>\n",
       "    </tr>\n",
       "    <tr>\n",
       "      <th>2</th>\n",
       "      <td>Mario Kart Wii</td>\n",
       "      <td>Wii</td>\n",
       "      <td>2008.0</td>\n",
       "      <td>Racing</td>\n",
       "      <td>15.68</td>\n",
       "      <td>12.76</td>\n",
       "      <td>3.79</td>\n",
       "      <td>3.29</td>\n",
       "      <td>82.0</td>\n",
       "      <td>8.3</td>\n",
       "      <td>E</td>\n",
       "    </tr>\n",
       "    <tr>\n",
       "      <th>3</th>\n",
       "      <td>Wii Sports Resort</td>\n",
       "      <td>Wii</td>\n",
       "      <td>2009.0</td>\n",
       "      <td>Sports</td>\n",
       "      <td>15.61</td>\n",
       "      <td>10.93</td>\n",
       "      <td>3.28</td>\n",
       "      <td>2.95</td>\n",
       "      <td>80.0</td>\n",
       "      <td>8</td>\n",
       "      <td>E</td>\n",
       "    </tr>\n",
       "    <tr>\n",
       "      <th>4</th>\n",
       "      <td>Pokemon Red/Pokemon Blue</td>\n",
       "      <td>GB</td>\n",
       "      <td>1996.0</td>\n",
       "      <td>Role-Playing</td>\n",
       "      <td>11.27</td>\n",
       "      <td>8.89</td>\n",
       "      <td>10.22</td>\n",
       "      <td>1.00</td>\n",
       "      <td>NaN</td>\n",
       "      <td>NaN</td>\n",
       "      <td>NaN</td>\n",
       "    </tr>\n",
       "    <tr>\n",
       "      <th>5</th>\n",
       "      <td>Tetris</td>\n",
       "      <td>GB</td>\n",
       "      <td>1989.0</td>\n",
       "      <td>Puzzle</td>\n",
       "      <td>23.20</td>\n",
       "      <td>2.26</td>\n",
       "      <td>4.22</td>\n",
       "      <td>0.58</td>\n",
       "      <td>NaN</td>\n",
       "      <td>NaN</td>\n",
       "      <td>NaN</td>\n",
       "    </tr>\n",
       "    <tr>\n",
       "      <th>6</th>\n",
       "      <td>New Super Mario Bros.</td>\n",
       "      <td>DS</td>\n",
       "      <td>2006.0</td>\n",
       "      <td>Platform</td>\n",
       "      <td>11.28</td>\n",
       "      <td>9.14</td>\n",
       "      <td>6.50</td>\n",
       "      <td>2.88</td>\n",
       "      <td>89.0</td>\n",
       "      <td>8.5</td>\n",
       "      <td>E</td>\n",
       "    </tr>\n",
       "    <tr>\n",
       "      <th>7</th>\n",
       "      <td>Wii Play</td>\n",
       "      <td>Wii</td>\n",
       "      <td>2006.0</td>\n",
       "      <td>Misc</td>\n",
       "      <td>13.96</td>\n",
       "      <td>9.18</td>\n",
       "      <td>2.93</td>\n",
       "      <td>2.84</td>\n",
       "      <td>58.0</td>\n",
       "      <td>6.6</td>\n",
       "      <td>E</td>\n",
       "    </tr>\n",
       "    <tr>\n",
       "      <th>8</th>\n",
       "      <td>New Super Mario Bros. Wii</td>\n",
       "      <td>Wii</td>\n",
       "      <td>2009.0</td>\n",
       "      <td>Platform</td>\n",
       "      <td>14.44</td>\n",
       "      <td>6.94</td>\n",
       "      <td>4.70</td>\n",
       "      <td>2.24</td>\n",
       "      <td>87.0</td>\n",
       "      <td>8.4</td>\n",
       "      <td>E</td>\n",
       "    </tr>\n",
       "    <tr>\n",
       "      <th>9</th>\n",
       "      <td>Duck Hunt</td>\n",
       "      <td>NES</td>\n",
       "      <td>1984.0</td>\n",
       "      <td>Shooter</td>\n",
       "      <td>26.93</td>\n",
       "      <td>0.63</td>\n",
       "      <td>0.28</td>\n",
       "      <td>0.47</td>\n",
       "      <td>NaN</td>\n",
       "      <td>NaN</td>\n",
       "      <td>NaN</td>\n",
       "    </tr>\n",
       "  </tbody>\n",
       "</table>\n",
       "</div>"
      ],
      "text/plain": [
       "                        name platform  year_of_release         genre  \\\n",
       "0                 Wii Sports      Wii           2006.0        Sports   \n",
       "1          Super Mario Bros.      NES           1985.0      Platform   \n",
       "2             Mario Kart Wii      Wii           2008.0        Racing   \n",
       "3          Wii Sports Resort      Wii           2009.0        Sports   \n",
       "4   Pokemon Red/Pokemon Blue       GB           1996.0  Role-Playing   \n",
       "5                     Tetris       GB           1989.0        Puzzle   \n",
       "6      New Super Mario Bros.       DS           2006.0      Platform   \n",
       "7                   Wii Play      Wii           2006.0          Misc   \n",
       "8  New Super Mario Bros. Wii      Wii           2009.0      Platform   \n",
       "9                  Duck Hunt      NES           1984.0       Shooter   \n",
       "\n",
       "   na_sales  eu_sales  jp_sales  other_sales  critic_score user_score rating  \n",
       "0     41.36     28.96      3.77         8.45          76.0          8      E  \n",
       "1     29.08      3.58      6.81         0.77           NaN        NaN    NaN  \n",
       "2     15.68     12.76      3.79         3.29          82.0        8.3      E  \n",
       "3     15.61     10.93      3.28         2.95          80.0          8      E  \n",
       "4     11.27      8.89     10.22         1.00           NaN        NaN    NaN  \n",
       "5     23.20      2.26      4.22         0.58           NaN        NaN    NaN  \n",
       "6     11.28      9.14      6.50         2.88          89.0        8.5      E  \n",
       "7     13.96      9.18      2.93         2.84          58.0        6.6      E  \n",
       "8     14.44      6.94      4.70         2.24          87.0        8.4      E  \n",
       "9     26.93      0.63      0.28         0.47           NaN        NaN    NaN  "
      ]
     },
     "metadata": {},
     "output_type": "display_data"
    }
   ],
   "source": [
    "df = df.rename(columns=str.lower)\n",
    "display(df.head(10))\n",
    "\n"
   ]
  },
  {
   "cell_type": "markdown",
   "metadata": {},
   "source": [
    "Названия столбцов приведены к нижнему регистру, переходим к преобразованию данных в нужный тип"
   ]
  },
  {
   "cell_type": "markdown",
   "metadata": {},
   "source": [
    "### Замена типа данных"
   ]
  },
  {
   "cell_type": "markdown",
   "metadata": {},
   "source": [
    "Из информации о файле видим, что данные в столбце year_of_release имеют тим данных float64, преобразуем его к целому числу intger. Кроме того, необходимо будет изменить тип данных в столбце user_score с object на float64, но сделаем это чуть позже, после замены tbd"
   ]
  },
  {
   "cell_type": "code",
   "execution_count": 4,
   "metadata": {},
   "outputs": [
    {
     "data": {
      "text/html": [
       "<div>\n",
       "<style scoped>\n",
       "    .dataframe tbody tr th:only-of-type {\n",
       "        vertical-align: middle;\n",
       "    }\n",
       "\n",
       "    .dataframe tbody tr th {\n",
       "        vertical-align: top;\n",
       "    }\n",
       "\n",
       "    .dataframe thead th {\n",
       "        text-align: right;\n",
       "    }\n",
       "</style>\n",
       "<table border=\"1\" class=\"dataframe\">\n",
       "  <thead>\n",
       "    <tr style=\"text-align: right;\">\n",
       "      <th></th>\n",
       "      <th>name</th>\n",
       "      <th>platform</th>\n",
       "      <th>year_of_release</th>\n",
       "      <th>genre</th>\n",
       "      <th>na_sales</th>\n",
       "      <th>eu_sales</th>\n",
       "      <th>jp_sales</th>\n",
       "      <th>other_sales</th>\n",
       "      <th>critic_score</th>\n",
       "      <th>user_score</th>\n",
       "      <th>rating</th>\n",
       "    </tr>\n",
       "  </thead>\n",
       "  <tbody>\n",
       "    <tr>\n",
       "      <th>0</th>\n",
       "      <td>Wii Sports</td>\n",
       "      <td>Wii</td>\n",
       "      <td>2006</td>\n",
       "      <td>Sports</td>\n",
       "      <td>41.36</td>\n",
       "      <td>28.96</td>\n",
       "      <td>3.77</td>\n",
       "      <td>8.45</td>\n",
       "      <td>76.0</td>\n",
       "      <td>8</td>\n",
       "      <td>E</td>\n",
       "    </tr>\n",
       "    <tr>\n",
       "      <th>1</th>\n",
       "      <td>Super Mario Bros.</td>\n",
       "      <td>NES</td>\n",
       "      <td>1985</td>\n",
       "      <td>Platform</td>\n",
       "      <td>29.08</td>\n",
       "      <td>3.58</td>\n",
       "      <td>6.81</td>\n",
       "      <td>0.77</td>\n",
       "      <td>NaN</td>\n",
       "      <td>NaN</td>\n",
       "      <td>NaN</td>\n",
       "    </tr>\n",
       "    <tr>\n",
       "      <th>2</th>\n",
       "      <td>Mario Kart Wii</td>\n",
       "      <td>Wii</td>\n",
       "      <td>2008</td>\n",
       "      <td>Racing</td>\n",
       "      <td>15.68</td>\n",
       "      <td>12.76</td>\n",
       "      <td>3.79</td>\n",
       "      <td>3.29</td>\n",
       "      <td>82.0</td>\n",
       "      <td>8.3</td>\n",
       "      <td>E</td>\n",
       "    </tr>\n",
       "    <tr>\n",
       "      <th>3</th>\n",
       "      <td>Wii Sports Resort</td>\n",
       "      <td>Wii</td>\n",
       "      <td>2009</td>\n",
       "      <td>Sports</td>\n",
       "      <td>15.61</td>\n",
       "      <td>10.93</td>\n",
       "      <td>3.28</td>\n",
       "      <td>2.95</td>\n",
       "      <td>80.0</td>\n",
       "      <td>8</td>\n",
       "      <td>E</td>\n",
       "    </tr>\n",
       "    <tr>\n",
       "      <th>4</th>\n",
       "      <td>Pokemon Red/Pokemon Blue</td>\n",
       "      <td>GB</td>\n",
       "      <td>1996</td>\n",
       "      <td>Role-Playing</td>\n",
       "      <td>11.27</td>\n",
       "      <td>8.89</td>\n",
       "      <td>10.22</td>\n",
       "      <td>1.00</td>\n",
       "      <td>NaN</td>\n",
       "      <td>NaN</td>\n",
       "      <td>NaN</td>\n",
       "    </tr>\n",
       "  </tbody>\n",
       "</table>\n",
       "</div>"
      ],
      "text/plain": [
       "                       name platform  year_of_release         genre  na_sales  \\\n",
       "0                Wii Sports      Wii             2006        Sports     41.36   \n",
       "1         Super Mario Bros.      NES             1985      Platform     29.08   \n",
       "2            Mario Kart Wii      Wii             2008        Racing     15.68   \n",
       "3         Wii Sports Resort      Wii             2009        Sports     15.61   \n",
       "4  Pokemon Red/Pokemon Blue       GB             1996  Role-Playing     11.27   \n",
       "\n",
       "   eu_sales  jp_sales  other_sales  critic_score user_score rating  \n",
       "0     28.96      3.77         8.45          76.0          8      E  \n",
       "1      3.58      6.81         0.77           NaN        NaN    NaN  \n",
       "2     12.76      3.79         3.29          82.0        8.3      E  \n",
       "3     10.93      3.28         2.95          80.0          8      E  \n",
       "4      8.89     10.22         1.00           NaN        NaN    NaN  "
      ]
     },
     "metadata": {},
     "output_type": "display_data"
    },
    {
     "name": "stdout",
     "output_type": "stream",
     "text": [
      "<class 'pandas.core.frame.DataFrame'>\n",
      "RangeIndex: 16715 entries, 0 to 16714\n",
      "Data columns (total 11 columns):\n",
      " #   Column           Non-Null Count  Dtype  \n",
      "---  ------           --------------  -----  \n",
      " 0   name             16713 non-null  object \n",
      " 1   platform         16715 non-null  object \n",
      " 2   year_of_release  16446 non-null  Int64  \n",
      " 3   genre            16713 non-null  object \n",
      " 4   na_sales         16715 non-null  float64\n",
      " 5   eu_sales         16715 non-null  float64\n",
      " 6   jp_sales         16715 non-null  float64\n",
      " 7   other_sales      16715 non-null  float64\n",
      " 8   critic_score     8137 non-null   float64\n",
      " 9   user_score       10014 non-null  object \n",
      " 10  rating           9949 non-null   object \n",
      "dtypes: Int64(1), float64(5), object(5)\n",
      "memory usage: 1.4+ MB\n",
      "None\n"
     ]
    }
   ],
   "source": [
    "df['year_of_release'] = df['year_of_release'].astype('Int64')\n",
    "display(df.head())\n",
    "print(df.info())"
   ]
  },
  {
   "cell_type": "markdown",
   "metadata": {},
   "source": [
    "Тип данных в столбце year_of_release успешно изменен. В остальных столбцах тип верный"
   ]
  },
  {
   "cell_type": "markdown",
   "metadata": {},
   "source": [
    "### Обработка пропусков"
   ]
  },
  {
   "cell_type": "markdown",
   "metadata": {},
   "source": [
    "Как уже сообщалось выше, пропуски присутствуют в столбцах: name и genre (по 2 пропуска), year_of_release (269 пропусков), critic_score (8578 пропусков), user_score (6701 пропусков), rating (6766 пропусков). Скорее всего, пропуски возникли или из-за некорректной выгрузки, или от отсутствия необходимой информации.\n",
    "Методом isna() найдём 2 строки с пропусками в столбцах name и genre."
   ]
  },
  {
   "cell_type": "code",
   "execution_count": 5,
   "metadata": {},
   "outputs": [
    {
     "data": {
      "text/html": [
       "<div>\n",
       "<style scoped>\n",
       "    .dataframe tbody tr th:only-of-type {\n",
       "        vertical-align: middle;\n",
       "    }\n",
       "\n",
       "    .dataframe tbody tr th {\n",
       "        vertical-align: top;\n",
       "    }\n",
       "\n",
       "    .dataframe thead th {\n",
       "        text-align: right;\n",
       "    }\n",
       "</style>\n",
       "<table border=\"1\" class=\"dataframe\">\n",
       "  <thead>\n",
       "    <tr style=\"text-align: right;\">\n",
       "      <th></th>\n",
       "      <th>name</th>\n",
       "      <th>platform</th>\n",
       "      <th>year_of_release</th>\n",
       "      <th>genre</th>\n",
       "      <th>na_sales</th>\n",
       "      <th>eu_sales</th>\n",
       "      <th>jp_sales</th>\n",
       "      <th>other_sales</th>\n",
       "      <th>critic_score</th>\n",
       "      <th>user_score</th>\n",
       "      <th>rating</th>\n",
       "    </tr>\n",
       "  </thead>\n",
       "  <tbody>\n",
       "    <tr>\n",
       "      <th>659</th>\n",
       "      <td>NaN</td>\n",
       "      <td>GEN</td>\n",
       "      <td>1993</td>\n",
       "      <td>NaN</td>\n",
       "      <td>1.78</td>\n",
       "      <td>0.53</td>\n",
       "      <td>0.00</td>\n",
       "      <td>0.08</td>\n",
       "      <td>NaN</td>\n",
       "      <td>NaN</td>\n",
       "      <td>NaN</td>\n",
       "    </tr>\n",
       "    <tr>\n",
       "      <th>14244</th>\n",
       "      <td>NaN</td>\n",
       "      <td>GEN</td>\n",
       "      <td>1993</td>\n",
       "      <td>NaN</td>\n",
       "      <td>0.00</td>\n",
       "      <td>0.00</td>\n",
       "      <td>0.03</td>\n",
       "      <td>0.00</td>\n",
       "      <td>NaN</td>\n",
       "      <td>NaN</td>\n",
       "      <td>NaN</td>\n",
       "    </tr>\n",
       "  </tbody>\n",
       "</table>\n",
       "</div>"
      ],
      "text/plain": [
       "      name platform  year_of_release genre  na_sales  eu_sales  jp_sales  \\\n",
       "659    NaN      GEN             1993   NaN      1.78      0.53      0.00   \n",
       "14244  NaN      GEN             1993   NaN      0.00      0.00      0.03   \n",
       "\n",
       "       other_sales  critic_score user_score rating  \n",
       "659           0.08           NaN        NaN    NaN  \n",
       "14244         0.00           NaN        NaN    NaN  "
      ]
     },
     "metadata": {},
     "output_type": "display_data"
    }
   ],
   "source": [
    "display(df[df['name'].isna()])"
   ]
  },
  {
   "cell_type": "markdown",
   "metadata": {},
   "source": [
    "Видим, что строки с пропусками в столбце name аналогичны строкам с пропусками в столбце genre. Продажи по этим \"безымянным\" играм мизерные, поэтому просто удалим эти строки."
   ]
  },
  {
   "cell_type": "code",
   "execution_count": 6,
   "metadata": {},
   "outputs": [
    {
     "name": "stdout",
     "output_type": "stream",
     "text": [
      "<class 'pandas.core.frame.DataFrame'>\n",
      "Int64Index: 16713 entries, 0 to 16714\n",
      "Data columns (total 11 columns):\n",
      " #   Column           Non-Null Count  Dtype  \n",
      "---  ------           --------------  -----  \n",
      " 0   name             16713 non-null  object \n",
      " 1   platform         16713 non-null  object \n",
      " 2   year_of_release  16444 non-null  Int64  \n",
      " 3   genre            16713 non-null  object \n",
      " 4   na_sales         16713 non-null  float64\n",
      " 5   eu_sales         16713 non-null  float64\n",
      " 6   jp_sales         16713 non-null  float64\n",
      " 7   other_sales      16713 non-null  float64\n",
      " 8   critic_score     8137 non-null   float64\n",
      " 9   user_score       10014 non-null  object \n",
      " 10  rating           9949 non-null   object \n",
      "dtypes: Int64(1), float64(5), object(5)\n",
      "memory usage: 1.5+ MB\n",
      "None\n"
     ]
    }
   ],
   "source": [
    "df = df.dropna(subset=['name'])\n",
    "print(df.info())"
   ]
  },
  {
   "cell_type": "markdown",
   "metadata": {},
   "source": [
    "Да, эти строки удалены. Перейдем к столбцу year_of_release. Посмотрим на строки с пропусками"
   ]
  },
  {
   "cell_type": "code",
   "execution_count": 7,
   "metadata": {},
   "outputs": [
    {
     "data": {
      "text/html": [
       "<div>\n",
       "<style scoped>\n",
       "    .dataframe tbody tr th:only-of-type {\n",
       "        vertical-align: middle;\n",
       "    }\n",
       "\n",
       "    .dataframe tbody tr th {\n",
       "        vertical-align: top;\n",
       "    }\n",
       "\n",
       "    .dataframe thead th {\n",
       "        text-align: right;\n",
       "    }\n",
       "</style>\n",
       "<table border=\"1\" class=\"dataframe\">\n",
       "  <thead>\n",
       "    <tr style=\"text-align: right;\">\n",
       "      <th></th>\n",
       "      <th>name</th>\n",
       "      <th>platform</th>\n",
       "      <th>year_of_release</th>\n",
       "      <th>genre</th>\n",
       "      <th>na_sales</th>\n",
       "      <th>eu_sales</th>\n",
       "      <th>jp_sales</th>\n",
       "      <th>other_sales</th>\n",
       "      <th>critic_score</th>\n",
       "      <th>user_score</th>\n",
       "      <th>rating</th>\n",
       "    </tr>\n",
       "  </thead>\n",
       "  <tbody>\n",
       "    <tr>\n",
       "      <th>183</th>\n",
       "      <td>Madden NFL 2004</td>\n",
       "      <td>PS2</td>\n",
       "      <td>&lt;NA&gt;</td>\n",
       "      <td>Sports</td>\n",
       "      <td>4.26</td>\n",
       "      <td>0.26</td>\n",
       "      <td>0.01</td>\n",
       "      <td>0.71</td>\n",
       "      <td>94.0</td>\n",
       "      <td>8.5</td>\n",
       "      <td>E</td>\n",
       "    </tr>\n",
       "    <tr>\n",
       "      <th>377</th>\n",
       "      <td>FIFA Soccer 2004</td>\n",
       "      <td>PS2</td>\n",
       "      <td>&lt;NA&gt;</td>\n",
       "      <td>Sports</td>\n",
       "      <td>0.59</td>\n",
       "      <td>2.36</td>\n",
       "      <td>0.04</td>\n",
       "      <td>0.51</td>\n",
       "      <td>84.0</td>\n",
       "      <td>6.4</td>\n",
       "      <td>E</td>\n",
       "    </tr>\n",
       "    <tr>\n",
       "      <th>456</th>\n",
       "      <td>LEGO Batman: The Videogame</td>\n",
       "      <td>Wii</td>\n",
       "      <td>&lt;NA&gt;</td>\n",
       "      <td>Action</td>\n",
       "      <td>1.80</td>\n",
       "      <td>0.97</td>\n",
       "      <td>0.00</td>\n",
       "      <td>0.29</td>\n",
       "      <td>74.0</td>\n",
       "      <td>7.9</td>\n",
       "      <td>E10+</td>\n",
       "    </tr>\n",
       "    <tr>\n",
       "      <th>475</th>\n",
       "      <td>wwe Smackdown vs. Raw 2006</td>\n",
       "      <td>PS2</td>\n",
       "      <td>&lt;NA&gt;</td>\n",
       "      <td>Fighting</td>\n",
       "      <td>1.57</td>\n",
       "      <td>1.02</td>\n",
       "      <td>0.00</td>\n",
       "      <td>0.41</td>\n",
       "      <td>NaN</td>\n",
       "      <td>NaN</td>\n",
       "      <td>NaN</td>\n",
       "    </tr>\n",
       "    <tr>\n",
       "      <th>609</th>\n",
       "      <td>Space Invaders</td>\n",
       "      <td>2600</td>\n",
       "      <td>&lt;NA&gt;</td>\n",
       "      <td>Shooter</td>\n",
       "      <td>2.36</td>\n",
       "      <td>0.14</td>\n",
       "      <td>0.00</td>\n",
       "      <td>0.03</td>\n",
       "      <td>NaN</td>\n",
       "      <td>NaN</td>\n",
       "      <td>NaN</td>\n",
       "    </tr>\n",
       "    <tr>\n",
       "      <th>...</th>\n",
       "      <td>...</td>\n",
       "      <td>...</td>\n",
       "      <td>...</td>\n",
       "      <td>...</td>\n",
       "      <td>...</td>\n",
       "      <td>...</td>\n",
       "      <td>...</td>\n",
       "      <td>...</td>\n",
       "      <td>...</td>\n",
       "      <td>...</td>\n",
       "      <td>...</td>\n",
       "    </tr>\n",
       "    <tr>\n",
       "      <th>16373</th>\n",
       "      <td>PDC World Championship Darts 2008</td>\n",
       "      <td>PSP</td>\n",
       "      <td>&lt;NA&gt;</td>\n",
       "      <td>Sports</td>\n",
       "      <td>0.01</td>\n",
       "      <td>0.00</td>\n",
       "      <td>0.00</td>\n",
       "      <td>0.00</td>\n",
       "      <td>43.0</td>\n",
       "      <td>tbd</td>\n",
       "      <td>E10+</td>\n",
       "    </tr>\n",
       "    <tr>\n",
       "      <th>16405</th>\n",
       "      <td>Freaky Flyers</td>\n",
       "      <td>GC</td>\n",
       "      <td>&lt;NA&gt;</td>\n",
       "      <td>Racing</td>\n",
       "      <td>0.01</td>\n",
       "      <td>0.00</td>\n",
       "      <td>0.00</td>\n",
       "      <td>0.00</td>\n",
       "      <td>69.0</td>\n",
       "      <td>6.5</td>\n",
       "      <td>T</td>\n",
       "    </tr>\n",
       "    <tr>\n",
       "      <th>16448</th>\n",
       "      <td>Inversion</td>\n",
       "      <td>PC</td>\n",
       "      <td>&lt;NA&gt;</td>\n",
       "      <td>Shooter</td>\n",
       "      <td>0.01</td>\n",
       "      <td>0.00</td>\n",
       "      <td>0.00</td>\n",
       "      <td>0.00</td>\n",
       "      <td>59.0</td>\n",
       "      <td>6.7</td>\n",
       "      <td>M</td>\n",
       "    </tr>\n",
       "    <tr>\n",
       "      <th>16458</th>\n",
       "      <td>Hakuouki: Shinsengumi Kitan</td>\n",
       "      <td>PS3</td>\n",
       "      <td>&lt;NA&gt;</td>\n",
       "      <td>Adventure</td>\n",
       "      <td>0.01</td>\n",
       "      <td>0.00</td>\n",
       "      <td>0.00</td>\n",
       "      <td>0.00</td>\n",
       "      <td>NaN</td>\n",
       "      <td>NaN</td>\n",
       "      <td>NaN</td>\n",
       "    </tr>\n",
       "    <tr>\n",
       "      <th>16522</th>\n",
       "      <td>Virtua Quest</td>\n",
       "      <td>GC</td>\n",
       "      <td>&lt;NA&gt;</td>\n",
       "      <td>Role-Playing</td>\n",
       "      <td>0.01</td>\n",
       "      <td>0.00</td>\n",
       "      <td>0.00</td>\n",
       "      <td>0.00</td>\n",
       "      <td>55.0</td>\n",
       "      <td>5.5</td>\n",
       "      <td>T</td>\n",
       "    </tr>\n",
       "  </tbody>\n",
       "</table>\n",
       "<p>269 rows × 11 columns</p>\n",
       "</div>"
      ],
      "text/plain": [
       "                                    name platform  year_of_release  \\\n",
       "183                      Madden NFL 2004      PS2             <NA>   \n",
       "377                     FIFA Soccer 2004      PS2             <NA>   \n",
       "456           LEGO Batman: The Videogame      Wii             <NA>   \n",
       "475           wwe Smackdown vs. Raw 2006      PS2             <NA>   \n",
       "609                       Space Invaders     2600             <NA>   \n",
       "...                                  ...      ...              ...   \n",
       "16373  PDC World Championship Darts 2008      PSP             <NA>   \n",
       "16405                      Freaky Flyers       GC             <NA>   \n",
       "16448                          Inversion       PC             <NA>   \n",
       "16458        Hakuouki: Shinsengumi Kitan      PS3             <NA>   \n",
       "16522                       Virtua Quest       GC             <NA>   \n",
       "\n",
       "              genre  na_sales  eu_sales  jp_sales  other_sales  critic_score  \\\n",
       "183          Sports      4.26      0.26      0.01         0.71          94.0   \n",
       "377          Sports      0.59      2.36      0.04         0.51          84.0   \n",
       "456          Action      1.80      0.97      0.00         0.29          74.0   \n",
       "475        Fighting      1.57      1.02      0.00         0.41           NaN   \n",
       "609         Shooter      2.36      0.14      0.00         0.03           NaN   \n",
       "...             ...       ...       ...       ...          ...           ...   \n",
       "16373        Sports      0.01      0.00      0.00         0.00          43.0   \n",
       "16405        Racing      0.01      0.00      0.00         0.00          69.0   \n",
       "16448       Shooter      0.01      0.00      0.00         0.00          59.0   \n",
       "16458     Adventure      0.01      0.00      0.00         0.00           NaN   \n",
       "16522  Role-Playing      0.01      0.00      0.00         0.00          55.0   \n",
       "\n",
       "      user_score rating  \n",
       "183          8.5      E  \n",
       "377          6.4      E  \n",
       "456          7.9   E10+  \n",
       "475          NaN    NaN  \n",
       "609          NaN    NaN  \n",
       "...          ...    ...  \n",
       "16373        tbd   E10+  \n",
       "16405        6.5      T  \n",
       "16448        6.7      M  \n",
       "16458        NaN    NaN  \n",
       "16522        5.5      T  \n",
       "\n",
       "[269 rows x 11 columns]"
      ]
     },
     "metadata": {},
     "output_type": "display_data"
    }
   ],
   "source": [
    "display(df[df['year_of_release'].isna()])"
   ]
  },
  {
   "cell_type": "markdown",
   "metadata": {},
   "source": [
    "Каких-либо закономерностей с пропусками не заметно, скорее всего, забыли указать при формировании данных. Заменим пропуски в данном столбце медианным значением по годам платформы, т.к. скорее всего игра на данной платформе выходила именно в те года, когда данная платформа поддерживалась."
   ]
  },
  {
   "cell_type": "code",
   "execution_count": 8,
   "metadata": {},
   "outputs": [
    {
     "name": "stdout",
     "output_type": "stream",
     "text": [
      "<class 'pandas.core.frame.DataFrame'>\n",
      "Int64Index: 16713 entries, 0 to 16714\n",
      "Data columns (total 11 columns):\n",
      " #   Column           Non-Null Count  Dtype  \n",
      "---  ------           --------------  -----  \n",
      " 0   name             16713 non-null  object \n",
      " 1   platform         16713 non-null  object \n",
      " 2   year_of_release  16713 non-null  Int64  \n",
      " 3   genre            16713 non-null  object \n",
      " 4   na_sales         16713 non-null  float64\n",
      " 5   eu_sales         16713 non-null  float64\n",
      " 6   jp_sales         16713 non-null  float64\n",
      " 7   other_sales      16713 non-null  float64\n",
      " 8   critic_score     8137 non-null   float64\n",
      " 9   user_score       10014 non-null  object \n",
      " 10  rating           9949 non-null   object \n",
      "dtypes: Int64(1), float64(5), object(5)\n",
      "memory usage: 1.5+ MB\n",
      "None\n"
     ]
    }
   ],
   "source": [
    "df['year_of_release'] = df['year_of_release'].fillna(df.groupby('platform')['year_of_release'].transform('median'))\n",
    "print(df.info())"
   ]
  },
  {
   "cell_type": "markdown",
   "metadata": {},
   "source": [
    "Да, теперь пропусков в столбце year_of_release нет. Перейдем к столбцам с рейтингами critic_score, user_score, rating. Посмотрим на уникальные значения в этих столбцах."
   ]
  },
  {
   "cell_type": "code",
   "execution_count": 9,
   "metadata": {},
   "outputs": [
    {
     "data": {
      "text/html": [
       "<div>\n",
       "<style scoped>\n",
       "    .dataframe tbody tr th:only-of-type {\n",
       "        vertical-align: middle;\n",
       "    }\n",
       "\n",
       "    .dataframe tbody tr th {\n",
       "        vertical-align: top;\n",
       "    }\n",
       "\n",
       "    .dataframe thead th {\n",
       "        text-align: right;\n",
       "    }\n",
       "</style>\n",
       "<table border=\"1\" class=\"dataframe\">\n",
       "  <thead>\n",
       "    <tr style=\"text-align: right;\">\n",
       "      <th></th>\n",
       "      <th>name</th>\n",
       "      <th>platform</th>\n",
       "      <th>year_of_release</th>\n",
       "      <th>genre</th>\n",
       "      <th>na_sales</th>\n",
       "      <th>eu_sales</th>\n",
       "      <th>jp_sales</th>\n",
       "      <th>other_sales</th>\n",
       "      <th>critic_score</th>\n",
       "      <th>user_score</th>\n",
       "      <th>rating</th>\n",
       "    </tr>\n",
       "  </thead>\n",
       "  <tbody>\n",
       "    <tr>\n",
       "      <th>1</th>\n",
       "      <td>Super Mario Bros.</td>\n",
       "      <td>NES</td>\n",
       "      <td>1985</td>\n",
       "      <td>Platform</td>\n",
       "      <td>29.08</td>\n",
       "      <td>3.58</td>\n",
       "      <td>6.81</td>\n",
       "      <td>0.77</td>\n",
       "      <td>NaN</td>\n",
       "      <td>NaN</td>\n",
       "      <td>NaN</td>\n",
       "    </tr>\n",
       "    <tr>\n",
       "      <th>4</th>\n",
       "      <td>Pokemon Red/Pokemon Blue</td>\n",
       "      <td>GB</td>\n",
       "      <td>1996</td>\n",
       "      <td>Role-Playing</td>\n",
       "      <td>11.27</td>\n",
       "      <td>8.89</td>\n",
       "      <td>10.22</td>\n",
       "      <td>1.00</td>\n",
       "      <td>NaN</td>\n",
       "      <td>NaN</td>\n",
       "      <td>NaN</td>\n",
       "    </tr>\n",
       "    <tr>\n",
       "      <th>5</th>\n",
       "      <td>Tetris</td>\n",
       "      <td>GB</td>\n",
       "      <td>1989</td>\n",
       "      <td>Puzzle</td>\n",
       "      <td>23.20</td>\n",
       "      <td>2.26</td>\n",
       "      <td>4.22</td>\n",
       "      <td>0.58</td>\n",
       "      <td>NaN</td>\n",
       "      <td>NaN</td>\n",
       "      <td>NaN</td>\n",
       "    </tr>\n",
       "    <tr>\n",
       "      <th>9</th>\n",
       "      <td>Duck Hunt</td>\n",
       "      <td>NES</td>\n",
       "      <td>1984</td>\n",
       "      <td>Shooter</td>\n",
       "      <td>26.93</td>\n",
       "      <td>0.63</td>\n",
       "      <td>0.28</td>\n",
       "      <td>0.47</td>\n",
       "      <td>NaN</td>\n",
       "      <td>NaN</td>\n",
       "      <td>NaN</td>\n",
       "    </tr>\n",
       "    <tr>\n",
       "      <th>10</th>\n",
       "      <td>Nintendogs</td>\n",
       "      <td>DS</td>\n",
       "      <td>2005</td>\n",
       "      <td>Simulation</td>\n",
       "      <td>9.05</td>\n",
       "      <td>10.95</td>\n",
       "      <td>1.93</td>\n",
       "      <td>2.74</td>\n",
       "      <td>NaN</td>\n",
       "      <td>NaN</td>\n",
       "      <td>NaN</td>\n",
       "    </tr>\n",
       "    <tr>\n",
       "      <th>...</th>\n",
       "      <td>...</td>\n",
       "      <td>...</td>\n",
       "      <td>...</td>\n",
       "      <td>...</td>\n",
       "      <td>...</td>\n",
       "      <td>...</td>\n",
       "      <td>...</td>\n",
       "      <td>...</td>\n",
       "      <td>...</td>\n",
       "      <td>...</td>\n",
       "      <td>...</td>\n",
       "    </tr>\n",
       "    <tr>\n",
       "      <th>16710</th>\n",
       "      <td>Samurai Warriors: Sanada Maru</td>\n",
       "      <td>PS3</td>\n",
       "      <td>2016</td>\n",
       "      <td>Action</td>\n",
       "      <td>0.00</td>\n",
       "      <td>0.00</td>\n",
       "      <td>0.01</td>\n",
       "      <td>0.00</td>\n",
       "      <td>NaN</td>\n",
       "      <td>NaN</td>\n",
       "      <td>NaN</td>\n",
       "    </tr>\n",
       "    <tr>\n",
       "      <th>16711</th>\n",
       "      <td>LMA Manager 2007</td>\n",
       "      <td>X360</td>\n",
       "      <td>2006</td>\n",
       "      <td>Sports</td>\n",
       "      <td>0.00</td>\n",
       "      <td>0.01</td>\n",
       "      <td>0.00</td>\n",
       "      <td>0.00</td>\n",
       "      <td>NaN</td>\n",
       "      <td>NaN</td>\n",
       "      <td>NaN</td>\n",
       "    </tr>\n",
       "    <tr>\n",
       "      <th>16712</th>\n",
       "      <td>Haitaka no Psychedelica</td>\n",
       "      <td>PSV</td>\n",
       "      <td>2016</td>\n",
       "      <td>Adventure</td>\n",
       "      <td>0.00</td>\n",
       "      <td>0.00</td>\n",
       "      <td>0.01</td>\n",
       "      <td>0.00</td>\n",
       "      <td>NaN</td>\n",
       "      <td>NaN</td>\n",
       "      <td>NaN</td>\n",
       "    </tr>\n",
       "    <tr>\n",
       "      <th>16713</th>\n",
       "      <td>Spirits &amp; Spells</td>\n",
       "      <td>GBA</td>\n",
       "      <td>2003</td>\n",
       "      <td>Platform</td>\n",
       "      <td>0.01</td>\n",
       "      <td>0.00</td>\n",
       "      <td>0.00</td>\n",
       "      <td>0.00</td>\n",
       "      <td>NaN</td>\n",
       "      <td>NaN</td>\n",
       "      <td>NaN</td>\n",
       "    </tr>\n",
       "    <tr>\n",
       "      <th>16714</th>\n",
       "      <td>Winning Post 8 2016</td>\n",
       "      <td>PSV</td>\n",
       "      <td>2016</td>\n",
       "      <td>Simulation</td>\n",
       "      <td>0.00</td>\n",
       "      <td>0.00</td>\n",
       "      <td>0.01</td>\n",
       "      <td>0.00</td>\n",
       "      <td>NaN</td>\n",
       "      <td>NaN</td>\n",
       "      <td>NaN</td>\n",
       "    </tr>\n",
       "  </tbody>\n",
       "</table>\n",
       "<p>8576 rows × 11 columns</p>\n",
       "</div>"
      ],
      "text/plain": [
       "                                name platform  year_of_release         genre  \\\n",
       "1                  Super Mario Bros.      NES             1985      Platform   \n",
       "4           Pokemon Red/Pokemon Blue       GB             1996  Role-Playing   \n",
       "5                             Tetris       GB             1989        Puzzle   \n",
       "9                          Duck Hunt      NES             1984       Shooter   \n",
       "10                        Nintendogs       DS             2005    Simulation   \n",
       "...                              ...      ...              ...           ...   \n",
       "16710  Samurai Warriors: Sanada Maru      PS3             2016        Action   \n",
       "16711               LMA Manager 2007     X360             2006        Sports   \n",
       "16712        Haitaka no Psychedelica      PSV             2016     Adventure   \n",
       "16713               Spirits & Spells      GBA             2003      Platform   \n",
       "16714            Winning Post 8 2016      PSV             2016    Simulation   \n",
       "\n",
       "       na_sales  eu_sales  jp_sales  other_sales  critic_score user_score  \\\n",
       "1         29.08      3.58      6.81         0.77           NaN        NaN   \n",
       "4         11.27      8.89     10.22         1.00           NaN        NaN   \n",
       "5         23.20      2.26      4.22         0.58           NaN        NaN   \n",
       "9         26.93      0.63      0.28         0.47           NaN        NaN   \n",
       "10         9.05     10.95      1.93         2.74           NaN        NaN   \n",
       "...         ...       ...       ...          ...           ...        ...   \n",
       "16710      0.00      0.00      0.01         0.00           NaN        NaN   \n",
       "16711      0.00      0.01      0.00         0.00           NaN        NaN   \n",
       "16712      0.00      0.00      0.01         0.00           NaN        NaN   \n",
       "16713      0.01      0.00      0.00         0.00           NaN        NaN   \n",
       "16714      0.00      0.00      0.01         0.00           NaN        NaN   \n",
       "\n",
       "      rating  \n",
       "1        NaN  \n",
       "4        NaN  \n",
       "5        NaN  \n",
       "9        NaN  \n",
       "10       NaN  \n",
       "...      ...  \n",
       "16710    NaN  \n",
       "16711    NaN  \n",
       "16712    NaN  \n",
       "16713    NaN  \n",
       "16714    NaN  \n",
       "\n",
       "[8576 rows x 11 columns]"
      ]
     },
     "metadata": {},
     "output_type": "display_data"
    },
    {
     "data": {
      "text/plain": [
       "array([76., nan, 82., 80., 89., 58., 87., 91., 61., 97., 95., 77., 88.,\n",
       "       83., 94., 93., 85., 86., 98., 96., 90., 84., 73., 74., 78., 92.,\n",
       "       71., 72., 68., 62., 49., 67., 81., 66., 56., 79., 70., 59., 64.,\n",
       "       75., 60., 63., 69., 50., 25., 42., 44., 55., 48., 57., 29., 47.,\n",
       "       65., 54., 20., 53., 37., 38., 33., 52., 30., 32., 43., 45., 51.,\n",
       "       40., 46., 39., 34., 35., 41., 36., 28., 31., 27., 26., 19., 23.,\n",
       "       24., 21., 17., 22., 13.])"
      ]
     },
     "execution_count": 9,
     "metadata": {},
     "output_type": "execute_result"
    }
   ],
   "source": [
    "display(df[df['critic_score'].isna()])\n",
    "df['critic_score'].unique()"
   ]
  },
  {
   "cell_type": "code",
   "execution_count": 10,
   "metadata": {},
   "outputs": [
    {
     "data": {
      "text/plain": [
       "array(['8', nan, '8.3', '8.5', '6.6', '8.4', '8.6', '7.7', '6.3', '7.4',\n",
       "       '8.2', '9', '7.9', '8.1', '8.7', '7.1', '3.4', '5.3', '4.8', '3.2',\n",
       "       '8.9', '6.4', '7.8', '7.5', '2.6', '7.2', '9.2', '7', '7.3', '4.3',\n",
       "       '7.6', '5.7', '5', '9.1', '6.5', 'tbd', '8.8', '6.9', '9.4', '6.8',\n",
       "       '6.1', '6.7', '5.4', '4', '4.9', '4.5', '9.3', '6.2', '4.2', '6',\n",
       "       '3.7', '4.1', '5.8', '5.6', '5.5', '4.4', '4.6', '5.9', '3.9',\n",
       "       '3.1', '2.9', '5.2', '3.3', '4.7', '5.1', '3.5', '2.5', '1.9', '3',\n",
       "       '2.7', '2.2', '2', '9.5', '2.1', '3.6', '2.8', '1.8', '3.8', '0',\n",
       "       '1.6', '9.6', '2.4', '1.7', '1.1', '0.3', '1.5', '0.7', '1.2',\n",
       "       '2.3', '0.5', '1.3', '0.2', '0.6', '1.4', '0.9', '1', '9.7'],\n",
       "      dtype=object)"
      ]
     },
     "execution_count": 10,
     "metadata": {},
     "output_type": "execute_result"
    }
   ],
   "source": [
    "df['user_score'].unique()"
   ]
  },
  {
   "cell_type": "code",
   "execution_count": 11,
   "metadata": {},
   "outputs": [
    {
     "data": {
      "text/plain": [
       "array(['E', nan, 'M', 'T', 'E10+', 'K-A', 'AO', 'EC', 'RP'], dtype=object)"
      ]
     },
     "execution_count": 11,
     "metadata": {},
     "output_type": "execute_result"
    }
   ],
   "source": [
    "df['rating'].unique()"
   ]
  },
  {
   "cell_type": "markdown",
   "metadata": {},
   "source": [
    "Видим, что в столбце user_score присутствует аббревиатура tbd (to be determined, т.е. подлежит определению). Т.к. нам необходимо заменить тип данных в этом столбце на float, заменим tbd на nan. Пропуски в столбцах с оценками не будем заполнять."
   ]
  },
  {
   "cell_type": "code",
   "execution_count": 12,
   "metadata": {},
   "outputs": [],
   "source": [
    "df['user_score'] = df['user_score'].replace('tbd', 'nan')\n"
   ]
  },
  {
   "cell_type": "markdown",
   "metadata": {},
   "source": [
    "Т.к. отсутствие оценки не равно нулевой оценке, пропуски в оценках вообще не будем ничем заполнять\n"
   ]
  },
  {
   "cell_type": "code",
   "execution_count": 13,
   "metadata": {},
   "outputs": [],
   "source": [
    "df['user_score'] = df['user_score'].astype('float64')"
   ]
  },
  {
   "cell_type": "code",
   "execution_count": 14,
   "metadata": {},
   "outputs": [
    {
     "data": {
      "text/plain": [
       "array([8. , nan, 8.3, 8.5, 6.6, 8.4, 8.6, 7.7, 6.3, 7.4, 8.2, 9. , 7.9,\n",
       "       8.1, 8.7, 7.1, 3.4, 5.3, 4.8, 3.2, 8.9, 6.4, 7.8, 7.5, 2.6, 7.2,\n",
       "       9.2, 7. , 7.3, 4.3, 7.6, 5.7, 5. , 9.1, 6.5, 8.8, 6.9, 9.4, 6.8,\n",
       "       6.1, 6.7, 5.4, 4. , 4.9, 4.5, 9.3, 6.2, 4.2, 6. , 3.7, 4.1, 5.8,\n",
       "       5.6, 5.5, 4.4, 4.6, 5.9, 3.9, 3.1, 2.9, 5.2, 3.3, 4.7, 5.1, 3.5,\n",
       "       2.5, 1.9, 3. , 2.7, 2.2, 2. , 9.5, 2.1, 3.6, 2.8, 1.8, 3.8, 0. ,\n",
       "       1.6, 9.6, 2.4, 1.7, 1.1, 0.3, 1.5, 0.7, 1.2, 2.3, 0.5, 1.3, 0.2,\n",
       "       0.6, 1.4, 0.9, 1. , 9.7])"
      ]
     },
     "execution_count": 14,
     "metadata": {},
     "output_type": "execute_result"
    }
   ],
   "source": [
    "df['user_score'].unique()"
   ]
  },
  {
   "cell_type": "code",
   "execution_count": 15,
   "metadata": {},
   "outputs": [
    {
     "name": "stdout",
     "output_type": "stream",
     "text": [
      "<class 'pandas.core.frame.DataFrame'>\n",
      "Int64Index: 16713 entries, 0 to 16714\n",
      "Data columns (total 11 columns):\n",
      " #   Column           Non-Null Count  Dtype  \n",
      "---  ------           --------------  -----  \n",
      " 0   name             16713 non-null  object \n",
      " 1   platform         16713 non-null  object \n",
      " 2   year_of_release  16713 non-null  Int64  \n",
      " 3   genre            16713 non-null  object \n",
      " 4   na_sales         16713 non-null  float64\n",
      " 5   eu_sales         16713 non-null  float64\n",
      " 6   jp_sales         16713 non-null  float64\n",
      " 7   other_sales      16713 non-null  float64\n",
      " 8   critic_score     8137 non-null   float64\n",
      " 9   user_score       7590 non-null   float64\n",
      " 10  rating           9949 non-null   object \n",
      "dtypes: Int64(1), float64(6), object(4)\n",
      "memory usage: 1.5+ MB\n",
      "None\n"
     ]
    }
   ],
   "source": [
    "print(df.info())"
   ]
  },
  {
   "cell_type": "markdown",
   "metadata": {},
   "source": [
    "Тип данных в столбце user_score изменен на float. Перейдем к подсчету суммарных продаж."
   ]
  },
  {
   "cell_type": "markdown",
   "metadata": {},
   "source": [
    "### Расчет суммарных продаж по всем регионам"
   ]
  },
  {
   "cell_type": "markdown",
   "metadata": {},
   "source": [
    "Создади новый столбец all_sales, куда добавим суммарную стоимость продаж по всем регионам."
   ]
  },
  {
   "cell_type": "code",
   "execution_count": 16,
   "metadata": {},
   "outputs": [
    {
     "data": {
      "text/html": [
       "<div>\n",
       "<style scoped>\n",
       "    .dataframe tbody tr th:only-of-type {\n",
       "        vertical-align: middle;\n",
       "    }\n",
       "\n",
       "    .dataframe tbody tr th {\n",
       "        vertical-align: top;\n",
       "    }\n",
       "\n",
       "    .dataframe thead th {\n",
       "        text-align: right;\n",
       "    }\n",
       "</style>\n",
       "<table border=\"1\" class=\"dataframe\">\n",
       "  <thead>\n",
       "    <tr style=\"text-align: right;\">\n",
       "      <th></th>\n",
       "      <th>name</th>\n",
       "      <th>platform</th>\n",
       "      <th>year_of_release</th>\n",
       "      <th>genre</th>\n",
       "      <th>na_sales</th>\n",
       "      <th>eu_sales</th>\n",
       "      <th>jp_sales</th>\n",
       "      <th>other_sales</th>\n",
       "      <th>critic_score</th>\n",
       "      <th>user_score</th>\n",
       "      <th>rating</th>\n",
       "      <th>all_sales</th>\n",
       "    </tr>\n",
       "  </thead>\n",
       "  <tbody>\n",
       "    <tr>\n",
       "      <th>0</th>\n",
       "      <td>Wii Sports</td>\n",
       "      <td>Wii</td>\n",
       "      <td>2006</td>\n",
       "      <td>Sports</td>\n",
       "      <td>41.36</td>\n",
       "      <td>28.96</td>\n",
       "      <td>3.77</td>\n",
       "      <td>8.45</td>\n",
       "      <td>76.0</td>\n",
       "      <td>8.0</td>\n",
       "      <td>E</td>\n",
       "      <td>82.54</td>\n",
       "    </tr>\n",
       "    <tr>\n",
       "      <th>1</th>\n",
       "      <td>Super Mario Bros.</td>\n",
       "      <td>NES</td>\n",
       "      <td>1985</td>\n",
       "      <td>Platform</td>\n",
       "      <td>29.08</td>\n",
       "      <td>3.58</td>\n",
       "      <td>6.81</td>\n",
       "      <td>0.77</td>\n",
       "      <td>NaN</td>\n",
       "      <td>NaN</td>\n",
       "      <td>NaN</td>\n",
       "      <td>40.24</td>\n",
       "    </tr>\n",
       "    <tr>\n",
       "      <th>2</th>\n",
       "      <td>Mario Kart Wii</td>\n",
       "      <td>Wii</td>\n",
       "      <td>2008</td>\n",
       "      <td>Racing</td>\n",
       "      <td>15.68</td>\n",
       "      <td>12.76</td>\n",
       "      <td>3.79</td>\n",
       "      <td>3.29</td>\n",
       "      <td>82.0</td>\n",
       "      <td>8.3</td>\n",
       "      <td>E</td>\n",
       "      <td>35.52</td>\n",
       "    </tr>\n",
       "    <tr>\n",
       "      <th>3</th>\n",
       "      <td>Wii Sports Resort</td>\n",
       "      <td>Wii</td>\n",
       "      <td>2009</td>\n",
       "      <td>Sports</td>\n",
       "      <td>15.61</td>\n",
       "      <td>10.93</td>\n",
       "      <td>3.28</td>\n",
       "      <td>2.95</td>\n",
       "      <td>80.0</td>\n",
       "      <td>8.0</td>\n",
       "      <td>E</td>\n",
       "      <td>32.77</td>\n",
       "    </tr>\n",
       "    <tr>\n",
       "      <th>4</th>\n",
       "      <td>Pokemon Red/Pokemon Blue</td>\n",
       "      <td>GB</td>\n",
       "      <td>1996</td>\n",
       "      <td>Role-Playing</td>\n",
       "      <td>11.27</td>\n",
       "      <td>8.89</td>\n",
       "      <td>10.22</td>\n",
       "      <td>1.00</td>\n",
       "      <td>NaN</td>\n",
       "      <td>NaN</td>\n",
       "      <td>NaN</td>\n",
       "      <td>31.38</td>\n",
       "    </tr>\n",
       "    <tr>\n",
       "      <th>5</th>\n",
       "      <td>Tetris</td>\n",
       "      <td>GB</td>\n",
       "      <td>1989</td>\n",
       "      <td>Puzzle</td>\n",
       "      <td>23.20</td>\n",
       "      <td>2.26</td>\n",
       "      <td>4.22</td>\n",
       "      <td>0.58</td>\n",
       "      <td>NaN</td>\n",
       "      <td>NaN</td>\n",
       "      <td>NaN</td>\n",
       "      <td>30.26</td>\n",
       "    </tr>\n",
       "    <tr>\n",
       "      <th>6</th>\n",
       "      <td>New Super Mario Bros.</td>\n",
       "      <td>DS</td>\n",
       "      <td>2006</td>\n",
       "      <td>Platform</td>\n",
       "      <td>11.28</td>\n",
       "      <td>9.14</td>\n",
       "      <td>6.50</td>\n",
       "      <td>2.88</td>\n",
       "      <td>89.0</td>\n",
       "      <td>8.5</td>\n",
       "      <td>E</td>\n",
       "      <td>29.80</td>\n",
       "    </tr>\n",
       "    <tr>\n",
       "      <th>7</th>\n",
       "      <td>Wii Play</td>\n",
       "      <td>Wii</td>\n",
       "      <td>2006</td>\n",
       "      <td>Misc</td>\n",
       "      <td>13.96</td>\n",
       "      <td>9.18</td>\n",
       "      <td>2.93</td>\n",
       "      <td>2.84</td>\n",
       "      <td>58.0</td>\n",
       "      <td>6.6</td>\n",
       "      <td>E</td>\n",
       "      <td>28.91</td>\n",
       "    </tr>\n",
       "    <tr>\n",
       "      <th>8</th>\n",
       "      <td>New Super Mario Bros. Wii</td>\n",
       "      <td>Wii</td>\n",
       "      <td>2009</td>\n",
       "      <td>Platform</td>\n",
       "      <td>14.44</td>\n",
       "      <td>6.94</td>\n",
       "      <td>4.70</td>\n",
       "      <td>2.24</td>\n",
       "      <td>87.0</td>\n",
       "      <td>8.4</td>\n",
       "      <td>E</td>\n",
       "      <td>28.32</td>\n",
       "    </tr>\n",
       "    <tr>\n",
       "      <th>9</th>\n",
       "      <td>Duck Hunt</td>\n",
       "      <td>NES</td>\n",
       "      <td>1984</td>\n",
       "      <td>Shooter</td>\n",
       "      <td>26.93</td>\n",
       "      <td>0.63</td>\n",
       "      <td>0.28</td>\n",
       "      <td>0.47</td>\n",
       "      <td>NaN</td>\n",
       "      <td>NaN</td>\n",
       "      <td>NaN</td>\n",
       "      <td>28.31</td>\n",
       "    </tr>\n",
       "  </tbody>\n",
       "</table>\n",
       "</div>"
      ],
      "text/plain": [
       "                        name platform  year_of_release         genre  \\\n",
       "0                 Wii Sports      Wii             2006        Sports   \n",
       "1          Super Mario Bros.      NES             1985      Platform   \n",
       "2             Mario Kart Wii      Wii             2008        Racing   \n",
       "3          Wii Sports Resort      Wii             2009        Sports   \n",
       "4   Pokemon Red/Pokemon Blue       GB             1996  Role-Playing   \n",
       "5                     Tetris       GB             1989        Puzzle   \n",
       "6      New Super Mario Bros.       DS             2006      Platform   \n",
       "7                   Wii Play      Wii             2006          Misc   \n",
       "8  New Super Mario Bros. Wii      Wii             2009      Platform   \n",
       "9                  Duck Hunt      NES             1984       Shooter   \n",
       "\n",
       "   na_sales  eu_sales  jp_sales  other_sales  critic_score  user_score rating  \\\n",
       "0     41.36     28.96      3.77         8.45          76.0         8.0      E   \n",
       "1     29.08      3.58      6.81         0.77           NaN         NaN    NaN   \n",
       "2     15.68     12.76      3.79         3.29          82.0         8.3      E   \n",
       "3     15.61     10.93      3.28         2.95          80.0         8.0      E   \n",
       "4     11.27      8.89     10.22         1.00           NaN         NaN    NaN   \n",
       "5     23.20      2.26      4.22         0.58           NaN         NaN    NaN   \n",
       "6     11.28      9.14      6.50         2.88          89.0         8.5      E   \n",
       "7     13.96      9.18      2.93         2.84          58.0         6.6      E   \n",
       "8     14.44      6.94      4.70         2.24          87.0         8.4      E   \n",
       "9     26.93      0.63      0.28         0.47           NaN         NaN    NaN   \n",
       "\n",
       "   all_sales  \n",
       "0      82.54  \n",
       "1      40.24  \n",
       "2      35.52  \n",
       "3      32.77  \n",
       "4      31.38  \n",
       "5      30.26  \n",
       "6      29.80  \n",
       "7      28.91  \n",
       "8      28.32  \n",
       "9      28.31  "
      ]
     },
     "metadata": {},
     "output_type": "display_data"
    }
   ],
   "source": [
    "df['all_sales'] = df['na_sales'] + df['eu_sales'] + df['jp_sales'] + df['other_sales']\n",
    "display(df.head(10))"
   ]
  },
  {
   "cell_type": "markdown",
   "metadata": {},
   "source": [
    "Столбец добавлен, сумма рассчитана верно. Переходим к анализу данных."
   ]
  },
  {
   "cell_type": "markdown",
   "metadata": {},
   "source": [
    "## Исследовательский анализ данных"
   ]
  },
  {
   "cell_type": "markdown",
   "metadata": {},
   "source": [
    "### Динамика количества игр"
   ]
  },
  {
   "cell_type": "markdown",
   "metadata": {},
   "source": [
    "Посмотрим, сколько игр выпускалось в разные годы. Сгруппируем по годам выпуска, затем построим график."
   ]
  },
  {
   "cell_type": "code",
   "execution_count": 17,
   "metadata": {},
   "outputs": [
    {
     "data": {
      "text/plain": [
       "year_of_release\n",
       "1980       9\n",
       "1981      46\n",
       "1982      53\n",
       "1983      17\n",
       "1984      14\n",
       "1985      14\n",
       "1986      21\n",
       "1987      16\n",
       "1988      15\n",
       "1989      17\n",
       "1990      16\n",
       "1991      41\n",
       "1992      43\n",
       "1993      60\n",
       "1994     121\n",
       "1995     219\n",
       "1996     263\n",
       "1997     290\n",
       "1998     386\n",
       "1999     341\n",
       "2000     350\n",
       "2001     482\n",
       "2002     829\n",
       "2003     800\n",
       "2004     783\n",
       "2005     973\n",
       "2006    1006\n",
       "2007    1197\n",
       "2008    1457\n",
       "2009    1476\n",
       "2010    1302\n",
       "2011    1161\n",
       "2012     653\n",
       "2013     552\n",
       "2014     582\n",
       "2015     606\n",
       "2016     502\n",
       "Name: name, dtype: int64"
      ]
     },
     "metadata": {},
     "output_type": "display_data"
    }
   ],
   "source": [
    "name_grouping = df.groupby('year_of_release')['name'].count()\n",
    "display(name_grouping)"
   ]
  },
  {
   "cell_type": "code",
   "execution_count": 18,
   "metadata": {},
   "outputs": [
    {
     "data": {
      "image/png": "[encoded data removed]",
      "text/plain": [
       "<Figure size 864x432 with 1 Axes>"
      ]
     },
     "metadata": {
      "needs_background": "light"
     },
     "output_type": "display_data"
    }
   ],
   "source": [
    "name_grouping.plot(y='year_of_release', style='o-', title='Динамика выпуска игр', grid=True, figsize=(12, 6))\n",
    "plt.xlabel('Год выпуска игры')\n",
    "plt.ylabel('Количество игр')\n",
    "plt.show()"
   ]
  },
  {
   "cell_type": "markdown",
   "metadata": {},
   "source": [
    "Видим, что до 1994 года выпускалось менее 100 игр в год, далее идет плавный рост разработок и в 2000 году количество разрабатываемых игр составляет уже 350 в год. В 2000 году наблюдается резкий скачок в разработках, который достиг своего пика в 2009 году (1476 игр в год). После 2009 года количество разработок стало уменьшатся и в 2016 году составило 502 шт./год."
   ]
  },
  {
   "cell_type": "markdown",
   "metadata": {},
   "source": [
    "### Динамика продаж по платформам"
   ]
  },
  {
   "cell_type": "markdown",
   "metadata": {},
   "source": [
    "Для выявления наиболее перспективных платформ посмотрим на суммарные продажи по каждой платформе в годовой разбивке."
   ]
  },
  {
   "cell_type": "code",
   "execution_count": 19,
   "metadata": {},
   "outputs": [
    {
     "data": {
      "text/plain": [
       "platform  year_of_release\n",
       "2600      1980               11.38\n",
       "          1981               35.68\n",
       "          1982               39.38\n",
       "          1983                5.84\n",
       "          1984                0.27\n",
       "                             ...  \n",
       "XB        2008                0.18\n",
       "XOne      2013               18.96\n",
       "          2014               54.07\n",
       "          2015               60.14\n",
       "          2016               26.15\n",
       "Name: all_sales, Length: 238, dtype: float64"
      ]
     },
     "metadata": {},
     "output_type": "display_data"
    }
   ],
   "source": [
    "display(df.groupby(['platform', 'year_of_release'])['all_sales'].sum())\n"
   ]
  },
  {
   "cell_type": "markdown",
   "metadata": {},
   "source": [
    "Видим, что до 2016 года \"дожили\" следующие платформы: 3DS, PC, PS3, PS4, PSV, Wii, WiiU, X360, XOne. Дальнейший анализ будем вести по этим платформам. Построим график с суммарными продажами по данным платформам."
   ]
  },
  {
   "cell_type": "code",
   "execution_count": 20,
   "metadata": {},
   "outputs": [
    {
     "data": {
      "image/png": "[encoded data removed]",
      "text/plain": [
       "<Figure size 864x432 with 1 Axes>"
      ]
     },
     "metadata": {
      "needs_background": "light"
     },
     "output_type": "display_data"
    }
   ],
   "source": [
    "df_platform = df.query('platform in [\"3DS\", \"PC\", \"PS3\", \"PS4\", \"PSV\", \"Wii\", \"WiiU\", \"X360\", \"XOne\"]')\n",
    "df_platform.groupby(['platform', 'year_of_release'])['all_sales'].sum().unstack('platform').plot(style='o-', xlim=(2003, 2016), title='Динамика продаж по платформам', grid=True, figsize=(12, 6))\n",
    "plt.xlabel('Год')\n",
    "plt.ylabel('Продажи, млн.копий')\n",
    "plt.show()"
   ]
  },
  {
   "cell_type": "markdown",
   "metadata": {},
   "source": [
    "Из графика видно, что в среднем платформа \"живет\" от 7 лет (напр., GBA) до 11 лет (PS2, PS3). Но есть и исключения. Напр., РС жизнеспособна весь рассматриваемый период, но разработчики не особо любят писать на ней. За 3-5 лет до конца жизни одной платформы появляются одна или несколько новых, которые и вытесняют предыдущую. Видим, что к 2016 году из \"жизнеспособных\" осталась только PS4.\n",
    "Для дальнейшего анализа и построения прогнозов на 2017 год примем в качестве актуального период с 2014 года. Лидером продаж за выбранный период являются PS4 и XOne, но и они упали в продажах к 2016 году. Пик их продаж пришелся на 2015 год."
   ]
  },
  {
   "cell_type": "markdown",
   "metadata": {},
   "source": [
    "### «Ящик с усами» по глобальным продажам игр в разбивке по платформам"
   ]
  },
  {
   "cell_type": "code",
   "execution_count": 21,
   "metadata": {},
   "outputs": [
    {
     "data": {
      "image/png": "[encoded data removed]",
      "text/plain": [
       "<Figure size 1080x720 with 1 Axes>"
      ]
     },
     "metadata": {},
     "output_type": "display_data"
    }
   ],
   "source": [
    "sns.set(rc={'figure.figsize':(15,10)})\n",
    "fig = plt.figure()\n",
    "ax = fig.add_subplot(111, label=\"1\")\n",
    "ax = sns.boxplot(x='platform', y='all_sales', data=df_platform)\n",
    "ax.set_xlabel(\"Платформы\", color=\"C1\", fontsize=16)\n",
    "ax.set_ylabel(\"Продажи\", color=\"C1\", fontsize=16)\n",
    "ax.set_ylim(0,2.5)\n",
    "plt.title('Продажи игр по платформам', fontsize=18);\n",
    "plt.xticks(fontsize=15)\n",
    "plt.show()"
   ]
  },
  {
   "cell_type": "markdown",
   "metadata": {},
   "source": [
    "Из графика видно, верхние \"усы\" игр, написанных на платформах X360, PS3, PS4, находятся на примерно одинаковом уровне 1,7 млн.проданных копий. Это ориентировочная граница нормального размаха. Всё, что лежит за ней, считается выбросом. Таких выбросов довольно много. \n",
    "Медианные значения продаж игр на PS4 несколько ниже чем на X360 и на PS3. Но это одна из \"молодых\" платформ, но уже демонстрирующая хорошие продажи. Также очень перспективная платформа XOne, медианное значение продаж которой равно медианным значениям X360 и PS3. Но \"выбросов\" на ней гораздо меньше чем на X360 и PS3."
   ]
  },
  {
   "cell_type": "markdown",
   "metadata": {},
   "source": [
    "### Диаграмма рассеяния. Корреляция между отзывами и продажами."
   ]
  },
  {
   "cell_type": "markdown",
   "metadata": {},
   "source": [
    "Для анализа зависимости продаж от отзывов пользователей и критиков возьмем игры на одной из последних и перспективных платформ PS4. "
   ]
  },
  {
   "cell_type": "code",
   "execution_count": 22,
   "metadata": {},
   "outputs": [
    {
     "name": "stdout",
     "output_type": "stream",
     "text": [
      "              all_sales  critic_score  user_score\n",
      "all_sales      1.000000      0.402661   -0.040132\n",
      "critic_score   0.402661      1.000000    0.546434\n",
      "user_score    -0.040132      0.546434    1.000000\n"
     ]
    },
    {
     "data": {
      "image/png": "[encoded data removed]",
      "text/plain": [
       "<Figure size 648x648 with 9 Axes>"
      ]
     },
     "metadata": {},
     "output_type": "display_data"
    }
   ],
   "source": [
    "df_PS4 = df.query('platform == \"PS4\" and year_of_release>=2014')\n",
    "df_PS4 = df_PS4[['platform', 'all_sales', 'critic_score', 'user_score']]\n",
    "print(df_PS4.corr())\n",
    "pd.plotting.scatter_matrix(df_PS4, figsize=(9, 9))\n",
    "plt.show()\n"
   ]
  },
  {
   "cell_type": "markdown",
   "metadata": {},
   "source": [
    "Исходя из диаграммы рассеяния и коэффициентов корреляции можно сделать вывод, что продажи игр на платформе PS4 не сильно зависят от оценок критиков (коэффициент корреляции 0,21). Еще меньше зависимость продаж от оценок пользователей, здесь зависимость очень слабая (коэффициент корреляции 0,1). Проверим результат на еще одной платформе XOne и X360."
   ]
  },
  {
   "cell_type": "code",
   "execution_count": 23,
   "metadata": {},
   "outputs": [
    {
     "name": "stdout",
     "output_type": "stream",
     "text": [
      "              all_sales  critic_score  user_score\n",
      "all_sales      1.000000      0.428677   -0.070384\n",
      "critic_score   0.428677      1.000000    0.440977\n",
      "user_score    -0.070384      0.440977    1.000000\n"
     ]
    },
    {
     "data": {
      "image/png": "[encoded data removed]",
      "text/plain": [
       "<Figure size 648x648 with 9 Axes>"
      ]
     },
     "metadata": {},
     "output_type": "display_data"
    }
   ],
   "source": [
    "df_XOne = df.query('platform == \"XOne\" and year_of_release>=2014')\n",
    "df_XOne = df_XOne[['platform', 'all_sales', 'critic_score', 'user_score']]\n",
    "print(df_XOne.corr())\n",
    "pd.plotting.scatter_matrix(df_XOne, figsize=(9, 9))\n",
    "plt.show()"
   ]
  },
  {
   "cell_type": "code",
   "execution_count": 24,
   "metadata": {},
   "outputs": [
    {
     "name": "stdout",
     "output_type": "stream",
     "text": [
      "              all_sales  critic_score  user_score\n",
      "all_sales      1.000000      0.525723   -0.138445\n",
      "critic_score   0.525723      1.000000    0.625309\n",
      "user_score    -0.138445      0.625309    1.000000\n"
     ]
    },
    {
     "data": {
      "image/png": "[encoded data removed]",
      "text/plain": [
       "<Figure size 648x648 with 9 Axes>"
      ]
     },
     "metadata": {},
     "output_type": "display_data"
    }
   ],
   "source": [
    "df_X360 = df.query('platform == \"X360\" and year_of_release>=2014')\n",
    "df_X360 = df_X360[['platform', 'all_sales', 'critic_score', 'user_score']]\n",
    "print(df_X360.corr())\n",
    "pd.plotting.scatter_matrix(df_X360, figsize=(9, 9))\n",
    "plt.show()"
   ]
  },
  {
   "cell_type": "markdown",
   "metadata": {},
   "source": [
    "Из диаграмм видно, что ситуация с продажами игр на XOne в целом аналогична продажам игр на PS4. Зависимость продаж от оценок критиков и от оценок пользователей довольно слабая (коэффициенты корреляции 0,27 и 0,1 соответственно). А вот продажи игр на Х360 практически не зависят от рейтингов (коэффициенты корреляции 0,004 и 0,07 соответственно). Но в целом картина по всем платформам совпадает."
   ]
  },
  {
   "cell_type": "markdown",
   "metadata": {},
   "source": [
    "### Распределение игр по жанрам. Жанры с высокими и низкими продажами"
   ]
  },
  {
   "cell_type": "markdown",
   "metadata": {},
   "source": [
    "Сначала посмотрим количество игр каждого жанра, потом найдем общие продажи по каждому жанру. Далее найдем жанр, где игры стабильно лидируют в продажах, для этого посмотрим медианные продажи по каждому жанру"
   ]
  },
  {
   "cell_type": "code",
   "execution_count": 25,
   "metadata": {},
   "outputs": [
    {
     "data": {
      "text/plain": [
       "Action          619\n",
       "Role-Playing    222\n",
       "Adventure       185\n",
       "Sports          161\n",
       "Shooter         128\n",
       "Misc            113\n",
       "Racing           69\n",
       "Fighting         60\n",
       "Simulation       44\n",
       "Platform         38\n",
       "Strategy         37\n",
       "Puzzle           14\n",
       "Name: genre, dtype: int64"
      ]
     },
     "execution_count": 25,
     "metadata": {},
     "output_type": "execute_result"
    }
   ],
   "source": [
    "df_genre = df.query('year_of_release>=2014')\n",
    "df_genre['genre'].value_counts()"
   ]
  },
  {
   "cell_type": "code",
   "execution_count": 26,
   "metadata": {},
   "outputs": [
    {
     "data": {
      "text/html": [
       "<div>\n",
       "<style scoped>\n",
       "    .dataframe tbody tr th:only-of-type {\n",
       "        vertical-align: middle;\n",
       "    }\n",
       "\n",
       "    .dataframe tbody tr th {\n",
       "        vertical-align: top;\n",
       "    }\n",
       "\n",
       "    .dataframe thead tr th {\n",
       "        text-align: left;\n",
       "    }\n",
       "\n",
       "    .dataframe thead tr:last-of-type th {\n",
       "        text-align: right;\n",
       "    }\n",
       "</style>\n",
       "<table border=\"1\" class=\"dataframe\">\n",
       "  <thead>\n",
       "    <tr>\n",
       "      <th></th>\n",
       "      <th colspan=\"2\" halign=\"left\">all_sales</th>\n",
       "    </tr>\n",
       "    <tr>\n",
       "      <th></th>\n",
       "      <th>sum</th>\n",
       "      <th>median</th>\n",
       "    </tr>\n",
       "    <tr>\n",
       "      <th>genre</th>\n",
       "      <th></th>\n",
       "      <th></th>\n",
       "    </tr>\n",
       "  </thead>\n",
       "  <tbody>\n",
       "    <tr>\n",
       "      <th>Platform</th>\n",
       "      <td>827.77</td>\n",
       "      <td>0.27</td>\n",
       "    </tr>\n",
       "    <tr>\n",
       "      <th>Shooter</th>\n",
       "      <td>1052.45</td>\n",
       "      <td>0.24</td>\n",
       "    </tr>\n",
       "    <tr>\n",
       "      <th>Sports</th>\n",
       "      <td>1331.27</td>\n",
       "      <td>0.22</td>\n",
       "    </tr>\n",
       "    <tr>\n",
       "      <th>Fighting</th>\n",
       "      <td>447.53</td>\n",
       "      <td>0.21</td>\n",
       "    </tr>\n",
       "    <tr>\n",
       "      <th>Action</th>\n",
       "      <td>1744.17</td>\n",
       "      <td>0.19</td>\n",
       "    </tr>\n",
       "    <tr>\n",
       "      <th>Racing</th>\n",
       "      <td>728.67</td>\n",
       "      <td>0.19</td>\n",
       "    </tr>\n",
       "    <tr>\n",
       "      <th>Role-Playing</th>\n",
       "      <td>934.56</td>\n",
       "      <td>0.18</td>\n",
       "    </tr>\n",
       "    <tr>\n",
       "      <th>Misc</th>\n",
       "      <td>802.51</td>\n",
       "      <td>0.16</td>\n",
       "    </tr>\n",
       "    <tr>\n",
       "      <th>Simulation</th>\n",
       "      <td>389.97</td>\n",
       "      <td>0.15</td>\n",
       "    </tr>\n",
       "    <tr>\n",
       "      <th>Puzzle</th>\n",
       "      <td>242.57</td>\n",
       "      <td>0.11</td>\n",
       "    </tr>\n",
       "    <tr>\n",
       "      <th>Strategy</th>\n",
       "      <td>174.23</td>\n",
       "      <td>0.10</td>\n",
       "    </tr>\n",
       "    <tr>\n",
       "      <th>Adventure</th>\n",
       "      <td>237.59</td>\n",
       "      <td>0.05</td>\n",
       "    </tr>\n",
       "  </tbody>\n",
       "</table>\n",
       "</div>"
      ],
      "text/plain": [
       "             all_sales       \n",
       "                   sum median\n",
       "genre                        \n",
       "Platform        827.77   0.27\n",
       "Shooter        1052.45   0.24\n",
       "Sports         1331.27   0.22\n",
       "Fighting        447.53   0.21\n",
       "Action         1744.17   0.19\n",
       "Racing          728.67   0.19\n",
       "Role-Playing    934.56   0.18\n",
       "Misc            802.51   0.16\n",
       "Simulation      389.97   0.15\n",
       "Puzzle          242.57   0.11\n",
       "Strategy        174.23   0.10\n",
       "Adventure       237.59   0.05"
      ]
     },
     "metadata": {},
     "output_type": "display_data"
    }
   ],
   "source": [
    "df_genre = df.groupby('genre').agg({'all_sales':['sum', 'median']}).sort_values(by=('all_sales', 'median'), ascending=False)\n",
    "display(df_genre)"
   ]
  },
  {
   "cell_type": "markdown",
   "metadata": {},
   "source": [
    "Видим, наибольшее количество игр жанра Action, этот же жанр лидирует по суммарным продажам (619 млн.проданных копий). Но в то же время, медианные продажи здесь не самые высокие. Скорее всего, суммарные продажи высоки именно из-за того что много игр написано в этом жанре. Но может быть ситуация, когда много мелких непродаваемых игр данного жанра. Поэтому более правильно будет посмотреть медианное значение продаж. Здесь в лидерах Platform (0,27 млн.проданных копий) и Shooter (0,24)."
   ]
  },
  {
   "cell_type": "markdown",
   "metadata": {},
   "source": [
    "## Портрет пользователя каждого региона"
   ]
  },
  {
   "cell_type": "markdown",
   "metadata": {},
   "source": [
    "Для каждого из трех регионов (Северная Америка, Европа, Япония) составим портрет пользователя: ТОП-5 популярных платформ,  ТОП-5 популярных жанров, влияние рейтинга ESRB на продажи в каждом из этих регионов. для анализа возьмем данные за актуальный период с 2014 года (данные за предыдущие периоды отбросим).\n",
    "Создадим общую функцию для построения диаграмм по всем исследуемым регионам. Функция на вход примет три значения: index (платформа, жанр или возраст), region (регион продаж), title(заголовок диаграммы).\n"
   ]
  },
  {
   "cell_type": "markdown",
   "metadata": {},
   "source": [
    "Сначала добавим новый столбец platform_new, в который платформы с низкими продажами занесем в категорию \"Другие\". \n"
   ]
  },
  {
   "cell_type": "code",
   "execution_count": 27,
   "metadata": {},
   "outputs": [],
   "source": [
    "def platform_new(row):\n",
    "    platform = row['platform']\n",
    "    if'PS4' in platform:\n",
    "        return 'PS4'\n",
    "    if'PS3' in platform:\n",
    "        return 'PS3'\n",
    "    if'3DS' in platform:\n",
    "        return '3DS'\n",
    "    if'XOne' in platform:\n",
    "        return 'XOne'\n",
    "    if'X360' in platform:\n",
    "        return 'X360'\n",
    "    return 'Другие'\n",
    "df['platform_new'] = df.apply(platform_new, axis=1)\n"
   ]
  },
  {
   "cell_type": "code",
   "execution_count": 28,
   "metadata": {},
   "outputs": [
    {
     "data": {
      "text/html": [
       "<div>\n",
       "<style scoped>\n",
       "    .dataframe tbody tr th:only-of-type {\n",
       "        vertical-align: middle;\n",
       "    }\n",
       "\n",
       "    .dataframe tbody tr th {\n",
       "        vertical-align: top;\n",
       "    }\n",
       "\n",
       "    .dataframe thead th {\n",
       "        text-align: right;\n",
       "    }\n",
       "</style>\n",
       "<table border=\"1\" class=\"dataframe\">\n",
       "  <thead>\n",
       "    <tr style=\"text-align: right;\">\n",
       "      <th></th>\n",
       "      <th>name</th>\n",
       "      <th>platform</th>\n",
       "      <th>year_of_release</th>\n",
       "      <th>genre</th>\n",
       "      <th>na_sales</th>\n",
       "      <th>eu_sales</th>\n",
       "      <th>jp_sales</th>\n",
       "      <th>other_sales</th>\n",
       "      <th>critic_score</th>\n",
       "      <th>user_score</th>\n",
       "      <th>rating</th>\n",
       "      <th>all_sales</th>\n",
       "      <th>platform_new</th>\n",
       "    </tr>\n",
       "  </thead>\n",
       "  <tbody>\n",
       "    <tr>\n",
       "      <th>0</th>\n",
       "      <td>Wii Sports</td>\n",
       "      <td>Wii</td>\n",
       "      <td>2006</td>\n",
       "      <td>Sports</td>\n",
       "      <td>41.36</td>\n",
       "      <td>28.96</td>\n",
       "      <td>3.77</td>\n",
       "      <td>8.45</td>\n",
       "      <td>76.0</td>\n",
       "      <td>8.0</td>\n",
       "      <td>E</td>\n",
       "      <td>82.54</td>\n",
       "      <td>Другие</td>\n",
       "    </tr>\n",
       "    <tr>\n",
       "      <th>1</th>\n",
       "      <td>Super Mario Bros.</td>\n",
       "      <td>NES</td>\n",
       "      <td>1985</td>\n",
       "      <td>Platform</td>\n",
       "      <td>29.08</td>\n",
       "      <td>3.58</td>\n",
       "      <td>6.81</td>\n",
       "      <td>0.77</td>\n",
       "      <td>NaN</td>\n",
       "      <td>NaN</td>\n",
       "      <td>NaN</td>\n",
       "      <td>40.24</td>\n",
       "      <td>Другие</td>\n",
       "    </tr>\n",
       "    <tr>\n",
       "      <th>2</th>\n",
       "      <td>Mario Kart Wii</td>\n",
       "      <td>Wii</td>\n",
       "      <td>2008</td>\n",
       "      <td>Racing</td>\n",
       "      <td>15.68</td>\n",
       "      <td>12.76</td>\n",
       "      <td>3.79</td>\n",
       "      <td>3.29</td>\n",
       "      <td>82.0</td>\n",
       "      <td>8.3</td>\n",
       "      <td>E</td>\n",
       "      <td>35.52</td>\n",
       "      <td>Другие</td>\n",
       "    </tr>\n",
       "    <tr>\n",
       "      <th>3</th>\n",
       "      <td>Wii Sports Resort</td>\n",
       "      <td>Wii</td>\n",
       "      <td>2009</td>\n",
       "      <td>Sports</td>\n",
       "      <td>15.61</td>\n",
       "      <td>10.93</td>\n",
       "      <td>3.28</td>\n",
       "      <td>2.95</td>\n",
       "      <td>80.0</td>\n",
       "      <td>8.0</td>\n",
       "      <td>E</td>\n",
       "      <td>32.77</td>\n",
       "      <td>Другие</td>\n",
       "    </tr>\n",
       "    <tr>\n",
       "      <th>4</th>\n",
       "      <td>Pokemon Red/Pokemon Blue</td>\n",
       "      <td>GB</td>\n",
       "      <td>1996</td>\n",
       "      <td>Role-Playing</td>\n",
       "      <td>11.27</td>\n",
       "      <td>8.89</td>\n",
       "      <td>10.22</td>\n",
       "      <td>1.00</td>\n",
       "      <td>NaN</td>\n",
       "      <td>NaN</td>\n",
       "      <td>NaN</td>\n",
       "      <td>31.38</td>\n",
       "      <td>Другие</td>\n",
       "    </tr>\n",
       "    <tr>\n",
       "      <th>5</th>\n",
       "      <td>Tetris</td>\n",
       "      <td>GB</td>\n",
       "      <td>1989</td>\n",
       "      <td>Puzzle</td>\n",
       "      <td>23.20</td>\n",
       "      <td>2.26</td>\n",
       "      <td>4.22</td>\n",
       "      <td>0.58</td>\n",
       "      <td>NaN</td>\n",
       "      <td>NaN</td>\n",
       "      <td>NaN</td>\n",
       "      <td>30.26</td>\n",
       "      <td>Другие</td>\n",
       "    </tr>\n",
       "    <tr>\n",
       "      <th>6</th>\n",
       "      <td>New Super Mario Bros.</td>\n",
       "      <td>DS</td>\n",
       "      <td>2006</td>\n",
       "      <td>Platform</td>\n",
       "      <td>11.28</td>\n",
       "      <td>9.14</td>\n",
       "      <td>6.50</td>\n",
       "      <td>2.88</td>\n",
       "      <td>89.0</td>\n",
       "      <td>8.5</td>\n",
       "      <td>E</td>\n",
       "      <td>29.80</td>\n",
       "      <td>Другие</td>\n",
       "    </tr>\n",
       "    <tr>\n",
       "      <th>7</th>\n",
       "      <td>Wii Play</td>\n",
       "      <td>Wii</td>\n",
       "      <td>2006</td>\n",
       "      <td>Misc</td>\n",
       "      <td>13.96</td>\n",
       "      <td>9.18</td>\n",
       "      <td>2.93</td>\n",
       "      <td>2.84</td>\n",
       "      <td>58.0</td>\n",
       "      <td>6.6</td>\n",
       "      <td>E</td>\n",
       "      <td>28.91</td>\n",
       "      <td>Другие</td>\n",
       "    </tr>\n",
       "    <tr>\n",
       "      <th>8</th>\n",
       "      <td>New Super Mario Bros. Wii</td>\n",
       "      <td>Wii</td>\n",
       "      <td>2009</td>\n",
       "      <td>Platform</td>\n",
       "      <td>14.44</td>\n",
       "      <td>6.94</td>\n",
       "      <td>4.70</td>\n",
       "      <td>2.24</td>\n",
       "      <td>87.0</td>\n",
       "      <td>8.4</td>\n",
       "      <td>E</td>\n",
       "      <td>28.32</td>\n",
       "      <td>Другие</td>\n",
       "    </tr>\n",
       "    <tr>\n",
       "      <th>9</th>\n",
       "      <td>Duck Hunt</td>\n",
       "      <td>NES</td>\n",
       "      <td>1984</td>\n",
       "      <td>Shooter</td>\n",
       "      <td>26.93</td>\n",
       "      <td>0.63</td>\n",
       "      <td>0.28</td>\n",
       "      <td>0.47</td>\n",
       "      <td>NaN</td>\n",
       "      <td>NaN</td>\n",
       "      <td>NaN</td>\n",
       "      <td>28.31</td>\n",
       "      <td>Другие</td>\n",
       "    </tr>\n",
       "    <tr>\n",
       "      <th>10</th>\n",
       "      <td>Nintendogs</td>\n",
       "      <td>DS</td>\n",
       "      <td>2005</td>\n",
       "      <td>Simulation</td>\n",
       "      <td>9.05</td>\n",
       "      <td>10.95</td>\n",
       "      <td>1.93</td>\n",
       "      <td>2.74</td>\n",
       "      <td>NaN</td>\n",
       "      <td>NaN</td>\n",
       "      <td>NaN</td>\n",
       "      <td>24.67</td>\n",
       "      <td>Другие</td>\n",
       "    </tr>\n",
       "    <tr>\n",
       "      <th>11</th>\n",
       "      <td>Mario Kart DS</td>\n",
       "      <td>DS</td>\n",
       "      <td>2005</td>\n",
       "      <td>Racing</td>\n",
       "      <td>9.71</td>\n",
       "      <td>7.47</td>\n",
       "      <td>4.13</td>\n",
       "      <td>1.90</td>\n",
       "      <td>91.0</td>\n",
       "      <td>8.6</td>\n",
       "      <td>E</td>\n",
       "      <td>23.21</td>\n",
       "      <td>Другие</td>\n",
       "    </tr>\n",
       "    <tr>\n",
       "      <th>12</th>\n",
       "      <td>Pokemon Gold/Pokemon Silver</td>\n",
       "      <td>GB</td>\n",
       "      <td>1999</td>\n",
       "      <td>Role-Playing</td>\n",
       "      <td>9.00</td>\n",
       "      <td>6.18</td>\n",
       "      <td>7.20</td>\n",
       "      <td>0.71</td>\n",
       "      <td>NaN</td>\n",
       "      <td>NaN</td>\n",
       "      <td>NaN</td>\n",
       "      <td>23.09</td>\n",
       "      <td>Другие</td>\n",
       "    </tr>\n",
       "    <tr>\n",
       "      <th>13</th>\n",
       "      <td>Wii Fit</td>\n",
       "      <td>Wii</td>\n",
       "      <td>2007</td>\n",
       "      <td>Sports</td>\n",
       "      <td>8.92</td>\n",
       "      <td>8.03</td>\n",
       "      <td>3.60</td>\n",
       "      <td>2.15</td>\n",
       "      <td>80.0</td>\n",
       "      <td>7.7</td>\n",
       "      <td>E</td>\n",
       "      <td>22.70</td>\n",
       "      <td>Другие</td>\n",
       "    </tr>\n",
       "    <tr>\n",
       "      <th>14</th>\n",
       "      <td>Kinect Adventures!</td>\n",
       "      <td>X360</td>\n",
       "      <td>2010</td>\n",
       "      <td>Misc</td>\n",
       "      <td>15.00</td>\n",
       "      <td>4.89</td>\n",
       "      <td>0.24</td>\n",
       "      <td>1.69</td>\n",
       "      <td>61.0</td>\n",
       "      <td>6.3</td>\n",
       "      <td>E</td>\n",
       "      <td>21.82</td>\n",
       "      <td>X360</td>\n",
       "    </tr>\n",
       "    <tr>\n",
       "      <th>15</th>\n",
       "      <td>Wii Fit Plus</td>\n",
       "      <td>Wii</td>\n",
       "      <td>2009</td>\n",
       "      <td>Sports</td>\n",
       "      <td>9.01</td>\n",
       "      <td>8.49</td>\n",
       "      <td>2.53</td>\n",
       "      <td>1.77</td>\n",
       "      <td>80.0</td>\n",
       "      <td>7.4</td>\n",
       "      <td>E</td>\n",
       "      <td>21.80</td>\n",
       "      <td>Другие</td>\n",
       "    </tr>\n",
       "    <tr>\n",
       "      <th>16</th>\n",
       "      <td>Grand Theft Auto V</td>\n",
       "      <td>PS3</td>\n",
       "      <td>2013</td>\n",
       "      <td>Action</td>\n",
       "      <td>7.02</td>\n",
       "      <td>9.09</td>\n",
       "      <td>0.98</td>\n",
       "      <td>3.96</td>\n",
       "      <td>97.0</td>\n",
       "      <td>8.2</td>\n",
       "      <td>M</td>\n",
       "      <td>21.05</td>\n",
       "      <td>PS3</td>\n",
       "    </tr>\n",
       "    <tr>\n",
       "      <th>17</th>\n",
       "      <td>Grand Theft Auto: San Andreas</td>\n",
       "      <td>PS2</td>\n",
       "      <td>2004</td>\n",
       "      <td>Action</td>\n",
       "      <td>9.43</td>\n",
       "      <td>0.40</td>\n",
       "      <td>0.41</td>\n",
       "      <td>10.57</td>\n",
       "      <td>95.0</td>\n",
       "      <td>9.0</td>\n",
       "      <td>M</td>\n",
       "      <td>20.81</td>\n",
       "      <td>Другие</td>\n",
       "    </tr>\n",
       "    <tr>\n",
       "      <th>18</th>\n",
       "      <td>Super Mario World</td>\n",
       "      <td>SNES</td>\n",
       "      <td>1990</td>\n",
       "      <td>Platform</td>\n",
       "      <td>12.78</td>\n",
       "      <td>3.75</td>\n",
       "      <td>3.54</td>\n",
       "      <td>0.55</td>\n",
       "      <td>NaN</td>\n",
       "      <td>NaN</td>\n",
       "      <td>NaN</td>\n",
       "      <td>20.62</td>\n",
       "      <td>Другие</td>\n",
       "    </tr>\n",
       "    <tr>\n",
       "      <th>19</th>\n",
       "      <td>Brain Age: Train Your Brain in Minutes a Day</td>\n",
       "      <td>DS</td>\n",
       "      <td>2005</td>\n",
       "      <td>Misc</td>\n",
       "      <td>4.74</td>\n",
       "      <td>9.20</td>\n",
       "      <td>4.16</td>\n",
       "      <td>2.04</td>\n",
       "      <td>77.0</td>\n",
       "      <td>7.9</td>\n",
       "      <td>E</td>\n",
       "      <td>20.14</td>\n",
       "      <td>Другие</td>\n",
       "    </tr>\n",
       "    <tr>\n",
       "      <th>20</th>\n",
       "      <td>Pokemon Diamond/Pokemon Pearl</td>\n",
       "      <td>DS</td>\n",
       "      <td>2006</td>\n",
       "      <td>Role-Playing</td>\n",
       "      <td>6.38</td>\n",
       "      <td>4.46</td>\n",
       "      <td>6.04</td>\n",
       "      <td>1.36</td>\n",
       "      <td>NaN</td>\n",
       "      <td>NaN</td>\n",
       "      <td>NaN</td>\n",
       "      <td>18.24</td>\n",
       "      <td>Другие</td>\n",
       "    </tr>\n",
       "    <tr>\n",
       "      <th>21</th>\n",
       "      <td>Super Mario Land</td>\n",
       "      <td>GB</td>\n",
       "      <td>1989</td>\n",
       "      <td>Platform</td>\n",
       "      <td>10.83</td>\n",
       "      <td>2.71</td>\n",
       "      <td>4.18</td>\n",
       "      <td>0.42</td>\n",
       "      <td>NaN</td>\n",
       "      <td>NaN</td>\n",
       "      <td>NaN</td>\n",
       "      <td>18.14</td>\n",
       "      <td>Другие</td>\n",
       "    </tr>\n",
       "    <tr>\n",
       "      <th>22</th>\n",
       "      <td>Super Mario Bros. 3</td>\n",
       "      <td>NES</td>\n",
       "      <td>1988</td>\n",
       "      <td>Platform</td>\n",
       "      <td>9.54</td>\n",
       "      <td>3.44</td>\n",
       "      <td>3.84</td>\n",
       "      <td>0.46</td>\n",
       "      <td>NaN</td>\n",
       "      <td>NaN</td>\n",
       "      <td>NaN</td>\n",
       "      <td>17.28</td>\n",
       "      <td>Другие</td>\n",
       "    </tr>\n",
       "    <tr>\n",
       "      <th>23</th>\n",
       "      <td>Grand Theft Auto V</td>\n",
       "      <td>X360</td>\n",
       "      <td>2013</td>\n",
       "      <td>Action</td>\n",
       "      <td>9.66</td>\n",
       "      <td>5.14</td>\n",
       "      <td>0.06</td>\n",
       "      <td>1.41</td>\n",
       "      <td>97.0</td>\n",
       "      <td>8.1</td>\n",
       "      <td>M</td>\n",
       "      <td>16.27</td>\n",
       "      <td>X360</td>\n",
       "    </tr>\n",
       "    <tr>\n",
       "      <th>24</th>\n",
       "      <td>Grand Theft Auto: Vice City</td>\n",
       "      <td>PS2</td>\n",
       "      <td>2002</td>\n",
       "      <td>Action</td>\n",
       "      <td>8.41</td>\n",
       "      <td>5.49</td>\n",
       "      <td>0.47</td>\n",
       "      <td>1.78</td>\n",
       "      <td>95.0</td>\n",
       "      <td>8.7</td>\n",
       "      <td>M</td>\n",
       "      <td>16.15</td>\n",
       "      <td>Другие</td>\n",
       "    </tr>\n",
       "    <tr>\n",
       "      <th>25</th>\n",
       "      <td>Pokemon Ruby/Pokemon Sapphire</td>\n",
       "      <td>GBA</td>\n",
       "      <td>2002</td>\n",
       "      <td>Role-Playing</td>\n",
       "      <td>6.06</td>\n",
       "      <td>3.90</td>\n",
       "      <td>5.38</td>\n",
       "      <td>0.50</td>\n",
       "      <td>NaN</td>\n",
       "      <td>NaN</td>\n",
       "      <td>NaN</td>\n",
       "      <td>15.84</td>\n",
       "      <td>Другие</td>\n",
       "    </tr>\n",
       "    <tr>\n",
       "      <th>26</th>\n",
       "      <td>Brain Age 2: More Training in Minutes a Day</td>\n",
       "      <td>DS</td>\n",
       "      <td>2005</td>\n",
       "      <td>Puzzle</td>\n",
       "      <td>3.43</td>\n",
       "      <td>5.35</td>\n",
       "      <td>5.32</td>\n",
       "      <td>1.18</td>\n",
       "      <td>77.0</td>\n",
       "      <td>7.1</td>\n",
       "      <td>E</td>\n",
       "      <td>15.28</td>\n",
       "      <td>Другие</td>\n",
       "    </tr>\n",
       "    <tr>\n",
       "      <th>27</th>\n",
       "      <td>Pokemon Black/Pokemon White</td>\n",
       "      <td>DS</td>\n",
       "      <td>2010</td>\n",
       "      <td>Role-Playing</td>\n",
       "      <td>5.51</td>\n",
       "      <td>3.17</td>\n",
       "      <td>5.65</td>\n",
       "      <td>0.80</td>\n",
       "      <td>NaN</td>\n",
       "      <td>NaN</td>\n",
       "      <td>NaN</td>\n",
       "      <td>15.13</td>\n",
       "      <td>Другие</td>\n",
       "    </tr>\n",
       "    <tr>\n",
       "      <th>28</th>\n",
       "      <td>Gran Turismo 3: A-Spec</td>\n",
       "      <td>PS2</td>\n",
       "      <td>2001</td>\n",
       "      <td>Racing</td>\n",
       "      <td>6.85</td>\n",
       "      <td>5.09</td>\n",
       "      <td>1.87</td>\n",
       "      <td>1.16</td>\n",
       "      <td>95.0</td>\n",
       "      <td>8.4</td>\n",
       "      <td>E</td>\n",
       "      <td>14.97</td>\n",
       "      <td>Другие</td>\n",
       "    </tr>\n",
       "    <tr>\n",
       "      <th>29</th>\n",
       "      <td>Call of Duty: Modern Warfare 3</td>\n",
       "      <td>X360</td>\n",
       "      <td>2011</td>\n",
       "      <td>Shooter</td>\n",
       "      <td>9.04</td>\n",
       "      <td>4.24</td>\n",
       "      <td>0.13</td>\n",
       "      <td>1.32</td>\n",
       "      <td>88.0</td>\n",
       "      <td>3.4</td>\n",
       "      <td>M</td>\n",
       "      <td>14.73</td>\n",
       "      <td>X360</td>\n",
       "    </tr>\n",
       "    <tr>\n",
       "      <th>30</th>\n",
       "      <td>Pokémon Yellow: Special Pikachu Edition</td>\n",
       "      <td>GB</td>\n",
       "      <td>1998</td>\n",
       "      <td>Role-Playing</td>\n",
       "      <td>5.89</td>\n",
       "      <td>5.04</td>\n",
       "      <td>3.12</td>\n",
       "      <td>0.59</td>\n",
       "      <td>NaN</td>\n",
       "      <td>NaN</td>\n",
       "      <td>NaN</td>\n",
       "      <td>14.64</td>\n",
       "      <td>Другие</td>\n",
       "    </tr>\n",
       "    <tr>\n",
       "      <th>31</th>\n",
       "      <td>Call of Duty: Black Ops 3</td>\n",
       "      <td>PS4</td>\n",
       "      <td>2015</td>\n",
       "      <td>Shooter</td>\n",
       "      <td>6.03</td>\n",
       "      <td>5.86</td>\n",
       "      <td>0.36</td>\n",
       "      <td>2.38</td>\n",
       "      <td>NaN</td>\n",
       "      <td>NaN</td>\n",
       "      <td>NaN</td>\n",
       "      <td>14.63</td>\n",
       "      <td>PS4</td>\n",
       "    </tr>\n",
       "    <tr>\n",
       "      <th>32</th>\n",
       "      <td>Call of Duty: Black Ops</td>\n",
       "      <td>X360</td>\n",
       "      <td>2010</td>\n",
       "      <td>Shooter</td>\n",
       "      <td>9.70</td>\n",
       "      <td>3.68</td>\n",
       "      <td>0.11</td>\n",
       "      <td>1.13</td>\n",
       "      <td>87.0</td>\n",
       "      <td>6.3</td>\n",
       "      <td>M</td>\n",
       "      <td>14.62</td>\n",
       "      <td>X360</td>\n",
       "    </tr>\n",
       "    <tr>\n",
       "      <th>33</th>\n",
       "      <td>Pokemon X/Pokemon Y</td>\n",
       "      <td>3DS</td>\n",
       "      <td>2013</td>\n",
       "      <td>Role-Playing</td>\n",
       "      <td>5.28</td>\n",
       "      <td>4.19</td>\n",
       "      <td>4.35</td>\n",
       "      <td>0.78</td>\n",
       "      <td>NaN</td>\n",
       "      <td>NaN</td>\n",
       "      <td>NaN</td>\n",
       "      <td>14.60</td>\n",
       "      <td>3DS</td>\n",
       "    </tr>\n",
       "    <tr>\n",
       "      <th>34</th>\n",
       "      <td>Call of Duty: Black Ops II</td>\n",
       "      <td>PS3</td>\n",
       "      <td>2012</td>\n",
       "      <td>Shooter</td>\n",
       "      <td>4.99</td>\n",
       "      <td>5.73</td>\n",
       "      <td>0.65</td>\n",
       "      <td>2.42</td>\n",
       "      <td>83.0</td>\n",
       "      <td>5.3</td>\n",
       "      <td>M</td>\n",
       "      <td>13.79</td>\n",
       "      <td>PS3</td>\n",
       "    </tr>\n",
       "    <tr>\n",
       "      <th>35</th>\n",
       "      <td>Call of Duty: Black Ops II</td>\n",
       "      <td>X360</td>\n",
       "      <td>2012</td>\n",
       "      <td>Shooter</td>\n",
       "      <td>8.25</td>\n",
       "      <td>4.24</td>\n",
       "      <td>0.07</td>\n",
       "      <td>1.12</td>\n",
       "      <td>83.0</td>\n",
       "      <td>4.8</td>\n",
       "      <td>M</td>\n",
       "      <td>13.68</td>\n",
       "      <td>X360</td>\n",
       "    </tr>\n",
       "    <tr>\n",
       "      <th>36</th>\n",
       "      <td>Call of Duty: Modern Warfare 2</td>\n",
       "      <td>X360</td>\n",
       "      <td>2009</td>\n",
       "      <td>Shooter</td>\n",
       "      <td>8.52</td>\n",
       "      <td>3.59</td>\n",
       "      <td>0.08</td>\n",
       "      <td>1.28</td>\n",
       "      <td>94.0</td>\n",
       "      <td>6.3</td>\n",
       "      <td>M</td>\n",
       "      <td>13.47</td>\n",
       "      <td>X360</td>\n",
       "    </tr>\n",
       "    <tr>\n",
       "      <th>37</th>\n",
       "      <td>Call of Duty: Modern Warfare 3</td>\n",
       "      <td>PS3</td>\n",
       "      <td>2011</td>\n",
       "      <td>Shooter</td>\n",
       "      <td>5.54</td>\n",
       "      <td>5.73</td>\n",
       "      <td>0.49</td>\n",
       "      <td>1.57</td>\n",
       "      <td>88.0</td>\n",
       "      <td>3.2</td>\n",
       "      <td>M</td>\n",
       "      <td>13.33</td>\n",
       "      <td>PS3</td>\n",
       "    </tr>\n",
       "    <tr>\n",
       "      <th>38</th>\n",
       "      <td>Grand Theft Auto III</td>\n",
       "      <td>PS2</td>\n",
       "      <td>2001</td>\n",
       "      <td>Action</td>\n",
       "      <td>6.99</td>\n",
       "      <td>4.51</td>\n",
       "      <td>0.30</td>\n",
       "      <td>1.30</td>\n",
       "      <td>97.0</td>\n",
       "      <td>8.5</td>\n",
       "      <td>M</td>\n",
       "      <td>13.10</td>\n",
       "      <td>Другие</td>\n",
       "    </tr>\n",
       "    <tr>\n",
       "      <th>39</th>\n",
       "      <td>Super Smash Bros. Brawl</td>\n",
       "      <td>Wii</td>\n",
       "      <td>2008</td>\n",
       "      <td>Fighting</td>\n",
       "      <td>6.62</td>\n",
       "      <td>2.55</td>\n",
       "      <td>2.66</td>\n",
       "      <td>1.01</td>\n",
       "      <td>93.0</td>\n",
       "      <td>8.9</td>\n",
       "      <td>T</td>\n",
       "      <td>12.84</td>\n",
       "      <td>Другие</td>\n",
       "    </tr>\n",
       "    <tr>\n",
       "      <th>40</th>\n",
       "      <td>Mario Kart 7</td>\n",
       "      <td>3DS</td>\n",
       "      <td>2011</td>\n",
       "      <td>Racing</td>\n",
       "      <td>5.03</td>\n",
       "      <td>4.02</td>\n",
       "      <td>2.69</td>\n",
       "      <td>0.91</td>\n",
       "      <td>85.0</td>\n",
       "      <td>8.2</td>\n",
       "      <td>E</td>\n",
       "      <td>12.65</td>\n",
       "      <td>3DS</td>\n",
       "    </tr>\n",
       "    <tr>\n",
       "      <th>41</th>\n",
       "      <td>Call of Duty: Black Ops</td>\n",
       "      <td>PS3</td>\n",
       "      <td>2010</td>\n",
       "      <td>Shooter</td>\n",
       "      <td>5.99</td>\n",
       "      <td>4.37</td>\n",
       "      <td>0.48</td>\n",
       "      <td>1.79</td>\n",
       "      <td>88.0</td>\n",
       "      <td>6.4</td>\n",
       "      <td>M</td>\n",
       "      <td>12.63</td>\n",
       "      <td>PS3</td>\n",
       "    </tr>\n",
       "    <tr>\n",
       "      <th>42</th>\n",
       "      <td>Grand Theft Auto V</td>\n",
       "      <td>PS4</td>\n",
       "      <td>2014</td>\n",
       "      <td>Action</td>\n",
       "      <td>3.96</td>\n",
       "      <td>6.31</td>\n",
       "      <td>0.38</td>\n",
       "      <td>1.97</td>\n",
       "      <td>97.0</td>\n",
       "      <td>8.3</td>\n",
       "      <td>M</td>\n",
       "      <td>12.62</td>\n",
       "      <td>PS4</td>\n",
       "    </tr>\n",
       "    <tr>\n",
       "      <th>43</th>\n",
       "      <td>Animal Crossing: Wild World</td>\n",
       "      <td>DS</td>\n",
       "      <td>2005</td>\n",
       "      <td>Simulation</td>\n",
       "      <td>2.50</td>\n",
       "      <td>3.45</td>\n",
       "      <td>5.33</td>\n",
       "      <td>0.86</td>\n",
       "      <td>86.0</td>\n",
       "      <td>8.7</td>\n",
       "      <td>E</td>\n",
       "      <td>12.14</td>\n",
       "      <td>Другие</td>\n",
       "    </tr>\n",
       "    <tr>\n",
       "      <th>44</th>\n",
       "      <td>Halo 3</td>\n",
       "      <td>X360</td>\n",
       "      <td>2007</td>\n",
       "      <td>Shooter</td>\n",
       "      <td>7.97</td>\n",
       "      <td>2.81</td>\n",
       "      <td>0.13</td>\n",
       "      <td>1.21</td>\n",
       "      <td>94.0</td>\n",
       "      <td>7.8</td>\n",
       "      <td>M</td>\n",
       "      <td>12.12</td>\n",
       "      <td>X360</td>\n",
       "    </tr>\n",
       "    <tr>\n",
       "      <th>45</th>\n",
       "      <td>Super Mario 64</td>\n",
       "      <td>N64</td>\n",
       "      <td>1996</td>\n",
       "      <td>Platform</td>\n",
       "      <td>6.91</td>\n",
       "      <td>2.85</td>\n",
       "      <td>1.91</td>\n",
       "      <td>0.23</td>\n",
       "      <td>NaN</td>\n",
       "      <td>NaN</td>\n",
       "      <td>NaN</td>\n",
       "      <td>11.90</td>\n",
       "      <td>Другие</td>\n",
       "    </tr>\n",
       "    <tr>\n",
       "      <th>46</th>\n",
       "      <td>Pokemon HeartGold/Pokemon SoulSilver</td>\n",
       "      <td>DS</td>\n",
       "      <td>2009</td>\n",
       "      <td>Action</td>\n",
       "      <td>4.34</td>\n",
       "      <td>2.71</td>\n",
       "      <td>3.96</td>\n",
       "      <td>0.76</td>\n",
       "      <td>NaN</td>\n",
       "      <td>NaN</td>\n",
       "      <td>NaN</td>\n",
       "      <td>11.77</td>\n",
       "      <td>Другие</td>\n",
       "    </tr>\n",
       "    <tr>\n",
       "      <th>47</th>\n",
       "      <td>Pokemon Omega Ruby/Pokemon Alpha Sapphire</td>\n",
       "      <td>3DS</td>\n",
       "      <td>2014</td>\n",
       "      <td>Role-Playing</td>\n",
       "      <td>4.35</td>\n",
       "      <td>3.49</td>\n",
       "      <td>3.10</td>\n",
       "      <td>0.74</td>\n",
       "      <td>NaN</td>\n",
       "      <td>NaN</td>\n",
       "      <td>NaN</td>\n",
       "      <td>11.68</td>\n",
       "      <td>3DS</td>\n",
       "    </tr>\n",
       "    <tr>\n",
       "      <th>48</th>\n",
       "      <td>Gran Turismo 4</td>\n",
       "      <td>PS2</td>\n",
       "      <td>2004</td>\n",
       "      <td>Racing</td>\n",
       "      <td>3.01</td>\n",
       "      <td>0.01</td>\n",
       "      <td>1.10</td>\n",
       "      <td>7.53</td>\n",
       "      <td>89.0</td>\n",
       "      <td>8.5</td>\n",
       "      <td>E</td>\n",
       "      <td>11.65</td>\n",
       "      <td>Другие</td>\n",
       "    </tr>\n",
       "    <tr>\n",
       "      <th>49</th>\n",
       "      <td>Super Mario Galaxy</td>\n",
       "      <td>Wii</td>\n",
       "      <td>2007</td>\n",
       "      <td>Platform</td>\n",
       "      <td>6.06</td>\n",
       "      <td>3.35</td>\n",
       "      <td>1.20</td>\n",
       "      <td>0.74</td>\n",
       "      <td>97.0</td>\n",
       "      <td>8.9</td>\n",
       "      <td>E</td>\n",
       "      <td>11.35</td>\n",
       "      <td>Другие</td>\n",
       "    </tr>\n",
       "  </tbody>\n",
       "</table>\n",
       "</div>"
      ],
      "text/plain": [
       "                                            name platform  year_of_release  \\\n",
       "0                                     Wii Sports      Wii             2006   \n",
       "1                              Super Mario Bros.      NES             1985   \n",
       "2                                 Mario Kart Wii      Wii             2008   \n",
       "3                              Wii Sports Resort      Wii             2009   \n",
       "4                       Pokemon Red/Pokemon Blue       GB             1996   \n",
       "5                                         Tetris       GB             1989   \n",
       "6                          New Super Mario Bros.       DS             2006   \n",
       "7                                       Wii Play      Wii             2006   \n",
       "8                      New Super Mario Bros. Wii      Wii             2009   \n",
       "9                                      Duck Hunt      NES             1984   \n",
       "10                                    Nintendogs       DS             2005   \n",
       "11                                 Mario Kart DS       DS             2005   \n",
       "12                   Pokemon Gold/Pokemon Silver       GB             1999   \n",
       "13                                       Wii Fit      Wii             2007   \n",
       "14                            Kinect Adventures!     X360             2010   \n",
       "15                                  Wii Fit Plus      Wii             2009   \n",
       "16                            Grand Theft Auto V      PS3             2013   \n",
       "17                 Grand Theft Auto: San Andreas      PS2             2004   \n",
       "18                             Super Mario World     SNES             1990   \n",
       "19  Brain Age: Train Your Brain in Minutes a Day       DS             2005   \n",
       "20                 Pokemon Diamond/Pokemon Pearl       DS             2006   \n",
       "21                              Super Mario Land       GB             1989   \n",
       "22                           Super Mario Bros. 3      NES             1988   \n",
       "23                            Grand Theft Auto V     X360             2013   \n",
       "24                   Grand Theft Auto: Vice City      PS2             2002   \n",
       "25                 Pokemon Ruby/Pokemon Sapphire      GBA             2002   \n",
       "26   Brain Age 2: More Training in Minutes a Day       DS             2005   \n",
       "27                   Pokemon Black/Pokemon White       DS             2010   \n",
       "28                        Gran Turismo 3: A-Spec      PS2             2001   \n",
       "29                Call of Duty: Modern Warfare 3     X360             2011   \n",
       "30       Pokémon Yellow: Special Pikachu Edition       GB             1998   \n",
       "31                     Call of Duty: Black Ops 3      PS4             2015   \n",
       "32                       Call of Duty: Black Ops     X360             2010   \n",
       "33                           Pokemon X/Pokemon Y      3DS             2013   \n",
       "34                    Call of Duty: Black Ops II      PS3             2012   \n",
       "35                    Call of Duty: Black Ops II     X360             2012   \n",
       "36                Call of Duty: Modern Warfare 2     X360             2009   \n",
       "37                Call of Duty: Modern Warfare 3      PS3             2011   \n",
       "38                          Grand Theft Auto III      PS2             2001   \n",
       "39                       Super Smash Bros. Brawl      Wii             2008   \n",
       "40                                  Mario Kart 7      3DS             2011   \n",
       "41                       Call of Duty: Black Ops      PS3             2010   \n",
       "42                            Grand Theft Auto V      PS4             2014   \n",
       "43                   Animal Crossing: Wild World       DS             2005   \n",
       "44                                        Halo 3     X360             2007   \n",
       "45                                Super Mario 64      N64             1996   \n",
       "46          Pokemon HeartGold/Pokemon SoulSilver       DS             2009   \n",
       "47     Pokemon Omega Ruby/Pokemon Alpha Sapphire      3DS             2014   \n",
       "48                                Gran Turismo 4      PS2             2004   \n",
       "49                            Super Mario Galaxy      Wii             2007   \n",
       "\n",
       "           genre  na_sales  eu_sales  jp_sales  other_sales  critic_score  \\\n",
       "0         Sports     41.36     28.96      3.77         8.45          76.0   \n",
       "1       Platform     29.08      3.58      6.81         0.77           NaN   \n",
       "2         Racing     15.68     12.76      3.79         3.29          82.0   \n",
       "3         Sports     15.61     10.93      3.28         2.95          80.0   \n",
       "4   Role-Playing     11.27      8.89     10.22         1.00           NaN   \n",
       "5         Puzzle     23.20      2.26      4.22         0.58           NaN   \n",
       "6       Platform     11.28      9.14      6.50         2.88          89.0   \n",
       "7           Misc     13.96      9.18      2.93         2.84          58.0   \n",
       "8       Platform     14.44      6.94      4.70         2.24          87.0   \n",
       "9        Shooter     26.93      0.63      0.28         0.47           NaN   \n",
       "10    Simulation      9.05     10.95      1.93         2.74           NaN   \n",
       "11        Racing      9.71      7.47      4.13         1.90          91.0   \n",
       "12  Role-Playing      9.00      6.18      7.20         0.71           NaN   \n",
       "13        Sports      8.92      8.03      3.60         2.15          80.0   \n",
       "14          Misc     15.00      4.89      0.24         1.69          61.0   \n",
       "15        Sports      9.01      8.49      2.53         1.77          80.0   \n",
       "16        Action      7.02      9.09      0.98         3.96          97.0   \n",
       "17        Action      9.43      0.40      0.41        10.57          95.0   \n",
       "18      Platform     12.78      3.75      3.54         0.55           NaN   \n",
       "19          Misc      4.74      9.20      4.16         2.04          77.0   \n",
       "20  Role-Playing      6.38      4.46      6.04         1.36           NaN   \n",
       "21      Platform     10.83      2.71      4.18         0.42           NaN   \n",
       "22      Platform      9.54      3.44      3.84         0.46           NaN   \n",
       "23        Action      9.66      5.14      0.06         1.41          97.0   \n",
       "24        Action      8.41      5.49      0.47         1.78          95.0   \n",
       "25  Role-Playing      6.06      3.90      5.38         0.50           NaN   \n",
       "26        Puzzle      3.43      5.35      5.32         1.18          77.0   \n",
       "27  Role-Playing      5.51      3.17      5.65         0.80           NaN   \n",
       "28        Racing      6.85      5.09      1.87         1.16          95.0   \n",
       "29       Shooter      9.04      4.24      0.13         1.32          88.0   \n",
       "30  Role-Playing      5.89      5.04      3.12         0.59           NaN   \n",
       "31       Shooter      6.03      5.86      0.36         2.38           NaN   \n",
       "32       Shooter      9.70      3.68      0.11         1.13          87.0   \n",
       "33  Role-Playing      5.28      4.19      4.35         0.78           NaN   \n",
       "34       Shooter      4.99      5.73      0.65         2.42          83.0   \n",
       "35       Shooter      8.25      4.24      0.07         1.12          83.0   \n",
       "36       Shooter      8.52      3.59      0.08         1.28          94.0   \n",
       "37       Shooter      5.54      5.73      0.49         1.57          88.0   \n",
       "38        Action      6.99      4.51      0.30         1.30          97.0   \n",
       "39      Fighting      6.62      2.55      2.66         1.01          93.0   \n",
       "40        Racing      5.03      4.02      2.69         0.91          85.0   \n",
       "41       Shooter      5.99      4.37      0.48         1.79          88.0   \n",
       "42        Action      3.96      6.31      0.38         1.97          97.0   \n",
       "43    Simulation      2.50      3.45      5.33         0.86          86.0   \n",
       "44       Shooter      7.97      2.81      0.13         1.21          94.0   \n",
       "45      Platform      6.91      2.85      1.91         0.23           NaN   \n",
       "46        Action      4.34      2.71      3.96         0.76           NaN   \n",
       "47  Role-Playing      4.35      3.49      3.10         0.74           NaN   \n",
       "48        Racing      3.01      0.01      1.10         7.53          89.0   \n",
       "49      Platform      6.06      3.35      1.20         0.74          97.0   \n",
       "\n",
       "    user_score rating  all_sales platform_new  \n",
       "0          8.0      E      82.54       Другие  \n",
       "1          NaN    NaN      40.24       Другие  \n",
       "2          8.3      E      35.52       Другие  \n",
       "3          8.0      E      32.77       Другие  \n",
       "4          NaN    NaN      31.38       Другие  \n",
       "5          NaN    NaN      30.26       Другие  \n",
       "6          8.5      E      29.80       Другие  \n",
       "7          6.6      E      28.91       Другие  \n",
       "8          8.4      E      28.32       Другие  \n",
       "9          NaN    NaN      28.31       Другие  \n",
       "10         NaN    NaN      24.67       Другие  \n",
       "11         8.6      E      23.21       Другие  \n",
       "12         NaN    NaN      23.09       Другие  \n",
       "13         7.7      E      22.70       Другие  \n",
       "14         6.3      E      21.82         X360  \n",
       "15         7.4      E      21.80       Другие  \n",
       "16         8.2      M      21.05          PS3  \n",
       "17         9.0      M      20.81       Другие  \n",
       "18         NaN    NaN      20.62       Другие  \n",
       "19         7.9      E      20.14       Другие  \n",
       "20         NaN    NaN      18.24       Другие  \n",
       "21         NaN    NaN      18.14       Другие  \n",
       "22         NaN    NaN      17.28       Другие  \n",
       "23         8.1      M      16.27         X360  \n",
       "24         8.7      M      16.15       Другие  \n",
       "25         NaN    NaN      15.84       Другие  \n",
       "26         7.1      E      15.28       Другие  \n",
       "27         NaN    NaN      15.13       Другие  \n",
       "28         8.4      E      14.97       Другие  \n",
       "29         3.4      M      14.73         X360  \n",
       "30         NaN    NaN      14.64       Другие  \n",
       "31         NaN    NaN      14.63          PS4  \n",
       "32         6.3      M      14.62         X360  \n",
       "33         NaN    NaN      14.60          3DS  \n",
       "34         5.3      M      13.79          PS3  \n",
       "35         4.8      M      13.68         X360  \n",
       "36         6.3      M      13.47         X360  \n",
       "37         3.2      M      13.33          PS3  \n",
       "38         8.5      M      13.10       Другие  \n",
       "39         8.9      T      12.84       Другие  \n",
       "40         8.2      E      12.65          3DS  \n",
       "41         6.4      M      12.63          PS3  \n",
       "42         8.3      M      12.62          PS4  \n",
       "43         8.7      E      12.14       Другие  \n",
       "44         7.8      M      12.12         X360  \n",
       "45         NaN    NaN      11.90       Другие  \n",
       "46         NaN    NaN      11.77       Другие  \n",
       "47         NaN    NaN      11.68          3DS  \n",
       "48         8.5      E      11.65       Другие  \n",
       "49         8.9      E      11.35       Другие  "
      ]
     },
     "metadata": {},
     "output_type": "display_data"
    }
   ],
   "source": [
    "display(df.head(50))"
   ]
  },
  {
   "cell_type": "code",
   "execution_count": 29,
   "metadata": {},
   "outputs": [],
   "source": [
    "def pie_region(index, region, title):\n",
    "    df_period = df[df['year_of_release']>=2014]\n",
    "    df_region_pivot = df_period.pivot_table(index=index, values=region, aggfunc='sum')\n",
    "    plt.figure(figsize=(18,6))\n",
    "    plt.pie(x=df_region_pivot[region], labels=df_region_pivot.index, autopct='%.0f')\n",
    "    plt.title(title);"
   ]
  },
  {
   "cell_type": "markdown",
   "metadata": {},
   "source": [
    "Теперь с помощью функции нарисуем диаграммы "
   ]
  },
  {
   "cell_type": "code",
   "execution_count": 30,
   "metadata": {},
   "outputs": [
    {
     "data": {
      "image/png": "[encoded data removed]",
      "text/plain": [
       "<Figure size 1296x432 with 1 Axes>"
      ]
     },
     "metadata": {},
     "output_type": "display_data"
    },
    {
     "data": {
      "image/png": "[encoded data removed]",
      "text/plain": [
       "<Figure size 1296x432 with 1 Axes>"
      ]
     },
     "metadata": {},
     "output_type": "display_data"
    },
    {
     "data": {
      "image/png": "[encoded data removed]",
      "text/plain": [
       "<Figure size 1296x432 with 1 Axes>"
      ]
     },
     "metadata": {},
     "output_type": "display_data"
    }
   ],
   "source": [
    "pie_region('platform_new', 'na_sales', 'ТОП-5 платформ в Северной Америке')\n",
    "pie_region('platform_new', 'eu_sales', 'ТОП-5 платформ в Европе')\n",
    "pie_region('platform_new', 'jp_sales', 'ТОП-5 платформ в Японии')"
   ]
  },
  {
   "cell_type": "markdown",
   "metadata": {},
   "source": [
    "Видим, что пользователи в Северной Америке и Европе имеют схожие вкусы: В ТОП-5 наиболее востребованных платформ входят PS4(35% и 48% соответственно), XOne (29% и 17% соответственно), PS3 (8% и 8% соответственно), X360 (10% и 6% соответственно). А вот в Японии ситуация несколько иная: наиболее популярны 3DS 47% (хотя в Европе и Америке непопулярна),  PS4 (16%), PS3 (12%), а также другие платформы, которые непопулярны в Европе и Америке."
   ]
  },
  {
   "cell_type": "code",
   "execution_count": 31,
   "metadata": {
    "scrolled": true
   },
   "outputs": [
    {
     "data": {
      "image/png": "[encoded data removed]",
      "text/plain": [
       "<Figure size 1296x432 with 1 Axes>"
      ]
     },
     "metadata": {},
     "output_type": "display_data"
    },
    {
     "data": {
      "image/png": "[encoded data removed]",
      "text/plain": [
       "<Figure size 1296x432 with 1 Axes>"
      ]
     },
     "metadata": {},
     "output_type": "display_data"
    },
    {
     "data": {
      "image/png": "[encoded data removed]",
      "text/plain": [
       "<Figure size 1296x432 with 1 Axes>"
      ]
     },
     "metadata": {},
     "output_type": "display_data"
    }
   ],
   "source": [
    "pie_region('genre', 'na_sales', 'ТОП-5 жанров в Северной Америке')\n",
    "pie_region('genre', 'eu_sales', 'ТОП-5 жанров в Европе')\n",
    "pie_region('genre', 'jp_sales', 'ТОП-5 жанров в Японии')"
   ]
  },
  {
   "cell_type": "markdown",
   "metadata": {},
   "source": [
    "В жанрах в целом ситуация аналогична платформам. В ТОП-5 в Европе и Америке входят одинаковые жанры:\n",
    "- Action (26% в Америке и 28% в Европе)\n",
    "- Sports (16% и 17% соответственно)\n",
    "- Shooter (28% и 24%)\n",
    "- Role-Playing (12% и 10%)\n",
    "- Misc (по 5%)\n",
    "Япония отличается от Америки и Европы. Здесь проценты распределились следующим образом:\n",
    "- Role-Playing 34%\n",
    "- Action 32%\n",
    "- Fighting 7% (редко используется в Европе и Америке) \n",
    "- Misc 6%\n",
    "- Shooter 5%."
   ]
  },
  {
   "cell_type": "code",
   "execution_count": 32,
   "metadata": {},
   "outputs": [
    {
     "data": {
      "image/png": "[encoded data removed]",
      "text/plain": [
       "<Figure size 1296x432 with 1 Axes>"
      ]
     },
     "metadata": {},
     "output_type": "display_data"
    },
    {
     "data": {
      "image/png": "[encoded data removed]",
      "text/plain": [
       "<Figure size 1296x432 with 1 Axes>"
      ]
     },
     "metadata": {},
     "output_type": "display_data"
    },
    {
     "data": {
      "image/png": "[encoded data removed]",
      "text/plain": [
       "<Figure size 1296x432 with 1 Axes>"
      ]
     },
     "metadata": {},
     "output_type": "display_data"
    }
   ],
   "source": [
    "pie_region('rating', 'na_sales', 'Рейтинги ESRB  в Северной Америке')\n",
    "pie_region('rating', 'eu_sales', 'Рейтинги ESRB в Европе')\n",
    "pie_region('rating', 'jp_sales', 'Рейтинги ESRB в Японии')"
   ]
  },
  {
   "cell_type": "markdown",
   "metadata": {},
   "source": [
    "Видим, что пользователи в Северной Америке и Европе предпочитают игры с рейтингом М (34% в Америке и 35% в Европе), с рейтингом Е (18% и 21% соответственно). Игры без рейтинга составляют в Америке 23%, в Европе 22%. Далее попопулярности рейтинг Т (14% в Америке и 13% в Европе). Наименее популярны игры с рейтингом Е10+ (12% и 10% соответственно). В Японии ситуация абсолютно иная: игры с неопределенным рейтингом занимают здесь бОльшую часть 61%, далее рейтинг Т (16%), Е (10%), М (9%). Наименее популярен в Японии, также как в Америке и Европе, рейтинг Е10+(5%)."
   ]
  },
  {
   "cell_type": "markdown",
   "metadata": {},
   "source": [
    "## Проверка гипотез"
   ]
  },
  {
   "cell_type": "markdown",
   "metadata": {},
   "source": [
    "### Средние пользовательские рейтинги Xbox One и PC одинаковые"
   ]
  },
  {
   "cell_type": "markdown",
   "metadata": {},
   "source": [
    "Нулевая гипотеза (Н0) - средние рейтинги пользователей платформ Xbox One и PC одинаковые. Альтернативная гипотеза (Н1) - средние рейтинги пользователей платформ Xbox One и PC различаются. Для проверки Н0 используем ttest, alpha =5%, т.к. дисперсии разные параметру equal_var присвоим значение False."
   ]
  },
  {
   "cell_type": "code",
   "execution_count": 33,
   "metadata": {},
   "outputs": [
    {
     "name": "stdout",
     "output_type": "stream",
     "text": [
      "p-значение:  0.11601398086668943\n",
      "Не получилось отвергнуть нулевую гипотезу\n"
     ]
    }
   ],
   "source": [
    "df_PC = df.query('platform == \"PC\" and year_of_release >= 2014')\n",
    "XOne_user_score = df_XOne['user_score']\n",
    "PC_user_score = df_PC['user_score']\n",
    "alpha = 0.05\n",
    "# results = st.ttest_ind(XOne_user_score, PC_user_score, equal_var = False, , nan_policy='omit')\n",
    "# Ниже поправил твой код\n",
    "results = st.ttest_ind(XOne_user_score, PC_user_score, equal_var = False, nan_policy='omit')\n",
    "\n",
    "print('p-значение: ', results.pvalue)\n",
    "\n",
    "if results.pvalue < alpha:\n",
    "    print(\"Отвергаем нулевую гипотезу\")\n",
    "else:\n",
    "    print(\"Не получилось отвергнуть нулевую гипотезу\") \n",
    "\n"
   ]
  },
  {
   "cell_type": "markdown",
   "metadata": {},
   "source": [
    "Таким образом, нулевая гипотеза о равентстве рейтингов игр, написанных на платформах PC и XOne после 2014 года, подтвердилась. Средние рейтинги пользователей платформ Xbox One и PC одинаковые."
   ]
  },
  {
   "cell_type": "markdown",
   "metadata": {},
   "source": [
    "### Средние пользовательские рейтинги жанров Action и Sports различаются"
   ]
  },
  {
   "cell_type": "markdown",
   "metadata": {},
   "source": [
    "Нулевая гипотеза (Н0) - средние рейтинги пользователей жанров Action и Sports одинаковые. Альтернативная гипотеза (Н1) - средние рейтинги пользователей жанров Action и Sports различаются. Для проверки Н0 используем ttest, alpha =5%, т.к. дисперсии разные параметру equal_var присвоим значение False."
   ]
  },
  {
   "cell_type": "code",
   "execution_count": 34,
   "metadata": {},
   "outputs": [
    {
     "name": "stdout",
     "output_type": "stream",
     "text": [
      "p-значение:  1.182555038264477e-14\n",
      "Отвергаем нулевую гипотезу\n"
     ]
    }
   ],
   "source": [
    "df_Action = df.query('genre == \"Action\" and year_of_release>=2014')\n",
    "df_Sports = df.query('genre == \"Sports\" and year_of_release>=2014 ')\n",
    "Action_user_score = df_Action['user_score']\n",
    "Sports_user_score = df_Sports['user_score']\n",
    "alpha = 0.05\n",
    "results = st.ttest_ind(Action_user_score, Sports_user_score, equal_var = False, nan_policy='omit')\n",
    "\n",
    "print('p-значение: ', results.pvalue)\n",
    "\n",
    "if results.pvalue < alpha:\n",
    "    print(\"Отвергаем нулевую гипотезу\")\n",
    "else:\n",
    "    print(\"Не получилось отвергнуть нулевую гипотезу\") "
   ]
  },
  {
   "cell_type": "markdown",
   "metadata": {},
   "source": [
    "\n",
    "В параметрах метода применили параметр nan_policy='omit', который позволил игнорировать пропуски\n"
   ]
  },
  {
   "cell_type": "markdown",
   "metadata": {},
   "source": [
    "Т.к. нулевая гипотеза о равенстве пользовательских рейтингов игр, написанных в жанрах Action и Sports после 2014 года, не подтвердилась, делаем вывод о различии рейтингов этих двух жанров"
   ]
  },
  {
   "cell_type": "markdown",
   "metadata": {},
   "source": [
    "## Общий вывод"
   ]
  },
  {
   "cell_type": "markdown",
   "metadata": {},
   "source": [
    "В процессе проведенного анализа мы выявили, что в актуальный период (после 2014 года) наибольшие продажи наблюдались по играм, написанным на платформах PS4(более 100 млн.проданных комий) XOne (60 млн.копий). Но эти платформы популярны только в Европе и Америке, в Японии лидирует 3DS (47% всех продаж). Причем продажи по этим платформам очень слабо зависят от рейтингов и пользователей (коэф.корреляции 0,2 и 0,1). Наиболее популярные жанры в Америке и Европе - это Action (более 20% всех продаж) и Shooter (более 20%). В Японии Action (более 30% всех продаж) также популярен. Но также здесь популярен еще и Role-Playing (34% всех продаж). Поэтому рекламные кампании лучше планировать разные: одну для пользователей Европы и Америки, другую - для жителей Японии "
   ]
  }
 ],
 "metadata": {
  "ExecuteTimeLog": [
   {
    "duration": 2391,
    "start_time": "2022-03-10T20:31:11.339Z"
   },
   {
    "duration": 57,
    "start_time": "2022-03-10T20:31:32.826Z"
   },
   {
    "duration": 1131,
    "start_time": "2022-03-11T11:21:41.734Z"
   },
   {
    "duration": 283,
    "start_time": "2022-03-11T12:59:15.963Z"
   },
   {
    "duration": 61,
    "start_time": "2022-03-11T13:00:23.987Z"
   },
   {
    "duration": 63,
    "start_time": "2022-03-11T13:00:42.993Z"
   },
   {
    "duration": 192,
    "start_time": "2022-03-11T13:00:52.576Z"
   },
   {
    "duration": 283,
    "start_time": "2022-03-11T13:01:11.169Z"
   },
   {
    "duration": 4783,
    "start_time": "2022-03-11T13:07:30.407Z"
   },
   {
    "duration": 124,
    "start_time": "2022-03-11T13:08:34.652Z"
   },
   {
    "duration": 203,
    "start_time": "2022-03-11T13:29:29.275Z"
   },
   {
    "duration": 190,
    "start_time": "2022-03-11T13:29:55.872Z"
   },
   {
    "duration": 3,
    "start_time": "2022-03-11T13:30:53.067Z"
   },
   {
    "duration": 190,
    "start_time": "2022-03-11T13:31:12.100Z"
   },
   {
    "duration": 52,
    "start_time": "2022-03-11T13:31:21.900Z"
   },
   {
    "duration": 3,
    "start_time": "2022-03-11T13:31:26.765Z"
   },
   {
    "duration": 201,
    "start_time": "2022-03-11T13:31:44.483Z"
   },
   {
    "duration": 195,
    "start_time": "2022-03-11T13:33:15.343Z"
   },
   {
    "duration": 178,
    "start_time": "2022-03-11T13:33:36.583Z"
   },
   {
    "duration": 186,
    "start_time": "2022-03-11T13:33:57.727Z"
   },
   {
    "duration": 181,
    "start_time": "2022-03-11T13:36:30.194Z"
   },
   {
    "duration": 194,
    "start_time": "2022-03-11T13:37:22.415Z"
   },
   {
    "duration": 204,
    "start_time": "2022-03-11T13:37:30.567Z"
   },
   {
    "duration": 241,
    "start_time": "2022-03-11T13:37:39.087Z"
   },
   {
    "duration": 1066,
    "start_time": "2022-03-11T13:37:48.412Z"
   },
   {
    "duration": 16,
    "start_time": "2022-03-11T13:37:49.480Z"
   },
   {
    "duration": 24,
    "start_time": "2022-03-11T13:55:42.324Z"
   },
   {
    "duration": 5375,
    "start_time": "2022-03-11T14:07:21.529Z"
   },
   {
    "duration": 21,
    "start_time": "2022-03-11T14:07:44.103Z"
   },
   {
    "duration": 9,
    "start_time": "2022-03-11T14:35:08.956Z"
   },
   {
    "duration": 21,
    "start_time": "2022-03-11T14:37:20.877Z"
   },
   {
    "duration": 25,
    "start_time": "2022-03-11T14:39:47.576Z"
   },
   {
    "duration": 25,
    "start_time": "2022-03-11T14:40:51.782Z"
   },
   {
    "duration": 27,
    "start_time": "2022-03-11T14:41:12.214Z"
   },
   {
    "duration": 245,
    "start_time": "2022-03-12T14:55:22.987Z"
   },
   {
    "duration": 1125,
    "start_time": "2022-03-12T14:55:29.385Z"
   },
   {
    "duration": 18,
    "start_time": "2022-03-12T14:55:30.512Z"
   },
   {
    "duration": 30,
    "start_time": "2022-03-12T14:55:30.533Z"
   },
   {
    "duration": 14,
    "start_time": "2022-03-12T14:55:30.566Z"
   },
   {
    "duration": 29,
    "start_time": "2022-03-12T14:55:30.582Z"
   },
   {
    "duration": 20,
    "start_time": "2022-03-12T14:55:30.612Z"
   },
   {
    "duration": 42,
    "start_time": "2022-03-12T14:55:30.634Z"
   },
   {
    "duration": 25,
    "start_time": "2022-03-12T14:55:30.678Z"
   },
   {
    "duration": 53,
    "start_time": "2022-03-12T14:55:30.706Z"
   },
   {
    "duration": 22,
    "start_time": "2022-03-12T14:55:56.932Z"
   },
   {
    "duration": 21,
    "start_time": "2022-03-12T14:57:24.042Z"
   },
   {
    "duration": 23,
    "start_time": "2022-03-12T14:58:05.058Z"
   },
   {
    "duration": 19,
    "start_time": "2022-03-12T15:01:22.959Z"
   },
   {
    "duration": 1095,
    "start_time": "2022-03-12T15:09:01.501Z"
   },
   {
    "duration": 16,
    "start_time": "2022-03-12T15:09:02.598Z"
   },
   {
    "duration": 20,
    "start_time": "2022-03-12T15:09:02.618Z"
   },
   {
    "duration": 30,
    "start_time": "2022-03-12T15:09:02.640Z"
   },
   {
    "duration": 26,
    "start_time": "2022-03-12T15:09:02.671Z"
   },
   {
    "duration": 28,
    "start_time": "2022-03-12T15:09:02.699Z"
   },
   {
    "duration": 289,
    "start_time": "2022-03-12T15:09:02.729Z"
   },
   {
    "duration": 20,
    "start_time": "2022-03-12T15:09:03.000Z"
   },
   {
    "duration": 18,
    "start_time": "2022-03-12T15:09:03.003Z"
   },
   {
    "duration": 14,
    "start_time": "2022-03-12T15:09:03.008Z"
   },
   {
    "duration": 16,
    "start_time": "2022-03-12T15:09:44.509Z"
   },
   {
    "duration": 68,
    "start_time": "2022-03-12T15:11:19.161Z"
   },
   {
    "duration": 64,
    "start_time": "2022-03-12T15:11:23.243Z"
   },
   {
    "duration": 23,
    "start_time": "2022-03-12T15:11:44.324Z"
   },
   {
    "duration": 27,
    "start_time": "2022-03-12T15:12:33.748Z"
   },
   {
    "duration": 24,
    "start_time": "2022-03-12T15:13:15.270Z"
   },
   {
    "duration": 7,
    "start_time": "2022-03-12T15:13:19.447Z"
   },
   {
    "duration": 7,
    "start_time": "2022-03-12T15:13:24.302Z"
   },
   {
    "duration": 26,
    "start_time": "2022-03-12T15:19:24.440Z"
   },
   {
    "duration": 5,
    "start_time": "2022-03-12T15:25:40.593Z"
   },
   {
    "duration": 22,
    "start_time": "2022-03-12T15:26:09.954Z"
   },
   {
    "duration": 5,
    "start_time": "2022-03-12T15:27:07.232Z"
   },
   {
    "duration": 187,
    "start_time": "2022-03-12T15:30:02.970Z"
   },
   {
    "duration": 20,
    "start_time": "2022-03-12T15:31:34.887Z"
   },
   {
    "duration": 203,
    "start_time": "2022-03-12T15:49:02.849Z"
   },
   {
    "duration": 11,
    "start_time": "2022-03-12T15:49:13.320Z"
   },
   {
    "duration": 12,
    "start_time": "2022-03-12T15:49:33.184Z"
   },
   {
    "duration": 17,
    "start_time": "2022-03-12T15:49:56.936Z"
   },
   {
    "duration": 18,
    "start_time": "2022-03-12T15:56:12.353Z"
   },
   {
    "duration": 2,
    "start_time": "2022-03-12T15:58:28.391Z"
   },
   {
    "duration": 197,
    "start_time": "2022-03-12T19:57:22.578Z"
   },
   {
    "duration": 6,
    "start_time": "2022-03-12T19:57:27.854Z"
   },
   {
    "duration": 1038,
    "start_time": "2022-03-12T19:57:44.654Z"
   },
   {
    "duration": 18,
    "start_time": "2022-03-12T19:57:45.694Z"
   },
   {
    "duration": 20,
    "start_time": "2022-03-12T19:57:45.714Z"
   },
   {
    "duration": 26,
    "start_time": "2022-03-12T19:57:45.736Z"
   },
   {
    "duration": 14,
    "start_time": "2022-03-12T19:57:45.764Z"
   },
   {
    "duration": 19,
    "start_time": "2022-03-12T19:57:45.779Z"
   },
   {
    "duration": 15,
    "start_time": "2022-03-12T19:57:45.799Z"
   },
   {
    "duration": 55,
    "start_time": "2022-03-12T19:57:45.816Z"
   },
   {
    "duration": 5,
    "start_time": "2022-03-12T19:57:45.872Z"
   },
   {
    "duration": 5,
    "start_time": "2022-03-12T19:57:45.879Z"
   },
   {
    "duration": 17,
    "start_time": "2022-03-12T19:57:45.886Z"
   },
   {
    "duration": 17,
    "start_time": "2022-03-12T19:57:45.905Z"
   },
   {
    "duration": 37,
    "start_time": "2022-03-12T19:57:45.923Z"
   },
   {
    "duration": 9,
    "start_time": "2022-03-12T19:58:59.781Z"
   },
   {
    "duration": 75,
    "start_time": "2022-03-12T20:03:55.017Z"
   },
   {
    "duration": 261,
    "start_time": "2022-03-12T20:04:11.154Z"
   },
   {
    "duration": 199,
    "start_time": "2022-03-12T20:04:19.299Z"
   },
   {
    "duration": 257,
    "start_time": "2022-03-12T20:07:09.490Z"
   },
   {
    "duration": 128,
    "start_time": "2022-03-12T20:07:36.399Z"
   },
   {
    "duration": 9,
    "start_time": "2022-03-12T20:09:46.391Z"
   },
   {
    "duration": 351,
    "start_time": "2022-03-12T20:12:36.956Z"
   },
   {
    "duration": 4794,
    "start_time": "2022-03-12T20:22:27.939Z"
   },
   {
    "duration": 4828,
    "start_time": "2022-03-12T20:22:46.822Z"
   },
   {
    "duration": 207,
    "start_time": "2022-03-12T20:22:54.652Z"
   },
   {
    "duration": 206,
    "start_time": "2022-03-12T20:23:22.169Z"
   },
   {
    "duration": 251,
    "start_time": "2022-03-12T20:24:34.614Z"
   },
   {
    "duration": 255,
    "start_time": "2022-03-12T20:27:23.195Z"
   },
   {
    "duration": 510,
    "start_time": "2022-03-12T20:45:17.655Z"
   },
   {
    "duration": 14,
    "start_time": "2022-03-12T20:45:43.221Z"
   },
   {
    "duration": 13,
    "start_time": "2022-03-12T20:46:46.193Z"
   },
   {
    "duration": 14,
    "start_time": "2022-03-12T20:47:01.442Z"
   },
   {
    "duration": 11,
    "start_time": "2022-03-12T20:49:07.787Z"
   },
   {
    "duration": 7,
    "start_time": "2022-03-12T20:52:16.009Z"
   },
   {
    "duration": 53,
    "start_time": "2022-03-12T20:55:38.747Z"
   },
   {
    "duration": 6,
    "start_time": "2022-03-12T20:55:50.793Z"
   },
   {
    "duration": 49,
    "start_time": "2022-03-12T21:08:48.395Z"
   },
   {
    "duration": 63,
    "start_time": "2022-03-12T21:15:21.808Z"
   },
   {
    "duration": 11,
    "start_time": "2022-03-12T21:15:31.796Z"
   },
   {
    "duration": 76,
    "start_time": "2022-03-12T21:20:21.479Z"
   },
   {
    "duration": 69,
    "start_time": "2022-03-12T21:21:30.949Z"
   },
   {
    "duration": 65,
    "start_time": "2022-03-12T21:21:46.757Z"
   },
   {
    "duration": 187,
    "start_time": "2022-03-12T21:23:42.925Z"
   },
   {
    "duration": 5,
    "start_time": "2022-03-12T21:24:44.358Z"
   },
   {
    "duration": 190,
    "start_time": "2022-03-12T21:25:04.323Z"
   },
   {
    "duration": 1062,
    "start_time": "2022-03-12T21:25:10.797Z"
   },
   {
    "duration": 16,
    "start_time": "2022-03-12T21:25:11.860Z"
   },
   {
    "duration": 20,
    "start_time": "2022-03-12T21:25:11.878Z"
   },
   {
    "duration": 11,
    "start_time": "2022-03-12T21:25:11.900Z"
   },
   {
    "duration": 32,
    "start_time": "2022-03-12T21:25:11.913Z"
   },
   {
    "duration": 24,
    "start_time": "2022-03-12T21:25:11.946Z"
   },
   {
    "duration": 24,
    "start_time": "2022-03-12T21:25:11.972Z"
   },
   {
    "duration": 21,
    "start_time": "2022-03-12T21:25:11.998Z"
   },
   {
    "duration": 5,
    "start_time": "2022-03-12T21:25:12.021Z"
   },
   {
    "duration": 24,
    "start_time": "2022-03-12T21:25:12.027Z"
   },
   {
    "duration": 18,
    "start_time": "2022-03-12T21:25:12.059Z"
   },
   {
    "duration": 17,
    "start_time": "2022-03-12T21:25:12.079Z"
   },
   {
    "duration": 10,
    "start_time": "2022-03-12T21:25:12.098Z"
   },
   {
    "duration": 291,
    "start_time": "2022-03-12T21:25:12.110Z"
   },
   {
    "duration": 9,
    "start_time": "2022-03-12T21:25:12.403Z"
   },
   {
    "duration": 292,
    "start_time": "2022-03-12T21:25:12.414Z"
   },
   {
    "duration": 219,
    "start_time": "2022-03-12T21:28:01.565Z"
   },
   {
    "duration": 11,
    "start_time": "2022-03-12T21:29:01.496Z"
   },
   {
    "duration": 11,
    "start_time": "2022-03-12T21:30:32.107Z"
   },
   {
    "duration": 11,
    "start_time": "2022-03-12T21:30:35.489Z"
   },
   {
    "duration": 261,
    "start_time": "2022-03-12T21:35:43.490Z"
   },
   {
    "duration": 219,
    "start_time": "2022-03-12T21:36:32.136Z"
   },
   {
    "duration": 1135,
    "start_time": "2022-03-12T21:37:14.957Z"
   },
   {
    "duration": 17,
    "start_time": "2022-03-12T21:37:16.094Z"
   },
   {
    "duration": 22,
    "start_time": "2022-03-12T21:37:16.113Z"
   },
   {
    "duration": 35,
    "start_time": "2022-03-12T21:37:16.137Z"
   },
   {
    "duration": 22,
    "start_time": "2022-03-12T21:37:16.173Z"
   },
   {
    "duration": 19,
    "start_time": "2022-03-12T21:37:16.197Z"
   },
   {
    "duration": 15,
    "start_time": "2022-03-12T21:37:16.218Z"
   },
   {
    "duration": 46,
    "start_time": "2022-03-12T21:37:16.235Z"
   },
   {
    "duration": 5,
    "start_time": "2022-03-12T21:37:16.282Z"
   },
   {
    "duration": 18,
    "start_time": "2022-03-12T21:37:16.289Z"
   },
   {
    "duration": 34,
    "start_time": "2022-03-12T21:37:16.309Z"
   },
   {
    "duration": 19,
    "start_time": "2022-03-12T21:37:16.344Z"
   },
   {
    "duration": 9,
    "start_time": "2022-03-12T21:37:16.365Z"
   },
   {
    "duration": 283,
    "start_time": "2022-03-12T21:37:16.376Z"
   },
   {
    "duration": 8,
    "start_time": "2022-03-12T21:37:16.660Z"
   },
   {
    "duration": 300,
    "start_time": "2022-03-12T21:37:16.670Z"
   },
   {
    "duration": 226,
    "start_time": "2022-03-12T21:37:49.930Z"
   },
   {
    "duration": 23,
    "start_time": "2022-03-12T21:41:02.133Z"
   },
   {
    "duration": 205,
    "start_time": "2022-03-12T21:41:13.886Z"
   },
   {
    "duration": 219,
    "start_time": "2022-03-12T21:44:18.696Z"
   },
   {
    "duration": 28,
    "start_time": "2022-03-12T21:44:52.627Z"
   },
   {
    "duration": 67,
    "start_time": "2022-03-12T21:47:30.470Z"
   },
   {
    "duration": 54,
    "start_time": "2022-03-12T21:47:50.167Z"
   },
   {
    "duration": 23,
    "start_time": "2022-03-12T21:48:29.177Z"
   },
   {
    "duration": 25,
    "start_time": "2022-03-12T21:50:31.023Z"
   },
   {
    "duration": 259,
    "start_time": "2022-03-12T21:50:58.851Z"
   },
   {
    "duration": 4486,
    "start_time": "2022-03-12T21:53:48.811Z"
   },
   {
    "duration": 4588,
    "start_time": "2022-03-12T21:55:48.291Z"
   },
   {
    "duration": 17,
    "start_time": "2022-03-12T21:57:00.655Z"
   },
   {
    "duration": 342,
    "start_time": "2022-03-12T21:57:47.397Z"
   },
   {
    "duration": 1430,
    "start_time": "2022-03-14T12:06:04.430Z"
   },
   {
    "duration": 24,
    "start_time": "2022-03-14T12:06:05.863Z"
   },
   {
    "duration": 59,
    "start_time": "2022-03-14T12:06:05.891Z"
   },
   {
    "duration": 18,
    "start_time": "2022-03-14T12:06:05.953Z"
   },
   {
    "duration": 23,
    "start_time": "2022-03-14T12:06:05.974Z"
   },
   {
    "duration": 53,
    "start_time": "2022-03-14T12:06:05.999Z"
   },
   {
    "duration": 23,
    "start_time": "2022-03-14T12:06:06.055Z"
   },
   {
    "duration": 34,
    "start_time": "2022-03-14T12:06:06.083Z"
   },
   {
    "duration": 9,
    "start_time": "2022-03-14T12:06:06.150Z"
   },
   {
    "duration": 9,
    "start_time": "2022-03-14T12:06:06.162Z"
   },
   {
    "duration": 26,
    "start_time": "2022-03-14T12:06:06.173Z"
   },
   {
    "duration": 70,
    "start_time": "2022-03-14T12:06:06.201Z"
   },
   {
    "duration": 12,
    "start_time": "2022-03-14T12:06:06.274Z"
   },
   {
    "duration": 402,
    "start_time": "2022-03-14T12:06:06.288Z"
   },
   {
    "duration": 10,
    "start_time": "2022-03-14T12:06:06.692Z"
   },
   {
    "duration": 504,
    "start_time": "2022-03-14T12:06:06.704Z"
   },
   {
    "duration": 495,
    "start_time": "2022-03-14T12:08:50.293Z"
   },
   {
    "duration": 501,
    "start_time": "2022-03-14T12:09:13.901Z"
   },
   {
    "duration": 23,
    "start_time": "2022-03-14T12:09:32.764Z"
   },
   {
    "duration": 483,
    "start_time": "2022-03-14T12:16:39.297Z"
   },
   {
    "duration": 488,
    "start_time": "2022-03-14T12:32:00.138Z"
   },
   {
    "duration": 491,
    "start_time": "2022-03-14T12:33:19.935Z"
   },
   {
    "duration": 18,
    "start_time": "2022-03-14T12:37:51.625Z"
   },
   {
    "duration": 18,
    "start_time": "2022-03-14T12:38:05.304Z"
   },
   {
    "duration": 539,
    "start_time": "2022-03-14T12:38:07.440Z"
   },
   {
    "duration": 411,
    "start_time": "2022-03-14T12:39:03.942Z"
   },
   {
    "duration": 374,
    "start_time": "2022-03-14T12:39:24.758Z"
   },
   {
    "duration": 100,
    "start_time": "2022-03-14T12:40:14.775Z"
   },
   {
    "duration": 380,
    "start_time": "2022-03-14T12:40:23.415Z"
   },
   {
    "duration": 1435,
    "start_time": "2022-03-14T12:40:57.943Z"
   },
   {
    "duration": 25,
    "start_time": "2022-03-14T12:40:59.381Z"
   },
   {
    "duration": 54,
    "start_time": "2022-03-14T12:40:59.409Z"
   },
   {
    "duration": 21,
    "start_time": "2022-03-14T12:40:59.466Z"
   },
   {
    "duration": 22,
    "start_time": "2022-03-14T12:40:59.490Z"
   },
   {
    "duration": 64,
    "start_time": "2022-03-14T12:40:59.515Z"
   },
   {
    "duration": 23,
    "start_time": "2022-03-14T12:40:59.582Z"
   },
   {
    "duration": 62,
    "start_time": "2022-03-14T12:40:59.610Z"
   },
   {
    "duration": 9,
    "start_time": "2022-03-14T12:40:59.676Z"
   },
   {
    "duration": 8,
    "start_time": "2022-03-14T12:40:59.687Z"
   },
   {
    "duration": 61,
    "start_time": "2022-03-14T12:40:59.697Z"
   },
   {
    "duration": 25,
    "start_time": "2022-03-14T12:40:59.760Z"
   },
   {
    "duration": 13,
    "start_time": "2022-03-14T12:40:59.787Z"
   },
   {
    "duration": 431,
    "start_time": "2022-03-14T12:40:59.803Z"
   },
   {
    "duration": 21,
    "start_time": "2022-03-14T12:41:00.237Z"
   },
   {
    "duration": 23,
    "start_time": "2022-03-14T12:41:00.260Z"
   },
   {
    "duration": 690,
    "start_time": "2022-03-14T12:41:00.286Z"
   },
   {
    "duration": 25,
    "start_time": "2022-03-14T12:41:32.930Z"
   },
   {
    "duration": 22,
    "start_time": "2022-03-14T12:44:54.727Z"
   },
   {
    "duration": 12,
    "start_time": "2022-03-14T12:50:14.892Z"
   },
   {
    "duration": 14,
    "start_time": "2022-03-14T12:50:48.396Z"
   },
   {
    "duration": 22,
    "start_time": "2022-03-14T12:53:24.328Z"
   },
   {
    "duration": 30,
    "start_time": "2022-03-14T12:54:01.103Z"
   },
   {
    "duration": 718,
    "start_time": "2022-03-14T13:06:00.462Z"
   },
   {
    "duration": 497,
    "start_time": "2022-03-14T13:09:19.520Z"
   },
   {
    "duration": 6848,
    "start_time": "2022-03-14T13:57:39.431Z"
   },
   {
    "duration": 868,
    "start_time": "2022-03-14T14:06:41.279Z"
   },
   {
    "duration": 1795,
    "start_time": "2022-03-14T14:10:17.763Z"
   },
   {
    "duration": 25,
    "start_time": "2022-03-14T14:10:19.562Z"
   },
   {
    "duration": 69,
    "start_time": "2022-03-14T14:10:19.590Z"
   },
   {
    "duration": 21,
    "start_time": "2022-03-14T14:10:19.662Z"
   },
   {
    "duration": 20,
    "start_time": "2022-03-14T14:10:19.686Z"
   },
   {
    "duration": 84,
    "start_time": "2022-03-14T14:10:19.709Z"
   },
   {
    "duration": 31,
    "start_time": "2022-03-14T14:10:19.796Z"
   },
   {
    "duration": 57,
    "start_time": "2022-03-14T14:10:19.831Z"
   },
   {
    "duration": 8,
    "start_time": "2022-03-14T14:10:19.891Z"
   },
   {
    "duration": 8,
    "start_time": "2022-03-14T14:10:19.902Z"
   },
   {
    "duration": 56,
    "start_time": "2022-03-14T14:10:19.913Z"
   },
   {
    "duration": 42,
    "start_time": "2022-03-14T14:10:19.971Z"
   },
   {
    "duration": 58,
    "start_time": "2022-03-14T14:10:20.016Z"
   },
   {
    "duration": 424,
    "start_time": "2022-03-14T14:10:20.077Z"
   },
   {
    "duration": 19,
    "start_time": "2022-03-14T14:10:20.503Z"
   },
   {
    "duration": 532,
    "start_time": "2022-03-14T14:10:20.524Z"
   },
   {
    "duration": 802,
    "start_time": "2022-03-14T14:10:21.059Z"
   },
   {
    "duration": 500,
    "start_time": "2022-03-14T14:10:33.727Z"
   },
   {
    "duration": 300,
    "start_time": "2022-03-14T14:12:28.177Z"
   },
   {
    "duration": 764,
    "start_time": "2022-03-14T14:12:36.156Z"
   },
   {
    "duration": 300,
    "start_time": "2022-03-14T14:13:27.731Z"
   },
   {
    "duration": 321,
    "start_time": "2022-03-14T14:13:55.235Z"
   },
   {
    "duration": 317,
    "start_time": "2022-03-14T14:18:31.123Z"
   },
   {
    "duration": 265,
    "start_time": "2022-03-14T14:22:08.395Z"
   },
   {
    "duration": 787,
    "start_time": "2022-03-14T14:25:13.264Z"
   },
   {
    "duration": 719,
    "start_time": "2022-03-14T14:25:32.505Z"
   },
   {
    "duration": 565,
    "start_time": "2022-03-14T14:26:30.743Z"
   },
   {
    "duration": 302,
    "start_time": "2022-03-14T14:28:40.452Z"
   },
   {
    "duration": 280,
    "start_time": "2022-03-14T14:33:09.036Z"
   },
   {
    "duration": 1455,
    "start_time": "2022-03-14T14:39:26.667Z"
   },
   {
    "duration": 36,
    "start_time": "2022-03-14T14:39:28.125Z"
   },
   {
    "duration": 31,
    "start_time": "2022-03-14T14:39:28.164Z"
   },
   {
    "duration": 19,
    "start_time": "2022-03-14T14:39:28.198Z"
   },
   {
    "duration": 58,
    "start_time": "2022-03-14T14:39:28.220Z"
   },
   {
    "duration": 32,
    "start_time": "2022-03-14T14:39:28.281Z"
   },
   {
    "duration": 50,
    "start_time": "2022-03-14T14:39:28.316Z"
   },
   {
    "duration": 34,
    "start_time": "2022-03-14T14:39:28.370Z"
   },
   {
    "duration": 7,
    "start_time": "2022-03-14T14:39:28.408Z"
   },
   {
    "duration": 36,
    "start_time": "2022-03-14T14:39:28.418Z"
   },
   {
    "duration": 26,
    "start_time": "2022-03-14T14:39:28.457Z"
   },
   {
    "duration": 31,
    "start_time": "2022-03-14T14:39:28.486Z"
   },
   {
    "duration": 47,
    "start_time": "2022-03-14T14:39:28.520Z"
   },
   {
    "duration": 414,
    "start_time": "2022-03-14T14:39:28.569Z"
   },
   {
    "duration": 18,
    "start_time": "2022-03-14T14:39:28.985Z"
   },
   {
    "duration": 535,
    "start_time": "2022-03-14T14:39:29.006Z"
   },
   {
    "duration": 393,
    "start_time": "2022-03-14T14:39:29.543Z"
   },
   {
    "duration": 280,
    "start_time": "2022-03-14T14:39:53.398Z"
   },
   {
    "duration": 521,
    "start_time": "2022-03-14T14:40:10.680Z"
   },
   {
    "duration": 489,
    "start_time": "2022-03-14T14:56:05.808Z"
   },
   {
    "duration": 469,
    "start_time": "2022-03-14T14:57:44.218Z"
   },
   {
    "duration": 336,
    "start_time": "2022-03-14T14:59:30.248Z"
   },
   {
    "duration": 460,
    "start_time": "2022-03-14T15:00:32.887Z"
   },
   {
    "duration": 281,
    "start_time": "2022-03-14T15:03:38.610Z"
   },
   {
    "duration": 617,
    "start_time": "2022-03-14T15:06:12.846Z"
   },
   {
    "duration": 596,
    "start_time": "2022-03-14T15:06:44.565Z"
   },
   {
    "duration": 545,
    "start_time": "2022-03-14T15:06:58.309Z"
   },
   {
    "duration": 569,
    "start_time": "2022-03-14T15:07:05.255Z"
   },
   {
    "duration": 669,
    "start_time": "2022-03-14T15:08:24.515Z"
   },
   {
    "duration": 629,
    "start_time": "2022-03-14T15:08:43.387Z"
   },
   {
    "duration": 1172,
    "start_time": "2022-03-14T20:06:20.850Z"
   },
   {
    "duration": 16,
    "start_time": "2022-03-14T20:06:22.024Z"
   },
   {
    "duration": 20,
    "start_time": "2022-03-14T20:06:22.042Z"
   },
   {
    "duration": 12,
    "start_time": "2022-03-14T20:06:22.064Z"
   },
   {
    "duration": 16,
    "start_time": "2022-03-14T20:06:22.078Z"
   },
   {
    "duration": 19,
    "start_time": "2022-03-14T20:06:22.095Z"
   },
   {
    "duration": 14,
    "start_time": "2022-03-14T20:06:22.116Z"
   },
   {
    "duration": 22,
    "start_time": "2022-03-14T20:06:22.165Z"
   },
   {
    "duration": 6,
    "start_time": "2022-03-14T20:06:22.189Z"
   },
   {
    "duration": 6,
    "start_time": "2022-03-14T20:06:22.197Z"
   },
   {
    "duration": 19,
    "start_time": "2022-03-14T20:06:22.204Z"
   },
   {
    "duration": 47,
    "start_time": "2022-03-14T20:06:22.225Z"
   },
   {
    "duration": 9,
    "start_time": "2022-03-14T20:06:22.274Z"
   },
   {
    "duration": 258,
    "start_time": "2022-03-14T20:06:22.285Z"
   },
   {
    "duration": 29,
    "start_time": "2022-03-14T20:06:22.545Z"
   },
   {
    "duration": 309,
    "start_time": "2022-03-14T20:06:22.576Z"
   },
   {
    "duration": 358,
    "start_time": "2022-03-14T20:06:22.887Z"
   },
   {
    "duration": 213,
    "start_time": "2022-03-14T20:08:16.807Z"
   },
   {
    "duration": 225,
    "start_time": "2022-03-14T20:08:46.438Z"
   },
   {
    "duration": 212,
    "start_time": "2022-03-14T20:08:58.129Z"
   },
   {
    "duration": 313,
    "start_time": "2022-03-14T20:09:47.444Z"
   },
   {
    "duration": 1166,
    "start_time": "2022-03-14T20:09:54.841Z"
   },
   {
    "duration": 18,
    "start_time": "2022-03-14T20:09:56.009Z"
   },
   {
    "duration": 43,
    "start_time": "2022-03-14T20:09:56.029Z"
   },
   {
    "duration": 13,
    "start_time": "2022-03-14T20:09:56.074Z"
   },
   {
    "duration": 26,
    "start_time": "2022-03-14T20:09:56.089Z"
   },
   {
    "duration": 18,
    "start_time": "2022-03-14T20:09:56.117Z"
   },
   {
    "duration": 35,
    "start_time": "2022-03-14T20:09:56.137Z"
   },
   {
    "duration": 21,
    "start_time": "2022-03-14T20:09:56.175Z"
   },
   {
    "duration": 5,
    "start_time": "2022-03-14T20:09:56.197Z"
   },
   {
    "duration": 11,
    "start_time": "2022-03-14T20:09:56.204Z"
   },
   {
    "duration": 23,
    "start_time": "2022-03-14T20:09:56.216Z"
   },
   {
    "duration": 40,
    "start_time": "2022-03-14T20:09:56.241Z"
   },
   {
    "duration": 10,
    "start_time": "2022-03-14T20:09:56.283Z"
   },
   {
    "duration": 263,
    "start_time": "2022-03-14T20:09:56.295Z"
   },
   {
    "duration": 13,
    "start_time": "2022-03-14T20:09:56.564Z"
   },
   {
    "duration": 311,
    "start_time": "2022-03-14T20:09:56.579Z"
   },
   {
    "duration": 227,
    "start_time": "2022-03-14T20:09:56.892Z"
   },
   {
    "duration": 1152,
    "start_time": "2022-03-14T20:10:56.581Z"
   },
   {
    "duration": 15,
    "start_time": "2022-03-14T20:10:57.735Z"
   },
   {
    "duration": 23,
    "start_time": "2022-03-14T20:10:57.752Z"
   },
   {
    "duration": 12,
    "start_time": "2022-03-14T20:10:57.776Z"
   },
   {
    "duration": 14,
    "start_time": "2022-03-14T20:10:57.790Z"
   },
   {
    "duration": 18,
    "start_time": "2022-03-14T20:10:57.805Z"
   },
   {
    "duration": 41,
    "start_time": "2022-03-14T20:10:57.825Z"
   },
   {
    "duration": 20,
    "start_time": "2022-03-14T20:10:57.869Z"
   },
   {
    "duration": 6,
    "start_time": "2022-03-14T20:10:57.891Z"
   },
   {
    "duration": 11,
    "start_time": "2022-03-14T20:10:57.898Z"
   },
   {
    "duration": 25,
    "start_time": "2022-03-14T20:10:57.911Z"
   },
   {
    "duration": 49,
    "start_time": "2022-03-14T20:10:57.938Z"
   },
   {
    "duration": 13,
    "start_time": "2022-03-14T20:10:57.989Z"
   },
   {
    "duration": 345,
    "start_time": "2022-03-14T20:10:58.004Z"
   },
   {
    "duration": 25,
    "start_time": "2022-03-14T20:10:58.351Z"
   },
   {
    "duration": 439,
    "start_time": "2022-03-14T20:10:58.378Z"
   },
   {
    "duration": 316,
    "start_time": "2022-03-14T20:10:58.819Z"
   },
   {
    "duration": 231,
    "start_time": "2022-03-14T20:11:08.412Z"
   },
   {
    "duration": 1215,
    "start_time": "2022-03-14T20:11:20.279Z"
   },
   {
    "duration": 19,
    "start_time": "2022-03-14T20:11:21.496Z"
   },
   {
    "duration": 46,
    "start_time": "2022-03-14T20:11:21.517Z"
   },
   {
    "duration": 23,
    "start_time": "2022-03-14T20:11:21.565Z"
   },
   {
    "duration": 16,
    "start_time": "2022-03-14T20:11:21.590Z"
   },
   {
    "duration": 29,
    "start_time": "2022-03-14T20:11:21.608Z"
   },
   {
    "duration": 40,
    "start_time": "2022-03-14T20:11:21.640Z"
   },
   {
    "duration": 24,
    "start_time": "2022-03-14T20:11:21.682Z"
   },
   {
    "duration": 7,
    "start_time": "2022-03-14T20:11:21.709Z"
   },
   {
    "duration": 24,
    "start_time": "2022-03-14T20:11:21.718Z"
   },
   {
    "duration": 28,
    "start_time": "2022-03-14T20:11:21.744Z"
   },
   {
    "duration": 23,
    "start_time": "2022-03-14T20:11:21.773Z"
   },
   {
    "duration": 11,
    "start_time": "2022-03-14T20:11:21.798Z"
   },
   {
    "duration": 283,
    "start_time": "2022-03-14T20:11:21.811Z"
   },
   {
    "duration": 17,
    "start_time": "2022-03-14T20:11:22.096Z"
   },
   {
    "duration": 439,
    "start_time": "2022-03-14T20:11:22.114Z"
   },
   {
    "duration": 348,
    "start_time": "2022-03-14T20:11:22.563Z"
   },
   {
    "duration": 230,
    "start_time": "2022-03-14T20:12:45.867Z"
   },
   {
    "duration": 216,
    "start_time": "2022-03-14T20:12:53.264Z"
   },
   {
    "duration": 204,
    "start_time": "2022-03-14T20:12:57.288Z"
   },
   {
    "duration": 1277,
    "start_time": "2022-03-14T20:13:05.027Z"
   },
   {
    "duration": 16,
    "start_time": "2022-03-14T20:13:06.306Z"
   },
   {
    "duration": 20,
    "start_time": "2022-03-14T20:13:06.325Z"
   },
   {
    "duration": 13,
    "start_time": "2022-03-14T20:13:06.363Z"
   },
   {
    "duration": 15,
    "start_time": "2022-03-14T20:13:06.378Z"
   },
   {
    "duration": 25,
    "start_time": "2022-03-14T20:13:06.395Z"
   },
   {
    "duration": 46,
    "start_time": "2022-03-14T20:13:06.422Z"
   },
   {
    "duration": 29,
    "start_time": "2022-03-14T20:13:06.471Z"
   },
   {
    "duration": 6,
    "start_time": "2022-03-14T20:13:06.503Z"
   },
   {
    "duration": 8,
    "start_time": "2022-03-14T20:13:06.510Z"
   },
   {
    "duration": 54,
    "start_time": "2022-03-14T20:13:06.520Z"
   },
   {
    "duration": 18,
    "start_time": "2022-03-14T20:13:06.576Z"
   },
   {
    "duration": 10,
    "start_time": "2022-03-14T20:13:06.596Z"
   },
   {
    "duration": 278,
    "start_time": "2022-03-14T20:13:06.607Z"
   },
   {
    "duration": 14,
    "start_time": "2022-03-14T20:13:06.886Z"
   },
   {
    "duration": 329,
    "start_time": "2022-03-14T20:13:06.902Z"
   },
   {
    "duration": 461,
    "start_time": "2022-03-14T20:13:07.233Z"
   },
   {
    "duration": 318,
    "start_time": "2022-03-14T20:15:22.023Z"
   },
   {
    "duration": 184,
    "start_time": "2022-03-14T20:16:46.744Z"
   },
   {
    "duration": 337,
    "start_time": "2022-03-14T20:18:02.305Z"
   },
   {
    "duration": 305,
    "start_time": "2022-03-14T20:19:55.161Z"
   },
   {
    "duration": 246,
    "start_time": "2022-03-14T20:20:15.203Z"
   },
   {
    "duration": 266,
    "start_time": "2022-03-14T20:22:19.954Z"
   },
   {
    "duration": 392,
    "start_time": "2022-03-14T20:22:26.918Z"
   },
   {
    "duration": 497,
    "start_time": "2022-03-14T20:23:00.374Z"
   },
   {
    "duration": 525,
    "start_time": "2022-03-14T20:29:35.191Z"
   },
   {
    "duration": 334,
    "start_time": "2022-03-14T20:29:47.959Z"
   },
   {
    "duration": 344,
    "start_time": "2022-03-14T20:29:56.015Z"
   },
   {
    "duration": 706,
    "start_time": "2022-03-14T20:30:10.415Z"
   },
   {
    "duration": 501,
    "start_time": "2022-03-14T20:30:19.949Z"
   },
   {
    "duration": 258,
    "start_time": "2022-03-14T20:36:25.518Z"
   },
   {
    "duration": 634,
    "start_time": "2022-03-14T20:37:09.759Z"
   },
   {
    "duration": 242,
    "start_time": "2022-03-14T20:41:37.355Z"
   },
   {
    "duration": 449,
    "start_time": "2022-03-14T20:41:45.614Z"
   },
   {
    "duration": 1134,
    "start_time": "2022-03-14T20:41:58.767Z"
   },
   {
    "duration": 15,
    "start_time": "2022-03-14T20:41:59.903Z"
   },
   {
    "duration": 18,
    "start_time": "2022-03-14T20:41:59.922Z"
   },
   {
    "duration": 32,
    "start_time": "2022-03-14T20:41:59.941Z"
   },
   {
    "duration": 17,
    "start_time": "2022-03-14T20:41:59.974Z"
   },
   {
    "duration": 21,
    "start_time": "2022-03-14T20:41:59.992Z"
   },
   {
    "duration": 19,
    "start_time": "2022-03-14T20:42:00.016Z"
   },
   {
    "duration": 24,
    "start_time": "2022-03-14T20:42:00.063Z"
   },
   {
    "duration": 6,
    "start_time": "2022-03-14T20:42:00.089Z"
   },
   {
    "duration": 11,
    "start_time": "2022-03-14T20:42:00.097Z"
   },
   {
    "duration": 18,
    "start_time": "2022-03-14T20:42:00.110Z"
   },
   {
    "duration": 50,
    "start_time": "2022-03-14T20:42:00.130Z"
   },
   {
    "duration": 11,
    "start_time": "2022-03-14T20:42:00.182Z"
   },
   {
    "duration": 262,
    "start_time": "2022-03-14T20:42:00.195Z"
   },
   {
    "duration": 14,
    "start_time": "2022-03-14T20:42:00.463Z"
   },
   {
    "duration": 321,
    "start_time": "2022-03-14T20:42:00.479Z"
   },
   {
    "duration": 477,
    "start_time": "2022-03-14T20:42:00.802Z"
   },
   {
    "duration": 321,
    "start_time": "2022-03-14T20:42:13.144Z"
   },
   {
    "duration": 332,
    "start_time": "2022-03-14T20:42:47.555Z"
   },
   {
    "duration": 33,
    "start_time": "2022-03-14T20:48:11.996Z"
   },
   {
    "duration": 339,
    "start_time": "2022-03-14T20:49:25.329Z"
   },
   {
    "duration": 213,
    "start_time": "2022-03-14T20:50:50.988Z"
   },
   {
    "duration": 424,
    "start_time": "2022-03-14T20:51:10.551Z"
   },
   {
    "duration": 1107,
    "start_time": "2022-03-14T20:57:27.716Z"
   },
   {
    "duration": 23,
    "start_time": "2022-03-14T20:57:28.825Z"
   },
   {
    "duration": 30,
    "start_time": "2022-03-14T20:57:28.851Z"
   },
   {
    "duration": 13,
    "start_time": "2022-03-14T20:57:28.883Z"
   },
   {
    "duration": 18,
    "start_time": "2022-03-14T20:57:28.898Z"
   },
   {
    "duration": 46,
    "start_time": "2022-03-14T20:57:28.918Z"
   },
   {
    "duration": 29,
    "start_time": "2022-03-14T20:57:28.966Z"
   },
   {
    "duration": 28,
    "start_time": "2022-03-14T20:57:28.998Z"
   },
   {
    "duration": 5,
    "start_time": "2022-03-14T20:57:29.028Z"
   },
   {
    "duration": 16,
    "start_time": "2022-03-14T20:57:29.035Z"
   },
   {
    "duration": 29,
    "start_time": "2022-03-14T20:57:29.062Z"
   },
   {
    "duration": 23,
    "start_time": "2022-03-14T20:57:29.093Z"
   },
   {
    "duration": 13,
    "start_time": "2022-03-14T20:57:29.118Z"
   },
   {
    "duration": 251,
    "start_time": "2022-03-14T20:57:29.132Z"
   },
   {
    "duration": 14,
    "start_time": "2022-03-14T20:57:29.385Z"
   },
   {
    "duration": 447,
    "start_time": "2022-03-14T20:57:29.401Z"
   },
   {
    "duration": 524,
    "start_time": "2022-03-14T20:57:29.850Z"
   },
   {
    "duration": 44,
    "start_time": "2022-03-14T20:57:30.376Z"
   },
   {
    "duration": 53,
    "start_time": "2022-03-14T21:15:45.921Z"
   },
   {
    "duration": 19,
    "start_time": "2022-03-14T21:15:45.976Z"
   },
   {
    "duration": 24,
    "start_time": "2022-03-14T21:15:45.997Z"
   },
   {
    "duration": 48,
    "start_time": "2022-03-14T21:15:46.024Z"
   },
   {
    "duration": 17,
    "start_time": "2022-03-14T21:15:46.074Z"
   },
   {
    "duration": 20,
    "start_time": "2022-03-14T21:15:46.093Z"
   },
   {
    "duration": 18,
    "start_time": "2022-03-14T21:15:46.115Z"
   },
   {
    "duration": 33,
    "start_time": "2022-03-14T21:15:46.168Z"
   },
   {
    "duration": 7,
    "start_time": "2022-03-14T21:15:46.203Z"
   },
   {
    "duration": 9,
    "start_time": "2022-03-14T21:15:46.212Z"
   },
   {
    "duration": 48,
    "start_time": "2022-03-14T21:15:46.223Z"
   },
   {
    "duration": 25,
    "start_time": "2022-03-14T21:15:46.273Z"
   },
   {
    "duration": 10,
    "start_time": "2022-03-14T21:15:46.300Z"
   },
   {
    "duration": 385,
    "start_time": "2022-03-14T21:15:46.312Z"
   },
   {
    "duration": 17,
    "start_time": "2022-03-14T21:15:46.699Z"
   },
   {
    "duration": 462,
    "start_time": "2022-03-14T21:15:46.718Z"
   },
   {
    "duration": 521,
    "start_time": "2022-03-14T21:15:47.182Z"
   },
   {
    "duration": 59,
    "start_time": "2022-03-14T21:15:47.705Z"
   },
   {
    "duration": 337,
    "start_time": "2022-03-14T21:20:29.791Z"
   },
   {
    "duration": 6009,
    "start_time": "2022-03-14T21:21:17.562Z"
   },
   {
    "duration": 642,
    "start_time": "2022-03-14T21:21:53.785Z"
   },
   {
    "duration": 1415,
    "start_time": "2022-03-15T07:02:10.670Z"
   },
   {
    "duration": 27,
    "start_time": "2022-03-15T07:02:12.088Z"
   },
   {
    "duration": 54,
    "start_time": "2022-03-15T07:02:12.119Z"
   },
   {
    "duration": 19,
    "start_time": "2022-03-15T07:02:12.176Z"
   },
   {
    "duration": 57,
    "start_time": "2022-03-15T07:02:12.198Z"
   },
   {
    "duration": 31,
    "start_time": "2022-03-15T07:02:12.258Z"
   },
   {
    "duration": 21,
    "start_time": "2022-03-15T07:02:12.292Z"
   },
   {
    "duration": 56,
    "start_time": "2022-03-15T07:02:12.317Z"
   },
   {
    "duration": 7,
    "start_time": "2022-03-15T07:02:12.376Z"
   },
   {
    "duration": 7,
    "start_time": "2022-03-15T07:02:12.385Z"
   },
   {
    "duration": 59,
    "start_time": "2022-03-15T07:02:12.395Z"
   },
   {
    "duration": 26,
    "start_time": "2022-03-15T07:02:12.456Z"
   },
   {
    "duration": 14,
    "start_time": "2022-03-15T07:02:12.484Z"
   },
   {
    "duration": 432,
    "start_time": "2022-03-15T07:02:12.500Z"
   },
   {
    "duration": 22,
    "start_time": "2022-03-15T07:02:12.934Z"
   },
   {
    "duration": 497,
    "start_time": "2022-03-15T07:02:12.958Z"
   },
   {
    "duration": 554,
    "start_time": "2022-03-15T07:02:13.458Z"
   },
   {
    "duration": 62,
    "start_time": "2022-03-15T07:02:14.015Z"
   },
   {
    "duration": 1496,
    "start_time": "2022-03-15T07:02:14.080Z"
   },
   {
    "duration": 509,
    "start_time": "2022-03-15T07:27:10.604Z"
   },
   {
    "duration": 1378,
    "start_time": "2022-03-15T07:27:21.887Z"
   },
   {
    "duration": 25,
    "start_time": "2022-03-15T07:27:23.267Z"
   },
   {
    "duration": 56,
    "start_time": "2022-03-15T07:27:23.295Z"
   },
   {
    "duration": 21,
    "start_time": "2022-03-15T07:27:23.354Z"
   },
   {
    "duration": 22,
    "start_time": "2022-03-15T07:27:23.377Z"
   },
   {
    "duration": 67,
    "start_time": "2022-03-15T07:27:23.402Z"
   },
   {
    "duration": 22,
    "start_time": "2022-03-15T07:27:23.471Z"
   },
   {
    "duration": 66,
    "start_time": "2022-03-15T07:27:23.496Z"
   },
   {
    "duration": 8,
    "start_time": "2022-03-15T07:27:23.564Z"
   },
   {
    "duration": 9,
    "start_time": "2022-03-15T07:27:23.575Z"
   },
   {
    "duration": 64,
    "start_time": "2022-03-15T07:27:23.587Z"
   },
   {
    "duration": 26,
    "start_time": "2022-03-15T07:27:23.654Z"
   },
   {
    "duration": 14,
    "start_time": "2022-03-15T07:27:23.683Z"
   },
   {
    "duration": 474,
    "start_time": "2022-03-15T07:27:23.699Z"
   },
   {
    "duration": 24,
    "start_time": "2022-03-15T07:27:24.176Z"
   },
   {
    "duration": 516,
    "start_time": "2022-03-15T07:27:24.203Z"
   },
   {
    "duration": 469,
    "start_time": "2022-03-15T07:27:24.721Z"
   },
   {
    "duration": -258973,
    "start_time": "2022-03-15T07:31:44.166Z"
   },
   {
    "duration": -258977,
    "start_time": "2022-03-15T07:31:44.171Z"
   },
   {
    "duration": 1506,
    "start_time": "2022-03-15T07:31:00.767Z"
   },
   {
    "duration": 24,
    "start_time": "2022-03-15T07:31:02.276Z"
   },
   {
    "duration": 57,
    "start_time": "2022-03-15T07:31:02.304Z"
   },
   {
    "duration": 19,
    "start_time": "2022-03-15T07:31:02.365Z"
   },
   {
    "duration": 38,
    "start_time": "2022-03-15T07:31:02.386Z"
   },
   {
    "duration": 42,
    "start_time": "2022-03-15T07:31:02.427Z"
   },
   {
    "duration": 22,
    "start_time": "2022-03-15T07:31:02.471Z"
   },
   {
    "duration": 66,
    "start_time": "2022-03-15T07:31:02.496Z"
   },
   {
    "duration": 7,
    "start_time": "2022-03-15T07:31:02.565Z"
   },
   {
    "duration": 7,
    "start_time": "2022-03-15T07:31:02.574Z"
   },
   {
    "duration": 58,
    "start_time": "2022-03-15T07:31:02.584Z"
   },
   {
    "duration": 28,
    "start_time": "2022-03-15T07:31:02.646Z"
   },
   {
    "duration": 13,
    "start_time": "2022-03-15T07:31:02.677Z"
   },
   {
    "duration": 458,
    "start_time": "2022-03-15T07:31:02.692Z"
   },
   {
    "duration": 20,
    "start_time": "2022-03-15T07:31:03.152Z"
   },
   {
    "duration": 540,
    "start_time": "2022-03-15T07:31:03.175Z"
   },
   {
    "duration": 579,
    "start_time": "2022-03-15T07:31:03.717Z"
   },
   {
    "duration": -258986,
    "start_time": "2022-03-15T07:35:23.284Z"
   },
   {
    "duration": -258988,
    "start_time": "2022-03-15T07:35:23.288Z"
   },
   {
    "duration": 368,
    "start_time": "2022-03-15T07:31:56.572Z"
   },
   {
    "duration": 757,
    "start_time": "2022-03-15T07:36:40.606Z"
   },
   {
    "duration": 839,
    "start_time": "2022-03-15T07:37:27.893Z"
   },
   {
    "duration": 1137,
    "start_time": "2022-03-15T07:38:30.636Z"
   },
   {
    "duration": 192,
    "start_time": "2022-03-15T07:41:17.615Z"
   },
   {
    "duration": 926,
    "start_time": "2022-03-15T07:42:30.717Z"
   },
   {
    "duration": 991,
    "start_time": "2022-03-15T07:45:28.777Z"
   },
   {
    "duration": 1614,
    "start_time": "2022-03-15T07:46:08.000Z"
   },
   {
    "duration": 792,
    "start_time": "2022-03-15T08:15:53.635Z"
   },
   {
    "duration": 891,
    "start_time": "2022-03-15T08:16:54.003Z"
   },
   {
    "duration": 742,
    "start_time": "2022-03-15T08:19:25.181Z"
   },
   {
    "duration": 580,
    "start_time": "2022-03-15T08:35:24.883Z"
   },
   {
    "duration": 1561,
    "start_time": "2022-03-15T08:35:36.419Z"
   },
   {
    "duration": 25,
    "start_time": "2022-03-15T08:35:37.982Z"
   },
   {
    "duration": 54,
    "start_time": "2022-03-15T08:35:38.013Z"
   },
   {
    "duration": 21,
    "start_time": "2022-03-15T08:35:38.070Z"
   },
   {
    "duration": 48,
    "start_time": "2022-03-15T08:35:38.095Z"
   },
   {
    "duration": 32,
    "start_time": "2022-03-15T08:35:38.146Z"
   },
   {
    "duration": 23,
    "start_time": "2022-03-15T08:35:38.180Z"
   },
   {
    "duration": 68,
    "start_time": "2022-03-15T08:35:38.208Z"
   },
   {
    "duration": 7,
    "start_time": "2022-03-15T08:35:38.279Z"
   },
   {
    "duration": 8,
    "start_time": "2022-03-15T08:35:38.288Z"
   },
   {
    "duration": 60,
    "start_time": "2022-03-15T08:35:38.298Z"
   },
   {
    "duration": 29,
    "start_time": "2022-03-15T08:35:38.361Z"
   },
   {
    "duration": 14,
    "start_time": "2022-03-15T08:35:38.393Z"
   },
   {
    "duration": 440,
    "start_time": "2022-03-15T08:35:38.409Z"
   },
   {
    "duration": 17,
    "start_time": "2022-03-15T08:35:38.852Z"
   },
   {
    "duration": 558,
    "start_time": "2022-03-15T08:35:38.871Z"
   },
   {
    "duration": 733,
    "start_time": "2022-03-15T08:35:39.431Z"
   },
   {
    "duration": 1869,
    "start_time": "2022-03-15T08:35:40.167Z"
   },
   {
    "duration": 140,
    "start_time": "2022-03-15T08:35:53.026Z"
   },
   {
    "duration": 1205,
    "start_time": "2022-03-15T08:35:59.361Z"
   },
   {
    "duration": 1504,
    "start_time": "2022-03-15T15:11:28.376Z"
   },
   {
    "duration": 26,
    "start_time": "2022-03-15T15:11:29.882Z"
   },
   {
    "duration": 55,
    "start_time": "2022-03-15T15:11:29.910Z"
   },
   {
    "duration": 20,
    "start_time": "2022-03-15T15:11:29.968Z"
   },
   {
    "duration": 23,
    "start_time": "2022-03-15T15:11:29.990Z"
   },
   {
    "duration": 31,
    "start_time": "2022-03-15T15:11:30.043Z"
   },
   {
    "duration": 24,
    "start_time": "2022-03-15T15:11:30.076Z"
   },
   {
    "duration": 67,
    "start_time": "2022-03-15T15:11:30.103Z"
   },
   {
    "duration": 8,
    "start_time": "2022-03-15T15:11:30.173Z"
   },
   {
    "duration": 16,
    "start_time": "2022-03-15T15:11:30.183Z"
   },
   {
    "duration": 62,
    "start_time": "2022-03-15T15:11:30.201Z"
   },
   {
    "duration": 29,
    "start_time": "2022-03-15T15:11:30.266Z"
   },
   {
    "duration": 14,
    "start_time": "2022-03-15T15:11:30.297Z"
   },
   {
    "duration": 437,
    "start_time": "2022-03-15T15:11:30.313Z"
   },
   {
    "duration": 20,
    "start_time": "2022-03-15T15:11:30.754Z"
   },
   {
    "duration": 667,
    "start_time": "2022-03-15T15:11:30.777Z"
   },
   {
    "duration": 734,
    "start_time": "2022-03-15T15:11:31.446Z"
   },
   {
    "duration": 1833,
    "start_time": "2022-03-15T15:11:32.182Z"
   },
   {
    "duration": 467,
    "start_time": "2022-03-15T15:31:55.755Z"
   },
   {
    "duration": 1247,
    "start_time": "2022-03-15T15:32:21.291Z"
   },
   {
    "duration": 1690,
    "start_time": "2022-03-15T15:34:47.872Z"
   },
   {
    "duration": 2303,
    "start_time": "2022-03-15T15:41:59.653Z"
   },
   {
    "duration": 1810,
    "start_time": "2022-03-15T15:42:31.139Z"
   },
   {
    "duration": 1748,
    "start_time": "2022-03-15T15:43:13.251Z"
   },
   {
    "duration": 1840,
    "start_time": "2022-03-15T15:43:58.633Z"
   },
   {
    "duration": 2283,
    "start_time": "2022-03-15T15:44:44.238Z"
   },
   {
    "duration": 1096,
    "start_time": "2022-03-16T07:51:58.082Z"
   },
   {
    "duration": 17,
    "start_time": "2022-03-16T07:51:59.182Z"
   },
   {
    "duration": 22,
    "start_time": "2022-03-16T07:51:59.201Z"
   },
   {
    "duration": 35,
    "start_time": "2022-03-16T07:51:59.225Z"
   },
   {
    "duration": 15,
    "start_time": "2022-03-16T07:51:59.262Z"
   },
   {
    "duration": 21,
    "start_time": "2022-03-16T07:51:59.278Z"
   },
   {
    "duration": 16,
    "start_time": "2022-03-16T07:51:59.301Z"
   },
   {
    "duration": 51,
    "start_time": "2022-03-16T07:51:59.319Z"
   },
   {
    "duration": 4,
    "start_time": "2022-03-16T07:51:59.372Z"
   },
   {
    "duration": 7,
    "start_time": "2022-03-16T07:51:59.378Z"
   },
   {
    "duration": 17,
    "start_time": "2022-03-16T07:51:59.386Z"
   },
   {
    "duration": 18,
    "start_time": "2022-03-16T07:51:59.405Z"
   },
   {
    "duration": 43,
    "start_time": "2022-03-16T07:51:59.424Z"
   },
   {
    "duration": 287,
    "start_time": "2022-03-16T07:51:59.469Z"
   },
   {
    "duration": 13,
    "start_time": "2022-03-16T07:51:59.758Z"
   },
   {
    "duration": 353,
    "start_time": "2022-03-16T07:51:59.773Z"
   },
   {
    "duration": 493,
    "start_time": "2022-03-16T07:52:00.128Z"
   },
   {
    "duration": 1238,
    "start_time": "2022-03-16T07:52:00.623Z"
   },
   {
    "duration": 1161,
    "start_time": "2022-03-16T07:52:01.863Z"
   },
   {
    "duration": 1219,
    "start_time": "2022-03-16T07:55:07.304Z"
   },
   {
    "duration": 1290,
    "start_time": "2022-03-16T07:58:15.236Z"
   },
   {
    "duration": 191,
    "start_time": "2022-03-16T07:59:49.284Z"
   },
   {
    "duration": 1293,
    "start_time": "2022-03-16T08:00:38.399Z"
   },
   {
    "duration": 3105,
    "start_time": "2022-03-16T09:03:29.827Z"
   },
   {
    "duration": 7,
    "start_time": "2022-03-16T09:03:44.044Z"
   },
   {
    "duration": 8,
    "start_time": "2022-03-16T09:12:34.218Z"
   },
   {
    "duration": 13,
    "start_time": "2022-03-16T09:12:53.142Z"
   },
   {
    "duration": 13,
    "start_time": "2022-03-16T09:13:16.636Z"
   },
   {
    "duration": 111,
    "start_time": "2022-03-16T09:15:23.707Z"
   },
   {
    "duration": 38,
    "start_time": "2022-03-16T09:16:10.070Z"
   },
   {
    "duration": 15,
    "start_time": "2022-03-16T09:16:37.197Z"
   },
   {
    "duration": 1617,
    "start_time": "2022-03-18T08:58:54.118Z"
   },
   {
    "duration": 20,
    "start_time": "2022-03-18T08:58:55.738Z"
   },
   {
    "duration": 47,
    "start_time": "2022-03-18T08:58:55.760Z"
   },
   {
    "duration": 16,
    "start_time": "2022-03-18T08:58:55.809Z"
   },
   {
    "duration": 25,
    "start_time": "2022-03-18T08:58:55.828Z"
   },
   {
    "duration": 57,
    "start_time": "2022-03-18T08:58:55.855Z"
   },
   {
    "duration": 28,
    "start_time": "2022-03-18T08:58:55.914Z"
   },
   {
    "duration": 57,
    "start_time": "2022-03-18T08:58:55.945Z"
   },
   {
    "duration": 8,
    "start_time": "2022-03-18T08:58:56.005Z"
   },
   {
    "duration": 11,
    "start_time": "2022-03-18T08:58:56.015Z"
   },
   {
    "duration": 35,
    "start_time": "2022-03-18T08:58:56.028Z"
   },
   {
    "duration": 53,
    "start_time": "2022-03-18T08:58:56.065Z"
   },
   {
    "duration": 12,
    "start_time": "2022-03-18T08:58:56.120Z"
   },
   {
    "duration": 208,
    "start_time": "2022-03-18T08:58:56.135Z"
   },
   {
    "duration": 13,
    "start_time": "2022-03-18T08:58:56.345Z"
   },
   {
    "duration": 310,
    "start_time": "2022-03-18T08:58:56.360Z"
   },
   {
    "duration": 300,
    "start_time": "2022-03-18T08:58:56.671Z"
   },
   {
    "duration": 755,
    "start_time": "2022-03-18T08:58:56.973Z"
   },
   {
    "duration": 774,
    "start_time": "2022-03-18T08:58:57.730Z"
   },
   {
    "duration": 736,
    "start_time": "2022-03-18T08:58:58.506Z"
   },
   {
    "duration": 8,
    "start_time": "2022-03-18T08:58:59.244Z"
   },
   {
    "duration": 28,
    "start_time": "2022-03-18T08:58:59.254Z"
   },
   {
    "duration": 1369,
    "start_time": "2022-03-18T10:10:16.105Z"
   },
   {
    "duration": 27,
    "start_time": "2022-03-18T10:10:17.476Z"
   },
   {
    "duration": 48,
    "start_time": "2022-03-18T10:10:17.505Z"
   },
   {
    "duration": 17,
    "start_time": "2022-03-18T10:10:17.556Z"
   },
   {
    "duration": 49,
    "start_time": "2022-03-18T10:10:17.575Z"
   },
   {
    "duration": 33,
    "start_time": "2022-03-18T10:10:17.626Z"
   },
   {
    "duration": 43,
    "start_time": "2022-03-18T10:10:17.660Z"
   },
   {
    "duration": 26,
    "start_time": "2022-03-18T10:10:17.705Z"
   },
   {
    "duration": 8,
    "start_time": "2022-03-18T10:10:17.733Z"
   },
   {
    "duration": 15,
    "start_time": "2022-03-18T10:10:17.744Z"
   },
   {
    "duration": 50,
    "start_time": "2022-03-18T10:10:17.761Z"
   },
   {
    "duration": 22,
    "start_time": "2022-03-18T10:10:17.813Z"
   },
   {
    "duration": 9,
    "start_time": "2022-03-18T10:10:17.837Z"
   },
   {
    "duration": 225,
    "start_time": "2022-03-18T10:10:17.848Z"
   },
   {
    "duration": 26,
    "start_time": "2022-03-18T10:10:18.075Z"
   },
   {
    "duration": 450,
    "start_time": "2022-03-18T10:10:18.104Z"
   },
   {
    "duration": 305,
    "start_time": "2022-03-18T10:10:18.556Z"
   },
   {
    "duration": 879,
    "start_time": "2022-03-18T10:10:18.863Z"
   },
   {
    "duration": 743,
    "start_time": "2022-03-18T10:10:19.744Z"
   },
   {
    "duration": 752,
    "start_time": "2022-03-18T10:10:20.489Z"
   },
   {
    "duration": 7,
    "start_time": "2022-03-18T10:10:21.243Z"
   },
   {
    "duration": 23,
    "start_time": "2022-03-18T10:10:21.252Z"
   },
   {
    "duration": 5,
    "start_time": "2022-03-18T10:35:20.739Z"
   },
   {
    "duration": 3,
    "start_time": "2022-03-18T10:48:37.672Z"
   },
   {
    "duration": 124,
    "start_time": "2022-03-18T10:52:19.593Z"
   },
   {
    "duration": 394,
    "start_time": "2022-03-18T10:53:25.912Z"
   },
   {
    "duration": 619,
    "start_time": "2022-03-18T10:54:50.582Z"
   },
   {
    "duration": 273,
    "start_time": "2022-03-18T10:56:23.899Z"
   },
   {
    "duration": 430,
    "start_time": "2022-03-18T10:57:12.628Z"
   },
   {
    "duration": 425,
    "start_time": "2022-03-18T10:58:32.144Z"
   },
   {
    "duration": 5,
    "start_time": "2022-03-18T10:59:58.413Z"
   },
   {
    "duration": 466,
    "start_time": "2022-03-18T11:00:00.805Z"
   },
   {
    "duration": 171,
    "start_time": "2022-03-18T11:10:01.694Z"
   },
   {
    "duration": 170,
    "start_time": "2022-03-18T11:10:20.382Z"
   },
   {
    "duration": 262,
    "start_time": "2022-03-18T11:10:29.510Z"
   },
   {
    "duration": 178,
    "start_time": "2022-03-18T11:13:57.562Z"
   },
   {
    "duration": 146,
    "start_time": "2022-03-18T11:15:50.198Z"
   },
   {
    "duration": 174,
    "start_time": "2022-03-18T11:18:23.938Z"
   },
   {
    "duration": 154,
    "start_time": "2022-03-18T11:21:40.286Z"
   },
   {
    "duration": 430,
    "start_time": "2022-03-18T11:22:54.731Z"
   },
   {
    "duration": 403,
    "start_time": "2022-03-18T11:23:56.666Z"
   },
   {
    "duration": 141,
    "start_time": "2022-03-18T11:26:56.342Z"
   },
   {
    "duration": 398,
    "start_time": "2022-03-18T11:27:24.981Z"
   },
   {
    "duration": 431,
    "start_time": "2022-03-18T11:27:55.484Z"
   },
   {
    "duration": 512,
    "start_time": "2022-03-18T11:28:04.189Z"
   },
   {
    "duration": 451,
    "start_time": "2022-03-18T11:32:43.991Z"
   },
   {
    "duration": 407,
    "start_time": "2022-03-18T11:32:58.054Z"
   },
   {
    "duration": 449,
    "start_time": "2022-03-18T11:34:34.857Z"
   },
   {
    "duration": 305,
    "start_time": "2022-03-18T11:35:27.546Z"
   },
   {
    "duration": 615,
    "start_time": "2022-03-18T12:47:38.358Z"
   },
   {
    "duration": 720,
    "start_time": "2022-03-18T12:47:50.599Z"
   },
   {
    "duration": 1287,
    "start_time": "2022-03-18T12:47:58.438Z"
   },
   {
    "duration": 18,
    "start_time": "2022-03-18T12:47:59.727Z"
   },
   {
    "duration": 32,
    "start_time": "2022-03-18T12:47:59.747Z"
   },
   {
    "duration": 15,
    "start_time": "2022-03-18T12:47:59.803Z"
   },
   {
    "duration": 32,
    "start_time": "2022-03-18T12:47:59.820Z"
   },
   {
    "duration": 24,
    "start_time": "2022-03-18T12:47:59.854Z"
   },
   {
    "duration": 35,
    "start_time": "2022-03-18T12:47:59.880Z"
   },
   {
    "duration": 24,
    "start_time": "2022-03-18T12:47:59.917Z"
   },
   {
    "duration": 6,
    "start_time": "2022-03-18T12:47:59.943Z"
   },
   {
    "duration": 17,
    "start_time": "2022-03-18T12:47:59.951Z"
   },
   {
    "duration": 58,
    "start_time": "2022-03-18T12:47:59.970Z"
   },
   {
    "duration": 32,
    "start_time": "2022-03-18T12:48:00.031Z"
   },
   {
    "duration": 9,
    "start_time": "2022-03-18T12:48:00.065Z"
   },
   {
    "duration": 222,
    "start_time": "2022-03-18T12:48:00.076Z"
   },
   {
    "duration": 12,
    "start_time": "2022-03-18T12:48:00.301Z"
   },
   {
    "duration": 299,
    "start_time": "2022-03-18T12:48:00.315Z"
   },
   {
    "duration": 310,
    "start_time": "2022-03-18T12:48:00.617Z"
   },
   {
    "duration": 750,
    "start_time": "2022-03-18T12:48:00.929Z"
   },
   {
    "duration": 792,
    "start_time": "2022-03-18T12:48:01.682Z"
   },
   {
    "duration": 782,
    "start_time": "2022-03-18T12:48:02.476Z"
   },
   {
    "duration": 8,
    "start_time": "2022-03-18T12:48:03.260Z"
   },
   {
    "duration": 33,
    "start_time": "2022-03-18T12:48:03.270Z"
   },
   {
    "duration": 4,
    "start_time": "2022-03-18T12:48:03.306Z"
   },
   {
    "duration": 138,
    "start_time": "2022-03-18T12:48:03.313Z"
   },
   {
    "duration": 0,
    "start_time": "2022-03-18T12:48:03.453Z"
   },
   {
    "duration": 0,
    "start_time": "2022-03-18T12:48:03.455Z"
   },
   {
    "duration": 3,
    "start_time": "2022-03-18T12:49:45.924Z"
   },
   {
    "duration": 482,
    "start_time": "2022-03-18T12:50:00.546Z"
   },
   {
    "duration": 618,
    "start_time": "2022-03-18T12:50:06.585Z"
   },
   {
    "duration": 296,
    "start_time": "2022-03-18T12:50:16.522Z"
   },
   {
    "duration": 4,
    "start_time": "2022-03-18T12:56:52.577Z"
   },
   {
    "duration": 173,
    "start_time": "2022-03-18T12:56:56.273Z"
   },
   {
    "duration": 5,
    "start_time": "2022-03-18T12:57:04.889Z"
   },
   {
    "duration": 167,
    "start_time": "2022-03-18T12:57:09.200Z"
   },
   {
    "duration": 4,
    "start_time": "2022-03-18T12:57:23.623Z"
   },
   {
    "duration": 164,
    "start_time": "2022-03-18T12:57:25.632Z"
   },
   {
    "duration": 1256,
    "start_time": "2022-03-18T12:57:38.125Z"
   },
   {
    "duration": 19,
    "start_time": "2022-03-18T12:57:39.383Z"
   },
   {
    "duration": 31,
    "start_time": "2022-03-18T12:57:39.405Z"
   },
   {
    "duration": 15,
    "start_time": "2022-03-18T12:57:39.438Z"
   },
   {
    "duration": 48,
    "start_time": "2022-03-18T12:57:39.455Z"
   },
   {
    "duration": 24,
    "start_time": "2022-03-18T12:57:39.506Z"
   },
   {
    "duration": 24,
    "start_time": "2022-03-18T12:57:39.532Z"
   },
   {
    "duration": 44,
    "start_time": "2022-03-18T12:57:39.558Z"
   },
   {
    "duration": 6,
    "start_time": "2022-03-18T12:57:39.604Z"
   },
   {
    "duration": 12,
    "start_time": "2022-03-18T12:57:39.612Z"
   },
   {
    "duration": 33,
    "start_time": "2022-03-18T12:57:39.627Z"
   },
   {
    "duration": 30,
    "start_time": "2022-03-18T12:57:39.662Z"
   },
   {
    "duration": 12,
    "start_time": "2022-03-18T12:57:39.694Z"
   },
   {
    "duration": 202,
    "start_time": "2022-03-18T12:57:39.709Z"
   },
   {
    "duration": 12,
    "start_time": "2022-03-18T12:57:39.913Z"
   },
   {
    "duration": 303,
    "start_time": "2022-03-18T12:57:39.927Z"
   },
   {
    "duration": 307,
    "start_time": "2022-03-18T12:57:40.232Z"
   },
   {
    "duration": 700,
    "start_time": "2022-03-18T12:57:40.541Z"
   },
   {
    "duration": 753,
    "start_time": "2022-03-18T12:57:41.243Z"
   },
   {
    "duration": 717,
    "start_time": "2022-03-18T12:57:42.002Z"
   },
   {
    "duration": 8,
    "start_time": "2022-03-18T12:57:42.721Z"
   },
   {
    "duration": 22,
    "start_time": "2022-03-18T12:57:42.731Z"
   },
   {
    "duration": 4,
    "start_time": "2022-03-18T12:57:42.755Z"
   },
   {
    "duration": 277,
    "start_time": "2022-03-18T12:57:42.761Z"
   },
   {
    "duration": 0,
    "start_time": "2022-03-18T12:57:43.041Z"
   },
   {
    "duration": 0,
    "start_time": "2022-03-18T12:57:43.042Z"
   },
   {
    "duration": 5,
    "start_time": "2022-03-18T12:58:17.262Z"
   },
   {
    "duration": 441,
    "start_time": "2022-03-18T12:58:19.846Z"
   },
   {
    "duration": 649,
    "start_time": "2022-03-18T13:54:21.225Z"
   },
   {
    "duration": 535,
    "start_time": "2022-03-18T14:00:36.247Z"
   },
   {
    "duration": 315,
    "start_time": "2022-03-18T14:21:14.680Z"
   },
   {
    "duration": 1744,
    "start_time": "2022-03-19T08:58:19.531Z"
   },
   {
    "duration": 25,
    "start_time": "2022-03-19T08:58:21.277Z"
   },
   {
    "duration": 42,
    "start_time": "2022-03-19T08:58:21.304Z"
   },
   {
    "duration": 43,
    "start_time": "2022-03-19T08:58:21.349Z"
   },
   {
    "duration": 29,
    "start_time": "2022-03-19T08:58:21.395Z"
   },
   {
    "duration": 56,
    "start_time": "2022-03-19T08:58:21.426Z"
   },
   {
    "duration": 24,
    "start_time": "2022-03-19T08:58:21.484Z"
   },
   {
    "duration": 38,
    "start_time": "2022-03-19T08:58:21.510Z"
   },
   {
    "duration": 36,
    "start_time": "2022-03-19T08:58:21.550Z"
   },
   {
    "duration": 6,
    "start_time": "2022-03-19T08:58:21.590Z"
   },
   {
    "duration": 30,
    "start_time": "2022-03-19T08:58:21.598Z"
   },
   {
    "duration": 59,
    "start_time": "2022-03-19T08:58:21.631Z"
   },
   {
    "duration": 13,
    "start_time": "2022-03-19T08:58:21.693Z"
   },
   {
    "duration": 333,
    "start_time": "2022-03-19T08:58:21.708Z"
   },
   {
    "duration": 21,
    "start_time": "2022-03-19T08:58:22.043Z"
   },
   {
    "duration": 447,
    "start_time": "2022-03-19T08:58:22.068Z"
   },
   {
    "duration": 486,
    "start_time": "2022-03-19T08:58:22.517Z"
   },
   {
    "duration": 1486,
    "start_time": "2022-03-19T08:58:23.005Z"
   },
   {
    "duration": 1097,
    "start_time": "2022-03-19T08:58:24.493Z"
   },
   {
    "duration": 1104,
    "start_time": "2022-03-19T08:58:25.593Z"
   },
   {
    "duration": 10,
    "start_time": "2022-03-19T08:58:26.700Z"
   },
   {
    "duration": 21,
    "start_time": "2022-03-19T08:58:26.712Z"
   },
   {
    "duration": 5,
    "start_time": "2022-03-19T08:58:26.735Z"
   },
   {
    "duration": 772,
    "start_time": "2022-03-19T08:58:26.742Z"
   },
   {
    "duration": 834,
    "start_time": "2022-03-19T08:58:27.517Z"
   },
   {
    "duration": 479,
    "start_time": "2022-03-19T08:58:28.353Z"
   },
   {
    "duration": 93,
    "start_time": "2022-03-19T09:08:14.658Z"
   },
   {
    "duration": 59,
    "start_time": "2022-03-19T09:08:14.755Z"
   },
   {
    "duration": 36,
    "start_time": "2022-03-19T09:08:14.817Z"
   },
   {
    "duration": 48,
    "start_time": "2022-03-19T09:08:14.856Z"
   },
   {
    "duration": 48,
    "start_time": "2022-03-19T09:08:14.907Z"
   },
   {
    "duration": 45,
    "start_time": "2022-03-19T09:08:14.958Z"
   },
   {
    "duration": 23,
    "start_time": "2022-03-19T09:08:15.006Z"
   },
   {
    "duration": 56,
    "start_time": "2022-03-19T09:08:15.031Z"
   },
   {
    "duration": 8,
    "start_time": "2022-03-19T09:08:15.091Z"
   },
   {
    "duration": 22,
    "start_time": "2022-03-19T09:08:15.104Z"
   },
   {
    "duration": 41,
    "start_time": "2022-03-19T09:08:15.128Z"
   },
   {
    "duration": 44,
    "start_time": "2022-03-19T09:08:15.171Z"
   },
   {
    "duration": 26,
    "start_time": "2022-03-19T09:08:15.217Z"
   },
   {
    "duration": 350,
    "start_time": "2022-03-19T09:08:15.245Z"
   },
   {
    "duration": 17,
    "start_time": "2022-03-19T09:08:15.598Z"
   },
   {
    "duration": 575,
    "start_time": "2022-03-19T09:08:15.618Z"
   },
   {
    "duration": 514,
    "start_time": "2022-03-19T09:08:16.196Z"
   },
   {
    "duration": 1088,
    "start_time": "2022-03-19T09:08:16.713Z"
   },
   {
    "duration": 1165,
    "start_time": "2022-03-19T09:08:17.804Z"
   },
   {
    "duration": 1231,
    "start_time": "2022-03-19T09:08:18.971Z"
   },
   {
    "duration": 11,
    "start_time": "2022-03-19T09:08:20.205Z"
   },
   {
    "duration": 24,
    "start_time": "2022-03-19T09:08:20.219Z"
   },
   {
    "duration": 6,
    "start_time": "2022-03-19T09:08:20.245Z"
   },
   {
    "duration": 738,
    "start_time": "2022-03-19T09:08:20.253Z"
   },
   {
    "duration": 907,
    "start_time": "2022-03-19T09:08:20.995Z"
   },
   {
    "duration": 533,
    "start_time": "2022-03-19T09:08:21.905Z"
   },
   {
    "duration": 4,
    "start_time": "2022-03-19T09:08:22.440Z"
   },
   {
    "duration": 20,
    "start_time": "2022-03-19T09:33:48.381Z"
   },
   {
    "duration": 12,
    "start_time": "2022-03-19T09:36:02.932Z"
   },
   {
    "duration": 15,
    "start_time": "2022-03-19T09:40:23.455Z"
   },
   {
    "duration": 1547,
    "start_time": "2022-03-19T09:40:31.774Z"
   },
   {
    "duration": 26,
    "start_time": "2022-03-19T09:40:33.324Z"
   },
   {
    "duration": 63,
    "start_time": "2022-03-19T09:40:33.353Z"
   },
   {
    "duration": 18,
    "start_time": "2022-03-19T09:40:33.419Z"
   },
   {
    "duration": 48,
    "start_time": "2022-03-19T09:40:33.439Z"
   },
   {
    "duration": 31,
    "start_time": "2022-03-19T09:40:33.489Z"
   },
   {
    "duration": 27,
    "start_time": "2022-03-19T09:40:33.522Z"
   },
   {
    "duration": 56,
    "start_time": "2022-03-19T09:40:33.552Z"
   },
   {
    "duration": 7,
    "start_time": "2022-03-19T09:40:33.610Z"
   },
   {
    "duration": 7,
    "start_time": "2022-03-19T09:40:33.622Z"
   },
   {
    "duration": 67,
    "start_time": "2022-03-19T09:40:33.631Z"
   },
   {
    "duration": 27,
    "start_time": "2022-03-19T09:40:33.700Z"
   },
   {
    "duration": 12,
    "start_time": "2022-03-19T09:40:33.729Z"
   },
   {
    "duration": 308,
    "start_time": "2022-03-19T09:40:33.743Z"
   },
   {
    "duration": 30,
    "start_time": "2022-03-19T09:40:34.054Z"
   },
   {
    "duration": 441,
    "start_time": "2022-03-19T09:40:34.086Z"
   },
   {
    "duration": 490,
    "start_time": "2022-03-19T09:40:34.530Z"
   },
   {
    "duration": 1149,
    "start_time": "2022-03-19T09:40:35.023Z"
   },
   {
    "duration": 1055,
    "start_time": "2022-03-19T09:40:36.175Z"
   },
   {
    "duration": 1095,
    "start_time": "2022-03-19T09:40:37.232Z"
   },
   {
    "duration": 12,
    "start_time": "2022-03-19T09:40:38.330Z"
   },
   {
    "duration": 48,
    "start_time": "2022-03-19T09:40:38.344Z"
   },
   {
    "duration": 6,
    "start_time": "2022-03-19T09:40:38.394Z"
   },
   {
    "duration": 685,
    "start_time": "2022-03-19T09:40:38.402Z"
   },
   {
    "duration": 881,
    "start_time": "2022-03-19T09:40:39.089Z"
   },
   {
    "duration": 483,
    "start_time": "2022-03-19T09:40:39.972Z"
   },
   {
    "duration": 27,
    "start_time": "2022-03-19T09:40:40.458Z"
   },
   {
    "duration": 38,
    "start_time": "2022-03-19T09:42:35.951Z"
   },
   {
    "duration": 23,
    "start_time": "2022-03-19T09:43:15.818Z"
   },
   {
    "duration": 14,
    "start_time": "2022-03-19T09:46:48.556Z"
   },
   {
    "duration": 13,
    "start_time": "2022-03-19T09:47:05.676Z"
   },
   {
    "duration": 7,
    "start_time": "2022-03-19T09:47:43.376Z"
   },
   {
    "duration": 9,
    "start_time": "2022-03-19T09:48:35.230Z"
   },
   {
    "duration": 10,
    "start_time": "2022-03-19T09:49:38.850Z"
   },
   {
    "duration": 6,
    "start_time": "2022-03-19T09:50:15.232Z"
   },
   {
    "duration": 8,
    "start_time": "2022-03-19T09:51:06.963Z"
   },
   {
    "duration": 11,
    "start_time": "2022-03-19T09:51:51.548Z"
   },
   {
    "duration": 11,
    "start_time": "2022-03-19T09:52:27.948Z"
   },
   {
    "duration": 8,
    "start_time": "2022-03-19T09:52:37.027Z"
   },
   {
    "duration": 8,
    "start_time": "2022-03-19T09:52:41.375Z"
   },
   {
    "duration": 20,
    "start_time": "2022-03-19T09:53:08.399Z"
   },
   {
    "duration": 11,
    "start_time": "2022-03-19T09:53:59.766Z"
   },
   {
    "duration": 14,
    "start_time": "2022-03-19T09:54:10.579Z"
   },
   {
    "duration": 145,
    "start_time": "2022-03-19T09:54:26.810Z"
   },
   {
    "duration": 11,
    "start_time": "2022-03-19T09:54:42.459Z"
   },
   {
    "duration": 13,
    "start_time": "2022-03-19T09:55:50.648Z"
   },
   {
    "duration": 4,
    "start_time": "2022-03-19T09:56:10.426Z"
   },
   {
    "duration": 7,
    "start_time": "2022-03-19T09:56:23.349Z"
   },
   {
    "duration": 7,
    "start_time": "2022-03-19T09:56:42.251Z"
   },
   {
    "duration": 1536,
    "start_time": "2022-03-19T09:56:56.307Z"
   },
   {
    "duration": 36,
    "start_time": "2022-03-19T09:56:57.846Z"
   },
   {
    "duration": 38,
    "start_time": "2022-03-19T09:56:57.884Z"
   },
   {
    "duration": 21,
    "start_time": "2022-03-19T09:56:57.925Z"
   },
   {
    "duration": 58,
    "start_time": "2022-03-19T09:56:57.948Z"
   },
   {
    "duration": 33,
    "start_time": "2022-03-19T09:56:58.008Z"
   },
   {
    "duration": 51,
    "start_time": "2022-03-19T09:56:58.043Z"
   },
   {
    "duration": 33,
    "start_time": "2022-03-19T09:56:58.096Z"
   },
   {
    "duration": 6,
    "start_time": "2022-03-19T09:56:58.131Z"
   },
   {
    "duration": 41,
    "start_time": "2022-03-19T09:56:58.141Z"
   },
   {
    "duration": 10,
    "start_time": "2022-03-19T09:56:58.184Z"
   },
   {
    "duration": 27,
    "start_time": "2022-03-19T09:56:58.196Z"
   },
   {
    "duration": 17,
    "start_time": "2022-03-19T09:56:58.225Z"
   },
   {
    "duration": 10,
    "start_time": "2022-03-19T09:56:58.244Z"
   },
   {
    "duration": 34,
    "start_time": "2022-03-19T09:56:58.256Z"
   },
   {
    "duration": 35,
    "start_time": "2022-03-19T09:56:58.293Z"
   },
   {
    "duration": 9,
    "start_time": "2022-03-19T09:56:58.331Z"
   },
   {
    "duration": 336,
    "start_time": "2022-03-19T09:56:58.342Z"
   },
   {
    "duration": 15,
    "start_time": "2022-03-19T09:56:58.681Z"
   },
   {
    "duration": 429,
    "start_time": "2022-03-19T09:56:58.698Z"
   },
   {
    "duration": 553,
    "start_time": "2022-03-19T09:56:59.130Z"
   },
   {
    "duration": 1051,
    "start_time": "2022-03-19T09:56:59.685Z"
   },
   {
    "duration": 1094,
    "start_time": "2022-03-19T09:57:00.739Z"
   },
   {
    "duration": 1117,
    "start_time": "2022-03-19T09:57:01.836Z"
   },
   {
    "duration": 27,
    "start_time": "2022-03-19T09:57:02.956Z"
   },
   {
    "duration": 31,
    "start_time": "2022-03-19T09:57:02.986Z"
   },
   {
    "duration": 7,
    "start_time": "2022-03-19T09:57:03.020Z"
   },
   {
    "duration": 668,
    "start_time": "2022-03-19T09:57:03.033Z"
   },
   {
    "duration": 1065,
    "start_time": "2022-03-19T09:57:03.704Z"
   },
   {
    "duration": 658,
    "start_time": "2022-03-19T09:57:04.772Z"
   },
   {
    "duration": 13,
    "start_time": "2022-03-19T09:57:05.432Z"
   },
   {
    "duration": 25,
    "start_time": "2022-03-19T09:57:05.447Z"
   },
   {
    "duration": 7,
    "start_time": "2022-03-19T09:57:21.781Z"
   },
   {
    "duration": 8,
    "start_time": "2022-03-19T09:57:29.399Z"
   },
   {
    "duration": 10,
    "start_time": "2022-03-19T09:58:10.334Z"
   },
   {
    "duration": 8,
    "start_time": "2022-03-19T09:59:30.151Z"
   },
   {
    "duration": 5,
    "start_time": "2022-03-19T09:59:50.100Z"
   },
   {
    "duration": 19,
    "start_time": "2022-03-19T09:59:55.646Z"
   },
   {
    "duration": 5,
    "start_time": "2022-03-19T10:00:08.040Z"
   },
   {
    "duration": 18,
    "start_time": "2022-03-19T10:00:11.616Z"
   },
   {
    "duration": 7,
    "start_time": "2022-03-19T10:00:25.121Z"
   },
   {
    "duration": 12,
    "start_time": "2022-03-19T10:00:39.976Z"
   },
   {
    "duration": 14,
    "start_time": "2022-03-19T10:00:42.194Z"
   },
   {
    "duration": 1450,
    "start_time": "2022-03-19T10:00:57.510Z"
   },
   {
    "duration": 43,
    "start_time": "2022-03-19T10:00:58.963Z"
   },
   {
    "duration": 56,
    "start_time": "2022-03-19T10:00:59.008Z"
   },
   {
    "duration": 36,
    "start_time": "2022-03-19T10:00:59.068Z"
   },
   {
    "duration": 31,
    "start_time": "2022-03-19T10:00:59.107Z"
   },
   {
    "duration": 58,
    "start_time": "2022-03-19T10:00:59.140Z"
   },
   {
    "duration": 25,
    "start_time": "2022-03-19T10:00:59.200Z"
   },
   {
    "duration": 60,
    "start_time": "2022-03-19T10:00:59.227Z"
   },
   {
    "duration": 7,
    "start_time": "2022-03-19T10:00:59.290Z"
   },
   {
    "duration": 9,
    "start_time": "2022-03-19T10:00:59.303Z"
   },
   {
    "duration": 13,
    "start_time": "2022-03-19T10:00:59.315Z"
   },
   {
    "duration": 10,
    "start_time": "2022-03-19T10:00:59.331Z"
   },
   {
    "duration": 8,
    "start_time": "2022-03-19T10:00:59.383Z"
   },
   {
    "duration": 16,
    "start_time": "2022-03-19T10:00:59.394Z"
   },
   {
    "duration": 14,
    "start_time": "2022-03-19T10:00:59.412Z"
   },
   {
    "duration": 21,
    "start_time": "2022-03-19T10:00:59.429Z"
   },
   {
    "duration": 62,
    "start_time": "2022-03-19T10:00:59.452Z"
   },
   {
    "duration": 16,
    "start_time": "2022-03-19T10:00:59.516Z"
   },
   {
    "duration": 350,
    "start_time": "2022-03-19T10:00:59.535Z"
   },
   {
    "duration": 17,
    "start_time": "2022-03-19T10:00:59.888Z"
   },
   {
    "duration": 479,
    "start_time": "2022-03-19T10:00:59.908Z"
   },
   {
    "duration": 539,
    "start_time": "2022-03-19T10:01:00.390Z"
   },
   {
    "duration": 1098,
    "start_time": "2022-03-19T10:01:00.932Z"
   },
   {
    "duration": 1206,
    "start_time": "2022-03-19T10:01:02.033Z"
   },
   {
    "duration": 1106,
    "start_time": "2022-03-19T10:01:03.241Z"
   },
   {
    "duration": 9,
    "start_time": "2022-03-19T10:01:04.350Z"
   },
   {
    "duration": 41,
    "start_time": "2022-03-19T10:01:04.361Z"
   },
   {
    "duration": 5,
    "start_time": "2022-03-19T10:01:04.406Z"
   },
   {
    "duration": 654,
    "start_time": "2022-03-19T10:01:04.413Z"
   },
   {
    "duration": 856,
    "start_time": "2022-03-19T10:01:05.070Z"
   },
   {
    "duration": 488,
    "start_time": "2022-03-19T10:01:05.929Z"
   },
   {
    "duration": 13,
    "start_time": "2022-03-19T10:01:06.420Z"
   },
   {
    "duration": 33,
    "start_time": "2022-03-19T10:01:06.435Z"
   },
   {
    "duration": 9,
    "start_time": "2022-03-19T10:01:16.638Z"
   },
   {
    "duration": 9,
    "start_time": "2022-03-19T10:02:34.062Z"
   },
   {
    "duration": 9,
    "start_time": "2022-03-19T10:02:38.415Z"
   },
   {
    "duration": 5,
    "start_time": "2022-03-19T10:03:26.145Z"
   },
   {
    "duration": 9,
    "start_time": "2022-03-19T10:03:32.468Z"
   },
   {
    "duration": 8,
    "start_time": "2022-03-19T10:03:49.416Z"
   },
   {
    "duration": 15,
    "start_time": "2022-03-19T10:03:53.768Z"
   },
   {
    "duration": 7,
    "start_time": "2022-03-19T10:04:02.850Z"
   },
   {
    "duration": 7,
    "start_time": "2022-03-19T10:04:36.251Z"
   },
   {
    "duration": 2054,
    "start_time": "2022-03-19T10:04:53.296Z"
   },
   {
    "duration": 6,
    "start_time": "2022-03-19T10:05:34.905Z"
   },
   {
    "duration": 7,
    "start_time": "2022-03-19T10:05:49.105Z"
   },
   {
    "duration": 7,
    "start_time": "2022-03-19T10:06:31.937Z"
   },
   {
    "duration": 982,
    "start_time": "2022-03-19T10:06:55.249Z"
   },
   {
    "duration": 8,
    "start_time": "2022-03-19T10:07:20.923Z"
   },
   {
    "duration": 14,
    "start_time": "2022-03-19T10:07:25.637Z"
   },
   {
    "duration": 3,
    "start_time": "2022-03-19T10:12:28.968Z"
   },
   {
    "duration": 13,
    "start_time": "2022-03-19T10:14:25.698Z"
   },
   {
    "duration": 17,
    "start_time": "2022-03-19T10:16:27.281Z"
   },
   {
    "duration": 18,
    "start_time": "2022-03-19T10:18:52.173Z"
   },
   {
    "duration": 21,
    "start_time": "2022-03-19T10:19:57.826Z"
   },
   {
    "duration": 49,
    "start_time": "2022-03-19T10:20:20.749Z"
   },
   {
    "duration": 37,
    "start_time": "2022-03-19T10:21:17.347Z"
   },
   {
    "duration": 17,
    "start_time": "2022-03-19T10:22:39.234Z"
   },
   {
    "duration": 1667,
    "start_time": "2022-03-19T10:29:14.785Z"
   },
   {
    "duration": 37,
    "start_time": "2022-03-19T10:29:16.455Z"
   },
   {
    "duration": 41,
    "start_time": "2022-03-19T10:29:16.494Z"
   },
   {
    "duration": 21,
    "start_time": "2022-03-19T10:29:16.537Z"
   },
   {
    "duration": 31,
    "start_time": "2022-03-19T10:29:16.582Z"
   },
   {
    "duration": 31,
    "start_time": "2022-03-19T10:29:16.616Z"
   },
   {
    "duration": 54,
    "start_time": "2022-03-19T10:29:16.650Z"
   },
   {
    "duration": 37,
    "start_time": "2022-03-19T10:29:16.707Z"
   },
   {
    "duration": 37,
    "start_time": "2022-03-19T10:29:16.746Z"
   },
   {
    "duration": 16,
    "start_time": "2022-03-19T10:29:16.786Z"
   },
   {
    "duration": 14,
    "start_time": "2022-03-19T10:29:16.804Z"
   },
   {
    "duration": 6,
    "start_time": "2022-03-19T10:29:16.820Z"
   },
   {
    "duration": 9,
    "start_time": "2022-03-19T10:29:16.828Z"
   },
   {
    "duration": 9,
    "start_time": "2022-03-19T10:29:16.842Z"
   },
   {
    "duration": 8,
    "start_time": "2022-03-19T10:29:16.883Z"
   },
   {
    "duration": 16,
    "start_time": "2022-03-19T10:29:16.894Z"
   },
   {
    "duration": 24,
    "start_time": "2022-03-19T10:29:16.912Z"
   },
   {
    "duration": 57,
    "start_time": "2022-03-19T10:29:16.938Z"
   },
   {
    "duration": 9,
    "start_time": "2022-03-19T10:29:16.997Z"
   },
   {
    "duration": 319,
    "start_time": "2022-03-19T10:29:17.008Z"
   },
   {
    "duration": 16,
    "start_time": "2022-03-19T10:29:17.330Z"
   },
   {
    "duration": 487,
    "start_time": "2022-03-19T10:29:17.348Z"
   },
   {
    "duration": 469,
    "start_time": "2022-03-19T10:29:17.837Z"
   },
   {
    "duration": 1033,
    "start_time": "2022-03-19T10:29:18.308Z"
   },
   {
    "duration": 1105,
    "start_time": "2022-03-19T10:29:19.343Z"
   },
   {
    "duration": 1138,
    "start_time": "2022-03-19T10:29:20.451Z"
   },
   {
    "duration": 10,
    "start_time": "2022-03-19T10:29:21.591Z"
   },
   {
    "duration": 22,
    "start_time": "2022-03-19T10:29:21.604Z"
   },
   {
    "duration": 5,
    "start_time": "2022-03-19T10:29:21.628Z"
   },
   {
    "duration": 706,
    "start_time": "2022-03-19T10:29:21.635Z"
   },
   {
    "duration": 881,
    "start_time": "2022-03-19T10:29:22.344Z"
   },
   {
    "duration": 474,
    "start_time": "2022-03-19T10:29:23.227Z"
   },
   {
    "duration": 17,
    "start_time": "2022-03-19T10:29:23.703Z"
   },
   {
    "duration": 17,
    "start_time": "2022-03-19T10:29:23.723Z"
   },
   {
    "duration": 8,
    "start_time": "2022-03-19T10:30:01.759Z"
   },
   {
    "duration": 5,
    "start_time": "2022-03-19T10:30:03.314Z"
   },
   {
    "duration": 6,
    "start_time": "2022-03-19T10:30:04.531Z"
   },
   {
    "duration": 8,
    "start_time": "2022-03-19T10:30:05.651Z"
   },
   {
    "duration": 8,
    "start_time": "2022-03-19T10:30:12.236Z"
   },
   {
    "duration": 20,
    "start_time": "2022-03-19T10:30:24.191Z"
   },
   {
    "duration": 21,
    "start_time": "2022-03-19T10:30:29.479Z"
   },
   {
    "duration": 1185,
    "start_time": "2022-03-19T10:42:29.540Z"
   },
   {
    "duration": 1126,
    "start_time": "2022-03-19T10:42:59.045Z"
   },
   {
    "duration": 1161,
    "start_time": "2022-03-19T10:44:01.538Z"
   },
   {
    "duration": 1104,
    "start_time": "2022-03-19T10:44:29.813Z"
   },
   {
    "duration": 14,
    "start_time": "2022-03-19T10:46:37.288Z"
   },
   {
    "duration": 137,
    "start_time": "2022-03-19T10:49:14.838Z"
   },
   {
    "duration": 13,
    "start_time": "2022-03-19T10:49:33.164Z"
   },
   {
    "duration": 22,
    "start_time": "2022-03-19T10:49:38.949Z"
   },
   {
    "duration": 1522,
    "start_time": "2022-03-19T10:58:34.019Z"
   },
   {
    "duration": 39,
    "start_time": "2022-03-19T10:58:35.543Z"
   },
   {
    "duration": 38,
    "start_time": "2022-03-19T10:58:35.584Z"
   },
   {
    "duration": 19,
    "start_time": "2022-03-19T10:58:35.625Z"
   },
   {
    "duration": 56,
    "start_time": "2022-03-19T10:58:35.647Z"
   },
   {
    "duration": 30,
    "start_time": "2022-03-19T10:58:35.706Z"
   },
   {
    "duration": 51,
    "start_time": "2022-03-19T10:58:35.739Z"
   },
   {
    "duration": 35,
    "start_time": "2022-03-19T10:58:35.792Z"
   },
   {
    "duration": 7,
    "start_time": "2022-03-19T10:58:35.829Z"
   },
   {
    "duration": 7,
    "start_time": "2022-03-19T10:58:35.841Z"
   },
   {
    "duration": 9,
    "start_time": "2022-03-19T10:58:35.883Z"
   },
   {
    "duration": 7,
    "start_time": "2022-03-19T10:58:35.895Z"
   },
   {
    "duration": 10,
    "start_time": "2022-03-19T10:58:35.904Z"
   },
   {
    "duration": 12,
    "start_time": "2022-03-19T10:58:35.917Z"
   },
   {
    "duration": 10,
    "start_time": "2022-03-19T10:58:35.931Z"
   },
   {
    "duration": 40,
    "start_time": "2022-03-19T10:58:35.943Z"
   },
   {
    "duration": 22,
    "start_time": "2022-03-19T10:58:35.986Z"
   },
   {
    "duration": 26,
    "start_time": "2022-03-19T10:58:36.010Z"
   },
   {
    "duration": 10,
    "start_time": "2022-03-19T10:58:36.038Z"
   },
   {
    "duration": 324,
    "start_time": "2022-03-19T10:58:36.050Z"
   },
   {
    "duration": 16,
    "start_time": "2022-03-19T10:58:36.376Z"
   },
   {
    "duration": 432,
    "start_time": "2022-03-19T10:58:36.395Z"
   },
   {
    "duration": 470,
    "start_time": "2022-03-19T10:58:36.829Z"
   },
   {
    "duration": 1044,
    "start_time": "2022-03-19T10:58:37.301Z"
   },
   {
    "duration": 1373,
    "start_time": "2022-03-19T10:58:38.348Z"
   },
   {
    "duration": 1028,
    "start_time": "2022-03-19T10:58:39.723Z"
   },
   {
    "duration": 12,
    "start_time": "2022-03-19T10:58:40.753Z"
   },
   {
    "duration": 21,
    "start_time": "2022-03-19T10:58:40.784Z"
   },
   {
    "duration": 5,
    "start_time": "2022-03-19T10:58:40.807Z"
   },
   {
    "duration": 656,
    "start_time": "2022-03-19T10:58:40.814Z"
   },
   {
    "duration": 865,
    "start_time": "2022-03-19T10:58:41.472Z"
   },
   {
    "duration": 481,
    "start_time": "2022-03-19T10:58:42.340Z"
   },
   {
    "duration": 14,
    "start_time": "2022-03-19T10:58:42.823Z"
   },
   {
    "duration": 16,
    "start_time": "2022-03-19T10:58:42.839Z"
   },
   {
    "duration": 8,
    "start_time": "2022-03-19T11:01:14.292Z"
   },
   {
    "duration": 5,
    "start_time": "2022-03-19T11:01:21.138Z"
   },
   {
    "duration": 5,
    "start_time": "2022-03-19T11:01:25.033Z"
   },
   {
    "duration": 8,
    "start_time": "2022-03-19T11:01:26.653Z"
   },
   {
    "duration": 1654,
    "start_time": "2022-03-19T11:01:34.138Z"
   },
   {
    "duration": 26,
    "start_time": "2022-03-19T11:01:35.795Z"
   },
   {
    "duration": 73,
    "start_time": "2022-03-19T11:01:35.823Z"
   },
   {
    "duration": 21,
    "start_time": "2022-03-19T11:01:35.900Z"
   },
   {
    "duration": 37,
    "start_time": "2022-03-19T11:01:35.924Z"
   },
   {
    "duration": 36,
    "start_time": "2022-03-19T11:01:35.983Z"
   },
   {
    "duration": 27,
    "start_time": "2022-03-19T11:01:36.021Z"
   },
   {
    "duration": 67,
    "start_time": "2022-03-19T11:01:36.050Z"
   },
   {
    "duration": 8,
    "start_time": "2022-03-19T11:01:36.119Z"
   },
   {
    "duration": 11,
    "start_time": "2022-03-19T11:01:36.132Z"
   },
   {
    "duration": 44,
    "start_time": "2022-03-19T11:01:36.146Z"
   },
   {
    "duration": 7,
    "start_time": "2022-03-19T11:01:36.193Z"
   },
   {
    "duration": 9,
    "start_time": "2022-03-19T11:01:36.202Z"
   },
   {
    "duration": 9,
    "start_time": "2022-03-19T11:01:36.214Z"
   },
   {
    "duration": 11,
    "start_time": "2022-03-19T11:01:36.225Z"
   },
   {
    "duration": 63,
    "start_time": "2022-03-19T11:01:36.239Z"
   },
   {
    "duration": 21,
    "start_time": "2022-03-19T11:01:36.304Z"
   },
   {
    "duration": 29,
    "start_time": "2022-03-19T11:01:36.328Z"
   },
   {
    "duration": 30,
    "start_time": "2022-03-19T11:01:36.359Z"
   },
   {
    "duration": 319,
    "start_time": "2022-03-19T11:01:36.392Z"
   },
   {
    "duration": 19,
    "start_time": "2022-03-19T11:01:36.713Z"
   },
   {
    "duration": 480,
    "start_time": "2022-03-19T11:01:36.735Z"
   },
   {
    "duration": 538,
    "start_time": "2022-03-19T11:01:37.217Z"
   },
   {
    "duration": 1077,
    "start_time": "2022-03-19T11:01:37.757Z"
   },
   {
    "duration": 1150,
    "start_time": "2022-03-19T11:01:38.837Z"
   },
   {
    "duration": 1037,
    "start_time": "2022-03-19T11:01:39.989Z"
   },
   {
    "duration": 13,
    "start_time": "2022-03-19T11:01:41.028Z"
   },
   {
    "duration": 46,
    "start_time": "2022-03-19T11:01:41.046Z"
   },
   {
    "duration": 5,
    "start_time": "2022-03-19T11:01:41.094Z"
   },
   {
    "duration": 661,
    "start_time": "2022-03-19T11:01:41.101Z"
   },
   {
    "duration": 906,
    "start_time": "2022-03-19T11:01:41.765Z"
   },
   {
    "duration": 477,
    "start_time": "2022-03-19T11:01:42.673Z"
   },
   {
    "duration": 30,
    "start_time": "2022-03-19T11:01:43.153Z"
   },
   {
    "duration": 19,
    "start_time": "2022-03-19T11:01:43.185Z"
   },
   {
    "duration": 75,
    "start_time": "2022-03-19T11:01:55.923Z"
   },
   {
    "duration": 26,
    "start_time": "2022-03-19T11:02:02.869Z"
   },
   {
    "duration": 38,
    "start_time": "2022-03-19T11:02:09.364Z"
   },
   {
    "duration": 78,
    "start_time": "2022-03-19T11:04:32.176Z"
   },
   {
    "duration": 1530,
    "start_time": "2022-03-19T11:04:45.935Z"
   },
   {
    "duration": 33,
    "start_time": "2022-03-19T11:04:47.467Z"
   },
   {
    "duration": 37,
    "start_time": "2022-03-19T11:04:47.503Z"
   },
   {
    "duration": 44,
    "start_time": "2022-03-19T11:04:47.543Z"
   },
   {
    "duration": 30,
    "start_time": "2022-03-19T11:04:47.589Z"
   },
   {
    "duration": 60,
    "start_time": "2022-03-19T11:04:47.622Z"
   },
   {
    "duration": 26,
    "start_time": "2022-03-19T11:04:47.685Z"
   },
   {
    "duration": 71,
    "start_time": "2022-03-19T11:04:47.713Z"
   },
   {
    "duration": 8,
    "start_time": "2022-03-19T11:04:47.787Z"
   },
   {
    "duration": 9,
    "start_time": "2022-03-19T11:04:47.801Z"
   },
   {
    "duration": 11,
    "start_time": "2022-03-19T11:04:47.812Z"
   },
   {
    "duration": 6,
    "start_time": "2022-03-19T11:04:47.825Z"
   },
   {
    "duration": 8,
    "start_time": "2022-03-19T11:04:47.833Z"
   },
   {
    "duration": 7,
    "start_time": "2022-03-19T11:04:47.882Z"
   },
   {
    "duration": 8,
    "start_time": "2022-03-19T11:04:47.892Z"
   },
   {
    "duration": 17,
    "start_time": "2022-03-19T11:04:47.903Z"
   },
   {
    "duration": 18,
    "start_time": "2022-03-19T11:04:47.922Z"
   },
   {
    "duration": 69,
    "start_time": "2022-03-19T11:04:47.942Z"
   },
   {
    "duration": 9,
    "start_time": "2022-03-19T11:04:48.014Z"
   },
   {
    "duration": 310,
    "start_time": "2022-03-19T11:04:48.025Z"
   },
   {
    "duration": 17,
    "start_time": "2022-03-19T11:04:48.338Z"
   },
   {
    "duration": 417,
    "start_time": "2022-03-19T11:04:48.358Z"
   },
   {
    "duration": 487,
    "start_time": "2022-03-19T11:04:48.778Z"
   },
   {
    "duration": 1020,
    "start_time": "2022-03-19T11:04:49.268Z"
   },
   {
    "duration": 1097,
    "start_time": "2022-03-19T11:04:50.291Z"
   },
   {
    "duration": 1051,
    "start_time": "2022-03-19T11:04:51.390Z"
   },
   {
    "duration": 15,
    "start_time": "2022-03-19T11:04:52.444Z"
   },
   {
    "duration": 25,
    "start_time": "2022-03-19T11:04:52.484Z"
   },
   {
    "duration": 5,
    "start_time": "2022-03-19T11:04:52.512Z"
   },
   {
    "duration": 726,
    "start_time": "2022-03-19T11:04:52.519Z"
   },
   {
    "duration": 937,
    "start_time": "2022-03-19T11:04:53.248Z"
   },
   {
    "duration": 498,
    "start_time": "2022-03-19T11:04:54.187Z"
   },
   {
    "duration": 12,
    "start_time": "2022-03-19T11:04:54.688Z"
   },
   {
    "duration": 15,
    "start_time": "2022-03-19T11:04:54.703Z"
   },
   {
    "duration": 5,
    "start_time": "2022-03-19T11:05:26.099Z"
   },
   {
    "duration": 5,
    "start_time": "2022-03-19T11:05:29.409Z"
   },
   {
    "duration": 9,
    "start_time": "2022-03-19T11:05:30.175Z"
   },
   {
    "duration": 8,
    "start_time": "2022-03-19T11:05:38.904Z"
   },
   {
    "duration": 6,
    "start_time": "2022-03-19T11:05:41.055Z"
   },
   {
    "duration": 23,
    "start_time": "2022-03-19T11:05:43.306Z"
   },
   {
    "duration": 28,
    "start_time": "2022-03-19T11:05:52.331Z"
   },
   {
    "duration": 11,
    "start_time": "2022-03-19T11:05:58.808Z"
   },
   {
    "duration": 343,
    "start_time": "2022-03-19T11:06:02.178Z"
   },
   {
    "duration": 16,
    "start_time": "2022-03-19T11:06:13.814Z"
   },
   {
    "duration": 421,
    "start_time": "2022-03-19T11:06:18.972Z"
   },
   {
    "duration": 517,
    "start_time": "2022-03-19T11:06:24.760Z"
   },
   {
    "duration": 1260,
    "start_time": "2022-03-19T11:06:30.179Z"
   },
   {
    "duration": 1106,
    "start_time": "2022-03-19T11:06:37.815Z"
   },
   {
    "duration": 1118,
    "start_time": "2022-03-19T11:06:41.852Z"
   },
   {
    "duration": 13,
    "start_time": "2022-03-19T11:06:49.899Z"
   },
   {
    "duration": 22,
    "start_time": "2022-03-19T11:06:53.433Z"
   },
   {
    "duration": 5,
    "start_time": "2022-03-19T11:06:57.884Z"
   },
   {
    "duration": 642,
    "start_time": "2022-03-19T11:07:01.068Z"
   },
   {
    "duration": 879,
    "start_time": "2022-03-19T11:07:18.748Z"
   },
   {
    "duration": 454,
    "start_time": "2022-03-19T11:07:29.032Z"
   },
   {
    "duration": 14,
    "start_time": "2022-03-19T11:07:33.846Z"
   },
   {
    "duration": 17,
    "start_time": "2022-03-19T11:07:39.223Z"
   },
   {
    "duration": 1640,
    "start_time": "2022-03-29T18:52:01.695Z"
   },
   {
    "duration": 26,
    "start_time": "2022-03-29T18:52:03.338Z"
   },
   {
    "duration": 44,
    "start_time": "2022-03-29T18:52:03.365Z"
   },
   {
    "duration": 20,
    "start_time": "2022-03-29T18:52:03.411Z"
   },
   {
    "duration": 59,
    "start_time": "2022-03-29T18:52:03.433Z"
   },
   {
    "duration": 35,
    "start_time": "2022-03-29T18:52:03.494Z"
   },
   {
    "duration": 49,
    "start_time": "2022-03-29T18:52:03.532Z"
   },
   {
    "duration": 32,
    "start_time": "2022-03-29T18:52:03.583Z"
   },
   {
    "duration": 8,
    "start_time": "2022-03-29T18:52:03.617Z"
   },
   {
    "duration": 7,
    "start_time": "2022-03-29T18:52:03.628Z"
   },
   {
    "duration": 42,
    "start_time": "2022-03-29T18:52:03.637Z"
   },
   {
    "duration": 6,
    "start_time": "2022-03-29T18:52:03.681Z"
   },
   {
    "duration": 14,
    "start_time": "2022-03-29T18:52:03.689Z"
   },
   {
    "duration": 9,
    "start_time": "2022-03-29T18:52:03.705Z"
   },
   {
    "duration": 9,
    "start_time": "2022-03-29T18:52:03.716Z"
   },
   {
    "duration": 7,
    "start_time": "2022-03-29T18:52:03.727Z"
   },
   {
    "duration": 57,
    "start_time": "2022-03-29T18:52:03.736Z"
   },
   {
    "duration": 28,
    "start_time": "2022-03-29T18:52:03.795Z"
   },
   {
    "duration": 10,
    "start_time": "2022-03-29T18:52:03.826Z"
   },
   {
    "duration": 334,
    "start_time": "2022-03-29T18:52:03.838Z"
   },
   {
    "duration": 17,
    "start_time": "2022-03-29T18:52:04.174Z"
   },
   {
    "duration": 457,
    "start_time": "2022-03-29T18:52:04.193Z"
   },
   {
    "duration": 536,
    "start_time": "2022-03-29T18:52:04.652Z"
   },
   {
    "duration": 1048,
    "start_time": "2022-03-29T18:52:05.190Z"
   },
   {
    "duration": 1085,
    "start_time": "2022-03-29T18:52:06.240Z"
   },
   {
    "duration": 1046,
    "start_time": "2022-03-29T18:52:07.328Z"
   },
   {
    "duration": 12,
    "start_time": "2022-03-29T18:52:08.377Z"
   },
   {
    "duration": 27,
    "start_time": "2022-03-29T18:52:08.393Z"
   },
   {
    "duration": 6,
    "start_time": "2022-03-29T18:52:08.422Z"
   },
   {
    "duration": 694,
    "start_time": "2022-03-29T18:52:08.430Z"
   },
   {
    "duration": 871,
    "start_time": "2022-03-29T18:52:09.126Z"
   },
   {
    "duration": 481,
    "start_time": "2022-03-29T18:52:09.999Z"
   },
   {
    "duration": 14,
    "start_time": "2022-03-29T18:52:10.482Z"
   },
   {
    "duration": 18,
    "start_time": "2022-03-29T18:52:10.498Z"
   },
   {
    "duration": 144,
    "start_time": "2022-03-29T18:58:03.942Z"
   },
   {
    "duration": 82,
    "start_time": "2022-03-29T19:06:27.523Z"
   },
   {
    "duration": 1527,
    "start_time": "2022-03-29T19:10:16.952Z"
   },
   {
    "duration": 25,
    "start_time": "2022-03-29T19:10:18.482Z"
   },
   {
    "duration": 38,
    "start_time": "2022-03-29T19:10:18.510Z"
   },
   {
    "duration": 40,
    "start_time": "2022-03-29T19:10:18.551Z"
   },
   {
    "duration": 30,
    "start_time": "2022-03-29T19:10:18.593Z"
   },
   {
    "duration": 55,
    "start_time": "2022-03-29T19:10:18.625Z"
   },
   {
    "duration": 23,
    "start_time": "2022-03-29T19:10:18.683Z"
   },
   {
    "duration": 32,
    "start_time": "2022-03-29T19:10:18.708Z"
   },
   {
    "duration": 36,
    "start_time": "2022-03-29T19:10:18.742Z"
   },
   {
    "duration": 6,
    "start_time": "2022-03-29T19:10:18.782Z"
   },
   {
    "duration": 11,
    "start_time": "2022-03-29T19:10:18.790Z"
   },
   {
    "duration": 8,
    "start_time": "2022-03-29T19:10:18.803Z"
   },
   {
    "duration": 10,
    "start_time": "2022-03-29T19:10:18.814Z"
   },
   {
    "duration": 9,
    "start_time": "2022-03-29T19:10:18.827Z"
   },
   {
    "duration": 7,
    "start_time": "2022-03-29T19:10:18.874Z"
   },
   {
    "duration": 10,
    "start_time": "2022-03-29T19:10:18.883Z"
   },
   {
    "duration": 20,
    "start_time": "2022-03-29T19:10:18.894Z"
   },
   {
    "duration": 59,
    "start_time": "2022-03-29T19:10:18.916Z"
   },
   {
    "duration": 10,
    "start_time": "2022-03-29T19:10:18.978Z"
   },
   {
    "duration": 320,
    "start_time": "2022-03-29T19:10:18.990Z"
   },
   {
    "duration": 15,
    "start_time": "2022-03-29T19:10:19.313Z"
   },
   {
    "duration": 448,
    "start_time": "2022-03-29T19:10:19.331Z"
   },
   {
    "duration": 523,
    "start_time": "2022-03-29T19:10:19.781Z"
   },
   {
    "duration": 1130,
    "start_time": "2022-03-29T19:10:20.307Z"
   },
   {
    "duration": 1093,
    "start_time": "2022-03-29T19:10:21.439Z"
   },
   {
    "duration": 1058,
    "start_time": "2022-03-29T19:10:22.534Z"
   },
   {
    "duration": 13,
    "start_time": "2022-03-29T19:10:23.594Z"
   },
   {
    "duration": 22,
    "start_time": "2022-03-29T19:10:23.611Z"
   },
   {
    "duration": 5,
    "start_time": "2022-03-29T19:10:23.635Z"
   },
   {
    "duration": 654,
    "start_time": "2022-03-29T19:10:23.674Z"
   },
   {
    "duration": 897,
    "start_time": "2022-03-29T19:10:24.330Z"
   },
   {
    "duration": 507,
    "start_time": "2022-03-29T19:10:25.229Z"
   },
   {
    "duration": 13,
    "start_time": "2022-03-29T19:10:25.739Z"
   },
   {
    "duration": 33,
    "start_time": "2022-03-29T19:10:25.754Z"
   },
   {
    "duration": 1766,
    "start_time": "2022-03-30T08:00:31.119Z"
   },
   {
    "duration": 94,
    "start_time": "2022-03-30T08:00:42.492Z"
   },
   {
    "duration": 79,
    "start_time": "2022-03-30T08:00:49.341Z"
   },
   {
    "duration": 66,
    "start_time": "2022-03-30T09:58:07.669Z"
   },
   {
    "duration": 1542,
    "start_time": "2022-03-30T10:06:00.845Z"
   },
   {
    "duration": 95,
    "start_time": "2022-03-30T10:06:02.390Z"
   },
   {
    "duration": 24,
    "start_time": "2022-03-30T10:06:02.487Z"
   },
   {
    "duration": 71,
    "start_time": "2022-03-30T10:06:02.513Z"
   },
   {
    "duration": 21,
    "start_time": "2022-03-30T10:06:02.586Z"
   },
   {
    "duration": 57,
    "start_time": "2022-03-30T10:06:02.609Z"
   },
   {
    "duration": 30,
    "start_time": "2022-03-30T10:06:02.668Z"
   },
   {
    "duration": 57,
    "start_time": "2022-03-30T10:06:02.700Z"
   },
   {
    "duration": 43,
    "start_time": "2022-03-30T10:06:02.760Z"
   },
   {
    "duration": 8,
    "start_time": "2022-03-30T10:06:02.807Z"
   },
   {
    "duration": 35,
    "start_time": "2022-03-30T10:06:02.817Z"
   },
   {
    "duration": 28,
    "start_time": "2022-03-30T10:06:02.855Z"
   },
   {
    "duration": 30,
    "start_time": "2022-03-30T10:06:02.885Z"
   },
   {
    "duration": 175,
    "start_time": "2022-03-30T10:06:02.917Z"
   },
   {
    "duration": 0,
    "start_time": "2022-03-30T10:06:03.095Z"
   },
   {
    "duration": 0,
    "start_time": "2022-03-30T10:06:03.097Z"
   },
   {
    "duration": 0,
    "start_time": "2022-03-30T10:06:03.099Z"
   },
   {
    "duration": 0,
    "start_time": "2022-03-30T10:06:03.100Z"
   },
   {
    "duration": 0,
    "start_time": "2022-03-30T10:06:03.102Z"
   },
   {
    "duration": 0,
    "start_time": "2022-03-30T10:06:03.104Z"
   },
   {
    "duration": 0,
    "start_time": "2022-03-30T10:06:03.105Z"
   },
   {
    "duration": 0,
    "start_time": "2022-03-30T10:06:03.107Z"
   },
   {
    "duration": 0,
    "start_time": "2022-03-30T10:06:03.108Z"
   },
   {
    "duration": 0,
    "start_time": "2022-03-30T10:06:03.110Z"
   },
   {
    "duration": 0,
    "start_time": "2022-03-30T10:06:03.111Z"
   },
   {
    "duration": 0,
    "start_time": "2022-03-30T10:06:03.113Z"
   },
   {
    "duration": 0,
    "start_time": "2022-03-30T10:06:03.114Z"
   },
   {
    "duration": 0,
    "start_time": "2022-03-30T10:06:03.116Z"
   },
   {
    "duration": 0,
    "start_time": "2022-03-30T10:06:03.117Z"
   },
   {
    "duration": 0,
    "start_time": "2022-03-30T10:06:03.119Z"
   },
   {
    "duration": 0,
    "start_time": "2022-03-30T10:06:03.121Z"
   },
   {
    "duration": 0,
    "start_time": "2022-03-30T10:06:03.122Z"
   },
   {
    "duration": 0,
    "start_time": "2022-03-30T10:06:03.124Z"
   },
   {
    "duration": 0,
    "start_time": "2022-03-30T10:06:03.126Z"
   },
   {
    "duration": 0,
    "start_time": "2022-03-30T10:06:03.183Z"
   },
   {
    "duration": 7,
    "start_time": "2022-03-30T10:08:30.758Z"
   },
   {
    "duration": 19,
    "start_time": "2022-03-30T10:08:35.286Z"
   },
   {
    "duration": 8,
    "start_time": "2022-03-30T10:08:49.892Z"
   },
   {
    "duration": 1418,
    "start_time": "2022-03-30T10:10:05.257Z"
   },
   {
    "duration": 82,
    "start_time": "2022-03-30T10:10:06.678Z"
   },
   {
    "duration": 36,
    "start_time": "2022-03-30T10:10:06.763Z"
   },
   {
    "duration": 37,
    "start_time": "2022-03-30T10:10:06.801Z"
   },
   {
    "duration": 44,
    "start_time": "2022-03-30T10:10:06.841Z"
   },
   {
    "duration": 28,
    "start_time": "2022-03-30T10:10:06.887Z"
   },
   {
    "duration": 31,
    "start_time": "2022-03-30T10:10:06.917Z"
   },
   {
    "duration": 52,
    "start_time": "2022-03-30T10:10:06.950Z"
   },
   {
    "duration": 33,
    "start_time": "2022-03-30T10:10:07.005Z"
   },
   {
    "duration": 7,
    "start_time": "2022-03-30T10:10:07.040Z"
   },
   {
    "duration": 40,
    "start_time": "2022-03-30T10:10:07.049Z"
   },
   {
    "duration": 10,
    "start_time": "2022-03-30T10:10:07.091Z"
   },
   {
    "duration": 167,
    "start_time": "2022-03-30T10:10:07.103Z"
   },
   {
    "duration": 0,
    "start_time": "2022-03-30T10:10:07.273Z"
   },
   {
    "duration": 0,
    "start_time": "2022-03-30T10:10:07.275Z"
   },
   {
    "duration": 0,
    "start_time": "2022-03-30T10:10:07.283Z"
   },
   {
    "duration": 0,
    "start_time": "2022-03-30T10:10:07.285Z"
   },
   {
    "duration": 0,
    "start_time": "2022-03-30T10:10:07.286Z"
   },
   {
    "duration": 0,
    "start_time": "2022-03-30T10:10:07.288Z"
   },
   {
    "duration": 0,
    "start_time": "2022-03-30T10:10:07.290Z"
   },
   {
    "duration": 0,
    "start_time": "2022-03-30T10:10:07.291Z"
   },
   {
    "duration": 0,
    "start_time": "2022-03-30T10:10:07.293Z"
   },
   {
    "duration": 0,
    "start_time": "2022-03-30T10:10:07.294Z"
   },
   {
    "duration": 0,
    "start_time": "2022-03-30T10:10:07.296Z"
   },
   {
    "duration": 0,
    "start_time": "2022-03-30T10:10:07.297Z"
   },
   {
    "duration": 0,
    "start_time": "2022-03-30T10:10:07.299Z"
   },
   {
    "duration": 0,
    "start_time": "2022-03-30T10:10:07.300Z"
   },
   {
    "duration": 0,
    "start_time": "2022-03-30T10:10:07.301Z"
   },
   {
    "duration": 0,
    "start_time": "2022-03-30T10:10:07.303Z"
   },
   {
    "duration": 0,
    "start_time": "2022-03-30T10:10:07.304Z"
   },
   {
    "duration": 0,
    "start_time": "2022-03-30T10:10:07.306Z"
   },
   {
    "duration": 0,
    "start_time": "2022-03-30T10:10:07.308Z"
   },
   {
    "duration": 0,
    "start_time": "2022-03-30T10:10:07.309Z"
   },
   {
    "duration": 0,
    "start_time": "2022-03-30T10:10:07.310Z"
   },
   {
    "duration": 9,
    "start_time": "2022-03-30T10:11:16.105Z"
   },
   {
    "duration": 8,
    "start_time": "2022-03-30T10:11:19.337Z"
   },
   {
    "duration": 7,
    "start_time": "2022-03-30T10:11:23.146Z"
   },
   {
    "duration": 7,
    "start_time": "2022-03-30T10:11:30.305Z"
   },
   {
    "duration": 7,
    "start_time": "2022-03-30T10:11:36.733Z"
   },
   {
    "duration": 8,
    "start_time": "2022-03-30T10:11:49.680Z"
   },
   {
    "duration": 19,
    "start_time": "2022-03-30T10:11:58.816Z"
   },
   {
    "duration": 5,
    "start_time": "2022-03-30T10:13:57.510Z"
   },
   {
    "duration": 5,
    "start_time": "2022-03-30T10:15:49.587Z"
   },
   {
    "duration": 18,
    "start_time": "2022-03-30T10:16:54.081Z"
   },
   {
    "duration": 20,
    "start_time": "2022-03-30T10:23:11.769Z"
   },
   {
    "duration": 1378,
    "start_time": "2022-03-30T10:23:26.006Z"
   },
   {
    "duration": 82,
    "start_time": "2022-03-30T10:23:27.387Z"
   },
   {
    "duration": 32,
    "start_time": "2022-03-30T10:23:27.471Z"
   },
   {
    "duration": 37,
    "start_time": "2022-03-30T10:23:27.506Z"
   },
   {
    "duration": 45,
    "start_time": "2022-03-30T10:23:27.547Z"
   },
   {
    "duration": 32,
    "start_time": "2022-03-30T10:23:27.595Z"
   },
   {
    "duration": 29,
    "start_time": "2022-03-30T10:23:27.630Z"
   },
   {
    "duration": 23,
    "start_time": "2022-03-30T10:23:27.683Z"
   },
   {
    "duration": 31,
    "start_time": "2022-03-30T10:23:27.708Z"
   },
   {
    "duration": 7,
    "start_time": "2022-03-30T10:23:27.741Z"
   },
   {
    "duration": 7,
    "start_time": "2022-03-30T10:23:27.782Z"
   },
   {
    "duration": 11,
    "start_time": "2022-03-30T10:23:27.791Z"
   },
   {
    "duration": 9,
    "start_time": "2022-03-30T10:23:27.804Z"
   },
   {
    "duration": 7,
    "start_time": "2022-03-30T10:23:27.817Z"
   },
   {
    "duration": 61,
    "start_time": "2022-03-30T10:23:27.826Z"
   },
   {
    "duration": 28,
    "start_time": "2022-03-30T10:23:27.890Z"
   },
   {
    "duration": 10,
    "start_time": "2022-03-30T10:23:27.920Z"
   },
   {
    "duration": 302,
    "start_time": "2022-03-30T10:23:27.932Z"
   },
   {
    "duration": 16,
    "start_time": "2022-03-30T10:23:28.236Z"
   },
   {
    "duration": 405,
    "start_time": "2022-03-30T10:23:28.254Z"
   },
   {
    "duration": 446,
    "start_time": "2022-03-30T10:23:28.661Z"
   },
   {
    "duration": 973,
    "start_time": "2022-03-30T10:23:29.110Z"
   },
   {
    "duration": 1021,
    "start_time": "2022-03-30T10:23:30.085Z"
   },
   {
    "duration": 981,
    "start_time": "2022-03-30T10:23:31.108Z"
   },
   {
    "duration": 14,
    "start_time": "2022-03-30T10:23:32.091Z"
   },
   {
    "duration": 22,
    "start_time": "2022-03-30T10:23:32.107Z"
   },
   {
    "duration": 6,
    "start_time": "2022-03-30T10:23:32.131Z"
   },
   {
    "duration": 661,
    "start_time": "2022-03-30T10:23:32.139Z"
   },
   {
    "duration": 829,
    "start_time": "2022-03-30T10:23:32.803Z"
   },
   {
    "duration": 439,
    "start_time": "2022-03-30T10:23:33.634Z"
   },
   {
    "duration": 20,
    "start_time": "2022-03-30T10:23:34.076Z"
   },
   {
    "duration": 18,
    "start_time": "2022-03-30T10:23:34.099Z"
   },
   {
    "duration": 280,
    "start_time": "2022-03-30T11:19:25.838Z"
   },
   {
    "duration": 1456,
    "start_time": "2022-03-30T12:11:04.109Z"
   },
   {
    "duration": 75,
    "start_time": "2022-03-30T12:11:05.568Z"
   },
   {
    "duration": 18,
    "start_time": "2022-03-30T12:11:05.645Z"
   },
   {
    "duration": 30,
    "start_time": "2022-03-30T12:11:05.666Z"
   },
   {
    "duration": 14,
    "start_time": "2022-03-30T12:11:05.698Z"
   },
   {
    "duration": 45,
    "start_time": "2022-03-30T12:11:05.714Z"
   },
   {
    "duration": 23,
    "start_time": "2022-03-30T12:11:05.761Z"
   },
   {
    "duration": 52,
    "start_time": "2022-03-30T12:11:05.786Z"
   },
   {
    "duration": 26,
    "start_time": "2022-03-30T12:11:05.840Z"
   },
   {
    "duration": 5,
    "start_time": "2022-03-30T12:11:05.870Z"
   },
   {
    "duration": 10,
    "start_time": "2022-03-30T12:11:05.878Z"
   },
   {
    "duration": 16,
    "start_time": "2022-03-30T12:11:05.890Z"
   },
   {
    "duration": 10,
    "start_time": "2022-03-30T12:11:05.908Z"
   },
   {
    "duration": 7,
    "start_time": "2022-03-30T12:11:05.939Z"
   },
   {
    "duration": 21,
    "start_time": "2022-03-30T12:11:05.948Z"
   },
   {
    "duration": 21,
    "start_time": "2022-03-30T12:11:05.971Z"
   },
   {
    "duration": 8,
    "start_time": "2022-03-30T12:11:05.995Z"
   },
   {
    "duration": 223,
    "start_time": "2022-03-30T12:11:06.004Z"
   },
   {
    "duration": 11,
    "start_time": "2022-03-30T12:11:06.238Z"
   },
   {
    "duration": 283,
    "start_time": "2022-03-30T12:11:06.251Z"
   },
   {
    "duration": 287,
    "start_time": "2022-03-30T12:11:06.536Z"
   },
   {
    "duration": 637,
    "start_time": "2022-03-30T12:11:06.824Z"
   },
   {
    "duration": 716,
    "start_time": "2022-03-30T12:11:07.462Z"
   },
   {
    "duration": 647,
    "start_time": "2022-03-30T12:11:08.180Z"
   },
   {
    "duration": 9,
    "start_time": "2022-03-30T12:11:08.838Z"
   },
   {
    "duration": 17,
    "start_time": "2022-03-30T12:11:08.849Z"
   },
   {
    "duration": 127,
    "start_time": "2022-03-30T12:11:08.868Z"
   },
   {
    "duration": 3,
    "start_time": "2022-03-30T12:11:08.999Z"
   },
   {
    "duration": 430,
    "start_time": "2022-03-30T12:11:09.004Z"
   },
   {
    "duration": 620,
    "start_time": "2022-03-30T12:11:09.437Z"
   },
   {
    "duration": 281,
    "start_time": "2022-03-30T12:11:10.059Z"
   },
   {
    "duration": 12,
    "start_time": "2022-03-30T12:11:10.342Z"
   },
   {
    "duration": 13,
    "start_time": "2022-03-30T12:11:10.356Z"
   },
   {
    "duration": 17,
    "start_time": "2022-03-30T12:11:48.884Z"
   },
   {
    "duration": 36,
    "start_time": "2022-03-30T12:12:15.676Z"
   },
   {
    "duration": 4,
    "start_time": "2022-03-30T12:13:12.730Z"
   },
   {
    "duration": 425,
    "start_time": "2022-03-30T12:13:15.361Z"
   },
   {
    "duration": 275,
    "start_time": "2022-03-30T12:13:44.554Z"
   },
   {
    "duration": 108,
    "start_time": "2022-03-30T12:16:09.981Z"
   },
   {
    "duration": 38,
    "start_time": "2022-03-30T12:16:15.136Z"
   },
   {
    "duration": 310,
    "start_time": "2022-03-30T12:16:20.205Z"
   },
   {
    "duration": 158,
    "start_time": "2022-03-30T12:21:12.110Z"
   },
   {
    "duration": 13,
    "start_time": "2022-03-30T12:21:50.000Z"
   },
   {
    "duration": 13,
    "start_time": "2022-03-30T12:23:11.082Z"
   },
   {
    "duration": 19,
    "start_time": "2022-03-30T12:23:28.386Z"
   },
   {
    "duration": 14,
    "start_time": "2022-03-30T12:24:48.512Z"
   },
   {
    "duration": 17,
    "start_time": "2022-03-30T12:30:03.017Z"
   },
   {
    "duration": 17,
    "start_time": "2022-03-30T12:30:18.840Z"
   },
   {
    "duration": 1226,
    "start_time": "2022-03-30T12:30:27.849Z"
   },
   {
    "duration": 65,
    "start_time": "2022-03-30T12:30:29.078Z"
   },
   {
    "duration": 17,
    "start_time": "2022-03-30T12:30:29.144Z"
   },
   {
    "duration": 49,
    "start_time": "2022-03-30T12:30:29.163Z"
   },
   {
    "duration": 15,
    "start_time": "2022-03-30T12:30:29.216Z"
   },
   {
    "duration": 41,
    "start_time": "2022-03-30T12:30:29.233Z"
   },
   {
    "duration": 39,
    "start_time": "2022-03-30T12:30:29.276Z"
   },
   {
    "duration": 47,
    "start_time": "2022-03-30T12:30:29.317Z"
   },
   {
    "duration": 38,
    "start_time": "2022-03-30T12:30:29.366Z"
   },
   {
    "duration": 17,
    "start_time": "2022-03-30T12:30:29.406Z"
   },
   {
    "duration": 31,
    "start_time": "2022-03-30T12:30:29.425Z"
   },
   {
    "duration": 20,
    "start_time": "2022-03-30T12:30:29.458Z"
   },
   {
    "duration": 39,
    "start_time": "2022-03-30T12:30:29.480Z"
   },
   {
    "duration": 36,
    "start_time": "2022-03-30T12:30:29.522Z"
   },
   {
    "duration": 37,
    "start_time": "2022-03-30T12:30:29.560Z"
   },
   {
    "duration": 30,
    "start_time": "2022-03-30T12:30:29.598Z"
   },
   {
    "duration": 8,
    "start_time": "2022-03-30T12:30:29.630Z"
   },
   {
    "duration": 192,
    "start_time": "2022-03-30T12:30:29.640Z"
   },
   {
    "duration": 12,
    "start_time": "2022-03-30T12:30:29.834Z"
   },
   {
    "duration": 291,
    "start_time": "2022-03-30T12:30:29.847Z"
   },
   {
    "duration": 288,
    "start_time": "2022-03-30T12:30:30.140Z"
   },
   {
    "duration": 636,
    "start_time": "2022-03-30T12:30:30.430Z"
   },
   {
    "duration": 695,
    "start_time": "2022-03-30T12:30:31.068Z"
   },
   {
    "duration": 651,
    "start_time": "2022-03-30T12:30:31.765Z"
   },
   {
    "duration": 20,
    "start_time": "2022-03-30T12:30:32.418Z"
   },
   {
    "duration": 16,
    "start_time": "2022-03-30T12:30:32.440Z"
   },
   {
    "duration": 126,
    "start_time": "2022-03-30T12:30:32.457Z"
   },
   {
    "duration": 34,
    "start_time": "2022-03-30T12:30:32.585Z"
   },
   {
    "duration": 17,
    "start_time": "2022-03-30T12:30:32.621Z"
   },
   {
    "duration": 340,
    "start_time": "2022-03-30T12:30:32.639Z"
   },
   {
    "duration": 615,
    "start_time": "2022-03-30T12:30:32.981Z"
   },
   {
    "duration": 281,
    "start_time": "2022-03-30T12:30:33.598Z"
   },
   {
    "duration": 16,
    "start_time": "2022-03-30T12:30:33.880Z"
   },
   {
    "duration": 11,
    "start_time": "2022-03-30T12:30:33.898Z"
   },
   {
    "duration": 119,
    "start_time": "2022-03-30T12:31:16.678Z"
   },
   {
    "duration": 27,
    "start_time": "2022-03-30T12:38:08.430Z"
   },
   {
    "duration": 16,
    "start_time": "2022-03-30T12:38:25.372Z"
   },
   {
    "duration": 17,
    "start_time": "2022-03-30T13:05:25.141Z"
   },
   {
    "duration": 1190,
    "start_time": "2022-03-30T13:05:35.357Z"
   },
   {
    "duration": 67,
    "start_time": "2022-03-30T13:05:36.549Z"
   },
   {
    "duration": 25,
    "start_time": "2022-03-30T13:05:36.617Z"
   },
   {
    "duration": 34,
    "start_time": "2022-03-30T13:05:36.645Z"
   },
   {
    "duration": 15,
    "start_time": "2022-03-30T13:05:36.681Z"
   },
   {
    "duration": 40,
    "start_time": "2022-03-30T13:05:36.698Z"
   },
   {
    "duration": 22,
    "start_time": "2022-03-30T13:05:36.740Z"
   },
   {
    "duration": 21,
    "start_time": "2022-03-30T13:05:36.763Z"
   },
   {
    "duration": 53,
    "start_time": "2022-03-30T13:05:36.786Z"
   },
   {
    "duration": 5,
    "start_time": "2022-03-30T13:05:36.842Z"
   },
   {
    "duration": 12,
    "start_time": "2022-03-30T13:05:36.849Z"
   },
   {
    "duration": 14,
    "start_time": "2022-03-30T13:05:36.862Z"
   },
   {
    "duration": 15,
    "start_time": "2022-03-30T13:05:36.877Z"
   },
   {
    "duration": 13,
    "start_time": "2022-03-30T13:05:36.894Z"
   },
   {
    "duration": 15,
    "start_time": "2022-03-30T13:05:36.909Z"
   },
   {
    "duration": 24,
    "start_time": "2022-03-30T13:05:36.926Z"
   },
   {
    "duration": 17,
    "start_time": "2022-03-30T13:05:36.952Z"
   },
   {
    "duration": 202,
    "start_time": "2022-03-30T13:05:36.971Z"
   },
   {
    "duration": 11,
    "start_time": "2022-03-30T13:05:37.174Z"
   },
   {
    "duration": 303,
    "start_time": "2022-03-30T13:05:37.187Z"
   },
   {
    "duration": 292,
    "start_time": "2022-03-30T13:05:37.492Z"
   },
   {
    "duration": 650,
    "start_time": "2022-03-30T13:05:37.786Z"
   },
   {
    "duration": 719,
    "start_time": "2022-03-30T13:05:38.439Z"
   },
   {
    "duration": 635,
    "start_time": "2022-03-30T13:05:39.159Z"
   },
   {
    "duration": 10,
    "start_time": "2022-03-30T13:05:39.796Z"
   },
   {
    "duration": 36,
    "start_time": "2022-03-30T13:05:39.808Z"
   },
   {
    "duration": 129,
    "start_time": "2022-03-30T13:05:39.846Z"
   },
   {
    "duration": 34,
    "start_time": "2022-03-30T13:05:39.979Z"
   },
   {
    "duration": 31,
    "start_time": "2022-03-30T13:05:40.015Z"
   },
   {
    "duration": 360,
    "start_time": "2022-03-30T13:05:40.048Z"
   },
   {
    "duration": 588,
    "start_time": "2022-03-30T13:05:40.410Z"
   },
   {
    "duration": 277,
    "start_time": "2022-03-30T13:05:41.000Z"
   },
   {
    "duration": 118,
    "start_time": "2022-03-30T13:05:41.279Z"
   },
   {
    "duration": 0,
    "start_time": "2022-03-30T13:05:41.398Z"
   },
   {
    "duration": 16,
    "start_time": "2022-03-30T13:06:47.218Z"
   },
   {
    "duration": 12,
    "start_time": "2022-03-30T13:10:48.431Z"
   },
   {
    "duration": 14,
    "start_time": "2022-03-30T13:11:21.733Z"
   },
   {
    "duration": 10,
    "start_time": "2022-03-30T13:12:08.636Z"
   },
   {
    "duration": 1134,
    "start_time": "2022-03-30T13:15:30.609Z"
   },
   {
    "duration": 68,
    "start_time": "2022-03-30T13:15:31.745Z"
   },
   {
    "duration": 26,
    "start_time": "2022-03-30T13:15:31.815Z"
   },
   {
    "duration": 33,
    "start_time": "2022-03-30T13:15:31.843Z"
   },
   {
    "duration": 14,
    "start_time": "2022-03-30T13:15:31.879Z"
   },
   {
    "duration": 22,
    "start_time": "2022-03-30T13:15:31.894Z"
   },
   {
    "duration": 38,
    "start_time": "2022-03-30T13:15:31.918Z"
   },
   {
    "duration": 31,
    "start_time": "2022-03-30T13:15:31.958Z"
   },
   {
    "duration": 27,
    "start_time": "2022-03-30T13:15:31.991Z"
   },
   {
    "duration": 19,
    "start_time": "2022-03-30T13:15:32.020Z"
   },
   {
    "duration": 35,
    "start_time": "2022-03-30T13:15:32.041Z"
   },
   {
    "duration": 20,
    "start_time": "2022-03-30T13:15:32.077Z"
   },
   {
    "duration": 23,
    "start_time": "2022-03-30T13:15:32.098Z"
   },
   {
    "duration": 30,
    "start_time": "2022-03-30T13:15:32.124Z"
   },
   {
    "duration": 26,
    "start_time": "2022-03-30T13:15:32.156Z"
   },
   {
    "duration": 62,
    "start_time": "2022-03-30T13:15:32.184Z"
   },
   {
    "duration": 24,
    "start_time": "2022-03-30T13:15:32.247Z"
   },
   {
    "duration": 202,
    "start_time": "2022-03-30T13:15:32.272Z"
   },
   {
    "duration": 11,
    "start_time": "2022-03-30T13:15:32.475Z"
   },
   {
    "duration": 274,
    "start_time": "2022-03-30T13:15:32.488Z"
   },
   {
    "duration": 274,
    "start_time": "2022-03-30T13:15:32.764Z"
   },
   {
    "duration": 600,
    "start_time": "2022-03-30T13:15:33.040Z"
   },
   {
    "duration": 654,
    "start_time": "2022-03-30T13:15:33.641Z"
   },
   {
    "duration": 602,
    "start_time": "2022-03-30T13:15:34.296Z"
   },
   {
    "duration": 8,
    "start_time": "2022-03-30T13:15:34.900Z"
   },
   {
    "duration": 27,
    "start_time": "2022-03-30T13:15:34.910Z"
   },
   {
    "duration": 109,
    "start_time": "2022-03-30T13:15:34.939Z"
   },
   {
    "duration": 35,
    "start_time": "2022-03-30T13:15:35.050Z"
   },
   {
    "duration": 7,
    "start_time": "2022-03-30T13:15:35.087Z"
   },
   {
    "duration": 318,
    "start_time": "2022-03-30T13:15:35.096Z"
   },
   {
    "duration": 572,
    "start_time": "2022-03-30T13:15:35.416Z"
   },
   {
    "duration": 268,
    "start_time": "2022-03-30T13:15:35.990Z"
   },
   {
    "duration": 131,
    "start_time": "2022-03-30T13:15:36.259Z"
   },
   {
    "duration": 0,
    "start_time": "2022-03-30T13:15:36.391Z"
   },
   {
    "duration": 1462,
    "start_time": "2022-03-30T13:58:37.519Z"
   },
   {
    "duration": 70,
    "start_time": "2022-03-30T13:58:38.983Z"
   },
   {
    "duration": 16,
    "start_time": "2022-03-30T13:58:39.054Z"
   },
   {
    "duration": 28,
    "start_time": "2022-03-30T13:58:39.071Z"
   },
   {
    "duration": 32,
    "start_time": "2022-03-30T13:58:39.102Z"
   },
   {
    "duration": 18,
    "start_time": "2022-03-30T13:58:39.135Z"
   },
   {
    "duration": 19,
    "start_time": "2022-03-30T13:58:39.155Z"
   },
   {
    "duration": 15,
    "start_time": "2022-03-30T13:58:39.176Z"
   },
   {
    "duration": 49,
    "start_time": "2022-03-30T13:58:39.193Z"
   },
   {
    "duration": 5,
    "start_time": "2022-03-30T13:58:39.244Z"
   },
   {
    "duration": 8,
    "start_time": "2022-03-30T13:58:39.250Z"
   },
   {
    "duration": 17,
    "start_time": "2022-03-30T13:58:39.260Z"
   },
   {
    "duration": 7,
    "start_time": "2022-03-30T13:58:39.279Z"
   },
   {
    "duration": 6,
    "start_time": "2022-03-30T13:58:39.289Z"
   },
   {
    "duration": 14,
    "start_time": "2022-03-30T13:58:39.296Z"
   },
   {
    "duration": 18,
    "start_time": "2022-03-30T13:58:39.332Z"
   },
   {
    "duration": 32,
    "start_time": "2022-03-30T13:58:39.352Z"
   },
   {
    "duration": 159,
    "start_time": "2022-03-30T13:58:39.385Z"
   },
   {
    "duration": 10,
    "start_time": "2022-03-30T13:58:39.545Z"
   },
   {
    "duration": 256,
    "start_time": "2022-03-30T13:58:39.557Z"
   },
   {
    "duration": 254,
    "start_time": "2022-03-30T13:58:39.815Z"
   },
   {
    "duration": 630,
    "start_time": "2022-03-30T13:58:40.070Z"
   },
   {
    "duration": 548,
    "start_time": "2022-03-30T13:58:40.702Z"
   },
   {
    "duration": 563,
    "start_time": "2022-03-30T13:58:41.252Z"
   },
   {
    "duration": 9,
    "start_time": "2022-03-30T13:58:41.817Z"
   },
   {
    "duration": 15,
    "start_time": "2022-03-30T13:58:41.833Z"
   },
   {
    "duration": 119,
    "start_time": "2022-03-30T13:58:41.849Z"
   },
   {
    "duration": 35,
    "start_time": "2022-03-30T13:58:41.969Z"
   },
   {
    "duration": 6,
    "start_time": "2022-03-30T13:58:42.006Z"
   },
   {
    "duration": 309,
    "start_time": "2022-03-30T13:58:42.014Z"
   },
   {
    "duration": 539,
    "start_time": "2022-03-30T13:58:42.333Z"
   },
   {
    "duration": 244,
    "start_time": "2022-03-30T13:58:42.874Z"
   },
   {
    "duration": 20,
    "start_time": "2022-03-30T13:58:43.120Z"
   },
   {
    "duration": 19,
    "start_time": "2022-03-30T13:58:43.141Z"
   },
   {
    "duration": 1052,
    "start_time": "2022-12-22T14:33:13.152Z"
   },
   {
    "duration": 204,
    "start_time": "2022-12-22T14:33:14.206Z"
   },
   {
    "duration": 17,
    "start_time": "2022-12-22T14:33:14.411Z"
   },
   {
    "duration": 24,
    "start_time": "2022-12-22T14:33:14.430Z"
   },
   {
    "duration": 12,
    "start_time": "2022-12-22T14:33:14.457Z"
   },
   {
    "duration": 39,
    "start_time": "2022-12-22T14:33:14.470Z"
   },
   {
    "duration": 19,
    "start_time": "2022-12-22T14:33:14.510Z"
   },
   {
    "duration": 19,
    "start_time": "2022-12-22T14:33:14.531Z"
   },
   {
    "duration": 22,
    "start_time": "2022-12-22T14:33:14.552Z"
   },
   {
    "duration": 5,
    "start_time": "2022-12-22T14:33:14.575Z"
   },
   {
    "duration": 4,
    "start_time": "2022-12-22T14:33:14.605Z"
   },
   {
    "duration": 10,
    "start_time": "2022-12-22T14:33:14.611Z"
   },
   {
    "duration": 7,
    "start_time": "2022-12-22T14:33:14.622Z"
   },
   {
    "duration": 6,
    "start_time": "2022-12-22T14:33:14.632Z"
   },
   {
    "duration": 19,
    "start_time": "2022-12-22T14:33:14.640Z"
   },
   {
    "duration": 16,
    "start_time": "2022-12-22T14:33:14.661Z"
   },
   {
    "duration": 26,
    "start_time": "2022-12-22T14:33:14.679Z"
   },
   {
    "duration": 166,
    "start_time": "2022-12-22T14:33:14.707Z"
   },
   {
    "duration": 10,
    "start_time": "2022-12-22T14:33:14.875Z"
   },
   {
    "duration": 298,
    "start_time": "2022-12-22T14:33:14.887Z"
   },
   {
    "duration": 281,
    "start_time": "2022-12-22T14:33:15.187Z"
   },
   {
    "duration": 604,
    "start_time": "2022-12-22T14:33:15.470Z"
   },
   {
    "duration": 662,
    "start_time": "2022-12-22T14:33:16.076Z"
   },
   {
    "duration": 599,
    "start_time": "2022-12-22T14:33:16.739Z"
   },
   {
    "duration": 8,
    "start_time": "2022-12-22T14:33:17.339Z"
   },
   {
    "duration": 28,
    "start_time": "2022-12-22T14:33:17.348Z"
   },
   {
    "duration": 123,
    "start_time": "2022-12-22T14:33:17.378Z"
   },
   {
    "duration": 34,
    "start_time": "2022-12-22T14:33:17.505Z"
   },
   {
    "duration": 21,
    "start_time": "2022-12-22T14:33:17.540Z"
   },
   {
    "duration": 334,
    "start_time": "2022-12-22T14:33:17.563Z"
   },
   {
    "duration": 672,
    "start_time": "2022-12-22T14:33:17.899Z"
   },
   {
    "duration": 273,
    "start_time": "2022-12-22T14:33:18.573Z"
   },
   {
    "duration": 10,
    "start_time": "2022-12-22T14:33:18.847Z"
   },
   {
    "duration": 27,
    "start_time": "2022-12-22T14:33:18.859Z"
   }
  ],
  "kernelspec": {
   "display_name": "Python 3 (ipykernel)",
   "language": "python",
   "name": "python3"
  },
  "language_info": {
   "codemirror_mode": {
    "name": "ipython",
    "version": 3
   },
   "file_extension": ".py",
   "mimetype": "text/x-python",
   "name": "python",
   "nbconvert_exporter": "python",
   "pygments_lexer": "ipython3",
   "version": "3.9.5"
  },
  "toc": {
   "base_numbering": 1,
   "nav_menu": {},
   "number_sections": true,
   "sideBar": true,
   "skip_h1_title": true,
   "title_cell": "Table of Contents",
   "title_sidebar": "Contents",
   "toc_cell": false,
   "toc_position": {},
   "toc_section_display": true,
   "toc_window_display": true
  }
 },
 "nbformat": 4,
 "nbformat_minor": 2
}
