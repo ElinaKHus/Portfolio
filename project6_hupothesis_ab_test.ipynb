{
 "cells": [
  {
   "cell_type": "markdown",
   "metadata": {},
   "source": [
    "Я работаю аналитиком в крупном интернет-магазине. Вместе с отделом маркетинга мы подготовили список гипотез для увеличения выручки.\n",
    "Приоритизируем гипотезы, запустим A/B-тест и проанализируем результаты."
   ]
  },
  {
   "cell_type": "markdown",
   "metadata": {},
   "source": [
    "## Приоритизация гипотез"
   ]
  },
  {
   "cell_type": "markdown",
   "metadata": {},
   "source": [
    "### Изучение данных"
   ]
  },
  {
   "cell_type": "code",
   "execution_count": 1,
   "metadata": {},
   "outputs": [],
   "source": [
    "# Импортируем нужные библиотеки\n",
    "import pandas as pd\n",
    "import numpy as np\n",
    "import datetime as dt\n",
    "from matplotlib import pyplot as plt\n",
    "from pandas import option_context\n",
    "import scipy.stats as stats"
   ]
  },
  {
   "cell_type": "code",
   "execution_count": 2,
   "metadata": {},
   "outputs": [
    {
     "data": {
      "text/html": [
       "<div>\n",
       "<style scoped>\n",
       "    .dataframe tbody tr th:only-of-type {\n",
       "        vertical-align: middle;\n",
       "    }\n",
       "\n",
       "    .dataframe tbody tr th {\n",
       "        vertical-align: top;\n",
       "    }\n",
       "\n",
       "    .dataframe thead th {\n",
       "        text-align: right;\n",
       "    }\n",
       "</style>\n",
       "<table border=\"1\" class=\"dataframe\">\n",
       "  <thead>\n",
       "    <tr style=\"text-align: right;\">\n",
       "      <th></th>\n",
       "      <th>Hypothesis</th>\n",
       "      <th>Reach</th>\n",
       "      <th>Impact</th>\n",
       "      <th>Confidence</th>\n",
       "      <th>Efforts</th>\n",
       "    </tr>\n",
       "  </thead>\n",
       "  <tbody>\n",
       "    <tr>\n",
       "      <th>0</th>\n",
       "      <td>Добавить два новых канала привлечения трафика, что позволит привлекать на 30% больше пользователей</td>\n",
       "      <td>3</td>\n",
       "      <td>10</td>\n",
       "      <td>8</td>\n",
       "      <td>6</td>\n",
       "    </tr>\n",
       "    <tr>\n",
       "      <th>1</th>\n",
       "      <td>Запустить собственную службу доставки, что сократит срок доставки заказов</td>\n",
       "      <td>2</td>\n",
       "      <td>5</td>\n",
       "      <td>4</td>\n",
       "      <td>10</td>\n",
       "    </tr>\n",
       "    <tr>\n",
       "      <th>2</th>\n",
       "      <td>Добавить блоки рекомендаций товаров на сайт интернет магазина, чтобы повысить конверсию и средний чек заказа</td>\n",
       "      <td>8</td>\n",
       "      <td>3</td>\n",
       "      <td>7</td>\n",
       "      <td>3</td>\n",
       "    </tr>\n",
       "    <tr>\n",
       "      <th>3</th>\n",
       "      <td>Изменить структура категорий, что увеличит конверсию, т.к. пользователи быстрее найдут нужный товар</td>\n",
       "      <td>8</td>\n",
       "      <td>3</td>\n",
       "      <td>3</td>\n",
       "      <td>8</td>\n",
       "    </tr>\n",
       "    <tr>\n",
       "      <th>4</th>\n",
       "      <td>Изменить цвет фона главной страницы, чтобы увеличить вовлеченность пользователей</td>\n",
       "      <td>3</td>\n",
       "      <td>1</td>\n",
       "      <td>1</td>\n",
       "      <td>1</td>\n",
       "    </tr>\n",
       "    <tr>\n",
       "      <th>5</th>\n",
       "      <td>Добавить страницу отзывов клиентов о магазине, что позволит увеличить количество заказов</td>\n",
       "      <td>3</td>\n",
       "      <td>2</td>\n",
       "      <td>2</td>\n",
       "      <td>3</td>\n",
       "    </tr>\n",
       "    <tr>\n",
       "      <th>6</th>\n",
       "      <td>Показать на главной странице баннеры с актуальными акциями и распродажами, чтобы увеличить конверсию</td>\n",
       "      <td>5</td>\n",
       "      <td>3</td>\n",
       "      <td>8</td>\n",
       "      <td>3</td>\n",
       "    </tr>\n",
       "    <tr>\n",
       "      <th>7</th>\n",
       "      <td>Добавить форму подписки на все основные страницы, чтобы собрать базу клиентов для email-рассылок</td>\n",
       "      <td>10</td>\n",
       "      <td>7</td>\n",
       "      <td>8</td>\n",
       "      <td>5</td>\n",
       "    </tr>\n",
       "    <tr>\n",
       "      <th>8</th>\n",
       "      <td>Запустить акцию, дающую скидку на товар в день рождения</td>\n",
       "      <td>1</td>\n",
       "      <td>9</td>\n",
       "      <td>9</td>\n",
       "      <td>5</td>\n",
       "    </tr>\n",
       "  </tbody>\n",
       "</table>\n",
       "</div>"
      ],
      "text/plain": [
       "                                                                                                     Hypothesis  \\\n",
       "0            Добавить два новых канала привлечения трафика, что позволит привлекать на 30% больше пользователей   \n",
       "1                                     Запустить собственную службу доставки, что сократит срок доставки заказов   \n",
       "2  Добавить блоки рекомендаций товаров на сайт интернет магазина, чтобы повысить конверсию и средний чек заказа   \n",
       "3           Изменить структура категорий, что увеличит конверсию, т.к. пользователи быстрее найдут нужный товар   \n",
       "4                              Изменить цвет фона главной страницы, чтобы увеличить вовлеченность пользователей   \n",
       "5                      Добавить страницу отзывов клиентов о магазине, что позволит увеличить количество заказов   \n",
       "6          Показать на главной странице баннеры с актуальными акциями и распродажами, чтобы увеличить конверсию   \n",
       "7              Добавить форму подписки на все основные страницы, чтобы собрать базу клиентов для email-рассылок   \n",
       "8                                                       Запустить акцию, дающую скидку на товар в день рождения   \n",
       "\n",
       "   Reach  Impact  Confidence  Efforts  \n",
       "0      3      10           8        6  \n",
       "1      2       5           4       10  \n",
       "2      8       3           7        3  \n",
       "3      8       3           3        8  \n",
       "4      3       1           1        1  \n",
       "5      3       2           2        3  \n",
       "6      5       3           8        3  \n",
       "7     10       7           8        5  \n",
       "8      1       9           9        5  "
      ]
     },
     "metadata": {},
     "output_type": "display_data"
    }
   ],
   "source": [
    "# Загрузим данные о гипотезах по увеличению выручки\n",
    "df = pd.read_csv('/datasets/hypothesis.csv')\n",
    "with option_context('display.max_colwidth', 400):\n",
    "    display(df)"
   ]
  },
  {
   "cell_type": "code",
   "execution_count": 3,
   "metadata": {},
   "outputs": [
    {
     "name": "stdout",
     "output_type": "stream",
     "text": [
      "<class 'pandas.core.frame.DataFrame'>\n",
      "RangeIndex: 9 entries, 0 to 8\n",
      "Data columns (total 5 columns):\n",
      " #   Column      Non-Null Count  Dtype \n",
      "---  ------      --------------  ----- \n",
      " 0   Hypothesis  9 non-null      object\n",
      " 1   Reach       9 non-null      int64 \n",
      " 2   Impact      9 non-null      int64 \n",
      " 3   Confidence  9 non-null      int64 \n",
      " 4   Efforts     9 non-null      int64 \n",
      "dtypes: int64(4), object(1)\n",
      "memory usage: 488.0+ bytes\n"
     ]
    }
   ],
   "source": [
    "df.info()"
   ]
  },
  {
   "cell_type": "markdown",
   "metadata": {},
   "source": [
    "Видим, что все данные имеют верный тип, поэтому перейдем непосредственно к анализу."
   ]
  },
  {
   "cell_type": "markdown",
   "metadata": {},
   "source": [
    "### Применение ICE для приоритизации гипотез. Сортировка гипотез по убыванию приоритета"
   ]
  },
  {
   "cell_type": "markdown",
   "metadata": {},
   "source": [
    "Сначала посчитаем ICE для приоритизации гипотез. Добавим полученные значения ICE к существующей таблице. Новый столбец назовите ICE. \n",
    "Выведем столбцы 'hypothesis' и 'ICE', отсортированные по столбцу 'ICE'"
   ]
  },
  {
   "cell_type": "code",
   "execution_count": 4,
   "metadata": {},
   "outputs": [
    {
     "data": {
      "text/html": [
       "<div>\n",
       "<style scoped>\n",
       "    .dataframe tbody tr th:only-of-type {\n",
       "        vertical-align: middle;\n",
       "    }\n",
       "\n",
       "    .dataframe tbody tr th {\n",
       "        vertical-align: top;\n",
       "    }\n",
       "\n",
       "    .dataframe thead th {\n",
       "        text-align: right;\n",
       "    }\n",
       "</style>\n",
       "<table border=\"1\" class=\"dataframe\">\n",
       "  <thead>\n",
       "    <tr style=\"text-align: right;\">\n",
       "      <th></th>\n",
       "      <th>Hypothesis</th>\n",
       "      <th>ICE</th>\n",
       "    </tr>\n",
       "  </thead>\n",
       "  <tbody>\n",
       "    <tr>\n",
       "      <th>8</th>\n",
       "      <td>Запустить акцию, дающую скидку на товар в день...</td>\n",
       "      <td>16.200000</td>\n",
       "    </tr>\n",
       "    <tr>\n",
       "      <th>0</th>\n",
       "      <td>Добавить два новых канала привлечения трафика,...</td>\n",
       "      <td>13.333333</td>\n",
       "    </tr>\n",
       "    <tr>\n",
       "      <th>7</th>\n",
       "      <td>Добавить форму подписки на все основные страни...</td>\n",
       "      <td>11.200000</td>\n",
       "    </tr>\n",
       "    <tr>\n",
       "      <th>6</th>\n",
       "      <td>Показать на главной странице баннеры с актуаль...</td>\n",
       "      <td>8.000000</td>\n",
       "    </tr>\n",
       "    <tr>\n",
       "      <th>2</th>\n",
       "      <td>Добавить блоки рекомендаций товаров на сайт ин...</td>\n",
       "      <td>7.000000</td>\n",
       "    </tr>\n",
       "    <tr>\n",
       "      <th>1</th>\n",
       "      <td>Запустить собственную службу доставки, что сок...</td>\n",
       "      <td>2.000000</td>\n",
       "    </tr>\n",
       "    <tr>\n",
       "      <th>5</th>\n",
       "      <td>Добавить страницу отзывов клиентов о магазине,...</td>\n",
       "      <td>1.333333</td>\n",
       "    </tr>\n",
       "    <tr>\n",
       "      <th>3</th>\n",
       "      <td>Изменить структура категорий, что увеличит кон...</td>\n",
       "      <td>1.125000</td>\n",
       "    </tr>\n",
       "    <tr>\n",
       "      <th>4</th>\n",
       "      <td>Изменить цвет фона главной страницы, чтобы уве...</td>\n",
       "      <td>1.000000</td>\n",
       "    </tr>\n",
       "  </tbody>\n",
       "</table>\n",
       "</div>"
      ],
      "text/plain": [
       "                                          Hypothesis        ICE\n",
       "8  Запустить акцию, дающую скидку на товар в день...  16.200000\n",
       "0  Добавить два новых канала привлечения трафика,...  13.333333\n",
       "7  Добавить форму подписки на все основные страни...  11.200000\n",
       "6  Показать на главной странице баннеры с актуаль...   8.000000\n",
       "2  Добавить блоки рекомендаций товаров на сайт ин...   7.000000\n",
       "1  Запустить собственную службу доставки, что сок...   2.000000\n",
       "5  Добавить страницу отзывов клиентов о магазине,...   1.333333\n",
       "3  Изменить структура категорий, что увеличит кон...   1.125000\n",
       "4  Изменить цвет фона главной страницы, чтобы уве...   1.000000"
      ]
     },
     "metadata": {},
     "output_type": "display_data"
    }
   ],
   "source": [
    "df['ICE'] = df['Impact'] * df['Confidence']/df['Efforts']\n",
    "display(df[['Hypothesis', 'ICE']].sort_values(by='ICE', ascending=False))"
   ]
  },
  {
   "cell_type": "markdown",
   "metadata": {},
   "source": [
    "Таким образом, наиболее перспективные гипотезы по ICE: 8 (Запустить акцию, дающую скидку на товар в день рождения), 0 (Добавить два новых канала привлечения трафика) и 7 (Добавить форму подписки на все основные страницы)."
   ]
  },
  {
   "cell_type": "markdown",
   "metadata": {},
   "source": [
    "### Применение RICE для приоритизации гипотез. Сортировка гипотез по убыванию приоритета"
   ]
  },
  {
   "cell_type": "markdown",
   "metadata": {},
   "source": [
    "Теперь применим RICE для приоритизации гипотез. По аналогии с ICE добавим столбец RICE к существующей таблице. Выведем столбцы 'hypothesis' и 'RICE', отсортированные по столбцу 'RICE'"
   ]
  },
  {
   "cell_type": "code",
   "execution_count": 5,
   "metadata": {},
   "outputs": [
    {
     "data": {
      "text/html": [
       "<div>\n",
       "<style scoped>\n",
       "    .dataframe tbody tr th:only-of-type {\n",
       "        vertical-align: middle;\n",
       "    }\n",
       "\n",
       "    .dataframe tbody tr th {\n",
       "        vertical-align: top;\n",
       "    }\n",
       "\n",
       "    .dataframe thead th {\n",
       "        text-align: right;\n",
       "    }\n",
       "</style>\n",
       "<table border=\"1\" class=\"dataframe\">\n",
       "  <thead>\n",
       "    <tr style=\"text-align: right;\">\n",
       "      <th></th>\n",
       "      <th>Hypothesis</th>\n",
       "      <th>RICE</th>\n",
       "    </tr>\n",
       "  </thead>\n",
       "  <tbody>\n",
       "    <tr>\n",
       "      <th>7</th>\n",
       "      <td>Добавить форму подписки на все основные страни...</td>\n",
       "      <td>112.0</td>\n",
       "    </tr>\n",
       "    <tr>\n",
       "      <th>2</th>\n",
       "      <td>Добавить блоки рекомендаций товаров на сайт ин...</td>\n",
       "      <td>56.0</td>\n",
       "    </tr>\n",
       "    <tr>\n",
       "      <th>0</th>\n",
       "      <td>Добавить два новых канала привлечения трафика,...</td>\n",
       "      <td>40.0</td>\n",
       "    </tr>\n",
       "    <tr>\n",
       "      <th>6</th>\n",
       "      <td>Показать на главной странице баннеры с актуаль...</td>\n",
       "      <td>40.0</td>\n",
       "    </tr>\n",
       "    <tr>\n",
       "      <th>8</th>\n",
       "      <td>Запустить акцию, дающую скидку на товар в день...</td>\n",
       "      <td>16.2</td>\n",
       "    </tr>\n",
       "    <tr>\n",
       "      <th>3</th>\n",
       "      <td>Изменить структура категорий, что увеличит кон...</td>\n",
       "      <td>9.0</td>\n",
       "    </tr>\n",
       "    <tr>\n",
       "      <th>1</th>\n",
       "      <td>Запустить собственную службу доставки, что сок...</td>\n",
       "      <td>4.0</td>\n",
       "    </tr>\n",
       "    <tr>\n",
       "      <th>5</th>\n",
       "      <td>Добавить страницу отзывов клиентов о магазине,...</td>\n",
       "      <td>4.0</td>\n",
       "    </tr>\n",
       "    <tr>\n",
       "      <th>4</th>\n",
       "      <td>Изменить цвет фона главной страницы, чтобы уве...</td>\n",
       "      <td>3.0</td>\n",
       "    </tr>\n",
       "  </tbody>\n",
       "</table>\n",
       "</div>"
      ],
      "text/plain": [
       "                                          Hypothesis   RICE\n",
       "7  Добавить форму подписки на все основные страни...  112.0\n",
       "2  Добавить блоки рекомендаций товаров на сайт ин...   56.0\n",
       "0  Добавить два новых канала привлечения трафика,...   40.0\n",
       "6  Показать на главной странице баннеры с актуаль...   40.0\n",
       "8  Запустить акцию, дающую скидку на товар в день...   16.2\n",
       "3  Изменить структура категорий, что увеличит кон...    9.0\n",
       "1  Запустить собственную службу доставки, что сок...    4.0\n",
       "5  Добавить страницу отзывов клиентов о магазине,...    4.0\n",
       "4  Изменить цвет фона главной страницы, чтобы уве...    3.0"
      ]
     },
     "metadata": {},
     "output_type": "display_data"
    }
   ],
   "source": [
    "df['RICE'] = df['Reach']*df['Impact']*df['Confidence']/df['Efforts']\n",
    "display(df[['Hypothesis', 'RICE']].sort_values(by='RICE', ascending=False))"
   ]
  },
  {
   "cell_type": "markdown",
   "metadata": {},
   "source": [
    "Здесь получили несколько иной результат. Гипотеза 8, которая была на 1 месте при ICE, оказалась лишь на 5 месте. На 1 место вышла гипотеза 7, которая при ICE была лишь на 3 месте. Зато в лидеры вошли гипотезы 2 (Добавить блоки рекомендаций товаров на сайт) и 6 (Показать на главной странице баннеры). Это произошло потому что охват пользователей у данных гипотез выше, чем у гипотезы 8. Например, у гипотезы 7 самый большой охват аудитории (10 баллов из 10), в то время как у гипотезы 8 самый низкий охват аудитории (1 балл из 10). Гипотезы 2, которые не входили в лидеры при применении ICE, но на 2 месте при подсчете RICE, также имеет достаточно высокий охват (8 баллов из 10). Гипотеза 6 оказалась на 6 месте и при ICE и при RICE. "
   ]
  },
  {
   "cell_type": "code",
   "execution_count": 6,
   "metadata": {},
   "outputs": [
    {
     "data": {
      "image/png": "[encoded data removed]",
      "text/plain": [
       "<Figure size 432x288 with 1 Axes>"
      ]
     },
     "metadata": {
      "needs_background": "light"
     },
     "output_type": "display_data"
    }
   ],
   "source": [
    "y = df['ICE'] \n",
    "z = df['RICE'] \n",
    "n = df.index \n",
    "\n",
    "fig, ax = plt.subplots()\n",
    "ax.scatter(z, y)\n",
    "\n",
    "for i, txt in enumerate(n):\n",
    "    ax.annotate(txt, (z[i], y[i]))\n",
    "\n",
    "plt.title(\"ICE and RICE гипотезы\") \n",
    "plt.xlabel(\"RICE\") \n",
    "plt.ylabel(\"ICE\");"
   ]
  },
  {
   "cell_type": "markdown",
   "metadata": {},
   "source": [
    "## Анализ А/В теста"
   ]
  },
  {
   "cell_type": "markdown",
   "metadata": {},
   "source": [
    "### Подготовка данных"
   ]
  },
  {
   "cell_type": "markdown",
   "metadata": {},
   "source": [
    "Посмотрим на результат проведенного А/В теста, изучив данные в файлах."
   ]
  },
  {
   "cell_type": "code",
   "execution_count": 7,
   "metadata": {},
   "outputs": [
    {
     "data": {
      "text/html": [
       "<div>\n",
       "<style scoped>\n",
       "    .dataframe tbody tr th:only-of-type {\n",
       "        vertical-align: middle;\n",
       "    }\n",
       "\n",
       "    .dataframe tbody tr th {\n",
       "        vertical-align: top;\n",
       "    }\n",
       "\n",
       "    .dataframe thead th {\n",
       "        text-align: right;\n",
       "    }\n",
       "</style>\n",
       "<table border=\"1\" class=\"dataframe\">\n",
       "  <thead>\n",
       "    <tr style=\"text-align: right;\">\n",
       "      <th></th>\n",
       "      <th>transactionId</th>\n",
       "      <th>visitorId</th>\n",
       "      <th>date</th>\n",
       "      <th>revenue</th>\n",
       "      <th>group</th>\n",
       "    </tr>\n",
       "  </thead>\n",
       "  <tbody>\n",
       "    <tr>\n",
       "      <th>0</th>\n",
       "      <td>3667963787</td>\n",
       "      <td>3312258926</td>\n",
       "      <td>2019-08-15</td>\n",
       "      <td>1650</td>\n",
       "      <td>B</td>\n",
       "    </tr>\n",
       "    <tr>\n",
       "      <th>1</th>\n",
       "      <td>2804400009</td>\n",
       "      <td>3642806036</td>\n",
       "      <td>2019-08-15</td>\n",
       "      <td>730</td>\n",
       "      <td>B</td>\n",
       "    </tr>\n",
       "    <tr>\n",
       "      <th>2</th>\n",
       "      <td>2961555356</td>\n",
       "      <td>4069496402</td>\n",
       "      <td>2019-08-15</td>\n",
       "      <td>400</td>\n",
       "      <td>A</td>\n",
       "    </tr>\n",
       "    <tr>\n",
       "      <th>3</th>\n",
       "      <td>3797467345</td>\n",
       "      <td>1196621759</td>\n",
       "      <td>2019-08-15</td>\n",
       "      <td>9759</td>\n",
       "      <td>B</td>\n",
       "    </tr>\n",
       "    <tr>\n",
       "      <th>4</th>\n",
       "      <td>2282983706</td>\n",
       "      <td>2322279887</td>\n",
       "      <td>2019-08-15</td>\n",
       "      <td>2308</td>\n",
       "      <td>B</td>\n",
       "    </tr>\n",
       "  </tbody>\n",
       "</table>\n",
       "</div>"
      ],
      "text/plain": [
       "   transactionId   visitorId       date  revenue group\n",
       "0     3667963787  3312258926 2019-08-15     1650     B\n",
       "1     2804400009  3642806036 2019-08-15      730     B\n",
       "2     2961555356  4069496402 2019-08-15      400     A\n",
       "3     3797467345  1196621759 2019-08-15     9759     B\n",
       "4     2282983706  2322279887 2019-08-15     2308     B"
      ]
     },
     "execution_count": 7,
     "metadata": {},
     "output_type": "execute_result"
    }
   ],
   "source": [
    "# откроем файл с заказами\n",
    "orders = pd.read_csv('/datasets/orders.csv')\n",
    "orders['date'] = orders['date'].map(\n",
    "    lambda x: dt.datetime.strptime(x, '%Y-%m-%d')\n",
    ")\n",
    "\n",
    "orders.head(5)"
   ]
  },
  {
   "cell_type": "code",
   "execution_count": 8,
   "metadata": {
    "scrolled": true
   },
   "outputs": [
    {
     "data": {
      "text/html": [
       "<div>\n",
       "<style scoped>\n",
       "    .dataframe tbody tr th:only-of-type {\n",
       "        vertical-align: middle;\n",
       "    }\n",
       "\n",
       "    .dataframe tbody tr th {\n",
       "        vertical-align: top;\n",
       "    }\n",
       "\n",
       "    .dataframe thead th {\n",
       "        text-align: right;\n",
       "    }\n",
       "</style>\n",
       "<table border=\"1\" class=\"dataframe\">\n",
       "  <thead>\n",
       "    <tr style=\"text-align: right;\">\n",
       "      <th></th>\n",
       "      <th>date</th>\n",
       "      <th>group</th>\n",
       "      <th>visitors</th>\n",
       "    </tr>\n",
       "  </thead>\n",
       "  <tbody>\n",
       "    <tr>\n",
       "      <th>0</th>\n",
       "      <td>2019-08-01</td>\n",
       "      <td>A</td>\n",
       "      <td>719</td>\n",
       "    </tr>\n",
       "    <tr>\n",
       "      <th>1</th>\n",
       "      <td>2019-08-02</td>\n",
       "      <td>A</td>\n",
       "      <td>619</td>\n",
       "    </tr>\n",
       "    <tr>\n",
       "      <th>2</th>\n",
       "      <td>2019-08-03</td>\n",
       "      <td>A</td>\n",
       "      <td>507</td>\n",
       "    </tr>\n",
       "    <tr>\n",
       "      <th>3</th>\n",
       "      <td>2019-08-04</td>\n",
       "      <td>A</td>\n",
       "      <td>717</td>\n",
       "    </tr>\n",
       "    <tr>\n",
       "      <th>4</th>\n",
       "      <td>2019-08-05</td>\n",
       "      <td>A</td>\n",
       "      <td>756</td>\n",
       "    </tr>\n",
       "  </tbody>\n",
       "</table>\n",
       "</div>"
      ],
      "text/plain": [
       "        date group  visitors\n",
       "0 2019-08-01     A       719\n",
       "1 2019-08-02     A       619\n",
       "2 2019-08-03     A       507\n",
       "3 2019-08-04     A       717\n",
       "4 2019-08-05     A       756"
      ]
     },
     "execution_count": 8,
     "metadata": {},
     "output_type": "execute_result"
    }
   ],
   "source": [
    "# откроем файл с посетителями\n",
    "visitors = pd.read_csv('/datasets/visitors.csv')\n",
    "visitors['date'] = visitors['date'].map(\n",
    "    lambda x: dt.datetime.strptime(x, '%Y-%m-%d')\n",
    ")\n",
    "\n",
    "visitors.head(5)"
   ]
  },
  {
   "cell_type": "code",
   "execution_count": 9,
   "metadata": {},
   "outputs": [
    {
     "name": "stdout",
     "output_type": "stream",
     "text": [
      "Дубликатов в таблице: 0\n"
     ]
    }
   ],
   "source": [
    "print ('Дубликатов в таблице:', orders.duplicated().sum() )"
   ]
  },
  {
   "cell_type": "code",
   "execution_count": 10,
   "metadata": {},
   "outputs": [
    {
     "name": "stdout",
     "output_type": "stream",
     "text": [
      "Дубликатов в таблице: 0\n"
     ]
    }
   ],
   "source": [
    "print ('Дубликатов в таблице:', visitors.duplicated().sum() )"
   ]
  },
  {
   "cell_type": "markdown",
   "metadata": {},
   "source": [
    "Видим, что дубликаты в датафреймах отсутствуют. Теперь найдем количество групп, участвующих в тесте, а также даты начала и окончания тестирования"
   ]
  },
  {
   "cell_type": "code",
   "execution_count": 11,
   "metadata": {},
   "outputs": [
    {
     "name": "stdout",
     "output_type": "stream",
     "text": [
      "B    640\n",
      "A    557\n",
      "Name: group, dtype: int64\n"
     ]
    }
   ],
   "source": [
    "print(orders['group'].value_counts())"
   ]
  },
  {
   "cell_type": "code",
   "execution_count": 12,
   "metadata": {},
   "outputs": [
    {
     "name": "stdout",
     "output_type": "stream",
     "text": [
      "B    31\n",
      "A    31\n",
      "Name: group, dtype: int64\n"
     ]
    }
   ],
   "source": [
    "print(visitors['group'].value_counts())"
   ]
  },
  {
   "cell_type": "code",
   "execution_count": 13,
   "metadata": {},
   "outputs": [
    {
     "data": {
      "text/plain": [
       "Timestamp('2019-08-01 00:00:00')"
      ]
     },
     "execution_count": 13,
     "metadata": {},
     "output_type": "execute_result"
    }
   ],
   "source": [
    "orders['date'].min()"
   ]
  },
  {
   "cell_type": "code",
   "execution_count": 14,
   "metadata": {},
   "outputs": [
    {
     "data": {
      "text/plain": [
       "Timestamp('2019-08-31 00:00:00')"
      ]
     },
     "execution_count": 14,
     "metadata": {},
     "output_type": "execute_result"
    }
   ],
   "source": [
    "orders['date'].max()"
   ]
  },
  {
   "cell_type": "code",
   "execution_count": 15,
   "metadata": {},
   "outputs": [
    {
     "data": {
      "text/plain": [
       "Timestamp('2019-08-01 00:00:00')"
      ]
     },
     "execution_count": 15,
     "metadata": {},
     "output_type": "execute_result"
    }
   ],
   "source": [
    "visitors['date'].min()"
   ]
  },
  {
   "cell_type": "code",
   "execution_count": 16,
   "metadata": {},
   "outputs": [
    {
     "data": {
      "text/plain": [
       "Timestamp('2019-08-31 00:00:00')"
      ]
     },
     "execution_count": 16,
     "metadata": {},
     "output_type": "execute_result"
    }
   ],
   "source": [
    "visitors['date'].max()"
   ]
  },
  {
   "cell_type": "markdown",
   "metadata": {},
   "source": [
    "Таким образом, в тестировании участвуют две группы. Тестирование проводится с 1 по 31 августа 2019г."
   ]
  },
  {
   "cell_type": "markdown",
   "metadata": {},
   "source": [
    "### График кумулятивной выручки по группам"
   ]
  },
  {
   "cell_type": "markdown",
   "metadata": {},
   "source": [
    "Чтобы построить графики, соберем кумулятивные данные. Для этого объявим датафрейм cumulativeData со столбцами:\n",
    "-\tdate — дата;\n",
    "-\tgroup — группа A/B-теста (A или B);\n",
    "-\torders — кумулятивное количество заказов на указанную дату в указанной группе;\n",
    "-\tbuyers — кумулятивное количество пользователей, совершивших хотя бы один заказ, на указанную дату в указанной группе;\n",
    "-\trevenue — кумулятивная выручка на указанную дату в указанной группе (средний чек);\n",
    "-\tvisitors — кумулятивное количество посетителей интернет-магазина на указанную дату в определённой группе.\n",
    "\n",
    "Создадим массив уникальных пар значений дат и групп теста методом drop_duplicates()"
   ]
  },
  {
   "cell_type": "code",
   "execution_count": 17,
   "metadata": {},
   "outputs": [
    {
     "data": {
      "text/plain": [
       "Timestamp('2019-08-31 00:00:00')"
      ]
     },
     "execution_count": 17,
     "metadata": {},
     "output_type": "execute_result"
    }
   ],
   "source": [
    "datesGroups = orders[['date', 'group']].drop_duplicates()\n",
    "ordersAggregated = datesGroups.apply(\n",
    "    lambda x: orders[\n",
    "        np.logical_and(\n",
    "            orders['date'] <= x['date'], orders['group'] == x['group']\n",
    "        )\n",
    "    ].agg(\n",
    "        {\n",
    "            'date': 'max',\n",
    "            'group': 'max',\n",
    "            'transactionId': 'nunique',\n",
    "            'visitorId': 'nunique',\n",
    "            'revenue': 'sum',\n",
    "        }\n",
    "    ),\n",
    "    axis=1,\n",
    ").sort_values(by=['date', 'group'])\n",
    "\n",
    "visitorsAggregated = datesGroups.apply(\n",
    "    lambda x: visitors[\n",
    "        np.logical_and(\n",
    "            visitors['date'] <= x['date'], visitors['group'] == x['group']\n",
    "        )\n",
    "    ].agg({'date': 'max', 'group': 'max', 'visitors': 'sum'}),\n",
    "    axis=1,\n",
    ").sort_values(by=['date', 'group'])\n",
    "\n",
    "cumulativeData = ordersAggregated.merge(\n",
    "    visitorsAggregated, left_on=['date', 'group'], right_on=['date', 'group']\n",
    ")\n",
    "cumulativeData.columns = [\n",
    "    'date',\n",
    "    'group',\n",
    "    'orders',\n",
    "    'buyers',\n",
    "    'revenue',\n",
    "    'visitors',\n",
    "]\n",
    "\n",
    "#Проверим, корректно ли был содан датафрейм cummulativeData. Для этого \n",
    "#найдем минимальная и максимальная даты в этом датафрейме и сравним их с минимальной и максимальной датой в исходных данных.\n",
    "cumulativeData['date'].max()\n",
    "\n"
   ]
  },
  {
   "cell_type": "code",
   "execution_count": 18,
   "metadata": {},
   "outputs": [
    {
     "data": {
      "text/plain": [
       "Timestamp('2019-08-01 00:00:00')"
      ]
     },
     "execution_count": 18,
     "metadata": {},
     "output_type": "execute_result"
    }
   ],
   "source": [
    "cumulativeData['date'].min()"
   ]
  },
  {
   "cell_type": "markdown",
   "metadata": {},
   "source": [
    "Даты совпадают, значит cumulativeData корректен"
   ]
  },
  {
   "cell_type": "code",
   "execution_count": 19,
   "metadata": {},
   "outputs": [
    {
     "data": {
      "image/png": "[encoded data removed]",
      "text/plain": [
       "<Figure size 1296x432 with 1 Axes>"
      ]
     },
     "metadata": {
      "needs_background": "light"
     },
     "output_type": "display_data"
    }
   ],
   "source": [
    "plt.figure(figsize=(18,6))\n",
    "\n",
    "# датафрейм с кумулятивным количеством заказов и кумулятивной выручкой по дням в группе А\n",
    "cumulativeRevenueA = cumulativeData[cumulativeData['group']=='A'][['date','revenue', 'orders']]\n",
    "\n",
    "# датафрейм с кумулятивным количеством заказов и кумулятивной выручкой по дням в группе B\n",
    "cumulativeRevenueB = cumulativeData[cumulativeData['group']=='B'][['date','revenue', 'orders']]\n",
    "\n",
    "# Строим график выручки группы А\n",
    "plt.plot(cumulativeRevenueA['date'], cumulativeRevenueA['revenue'], label='A')\n",
    "\n",
    "# Строим график выручки группы В\n",
    "plt.plot(cumulativeRevenueB['date'], cumulativeRevenueB['revenue'], label='B')\n",
    "\n",
    "plt.xlabel('Дата')\n",
    "plt.ylabel('Выручка')\n",
    "plt.title('Графики кумулятивной выручки по группам А и В')\n",
    "\n",
    "plt.legend()\n",
    "plt.show()"
   ]
  },
  {
   "cell_type": "markdown",
   "metadata": {},
   "source": [
    "Видим, что 13.08.2019г, т.е. в первой половине теста, сегмент В вырвался вперед и продолжал лидировать до самого конца теста. 18.08.17 мы наблюдаем резкий рост выручки по группе В, что может быть связано либо с ростом числа заказов, либо о появлении очень дорогих заказов в выборке. В дальнейшем необходимо будет проверить, не влияют ли на выручку сегмента В аномально большие заказы."
   ]
  },
  {
   "cell_type": "markdown",
   "metadata": {},
   "source": [
    "### График кумулятивного среднего чека по группам"
   ]
  },
  {
   "cell_type": "markdown",
   "metadata": {},
   "source": [
    "Построим графики среднего чека по группам — разделим кумулятивную выручку на кумулятивное число заказов"
   ]
  },
  {
   "cell_type": "code",
   "execution_count": 20,
   "metadata": {},
   "outputs": [
    {
     "data": {
      "image/png": "[encoded data removed]",
      "text/plain": [
       "<Figure size 1296x432 with 1 Axes>"
      ]
     },
     "metadata": {
      "needs_background": "light"
     },
     "output_type": "display_data"
    }
   ],
   "source": [
    "plt.figure(figsize=(18,6))\n",
    "plt.plot(cumulativeRevenueA['date'], cumulativeRevenueA['revenue']/cumulativeRevenueA['orders'], label='A')\n",
    "plt.plot(cumulativeRevenueB['date'], cumulativeRevenueB['revenue']/cumulativeRevenueB['orders'], label='B')\n",
    "plt.xlabel('Дата')\n",
    "plt.ylabel('Средний чек')\n",
    "plt.title('Графики кумулятивного среднего чека по группам А и В')\n",
    "\n",
    "plt.legend()\n",
    "plt.show()"
   ]
  },
  {
   "cell_type": "markdown",
   "metadata": {},
   "source": [
    "Видим, что до середины периода кумулятивное значение среднего чека колевлется. А вот после 20 августа средний чек в группе В резко возрастает, далее - небольшое незначительное плавное падение и остается до конца эксперимента намного выше среднего чека в группе А. Требуется дополнительный анализ выбросов, которые могли сильно исказить результат"
   ]
  },
  {
   "cell_type": "markdown",
   "metadata": {},
   "source": [
    "### График относительного изменения кумулятивного среднего чека группы B к группе A"
   ]
  },
  {
   "cell_type": "markdown",
   "metadata": {},
   "source": [
    "Объединим таблицы cumulativeRevenueA и cumulativeRevenueB методом merge() так, чтобы она содержала столбцы: 'date', 'revenueA', 'revenueB', 'ordersA', 'ordersB'. Сохраним результат в переменной mergedCumulativeRevenue.\n",
    "Построим график относительно различия кумулятивного среднего чека группы B к группе A.\n",
    "Добавим пунктирную линию оси X (значение оси Y = 0) методом plt.axhline().\n"
   ]
  },
  {
   "cell_type": "code",
   "execution_count": 21,
   "metadata": {},
   "outputs": [
    {
     "data": {
      "image/png": "[encoded data removed]",
      "text/plain": [
       "<Figure size 1296x432 with 1 Axes>"
      ]
     },
     "metadata": {
      "needs_background": "light"
     },
     "output_type": "display_data"
    }
   ],
   "source": [
    "plt.figure(figsize=(18,6))\n",
    "\n",
    "# собираем данные в одном датафрейме\n",
    "mergedCumulativeRevenue = cumulativeRevenueA.merge(cumulativeRevenueB, left_on='date', right_on='date', how='left',\n",
    "                                                   suffixes=['A', 'B'])\n",
    "\n",
    "# cтроим отношение средних чеков\n",
    "plt.plot(mergedCumulativeRevenue['date'], (mergedCumulativeRevenue['revenueB']/mergedCumulativeRevenue['ordersB'])/\n",
    "         (mergedCumulativeRevenue['revenueA']/mergedCumulativeRevenue['ordersA'])-1)\n",
    "\n",
    "# добавляем ось X\n",
    "plt.axhline(y=0, color='black', linestyle='--')\n",
    "\n",
    "plt.title('График изменения среднего чека группы В к А')\n",
    "\n",
    "plt.xlabel('Дата')\n",
    "plt.ylabel('Изменения среднего чека группы В к А')\n",
    "plt.show()"
   ]
  },
  {
   "cell_type": "markdown",
   "metadata": {},
   "source": [
    "Из графика видим, что результаты теста резко менялись несколько дат. Так, сначала средний чек группы В был несколько ниже, чем в А. Резкий скачок произошел 4.08.19г.и средний чек рос еще примерно два дня, затем опять резкое падение ниже уровня среднего чека группы А, далее опять резкий скачок ориентировочно 20.08.19. Скорее всего, 4.08 и 20.08 были совершены аномальные заказы, но это необходимо будет проверить."
   ]
  },
  {
   "cell_type": "markdown",
   "metadata": {},
   "source": [
    "### Кумулятивная конверсия по группам"
   ]
  },
  {
   "cell_type": "markdown",
   "metadata": {},
   "source": [
    "Для расчета кумулятивной конверсии добавим в файл cumulativeData столбец 'conversion' c отношением числа заказов к количеству пользователей в указанной группе в указанный день.\n",
    "В переменных cumulativeDataA и cumulativeDataB сохраним данные о заказах в сегментах A и B соответственно.\n",
    "Построим графики кумулятивной конверсии по дням по группам"
   ]
  },
  {
   "cell_type": "code",
   "execution_count": 22,
   "metadata": {},
   "outputs": [
    {
     "data": {
      "image/png": "[encoded data removed]",
      "text/plain": [
       "<Figure size 1296x432 with 1 Axes>"
      ]
     },
     "metadata": {
      "needs_background": "light"
     },
     "output_type": "display_data"
    }
   ],
   "source": [
    "# считаем кумулятивную конверсию\n",
    "cumulativeData['conversion'] = cumulativeData['orders']/cumulativeData['visitors']\n",
    "\n",
    "# отделяем данные по группе A\n",
    "cumulativeDataA = cumulativeData[cumulativeData['group']=='A']\n",
    "\n",
    "# отделяем данные по группе B\n",
    "cumulativeDataB = cumulativeData[cumulativeData['group']=='B']\n",
    "\n",
    "# строим графики\n",
    "plt.figure(figsize=(18,6))\n",
    "plt.plot(cumulativeDataA['date'], cumulativeDataA['conversion'], label='A')\n",
    "plt.plot(cumulativeDataB['date'], cumulativeDataB['conversion'], label='B')\n",
    "plt.title('Кумулятивная конверсия по группам')\n",
    "plt.xlabel('Дата')\n",
    "plt.ylabel('Конверсия')\n",
    "plt.legend()\n",
    "plt.show()\n"
   ]
  },
  {
   "cell_type": "markdown",
   "metadata": {},
   "source": [
    "Из графика видно, что в начале эксперимента конверсия гуппы В значительно ниже конверсии группы А (2,9% против 3,7), но примерно через 5 дней конверсии сравнялись на уровне 3,2%, затем конверсия группы В вырвалась вперёд и зафиксировалась, а конверсия группы А просела и также зафиксировалась.\n",
    "Построим график относительного различия кумулятивных конверсий\n"
   ]
  },
  {
   "cell_type": "code",
   "execution_count": 23,
   "metadata": {},
   "outputs": [
    {
     "data": {
      "image/png": "[encoded data removed]",
      "text/plain": [
       "<Figure size 1296x432 with 1 Axes>"
      ]
     },
     "metadata": {
      "needs_background": "light"
     },
     "output_type": "display_data"
    }
   ],
   "source": [
    "plt.figure(figsize=(18,6))\n",
    "\n",
    "# собираем данные в одном датафрейме\n",
    "mergedCumulativeConversions = cumulativeDataA[['date','conversion']].merge(cumulativeDataB[['date','conversion']], left_on='date', right_on='date', how='left', suffixes=['A', 'B'])\n",
    "\n",
    "# cтроим отношение конверсий\n",
    "plt.plot(mergedCumulativeConversions['date'], mergedCumulativeConversions['conversionB']/mergedCumulativeConversions['conversionA']-1, label=\"Относительный прирост конверсии группы B относительно группы A\")\n",
    "plt.legend()\n",
    "\n",
    "plt.axhline(y=0, color='black', linestyle='--')\n",
    "\n",
    "plt.title('График относительного различия кумулятивных конверсий В к А')\n",
    "plt.xlabel('Дата')\n",
    "plt.ylabel('Изменение конверсии группы В к А')\n",
    "\n",
    "plt.show()\n"
   ]
  },
  {
   "cell_type": "markdown",
   "metadata": {},
   "source": [
    "Этот график подтверждает выводы предыдущего: конверсия группы В, несмотря на некоторые колебания в начале эксперимента, значительно выше конверсии группы А"
   ]
  },
  {
   "cell_type": "markdown",
   "metadata": {},
   "source": [
    "### Точечный график количества заказов по пользователям"
   ]
  },
  {
   "cell_type": "markdown",
   "metadata": {},
   "source": [
    "Сначала найдем число заказов по пользователям — создадим датафрейм c двумя столбцами: 'visitor' и 'transaction'. Назовем его ordersByUsers, отсортируем по убыванию количества заказов пользователей и посмотрим первые 10 строк.\n"
   ]
  },
  {
   "cell_type": "code",
   "execution_count": 24,
   "metadata": {},
   "outputs": [
    {
     "data": {
      "text/html": [
       "<div>\n",
       "<style scoped>\n",
       "    .dataframe tbody tr th:only-of-type {\n",
       "        vertical-align: middle;\n",
       "    }\n",
       "\n",
       "    .dataframe tbody tr th {\n",
       "        vertical-align: top;\n",
       "    }\n",
       "\n",
       "    .dataframe thead th {\n",
       "        text-align: right;\n",
       "    }\n",
       "</style>\n",
       "<table border=\"1\" class=\"dataframe\">\n",
       "  <thead>\n",
       "    <tr style=\"text-align: right;\">\n",
       "      <th></th>\n",
       "      <th>visitor</th>\n",
       "      <th>transaction</th>\n",
       "    </tr>\n",
       "  </thead>\n",
       "  <tbody>\n",
       "    <tr>\n",
       "      <th>1023</th>\n",
       "      <td>4256040402</td>\n",
       "      <td>11</td>\n",
       "    </tr>\n",
       "    <tr>\n",
       "      <th>591</th>\n",
       "      <td>2458001652</td>\n",
       "      <td>11</td>\n",
       "    </tr>\n",
       "    <tr>\n",
       "      <th>569</th>\n",
       "      <td>2378935119</td>\n",
       "      <td>9</td>\n",
       "    </tr>\n",
       "    <tr>\n",
       "      <th>487</th>\n",
       "      <td>2038680547</td>\n",
       "      <td>8</td>\n",
       "    </tr>\n",
       "    <tr>\n",
       "      <th>44</th>\n",
       "      <td>199603092</td>\n",
       "      <td>5</td>\n",
       "    </tr>\n",
       "    <tr>\n",
       "      <th>...</th>\n",
       "      <td>...</td>\n",
       "      <td>...</td>\n",
       "    </tr>\n",
       "    <tr>\n",
       "      <th>359</th>\n",
       "      <td>1484903144</td>\n",
       "      <td>1</td>\n",
       "    </tr>\n",
       "    <tr>\n",
       "      <th>360</th>\n",
       "      <td>1485964287</td>\n",
       "      <td>1</td>\n",
       "    </tr>\n",
       "    <tr>\n",
       "      <th>361</th>\n",
       "      <td>1494664757</td>\n",
       "      <td>1</td>\n",
       "    </tr>\n",
       "    <tr>\n",
       "      <th>362</th>\n",
       "      <td>1495112755</td>\n",
       "      <td>1</td>\n",
       "    </tr>\n",
       "    <tr>\n",
       "      <th>1030</th>\n",
       "      <td>4283872382</td>\n",
       "      <td>1</td>\n",
       "    </tr>\n",
       "  </tbody>\n",
       "</table>\n",
       "<p>1031 rows × 2 columns</p>\n",
       "</div>"
      ],
      "text/plain": [
       "         visitor  transaction\n",
       "1023  4256040402           11\n",
       "591   2458001652           11\n",
       "569   2378935119            9\n",
       "487   2038680547            8\n",
       "44     199603092            5\n",
       "...          ...          ...\n",
       "359   1484903144            1\n",
       "360   1485964287            1\n",
       "361   1494664757            1\n",
       "362   1495112755            1\n",
       "1030  4283872382            1\n",
       "\n",
       "[1031 rows x 2 columns]"
      ]
     },
     "execution_count": 24,
     "metadata": {},
     "output_type": "execute_result"
    }
   ],
   "source": [
    "# Cгруппируем заказы по пользователям и подсчитаем число уникальных заказов по сгруппированным данным\n",
    "\n",
    "ordersByUsers = orders.drop(['revenue', 'group', 'date'], axis=1).groupby('visitorId', as_index=False).agg({'transactionId' : 'nunique'})\n",
    "\n",
    "ordersByUsers.columns = ['visitor', 'transaction']\n",
    "\n",
    "ordersByUsers = ordersByUsers.sort_values(by='transaction',ascending=False)\n",
    "ordersByUsers\n"
   ]
  },
  {
   "cell_type": "code",
   "execution_count": 25,
   "metadata": {},
   "outputs": [
    {
     "data": {
      "image/png": "[encoded data removed]",
      "text/plain": [
       "<Figure size 432x288 with 1 Axes>"
      ]
     },
     "metadata": {
      "needs_background": "light"
     },
     "output_type": "display_data"
    }
   ],
   "source": [
    "# Построим точечный график методом scatter(). \n",
    "x_values = pd.Series(range(0, len(ordersByUsers)))\n",
    "plt.scatter(x_values, ordersByUsers['transaction'])\n",
    "plt.title('Количество заказов по пользователям')\n",
    "plt.xlabel('Количество пользователей')\n",
    "plt.ylabel('Количество заказов')\n",
    "plt.show()"
   ]
  },
  {
   "cell_type": "markdown",
   "metadata": {},
   "source": [
    "Видим, что большинство пользователей сделали по одному заказу. Около 100 пользователей сделали по 2 заказа. Пользователей, сдлелавших 3 и более заказа, очень мало. Чтобы понять, 2-3 заказа - это аномалия или нет, посчитаем 95-й и 99-й перцентили количества заказов на одного пользователя."
   ]
  },
  {
   "cell_type": "code",
   "execution_count": 26,
   "metadata": {},
   "outputs": [
    {
     "name": "stdout",
     "output_type": "stream",
     "text": [
      "[2. 4.]\n"
     ]
    }
   ],
   "source": [
    "print(np.percentile(ordersByUsers['transaction'], [95, 99])) "
   ]
  },
  {
   "cell_type": "markdown",
   "metadata": {},
   "source": [
    "Таким образом, не более 5% пользователей оформляли 2 заказа и больше. И не более 1% пользователей заказывали более четырех раз.\n",
    "Выберем 2 заказа на одного пользователя за нижнюю границу числа заказов, и отсеим аномальных пользователей по ней."
   ]
  },
  {
   "cell_type": "markdown",
   "metadata": {},
   "source": [
    "### Точечный график стоимости заказов"
   ]
  },
  {
   "cell_type": "code",
   "execution_count": 27,
   "metadata": {},
   "outputs": [
    {
     "data": {
      "image/png": "[encoded data removed]",
      "text/plain": [
       "<Figure size 432x288 with 1 Axes>"
      ]
     },
     "metadata": {
      "needs_background": "light"
     },
     "output_type": "display_data"
    }
   ],
   "source": [
    "x_values = pd.Series(range(0,len(orders['revenue'])))\n",
    "plt.scatter(x_values, orders['revenue']) \n",
    "plt.title('Стоимость заказов')\n",
    "plt.xlabel('Количество пользователей')\n",
    "plt.ylabel('Выручка *1000000')\n",
    "plt.show()\n"
   ]
  },
  {
   "cell_type": "markdown",
   "metadata": {},
   "source": [
    "Построим еще гистограмму распределения стоимостей заказов"
   ]
  },
  {
   "cell_type": "code",
   "execution_count": 28,
   "metadata": {},
   "outputs": [
    {
     "data": {
      "image/png": "[encoded data removed]",
      "text/plain": [
       "<Figure size 432x288 with 1 Axes>"
      ]
     },
     "metadata": {
      "needs_background": "light"
     },
     "output_type": "display_data"
    }
   ],
   "source": [
    "plt.hist(orders['revenue']) \n",
    "plt.xlim(xmin=0)\n",
    "plt.xlim(xmax=200000)\n",
    "plt.title('Стоимость заказов')\n",
    "plt.xlabel('Выручка')\n",
    "plt.ylabel('Количество пользователей')\n",
    "plt.show()"
   ]
  },
  {
   "cell_type": "markdown",
   "metadata": {},
   "source": [
    "Видим, что дорогих заказов очень мало. Один заказ стоимостью 1 200 000 у.е и один заказ 200 000. Остальные менее 125 000. Для того, чтобы установить границы аномалии, посчитаем 95-й и 99-й перцентили стоимости заказов. "
   ]
  },
  {
   "cell_type": "code",
   "execution_count": 29,
   "metadata": {},
   "outputs": [
    {
     "name": "stdout",
     "output_type": "stream",
     "text": [
      "[28000.  58233.2]\n"
     ]
    }
   ],
   "source": [
    "print(np.percentile(orders['revenue'], [95, 99]))"
   ]
  },
  {
   "cell_type": "markdown",
   "metadata": {},
   "source": [
    "Видим, не более 5% заказов имеют стоимость более 28000 у.е. И не более 1% заказов имеют чек более 58233 у.е. Выберем 28000 за нижнюю границу стоимости заказов, и отсеим аномальную выручку по ней."
   ]
  },
  {
   "cell_type": "markdown",
   "metadata": {},
   "source": [
    "### Статистическая значимость различий в конверсии по \"сырым\" данным"
   ]
  },
  {
   "cell_type": "markdown",
   "metadata": {},
   "source": [
    "Сначала рассчитаем статистическую значимость различий в конверсии по \"сырым\" данным, т.е. без удаления аномальных значений. \n",
    "Сформулируем гипотезы. Нулевая: различий в конверсии между группами нет. Альтернативная: различия в конверсии между группами есть. Для расчета статистической значимости создадим переменные ordersByUsersA и ordersByUsersB со столбцами visitor и transaction, где для пользователей, совершивших хотя бы 1 заказ, будет указано число заказов. Объявим переменные sampleA и sampleB, в которых пользователям с заказами будет соответствовать число заказов пользователя. А пользователям без заказов — нули. \n",
    "Применим тест Манна-Уитни."
   ]
  },
  {
   "cell_type": "code",
   "execution_count": 30,
   "metadata": {},
   "outputs": [
    {
     "name": "stdout",
     "output_type": "stream",
     "text": [
      "p-value 0.017\n",
      "Прирост конверсии группы В к А 0.138\n"
     ]
    }
   ],
   "source": [
    "ordersByUsersA = (\n",
    "    orders[orders['group'] == 'A']\n",
    "    .groupby('visitorId', as_index=False)\n",
    "    .agg({'transactionId': pd.Series.nunique})\n",
    ")\n",
    "ordersByUsersA.columns = ['visitorA', 'transactionA']\n",
    "\n",
    "ordersByUsersB = (\n",
    "    orders[orders['group'] == 'B']\n",
    "    .groupby('visitorId', as_index=False)\n",
    "    .agg({'transactionId': pd.Series.nunique})\n",
    ")\n",
    "ordersByUsersB.columns = ['visitorB', 'transactionB'] \n",
    "\n",
    "\n",
    "# Количество пользователей, которые ничего не заказывали, равно разнице между суммой посетителей и количеством записей о заказах\n",
    "sampleA = pd.concat([ordersByUsersA['transactionA'],pd.Series(0, index=np.arange(visitors[visitors['group']=='A']['visitors'].sum() - len(ordersByUsersA['transactionA'])), name='transactionA')],axis=0)\n",
    "\n",
    "sampleB = pd.concat([ordersByUsersB['transactionB'],pd.Series(0, index=np.arange(visitors[visitors['group']=='B']['visitors'].sum() - len(ordersByUsersB['transactionB'])), name='transactionB')],axis=0) \n",
    "\n",
    "print('p-value', \"{0:.3f}\".format(stats.mannwhitneyu(sampleA, sampleB)[1]))\n",
    "\n",
    "print('Прирост конверсии группы В к А', \"{0:.3f}\".format(sampleB.mean() / sampleA.mean() - 1))\n",
    "\n"
   ]
  },
  {
   "cell_type": "markdown",
   "metadata": {},
   "source": [
    "p-value меньше уровня значимости 0,05, поэтому отвергаем нулевую гипотезу. Т.е. в конверсии между группами есть значимые различия. Относительный прирост конверсии группы В к конверсии группы А составляет 13,8%"
   ]
  },
  {
   "cell_type": "markdown",
   "metadata": {},
   "source": [
    "### Статистическая значимость различий в среднем чеке по \"сырым\" данным"
   ]
  },
  {
   "cell_type": "markdown",
   "metadata": {},
   "source": [
    "Сформулируем гипотезы. Нулевая: различий в среднем чеке (по \"сырым\" данным) между группами нет. Альтернативная: различия в среднем чеке между группами есть."
   ]
  },
  {
   "cell_type": "code",
   "execution_count": 31,
   "metadata": {},
   "outputs": [
    {
     "name": "stdout",
     "output_type": "stream",
     "text": [
      "p-value 0.729\n",
      "Прирост среднего чека группы В к А 0.259\n"
     ]
    }
   ],
   "source": [
    "print('p-value', '{0:.3f}'.format(stats.mannwhitneyu(orders[orders['group']=='A']['revenue'], orders[orders['group']=='B']['revenue'])[1]))\n",
    "print('Прирост среднего чека группы В к А', '{0:.3f}'.format(orders[orders['group']=='B']['revenue'].mean()/orders[orders['group']=='A']['revenue'].mean()-1))\n"
   ]
  },
  {
   "cell_type": "markdown",
   "metadata": {},
   "source": [
    "p-value больше уровня значимости 0,05, поэтому принимаем нулевую гипотезу о равенстве средних чеков между группами. Относительное различие среднего чека между группами 26%.\n",
    "Далее рассчитаем статистическую значимость в конверсии и среднем чеке по очищенным от аномалий данным. "
   ]
  },
  {
   "cell_type": "markdown",
   "metadata": {},
   "source": [
    "### Статистическая значимость различий в конверсии по \"очищенным\" данным"
   ]
  },
  {
   "cell_type": "markdown",
   "metadata": {},
   "source": [
    "В п.2.6.  п.2.7. мы приняли за аномальных пользователей тех, кто совершил более 2 заказов, или совершил заказ на сумму свыше 28 000 рублей. Уберем 5% пользователей с наибольшим числом заказов и от 5% заказов с наибольшей стоимостью.\n",
    "Сделаем срезы пользователей с числом заказов больше 2 — usersWithManyOrders и пользователей, совершивших заказы дороже 28 000 — usersWithExpensiveOrders. Объединим их в таблице abnormalUsers, удалим дубликаты, отсортируем по возрастанию.\n"
   ]
  },
  {
   "cell_type": "code",
   "execution_count": 32,
   "metadata": {},
   "outputs": [
    {
     "data": {
      "text/plain": [
       "74"
      ]
     },
     "execution_count": 32,
     "metadata": {},
     "output_type": "execute_result"
    }
   ],
   "source": [
    "usersWithManyOrders = pd.concat(\n",
    "    [\n",
    "        ordersByUsersA[ordersByUsersA['transactionA'] > 2]['visitorA'],\n",
    "        ordersByUsersB[ordersByUsersB['transactionB'] > 2]['visitorB'],\n",
    "    ],\n",
    "    axis=0,\n",
    ")\n",
    "revenu_max=np.percentile(orders['revenue'], [95, 99])[0]\n",
    "usersWithExpensiveOrders = orders[orders['revenue'] >  revenu_max]['visitorId']\n",
    "abnormalUsers = (\n",
    "    pd.concat([usersWithManyOrders, usersWithExpensiveOrders], axis=0)\n",
    "    .drop_duplicates()\n",
    "    .sort_values()\n",
    ")\n",
    "abnormalUsers.head(5)\n",
    "abnormalUsers.shape[0] \n"
   ]
  },
  {
   "cell_type": "markdown",
   "metadata": {},
   "source": [
    "Всего 74 аномалии. После удаления всех найденных аномальных пользователей можно будет считать статистическую значимость по очищенным данным. Создадим переменные sampleAFiltered и sampleBFiltered, в которых сохраним очищенные данные о заказах — не включая аномальных пользователей.\n",
    "Посчитаем p-value для сравнения конверсии между очищенными группами и относительный прирост конверсии очищенной группы B."
   ]
  },
  {
   "cell_type": "code",
   "execution_count": 33,
   "metadata": {},
   "outputs": [
    {
     "name": "stdout",
     "output_type": "stream",
     "text": [
      "0.01304\n",
      "0.173\n"
     ]
    }
   ],
   "source": [
    "sampleAFiltered = pd.concat([ordersByUsersA[np.logical_not(ordersByUsersA['visitorA'].isin(abnormalUsers))\n",
    "        ]['transactionA'],pd.Series(0, index=np.arange(visitors[visitors['group']=='A']['visitors'].sum() - len(ordersByUsersA['transactionA'])), name='transactionA')],axis=0)\n",
    "\n",
    "sampleBFiltered = pd.concat([ordersByUsersB[np.logical_not(ordersByUsersB['visitorB'].isin(abnormalUsers))\n",
    "        ]['transactionB'],pd.Series(0, index=np.arange(visitors[visitors['group']=='B']['visitors'].sum() - len(ordersByUsersB['transactionB'])), name='transactionB')],axis=0)\n",
    "\n",
    "print('{0:.5f}'.format(stats.mannwhitneyu(sampleAFiltered, sampleBFiltered)[1]))\n",
    "print('{0:.3f}'.format(sampleBFiltered.mean()/sampleAFiltered.mean()-1))\n"
   ]
  },
  {
   "cell_type": "markdown",
   "metadata": {},
   "source": [
    "Таким образом, видим, что удаление аномальных значений практически не повлияло на конверсию: p-value меньше уровня значимости 0,05, поэтому отвергаем нулевую гипотезу. Т.е. в конверсии между группами по-прежнему есть значимые различия. Относительный прирост конверсии группы В к конверсии группы А составляет 17,3%"
   ]
  },
  {
   "cell_type": "markdown",
   "metadata": {},
   "source": [
    "### Статистическая значимость различий в среднем чеке по \"очищенным\" данным"
   ]
  },
  {
   "cell_type": "markdown",
   "metadata": {},
   "source": [
    "Теперь посчитаем статистическую значимость различия средних чеков после удаления аномальных пользователей."
   ]
  },
  {
   "cell_type": "code",
   "execution_count": 34,
   "metadata": {},
   "outputs": [
    {
     "name": "stdout",
     "output_type": "stream",
     "text": [
      "p-value 0.738\n",
      "Прирост среднего чека В к А -0.020\n"
     ]
    }
   ],
   "source": [
    "print('p-value',\n",
    "    '{0:.3f}'.format(\n",
    "        stats.mannwhitneyu(\n",
    "            orders[\n",
    "                np.logical_and(\n",
    "                    orders['group'] == 'A',\n",
    "                    np.logical_not(orders['visitorId'].isin(abnormalUsers)),\n",
    "                )\n",
    "            ]['revenue'],\n",
    "            orders[\n",
    "                np.logical_and(\n",
    "                    orders['group'] == 'B',\n",
    "                    np.logical_not(orders['visitorId'].isin(abnormalUsers)),\n",
    "                )\n",
    "            ]['revenue'],\n",
    "        )[1]\n",
    "    )\n",
    ")\n",
    "\n",
    "print('Прирост среднего чека В к А',\n",
    "    \"{0:.3f}\".format(\n",
    "        orders[\n",
    "            np.logical_and(\n",
    "                orders['group'] == 'B',\n",
    "                np.logical_not(orders['visitorId'].isin(abnormalUsers)),\n",
    "            )\n",
    "        ]['revenue'].mean()\n",
    "        / orders[\n",
    "            np.logical_and(\n",
    "                orders['group'] == 'A',\n",
    "                np.logical_not(orders['visitorId'].isin(abnormalUsers)),\n",
    "            )\n",
    "        ]['revenue'].mean()\n",
    "        - 1\n",
    "    )\n",
    ") \n"
   ]
  },
  {
   "cell_type": "markdown",
   "metadata": {},
   "source": [
    "Получился следующий интересный результат: без аномальных покупателей p-value практически не изменился и остался больше уровня значимости 0,05, поэтому принимаем нулевую гипотезу о равенстве средних чеков между группами. А вот относительный прирост среднего чека группы В с 26% снизился до падения в незначительные 2%. Получается, что несколько покупателей в группе В с аномально высокими чеками искажали всю картину."
   ]
  },
  {
   "cell_type": "markdown",
   "metadata": {},
   "source": [
    "### Вывод по результатам А/В теста"
   ]
  },
  {
   "cell_type": "markdown",
   "metadata": {},
   "source": [
    "1.\tЕсть статистически значимое различие по конверсии между группами как по сырым данным, так и после фильтрации аномалий.\n",
    "2.\tНет статистически значимого различия по среднему чеку между группами. \n",
    "3.\tГрафик различия конверсии между группами, построенный в п.2.5, сообщает, что результаты группы B значительно лучше группы A\n",
    "4.\tПринимаем решение остановить тест, признать его успешным и перейти к проверке следующей гипотезы."
   ]
  }
 ],
 "metadata": {
  "ExecuteTimeLog": [
   {
    "duration": 4,
    "start_time": "2022-05-16T11:51:00.105Z"
   },
   {
    "duration": 1039,
    "start_time": "2022-05-16T11:53:29.293Z"
   },
   {
    "duration": 170,
    "start_time": "2022-05-16T12:01:18.009Z"
   },
   {
    "duration": 26,
    "start_time": "2022-05-16T12:01:26.991Z"
   },
   {
    "duration": 26,
    "start_time": "2022-05-16T12:02:00.641Z"
   },
   {
    "duration": 22,
    "start_time": "2022-05-16T12:02:08.851Z"
   },
   {
    "duration": 23,
    "start_time": "2022-05-16T12:07:19.017Z"
   },
   {
    "duration": 22,
    "start_time": "2022-05-16T12:07:43.011Z"
   },
   {
    "duration": 20,
    "start_time": "2022-05-16T12:08:03.784Z"
   },
   {
    "duration": 16,
    "start_time": "2022-05-16T12:08:06.497Z"
   },
   {
    "duration": 18,
    "start_time": "2022-05-16T12:47:57.049Z"
   },
   {
    "duration": 19,
    "start_time": "2022-05-16T12:48:05.286Z"
   },
   {
    "duration": 19,
    "start_time": "2022-05-16T12:51:09.157Z"
   },
   {
    "duration": 15,
    "start_time": "2022-05-16T12:51:18.347Z"
   },
   {
    "duration": 14,
    "start_time": "2022-05-16T13:02:51.849Z"
   },
   {
    "duration": 16,
    "start_time": "2022-05-16T13:03:35.590Z"
   },
   {
    "duration": 95,
    "start_time": "2022-05-16T13:23:24.470Z"
   },
   {
    "duration": 4,
    "start_time": "2022-05-16T13:27:12.320Z"
   },
   {
    "duration": 20,
    "start_time": "2022-05-16T13:27:49.642Z"
   },
   {
    "duration": 1114,
    "start_time": "2022-05-16T19:22:50.751Z"
   },
   {
    "duration": 27,
    "start_time": "2022-05-16T19:22:51.868Z"
   },
   {
    "duration": 17,
    "start_time": "2022-05-16T19:22:51.897Z"
   },
   {
    "duration": 36,
    "start_time": "2022-05-16T19:22:51.917Z"
   },
   {
    "duration": 17,
    "start_time": "2022-05-16T19:22:51.955Z"
   },
   {
    "duration": 46,
    "start_time": "2022-05-16T19:27:24.770Z"
   },
   {
    "duration": 28,
    "start_time": "2022-05-16T19:29:22.619Z"
   },
   {
    "duration": 786,
    "start_time": "2022-05-16T19:30:39.718Z"
   },
   {
    "duration": 4,
    "start_time": "2022-05-16T19:31:34.093Z"
   },
   {
    "duration": 1233,
    "start_time": "2022-05-16T19:31:46.813Z"
   },
   {
    "duration": 36,
    "start_time": "2022-05-16T19:31:48.050Z"
   },
   {
    "duration": 24,
    "start_time": "2022-05-16T19:31:48.089Z"
   },
   {
    "duration": 44,
    "start_time": "2022-05-16T19:31:48.117Z"
   },
   {
    "duration": 22,
    "start_time": "2022-05-16T19:31:48.164Z"
   },
   {
    "duration": 619,
    "start_time": "2022-05-16T19:31:48.189Z"
   },
   {
    "duration": 0,
    "start_time": "2022-05-16T19:31:48.811Z"
   },
   {
    "duration": 416,
    "start_time": "2022-05-16T19:32:03.690Z"
   },
   {
    "duration": 407,
    "start_time": "2022-05-16T19:40:37.240Z"
   },
   {
    "duration": 54,
    "start_time": "2022-05-16T19:42:51.802Z"
   },
   {
    "duration": 432,
    "start_time": "2022-05-16T19:43:38.813Z"
   },
   {
    "duration": 25,
    "start_time": "2022-05-16T19:44:34.573Z"
   },
   {
    "duration": 8,
    "start_time": "2022-05-16T19:48:45.369Z"
   },
   {
    "duration": 42,
    "start_time": "2022-05-16T19:51:55.063Z"
   },
   {
    "duration": 825,
    "start_time": "2022-05-16T19:53:56.559Z"
   },
   {
    "duration": 1237,
    "start_time": "2022-05-16T20:01:47.425Z"
   },
   {
    "duration": 455,
    "start_time": "2022-05-16T20:08:00.219Z"
   },
   {
    "duration": 424,
    "start_time": "2022-05-16T20:16:24.328Z"
   },
   {
    "duration": 796,
    "start_time": "2022-05-16T20:18:17.710Z"
   },
   {
    "duration": 483,
    "start_time": "2022-05-16T20:18:37.819Z"
   },
   {
    "duration": 562,
    "start_time": "2022-05-16T20:18:56.659Z"
   },
   {
    "duration": 242,
    "start_time": "2022-05-16T20:28:30.453Z"
   },
   {
    "duration": 298,
    "start_time": "2022-05-16T20:30:29.807Z"
   },
   {
    "duration": 387,
    "start_time": "2022-05-16T20:31:34.357Z"
   },
   {
    "duration": 492,
    "start_time": "2022-05-16T20:32:39.831Z"
   },
   {
    "duration": 1229,
    "start_time": "2022-05-18T07:56:30.642Z"
   },
   {
    "duration": 106,
    "start_time": "2022-05-18T07:56:31.874Z"
   },
   {
    "duration": 29,
    "start_time": "2022-05-18T07:56:31.982Z"
   },
   {
    "duration": 20,
    "start_time": "2022-05-18T07:56:32.017Z"
   },
   {
    "duration": 19,
    "start_time": "2022-05-18T07:56:32.040Z"
   },
   {
    "duration": 130,
    "start_time": "2022-05-18T07:56:32.062Z"
   },
   {
    "duration": 85,
    "start_time": "2022-05-18T07:56:32.195Z"
   },
   {
    "duration": 980,
    "start_time": "2022-05-18T07:56:32.283Z"
   },
   {
    "duration": 366,
    "start_time": "2022-05-18T07:56:33.266Z"
   },
   {
    "duration": 467,
    "start_time": "2022-05-18T07:56:33.634Z"
   },
   {
    "duration": 333,
    "start_time": "2022-05-18T07:56:34.110Z"
   },
   {
    "duration": 73,
    "start_time": "2022-05-18T08:24:25.065Z"
   },
   {
    "duration": 466,
    "start_time": "2022-05-18T08:24:42.235Z"
   },
   {
    "duration": 57,
    "start_time": "2022-05-18T08:29:03.744Z"
   },
   {
    "duration": 51,
    "start_time": "2022-05-18T08:29:18.648Z"
   },
   {
    "duration": 336,
    "start_time": "2022-05-18T08:31:06.215Z"
   },
   {
    "duration": 350,
    "start_time": "2022-05-18T08:33:09.310Z"
   },
   {
    "duration": 4,
    "start_time": "2022-05-18T08:38:28.250Z"
   },
   {
    "duration": 14,
    "start_time": "2022-05-18T09:04:01.970Z"
   },
   {
    "duration": 10,
    "start_time": "2022-05-18T09:13:22.315Z"
   },
   {
    "duration": 16,
    "start_time": "2022-05-18T09:13:32.721Z"
   },
   {
    "duration": 228,
    "start_time": "2022-05-18T09:18:04.319Z"
   },
   {
    "duration": 134,
    "start_time": "2022-05-18T09:19:15.214Z"
   },
   {
    "duration": 4,
    "start_time": "2022-05-18T09:26:09.812Z"
   },
   {
    "duration": 9,
    "start_time": "2022-05-18T09:38:01.069Z"
   },
   {
    "duration": 9,
    "start_time": "2022-05-18T09:38:23.429Z"
   },
   {
    "duration": 170,
    "start_time": "2022-05-18T09:39:17.726Z"
   },
   {
    "duration": 147,
    "start_time": "2022-05-18T09:44:28.794Z"
   },
   {
    "duration": 138,
    "start_time": "2022-05-18T09:44:55.791Z"
   },
   {
    "duration": 6,
    "start_time": "2022-05-18T09:50:48.751Z"
   },
   {
    "duration": 124,
    "start_time": "2022-05-18T09:54:13.013Z"
   },
   {
    "duration": 47,
    "start_time": "2022-05-18T09:54:42.413Z"
   },
   {
    "duration": 195,
    "start_time": "2022-05-18T09:54:57.949Z"
   },
   {
    "duration": 196,
    "start_time": "2022-05-18T10:09:39.047Z"
   },
   {
    "duration": 214,
    "start_time": "2022-05-18T10:10:08.316Z"
   },
   {
    "duration": 6,
    "start_time": "2022-05-18T10:10:15.462Z"
   },
   {
    "duration": 3,
    "start_time": "2022-05-18T10:47:31.988Z"
   },
   {
    "duration": 970,
    "start_time": "2022-05-18T11:03:57.588Z"
   },
   {
    "duration": 414,
    "start_time": "2022-05-18T11:09:36.913Z"
   },
   {
    "duration": 911,
    "start_time": "2022-05-18T11:12:15.306Z"
   },
   {
    "duration": 955,
    "start_time": "2022-05-18T11:18:15.503Z"
   },
   {
    "duration": 1921,
    "start_time": "2022-05-18T11:19:48.214Z"
   },
   {
    "duration": 1158,
    "start_time": "2022-05-18T11:19:58.087Z"
   },
   {
    "duration": 870,
    "start_time": "2022-05-18T11:20:48.688Z"
   },
   {
    "duration": 283,
    "start_time": "2022-05-18T11:20:57.993Z"
   },
   {
    "duration": 175,
    "start_time": "2022-05-18T11:35:53.125Z"
   },
   {
    "duration": 192,
    "start_time": "2022-05-18T11:36:08.981Z"
   },
   {
    "duration": 209,
    "start_time": "2022-05-18T11:37:09.012Z"
   },
   {
    "duration": 221,
    "start_time": "2022-05-18T11:41:09.419Z"
   },
   {
    "duration": 12,
    "start_time": "2022-05-18T11:46:03.751Z"
   },
   {
    "duration": 656,
    "start_time": "2022-05-18T12:09:17.445Z"
   },
   {
    "duration": 705,
    "start_time": "2022-05-18T12:11:14.597Z"
   },
   {
    "duration": 7,
    "start_time": "2022-05-18T12:11:33.277Z"
   },
   {
    "duration": 7,
    "start_time": "2022-05-18T12:11:36.272Z"
   },
   {
    "duration": 11,
    "start_time": "2022-05-18T12:11:53.052Z"
   },
   {
    "duration": 1182,
    "start_time": "2022-05-18T12:36:12.493Z"
   },
   {
    "duration": 97,
    "start_time": "2022-05-18T12:36:13.677Z"
   },
   {
    "duration": 20,
    "start_time": "2022-05-18T12:36:13.776Z"
   },
   {
    "duration": 13,
    "start_time": "2022-05-18T12:36:13.799Z"
   },
   {
    "duration": 13,
    "start_time": "2022-05-18T12:36:13.814Z"
   },
   {
    "duration": 117,
    "start_time": "2022-05-18T12:36:13.829Z"
   },
   {
    "duration": 79,
    "start_time": "2022-05-18T12:36:13.948Z"
   },
   {
    "duration": 660,
    "start_time": "2022-05-18T12:36:14.029Z"
   },
   {
    "duration": 315,
    "start_time": "2022-05-18T12:36:14.691Z"
   },
   {
    "duration": 340,
    "start_time": "2022-05-18T12:36:15.009Z"
   },
   {
    "duration": 258,
    "start_time": "2022-05-18T12:36:15.351Z"
   },
   {
    "duration": 338,
    "start_time": "2022-05-18T12:36:15.611Z"
   },
   {
    "duration": 15,
    "start_time": "2022-05-18T12:36:15.951Z"
   },
   {
    "duration": 153,
    "start_time": "2022-05-18T12:36:15.969Z"
   },
   {
    "duration": 5,
    "start_time": "2022-05-18T12:36:16.124Z"
   },
   {
    "duration": 172,
    "start_time": "2022-05-18T12:36:16.130Z"
   },
   {
    "duration": 5,
    "start_time": "2022-05-18T12:36:16.305Z"
   },
   {
    "duration": 219,
    "start_time": "2022-05-18T12:36:16.311Z"
   },
   {
    "duration": 12,
    "start_time": "2022-05-18T12:36:16.531Z"
   },
   {
    "duration": 12,
    "start_time": "2022-05-18T12:36:16.545Z"
   },
   {
    "duration": 91,
    "start_time": "2022-05-18T12:36:27.838Z"
   },
   {
    "duration": 1214,
    "start_time": "2022-05-18T12:36:37.288Z"
   },
   {
    "duration": 96,
    "start_time": "2022-05-18T12:36:38.505Z"
   },
   {
    "duration": 14,
    "start_time": "2022-05-18T12:36:38.604Z"
   },
   {
    "duration": 27,
    "start_time": "2022-05-18T12:36:38.620Z"
   },
   {
    "duration": 46,
    "start_time": "2022-05-18T12:36:38.649Z"
   },
   {
    "duration": 113,
    "start_time": "2022-05-18T12:36:38.702Z"
   },
   {
    "duration": 79,
    "start_time": "2022-05-18T12:36:38.817Z"
   },
   {
    "duration": 676,
    "start_time": "2022-05-18T12:36:38.898Z"
   },
   {
    "duration": 329,
    "start_time": "2022-05-18T12:36:39.583Z"
   },
   {
    "duration": 392,
    "start_time": "2022-05-18T12:36:39.915Z"
   },
   {
    "duration": 250,
    "start_time": "2022-05-18T12:36:40.309Z"
   },
   {
    "duration": 381,
    "start_time": "2022-05-18T12:36:40.561Z"
   },
   {
    "duration": 13,
    "start_time": "2022-05-18T12:36:40.944Z"
   },
   {
    "duration": 179,
    "start_time": "2022-05-18T12:36:40.958Z"
   },
   {
    "duration": 6,
    "start_time": "2022-05-18T12:36:41.139Z"
   },
   {
    "duration": 175,
    "start_time": "2022-05-18T12:36:41.147Z"
   },
   {
    "duration": 5,
    "start_time": "2022-05-18T12:36:41.324Z"
   },
   {
    "duration": 235,
    "start_time": "2022-05-18T12:36:41.330Z"
   },
   {
    "duration": 25,
    "start_time": "2022-05-18T12:36:41.567Z"
   },
   {
    "duration": 21,
    "start_time": "2022-05-18T12:36:41.593Z"
   },
   {
    "duration": 1175,
    "start_time": "2022-05-18T12:37:07.413Z"
   },
   {
    "duration": 94,
    "start_time": "2022-05-18T12:37:08.591Z"
   },
   {
    "duration": 14,
    "start_time": "2022-05-18T12:37:08.688Z"
   },
   {
    "duration": 12,
    "start_time": "2022-05-18T12:37:08.704Z"
   },
   {
    "duration": 11,
    "start_time": "2022-05-18T12:37:08.717Z"
   },
   {
    "duration": 112,
    "start_time": "2022-05-18T12:37:08.729Z"
   },
   {
    "duration": 77,
    "start_time": "2022-05-18T12:37:08.843Z"
   },
   {
    "duration": 656,
    "start_time": "2022-05-18T12:37:08.921Z"
   },
   {
    "duration": 342,
    "start_time": "2022-05-18T12:37:09.583Z"
   },
   {
    "duration": 301,
    "start_time": "2022-05-18T12:37:09.928Z"
   },
   {
    "duration": 243,
    "start_time": "2022-05-18T12:37:10.231Z"
   },
   {
    "duration": 361,
    "start_time": "2022-05-18T12:37:10.476Z"
   },
   {
    "duration": 14,
    "start_time": "2022-05-18T12:37:10.839Z"
   },
   {
    "duration": 158,
    "start_time": "2022-05-18T12:37:10.855Z"
   },
   {
    "duration": 4,
    "start_time": "2022-05-18T12:37:11.015Z"
   },
   {
    "duration": 167,
    "start_time": "2022-05-18T12:37:11.021Z"
   },
   {
    "duration": 6,
    "start_time": "2022-05-18T12:37:11.191Z"
   },
   {
    "duration": 218,
    "start_time": "2022-05-18T12:37:11.200Z"
   },
   {
    "duration": 14,
    "start_time": "2022-05-18T12:37:11.420Z"
   },
   {
    "duration": 12,
    "start_time": "2022-05-18T12:37:11.436Z"
   },
   {
    "duration": 1206,
    "start_time": "2022-05-18T12:37:25.995Z"
   },
   {
    "duration": 118,
    "start_time": "2022-05-18T12:37:40.755Z"
   },
   {
    "duration": 17,
    "start_time": "2022-05-18T12:37:49.594Z"
   },
   {
    "duration": 3,
    "start_time": "2022-05-18T12:38:21.571Z"
   },
   {
    "duration": 136,
    "start_time": "2022-05-18T12:38:27.940Z"
   },
   {
    "duration": 99,
    "start_time": "2022-05-18T12:38:31.101Z"
   },
   {
    "duration": 16,
    "start_time": "2022-05-18T12:38:41.651Z"
   },
   {
    "duration": 274,
    "start_time": "2022-05-18T12:38:48.451Z"
   },
   {
    "duration": 14,
    "start_time": "2022-05-18T12:38:56.495Z"
   },
   {
    "duration": 168,
    "start_time": "2022-05-18T12:39:11.771Z"
   },
   {
    "duration": 93,
    "start_time": "2022-05-18T12:39:23.941Z"
   },
   {
    "duration": 1181,
    "start_time": "2022-05-18T12:39:55.879Z"
   },
   {
    "duration": 1216,
    "start_time": "2022-05-18T13:13:15.090Z"
   },
   {
    "duration": 95,
    "start_time": "2022-05-18T13:13:16.312Z"
   },
   {
    "duration": 13,
    "start_time": "2022-05-18T13:13:16.409Z"
   },
   {
    "duration": 15,
    "start_time": "2022-05-18T13:13:16.425Z"
   },
   {
    "duration": 27,
    "start_time": "2022-05-18T13:13:16.443Z"
   },
   {
    "duration": 120,
    "start_time": "2022-05-18T13:13:16.472Z"
   },
   {
    "duration": 79,
    "start_time": "2022-05-18T13:13:16.594Z"
   },
   {
    "duration": 703,
    "start_time": "2022-05-18T13:13:16.676Z"
   },
   {
    "duration": 333,
    "start_time": "2022-05-18T13:13:17.380Z"
   },
   {
    "duration": 377,
    "start_time": "2022-05-18T13:13:17.719Z"
   },
   {
    "duration": 311,
    "start_time": "2022-05-18T13:13:18.099Z"
   },
   {
    "duration": 342,
    "start_time": "2022-05-18T13:13:18.413Z"
   },
   {
    "duration": 36,
    "start_time": "2022-05-18T13:13:18.758Z"
   },
   {
    "duration": 139,
    "start_time": "2022-05-18T13:13:18.796Z"
   },
   {
    "duration": 5,
    "start_time": "2022-05-18T13:13:18.936Z"
   },
   {
    "duration": 175,
    "start_time": "2022-05-18T13:13:18.943Z"
   },
   {
    "duration": 7,
    "start_time": "2022-05-18T13:13:19.120Z"
   },
   {
    "duration": 226,
    "start_time": "2022-05-18T13:13:19.129Z"
   },
   {
    "duration": 13,
    "start_time": "2022-05-18T13:13:19.357Z"
   },
   {
    "duration": 37,
    "start_time": "2022-05-18T13:13:19.372Z"
   },
   {
    "duration": 1227,
    "start_time": "2022-05-18T13:14:03.665Z"
   },
   {
    "duration": 100,
    "start_time": "2022-05-18T13:14:04.894Z"
   },
   {
    "duration": 15,
    "start_time": "2022-05-18T13:14:04.996Z"
   },
   {
    "duration": 40,
    "start_time": "2022-05-18T13:14:05.013Z"
   },
   {
    "duration": 10,
    "start_time": "2022-05-18T13:14:05.055Z"
   },
   {
    "duration": 149,
    "start_time": "2022-05-18T13:14:05.067Z"
   },
   {
    "duration": 81,
    "start_time": "2022-05-18T13:14:05.218Z"
   },
   {
    "duration": 665,
    "start_time": "2022-05-18T13:14:05.303Z"
   },
   {
    "duration": 344,
    "start_time": "2022-05-18T13:14:05.970Z"
   },
   {
    "duration": 321,
    "start_time": "2022-05-18T13:14:06.316Z"
   },
   {
    "duration": 285,
    "start_time": "2022-05-18T13:14:06.639Z"
   },
   {
    "duration": 329,
    "start_time": "2022-05-18T13:14:06.926Z"
   },
   {
    "duration": 14,
    "start_time": "2022-05-18T13:14:07.257Z"
   },
   {
    "duration": 155,
    "start_time": "2022-05-18T13:14:07.283Z"
   },
   {
    "duration": 5,
    "start_time": "2022-05-18T13:14:07.439Z"
   },
   {
    "duration": 166,
    "start_time": "2022-05-18T13:14:07.446Z"
   },
   {
    "duration": 6,
    "start_time": "2022-05-18T13:14:07.614Z"
   },
   {
    "duration": 329,
    "start_time": "2022-05-18T13:14:07.621Z"
   },
   {
    "duration": 24,
    "start_time": "2022-05-18T13:14:07.952Z"
   },
   {
    "duration": 15,
    "start_time": "2022-05-18T13:14:07.978Z"
   },
   {
    "duration": 61,
    "start_time": "2022-05-18T13:24:37.613Z"
   },
   {
    "duration": 9,
    "start_time": "2022-05-18T13:24:45.061Z"
   },
   {
    "duration": 1087,
    "start_time": "2022-05-18T13:24:50.708Z"
   },
   {
    "duration": 92,
    "start_time": "2022-05-18T13:24:51.797Z"
   },
   {
    "duration": 15,
    "start_time": "2022-05-18T13:24:51.890Z"
   },
   {
    "duration": 21,
    "start_time": "2022-05-18T13:24:51.907Z"
   },
   {
    "duration": 13,
    "start_time": "2022-05-18T13:24:51.931Z"
   },
   {
    "duration": 124,
    "start_time": "2022-05-18T13:24:51.946Z"
   },
   {
    "duration": 80,
    "start_time": "2022-05-18T13:24:52.073Z"
   },
   {
    "duration": 637,
    "start_time": "2022-05-18T13:24:52.155Z"
   },
   {
    "duration": 317,
    "start_time": "2022-05-18T13:24:52.794Z"
   },
   {
    "duration": 315,
    "start_time": "2022-05-18T13:24:53.113Z"
   },
   {
    "duration": 236,
    "start_time": "2022-05-18T13:24:53.430Z"
   },
   {
    "duration": 374,
    "start_time": "2022-05-18T13:24:53.668Z"
   },
   {
    "duration": 13,
    "start_time": "2022-05-18T13:24:54.044Z"
   },
   {
    "duration": 153,
    "start_time": "2022-05-18T13:24:54.060Z"
   },
   {
    "duration": 5,
    "start_time": "2022-05-18T13:24:54.216Z"
   },
   {
    "duration": 166,
    "start_time": "2022-05-18T13:24:54.223Z"
   },
   {
    "duration": 4,
    "start_time": "2022-05-18T13:24:54.392Z"
   },
   {
    "duration": 234,
    "start_time": "2022-05-18T13:24:54.398Z"
   },
   {
    "duration": 11,
    "start_time": "2022-05-18T13:24:54.634Z"
   },
   {
    "duration": 12,
    "start_time": "2022-05-18T13:24:54.647Z"
   },
   {
    "duration": 58,
    "start_time": "2022-05-18T13:26:17.408Z"
   },
   {
    "duration": 1106,
    "start_time": "2022-05-18T13:26:23.681Z"
   },
   {
    "duration": 93,
    "start_time": "2022-05-18T13:26:24.789Z"
   },
   {
    "duration": 15,
    "start_time": "2022-05-18T13:26:24.884Z"
   },
   {
    "duration": 14,
    "start_time": "2022-05-18T13:26:24.901Z"
   },
   {
    "duration": 11,
    "start_time": "2022-05-18T13:26:24.917Z"
   },
   {
    "duration": 119,
    "start_time": "2022-05-18T13:26:24.930Z"
   },
   {
    "duration": 78,
    "start_time": "2022-05-18T13:26:25.051Z"
   },
   {
    "duration": 612,
    "start_time": "2022-05-18T13:26:25.132Z"
   },
   {
    "duration": 306,
    "start_time": "2022-05-18T13:26:25.746Z"
   },
   {
    "duration": 344,
    "start_time": "2022-05-18T13:26:26.054Z"
   },
   {
    "duration": 234,
    "start_time": "2022-05-18T13:26:26.400Z"
   },
   {
    "duration": 347,
    "start_time": "2022-05-18T13:26:26.636Z"
   },
   {
    "duration": 17,
    "start_time": "2022-05-18T13:26:26.985Z"
   },
   {
    "duration": 145,
    "start_time": "2022-05-18T13:26:27.005Z"
   },
   {
    "duration": 5,
    "start_time": "2022-05-18T13:26:27.151Z"
   },
   {
    "duration": 159,
    "start_time": "2022-05-18T13:26:27.158Z"
   },
   {
    "duration": 4,
    "start_time": "2022-05-18T13:26:27.318Z"
   },
   {
    "duration": 200,
    "start_time": "2022-05-18T13:26:27.324Z"
   },
   {
    "duration": 10,
    "start_time": "2022-05-18T13:26:27.526Z"
   },
   {
    "duration": 10,
    "start_time": "2022-05-18T13:26:27.538Z"
   },
   {
    "duration": 5,
    "start_time": "2022-05-18T13:26:27.549Z"
   },
   {
    "duration": 7,
    "start_time": "2022-05-18T13:52:52.152Z"
   },
   {
    "duration": 9,
    "start_time": "2022-05-18T13:54:22.881Z"
   },
   {
    "duration": 76,
    "start_time": "2022-05-18T13:54:46.313Z"
   },
   {
    "duration": 694,
    "start_time": "2022-05-18T14:03:40.702Z"
   },
   {
    "duration": 760,
    "start_time": "2022-05-18T14:42:45.400Z"
   },
   {
    "duration": 575,
    "start_time": "2022-05-18T14:45:46.631Z"
   },
   {
    "duration": 15,
    "start_time": "2022-05-18T14:46:04.552Z"
   },
   {
    "duration": 1144,
    "start_time": "2022-05-18T15:10:24.152Z"
   },
   {
    "duration": 36,
    "start_time": "2022-05-18T15:10:25.299Z"
   },
   {
    "duration": 11,
    "start_time": "2022-05-18T15:10:25.337Z"
   },
   {
    "duration": 13,
    "start_time": "2022-05-18T15:10:25.350Z"
   },
   {
    "duration": 11,
    "start_time": "2022-05-18T15:10:25.364Z"
   },
   {
    "duration": 60,
    "start_time": "2022-05-18T15:10:25.376Z"
   },
   {
    "duration": 23,
    "start_time": "2022-05-18T15:10:25.438Z"
   },
   {
    "duration": 659,
    "start_time": "2022-05-18T15:10:25.463Z"
   },
   {
    "duration": 317,
    "start_time": "2022-05-18T15:10:26.124Z"
   },
   {
    "duration": 376,
    "start_time": "2022-05-18T15:10:26.443Z"
   },
   {
    "duration": 263,
    "start_time": "2022-05-18T15:10:26.820Z"
   },
   {
    "duration": 373,
    "start_time": "2022-05-18T15:10:27.085Z"
   },
   {
    "duration": 26,
    "start_time": "2022-05-18T15:10:27.459Z"
   },
   {
    "duration": 132,
    "start_time": "2022-05-18T15:10:27.486Z"
   },
   {
    "duration": 5,
    "start_time": "2022-05-18T15:10:27.620Z"
   },
   {
    "duration": 175,
    "start_time": "2022-05-18T15:10:27.627Z"
   },
   {
    "duration": 5,
    "start_time": "2022-05-18T15:10:27.803Z"
   },
   {
    "duration": 221,
    "start_time": "2022-05-18T15:10:27.810Z"
   },
   {
    "duration": 14,
    "start_time": "2022-05-18T15:10:28.036Z"
   },
   {
    "duration": 13,
    "start_time": "2022-05-18T15:10:28.052Z"
   },
   {
    "duration": 99,
    "start_time": "2022-05-18T15:10:28.068Z"
   },
   {
    "duration": 20,
    "start_time": "2022-05-18T15:10:28.184Z"
   },
   {
    "duration": 50,
    "start_time": "2022-05-20T07:32:47.001Z"
   },
   {
    "duration": 1140,
    "start_time": "2022-05-20T07:32:59.902Z"
   },
   {
    "duration": 94,
    "start_time": "2022-05-20T07:33:01.044Z"
   },
   {
    "duration": 11,
    "start_time": "2022-05-20T07:33:01.140Z"
   },
   {
    "duration": 23,
    "start_time": "2022-05-20T07:33:01.153Z"
   },
   {
    "duration": 44,
    "start_time": "2022-05-20T07:33:01.178Z"
   },
   {
    "duration": 107,
    "start_time": "2022-05-20T07:33:01.224Z"
   },
   {
    "duration": 0,
    "start_time": "2022-05-20T07:33:01.332Z"
   },
   {
    "duration": 0,
    "start_time": "2022-05-20T07:33:01.334Z"
   },
   {
    "duration": 0,
    "start_time": "2022-05-20T07:33:01.335Z"
   },
   {
    "duration": 0,
    "start_time": "2022-05-20T07:33:01.336Z"
   },
   {
    "duration": 0,
    "start_time": "2022-05-20T07:33:01.337Z"
   },
   {
    "duration": 0,
    "start_time": "2022-05-20T07:33:01.338Z"
   },
   {
    "duration": 0,
    "start_time": "2022-05-20T07:33:01.338Z"
   },
   {
    "duration": 0,
    "start_time": "2022-05-20T07:33:01.340Z"
   },
   {
    "duration": 0,
    "start_time": "2022-05-20T07:33:01.341Z"
   },
   {
    "duration": 0,
    "start_time": "2022-05-20T07:33:01.342Z"
   },
   {
    "duration": 0,
    "start_time": "2022-05-20T07:33:01.359Z"
   },
   {
    "duration": 0,
    "start_time": "2022-05-20T07:33:01.360Z"
   },
   {
    "duration": 0,
    "start_time": "2022-05-20T07:33:01.361Z"
   },
   {
    "duration": 0,
    "start_time": "2022-05-20T07:33:01.362Z"
   },
   {
    "duration": 0,
    "start_time": "2022-05-20T07:33:01.363Z"
   },
   {
    "duration": 0,
    "start_time": "2022-05-20T07:33:01.364Z"
   },
   {
    "duration": 0,
    "start_time": "2022-05-20T07:33:01.365Z"
   },
   {
    "duration": 138,
    "start_time": "2022-05-20T07:35:43.947Z"
   },
   {
    "duration": 8,
    "start_time": "2022-05-20T07:36:09.418Z"
   },
   {
    "duration": 8,
    "start_time": "2022-05-20T07:36:19.057Z"
   },
   {
    "duration": 8,
    "start_time": "2022-05-20T07:36:51.243Z"
   },
   {
    "duration": 8,
    "start_time": "2022-05-20T07:39:58.049Z"
   },
   {
    "duration": 2,
    "start_time": "2022-05-20T07:40:39.112Z"
   },
   {
    "duration": 4,
    "start_time": "2022-05-20T07:40:44.168Z"
   },
   {
    "duration": 34,
    "start_time": "2022-05-20T07:40:48.509Z"
   },
   {
    "duration": 30,
    "start_time": "2022-05-20T07:40:59.776Z"
   },
   {
    "duration": 9,
    "start_time": "2022-05-20T07:42:09.591Z"
   },
   {
    "duration": 560,
    "start_time": "2022-05-20T07:42:20.215Z"
   },
   {
    "duration": 12,
    "start_time": "2022-05-20T07:42:48.958Z"
   },
   {
    "duration": 11,
    "start_time": "2022-05-20T07:42:53.158Z"
   },
   {
    "duration": 339,
    "start_time": "2022-05-20T07:42:59.495Z"
   },
   {
    "duration": 1004,
    "start_time": "2022-05-20T07:46:12.227Z"
   },
   {
    "duration": 34,
    "start_time": "2022-05-20T07:46:13.232Z"
   },
   {
    "duration": 9,
    "start_time": "2022-05-20T07:46:13.268Z"
   },
   {
    "duration": 12,
    "start_time": "2022-05-20T07:46:13.278Z"
   },
   {
    "duration": 9,
    "start_time": "2022-05-20T07:46:13.291Z"
   },
   {
    "duration": 161,
    "start_time": "2022-05-20T07:46:13.301Z"
   },
   {
    "duration": 108,
    "start_time": "2022-05-20T07:46:13.463Z"
   },
   {
    "duration": 74,
    "start_time": "2022-05-20T07:46:13.572Z"
   },
   {
    "duration": 532,
    "start_time": "2022-05-20T07:46:13.648Z"
   },
   {
    "duration": 259,
    "start_time": "2022-05-20T07:46:14.183Z"
   },
   {
    "duration": 318,
    "start_time": "2022-05-20T07:46:14.444Z"
   },
   {
    "duration": 206,
    "start_time": "2022-05-20T07:46:14.764Z"
   },
   {
    "duration": 301,
    "start_time": "2022-05-20T07:46:14.972Z"
   },
   {
    "duration": 12,
    "start_time": "2022-05-20T07:46:15.275Z"
   },
   {
    "duration": 125,
    "start_time": "2022-05-20T07:46:15.289Z"
   },
   {
    "duration": 4,
    "start_time": "2022-05-20T07:46:15.415Z"
   },
   {
    "duration": 143,
    "start_time": "2022-05-20T07:46:15.421Z"
   },
   {
    "duration": 4,
    "start_time": "2022-05-20T07:46:15.566Z"
   },
   {
    "duration": 178,
    "start_time": "2022-05-20T07:46:15.572Z"
   },
   {
    "duration": 12,
    "start_time": "2022-05-20T07:46:15.751Z"
   },
   {
    "duration": 10,
    "start_time": "2022-05-20T07:46:15.765Z"
   },
   {
    "duration": 58,
    "start_time": "2022-05-20T07:46:15.776Z"
   },
   {
    "duration": 26,
    "start_time": "2022-05-20T07:46:15.836Z"
   },
   {
    "duration": 61,
    "start_time": "2022-05-20T07:47:26.742Z"
   },
   {
    "duration": 117,
    "start_time": "2022-05-20T07:53:20.523Z"
   },
   {
    "duration": 32,
    "start_time": "2022-05-20T07:53:27.332Z"
   },
   {
    "duration": 9,
    "start_time": "2022-05-20T08:09:29.906Z"
   },
   {
    "duration": 1060,
    "start_time": "2022-05-20T10:23:26.931Z"
   },
   {
    "duration": 46,
    "start_time": "2022-05-20T10:23:27.994Z"
   },
   {
    "duration": 14,
    "start_time": "2022-05-20T10:23:28.042Z"
   },
   {
    "duration": 20,
    "start_time": "2022-05-20T10:23:28.058Z"
   },
   {
    "duration": 15,
    "start_time": "2022-05-20T10:23:28.080Z"
   },
   {
    "duration": 191,
    "start_time": "2022-05-20T10:23:28.097Z"
   },
   {
    "duration": 53,
    "start_time": "2022-05-20T10:23:28.290Z"
   },
   {
    "duration": 21,
    "start_time": "2022-05-20T10:23:28.345Z"
   },
   {
    "duration": 109,
    "start_time": "2022-05-20T10:23:28.367Z"
   },
   {
    "duration": 0,
    "start_time": "2022-05-20T10:23:28.479Z"
   },
   {
    "duration": 0,
    "start_time": "2022-05-20T10:23:28.480Z"
   },
   {
    "duration": 0,
    "start_time": "2022-05-20T10:23:28.481Z"
   },
   {
    "duration": 0,
    "start_time": "2022-05-20T10:23:28.482Z"
   },
   {
    "duration": 0,
    "start_time": "2022-05-20T10:23:28.483Z"
   },
   {
    "duration": 0,
    "start_time": "2022-05-20T10:23:28.484Z"
   },
   {
    "duration": 0,
    "start_time": "2022-05-20T10:23:28.485Z"
   },
   {
    "duration": 0,
    "start_time": "2022-05-20T10:23:28.486Z"
   },
   {
    "duration": 0,
    "start_time": "2022-05-20T10:23:28.488Z"
   },
   {
    "duration": 0,
    "start_time": "2022-05-20T10:23:28.489Z"
   },
   {
    "duration": 0,
    "start_time": "2022-05-20T10:23:28.490Z"
   },
   {
    "duration": 0,
    "start_time": "2022-05-20T10:23:28.491Z"
   },
   {
    "duration": 0,
    "start_time": "2022-05-20T10:23:28.492Z"
   },
   {
    "duration": 0,
    "start_time": "2022-05-20T10:23:28.493Z"
   },
   {
    "duration": 0,
    "start_time": "2022-05-20T10:23:28.494Z"
   },
   {
    "duration": 7,
    "start_time": "2022-05-20T10:26:59.381Z"
   },
   {
    "duration": 9,
    "start_time": "2022-05-20T10:27:37.357Z"
   },
   {
    "duration": 8,
    "start_time": "2022-05-20T10:27:42.326Z"
   },
   {
    "duration": 7,
    "start_time": "2022-05-20T10:28:57.990Z"
   },
   {
    "duration": 6,
    "start_time": "2022-05-20T10:29:14.510Z"
   },
   {
    "duration": 4,
    "start_time": "2022-05-20T10:32:53.159Z"
   },
   {
    "duration": 5,
    "start_time": "2022-05-20T10:33:09.967Z"
   },
   {
    "duration": 4,
    "start_time": "2022-05-20T10:35:00.285Z"
   },
   {
    "duration": 5,
    "start_time": "2022-05-20T10:35:20.978Z"
   },
   {
    "duration": 4,
    "start_time": "2022-05-20T10:35:46.819Z"
   },
   {
    "duration": 4,
    "start_time": "2022-05-20T10:35:48.738Z"
   },
   {
    "duration": 808,
    "start_time": "2022-05-20T10:38:42.819Z"
   },
   {
    "duration": 305,
    "start_time": "2022-05-20T10:41:20.379Z"
   },
   {
    "duration": 261,
    "start_time": "2022-05-20T10:41:35.809Z"
   },
   {
    "duration": 4,
    "start_time": "2022-05-20T10:41:53.593Z"
   },
   {
    "duration": 190,
    "start_time": "2022-05-20T10:42:28.192Z"
   },
   {
    "duration": 943,
    "start_time": "2022-05-20T10:45:18.492Z"
   },
   {
    "duration": 34,
    "start_time": "2022-05-20T10:45:19.437Z"
   },
   {
    "duration": 9,
    "start_time": "2022-05-20T10:45:19.473Z"
   },
   {
    "duration": 34,
    "start_time": "2022-05-20T10:45:19.484Z"
   },
   {
    "duration": 29,
    "start_time": "2022-05-20T10:45:19.519Z"
   },
   {
    "duration": 201,
    "start_time": "2022-05-20T10:45:19.550Z"
   },
   {
    "duration": 49,
    "start_time": "2022-05-20T10:45:19.759Z"
   },
   {
    "duration": 23,
    "start_time": "2022-05-20T10:45:19.810Z"
   },
   {
    "duration": 13,
    "start_time": "2022-05-20T10:45:19.835Z"
   },
   {
    "duration": 28,
    "start_time": "2022-05-20T10:45:19.851Z"
   },
   {
    "duration": 31,
    "start_time": "2022-05-20T10:45:19.881Z"
   },
   {
    "duration": 34,
    "start_time": "2022-05-20T10:45:19.914Z"
   },
   {
    "duration": 40,
    "start_time": "2022-05-20T10:45:19.949Z"
   },
   {
    "duration": 33,
    "start_time": "2022-05-20T10:45:19.990Z"
   },
   {
    "duration": 37,
    "start_time": "2022-05-20T10:45:20.024Z"
   },
   {
    "duration": 48,
    "start_time": "2022-05-20T10:45:20.063Z"
   },
   {
    "duration": 276,
    "start_time": "2022-05-20T10:45:20.112Z"
   },
   {
    "duration": 4,
    "start_time": "2022-05-20T10:45:20.389Z"
   },
   {
    "duration": 308,
    "start_time": "2022-05-20T10:45:20.394Z"
   },
   {
    "duration": 255,
    "start_time": "2022-05-20T10:45:20.703Z"
   },
   {
    "duration": 291,
    "start_time": "2022-05-20T10:45:20.959Z"
   },
   {
    "duration": 205,
    "start_time": "2022-05-20T10:45:21.251Z"
   },
   {
    "duration": 345,
    "start_time": "2022-05-20T10:45:21.458Z"
   },
   {
    "duration": 12,
    "start_time": "2022-05-20T10:45:21.804Z"
   },
   {
    "duration": 130,
    "start_time": "2022-05-20T10:45:21.817Z"
   },
   {
    "duration": 10,
    "start_time": "2022-05-20T10:45:21.949Z"
   },
   {
    "duration": 132,
    "start_time": "2022-05-20T10:45:21.961Z"
   },
   {
    "duration": 4,
    "start_time": "2022-05-20T10:45:22.095Z"
   },
   {
    "duration": 197,
    "start_time": "2022-05-20T10:45:22.100Z"
   },
   {
    "duration": 9,
    "start_time": "2022-05-20T10:45:22.298Z"
   },
   {
    "duration": 32,
    "start_time": "2022-05-20T10:45:22.309Z"
   },
   {
    "duration": 60,
    "start_time": "2022-05-20T10:45:22.342Z"
   },
   {
    "duration": 13,
    "start_time": "2022-05-20T10:45:22.403Z"
   },
   {
    "duration": 317,
    "start_time": "2022-05-20T10:47:01.387Z"
   },
   {
    "duration": 205,
    "start_time": "2022-05-20T10:52:32.654Z"
   },
   {
    "duration": 347,
    "start_time": "2022-05-20T10:52:55.553Z"
   },
   {
    "duration": 118,
    "start_time": "2022-05-20T10:56:06.742Z"
   },
   {
    "duration": 112,
    "start_time": "2022-05-20T10:56:25.197Z"
   },
   {
    "duration": 130,
    "start_time": "2022-05-20T10:56:35.749Z"
   },
   {
    "duration": 4,
    "start_time": "2022-05-20T10:56:58.380Z"
   },
   {
    "duration": 1019,
    "start_time": "2022-05-20T11:01:03.960Z"
   },
   {
    "duration": 36,
    "start_time": "2022-05-20T11:01:04.981Z"
   },
   {
    "duration": 10,
    "start_time": "2022-05-20T11:01:05.018Z"
   },
   {
    "duration": 14,
    "start_time": "2022-05-20T11:01:05.030Z"
   },
   {
    "duration": 9,
    "start_time": "2022-05-20T11:01:05.045Z"
   },
   {
    "duration": 145,
    "start_time": "2022-05-20T11:01:05.056Z"
   },
   {
    "duration": 50,
    "start_time": "2022-05-20T11:01:05.203Z"
   },
   {
    "duration": 21,
    "start_time": "2022-05-20T11:01:05.254Z"
   },
   {
    "duration": 5,
    "start_time": "2022-05-20T11:01:05.276Z"
   },
   {
    "duration": 8,
    "start_time": "2022-05-20T11:01:05.283Z"
   },
   {
    "duration": 9,
    "start_time": "2022-05-20T11:01:05.292Z"
   },
   {
    "duration": 7,
    "start_time": "2022-05-20T11:01:05.302Z"
   },
   {
    "duration": 7,
    "start_time": "2022-05-20T11:01:05.310Z"
   },
   {
    "duration": 6,
    "start_time": "2022-05-20T11:01:05.318Z"
   },
   {
    "duration": 5,
    "start_time": "2022-05-20T11:01:05.325Z"
   },
   {
    "duration": 6,
    "start_time": "2022-05-20T11:01:05.332Z"
   },
   {
    "duration": 280,
    "start_time": "2022-05-20T11:01:05.339Z"
   },
   {
    "duration": 4,
    "start_time": "2022-05-20T11:01:05.620Z"
   },
   {
    "duration": 312,
    "start_time": "2022-05-20T11:01:05.625Z"
   },
   {
    "duration": 256,
    "start_time": "2022-05-20T11:01:05.939Z"
   },
   {
    "duration": 280,
    "start_time": "2022-05-20T11:01:06.197Z"
   },
   {
    "duration": 207,
    "start_time": "2022-05-20T11:01:06.478Z"
   },
   {
    "duration": 385,
    "start_time": "2022-05-20T11:01:06.687Z"
   },
   {
    "duration": 14,
    "start_time": "2022-05-20T11:01:07.074Z"
   },
   {
    "duration": 128,
    "start_time": "2022-05-20T11:01:07.090Z"
   },
   {
    "duration": 4,
    "start_time": "2022-05-20T11:01:07.220Z"
   },
   {
    "duration": 134,
    "start_time": "2022-05-20T11:01:07.225Z"
   },
   {
    "duration": 124,
    "start_time": "2022-05-20T11:01:07.363Z"
   },
   {
    "duration": 4,
    "start_time": "2022-05-20T11:01:07.488Z"
   },
   {
    "duration": 179,
    "start_time": "2022-05-20T11:01:07.493Z"
   },
   {
    "duration": 9,
    "start_time": "2022-05-20T11:01:07.673Z"
   },
   {
    "duration": 8,
    "start_time": "2022-05-20T11:01:07.683Z"
   },
   {
    "duration": 67,
    "start_time": "2022-05-20T11:01:07.692Z"
   },
   {
    "duration": 12,
    "start_time": "2022-05-20T11:01:07.761Z"
   },
   {
    "duration": 140,
    "start_time": "2022-05-20T11:02:15.003Z"
   },
   {
    "duration": 9,
    "start_time": "2022-05-20T11:06:00.711Z"
   },
   {
    "duration": 11,
    "start_time": "2022-05-20T11:07:17.222Z"
   },
   {
    "duration": 31,
    "start_time": "2022-05-20T11:08:38.174Z"
   },
   {
    "duration": 1068,
    "start_time": "2022-05-20T11:10:20.966Z"
   },
   {
    "duration": 37,
    "start_time": "2022-05-20T11:10:22.036Z"
   },
   {
    "duration": 10,
    "start_time": "2022-05-20T11:10:22.075Z"
   },
   {
    "duration": 14,
    "start_time": "2022-05-20T11:10:22.087Z"
   },
   {
    "duration": 11,
    "start_time": "2022-05-20T11:10:22.103Z"
   },
   {
    "duration": 184,
    "start_time": "2022-05-20T11:10:22.115Z"
   },
   {
    "duration": 51,
    "start_time": "2022-05-20T11:10:22.301Z"
   },
   {
    "duration": 21,
    "start_time": "2022-05-20T11:10:22.354Z"
   },
   {
    "duration": 5,
    "start_time": "2022-05-20T11:10:22.377Z"
   },
   {
    "duration": 13,
    "start_time": "2022-05-20T11:10:22.384Z"
   },
   {
    "duration": 9,
    "start_time": "2022-05-20T11:10:22.399Z"
   },
   {
    "duration": 8,
    "start_time": "2022-05-20T11:10:22.409Z"
   },
   {
    "duration": 18,
    "start_time": "2022-05-20T11:10:22.418Z"
   },
   {
    "duration": 8,
    "start_time": "2022-05-20T11:10:22.439Z"
   },
   {
    "duration": 11,
    "start_time": "2022-05-20T11:10:22.449Z"
   },
   {
    "duration": 6,
    "start_time": "2022-05-20T11:10:22.462Z"
   },
   {
    "duration": 291,
    "start_time": "2022-05-20T11:10:22.470Z"
   },
   {
    "duration": 3,
    "start_time": "2022-05-20T11:10:22.763Z"
   },
   {
    "duration": 329,
    "start_time": "2022-05-20T11:10:22.768Z"
   },
   {
    "duration": 295,
    "start_time": "2022-05-20T11:10:23.099Z"
   },
   {
    "duration": 298,
    "start_time": "2022-05-20T11:10:23.396Z"
   },
   {
    "duration": 252,
    "start_time": "2022-05-20T11:10:23.696Z"
   },
   {
    "duration": 349,
    "start_time": "2022-05-20T11:10:23.950Z"
   },
   {
    "duration": 12,
    "start_time": "2022-05-20T11:10:24.301Z"
   },
   {
    "duration": 131,
    "start_time": "2022-05-20T11:10:24.315Z"
   },
   {
    "duration": 11,
    "start_time": "2022-05-20T11:10:24.448Z"
   },
   {
    "duration": 131,
    "start_time": "2022-05-20T11:10:24.461Z"
   },
   {
    "duration": 152,
    "start_time": "2022-05-20T11:10:24.594Z"
   },
   {
    "duration": 5,
    "start_time": "2022-05-20T11:10:24.748Z"
   },
   {
    "duration": 162,
    "start_time": "2022-05-20T11:10:24.754Z"
   },
   {
    "duration": 10,
    "start_time": "2022-05-20T11:10:24.917Z"
   },
   {
    "duration": 14,
    "start_time": "2022-05-20T11:10:24.928Z"
   },
   {
    "duration": 33,
    "start_time": "2022-05-20T11:10:24.958Z"
   },
   {
    "duration": 13,
    "start_time": "2022-05-20T11:10:24.993Z"
   },
   {
    "duration": 85,
    "start_time": "2022-05-20T13:28:35.414Z"
   },
   {
    "duration": 7,
    "start_time": "2022-05-20T13:28:39.627Z"
   },
   {
    "duration": 1157,
    "start_time": "2022-05-20T13:28:47.236Z"
   },
   {
    "duration": 97,
    "start_time": "2022-05-20T13:28:48.395Z"
   },
   {
    "duration": 10,
    "start_time": "2022-05-20T13:28:48.493Z"
   },
   {
    "duration": 12,
    "start_time": "2022-05-20T13:28:48.505Z"
   },
   {
    "duration": 9,
    "start_time": "2022-05-20T13:28:48.519Z"
   },
   {
    "duration": 173,
    "start_time": "2022-05-20T13:28:48.529Z"
   },
   {
    "duration": 109,
    "start_time": "2022-05-20T13:28:48.705Z"
   },
   {
    "duration": 78,
    "start_time": "2022-05-20T13:28:48.815Z"
   },
   {
    "duration": 4,
    "start_time": "2022-05-20T13:28:48.894Z"
   },
   {
    "duration": 8,
    "start_time": "2022-05-20T13:28:48.900Z"
   },
   {
    "duration": 6,
    "start_time": "2022-05-20T13:28:48.909Z"
   },
   {
    "duration": 7,
    "start_time": "2022-05-20T13:28:48.917Z"
   },
   {
    "duration": 8,
    "start_time": "2022-05-20T13:28:48.925Z"
   },
   {
    "duration": 6,
    "start_time": "2022-05-20T13:28:48.936Z"
   },
   {
    "duration": 8,
    "start_time": "2022-05-20T13:28:48.943Z"
   },
   {
    "duration": 5,
    "start_time": "2022-05-20T13:28:48.952Z"
   },
   {
    "duration": 282,
    "start_time": "2022-05-20T13:28:48.958Z"
   },
   {
    "duration": 4,
    "start_time": "2022-05-20T13:28:49.241Z"
   },
   {
    "duration": 370,
    "start_time": "2022-05-20T13:28:49.246Z"
   },
   {
    "duration": 219,
    "start_time": "2022-05-20T13:28:49.618Z"
   },
   {
    "duration": 401,
    "start_time": "2022-05-20T13:28:49.839Z"
   },
   {
    "duration": 258,
    "start_time": "2022-05-20T13:28:50.242Z"
   },
   {
    "duration": 319,
    "start_time": "2022-05-20T13:28:50.501Z"
   },
   {
    "duration": 11,
    "start_time": "2022-05-20T13:28:50.821Z"
   },
   {
    "duration": 131,
    "start_time": "2022-05-20T13:28:50.834Z"
   },
   {
    "duration": 13,
    "start_time": "2022-05-20T13:28:50.967Z"
   },
   {
    "duration": 153,
    "start_time": "2022-05-20T13:28:50.985Z"
   },
   {
    "duration": 141,
    "start_time": "2022-05-20T13:28:51.139Z"
   },
   {
    "duration": 124,
    "start_time": "2022-05-20T13:28:51.282Z"
   },
   {
    "duration": 4,
    "start_time": "2022-05-20T13:28:51.407Z"
   },
   {
    "duration": 181,
    "start_time": "2022-05-20T13:28:51.412Z"
   },
   {
    "duration": 9,
    "start_time": "2022-05-20T13:28:51.594Z"
   },
   {
    "duration": 14,
    "start_time": "2022-05-20T13:28:51.604Z"
   },
   {
    "duration": 31,
    "start_time": "2022-05-20T13:28:51.619Z"
   },
   {
    "duration": 39,
    "start_time": "2022-05-20T13:28:51.651Z"
   },
   {
    "duration": 1069,
    "start_time": "2022-12-23T11:09:10.011Z"
   },
   {
    "duration": 40,
    "start_time": "2022-12-23T11:09:11.082Z"
   },
   {
    "duration": 11,
    "start_time": "2022-12-23T11:09:11.124Z"
   },
   {
    "duration": 14,
    "start_time": "2022-12-23T11:09:11.137Z"
   },
   {
    "duration": 10,
    "start_time": "2022-12-23T11:09:11.153Z"
   },
   {
    "duration": 170,
    "start_time": "2022-12-23T11:09:11.164Z"
   },
   {
    "duration": 53,
    "start_time": "2022-12-23T11:09:11.335Z"
   },
   {
    "duration": 24,
    "start_time": "2022-12-23T11:09:11.389Z"
   },
   {
    "duration": 5,
    "start_time": "2022-12-23T11:09:11.415Z"
   },
   {
    "duration": 8,
    "start_time": "2022-12-23T11:09:11.422Z"
   },
   {
    "duration": 10,
    "start_time": "2022-12-23T11:09:11.431Z"
   },
   {
    "duration": 14,
    "start_time": "2022-12-23T11:09:11.442Z"
   },
   {
    "duration": 6,
    "start_time": "2022-12-23T11:09:11.458Z"
   },
   {
    "duration": 8,
    "start_time": "2022-12-23T11:09:11.465Z"
   },
   {
    "duration": 10,
    "start_time": "2022-12-23T11:09:11.474Z"
   },
   {
    "duration": 5,
    "start_time": "2022-12-23T11:09:11.486Z"
   },
   {
    "duration": 290,
    "start_time": "2022-12-23T11:09:11.493Z"
   },
   {
    "duration": 5,
    "start_time": "2022-12-23T11:09:11.784Z"
   },
   {
    "duration": 317,
    "start_time": "2022-12-23T11:09:11.791Z"
   },
   {
    "duration": 226,
    "start_time": "2022-12-23T11:09:12.109Z"
   },
   {
    "duration": 328,
    "start_time": "2022-12-23T11:09:12.337Z"
   },
   {
    "duration": 240,
    "start_time": "2022-12-23T11:09:12.667Z"
   },
   {
    "duration": 363,
    "start_time": "2022-12-23T11:09:12.909Z"
   },
   {
    "duration": 13,
    "start_time": "2022-12-23T11:09:13.273Z"
   },
   {
    "duration": 133,
    "start_time": "2022-12-23T11:09:13.287Z"
   },
   {
    "duration": 4,
    "start_time": "2022-12-23T11:09:13.422Z"
   },
   {
    "duration": 145,
    "start_time": "2022-12-23T11:09:13.427Z"
   },
   {
    "duration": 149,
    "start_time": "2022-12-23T11:09:13.575Z"
   },
   {
    "duration": 4,
    "start_time": "2022-12-23T11:09:13.726Z"
   },
   {
    "duration": 245,
    "start_time": "2022-12-23T11:09:13.732Z"
   },
   {
    "duration": 11,
    "start_time": "2022-12-23T11:09:13.978Z"
   },
   {
    "duration": 28,
    "start_time": "2022-12-23T11:09:13.990Z"
   },
   {
    "duration": 29,
    "start_time": "2022-12-23T11:09:14.020Z"
   },
   {
    "duration": 13,
    "start_time": "2022-12-23T11:09:14.051Z"
   }
  ],
  "kernelspec": {
   "display_name": "Python 3 (ipykernel)",
   "language": "python",
   "name": "python3"
  },
  "language_info": {
   "codemirror_mode": {
    "name": "ipython",
    "version": 3
   },
   "file_extension": ".py",
   "mimetype": "text/x-python",
   "name": "python",
   "nbconvert_exporter": "python",
   "pygments_lexer": "ipython3",
   "version": "3.9.5"
  },
  "toc": {
   "base_numbering": 1,
   "nav_menu": {},
   "number_sections": true,
   "sideBar": true,
   "skip_h1_title": true,
   "title_cell": "Table of Contents",
   "title_sidebar": "Contents",
   "toc_cell": false,
   "toc_position": {},
   "toc_section_display": true,
   "toc_window_display": true
  }
 },
 "nbformat": 4,
 "nbformat_minor": 2
}
